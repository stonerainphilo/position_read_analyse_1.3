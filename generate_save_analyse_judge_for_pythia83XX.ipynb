{
 "cells": [
  {
   "cell_type": "code",
   "execution_count": 7,
   "metadata": {},
   "outputs": [],
   "source": [
    "import sys\n",
    "sys.path.append(\"ALL_IN_ONE/Pythia8\")\n",
    "sys.path.append(\"ALL_IN_ONE/LSD\")\n",
    "sys.path.append(\"ALL_IN_ONE/FIT_FUNC\")"
   ]
  },
  {
   "cell_type": "code",
   "execution_count": 6,
   "metadata": {},
   "outputs": [],
   "source": [
    "import os\n",
    "from tqdm import tqdm\n",
    "import ALL_IN_ONE.Pythia8.loop as loop\n",
    "import ALL_IN_ONE.Pythia8.one_key_run as okr \n",
    "import ALL_IN_ONE.Pythia8.run_save as rs\n",
    "import ALL_IN_ONE.Pythia8.analyse_data as ad\n",
    "import ALL_IN_ONE.Pythia8.detection as detection\n",
    "# from detection import detect_percise_and_combine, detect_r_and_combine\n",
    "# from analyse_data import see_ctau_2, print_max_min_log10_sin_theta_2"
   ]
  },
  {
   "cell_type": "markdown",
   "metadata": {},
   "source": [
    "### This Func is made for FUTURE USE aimmed to speed up our simulations(Whose speed is Not Satisfying a right now(2024.11.17)). \n",
    "\n",
    "### But it is not usable now"
   ]
  },
  {
   "cell_type": "code",
   "execution_count": null,
   "metadata": {},
   "outputs": [],
   "source": [
    "# from joblib import Parallel, delayed\n",
    "\n",
    "# def worker(seed):\n",
    "#     LLP_data_path = loop_mass_ctau_given_by_csv_multi(csv_file, br, seed, out_put_path, main41_path)\n",
    "#     print('The Generation of LLPs is Completed')\n",
    "#     completed_data_dir = detect_folder_files_no_calcu(LLP_data_path)[1]\n",
    "#     print('The LLPs are Judged whether they are Detected or not')\n",
    "#     final_files = combine_files_precise(completed_data_dir)\n",
    "#     print('The Final Step is Over, See the .csv files for LLPs Completed Data')\n",
    "#     return LLP_data_path, completed_data_dir, final_files\n",
    "\n",
    "# def one_key_run_mass_ctau_given_by_csv_multi(csv_file, br, seed_array, out_put_path, main41_path):\n",
    "#     results = Parallel(n_jobs=5)(delayed(worker)(seed) for seed in seed_array)\n",
    "#     return results\n"
   ]
  },
  {
   "cell_type": "markdown",
   "metadata": {},
   "source": [
    "## Attention:  \n",
    "\n",
    "## The Units are CM and GEV"
   ]
  },
  {
   "cell_type": "markdown",
   "metadata": {},
   "source": [
    "### The 'one_key_run_XXX' functions are all you need to use.\n",
    "\n"
   ]
  },
  {
   "cell_type": "markdown",
   "metadata": {},
   "source": [
    "### Setting Parameters"
   ]
  },
  {
   "cell_type": "code",
   "execution_count": 8,
   "metadata": {},
   "outputs": [],
   "source": [
    "c_mm = (3*10**5) # tau0's unit is mm/c, to convert the ultimate decay postion,\n",
    "                            # we need to do sth to the ctau_typed_in \n",
    "\n",
    "br_lowerlim = -20 #ctau and br are in logspace\n",
    "br_upperlim = -20\n",
    "br_amount = 1\n",
    "ctau_lowerlim = 1\n",
    "ctau_upperlim = 30\n",
    "ctau_amount = 50\n",
    "mass = 1\n",
    "seed_amount = 5\n",
    "seed_array = (357993, 1234) #Pythia8 simulation seed\n",
    "\n",
    "mass_lower_lim = 0.1 # Mass in in linspace\n",
    "mass_upper_lim = 4\n",
    "mass_amount = 20\n",
    "br = 1"
   ]
  },
  {
   "cell_type": "markdown",
   "metadata": {},
   "source": [
    "#### Same as before:  \n",
    "\n",
    "##### The function \n",
    "```python\n",
    "    one_key_run_mass_ctau_simple_ver() #Function to run an pythia8 program\n",
    "```\n",
    "\n",
    "takes \n",
    "\n",
    "```\n",
    "br's lower / upper lim (10^x), br's amount, \n",
    "\n",
    "ctau's lower / upper lim (10^x), ctau's amount, \n",
    "\n",
    "mass, \n",
    "\n",
    "seed's amount, \n",
    "\n",
    "the Output folder's path, \n",
    "\n",
    "main41.cc's dir path\n",
    "```\n",
    "as input.\n",
    "\n",
    "The Output is LOTS OF ```.csv``` Files with LLPs' Properties \n",
    "\n",
    "```\n",
    "    Momentum in GeV, \n",
    "    \n",
    "    lifetime(ctau or tau) in mm/C, \n",
    "\n",
    "    decay_postion in mm, mass in GeV \n",
    "\n",
    "    and so on\n",
    "```\n",
    "\n",
    "The path's format is listed below, you can change them directly to your real path to run the function"
   ]
  },
  {
   "cell_type": "code",
   "execution_count": 9,
   "metadata": {},
   "outputs": [],
   "source": [
    "main41_path = '/Users/shiyuzhe/Documents/University/LLP/Second_Term/pythia8/examples/'\n",
    "# For Pythia8.31, main41 is now main131 but the path remains the same\n",
    "out_path = '/Users/shiyuzhe/Documents/University/LLP/Second_Term/pythia8/BtoKa/Code/position_read_analyse_1.3/LLP_data_for_test/'"
   ]
  },
  {
   "cell_type": "markdown",
   "metadata": {},
   "source": [
    "#### New Function info:\n",
    "\n",
    "The function\n",
    "```python\n",
    "    def one_key_run_mass_ctau_br_given_by_csv_main131(csv_file, br, seed_amount, out_path, main41_path)\n",
    "```\n",
    "\n",
    "takes a ```.csv file``` as input instead of the range of ```mass```, ```tau```, ```Br_XX```and etc. \n",
    "\n",
    "The function will read each line of ```.csv file``` to get `LLP's DATA Range`, ALONG WITH ```ALL THE Branching Ratio of OUR LLP``` and put this set of data into pythia8. \n",
    "\n",
    "Pythia8 will do the simulation, then output .csv file to the ``` out_path``` folder."
   ]
  },
  {
   "cell_type": "code",
   "execution_count": 10,
   "metadata": {},
   "outputs": [
    {
     "name": "stderr",
     "output_type": "stream",
     "text": [
      "  1%|          | 1/101 [00:07<12:21,  7.41s/it]\n"
     ]
    },
    {
     "ename": "KeyboardInterrupt",
     "evalue": "",
     "output_type": "error",
     "traceback": [
      "\u001b[0;31m---------------------------------------------------------------------------\u001b[0m",
      "\u001b[0;31mKeyboardInterrupt\u001b[0m                         Traceback (most recent call last)",
      "Cell \u001b[0;32mIn[10], line 3\u001b[0m\n\u001b[1;32m      1\u001b[0m csv_file \u001b[38;5;241m=\u001b[39m \u001b[38;5;124m'\u001b[39m\u001b[38;5;124m/Users/shiyuzhe/Documents/University/LLP/Second_Term/pythia8/BtoKa/Code/position_read_analyse_1.3/test_m_1theta.csv\u001b[39m\u001b[38;5;124m'\u001b[39m\n\u001b[1;32m      2\u001b[0m \u001b[38;5;66;03m# test_for_mass_1 = okr.one_key_run_mass_ctau_br_given_by_csv_main131(csv_file, 1, 1, out_path, main41_path)\u001b[39;00m\n\u001b[0;32m----> 3\u001b[0m test_for_mass_1 \u001b[38;5;241m=\u001b[39m \u001b[43mokr\u001b[49m\u001b[38;5;241;43m.\u001b[39;49m\u001b[43mone_key_run_mass_ctau_br_given_by_csv\u001b[49m\u001b[43m(\u001b[49m\u001b[43mcsv_file\u001b[49m\u001b[43m,\u001b[49m\u001b[43m \u001b[49m\u001b[38;5;241;43m1\u001b[39;49m\u001b[43m,\u001b[49m\u001b[43m \u001b[49m\u001b[38;5;241;43m1\u001b[39;49m\u001b[43m,\u001b[49m\u001b[43m \u001b[49m\u001b[43mout_path\u001b[49m\u001b[43m,\u001b[49m\u001b[43m \u001b[49m\u001b[43mmain41_path\u001b[49m\u001b[43m)\u001b[49m\n",
      "File \u001b[0;32m~/Documents/University/LLP/Second_Term/pythia8/BtoKa/Code/position_read_analyse_1.3/ALL_IN_ONE/Pythia8/one_key_run.py:141\u001b[0m, in \u001b[0;36mone_key_run_mass_ctau_br_given_by_csv\u001b[0;34m(csv_file, br, seed_array, out_put_path, main41_path)\u001b[0m\n\u001b[1;32m    140\u001b[0m \u001b[38;5;28;01mdef\u001b[39;00m \u001b[38;5;21mone_key_run_mass_ctau_br_given_by_csv\u001b[39m(csv_file, br, seed_array, out_put_path, main41_path):\n\u001b[0;32m--> 141\u001b[0m     LLP_data_path \u001b[38;5;241m=\u001b[39m \u001b[43mloop_mass_ctau_br_given_by_csv\u001b[49m\u001b[43m(\u001b[49m\u001b[43mcsv_file\u001b[49m\u001b[43m,\u001b[49m\u001b[43m \u001b[49m\u001b[43mbr\u001b[49m\u001b[43m,\u001b[49m\u001b[43m \u001b[49m\u001b[43mseed_array\u001b[49m\u001b[43m,\u001b[49m\u001b[43m \u001b[49m\u001b[43mout_put_path\u001b[49m\u001b[43m,\u001b[49m\u001b[43m \u001b[49m\u001b[43mmain41_path\u001b[49m\u001b[43m)\u001b[49m\n\u001b[1;32m    142\u001b[0m     \u001b[38;5;28mprint\u001b[39m(\u001b[38;5;124m'\u001b[39m\u001b[38;5;124mThe Generation of LLPs is Completed\u001b[39m\u001b[38;5;124m'\u001b[39m)\n\u001b[1;32m    143\u001b[0m     completed_data_dir \u001b[38;5;241m=\u001b[39m detect_folder_files_no_calcu(LLP_data_path)[\u001b[38;5;241m1\u001b[39m]\n",
      "File \u001b[0;32m~/Documents/University/LLP/Second_Term/pythia8/BtoKa/Code/position_read_analyse_1.3/ALL_IN_ONE/Pythia8/loop.py:89\u001b[0m, in \u001b[0;36mloop_mass_ctau_br_given_by_csv\u001b[0;34m(csv_file, br, seed_amount, out_put_path, main41_path)\u001b[0m\n\u001b[1;32m     85\u001b[0m     \u001b[38;5;28;01mfor\u001b[39;00m seed \u001b[38;5;129;01min\u001b[39;00m generate_randomseed(seed_amount):\n\u001b[1;32m     86\u001b[0m         \u001b[38;5;28;01mfor\u001b[39;00m mH, taus, Br_Hee, Br_HKK, Br_HPIPI, Br_Htautau, Br_HGluon,Br_Hmumu, Br_Hgaga, Br_H4Pi, Br_Hss, Br_Hcc, theta, Decay_Width_Total \u001b[38;5;129;01min\u001b[39;00m \u001b[38;5;28mzip\u001b[39m(df[\u001b[38;5;124m'\u001b[39m\u001b[38;5;124mmH\u001b[39m\u001b[38;5;124m'\u001b[39m], df[\u001b[38;5;124m'\u001b[39m\u001b[38;5;124mltime\u001b[39m\u001b[38;5;124m'\u001b[39m],\n\u001b[1;32m     87\u001b[0m                                                                                                                          df[\u001b[38;5;124m'\u001b[39m\u001b[38;5;124mBr_Hee\u001b[39m\u001b[38;5;124m'\u001b[39m], df[\u001b[38;5;124m'\u001b[39m\u001b[38;5;124mBr_HKK\u001b[39m\u001b[38;5;124m'\u001b[39m], df[\u001b[38;5;124m'\u001b[39m\u001b[38;5;124mBr_HPiPi\u001b[39m\u001b[38;5;124m'\u001b[39m], df[\u001b[38;5;124m'\u001b[39m\u001b[38;5;124mBr_Htautau\u001b[39m\u001b[38;5;124m'\u001b[39m], df[\u001b[38;5;124m'\u001b[39m\u001b[38;5;124mBr_HGluon\u001b[39m\u001b[38;5;124m'\u001b[39m],\n\u001b[1;32m     88\u001b[0m                                                                                                                          df[\u001b[38;5;124m'\u001b[39m\u001b[38;5;124mBr_Hmumu\u001b[39m\u001b[38;5;124m'\u001b[39m], df[\u001b[38;5;124m'\u001b[39m\u001b[38;5;124mBr_Hgaga\u001b[39m\u001b[38;5;124m'\u001b[39m], df[\u001b[38;5;124m'\u001b[39m\u001b[38;5;124mBr_H4Pi\u001b[39m\u001b[38;5;124m'\u001b[39m], df[\u001b[38;5;124m'\u001b[39m\u001b[38;5;124mBr_Hss\u001b[39m\u001b[38;5;124m'\u001b[39m], df[\u001b[38;5;124m'\u001b[39m\u001b[38;5;124mBr_Hcc\u001b[39m\u001b[38;5;124m'\u001b[39m], df[\u001b[38;5;124m'\u001b[39m\u001b[38;5;124mtheta\u001b[39m\u001b[38;5;124m'\u001b[39m], df[\u001b[38;5;124m'\u001b[39m\u001b[38;5;124mDecay_width_total\u001b[39m\u001b[38;5;124m'\u001b[39m]):\n\u001b[0;32m---> 89\u001b[0m             out_put_name_LLP_data \u001b[38;5;241m=\u001b[39m \u001b[43mrun_save_main41_csv_all_br\u001b[49m\u001b[43m(\u001b[49m\u001b[43mmH\u001b[49m\u001b[43m,\u001b[49m\u001b[43m \u001b[49m\u001b[43mseed\u001b[49m\u001b[43m,\u001b[49m\u001b[43m \u001b[49m\u001b[43mbr\u001b[49m\u001b[43m,\u001b[49m\u001b[43m \u001b[49m\u001b[43mtaus\u001b[49m\u001b[43m,\u001b[49m\u001b[43m \u001b[49m\u001b[43mout_put_path\u001b[49m\u001b[43m,\u001b[49m\u001b[43m \u001b[49m\u001b[43mmain41_path\u001b[49m\u001b[43m,\u001b[49m\u001b[43m \u001b[49m\u001b[43mBr_Hee\u001b[49m\u001b[43m,\u001b[49m\u001b[43m \u001b[49m\u001b[43mBr_HKK\u001b[49m\u001b[43m,\u001b[49m\u001b[43m \u001b[49m\u001b[43mBr_HPIPI\u001b[49m\u001b[43m,\u001b[49m\u001b[43m \u001b[49m\u001b[43mBr_Htautau\u001b[49m\u001b[43m,\u001b[49m\u001b[43m \u001b[49m\u001b[43mBr_HGluon\u001b[49m\u001b[43m,\u001b[49m\u001b[43mBr_Hmumu\u001b[49m\u001b[43m,\u001b[49m\u001b[43m \u001b[49m\u001b[43mBr_Hgaga\u001b[49m\u001b[43m,\u001b[49m\u001b[43m \u001b[49m\u001b[43mBr_H4Pi\u001b[49m\u001b[43m,\u001b[49m\u001b[43m \u001b[49m\u001b[43mBr_Hss\u001b[49m\u001b[43m,\u001b[49m\u001b[43m \u001b[49m\u001b[43mBr_Hcc\u001b[49m\u001b[43m,\u001b[49m\u001b[43m \u001b[49m\u001b[43mtheta\u001b[49m\u001b[43m,\u001b[49m\u001b[43m \u001b[49m\u001b[43mDecay_Width_Total\u001b[49m\u001b[43m)\u001b[49m[\u001b[38;5;241m0\u001b[39m]\n\u001b[1;32m     91\u001b[0m             pbar\u001b[38;5;241m.\u001b[39mupdate(\u001b[38;5;241m1\u001b[39m)\n\u001b[1;32m     92\u001b[0m out_dir_name \u001b[38;5;241m=\u001b[39m os\u001b[38;5;241m.\u001b[39mpath\u001b[38;5;241m.\u001b[39mdirname(out_put_name_LLP_data)\n",
      "File \u001b[0;32m~/Documents/University/LLP/Second_Term/pythia8/BtoKa/Code/position_read_analyse_1.3/ALL_IN_ONE/Pythia8/run_save.py:190\u001b[0m, in \u001b[0;36mrun_save_main41_csv_all_br\u001b[0;34m(m, seed, Br, tau, out_path, main_41_path, Br_Hee, Br_HKK, Br_HPIPI, Br_Htautau, Br_HGluon, Br_Hmumu, Br_Hgaga, Br_H4Pi, Br_Hss, Br_Hcc, theta, Decay_width_total)\u001b[0m\n\u001b[1;32m    188\u001b[0m filename \u001b[38;5;241m=\u001b[39m \u001b[38;5;124m\"\u001b[39m\u001b[38;5;124mfiltered_mass_\u001b[39m\u001b[38;5;124m\"\u001b[39m \u001b[38;5;241m+\u001b[39m mass \u001b[38;5;241m+\u001b[39m \u001b[38;5;124m\"\u001b[39m\u001b[38;5;124m_ctau_\u001b[39m\u001b[38;5;124m\"\u001b[39m \u001b[38;5;241m+\u001b[39m tau_str \u001b[38;5;241m+\u001b[39m \u001b[38;5;124m\"\u001b[39m\u001b[38;5;124m_br_\u001b[39m\u001b[38;5;124m\"\u001b[39m \u001b[38;5;241m+\u001b[39m Br_str \u001b[38;5;241m+\u001b[39m \u001b[38;5;124m\"\u001b[39m\u001b[38;5;124m_seed_\u001b[39m\u001b[38;5;124m\"\u001b[39m \u001b[38;5;241m+\u001b[39m random_seed \u001b[38;5;241m+\u001b[39m \u001b[38;5;124m\"\u001b[39m\u001b[38;5;124m.csv\u001b[39m\u001b[38;5;124m\"\u001b[39m\n\u001b[1;32m    189\u001b[0m \u001b[38;5;66;03m# get error if any\u001b[39;00m\n\u001b[0;32m--> 190\u001b[0m output, error \u001b[38;5;241m=\u001b[39m \u001b[43mprocess1\u001b[49m\u001b[38;5;241;43m.\u001b[39;49m\u001b[43mcommunicate\u001b[49m\u001b[43m(\u001b[49m\u001b[43m)\u001b[49m\n\u001b[1;32m    192\u001b[0m \u001b[38;5;66;03m# save to txt\u001b[39;00m\n\u001b[1;32m    193\u001b[0m out_path \u001b[38;5;241m=\u001b[39m out_dir\u001b[38;5;241m+\u001b[39mfilename\n",
      "File \u001b[0;32m/Library/Frameworks/Python.framework/Versions/3.10/lib/python3.10/subprocess.py:1141\u001b[0m, in \u001b[0;36mPopen.communicate\u001b[0;34m(self, input, timeout)\u001b[0m\n\u001b[1;32m   1139\u001b[0m     \u001b[38;5;28mself\u001b[39m\u001b[38;5;241m.\u001b[39m_stdin_write(\u001b[38;5;28minput\u001b[39m)\n\u001b[1;32m   1140\u001b[0m \u001b[38;5;28;01melif\u001b[39;00m \u001b[38;5;28mself\u001b[39m\u001b[38;5;241m.\u001b[39mstdout:\n\u001b[0;32m-> 1141\u001b[0m     stdout \u001b[38;5;241m=\u001b[39m \u001b[38;5;28;43mself\u001b[39;49m\u001b[38;5;241;43m.\u001b[39;49m\u001b[43mstdout\u001b[49m\u001b[38;5;241;43m.\u001b[39;49m\u001b[43mread\u001b[49m\u001b[43m(\u001b[49m\u001b[43m)\u001b[49m\n\u001b[1;32m   1142\u001b[0m     \u001b[38;5;28mself\u001b[39m\u001b[38;5;241m.\u001b[39mstdout\u001b[38;5;241m.\u001b[39mclose()\n\u001b[1;32m   1143\u001b[0m \u001b[38;5;28;01melif\u001b[39;00m \u001b[38;5;28mself\u001b[39m\u001b[38;5;241m.\u001b[39mstderr:\n",
      "\u001b[0;31mKeyboardInterrupt\u001b[0m: "
     ]
    }
   ],
   "source": [
    "csv_file = '/Users/shiyuzhe/Documents/University/LLP/Second_Term/pythia8/BtoKa/Code/position_read_analyse_1.3/test_m_1theta.csv'\n",
    "test_for_mass_1 = okr.one_key_run_mass_ctau_br_given_by_csv_main131(csv_file, 1, 1, out_path, main41_path)\n",
    "# test_for_mass_1 = okr.one_key_run_mass_ctau_br_given_by_csv(csv_file, 1, 1, out_path, main41_path)"
   ]
  },
  {
   "cell_type": "markdown",
   "metadata": {},
   "source": [
    "#### To read the data\n",
    "\n",
    "Now that you have done the simulation via pythia8, the output .csv files should be in your `output` folder. \n",
    "\n",
    "Below the folder, the file is sorted and filed by `date of the simulation`, so there will be a new folder like `2025-03-07`. In that `date folder`, there will be two folders, named`LLP_data`(store the orginal data), and `Completed_llp_data_precise` (store the detective data). \n",
    "\n",
    "AND THERE IS A `.csv` FILE, which is named like `2025-03-07_detected_combined_precise_file.csv`, it contains ONLY the LLPs can be DETECTED by CODEX-b."
   ]
  },
  {
   "cell_type": "code",
   "execution_count": 4,
   "metadata": {},
   "outputs": [
    {
     "name": "stdout",
     "output_type": "stream",
     "text": [
      "(-10.200000256677525, -12.400000474218762)\n"
     ]
    }
   ],
   "source": [
    "print(ad.print_max_min_log10_sin_theta_2('/Users/shiyuzhe/Documents/University/LLP/Second_Term/pythia8/BtoKa/Code/position_read_analyse_1.3/LLP_data_for_test/2025-2-16/2025-2-16_detected_combined_precise_file.csv'))"
   ]
  },
  {
   "cell_type": "code",
   "execution_count": 10,
   "metadata": {},
   "outputs": [
    {
     "name": "stdout",
     "output_type": "stream",
     "text": [
      "/Users/shiyuzhe/Documents/University/LLP/Second_Term/pythia8/BtoKa/Code/position_read_analyse_1.3/LLP_data_for_test/2024-12-07/2024-12-07_detected_combined_precise_file.csv\n"
     ]
    }
   ],
   "source": [
    "print(test_for_mass_1[2][1])"
   ]
  },
  {
   "cell_type": "markdown",
   "metadata": {},
   "source": [
    "### The Detect Function\n",
    "\n",
    "Functions::::\n",
    "```python\n",
    "def detect_r_and_combine(LLP_data_path) \n",
    "\n",
    "def detect_precise_and_combine(LLP_data_path)\n",
    "```\n",
    "\n",
    "Are functions to combine '''.csv files''' and judge whether LLP can be detected by CODEX-b or not\n",
    "\n",
    "They will creat a ```.csv file``` at the dir of your LLP, which contains ALL DETECTED LLPS.\n",
    "\n",
    "The function::::\n",
    "```python \n",
    "def detect_r_and_combine(LLP_data_path)\n",
    "```\n",
    " is merely a test function. You can play with it to get more data, but DO NOT use it for real analyzation"
   ]
  },
  {
   "cell_type": "code",
   "execution_count": 3,
   "metadata": {},
   "outputs": [],
   "source": [
    "LLP_data_path = '/Users/shiyuzhe/Documents/University/LLP/Second_Term/pythia8/BtoKa/Code/position_read_analyse_1.3/LLP_data_for_test/2024-12-16/LLP_data/'\n",
    "detected_r = '/Users/shiyuzhe/Documents/University/LLP/Second_Term/pythia8/BtoKa/Code/position_read_analyse_1.3/LLP_data_for_test/2024-11-18_19/'"
   ]
  },
  {
   "cell_type": "code",
   "execution_count": null,
   "metadata": {},
   "outputs": [
    {
     "name": "stderr",
     "output_type": "stream",
     "text": [
      "100%|██████████| 155/155 [00:19<00:00,  7.99it/s]\n"
     ]
    },
    {
     "name": "stdout",
     "output_type": "stream",
     "text": [
      "The LLPs are Judged whether they are Detected or not by r\n"
     ]
    },
    {
     "name": "stderr",
     "output_type": "stream",
     "text": [
      "100%|██████████| 155/155 [00:03<00:00, 48.83it/s]\n"
     ]
    },
    {
     "name": "stdout",
     "output_type": "stream",
     "text": [
      "The Final Step is Over, See the .csv files for LLPs Completed Data\n"
     ]
    },
    {
     "data": {
      "text/plain": [
       "('/Users/shiyuzhe/Documents/University/LLP/Second_Term/pythia8/BtoKa/Code/position_read_analyse_1.3/LLP_data_for_test/2024-11-19/Completed_llp_data',\n",
       " ('/Users/shiyuzhe/Documents/University/LLP/Second_Term/pythia8/BtoKa/Code/position_read_analyse_1.3/LLP_data_for_test/2024-11-19/2024-11-19_all_combined_r_file.csv',\n",
       "  '/Users/shiyuzhe/Documents/University/LLP/Second_Term/pythia8/BtoKa/Code/position_read_analyse_1.3/LLP_data_for_test/2024-11-19/2024-11-19_detected_combined_r_file.csv'))"
      ]
     },
     "execution_count": 47,
     "metadata": {},
     "output_type": "execute_result"
    }
   ],
   "source": [
    "detect_r_and_combine(LLP_data_path)"
   ]
  },
  {
   "cell_type": "code",
   "execution_count": 4,
   "metadata": {},
   "outputs": [
    {
     "name": "stderr",
     "output_type": "stream",
     "text": [
      "100%|██████████| 1012/1012 [01:09<00:00, 14.57it/s]\n"
     ]
    },
    {
     "name": "stdout",
     "output_type": "stream",
     "text": [
      "The LLPs are Judged whether they are Detected or not\n"
     ]
    },
    {
     "name": "stderr",
     "output_type": "stream",
     "text": [
      "100%|██████████| 1012/1012 [00:11<00:00, 87.32it/s]"
     ]
    },
    {
     "name": "stdout",
     "output_type": "stream",
     "text": [
      "The Final Step is Over, See the .csv files for LLPs Completed Data\n"
     ]
    },
    {
     "name": "stderr",
     "output_type": "stream",
     "text": [
      "\n"
     ]
    },
    {
     "data": {
      "text/plain": [
       "('/Users/shiyuzhe/Documents/University/LLP/Second_Term/pythia8/BtoKa/Code/position_read_analyse_1.3/LLP_data_for_test/2024-12-16/Completed_llp_data_precise',\n",
       " ('/Users/shiyuzhe/Documents/University/LLP/Second_Term/pythia8/BtoKa/Code/position_read_analyse_1.3/LLP_data_for_test/2024-12-16/2024-12-16_all_combined_precise_file.csv',\n",
       "  '/Users/shiyuzhe/Documents/University/LLP/Second_Term/pythia8/BtoKa/Code/position_read_analyse_1.3/LLP_data_for_test/2024-12-16/2024-12-16_detected_combined_precise_file.csv'))"
      ]
     },
     "execution_count": 4,
     "metadata": {},
     "output_type": "execute_result"
    }
   ],
   "source": [
    "\n",
    "detect_percise_and_combine(LLP_data_path)\n"
   ]
  }
 ],
 "metadata": {
  "kernelspec": {
   "display_name": "Python 3",
   "language": "python",
   "name": "python3"
  },
  "language_info": {
   "codemirror_mode": {
    "name": "ipython",
    "version": 3
   },
   "file_extension": ".py",
   "mimetype": "text/x-python",
   "name": "python",
   "nbconvert_exporter": "python",
   "pygments_lexer": "ipython3",
   "version": "3.10.11"
  }
 },
 "nbformat": 4,
 "nbformat_minor": 2
}
