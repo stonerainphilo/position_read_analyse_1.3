{
 "cells": [
  {
   "cell_type": "code",
   "execution_count": 2,
   "metadata": {},
   "outputs": [],
   "source": [
    "import sys\n",
    "sys.path.append(\"Pythia8\")\n",
    "sys.path.append(\"LSD\")\n",
    "sys.path.append(\"FIT_FUNC\")"
   ]
  },
  {
   "cell_type": "code",
   "execution_count": 3,
   "metadata": {},
   "outputs": [],
   "source": [
    "import numpy as np\n",
    "import matplotlib.pyplot as plt\n",
    "# from mpl_toolkits.mplot3d import Axes3D\n",
    "import pandas as pd\n",
    "from tqdm import tqdm\n",
    "# from scipy.optimize import curve_fit\n",
    "# import mplhep as hep\n",
    "import os\n",
    "# from sklearn.model_selection import train_test_split \n",
    "# from sklearn.linear_model import LinearRegression\n",
    "# from sklearn import metrics\n",
    "# import numpy as np\n",
    "# import matplotlib.tri as tri\n",
    "# import matplotlib.scale as mscale\n",
    "# import matplotlib.transforms as mtransforms\n",
    "# from matplotlib.ticker import FuncFormatter, LogLocator, MultipleLocator\n"
   ]
  },
  {
   "cell_type": "code",
   "execution_count": 4,
   "metadata": {},
   "outputs": [],
   "source": [
    "from Pythia8.one_key_run import one_key_run_mass_ctau_br_given_by_csv\n",
    "from FIT_FUNC.fit_2D import mH_k_b_fit_linear_check\n",
    "from FIT_FUNC.fit_func import fit_linear\n",
    "from FIT_FUNC.calcu_theta import calcu_log_10_theta_by_mass_ln_tau_by_csv\n",
    "from FIT_FUNC.Basic_calcu import weighted_average, calc_weight\n"
   ]
  },
  {
   "cell_type": "code",
   "execution_count": 5,
   "metadata": {},
   "outputs": [],
   "source": [
    "from FIT_FUNC.fit_2D import mH_theta_log10_tau_ln_2D_function_fit, mH_k_b_fit_linear_check\n",
    "# filename = 'all_DATA_H_rough.csv'\n",
    "# df = mH_theta_log10_tau_ln_2D_function_fit(filename)\n",
    "# df.to_csv('All_mass_k_b_rough.csv', index = False)\n",
    "# df2 = mH_k_b_fit_linear_check(filename)\n",
    "# df2.to_csv('Check_rough.csv', index = False)"
   ]
  },
  {
   "cell_type": "code",
   "execution_count": 6,
   "metadata": {},
   "outputs": [
    {
     "name": "stdout",
     "output_type": "stream",
     "text": [
      "The calculated by linear fit of theta_log10 is :\n",
      "-0.4964442948134673\n",
      "The calculated by Weighted Average of theta_log10 is :\n",
      "-0.48872256549276716\n"
     ]
    }
   ],
   "source": [
    "from FIT_FUNC.calcu_theta import calcu_log_10_theta_by_mass_ln_tau_by_csv, calcu_average_log10_theta\n",
    "tau = 2e-5\n",
    "mass = 2.05\n",
    "print(f'The calculated by linear fit of theta_log10 is :')\n",
    "print(calcu_log_10_theta_by_mass_ln_tau_by_csv(mass, np.log(tau), 'All_mass_k_b.csv'))\n",
    "print(f'The calculated by Weighted Average of theta_log10 is :')\n",
    "print(calcu_average_log10_theta(mass, tau, 'all_DATA_H_rough.csv'))"
   ]
  },
  {
   "cell_type": "code",
   "execution_count": 7,
   "metadata": {},
   "outputs": [
    {
     "name": "stderr",
     "output_type": "stream",
     "text": [
      "100%|██████████| 303/303 [32:23<00:00,  6.41s/it]\n"
     ]
    },
    {
     "name": "stdout",
     "output_type": "stream",
     "text": [
      "The Generation of LLPs is Completed\n"
     ]
    },
    {
     "name": "stderr",
     "output_type": "stream",
     "text": [
      "100%|██████████| 303/303 [00:19<00:00, 15.79it/s]\n"
     ]
    },
    {
     "name": "stdout",
     "output_type": "stream",
     "text": [
      "The LLPs are Judged whether they are Detected or not\n"
     ]
    },
    {
     "name": "stderr",
     "output_type": "stream",
     "text": [
      "100%|██████████| 303/303 [00:03<00:00, 96.94it/s] "
     ]
    },
    {
     "name": "stdout",
     "output_type": "stream",
     "text": [
      "The Final Step is Over, See the .csv files for LLPs Completed Data\n"
     ]
    },
    {
     "name": "stderr",
     "output_type": "stream",
     "text": [
      "\n"
     ]
    }
   ],
   "source": [
    "from one_key_run import one_key_run_mass_ctau_br_given_by_csv\n",
    "main41_path = '/Users/shiyuzhe/Documents/University/LLP/Second_Term/pythia8/examples/'\n",
    "out_path = '/Users/shiyuzhe/Documents/University/LLP/Second_Term/pythia8/BtoKa/Code/position_read_analyse_1.3/LLP_data_for_test/'\n",
    "csv_file = '/Users/shiyuzhe/Documents/University/LLP/Second_Term/pythia8/BtoKa/Code/position_read_analyse_1.3/test_m_1.8theta.csv'\n",
    "test_for_mass_1 = one_key_run_mass_ctau_br_given_by_csv(csv_file, 1, 3, out_path, main41_path)"
   ]
  },
  {
   "cell_type": "code",
   "execution_count": 6,
   "metadata": {},
   "outputs": [],
   "source": [
    "def sim(main41_path, out_path, csv_file):\n",
    "    csv_ = one_key_run_mass_ctau_br_given_by_csv(csv_file, 1, 1, out_path, main41_path)[2][1]\n",
    "    return csv_\n"
   ]
  },
  {
   "cell_type": "code",
   "execution_count": 8,
   "metadata": {},
   "outputs": [
    {
     "name": "stdout",
     "output_type": "stream",
     "text": [
      "19998\n"
     ]
    },
    {
     "ename": "ValueError",
     "evalue": "operands could not be broadcast together with shapes (198,) (399920004,) ",
     "output_type": "error",
     "traceback": [
      "\u001b[0;31m---------------------------------------------------------------------------\u001b[0m",
      "\u001b[0;31mValueError\u001b[0m                                Traceback (most recent call last)",
      "Cell \u001b[0;32mIn[8], line 17\u001b[0m\n\u001b[1;32m     15\u001b[0m tau_ln_test \u001b[38;5;241m=\u001b[39m np\u001b[38;5;241m.\u001b[39mlogspace(tau_ln_bottom, tau_ln_up, length, base \u001b[38;5;241m=\u001b[39m np\u001b[38;5;241m.\u001b[39me)\n\u001b[1;32m     16\u001b[0m mass_test_matrix, tau_ln_test_matrix \u001b[38;5;241m=\u001b[39m np\u001b[38;5;241m.\u001b[39mmeshgrid(mass_test, tau_ln_test)\n\u001b[0;32m---> 17\u001b[0m theta_log10_fit_linear \u001b[38;5;241m=\u001b[39m \u001b[43mcalcu_log_10_theta_by_mass_ln_tau_by_csv\u001b[49m\u001b[43m(\u001b[49m\u001b[43mmass_test_matrix\u001b[49m\u001b[38;5;241;43m.\u001b[39;49m\u001b[43mravel\u001b[49m\u001b[43m(\u001b[49m\u001b[43m)\u001b[49m\u001b[43m,\u001b[49m\u001b[43m \u001b[49m\u001b[43mtau_ln_test_matrix\u001b[49m\u001b[38;5;241;43m.\u001b[39;49m\u001b[43mravel\u001b[49m\u001b[43m(\u001b[49m\u001b[43m)\u001b[49m\u001b[43m,\u001b[49m\u001b[43m \u001b[49m\u001b[38;5;124;43m'\u001b[39;49m\u001b[38;5;124;43mAll_mass_k_b.csv\u001b[39;49m\u001b[38;5;124;43m'\u001b[39;49m\u001b[43m)\u001b[49m\n\u001b[1;32m     18\u001b[0m theta_log10_fit_average \u001b[38;5;241m=\u001b[39m calcu_average_log10_theta(mass_test_matrix\u001b[38;5;241m.\u001b[39mravel(), tau_ln_test_matrix\u001b[38;5;241m.\u001b[39mravel(), \u001b[38;5;124m'\u001b[39m\u001b[38;5;124mall_DATA_H_rough.csv\u001b[39m\u001b[38;5;124m'\u001b[39m)\n\u001b[1;32m     20\u001b[0m fig \u001b[38;5;241m=\u001b[39m plt\u001b[38;5;241m.\u001b[39mfigure(figsize\u001b[38;5;241m=\u001b[39m(\u001b[38;5;241m30\u001b[39m, \u001b[38;5;241m30\u001b[39m))\n",
      "File \u001b[0;32m~/Documents/University/LLP/Second_Term/pythia8/BtoKa/Code/position_read_analyse_1.3/ALL_IN_ONE/FIT_FUNC/calcu_theta.py:66\u001b[0m, in \u001b[0;36mcalcu_log_10_theta_by_mass_ln_tau_by_csv\u001b[0;34m(mass, tau_ln, k_b_filename)\u001b[0m\n\u001b[1;32m     64\u001b[0m df \u001b[38;5;241m=\u001b[39m pd\u001b[38;5;241m.\u001b[39mread_csv(k_b_filename)\n\u001b[1;32m     65\u001b[0m \u001b[38;5;66;03m# print('fine')\u001b[39;00m\n\u001b[0;32m---> 66\u001b[0m massssss \u001b[38;5;241m=\u001b[39m \u001b[43mclosest_two_mass_Series\u001b[49m\u001b[43m(\u001b[49m\u001b[43mmass\u001b[49m\u001b[43m,\u001b[49m\u001b[43m \u001b[49m\u001b[43mdf\u001b[49m\u001b[43m)\u001b[49m\u001b[38;5;241m.\u001b[39mvalues\n\u001b[1;32m     67\u001b[0m \u001b[38;5;66;03m# print(type(massssss))\u001b[39;00m\n\u001b[1;32m     68\u001b[0m \u001b[38;5;28;01mif\u001b[39;00m massssss[\u001b[38;5;241m2\u001b[39m] \u001b[38;5;241m==\u001b[39m \u001b[38;5;241m1\u001b[39m:\n",
      "File \u001b[0;32m~/Documents/University/LLP/Second_Term/pythia8/BtoKa/Code/position_read_analyse_1.3/ALL_IN_ONE/FIT_FUNC/calcu_theta.py:26\u001b[0m, in \u001b[0;36mclosest_two_mass_Series\u001b[0;34m(mass, df)\u001b[0m\n\u001b[1;32m     24\u001b[0m \u001b[38;5;28;01mdef\u001b[39;00m \u001b[38;5;21mclosest_two_mass_Series\u001b[39m(mass \u001b[38;5;241m=\u001b[39m \u001b[38;5;241m0.0\u001b[39m, df \u001b[38;5;241m=\u001b[39m []):\n\u001b[0;32m---> 26\u001b[0m     abs_min \u001b[38;5;241m=\u001b[39m (\u001b[43mdf\u001b[49m\u001b[43m[\u001b[49m\u001b[38;5;124;43m'\u001b[39;49m\u001b[38;5;124;43mmH\u001b[39;49m\u001b[38;5;124;43m'\u001b[39;49m\u001b[43m]\u001b[49m\u001b[43m \u001b[49m\u001b[38;5;241;43m-\u001b[39;49m\u001b[43m \u001b[49m\u001b[43mmass\u001b[49m)\u001b[38;5;241m.\u001b[39mabs()\n\u001b[1;32m     27\u001b[0m     sorted_abs_min \u001b[38;5;241m=\u001b[39m abs_min\u001b[38;5;241m.\u001b[39msort_values()\n\u001b[1;32m     28\u001b[0m     two_closest_indices \u001b[38;5;241m=\u001b[39m sorted_abs_min\u001b[38;5;241m.\u001b[39mindex[:\u001b[38;5;241m2\u001b[39m]\n",
      "File \u001b[0;32m/Library/Frameworks/Python.framework/Versions/3.10/lib/python3.10/site-packages/pandas/core/ops/common.py:76\u001b[0m, in \u001b[0;36m_unpack_zerodim_and_defer.<locals>.new_method\u001b[0;34m(self, other)\u001b[0m\n\u001b[1;32m     72\u001b[0m             \u001b[38;5;28;01mreturn\u001b[39;00m \u001b[38;5;28mNotImplemented\u001b[39m\n\u001b[1;32m     74\u001b[0m other \u001b[38;5;241m=\u001b[39m item_from_zerodim(other)\n\u001b[0;32m---> 76\u001b[0m \u001b[38;5;28;01mreturn\u001b[39;00m \u001b[43mmethod\u001b[49m\u001b[43m(\u001b[49m\u001b[38;5;28;43mself\u001b[39;49m\u001b[43m,\u001b[49m\u001b[43m \u001b[49m\u001b[43mother\u001b[49m\u001b[43m)\u001b[49m\n",
      "File \u001b[0;32m/Library/Frameworks/Python.framework/Versions/3.10/lib/python3.10/site-packages/pandas/core/arraylike.py:194\u001b[0m, in \u001b[0;36mOpsMixin.__sub__\u001b[0;34m(self, other)\u001b[0m\n\u001b[1;32m    192\u001b[0m \u001b[38;5;129m@unpack_zerodim_and_defer\u001b[39m(\u001b[38;5;124m\"\u001b[39m\u001b[38;5;124m__sub__\u001b[39m\u001b[38;5;124m\"\u001b[39m)\n\u001b[1;32m    193\u001b[0m \u001b[38;5;28;01mdef\u001b[39;00m \u001b[38;5;21m__sub__\u001b[39m(\u001b[38;5;28mself\u001b[39m, other):\n\u001b[0;32m--> 194\u001b[0m     \u001b[38;5;28;01mreturn\u001b[39;00m \u001b[38;5;28;43mself\u001b[39;49m\u001b[38;5;241;43m.\u001b[39;49m\u001b[43m_arith_method\u001b[49m\u001b[43m(\u001b[49m\u001b[43mother\u001b[49m\u001b[43m,\u001b[49m\u001b[43m \u001b[49m\u001b[43moperator\u001b[49m\u001b[38;5;241;43m.\u001b[39;49m\u001b[43msub\u001b[49m\u001b[43m)\u001b[49m\n",
      "File \u001b[0;32m/Library/Frameworks/Python.framework/Versions/3.10/lib/python3.10/site-packages/pandas/core/series.py:6135\u001b[0m, in \u001b[0;36mSeries._arith_method\u001b[0;34m(self, other, op)\u001b[0m\n\u001b[1;32m   6133\u001b[0m \u001b[38;5;28;01mdef\u001b[39;00m \u001b[38;5;21m_arith_method\u001b[39m(\u001b[38;5;28mself\u001b[39m, other, op):\n\u001b[1;32m   6134\u001b[0m     \u001b[38;5;28mself\u001b[39m, other \u001b[38;5;241m=\u001b[39m \u001b[38;5;28mself\u001b[39m\u001b[38;5;241m.\u001b[39m_align_for_op(other)\n\u001b[0;32m-> 6135\u001b[0m     \u001b[38;5;28;01mreturn\u001b[39;00m \u001b[43mbase\u001b[49m\u001b[38;5;241;43m.\u001b[39;49m\u001b[43mIndexOpsMixin\u001b[49m\u001b[38;5;241;43m.\u001b[39;49m\u001b[43m_arith_method\u001b[49m\u001b[43m(\u001b[49m\u001b[38;5;28;43mself\u001b[39;49m\u001b[43m,\u001b[49m\u001b[43m \u001b[49m\u001b[43mother\u001b[49m\u001b[43m,\u001b[49m\u001b[43m \u001b[49m\u001b[43mop\u001b[49m\u001b[43m)\u001b[49m\n",
      "File \u001b[0;32m/Library/Frameworks/Python.framework/Versions/3.10/lib/python3.10/site-packages/pandas/core/base.py:1382\u001b[0m, in \u001b[0;36mIndexOpsMixin._arith_method\u001b[0;34m(self, other, op)\u001b[0m\n\u001b[1;32m   1379\u001b[0m     rvalues \u001b[38;5;241m=\u001b[39m np\u001b[38;5;241m.\u001b[39marange(rvalues\u001b[38;5;241m.\u001b[39mstart, rvalues\u001b[38;5;241m.\u001b[39mstop, rvalues\u001b[38;5;241m.\u001b[39mstep)\n\u001b[1;32m   1381\u001b[0m \u001b[38;5;28;01mwith\u001b[39;00m np\u001b[38;5;241m.\u001b[39merrstate(\u001b[38;5;28mall\u001b[39m\u001b[38;5;241m=\u001b[39m\u001b[38;5;124m\"\u001b[39m\u001b[38;5;124mignore\u001b[39m\u001b[38;5;124m\"\u001b[39m):\n\u001b[0;32m-> 1382\u001b[0m     result \u001b[38;5;241m=\u001b[39m \u001b[43mops\u001b[49m\u001b[38;5;241;43m.\u001b[39;49m\u001b[43marithmetic_op\u001b[49m\u001b[43m(\u001b[49m\u001b[43mlvalues\u001b[49m\u001b[43m,\u001b[49m\u001b[43m \u001b[49m\u001b[43mrvalues\u001b[49m\u001b[43m,\u001b[49m\u001b[43m \u001b[49m\u001b[43mop\u001b[49m\u001b[43m)\u001b[49m\n\u001b[1;32m   1384\u001b[0m \u001b[38;5;28;01mreturn\u001b[39;00m \u001b[38;5;28mself\u001b[39m\u001b[38;5;241m.\u001b[39m_construct_result(result, name\u001b[38;5;241m=\u001b[39mres_name)\n",
      "File \u001b[0;32m/Library/Frameworks/Python.framework/Versions/3.10/lib/python3.10/site-packages/pandas/core/ops/array_ops.py:283\u001b[0m, in \u001b[0;36marithmetic_op\u001b[0;34m(left, right, op)\u001b[0m\n\u001b[1;32m    279\u001b[0m     _bool_arith_check(op, left, right)  \u001b[38;5;66;03m# type: ignore[arg-type]\u001b[39;00m\n\u001b[1;32m    281\u001b[0m     \u001b[38;5;66;03m# error: Argument 1 to \"_na_arithmetic_op\" has incompatible type\u001b[39;00m\n\u001b[1;32m    282\u001b[0m     \u001b[38;5;66;03m# \"Union[ExtensionArray, ndarray[Any, Any]]\"; expected \"ndarray[Any, Any]\"\u001b[39;00m\n\u001b[0;32m--> 283\u001b[0m     res_values \u001b[38;5;241m=\u001b[39m \u001b[43m_na_arithmetic_op\u001b[49m\u001b[43m(\u001b[49m\u001b[43mleft\u001b[49m\u001b[43m,\u001b[49m\u001b[43m \u001b[49m\u001b[43mright\u001b[49m\u001b[43m,\u001b[49m\u001b[43m \u001b[49m\u001b[43mop\u001b[49m\u001b[43m)\u001b[49m  \u001b[38;5;66;03m# type: ignore[arg-type]\u001b[39;00m\n\u001b[1;32m    285\u001b[0m \u001b[38;5;28;01mreturn\u001b[39;00m res_values\n",
      "File \u001b[0;32m/Library/Frameworks/Python.framework/Versions/3.10/lib/python3.10/site-packages/pandas/core/ops/array_ops.py:218\u001b[0m, in \u001b[0;36m_na_arithmetic_op\u001b[0;34m(left, right, op, is_cmp)\u001b[0m\n\u001b[1;32m    215\u001b[0m     func \u001b[38;5;241m=\u001b[39m partial(expressions\u001b[38;5;241m.\u001b[39mevaluate, op)\n\u001b[1;32m    217\u001b[0m \u001b[38;5;28;01mtry\u001b[39;00m:\n\u001b[0;32m--> 218\u001b[0m     result \u001b[38;5;241m=\u001b[39m \u001b[43mfunc\u001b[49m\u001b[43m(\u001b[49m\u001b[43mleft\u001b[49m\u001b[43m,\u001b[49m\u001b[43m \u001b[49m\u001b[43mright\u001b[49m\u001b[43m)\u001b[49m\n\u001b[1;32m    219\u001b[0m \u001b[38;5;28;01mexcept\u001b[39;00m \u001b[38;5;167;01mTypeError\u001b[39;00m:\n\u001b[1;32m    220\u001b[0m     \u001b[38;5;28;01mif\u001b[39;00m \u001b[38;5;129;01mnot\u001b[39;00m is_cmp \u001b[38;5;129;01mand\u001b[39;00m (\n\u001b[1;32m    221\u001b[0m         left\u001b[38;5;241m.\u001b[39mdtype \u001b[38;5;241m==\u001b[39m \u001b[38;5;28mobject\u001b[39m \u001b[38;5;129;01mor\u001b[39;00m \u001b[38;5;28mgetattr\u001b[39m(right, \u001b[38;5;124m\"\u001b[39m\u001b[38;5;124mdtype\u001b[39m\u001b[38;5;124m\"\u001b[39m, \u001b[38;5;28;01mNone\u001b[39;00m) \u001b[38;5;241m==\u001b[39m \u001b[38;5;28mobject\u001b[39m\n\u001b[1;32m    222\u001b[0m     ):\n\u001b[0;32m   (...)\u001b[0m\n\u001b[1;32m    225\u001b[0m         \u001b[38;5;66;03m# Don't do this for comparisons, as that will handle complex numbers\u001b[39;00m\n\u001b[1;32m    226\u001b[0m         \u001b[38;5;66;03m#  incorrectly, see GH#32047\u001b[39;00m\n",
      "File \u001b[0;32m/Library/Frameworks/Python.framework/Versions/3.10/lib/python3.10/site-packages/pandas/core/computation/expressions.py:242\u001b[0m, in \u001b[0;36mevaluate\u001b[0;34m(op, a, b, use_numexpr)\u001b[0m\n\u001b[1;32m    239\u001b[0m \u001b[38;5;28;01mif\u001b[39;00m op_str \u001b[38;5;129;01mis\u001b[39;00m \u001b[38;5;129;01mnot\u001b[39;00m \u001b[38;5;28;01mNone\u001b[39;00m:\n\u001b[1;32m    240\u001b[0m     \u001b[38;5;28;01mif\u001b[39;00m use_numexpr:\n\u001b[1;32m    241\u001b[0m         \u001b[38;5;66;03m# error: \"None\" not callable\u001b[39;00m\n\u001b[0;32m--> 242\u001b[0m         \u001b[38;5;28;01mreturn\u001b[39;00m \u001b[43m_evaluate\u001b[49m\u001b[43m(\u001b[49m\u001b[43mop\u001b[49m\u001b[43m,\u001b[49m\u001b[43m \u001b[49m\u001b[43mop_str\u001b[49m\u001b[43m,\u001b[49m\u001b[43m \u001b[49m\u001b[43ma\u001b[49m\u001b[43m,\u001b[49m\u001b[43m \u001b[49m\u001b[43mb\u001b[49m\u001b[43m)\u001b[49m  \u001b[38;5;66;03m# type: ignore[misc]\u001b[39;00m\n\u001b[1;32m    243\u001b[0m \u001b[38;5;28;01mreturn\u001b[39;00m _evaluate_standard(op, op_str, a, b)\n",
      "File \u001b[0;32m/Library/Frameworks/Python.framework/Versions/3.10/lib/python3.10/site-packages/pandas/core/computation/expressions.py:73\u001b[0m, in \u001b[0;36m_evaluate_standard\u001b[0;34m(op, op_str, a, b)\u001b[0m\n\u001b[1;32m     71\u001b[0m \u001b[38;5;28;01mif\u001b[39;00m _TEST_MODE:\n\u001b[1;32m     72\u001b[0m     _store_test_result(\u001b[38;5;28;01mFalse\u001b[39;00m)\n\u001b[0;32m---> 73\u001b[0m \u001b[38;5;28;01mreturn\u001b[39;00m \u001b[43mop\u001b[49m\u001b[43m(\u001b[49m\u001b[43ma\u001b[49m\u001b[43m,\u001b[49m\u001b[43m \u001b[49m\u001b[43mb\u001b[49m\u001b[43m)\u001b[49m\n",
      "\u001b[0;31mValueError\u001b[0m: operands could not be broadcast together with shapes (198,) (399920004,) "
     ]
    }
   ],
   "source": [
    "df = pd.read_csv('/Users/shiyuzhe/Documents/University/LLP/Second_Term/pythia8/BtoKa/Code/position_read_analyse_1.3/ALL_IN_ONE/all_DATA_H.csv')\n",
    "mass = df['mH']\n",
    "tau_ln = np.log(df['ltime'])\n",
    "theta_log10 = np.log(df['theta'])/np.log(10)\n",
    "\n",
    "length = len(tau_ln)\n",
    "# print(length)\n",
    "mass_up = max(mass)\n",
    "mass_bottom = min(mass)\n",
    "tau_ln_up = max(tau_ln)\n",
    "tau_ln_bottom = min(tau_ln)\n",
    "\n",
    "mass_test = np.linspace(mass_bottom, mass_up, length)\n",
    "print(len(mass_test))\n",
    "tau_ln_test = np.logspace(tau_ln_bottom, tau_ln_up, length, base = np.e)\n",
    "mass_test_matrix, tau_ln_test_matrix = np.meshgrid(mass_test, tau_ln_test)\n",
    "theta_log10_fit_linear = calcu_log_10_theta_by_mass_ln_tau_by_csv(mass_test_matrix.ravel(), tau_ln_test_matrix.ravel(), 'All_mass_k_b.csv')\n",
    "theta_log10_fit_average = calcu_average_log10_theta(mass_test_matrix.ravel(), tau_ln_test_matrix.ravel(), 'all_DATA_H_rough.csv')\n",
    "\n",
    "fig = plt.figure(figsize=(30, 30))\n",
    "\n",
    "df_linear = pd.DataFrame({\n",
    "    \"mass\": mass_test,\n",
    "    \"tau_ln\": tau_ln_test,\n",
    "    \"theta_log10_fit_linear\": theta_log10_fit_linear\n",
    "})\n",
    "df_ave = pd.DataFrame({\n",
    "    \"mass\": mass_test,\n",
    "    \"tau_ln\": tau_ln_test,\n",
    "    \"theta_log10_fit_average\": theta_log10_fit_average\n",
    "})\n",
    "df_linear.to_csv('theta_log10_fit_linear.csv')\n",
    "df_ave.to_csv('theta_log10_fit_average.csv')\n",
    "\n",
    "plt.subplot(3, 1, 1)\n",
    "ax1 = plt.gca()\n",
    "sc1 = ax1.scatter(mass, tau_ln, c=theta_log10, cmap='plasma')\n",
    "cbar1 = plt.colorbar(sc1)\n",
    "cbar1.set_label('log10(theta)')\n",
    "plt.xlabel('mass')\n",
    "plt.ylabel('ln(ltime_mm/c)')\n",
    "plt.title('Real DATA')\n",
    "\n",
    "plt.subplot(3, 1, 2)\n",
    "ax2 = plt.gca()\n",
    "sc2 = ax2.scatter(mass_test, tau_ln_test, c=theta_log10_fit_linear, cmap='plasma')\n",
    "cbar2 = plt.colorbar(sc2)\n",
    "cbar2.set_label('log10(theta)')\n",
    "plt.xlabel('mass')\n",
    "plt.ylabel('ln(ltime_mm/c)')\n",
    "plt.title('Linear Fit')\n",
    "\n",
    "plt.subplot(3, 1, 3)\n",
    "ax3 = plt.gca()\n",
    "sc3 = ax3.scatter(mass_test, tau_ln_test, c=theta_log10_fit_average, cmap='plasma')\n",
    "cbar3 = plt.colorbar(sc3)\n",
    "cbar3.set_label('log10(theta)')\n",
    "plt.xlabel('mass')\n",
    "plt.ylabel('ln(ltime_mm/c)')\n",
    "plt.title('Average Fit')\n",
    "\n",
    "plt.show()\n"
   ]
  },
  {
   "cell_type": "code",
   "execution_count": 14,
   "metadata": {},
   "outputs": [],
   "source": [
    "from FIT_FUNC.data_read import read_dataframe_single_mass\n",
    "from FIT_FUNC.fit_func import fit_tau_ln_theta_log10_single_mass_linear, fit_linear\n",
    "\n",
    "def classify_by_mass(filename):\n",
    "    df = pd.read_csv(filename)\n",
    "    grouped = df.groupby('mH')\n",
    "    #dataframes = {}\n",
    "    # for value, group in grouped:\n",
    "    #     dataframes[value] = group #\n",
    "    return grouped\n",
    "\n",
    "def mH_theta_log10_tau_ln_2D_function_fit(filename):\n",
    "    grouped_by_mH = classify_by_mass(filename)\n",
    "    df = {}\n",
    "    df_functions = pd.DataFrame()\n",
    "    for mH, group in grouped_by_mH:\n",
    "\n",
    "        df[mH] = group\n",
    "        mass, tau_ln, theta_log10 = read_dataframe_single_mass(df[mH])\n",
    "        # print(type(mass))\n",
    "        inter_, coef_, err_square_ = fit_tau_ln_theta_log10_single_mass_linear(tau_ln, theta_log10)\n",
    "        # print(type(coef_))\n",
    "        mH = pd.Series(mH)\n",
    "        inter_ = pd.Series(inter_)\n",
    "        coef_ = pd.Series(coef_)\n",
    "        err_square_ = pd.Series(err_square_)\n",
    "        names = [\"mH\",\n",
    "            \"k\",\n",
    "            \"b\",\n",
    "            \"err^2\"]\n",
    "        df_functions_ = pd.concat([mH, coef_, inter_, err_square_], axis = 1, keys = names)\n",
    "        df_functions =  df_functions._append(df_functions_, ignore_index = True)\n",
    "    return df_functions\n",
    "\n",
    "def mH_k_b_fit_linear_check(filename):\n",
    "    df_functions = mH_theta_log10_tau_ln_2D_function_fit(filename)\n",
    "    # print(fit_linear(df_functions[\"mH\"].values.reshape(-1, 1), df_functions[\"k\"].values.reshape(-1, 1)))\n",
    "    k_b, k_k, k_err = fit_linear(df_functions[\"mH\"], df_functions[\"k\"])\n",
    "    b_b, b_k, b_err = fit_linear(df_functions[\"mH\"], df_functions[\"b\"])\n",
    "    df_ = pd.DataFrame({\n",
    "        'intercep_of_m-k': [k_b],\n",
    "        'slop_of_m-k': [k_k],\n",
    "        'err_of_m-k': [k_err],\n",
    "        'intercep_of_m-b': [b_b],\n",
    "        'slop_of_m-b': [b_k],\n",
    "        'err_of_m-b': [b_err]\n",
    "    })\n",
    "    # print(fit_linear(df_functions[\"mH\"].values.reshape(-1, 1), df_functions[\"k\"].values.reshape(-1, 1)))\n",
    "\n",
    "    return df_"
   ]
  },
  {
   "cell_type": "code",
   "execution_count": null,
   "metadata": {},
   "outputs": [],
   "source": []
  },
  {
   "cell_type": "code",
   "execution_count": 24,
   "metadata": {},
   "outputs": [
    {
     "name": "stdout",
     "output_type": "stream",
     "text": [
      "-5.345929196999898\n",
      "mass is listed\n",
      "-5.345864915275314\n"
     ]
    }
   ],
   "source": [
    "def closest_two_mass_list(mass = 0.0, df = []):\n",
    "    \n",
    "    abs_min = (df['mH'] - mass).abs()\n",
    "    sorted_abs_min = abs_min.sort_values()\n",
    "    two_closest_indices = sorted_abs_min.index[:2]\n",
    "    closest_two_mass = df['mH'][two_closest_indices]\n",
    "    flag = 1 # sign for whether mass is in the data\n",
    "    if closest_two_mass.values[0] == closest_two_mass.values[1]:\n",
    "        for i in range(2, len(sorted_abs_min)):\n",
    "            next_closest_index = sorted_abs_min.index[i]\n",
    "            if df['mH'][next_closest_index] != mass:\n",
    "                closest_two_mass = [closest_two_mass.values[0], df['mH'][next_closest_index]]\n",
    "                break\n",
    "        flag = 0\n",
    "    # print(type(closest_two_mass))\n",
    "    closest_two_mass.insert(2, flag)\n",
    "    # closest_two_mass = pd.concat([closest_two_mass, pd.Series([flag])])\n",
    "    # print(closest_two_mass)\n",
    "    return closest_two_mass\n",
    "\n",
    "def closest_two_mass_Series(mass = 0.0, df = []):\n",
    "    \n",
    "    abs_min = (df['mH'] - mass).abs()\n",
    "    sorted_abs_min = abs_min.sort_values()\n",
    "    two_closest_indices = sorted_abs_min.index[:2]\n",
    "    closest_two_mass = df['mH'][two_closest_indices]\n",
    "    flag = 1 # sign for whether mass is in the data\n",
    "    if closest_two_mass.values[0] == closest_two_mass.values[1]:\n",
    "        for i in range(2, len(sorted_abs_min)):\n",
    "            next_closest_index = sorted_abs_min.index[i]\n",
    "            if df['mH'][next_closest_index] != mass:\n",
    "                closest_two_mass = [closest_two_mass.values[0], df['mH'][next_closest_index]]\n",
    "                break\n",
    "        flag = 0\n",
    "    # print(type(closest_two_mass))\n",
    "    closest_two_mass = pd.concat([closest_two_mass, pd.Series([flag])])\n",
    "    # closest_two_mass = pd.concat([closest_two_mass, pd.Series([flag])])\n",
    "    # print(closest_two_mass)\n",
    "    return closest_two_mass\n",
    "\n",
    "def closest_two_tau(tau, mass, df): #df is DATAFRAME of LLP DATA\n",
    "    if mass not in df['mH'].values:\n",
    "        print(\"----------ERROR---------\")\n",
    "        print(\"ERROR FROM `closest_two_tau` FUNCTION: \")\n",
    "        print(\"``ERROR: NO SUCH MASS VALUE IN EXAMPLE DATA``\")\n",
    "        print(\"----------END---------\")\n",
    "        return (np.nan, np.nan)\n",
    "    df = df.loc[df['mH'] == mass]\n",
    "    abs_min = (df['ltime'] - tau).abs()\n",
    "    sorted_abs_min = abs_min.sort_values()\n",
    "    two_closest_indices = sorted_abs_min.index[:2]\n",
    "    closest_two_tau = df.loc[two_closest_indices, 'ltime']\n",
    "    return closest_two_tau.values[0], closest_two_tau.values[1]\n",
    "\n",
    "# df = pd.read_csv('All_mass_k_b.csv')\n",
    "# massss = closest_two(1.025, df)\n",
    "# print(massss)\n",
    "# print(massss[0])\n",
    "\n",
    "def calcu_log_10_theta_by_mass_ln_tau_by_csv(mass, tau_ln, k_b_filename):\n",
    "    df = pd.read_csv(k_b_filename)\n",
    "    # print('fine')\n",
    "    massssss = closest_two_mass_Series(mass, df).values\n",
    "    # print(type(massssss))\n",
    "    if massssss[2] == 1:\n",
    "        df = df.loc[(df['mH'] == massssss[0]) | (df['mH'] == massssss[1])]\n",
    "        k = df['k']\n",
    "        b = df['b']\n",
    "    if massssss[2] == 0:\n",
    "        df = df.loc[(df['mH'] == massssss[0])]\n",
    "        k = df['k']\n",
    "        b = df['b']\n",
    "    theta_log10 = k * tau_ln + b\n",
    "    \n",
    "    return np.average(theta_log10)\n",
    "\n",
    "\n",
    "\n",
    "def calcu_average_log10_theta(mass, tau, DATA_file):\n",
    "    df3 = pd.read_csv(DATA_file)\n",
    "    massssss = closest_two_mass_list(mass, df3)\n",
    "    closest_two_taus_values_mass_1 = closest_two_tau(tau, massssss[0], df3)\n",
    "    closest_two_taus_values_mass_2 = closest_two_tau(tau, massssss[1], df3)\n",
    "    if [(mass == massssss[0]) | (mass == massssss[1])]:\n",
    "        a = (np.log(df3['theta'].loc[(df3['mH'] == massssss[0]) & (df3['ltime'] == closest_two_taus_values_mass_1[0])]))/np.log(10)\n",
    "        a_ = (np.log(df3['theta'].loc[(df3['mH'] == massssss[0]) & (df3['ltime'] == closest_two_taus_values_mass_1[1])]))/np.log(10)\n",
    "        print('mass is listed')\n",
    "        weights = calc_weight(tau, closest_two_taus_values_mass_1[0], closest_two_taus_values_mass_1[1])\n",
    "        ave = a.values[0]*weights[0] + a_.values[0]*weights[1]\n",
    "        return ave\n",
    "    if [(mass != massssss[0]) & (mass != massssss[1])]:\n",
    "    # print(type(massssss[0]))\n",
    "        a = (np.log(df3['theta'].loc[(df3['mH'] == massssss[0]) & (df3['ltime'] == closest_two_taus_values_mass_1[0])]))/np.log(10)\n",
    "        a_ = (np.log(df3['theta'].loc[(df3['mH'] == massssss[0]) & (df3['ltime'] == closest_two_taus_values_mass_1[1])]))/np.log(10)\n",
    "        b = (np.log(df3['theta'].loc[(df3['mH'] == massssss[1]) & (df3['ltime'] == closest_two_taus_values_mass_2[0])]))/np.log(10)\n",
    "        b_ = (np.log(df3['theta'].loc[(df3['mH'] == massssss[1]) & (df3['ltime'] == closest_two_taus_values_mass_2[1])]))/np.log(10)\n",
    "        # print(a)\n",
    "        # print(b)\n",
    "        c = a.values[0]\n",
    "        d = b.values[0]\n",
    "        c_ = a_.values[0]\n",
    "        d_ = b_.values[0]\n",
    "        weights_a = calc_weight(tau, closest_two_taus_values_mass_1[0], closest_two_taus_values_mass_1[1])\n",
    "        ave_a = a.values[0]*weights_a[0] + a_.values[0]*weights_a[1]\n",
    "        weights_b = calc_weight(tau, closest_two_taus_values_mass_2[0], closest_two_taus_values_mass_2[1])\n",
    "        ave_b = b.values[0]*weights_b[0] + b_.values[0]*weights_b[1]\n",
    "        weights_mass_a_b = calc_weight(mass, massssss[0], massssss[1])\n",
    "        ave = ave_a*weights_mass_a_b[0] + ave_b*weights_mass_a_b[1]\n",
    "        return ave\n",
    "# df = pd.read_csv('all_DATA_H_rough.csv')\n",
    "# df2 = pd.read_csv('All_mass_k_b_rough.csv')\n",
    "# df3 = pd.read_csv('all_DATA_H.csv')\n",
    "tau = 1e5\n",
    "mass = 2.05\n",
    "print(calcu_log_10_theta_by_mass_ln_tau_by_csv(mass, np.log(tau), 'All_mass_k_b.csv'))\n",
    "# print((np.log(df['theta'].loc[(df['mH'] == mass) & (df['ltime'] == tau)]))/np.log(10))\n",
    "# print(closest_two_tau(tau, mass, df))\n",
    "# print(closest_two_tau(tau, 1.05, df))\n",
    "# print((np.log(df3['theta'].loc[(df3['mH'] == 1.05) & (df3['ltime'] == closest_two_tau(tau, 1.05, df3)[0])]))/np.log(10))\n",
    "# print((np.log(df3['theta'].loc[(df3['mH'] == 1.05) & (df3['ltime'] == closest_two_tau(tau, 1.05, df3)[1])]))/np.log(10))\n",
    "print(calcu_average_log10_theta(mass, tau, 'all_DATA_H.csv'))"
   ]
  }
 ],
 "metadata": {
  "kernelspec": {
   "display_name": "Python 3",
   "language": "python",
   "name": "python3"
  },
  "language_info": {
   "codemirror_mode": {
    "name": "ipython",
    "version": 3
   },
   "file_extension": ".py",
   "mimetype": "text/x-python",
   "name": "python",
   "nbconvert_exporter": "python",
   "pygments_lexer": "ipython3",
   "version": "3.10.11"
  }
 },
 "nbformat": 4,
 "nbformat_minor": 2
}
