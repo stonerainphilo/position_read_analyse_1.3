{
 "cells": [
  {
   "cell_type": "code",
   "execution_count": 29,
   "metadata": {},
   "outputs": [],
   "source": [
    "import pandas as pd\n",
    "import numpy as np\n",
    "\n",
    "\n",
    "def counting_total_LLP(df):\n",
    "    \"\"\"\n",
    "    Count the total number of LLPs in the df.\n",
    "    \"\"\"\n",
    "    i = df['LLP_number_per_ev'].iloc[-1]\n",
    "    return i\n",
    "\n",
    "\n",
    "def counting_total_events_per_file(csv_file):\n",
    "    \"\"\"\n",
    "    Count the total number of events in the CSV file.\n",
    "    \"\"\"\n",
    "    df = pd.read_csv(csv_file)\n",
    "    i = df['total_events'].iloc[-1]\n",
    "    return i\n",
    "\n",
    "\n",
    "def counting_total_events_produced_LLP(csv_file):\n",
    "    \"\"\"\n",
    "    Count the total number of events which have produced LLP.\n",
    "    \"\"\"\n",
    "    df = pd.read_csv(csv_file)\n",
    "    i = df['number_of_production'].iloc[-1]\n",
    "    return i\n",
    "\n",
    "\n",
    "def calculate_cross_section_file(csv_file):\n",
    "    \"\"\"\n",
    "    Calculate the cross section based on the number of events and the number of LLPs.\n",
    "    \"\"\"\n",
    "    df = pd.read_csv(csv_file)\n",
    "    total_events = df['total_events'].iloc[-1]\n",
    "    total_LLPs = df['LLP_number_per_ev'].iloc[-1]\n",
    "    cross_section = total_LLPs / total_events\n",
    "    return cross_section\n",
    "\n",
    "\n",
    "\n",
    "def calculate_cross_section(df):\n",
    "    total_events = df['total_events'].iloc[-1]\n",
    "    total_LLPs = df['LLP_number_per_ev'].iloc[-1]\n",
    "    cross_section = total_LLPs / total_events\n",
    "    return cross_section\n",
    "\n",
    "\n"
   ]
  },
  {
   "cell_type": "code",
   "execution_count": 17,
   "metadata": {},
   "outputs": [
    {
     "name": "stdout",
     "output_type": "stream",
     "text": [
      "Cross section:  3.4480482682756093\n"
     ]
    }
   ],
   "source": [
    "file = \"/Volumes/Untitled/2025-03-30/LLP_data/mass_3.60e+00_ctau_1.33e-03_br_1.00e+00_seed_65055.csv\"\n",
    "# print(\"Total events in the file: \", counting_total_events_per_file(file))\n",
    "# print(\"Total events produced LLP: \", counting_total_events_produced_LLP(file))\n",
    "print(\"Cross section: \", calculate_cross_section_file(file))"
   ]
  },
  {
   "cell_type": "code",
   "execution_count": 32,
   "metadata": {},
   "outputs": [],
   "source": [
    "from detection import detect_percise_and_combine_no_calcu_decay\n",
    "from one_key_run import detect_folder_files_no_calcu\n",
    "from functions_for_run import mkdir_1\n",
    "from functions_for_calculation import whether_in_the_detector_by_position\n",
    "import os\n",
    "\n",
    "def add_whether_in_the_detector_without_Decay_calcu_add_cross_section(filename, out_folder_path):\n",
    "    mkdir_1(out_folder_path)\n",
    "    file_path_only, file_name_only = os.path.split(filename)\n",
    "    file_parent_path_only = os.path.dirname(file_path_only)\n",
    "    llp_data = pd.read_csv(filename)\n",
    "    llp_whether_in_detector = whether_in_the_detector_by_position(llp_data['decay_pos_x'], llp_data['decay_pos_y'], llp_data['decay_pos_z'])\n",
    "    cross_section = calculate_cross_section(llp_data)\n",
    "    llp_data['detected'] = llp_whether_in_detector\n",
    "    llp_data['cross_section'] = cross_section\n",
    "    llp_data['detector_acceptance'] = sum(llp_data['detected']) / counting_total_LLP(llp_data)\n",
    "    final_data_folder = file_parent_path_only + '/Completed_llp_data_precise_cross_section'\n",
    "    mkdir_1(final_data_folder)\n",
    "    final_data_path = os.path.join(final_data_folder + f'/final_data_cross_section_{file_name_only}')\n",
    "    llp_data.to_csv(final_data_path, index = False)\n",
    "    return final_data_folder\n",
    "\n",
    "\n",
    "\n"
   ]
  },
  {
   "cell_type": "code",
   "execution_count": 31,
   "metadata": {},
   "outputs": [
    {
     "name": "stdout",
     "output_type": "stream",
     "text": [
      "103438\n",
      "29999\n",
      "29353\n",
      "test/Users/shiyuzhe/Documents/University/LLP/Second_Term/pythia8/BtoKa/Code/position_read_analyse_1.3/ALL_IN_ONE/TEST_FOR_CROSS_SECTION/Completed_llp_data_precise_cross_section\n"
     ]
    }
   ],
   "source": [
    "print(\"test\" + add_whether_in_the_detector_without_Decay_calcu_add_cross_section('/Users/shiyuzhe/Documents/University/LLP/Second_Term/pythia8/BtoKa/Code/position_read_analyse_1.3/ALL_IN_ONE/TEST_FOR_CROSS_SECTION/LLP_data/mass_3.60e+00_ctau_1.33e-03_br_1.00e+00_seed_65055.csv', \"/Users/shiyuzhe/Documents/University/LLP/Second_Term/pythia8/BtoKa/Code/position_read_analyse_1.3/ALL_IN_ONE/TEST_FOR_CROSS_SECTION/\"))"
   ]
  },
  {
   "cell_type": "code",
   "execution_count": 1,
   "metadata": {},
   "outputs": [
    {
     "name": "stderr",
     "output_type": "stream",
     "text": [
      "100%|██████████| 3/3 [00:27<00:00,  9.21s/it]\n"
     ]
    },
    {
     "name": "stdout",
     "output_type": "stream",
     "text": [
      "The Generation of LLPs is Completed\n"
     ]
    },
    {
     "name": "stderr",
     "output_type": "stream",
     "text": [
      "100%|██████████| 3/3 [00:00<00:00, 41.62it/s]\n"
     ]
    },
    {
     "name": "stdout",
     "output_type": "stream",
     "text": [
      "Error with file: /Users/shiyuzhe/Documents/University/LLP/Second_Term/pythia8/BtoKa/Code/position_read_analyse_1.3/ALL_IN_ONE/TEST_FOR_CROSS_SECTION2025-03-30/LLP_data/mass_1.00e+00_ctau_1.73e+13_br_1.00e+00_seed_856401.csv\n",
      "Error message: 'total_events'\n",
      "Error with file: /Users/shiyuzhe/Documents/University/LLP/Second_Term/pythia8/BtoKa/Code/position_read_analyse_1.3/ALL_IN_ONE/TEST_FOR_CROSS_SECTION2025-03-30/LLP_data/mass_1.00e+00_ctau_2.74e+13_br_1.00e+00_seed_856401.csv\n",
      "Error message: 'total_events'\n",
      "Error with file: /Users/shiyuzhe/Documents/University/LLP/Second_Term/pythia8/BtoKa/Code/position_read_analyse_1.3/ALL_IN_ONE/TEST_FOR_CROSS_SECTION2025-03-30/LLP_data/mass_1.00e+00_ctau_4.34e+13_br_1.00e+00_seed_856401.csv\n",
      "Error message: 'total_events'\n"
     ]
    },
    {
     "ename": "UnboundLocalError",
     "evalue": "local variable 'completed_data_folder' referenced before assignment",
     "output_type": "error",
     "traceback": [
      "\u001b[0;31m---------------------------------------------------------------------------\u001b[0m",
      "\u001b[0;31mUnboundLocalError\u001b[0m                         Traceback (most recent call last)",
      "Cell \u001b[0;32mIn[1], line 5\u001b[0m\n\u001b[1;32m      3\u001b[0m out_path \u001b[38;5;241m=\u001b[39m \u001b[38;5;124m'\u001b[39m\u001b[38;5;124m/Users/shiyuzhe/Documents/University/LLP/Second_Term/pythia8/BtoKa/Code/position_read_analyse_1.3/ALL_IN_ONE/TEST_FOR_CROSS_SECTION\u001b[39m\u001b[38;5;124m'\u001b[39m\n\u001b[1;32m      4\u001b[0m main41_path \u001b[38;5;241m=\u001b[39m \u001b[38;5;124m'\u001b[39m\u001b[38;5;124m/Users/shiyuzhe/Documents/University/LLP/Second_Term/pythia8/examples/\u001b[39m\u001b[38;5;124m'\u001b[39m\n\u001b[0;32m----> 5\u001b[0m \u001b[43mone_key_run_by_csv_cross_section_main41\u001b[49m\u001b[43m(\u001b[49m\u001b[43mcsv_file\u001b[49m\u001b[43m,\u001b[49m\u001b[43m \u001b[49m\u001b[38;5;241;43m1\u001b[39;49m\u001b[43m,\u001b[49m\u001b[43m \u001b[49m\u001b[38;5;241;43m1\u001b[39;49m\u001b[43m,\u001b[49m\u001b[43m \u001b[49m\u001b[43mout_path\u001b[49m\u001b[43m,\u001b[49m\u001b[43m \u001b[49m\u001b[43mmain41_path\u001b[49m\u001b[43m)\u001b[49m\n",
      "File \u001b[0;32m~/Documents/University/LLP/Second_Term/pythia8/BtoKa/Code/position_read_analyse_1.3/ALL_IN_ONE/Pythia8/one_key_run.py:187\u001b[0m, in \u001b[0;36mone_key_run_by_csv_cross_section_main41\u001b[0;34m(csv_file, br, seed_array, out_put_path, main131_path)\u001b[0m\n\u001b[1;32m    185\u001b[0m LLP_data_path \u001b[38;5;241m=\u001b[39m loop_mass_ctau_br_given_by_csv(csv_file, br, seed_array, out_put_path, main131_path)\n\u001b[1;32m    186\u001b[0m \u001b[38;5;28mprint\u001b[39m(\u001b[38;5;124m'\u001b[39m\u001b[38;5;124mThe Generation of LLPs is Completed\u001b[39m\u001b[38;5;124m'\u001b[39m)\n\u001b[0;32m--> 187\u001b[0m completed_data_dir \u001b[38;5;241m=\u001b[39m \u001b[43mdetect_folder_files_cross_section\u001b[49m\u001b[43m(\u001b[49m\u001b[43mLLP_data_path\u001b[49m\u001b[43m)\u001b[49m[\u001b[38;5;241m1\u001b[39m]\n\u001b[1;32m    188\u001b[0m \u001b[38;5;28mprint\u001b[39m(\u001b[38;5;124m'\u001b[39m\u001b[38;5;124mThe LLPs are Judged whether they are Detected or not, and calculated the cross section\u001b[39m\u001b[38;5;124m'\u001b[39m)\n\u001b[1;32m    189\u001b[0m final_files \u001b[38;5;241m=\u001b[39m combine_files_precise(completed_data_dir)\n",
      "File \u001b[0;32m~/Documents/University/LLP/Second_Term/pythia8/BtoKa/Code/position_read_analyse_1.3/ALL_IN_ONE/Pythia8/one_key_run.py:57\u001b[0m, in \u001b[0;36mdetect_folder_files_cross_section\u001b[0;34m(LLP_data_folder_dir)\u001b[0m\n\u001b[1;32m     54\u001b[0m             \u001b[38;5;28;01mcontinue\u001b[39;00m\n\u001b[1;32m     55\u001b[0m             file_path_all \u001b[38;5;241m=\u001b[39m \u001b[38;5;124m'\u001b[39m\u001b[38;5;124m'\u001b[39m\n\u001b[0;32m---> 57\u001b[0m \u001b[38;5;28;01mreturn\u001b[39;00m \u001b[38;5;124m'\u001b[39m\u001b[38;5;124mDetection and Calcu Cross-Section Completed\u001b[39m\u001b[38;5;124m'\u001b[39m, \u001b[43mcompleted_data_folder\u001b[49m\n",
      "\u001b[0;31mUnboundLocalError\u001b[0m: local variable 'completed_data_folder' referenced before assignment"
     ]
    }
   ],
   "source": [
    "from one_key_run import one_key_run_by_csv_cross_section_main41\n",
    "csv_file = '/Users/shiyuzhe/Documents/University/LLP/Second_Term/pythia8/BtoKa/Code/position_read_analyse_1.3/ALL_IN_ONE/test_m_1theta.csv'\n",
    "out_path = '/Users/shiyuzhe/Documents/University/LLP/Second_Term/pythia8/BtoKa/Code/position_read_analyse_1.3/ALL_IN_ONE/TEST_FOR_CROSS_SECTION'\n",
    "main41_path = '/Users/shiyuzhe/Documents/University/LLP/Second_Term/pythia8/examples/'\n",
    "one_key_run_by_csv_cross_section_main41(csv_file, 1, 1, out_path, main41_path)"
   ]
  }
 ],
 "metadata": {
  "kernelspec": {
   "display_name": "Python 3",
   "language": "python",
   "name": "python3"
  },
  "language_info": {
   "codemirror_mode": {
    "name": "ipython",
    "version": 3
   },
   "file_extension": ".py",
   "mimetype": "text/x-python",
   "name": "python",
   "nbconvert_exporter": "python",
   "pygments_lexer": "ipython3",
   "version": "3.10.11"
  }
 },
 "nbformat": 4,
 "nbformat_minor": 2
}
