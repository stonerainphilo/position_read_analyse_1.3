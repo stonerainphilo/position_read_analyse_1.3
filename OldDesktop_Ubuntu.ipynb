{
 "cells": [
  {
   "cell_type": "code",
   "execution_count": 1,
   "metadata": {},
   "outputs": [],
   "source": [
    "import sys\n",
    "sys.path.append(\"ALL_IN_ONE/Pythia8\")\n",
    "sys.path.append(\"ALL_IN_ONE/LSD\")\n",
    "sys.path.append(\"ALL_IN_ONE/FIT_FUNC\")"
   ]
  },
  {
   "cell_type": "code",
   "execution_count": 2,
   "metadata": {},
   "outputs": [],
   "source": [
    "import os\n",
    "from tqdm import tqdm\n",
    "import ALL_IN_ONE.Pythia8.loop as loop\n",
    "import ALL_IN_ONE.Pythia8.one_key_run as okr \n",
    "import ALL_IN_ONE.Pythia8.run_save as rs\n",
    "import ALL_IN_ONE.Pythia8.analyse_data as ad\n",
    "import ALL_IN_ONE.Pythia8.detection as detection\n",
    "import ALL_IN_ONE.Pythia8.Mulity_process as mp\n",
    "from datetime import datetime\n",
    "import ALL_IN_ONE.Pythia8.combine as combine\n",
    "# from detection import detect_percise_and_combine, detect_r_and_combine\n",
    "# from analyse_data import see_ctau_2, print_max_min_log10_sin_theta_2"
   ]
  },
  {
   "cell_type": "markdown",
   "metadata": {},
   "source": [
    "### This Func is made for FUTURE USE aimmed to speed up our simulations(Whose speed is Not Satisfying right now(2024.11.17)). \n",
    "\n",
    "### But it is not usable now"
   ]
  },
  {
   "cell_type": "code",
   "execution_count": 9,
   "metadata": {},
   "outputs": [],
   "source": [
    "# from joblib import Parallel, delayed\n",
    "\n",
    "# def worker(seed):\n",
    "#     LLP_data_path = loop_mass_ctau_given_by_csv_multi(csv_file, br, seed, out_put_path, main41_path)\n",
    "#     print('The Generation of LLPs is Completed')\n",
    "#     completed_data_dir = detect_folder_files_no_calcu(LLP_data_path)[1]\n",
    "#     print('The LLPs are Judged whether they are Detected or not')\n",
    "#     final_files = combine_files_precise(completed_data_dir)\n",
    "#     print('The Final Step is Over, See the .csv files for LLPs Completed Data')\n",
    "#     return LLP_data_path, completed_data_dir, final_files\n",
    "\n",
    "# def one_key_run_mass_ctau_given_by_csv_multi(csv_file, br, seed_array, out_put_path, main41_path):\n",
    "#     results = Parallel(n_jobs=5)(delayed(worker)(seed) for seed in seed_array)\n",
    "#     return results\n"
   ]
  },
  {
   "cell_type": "markdown",
   "metadata": {},
   "source": [
    "## Attention:  \n",
    "\n",
    "## The Units are CM and GEV"
   ]
  },
  {
   "cell_type": "markdown",
   "metadata": {},
   "source": [
    "### The 'one_key_run_XXX' functions are all you need to use.\n",
    "\n"
   ]
  },
  {
   "cell_type": "markdown",
   "metadata": {},
   "source": [
    "### Setting Parameters"
   ]
  },
  {
   "cell_type": "code",
   "execution_count": 10,
   "metadata": {},
   "outputs": [],
   "source": [
    "c_mm = (3*10**5) # tau0's unit is mm/c, to convert the ultimate decay postion,\n",
    "                            # we need to do sth to the ctau_typed_in \n",
    "\n",
    "br_lowerlim = -20 #ctau and br are in logspace\n",
    "br_upperlim = -20\n",
    "br_amount = 1\n",
    "ctau_lowerlim = 1\n",
    "ctau_upperlim = 30\n",
    "ctau_amount = 50\n",
    "mass = 1\n",
    "seed_amount = 5\n",
    "seed_array = (357993, 1234) #Pythia8 simulation seed\n",
    "\n",
    "mass_lower_lim = 0.1 # Mass in in linspace\n",
    "mass_upper_lim = 4\n",
    "mass_amount = 20\n",
    "br = 1"
   ]
  },
  {
   "cell_type": "markdown",
   "metadata": {},
   "source": [
    "#### Same as before:  \n",
    "\n",
    "##### The function \n",
    "```python\n",
    "    one_key_run_mass_ctau_simple_ver() #Function to run an pythia8 program\n",
    "```\n",
    "\n",
    "takes \n",
    "\n",
    "```\n",
    "br's lower / upper lim (10^x), br's amount, \n",
    "\n",
    "ctau's lower / upper lim (10^x), ctau's amount, \n",
    "\n",
    "mass, \n",
    "\n",
    "seed's amount, \n",
    "\n",
    "the Output folder's path, \n",
    "\n",
    "main41.cc's dir path\n",
    "```\n",
    "as input.\n",
    "\n",
    "The Output is LOTS OF ```.csv``` Files with LLPs' Properties \n",
    "\n",
    "```\n",
    "    Momentum in GeV, \n",
    "    \n",
    "    lifetime(ctau or tau) in mm/C, \n",
    "\n",
    "    decay_postion in mm, mass in GeV \n",
    "\n",
    "    and so on\n",
    "```\n",
    "\n",
    "The path's format is listed below, you can change them directly to your real path to run the function"
   ]
  },
  {
   "cell_type": "code",
   "execution_count": 3,
   "metadata": {},
   "outputs": [
    {
     "name": "stdout",
     "output_type": "stream",
     "text": [
      "2025-08-08_2HDM-A\n"
     ]
    }
   ],
   "source": [
    "main131_path = '/home/srp/Documents/Pythia8/pythia8315/examples/'\n",
    "# For Pythia8.31, main41 is now main131 but the path remains the same\n",
    "out_path = '/home/srp/Documents/LLP_DATA/'\n",
    "today = str(datetime.today().date())+'_2HDM-A'\n",
    "# today = '2025-06-07_2HDM-A'\n",
    "print(today)\n"
   ]
  },
  {
   "cell_type": "markdown",
   "metadata": {},
   "source": [
    "#### New Function info:\n",
    "\n",
    "The function\n",
    "```python\n",
    "    def one_key_run_mass_ctau_br_given_by_csv_main131(csv_file, br, seed_amount, out_path, main41_path)\n",
    "```\n",
    "\n",
    "takes a ```.csv file``` as input instead of the range of ```mass```, ```tau```, ```Br_XX```and etc. \n",
    "\n",
    "The function will read each line of ```.csv file``` to get `LLP's DATA Range`, ALONG WITH ```ALL THE Branching Ratio of OUR LLP``` and put this set of data into pythia8. \n",
    "\n",
    "Pythia8 will do the simulation, then output .csv file to the ``` out_path``` folder."
   ]
  },
  {
   "cell_type": "code",
   "execution_count": null,
   "metadata": {},
   "outputs": [
    {
     "name": "stdout",
     "output_type": "stream",
     "text": [
      "Running Simulation...\n"
     ]
    },
    {
     "name": "stderr",
     "output_type": "stream",
     "text": [
      "  0%|          | 0/9 [00:01<?, ?it/s]\n"
     ]
    },
    {
     "ename": "KeyboardInterrupt",
     "evalue": "",
     "output_type": "error",
     "traceback": [
      "\u001b[0;31m---------------------------------------------------------------------------\u001b[0m",
      "\u001b[0;31mKeyboardInterrupt\u001b[0m                         Traceback (most recent call last)",
      "Cell \u001b[0;32mIn[23], line 2\u001b[0m\n\u001b[1;32m      1\u001b[0m test_csv \u001b[38;5;241m=\u001b[39m \u001b[38;5;124m'\u001b[39m\u001b[38;5;124m/media/ubuntu/6156e08b-fdb1-4cde-964e-431f74a6078e/Program/PRA/Github/position_read_analyse_1.3/ALL_IN_ONE/LSD/tau_theta_1e-05.csv\u001b[39m\u001b[38;5;124m'\u001b[39m\n\u001b[0;32m----> 2\u001b[0m \u001b[43mokr\u001b[49m\u001b[38;5;241;43m.\u001b[39;49m\u001b[43mone_key_run_by_csv_cross_section_main131_simple\u001b[49m\u001b[43m(\u001b[49m\u001b[43mtest_csv\u001b[49m\u001b[43m,\u001b[49m\u001b[43m \u001b[49m\u001b[38;5;241;43m1\u001b[39;49m\u001b[43m,\u001b[49m\u001b[43m \u001b[49m\u001b[38;5;241;43m1\u001b[39;49m\u001b[43m,\u001b[49m\u001b[43m \u001b[49m\u001b[43mout_path\u001b[49m\u001b[43m,\u001b[49m\u001b[43m \u001b[49m\u001b[43mmain131_path\u001b[49m\u001b[43m,\u001b[49m\u001b[43m \u001b[49m\u001b[43mtoday\u001b[49m\u001b[43m,\u001b[49m\u001b[43m \u001b[49m\u001b[38;5;241;43m0\u001b[39;49m\u001b[43m)\u001b[49m\n",
      "File \u001b[0;32m/media/ubuntu/6156e08b-fdb1-4cde-964e-431f74a6078e/Program/PRA/Github/position_read_analyse_1.3/ALL_IN_ONE/Pythia8/one_key_run.py:226\u001b[0m, in \u001b[0;36mone_key_run_by_csv_cross_section_main131_simple\u001b[0;34m(csv_file, br, seed_array, out_put_path, main131_path, today, sleep_time)\u001b[0m\n\u001b[1;32m    224\u001b[0m \u001b[38;5;28mprint\u001b[39m(\u001b[38;5;124m\"\u001b[39m\u001b[38;5;124mRunning Simulation...\u001b[39m\u001b[38;5;124m\"\u001b[39m)\n\u001b[1;32m    225\u001b[0m mkdir_1(out_put_path \u001b[38;5;241m+\u001b[39m today \u001b[38;5;241m+\u001b[39m\u001b[38;5;124m'\u001b[39m\u001b[38;5;124m/\u001b[39m\u001b[38;5;124m'\u001b[39m \u001b[38;5;241m+\u001b[39m \u001b[38;5;124m'\u001b[39m\u001b[38;5;124mLLP_data/\u001b[39m\u001b[38;5;124m'\u001b[39m)\n\u001b[0;32m--> 226\u001b[0m LLP_data_path \u001b[38;5;241m=\u001b[39m \u001b[43mlp\u001b[49m\u001b[38;5;241;43m.\u001b[39;49m\u001b[43mloop_mass_simple\u001b[49m\u001b[43m(\u001b[49m\u001b[43mcsv_file\u001b[49m\u001b[43m,\u001b[49m\u001b[43m \u001b[49m\u001b[43mbr\u001b[49m\u001b[43m,\u001b[49m\u001b[43m \u001b[49m\u001b[43mseed_array\u001b[49m\u001b[43m,\u001b[49m\u001b[43m \u001b[49m\u001b[43mout_put_path\u001b[49m\u001b[43m,\u001b[49m\u001b[43m \u001b[49m\u001b[43mmain131_path\u001b[49m\u001b[43m,\u001b[49m\u001b[43m \u001b[49m\u001b[43msleep_time\u001b[49m\u001b[43m,\u001b[49m\u001b[43m \u001b[49m\u001b[43mtoday\u001b[49m\u001b[43m)\u001b[49m\n\u001b[1;32m    227\u001b[0m \u001b[38;5;28mprint\u001b[39m(\u001b[38;5;124m'\u001b[39m\u001b[38;5;124mThe Generation of LLPs is Completed\u001b[39m\u001b[38;5;124m'\u001b[39m)\n\u001b[1;32m    228\u001b[0m completed_data_dir \u001b[38;5;241m=\u001b[39m detect_folder_files_cross_section_CODEX_MATHUSLA(LLP_data_path)[\u001b[38;5;241m1\u001b[39m]\n",
      "File \u001b[0;32m/media/ubuntu/6156e08b-fdb1-4cde-964e-431f74a6078e/Program/PRA/Github/position_read_analyse_1.3/ALL_IN_ONE/Pythia8/loop.py:123\u001b[0m, in \u001b[0;36mloop_mass_simple\u001b[0;34m(csv_file, br, seed_amount, out_put_path, main131_path, sleep_time, today)\u001b[0m\n\u001b[1;32m    120\u001b[0m \u001b[38;5;28;01mfor\u001b[39;00m seed \u001b[38;5;129;01min\u001b[39;00m generate_randomseed(seed_amount):\n\u001b[1;32m    121\u001b[0m     \u001b[38;5;28;01mfor\u001b[39;00m mH, taus, theta \u001b[38;5;129;01min\u001b[39;00m \u001b[38;5;28mzip\u001b[39m(df[\u001b[38;5;124m'\u001b[39m\u001b[38;5;124mmH\u001b[39m\u001b[38;5;124m'\u001b[39m], df[\u001b[38;5;124m'\u001b[39m\u001b[38;5;124mltime\u001b[39m\u001b[38;5;124m'\u001b[39m],\n\u001b[1;32m    122\u001b[0m                                                                                                                      df[\u001b[38;5;124m'\u001b[39m\u001b[38;5;124mtheta\u001b[39m\u001b[38;5;124m'\u001b[39m]):\n\u001b[0;32m--> 123\u001b[0m         out_put_name_LLP_data \u001b[38;5;241m=\u001b[39m \u001b[43mrs\u001b[49m\u001b[38;5;241;43m.\u001b[39;49m\u001b[43mrun_save_main131_simple\u001b[49m\u001b[43m(\u001b[49m\u001b[43mmH\u001b[49m\u001b[43m,\u001b[49m\u001b[43m \u001b[49m\u001b[43mseed\u001b[49m\u001b[43m,\u001b[49m\u001b[43m \u001b[49m\u001b[43mbr\u001b[49m\u001b[43m,\u001b[49m\u001b[43m \u001b[49m\u001b[43mtaus\u001b[49m\u001b[43m,\u001b[49m\u001b[43m \u001b[49m\u001b[43mout_put_path\u001b[49m\u001b[43m,\u001b[49m\u001b[43m \u001b[49m\u001b[43mmain131_path\u001b[49m\u001b[43m,\u001b[49m\u001b[43m \u001b[49m\u001b[43mtheta\u001b[49m\u001b[43m,\u001b[49m\u001b[43m \u001b[49m\u001b[43mtoday\u001b[49m\u001b[43m)\u001b[49m[\u001b[38;5;241m0\u001b[39m]\n\u001b[1;32m    125\u001b[0m         pbar\u001b[38;5;241m.\u001b[39mupdate(\u001b[38;5;241m1\u001b[39m)\n\u001b[1;32m    126\u001b[0m         time\u001b[38;5;241m.\u001b[39msleep(sleep_time)\n",
      "File \u001b[0;32m/media/ubuntu/6156e08b-fdb1-4cde-964e-431f74a6078e/Program/PRA/Github/position_read_analyse_1.3/ALL_IN_ONE/Pythia8/run_save.py:289\u001b[0m, in \u001b[0;36mrun_save_main131_simple\u001b[0;34m(m, seed, Br, tau, out_path, main_41_path, theta, today)\u001b[0m\n\u001b[1;32m    287\u001b[0m filename \u001b[38;5;241m=\u001b[39m \u001b[38;5;124m\"\u001b[39m\u001b[38;5;124mfiltered_mass_\u001b[39m\u001b[38;5;124m\"\u001b[39m \u001b[38;5;241m+\u001b[39m mass \u001b[38;5;241m+\u001b[39m \u001b[38;5;124m\"\u001b[39m\u001b[38;5;124m_ctau_\u001b[39m\u001b[38;5;124m\"\u001b[39m \u001b[38;5;241m+\u001b[39m tau_str \u001b[38;5;241m+\u001b[39m \u001b[38;5;124m\"\u001b[39m\u001b[38;5;124m_br_\u001b[39m\u001b[38;5;124m\"\u001b[39m \u001b[38;5;241m+\u001b[39m Br_str \u001b[38;5;241m+\u001b[39m \u001b[38;5;124m\"\u001b[39m\u001b[38;5;124m_seed_\u001b[39m\u001b[38;5;124m\"\u001b[39m \u001b[38;5;241m+\u001b[39m random_seed \u001b[38;5;241m+\u001b[39m \u001b[38;5;124m\"\u001b[39m\u001b[38;5;124m.csv\u001b[39m\u001b[38;5;124m\"\u001b[39m\n\u001b[1;32m    288\u001b[0m \u001b[38;5;66;03m# get error if any\u001b[39;00m\n\u001b[0;32m--> 289\u001b[0m output, error \u001b[38;5;241m=\u001b[39m \u001b[43mprocess1\u001b[49m\u001b[38;5;241;43m.\u001b[39;49m\u001b[43mcommunicate\u001b[49m\u001b[43m(\u001b[49m\u001b[43m)\u001b[49m\n\u001b[1;32m    291\u001b[0m \u001b[38;5;66;03m# save to txt\u001b[39;00m\n\u001b[1;32m    292\u001b[0m out_path \u001b[38;5;241m=\u001b[39m out_dir\u001b[38;5;241m+\u001b[39mfilename\n",
      "File \u001b[0;32m/usr/lib/python3.10/subprocess.py:1141\u001b[0m, in \u001b[0;36mPopen.communicate\u001b[0;34m(self, input, timeout)\u001b[0m\n\u001b[1;32m   1139\u001b[0m     \u001b[38;5;28mself\u001b[39m\u001b[38;5;241m.\u001b[39m_stdin_write(\u001b[38;5;28minput\u001b[39m)\n\u001b[1;32m   1140\u001b[0m \u001b[38;5;28;01melif\u001b[39;00m \u001b[38;5;28mself\u001b[39m\u001b[38;5;241m.\u001b[39mstdout:\n\u001b[0;32m-> 1141\u001b[0m     stdout \u001b[38;5;241m=\u001b[39m \u001b[38;5;28;43mself\u001b[39;49m\u001b[38;5;241;43m.\u001b[39;49m\u001b[43mstdout\u001b[49m\u001b[38;5;241;43m.\u001b[39;49m\u001b[43mread\u001b[49m\u001b[43m(\u001b[49m\u001b[43m)\u001b[49m\n\u001b[1;32m   1142\u001b[0m     \u001b[38;5;28mself\u001b[39m\u001b[38;5;241m.\u001b[39mstdout\u001b[38;5;241m.\u001b[39mclose()\n\u001b[1;32m   1143\u001b[0m \u001b[38;5;28;01melif\u001b[39;00m \u001b[38;5;28mself\u001b[39m\u001b[38;5;241m.\u001b[39mstderr:\n",
      "\u001b[0;31mKeyboardInterrupt\u001b[0m: "
     ]
    }
   ],
   "source": [
    "# test_csv = '/media/ubuntu/6156e08b-fdb1-4cde-964e-431f74a6078e/Program/PRA/Github/position_read_analyse_1.3/ALL_IN_ONE/LSD/tau_theta_1e-05.csv'\n",
    "# okr.one_key_run_by_csv_cross_section_main131_simple(test_csv, 1, 1, out_path, main131_path, today, 0)"
   ]
  },
  {
   "cell_type": "code",
   "execution_count": 5,
   "metadata": {},
   "outputs": [
    {
     "name": "stdout",
     "output_type": "stream",
     "text": [
      "CSV file has been split into 4 parts.\n"
     ]
    }
   ],
   "source": [
    "csv_file = '/home/srp/Documents/program/stonerainphilo-Light_scalar_decay/Combined_Code/2HDM-I_A_8.csv'\n",
    "mp.split_csv_into_different_parts(csv_file, 4)"
   ]
  },
  {
   "cell_type": "code",
   "execution_count": null,
   "metadata": {},
   "outputs": [],
   "source": [
    "test_for_mass_1 = okr.one_key_run_2HDM_cross_section_main131_lower_eff_all_detectors(csv_file, 1, 1, out_path, main131_path, today, 0)"
   ]
  },
  {
   "cell_type": "code",
   "execution_count": 4,
   "metadata": {},
   "outputs": [
    {
     "name": "stdout",
     "output_type": "stream",
     "text": [
      "2025-08-08_2HDM-A\n"
     ]
    }
   ],
   "source": [
    "print(today)"
   ]
  },
  {
   "cell_type": "code",
   "execution_count": 4,
   "metadata": {},
   "outputs": [
    {
     "name": "stdout",
     "output_type": "stream",
     "text": [
      "('1.csv', 1, 1, '/home/srp/Documents/LLP_DATA/', '/home/srp/Documents/Pythia8/pythia8315/examples/', '2025-08-08_2HDM-A', 3)\n",
      "('2.csv', 1, 1, '/home/srp/Documents/LLP_DATA/', '/home/srp/Documents/Pythia8/pythia8315/examples/', '2025-08-08_2HDM-A', 3)\n",
      "('3.csv', 1, 1, '/home/srp/Documents/LLP_DATA/', '/home/srp/Documents/Pythia8/pythia8315/examples/', '2025-08-08_2HDM-A', 3)\n",
      "('4.csv', 1, 1, '/home/srp/Documents/LLP_DATA/', '/home/srp/Documents/Pythia8/pythia8315/examples/', '2025-08-08_2HDM-A', 3)\n",
      "Running Simulation...Running Simulation...Running Simulation...Running Simulation...\n",
      "\n",
      "\n",
      "\n"
     ]
    },
    {
     "name": "stderr",
     "output_type": "stream",
     "text": [
      "100%|██████████| 209/209 [15:32:49<00:00, 267.80s/it]  \n"
     ]
    },
    {
     "name": "stdout",
     "output_type": "stream",
     "text": [
      "The Generation of LLPs is Completed\n"
     ]
    },
    {
     "name": "stderr",
     "output_type": "stream",
     "text": [
      "100%|██████████| 210/210 [15:35:31<00:00, 267.29s/it]\n"
     ]
    },
    {
     "name": "stdout",
     "output_type": "stream",
     "text": [
      "The Generation of LLPs is Completed\n"
     ]
    },
    {
     "name": "stderr",
     "output_type": "stream",
     "text": [
      "  0%|          | 0/1540 [00:00<?, ?it/s]"
     ]
    },
    {
     "name": "stdout",
     "output_type": "stream",
     "text": [
      "Error with file: /home/srp/Documents/LLP_DATA/2025-08-08_2HDM-A/LLP_data/mass_3.98e-01_ctau_2.28e+00_br_1.00e+00_seed_349319.csv\n",
      "Error message: [Errno 28] No space left on device: '/home/srp/Documents/LLP_DATA/2025-08-08_2HDM-A/Completed_llp_data_precise_cross_section'\n"
     ]
    },
    {
     "name": "stderr",
     "output_type": "stream",
     "text": [
      "100%|█████████▉| 208/209 [15:37:33<04:29, 269.65s/it]"
     ]
    },
    {
     "name": "stdout",
     "output_type": "stream",
     "text": [
      "Error with file: /home/srp/Documents/LLP_DATA/2025-08-08_2HDM-A/LLP_data/mass_3.98e-01_ctau_2.28e+00_br_1.00e+00_seed_349319.csv\n",
      "Error message: [Errno 28] No space left on device: '/home/srp/Documents/LLP_DATA/2025-08-08_2HDM-A/Completed_llp_data_precise_cross_section'\n"
     ]
    },
    {
     "name": "stderr",
     "output_type": "stream",
     "text": [
      "  0%|          | 1/1540 [03:05<79:11:21, 185.24s/it]"
     ]
    },
    {
     "name": "stdout",
     "output_type": "stream",
     "text": [
      "Error with file: /home/srp/Documents/LLP_DATA/2025-08-08_2HDM-A/LLP_data/mass_1.58e+00_ctau_1.44e-01_br_1.00e+00_seed_840337.csv\n",
      "Error message: [Errno 28] No space left on device: '/home/srp/Documents/LLP_DATA/2025-08-08_2HDM-A/Completed_llp_data_precise_cross_section'\n"
     ]
    },
    {
     "name": "stderr",
     "output_type": "stream",
     "text": [
      "100%|█████████▉| 208/209 [15:40:54<04:29, 269.10s/it]"
     ]
    },
    {
     "name": "stdout",
     "output_type": "stream",
     "text": [
      "Error with file: /home/srp/Documents/LLP_DATA/2025-08-08_2HDM-A/LLP_data/mass_1.58e+00_ctau_1.44e-01_br_1.00e+00_seed_840337.csv\n",
      "Error message: [Errno 28] No space left on device: '/home/srp/Documents/LLP_DATA/2025-08-08_2HDM-A/Completed_llp_data_precise_cross_section'\n"
     ]
    },
    {
     "name": "stderr",
     "output_type": "stream",
     "text": [
      "100%|██████████| 209/209 [15:42:04<00:00, 270.45s/it]\n"
     ]
    },
    {
     "name": "stdout",
     "output_type": "stream",
     "text": [
      "The Generation of LLPs is Completed\n"
     ]
    },
    {
     "name": "stderr",
     "output_type": "stream",
     "text": [
      "  0%|          | 0/1544 [00:00<?, ?it/s]"
     ]
    },
    {
     "name": "stdout",
     "output_type": "stream",
     "text": [
      "Error with file: /home/srp/Documents/LLP_DATA/2025-08-08_2HDM-A/LLP_data/mass_5.01e-01_ctau_2.28e-01_br_1.00e+00_seed_846798.csv\n",
      "Error message: [Errno 28] No space left on device: '/home/srp/Documents/LLP_DATA/2025-08-08_2HDM-A/Completed_llp_data_precise_cross_section'\n"
     ]
    },
    {
     "name": "stderr",
     "output_type": "stream",
     "text": [
      "  0%|          | 3/1538 [09:15<78:46:57, 184.77s/it]"
     ]
    },
    {
     "name": "stdout",
     "output_type": "stream",
     "text": [
      "Error with file: /home/srp/Documents/LLP_DATA/2025-08-08_2HDM-A/LLP_data/mass_5.01e-01_ctau_2.28e-01_br_1.00e+00_seed_846798.csv\n",
      "Error message: [Errno 28] No space left on device: '/home/srp/Documents/LLP_DATA/2025-08-08_2HDM-A/Completed_llp_data_precise_cross_section'\n"
     ]
    },
    {
     "name": "stderr",
     "output_type": "stream",
     "text": [
      "  0%|          | 3/1540 [09:15<78:58:54, 184.99s/it]"
     ]
    },
    {
     "name": "stdout",
     "output_type": "stream",
     "text": [
      "Error with file: /home/srp/Documents/LLP_DATA/2025-08-08_2HDM-A/LLP_data/mass_3.98e-01_ctau_2.28e+00_br_1.00e+00_seed_349319.csv\n",
      "Error message: [Errno 28] No space left on device: '/home/srp/Documents/LLP_DATA/2025-08-08_2HDM-A/Completed_llp_data_precise_cross_section'\n"
     ]
    },
    {
     "name": "stderr",
     "output_type": "stream",
     "text": [
      "  0%|          | 1/1544 [03:03<78:48:06, 183.85s/it]"
     ]
    },
    {
     "name": "stdout",
     "output_type": "stream",
     "text": [
      "Error with file: /home/srp/Documents/LLP_DATA/2025-08-08_2HDM-A/LLP_data/mass_1.58e-02_ctau_5.73e-06_br_1.00e+00_seed_666422.csv\n",
      "Error message: [Errno 28] No space left on device: '/home/srp/Documents/LLP_DATA/2025-08-08_2HDM-A/Completed_llp_data_precise_cross_section'\n"
     ]
    },
    {
     "name": "stderr",
     "output_type": "stream",
     "text": [
      "100%|██████████| 209/209 [15:45:25<00:00, 271.41s/it]\n"
     ]
    },
    {
     "name": "stdout",
     "output_type": "stream",
     "text": [
      "The Generation of LLPs is Completed\n"
     ]
    },
    {
     "name": "stderr",
     "output_type": "stream",
     "text": [
      "  0%|          | 0/1545 [00:00<?, ?it/s]"
     ]
    },
    {
     "name": "stdout",
     "output_type": "stream",
     "text": [
      "Error with file: /home/srp/Documents/LLP_DATA/2025-08-08_2HDM-A/LLP_data/mass_1.58e-02_ctau_5.73e-06_br_1.00e+00_seed_666422.csv\n",
      "Error message: [Errno 28] No space left on device: '/home/srp/Documents/LLP_DATA/2025-08-08_2HDM-A/Completed_llp_data_precise_cross_section'\n"
     ]
    },
    {
     "name": "stderr",
     "output_type": "stream",
     "text": [
      "  0%|          | 4/1540 [12:21<79:07:24, 185.45s/it]"
     ]
    },
    {
     "name": "stdout",
     "output_type": "stream",
     "text": [
      "Error with file: /home/srp/Documents/LLP_DATA/2025-08-08_2HDM-A/LLP_data/mass_1.58e+00_ctau_1.44e-01_br_1.00e+00_seed_840337.csv\n",
      "Error message: [Errno 28] No space left on device: '/home/srp/Documents/LLP_DATA/2025-08-08_2HDM-A/Completed_llp_data_precise_cross_section'\n"
     ]
    },
    {
     "name": "stderr",
     "output_type": "stream",
     "text": [
      "  0%|          | 2/1544 [06:09<79:06:05, 184.67s/it]"
     ]
    },
    {
     "name": "stdout",
     "output_type": "stream",
     "text": [
      "Error with file: /home/srp/Documents/LLP_DATA/2025-08-08_2HDM-A/LLP_data/mass_1.26e-01_ctau_5.73e-01_br_1.00e+00_seed_33059.csv\n",
      "Error message: [Errno 28] No space left on device: '/home/srp/Documents/LLP_DATA/2025-08-08_2HDM-A/Completed_llp_data_precise_cross_section'\n"
     ]
    },
    {
     "name": "stderr",
     "output_type": "stream",
     "text": [
      "  0%|          | 5/1538 [15:25<78:47:55, 185.05s/it]"
     ]
    },
    {
     "name": "stdout",
     "output_type": "stream",
     "text": [
      "Error with file: /home/srp/Documents/LLP_DATA/2025-08-08_2HDM-A/LLP_data/mass_3.98e-01_ctau_2.28e+00_br_1.00e+00_seed_349319.csv\n",
      "Error message: [Errno 28] No space left on device: '/home/srp/Documents/LLP_DATA/2025-08-08_2HDM-A/Completed_llp_data_precise_cross_section'\n"
     ]
    },
    {
     "name": "stderr",
     "output_type": "stream",
     "text": [
      "  0%|          | 1/1545 [03:04<79:17:30, 184.88s/it]"
     ]
    },
    {
     "name": "stdout",
     "output_type": "stream",
     "text": [
      "Error with file: /home/srp/Documents/LLP_DATA/2025-08-08_2HDM-A/LLP_data/mass_1.26e-01_ctau_5.73e-01_br_1.00e+00_seed_33059.csv\n",
      "Error message: [Errno 28] No space left on device: '/home/srp/Documents/LLP_DATA/2025-08-08_2HDM-A/Completed_llp_data_precise_cross_section'\n"
     ]
    },
    {
     "name": "stderr",
     "output_type": "stream",
     "text": [
      "  0%|          | 5/1540 [15:28<79:17:02, 185.94s/it]"
     ]
    },
    {
     "name": "stdout",
     "output_type": "stream",
     "text": [
      "Error with file: /home/srp/Documents/LLP_DATA/2025-08-08_2HDM-A/LLP_data/mass_5.01e-01_ctau_2.28e-01_br_1.00e+00_seed_846798.csv\n",
      "Error message: [Errno 28] No space left on device: '/home/srp/Documents/LLP_DATA/2025-08-08_2HDM-A/Completed_llp_data_precise_cross_section'\n"
     ]
    },
    {
     "name": "stderr",
     "output_type": "stream",
     "text": [
      "  0%|          | 3/1544 [09:15<79:26:47, 185.60s/it]"
     ]
    },
    {
     "name": "stdout",
     "output_type": "stream",
     "text": [
      "Error with file: /home/srp/Documents/LLP_DATA/2025-08-08_2HDM-A/LLP_data/mass_3.16e-02_ctau_2.28e-03_br_1.00e+00_seed_599862.csv\n",
      "Error message: [Errno 28] No space left on device: '/home/srp/Documents/LLP_DATA/2025-08-08_2HDM-A/Completed_llp_data_precise_cross_section'\n"
     ]
    },
    {
     "name": "stderr",
     "output_type": "stream",
     "text": [
      "  0%|          | 6/1538 [18:30<78:41:08, 184.90s/it]"
     ]
    },
    {
     "name": "stdout",
     "output_type": "stream",
     "text": [
      "Error with file: /home/srp/Documents/LLP_DATA/2025-08-08_2HDM-A/LLP_data/mass_1.58e+00_ctau_1.44e-01_br_1.00e+00_seed_840337.csv\n",
      "Error message: [Errno 28] No space left on device: '/home/srp/Documents/LLP_DATA/2025-08-08_2HDM-A/Completed_llp_data_precise_cross_section'\n"
     ]
    },
    {
     "name": "stderr",
     "output_type": "stream",
     "text": [
      "  0%|          | 2/1545 [06:09<79:11:08, 184.75s/it]"
     ]
    },
    {
     "name": "stdout",
     "output_type": "stream",
     "text": [
      "Error with file: /home/srp/Documents/LLP_DATA/2025-08-08_2HDM-A/LLP_data/mass_3.16e-02_ctau_2.28e-03_br_1.00e+00_seed_599862.csv\n",
      "Error message: [Errno 28] No space left on device: '/home/srp/Documents/LLP_DATA/2025-08-08_2HDM-A/Completed_llp_data_precise_cross_section'\n"
     ]
    },
    {
     "name": "stderr",
     "output_type": "stream",
     "text": [
      "  0%|          | 6/1540 [18:33<79:08:19, 185.72s/it]"
     ]
    },
    {
     "name": "stdout",
     "output_type": "stream",
     "text": [
      "Error with file: /home/srp/Documents/LLP_DATA/2025-08-08_2HDM-A/LLP_data/mass_1.58e-02_ctau_5.73e-06_br_1.00e+00_seed_666422.csv\n",
      "Error message: [Errno 28] No space left on device: '/home/srp/Documents/LLP_DATA/2025-08-08_2HDM-A/Completed_llp_data_precise_cross_section'\n"
     ]
    },
    {
     "name": "stderr",
     "output_type": "stream",
     "text": [
      "  0%|          | 4/1544 [12:18<78:57:23, 184.57s/it]"
     ]
    },
    {
     "name": "stdout",
     "output_type": "stream",
     "text": [
      "Error with file: /home/srp/Documents/LLP_DATA/2025-08-08_2HDM-A/LLP_data/mass_5.01e-02_ctau_2.28e-04_br_1.00e+00_seed_107832.csv\n",
      "Error message: [Errno 28] No space left on device: '/home/srp/Documents/LLP_DATA/2025-08-08_2HDM-A/Completed_llp_data_precise_cross_section'\n"
     ]
    },
    {
     "name": "stderr",
     "output_type": "stream",
     "text": [
      "  0%|          | 7/1538 [21:33<78:29:10, 184.55s/it]"
     ]
    },
    {
     "name": "stdout",
     "output_type": "stream",
     "text": [
      "Error with file: /home/srp/Documents/LLP_DATA/2025-08-08_2HDM-A/LLP_data/mass_5.01e-01_ctau_2.28e-01_br_1.00e+00_seed_846798.csv\n",
      "Error message: [Errno 28] No space left on device: '/home/srp/Documents/LLP_DATA/2025-08-08_2HDM-A/Completed_llp_data_precise_cross_section'\n"
     ]
    },
    {
     "name": "stderr",
     "output_type": "stream",
     "text": [
      "  0%|          | 3/1545 [09:13<78:56:03, 184.28s/it]"
     ]
    },
    {
     "name": "stdout",
     "output_type": "stream",
     "text": [
      "Error with file: /home/srp/Documents/LLP_DATA/2025-08-08_2HDM-A/LLP_data/mass_5.01e-02_ctau_2.28e-04_br_1.00e+00_seed_107832.csv\n",
      "Error message: [Errno 28] No space left on device: '/home/srp/Documents/LLP_DATA/2025-08-08_2HDM-A/Completed_llp_data_precise_cross_section'\n"
     ]
    },
    {
     "name": "stderr",
     "output_type": "stream",
     "text": [
      "  0%|          | 7/1540 [21:40<79:13:34, 186.05s/it]"
     ]
    },
    {
     "name": "stdout",
     "output_type": "stream",
     "text": [
      "Error with file: /home/srp/Documents/LLP_DATA/2025-08-08_2HDM-A/LLP_data/mass_1.26e-01_ctau_5.73e-01_br_1.00e+00_seed_33059.csv\n",
      "Error message: [Errno 28] No space left on device: '/home/srp/Documents/LLP_DATA/2025-08-08_2HDM-A/Completed_llp_data_precise_cross_section'\n"
     ]
    },
    {
     "name": "stderr",
     "output_type": "stream",
     "text": [
      "  0%|          | 5/1544 [15:23<78:59:27, 184.77s/it]"
     ]
    },
    {
     "name": "stdout",
     "output_type": "stream",
     "text": [
      "Error with file: /home/srp/Documents/LLP_DATA/2025-08-08_2HDM-A/LLP_data/mass_7.94e-01_ctau_5.73e-02_br_1.00e+00_seed_846798.csv\n",
      "Error message: [Errno 28] No space left on device: '/home/srp/Documents/LLP_DATA/2025-08-08_2HDM-A/Completed_llp_data_precise_cross_section'\n"
     ]
    },
    {
     "name": "stderr",
     "output_type": "stream",
     "text": [
      "  1%|          | 8/1538 [24:40<78:42:12, 185.18s/it]"
     ]
    },
    {
     "name": "stdout",
     "output_type": "stream",
     "text": [
      "Error with file: /home/srp/Documents/LLP_DATA/2025-08-08_2HDM-A/LLP_data/mass_1.58e-02_ctau_5.73e-06_br_1.00e+00_seed_666422.csv\n",
      "Error message: [Errno 28] No space left on device: '/home/srp/Documents/LLP_DATA/2025-08-08_2HDM-A/Completed_llp_data_precise_cross_section'\n"
     ]
    },
    {
     "name": "stderr",
     "output_type": "stream",
     "text": [
      "  0%|          | 4/1545 [12:17<78:55:09, 184.37s/it]"
     ]
    },
    {
     "name": "stdout",
     "output_type": "stream",
     "text": [
      "Error with file: /home/srp/Documents/LLP_DATA/2025-08-08_2HDM-A/LLP_data/mass_7.94e-01_ctau_5.73e-02_br_1.00e+00_seed_846798.csv\n",
      "Error message: [Errno 28] No space left on device: '/home/srp/Documents/LLP_DATA/2025-08-08_2HDM-A/Completed_llp_data_precise_cross_section'\n"
     ]
    },
    {
     "name": "stderr",
     "output_type": "stream",
     "text": [
      "  1%|          | 8/1540 [24:47<79:23:12, 186.55s/it]"
     ]
    },
    {
     "name": "stdout",
     "output_type": "stream",
     "text": [
      "Error with file: /home/srp/Documents/LLP_DATA/2025-08-08_2HDM-A/LLP_data/mass_3.16e-02_ctau_2.28e-03_br_1.00e+00_seed_599862.csv\n",
      "Error message: [Errno 28] No space left on device: '/home/srp/Documents/LLP_DATA/2025-08-08_2HDM-A/Completed_llp_data_precise_cross_section'\n"
     ]
    },
    {
     "name": "stderr",
     "output_type": "stream",
     "text": [
      "  0%|          | 6/1544 [18:28<78:52:23, 184.62s/it]"
     ]
    },
    {
     "name": "stdout",
     "output_type": "stream",
     "text": [
      "Error with file: /home/srp/Documents/LLP_DATA/2025-08-08_2HDM-A/LLP_data/mass_3.16e-01_ctau_3.61e-06_br_1.00e+00_seed_846798.csv\n",
      "Error message: [Errno 28] No space left on device: '/home/srp/Documents/LLP_DATA/2025-08-08_2HDM-A/Completed_llp_data_precise_cross_section'\n"
     ]
    },
    {
     "name": "stderr",
     "output_type": "stream",
     "text": [
      "  1%|          | 9/1538 [27:46<78:46:03, 185.46s/it]"
     ]
    },
    {
     "name": "stdout",
     "output_type": "stream",
     "text": [
      "Error with file: /home/srp/Documents/LLP_DATA/2025-08-08_2HDM-A/LLP_data/mass_1.26e-01_ctau_5.73e-01_br_1.00e+00_seed_33059.csv\n",
      "Error message: [Errno 28] No space left on device: '/home/srp/Documents/LLP_DATA/2025-08-08_2HDM-A/Completed_llp_data_precise_cross_section'\n"
     ]
    },
    {
     "name": "stderr",
     "output_type": "stream",
     "text": [
      "  0%|          | 5/1545 [15:23<79:00:46, 184.71s/it]"
     ]
    },
    {
     "name": "stdout",
     "output_type": "stream",
     "text": [
      "Error with file: /home/srp/Documents/LLP_DATA/2025-08-08_2HDM-A/LLP_data/mass_3.16e-01_ctau_3.61e-06_br_1.00e+00_seed_846798.csv\n",
      "Error message: [Errno 28] No space left on device: '/home/srp/Documents/LLP_DATA/2025-08-08_2HDM-A/Completed_llp_data_precise_cross_section'\n"
     ]
    },
    {
     "name": "stderr",
     "output_type": "stream",
     "text": [
      "  1%|          | 9/1540 [28:03<80:31:09, 189.33s/it]"
     ]
    },
    {
     "name": "stdout",
     "output_type": "stream",
     "text": [
      "Error with file: /home/srp/Documents/LLP_DATA/2025-08-08_2HDM-A/LLP_data/mass_5.01e-02_ctau_2.28e-04_br_1.00e+00_seed_107832.csv\n",
      "Error message: [Errno 28] No space left on device: '/home/srp/Documents/LLP_DATA/2025-08-08_2HDM-A/Completed_llp_data_precise_cross_section'\n"
     ]
    },
    {
     "name": "stderr",
     "output_type": "stream",
     "text": [
      "  0%|          | 7/1544 [21:41<80:00:38, 187.40s/it]"
     ]
    },
    {
     "name": "stdout",
     "output_type": "stream",
     "text": [
      "Error with file: /home/srp/Documents/LLP_DATA/2025-08-08_2HDM-A/LLP_data/mass_2.51e-02_ctau_1.44e-03_br_1.00e+00_seed_666422.csv\n",
      "Error message: [Errno 28] No space left on device: '/home/srp/Documents/LLP_DATA/2025-08-08_2HDM-A/Completed_llp_data_precise_cross_section'\n"
     ]
    },
    {
     "name": "stderr",
     "output_type": "stream",
     "text": [
      "  1%|          | 10/1538 [31:01<79:55:43, 188.31s/it]"
     ]
    },
    {
     "name": "stdout",
     "output_type": "stream",
     "text": [
      "Error with file: /home/srp/Documents/LLP_DATA/2025-08-08_2HDM-A/LLP_data/mass_3.16e-02_ctau_2.28e-03_br_1.00e+00_seed_599862.csv\n",
      "Error message: [Errno 28] No space left on device: '/home/srp/Documents/LLP_DATA/2025-08-08_2HDM-A/Completed_llp_data_precise_cross_section'\n"
     ]
    },
    {
     "name": "stderr",
     "output_type": "stream",
     "text": [
      "  0%|          | 6/1545 [18:39<80:41:39, 188.76s/it]"
     ]
    },
    {
     "name": "stdout",
     "output_type": "stream",
     "text": [
      "Error with file: /home/srp/Documents/LLP_DATA/2025-08-08_2HDM-A/LLP_data/mass_2.51e-02_ctau_1.44e-03_br_1.00e+00_seed_666422.csv\n",
      "Error message: [Errno 28] No space left on device: '/home/srp/Documents/LLP_DATA/2025-08-08_2HDM-A/Completed_llp_data_precise_cross_section'\n"
     ]
    },
    {
     "name": "stderr",
     "output_type": "stream",
     "text": [
      "  1%|          | 10/1540 [31:07<79:49:51, 187.84s/it]"
     ]
    },
    {
     "name": "stdout",
     "output_type": "stream",
     "text": [
      "Error with file: /home/srp/Documents/LLP_DATA/2025-08-08_2HDM-A/LLP_data/mass_7.94e-01_ctau_5.73e-02_br_1.00e+00_seed_846798.csv\n",
      "Error message: [Errno 28] No space left on device: '/home/srp/Documents/LLP_DATA/2025-08-08_2HDM-A/Completed_llp_data_precise_cross_section'\n"
     ]
    },
    {
     "name": "stderr",
     "output_type": "stream",
     "text": [
      "  1%|          | 8/1544 [24:46<79:35:25, 186.54s/it]"
     ]
    },
    {
     "name": "stdout",
     "output_type": "stream",
     "text": [
      "Error with file: /home/srp/Documents/LLP_DATA/2025-08-08_2HDM-A/LLP_data/mass_3.16e-02_ctau_3.61e-06_br_1.00e+00_seed_599862.csv\n",
      "Error message: [Errno 28] No space left on device: '/home/srp/Documents/LLP_DATA/2025-08-08_2HDM-A/Completed_llp_data_precise_cross_section'\n"
     ]
    },
    {
     "name": "stderr",
     "output_type": "stream",
     "text": [
      "  1%|          | 11/1538 [34:06<79:26:37, 187.29s/it]"
     ]
    },
    {
     "name": "stdout",
     "output_type": "stream",
     "text": [
      "Error with file: /home/srp/Documents/LLP_DATA/2025-08-08_2HDM-A/LLP_data/mass_5.01e-02_ctau_2.28e-04_br_1.00e+00_seed_107832.csv\n",
      "Error message: [Errno 28] No space left on device: '/home/srp/Documents/LLP_DATA/2025-08-08_2HDM-A/Completed_llp_data_precise_cross_section'\n"
     ]
    },
    {
     "name": "stderr",
     "output_type": "stream",
     "text": [
      "  0%|          | 7/1545 [21:44<80:04:31, 187.43s/it]"
     ]
    },
    {
     "name": "stdout",
     "output_type": "stream",
     "text": [
      "Error with file: /home/srp/Documents/LLP_DATA/2025-08-08_2HDM-A/LLP_data/mass_3.16e-02_ctau_3.61e-06_br_1.00e+00_seed_599862.csv\n",
      "Error message: [Errno 28] No space left on device: '/home/srp/Documents/LLP_DATA/2025-08-08_2HDM-A/Completed_llp_data_precise_cross_section'\n"
     ]
    },
    {
     "name": "stderr",
     "output_type": "stream",
     "text": [
      "  1%|          | 11/1540 [34:11<79:14:57, 186.59s/it]"
     ]
    },
    {
     "name": "stdout",
     "output_type": "stream",
     "text": [
      "Error with file: /home/srp/Documents/LLP_DATA/2025-08-08_2HDM-A/LLP_data/mass_3.16e-01_ctau_3.61e-06_br_1.00e+00_seed_846798.csv\n",
      "Error message: [Errno 28] No space left on device: '/home/srp/Documents/LLP_DATA/2025-08-08_2HDM-A/Completed_llp_data_precise_cross_section'\n"
     ]
    },
    {
     "name": "stderr",
     "output_type": "stream",
     "text": [
      "  1%|          | 9/1544 [27:50<79:16:58, 185.94s/it]"
     ]
    },
    {
     "name": "stdout",
     "output_type": "stream",
     "text": [
      "Error with file: /home/srp/Documents/LLP_DATA/2025-08-08_2HDM-A/LLP_data/mass_2.51e-01_ctau_9.07e-01_br_1.00e+00_seed_846798.csv\n",
      "Error message: [Errno 28] No space left on device: '/home/srp/Documents/LLP_DATA/2025-08-08_2HDM-A/Completed_llp_data_precise_cross_section'\n"
     ]
    },
    {
     "name": "stderr",
     "output_type": "stream",
     "text": [
      "  1%|          | 12/1538 [37:10<78:58:53, 186.33s/it]"
     ]
    },
    {
     "name": "stdout",
     "output_type": "stream",
     "text": [
      "Error with file: /home/srp/Documents/LLP_DATA/2025-08-08_2HDM-A/LLP_data/mass_7.94e-01_ctau_5.73e-02_br_1.00e+00_seed_846798.csv\n",
      "Error message: [Errno 28] No space left on device: '/home/srp/Documents/LLP_DATA/2025-08-08_2HDM-A/Completed_llp_data_precise_cross_section'\n"
     ]
    },
    {
     "name": "stderr",
     "output_type": "stream",
     "text": [
      "  1%|          | 8/1545 [24:48<79:35:59, 186.44s/it]"
     ]
    },
    {
     "name": "stdout",
     "output_type": "stream",
     "text": [
      "Error with file: /home/srp/Documents/LLP_DATA/2025-08-08_2HDM-A/LLP_data/mass_2.51e-01_ctau_9.07e-01_br_1.00e+00_seed_846798.csv\n",
      "Error message: [Errno 28] No space left on device: '/home/srp/Documents/LLP_DATA/2025-08-08_2HDM-A/Completed_llp_data_precise_cross_section'\n"
     ]
    },
    {
     "name": "stderr",
     "output_type": "stream",
     "text": [
      "  1%|          | 12/1540 [37:15<78:53:20, 185.86s/it]"
     ]
    },
    {
     "name": "stdout",
     "output_type": "stream",
     "text": [
      "Error with file: /home/srp/Documents/LLP_DATA/2025-08-08_2HDM-A/LLP_data/mass_2.51e-02_ctau_1.44e-03_br_1.00e+00_seed_666422.csv\n",
      "Error message: [Errno 28] No space left on device: '/home/srp/Documents/LLP_DATA/2025-08-08_2HDM-A/Completed_llp_data_precise_cross_section'\n"
     ]
    },
    {
     "name": "stderr",
     "output_type": "stream",
     "text": [
      "  1%|          | 10/1544 [30:53<78:52:49, 185.12s/it]"
     ]
    },
    {
     "name": "stdout",
     "output_type": "stream",
     "text": [
      "Error with file: /home/srp/Documents/LLP_DATA/2025-08-08_2HDM-A/LLP_data/mass_2.51e-01_ctau_3.61e-01_br_1.00e+00_seed_349319.csv\n",
      "Error message: [Errno 28] No space left on device: '/home/srp/Documents/LLP_DATA/2025-08-08_2HDM-A/Completed_llp_data_precise_cross_section'\n"
     ]
    },
    {
     "name": "stderr",
     "output_type": "stream",
     "text": [
      "  1%|          | 13/1538 [40:13<78:31:43, 185.38s/it]"
     ]
    },
    {
     "name": "stdout",
     "output_type": "stream",
     "text": [
      "Error with file: /home/srp/Documents/LLP_DATA/2025-08-08_2HDM-A/LLP_data/mass_3.16e-01_ctau_3.61e-06_br_1.00e+00_seed_846798.csv\n",
      "Error message: [Errno 28] No space left on device: '/home/srp/Documents/LLP_DATA/2025-08-08_2HDM-A/Completed_llp_data_precise_cross_section'\n"
     ]
    },
    {
     "name": "stderr",
     "output_type": "stream",
     "text": [
      "  1%|          | 9/1545 [27:53<79:18:58, 185.90s/it]"
     ]
    },
    {
     "name": "stdout",
     "output_type": "stream",
     "text": [
      "Error with file: /home/srp/Documents/LLP_DATA/2025-08-08_2HDM-A/LLP_data/mass_2.51e-01_ctau_3.61e-01_br_1.00e+00_seed_349319.csv\n",
      "Error message: [Errno 28] No space left on device: '/home/srp/Documents/LLP_DATA/2025-08-08_2HDM-A/Completed_llp_data_precise_cross_section'\n"
     ]
    },
    {
     "name": "stderr",
     "output_type": "stream",
     "text": [
      "  1%|          | 13/1540 [40:24<79:13:52, 186.79s/it]"
     ]
    },
    {
     "name": "stdout",
     "output_type": "stream",
     "text": [
      "Error with file: /home/srp/Documents/LLP_DATA/2025-08-08_2HDM-A/LLP_data/mass_3.16e-02_ctau_3.61e-06_br_1.00e+00_seed_599862.csv\n",
      "Error message: [Errno 28] No space left on device: '/home/srp/Documents/LLP_DATA/2025-08-08_2HDM-A/Completed_llp_data_precise_cross_section'\n"
     ]
    },
    {
     "name": "stderr",
     "output_type": "stream",
     "text": [
      "  1%|          | 11/1544 [34:02<79:16:34, 186.17s/it]"
     ]
    },
    {
     "name": "stdout",
     "output_type": "stream",
     "text": [
      "Error with file: /home/srp/Documents/LLP_DATA/2025-08-08_2HDM-A/LLP_data/mass_1.26e+00_ctau_1.44e-05_br_1.00e+00_seed_380686.csv\n",
      "Error message: [Errno 28] No space left on device: '/home/srp/Documents/LLP_DATA/2025-08-08_2HDM-A/Completed_llp_data_precise_cross_section'\n"
     ]
    },
    {
     "name": "stderr",
     "output_type": "stream",
     "text": [
      "  1%|          | 14/1538 [43:21<78:48:40, 186.17s/it]"
     ]
    },
    {
     "name": "stdout",
     "output_type": "stream",
     "text": [
      "Error with file: /home/srp/Documents/LLP_DATA/2025-08-08_2HDM-A/LLP_data/mass_2.51e-02_ctau_1.44e-03_br_1.00e+00_seed_666422.csv\n",
      "Error message: [Errno 28] No space left on device: '/home/srp/Documents/LLP_DATA/2025-08-08_2HDM-A/Completed_llp_data_precise_cross_section'\n"
     ]
    },
    {
     "name": "stderr",
     "output_type": "stream",
     "text": [
      "  1%|          | 10/1545 [31:04<79:54:22, 187.40s/it]"
     ]
    },
    {
     "name": "stdout",
     "output_type": "stream",
     "text": [
      "Error with file: /home/srp/Documents/LLP_DATA/2025-08-08_2HDM-A/LLP_data/mass_1.26e+00_ctau_1.44e-05_br_1.00e+00_seed_380686.csv\n",
      "Error message: [Errno 28] No space left on device: '/home/srp/Documents/LLP_DATA/2025-08-08_2HDM-A/Completed_llp_data_precise_cross_section'\n"
     ]
    },
    {
     "name": "stderr",
     "output_type": "stream",
     "text": [
      "  1%|          | 14/1540 [43:29<78:54:12, 186.14s/it]"
     ]
    },
    {
     "name": "stdout",
     "output_type": "stream",
     "text": [
      "Error with file: /home/srp/Documents/LLP_DATA/2025-08-08_2HDM-A/LLP_data/mass_2.51e-01_ctau_9.07e-01_br_1.00e+00_seed_846798.csv\n",
      "Error message: [Errno 28] No space left on device: '/home/srp/Documents/LLP_DATA/2025-08-08_2HDM-A/Completed_llp_data_precise_cross_section'\n"
     ]
    },
    {
     "name": "stderr",
     "output_type": "stream",
     "text": [
      "  1%|          | 12/1544 [37:07<79:06:44, 185.90s/it]"
     ]
    },
    {
     "name": "stdout",
     "output_type": "stream",
     "text": [
      "Error with file: /home/srp/Documents/LLP_DATA/2025-08-08_2HDM-A/LLP_data/mass_1.58e+00_ctau_1.44e+00_br_1.00e+00_seed_380686.csv\n",
      "Error message: [Errno 28] No space left on device: '/home/srp/Documents/LLP_DATA/2025-08-08_2HDM-A/Completed_llp_data_precise_cross_section'\n"
     ]
    },
    {
     "name": "stderr",
     "output_type": "stream",
     "text": [
      "  1%|          | 15/1538 [46:26<78:35:45, 185.78s/it]"
     ]
    },
    {
     "name": "stdout",
     "output_type": "stream",
     "text": [
      "Error with file: /home/srp/Documents/LLP_DATA/2025-08-08_2HDM-A/LLP_data/mass_3.16e-02_ctau_3.61e-06_br_1.00e+00_seed_599862.csv\n",
      "Error message: [Errno 28] No space left on device: '/home/srp/Documents/LLP_DATA/2025-08-08_2HDM-A/Completed_llp_data_precise_cross_section'\n"
     ]
    },
    {
     "name": "stderr",
     "output_type": "stream",
     "text": [
      "  1%|          | 11/1545 [34:09<79:37:36, 186.87s/it]"
     ]
    },
    {
     "name": "stdout",
     "output_type": "stream",
     "text": [
      "Error with file: /home/srp/Documents/LLP_DATA/2025-08-08_2HDM-A/LLP_data/mass_1.58e+00_ctau_1.44e+00_br_1.00e+00_seed_380686.csv\n",
      "Error message: [Errno 28] No space left on device: '/home/srp/Documents/LLP_DATA/2025-08-08_2HDM-A/Completed_llp_data_precise_cross_section'\n"
     ]
    },
    {
     "name": "stderr",
     "output_type": "stream",
     "text": [
      "  1%|          | 15/1540 [46:34<78:43:39, 185.85s/it]"
     ]
    },
    {
     "name": "stdout",
     "output_type": "stream",
     "text": [
      "Error with file: /home/srp/Documents/LLP_DATA/2025-08-08_2HDM-A/LLP_data/mass_2.51e-01_ctau_3.61e-01_br_1.00e+00_seed_349319.csv\n",
      "Error message: [Errno 28] No space left on device: '/home/srp/Documents/LLP_DATA/2025-08-08_2HDM-A/Completed_llp_data_precise_cross_section'\n"
     ]
    },
    {
     "name": "stderr",
     "output_type": "stream",
     "text": [
      "  1%|          | 13/1544 [40:12<78:52:48, 185.48s/it]"
     ]
    },
    {
     "name": "stdout",
     "output_type": "stream",
     "text": [
      "Error with file: /home/srp/Documents/LLP_DATA/2025-08-08_2HDM-A/LLP_data/mass_6.31e-02_ctau_3.61e-01_br_1.00e+00_seed_33059.csv\n",
      "Error message: [Errno 28] No space left on device: '/home/srp/Documents/LLP_DATA/2025-08-08_2HDM-A/Completed_llp_data_precise_cross_section'\n"
     ]
    },
    {
     "name": "stderr",
     "output_type": "stream",
     "text": [
      "  1%|          | 16/1538 [49:31<78:28:35, 185.62s/it]"
     ]
    },
    {
     "name": "stdout",
     "output_type": "stream",
     "text": [
      "Error with file: /home/srp/Documents/LLP_DATA/2025-08-08_2HDM-A/LLP_data/mass_2.51e-01_ctau_9.07e-01_br_1.00e+00_seed_846798.csv\n",
      "Error message: [Errno 28] No space left on device: '/home/srp/Documents/LLP_DATA/2025-08-08_2HDM-A/Completed_llp_data_precise_cross_section'\n"
     ]
    },
    {
     "name": "stderr",
     "output_type": "stream",
     "text": [
      "  1%|          | 12/1545 [37:16<79:33:18, 186.82s/it]"
     ]
    },
    {
     "name": "stdout",
     "output_type": "stream",
     "text": [
      "Error with file: /home/srp/Documents/LLP_DATA/2025-08-08_2HDM-A/LLP_data/mass_6.31e-02_ctau_3.61e-01_br_1.00e+00_seed_33059.csv\n",
      "Error message: [Errno 28] No space left on device: '/home/srp/Documents/LLP_DATA/2025-08-08_2HDM-A/Completed_llp_data_precise_cross_section'\n"
     ]
    },
    {
     "name": "stderr",
     "output_type": "stream",
     "text": [
      "  1%|          | 16/1540 [49:39<78:32:50, 185.55s/it]"
     ]
    },
    {
     "name": "stdout",
     "output_type": "stream",
     "text": [
      "Error with file: /home/srp/Documents/LLP_DATA/2025-08-08_2HDM-A/LLP_data/mass_1.26e+00_ctau_1.44e-05_br_1.00e+00_seed_380686.csv\n",
      "Error message: [Errno 28] No space left on device: '/home/srp/Documents/LLP_DATA/2025-08-08_2HDM-A/Completed_llp_data_precise_cross_section'\n"
     ]
    },
    {
     "name": "stderr",
     "output_type": "stream",
     "text": [
      "  1%|          | 14/1544 [43:16<78:39:12, 185.07s/it]"
     ]
    },
    {
     "name": "stdout",
     "output_type": "stream",
     "text": [
      "Error with file: /home/srp/Documents/LLP_DATA/2025-08-08_2HDM-A/LLP_data/mass_1.58e+00_ctau_5.73e-02_br_1.00e+00_seed_380686.csv\n",
      "Error message: [Errno 28] No space left on device: '/home/srp/Documents/LLP_DATA/2025-08-08_2HDM-A/Completed_llp_data_precise_cross_section'\n"
     ]
    },
    {
     "name": "stderr",
     "output_type": "stream",
     "text": [
      "  1%|          | 17/1538 [52:35<78:12:01, 185.09s/it]"
     ]
    },
    {
     "name": "stdout",
     "output_type": "stream",
     "text": [
      "Error with file: /home/srp/Documents/LLP_DATA/2025-08-08_2HDM-A/LLP_data/mass_2.51e-01_ctau_3.61e-01_br_1.00e+00_seed_349319.csv\n",
      "Error message: [Errno 28] No space left on device: '/home/srp/Documents/LLP_DATA/2025-08-08_2HDM-A/Completed_llp_data_precise_cross_section'\n"
     ]
    },
    {
     "name": "stderr",
     "output_type": "stream",
     "text": [
      "  1%|          | 13/1545 [40:21<79:19:07, 186.39s/it]"
     ]
    },
    {
     "name": "stdout",
     "output_type": "stream",
     "text": [
      "Error with file: /home/srp/Documents/LLP_DATA/2025-08-08_2HDM-A/LLP_data/mass_1.58e+00_ctau_5.73e-02_br_1.00e+00_seed_380686.csv\n",
      "Error message: [Errno 28] No space left on device: '/home/srp/Documents/LLP_DATA/2025-08-08_2HDM-A/Completed_llp_data_precise_cross_section'\n"
     ]
    },
    {
     "name": "stderr",
     "output_type": "stream",
     "text": [
      "  1%|          | 17/1540 [52:44<78:27:15, 185.45s/it]"
     ]
    },
    {
     "name": "stdout",
     "output_type": "stream",
     "text": [
      "Error with file: /home/srp/Documents/LLP_DATA/2025-08-08_2HDM-A/LLP_data/mass_1.58e+00_ctau_1.44e+00_br_1.00e+00_seed_380686.csv\n",
      "Error message: [Errno 28] No space left on device: '/home/srp/Documents/LLP_DATA/2025-08-08_2HDM-A/Completed_llp_data_precise_cross_section'\n"
     ]
    },
    {
     "name": "stderr",
     "output_type": "stream",
     "text": [
      "  1%|          | 15/1544 [46:21<78:33:03, 184.95s/it]"
     ]
    },
    {
     "name": "stdout",
     "output_type": "stream",
     "text": [
      "Error with file: /home/srp/Documents/LLP_DATA/2025-08-08_2HDM-A/LLP_data/mass_1.58e+00_ctau_9.07e-01_br_1.00e+00_seed_840337.csv\n",
      "Error message: [Errno 28] No space left on device: '/home/srp/Documents/LLP_DATA/2025-08-08_2HDM-A/Completed_llp_data_precise_cross_section'\n"
     ]
    },
    {
     "name": "stderr",
     "output_type": "stream",
     "text": [
      "  1%|          | 18/1538 [55:39<77:58:14, 184.67s/it]"
     ]
    },
    {
     "name": "stdout",
     "output_type": "stream",
     "text": [
      "Error with file: /home/srp/Documents/LLP_DATA/2025-08-08_2HDM-A/LLP_data/mass_1.26e+00_ctau_1.44e-05_br_1.00e+00_seed_380686.csv\n",
      "Error message: [Errno 28] No space left on device: '/home/srp/Documents/LLP_DATA/2025-08-08_2HDM-A/Completed_llp_data_precise_cross_section'\n"
     ]
    },
    {
     "name": "stderr",
     "output_type": "stream",
     "text": [
      "  1%|          | 14/1545 [43:27<79:10:51, 186.19s/it]"
     ]
    },
    {
     "name": "stdout",
     "output_type": "stream",
     "text": [
      "Error with file: /home/srp/Documents/LLP_DATA/2025-08-08_2HDM-A/LLP_data/mass_1.58e+00_ctau_9.07e-01_br_1.00e+00_seed_840337.csv\n",
      "Error message: [Errno 28] No space left on device: '/home/srp/Documents/LLP_DATA/2025-08-08_2HDM-A/Completed_llp_data_precise_cross_section'\n"
     ]
    },
    {
     "name": "stderr",
     "output_type": "stream",
     "text": [
      "  1%|          | 18/1540 [55:50<78:24:18, 185.45s/it]"
     ]
    },
    {
     "name": "stdout",
     "output_type": "stream",
     "text": [
      "Error with file: /home/srp/Documents/LLP_DATA/2025-08-08_2HDM-A/LLP_data/mass_6.31e-02_ctau_3.61e-01_br_1.00e+00_seed_33059.csv\n",
      "Error message: [Errno 28] No space left on device: '/home/srp/Documents/LLP_DATA/2025-08-08_2HDM-A/Completed_llp_data_precise_cross_section'\n"
     ]
    },
    {
     "name": "stderr",
     "output_type": "stream",
     "text": [
      "  1%|          | 16/1544 [49:26<78:34:43, 185.13s/it]"
     ]
    },
    {
     "name": "stdout",
     "output_type": "stream",
     "text": [
      "Error with file: /home/srp/Documents/LLP_DATA/2025-08-08_2HDM-A/LLP_data/mass_1.26e-02_ctau_5.73e-03_br_1.00e+00_seed_599862.csv\n",
      "Error message: [Errno 28] No space left on device: '/home/srp/Documents/LLP_DATA/2025-08-08_2HDM-A/Completed_llp_data_precise_cross_section'\n"
     ]
    },
    {
     "name": "stderr",
     "output_type": "stream",
     "text": [
      "  1%|          | 19/1538 [58:43<77:51:40, 184.53s/it]"
     ]
    },
    {
     "name": "stdout",
     "output_type": "stream",
     "text": [
      "Error with file: /home/srp/Documents/LLP_DATA/2025-08-08_2HDM-A/LLP_data/mass_1.58e+00_ctau_1.44e+00_br_1.00e+00_seed_380686.csv\n",
      "Error message: [Errno 28] No space left on device: '/home/srp/Documents/LLP_DATA/2025-08-08_2HDM-A/Completed_llp_data_precise_cross_section'\n"
     ]
    },
    {
     "name": "stderr",
     "output_type": "stream",
     "text": [
      "  1%|          | 15/1545 [46:33<79:05:51, 186.11s/it]"
     ]
    },
    {
     "name": "stdout",
     "output_type": "stream",
     "text": [
      "Error with file: /home/srp/Documents/LLP_DATA/2025-08-08_2HDM-A/LLP_data/mass_1.00e+00_ctau_9.07e-05_br_1.00e+00_seed_846798.csv\n",
      "Error message: No columns to parse from file\n",
      "Error with file: /home/srp/Documents/LLP_DATA/2025-08-08_2HDM-A/LLP_data/mass_1.26e-02_ctau_5.73e-03_br_1.00e+00_seed_599862.csv\n",
      "Error message: [Errno 28] No space left on device: '/home/srp/Documents/LLP_DATA/2025-08-08_2HDM-A/Completed_llp_data_precise_cross_section'\n"
     ]
    },
    {
     "name": "stderr",
     "output_type": "stream",
     "text": [
      "  1%|          | 19/1540 [58:54<78:14:28, 185.19s/it]"
     ]
    },
    {
     "name": "stdout",
     "output_type": "stream",
     "text": [
      "Error with file: /home/srp/Documents/LLP_DATA/2025-08-08_2HDM-A/LLP_data/mass_1.58e+00_ctau_5.73e-02_br_1.00e+00_seed_380686.csv\n",
      "Error message: [Errno 28] No space left on device: '/home/srp/Documents/LLP_DATA/2025-08-08_2HDM-A/Completed_llp_data_precise_cross_section'\n"
     ]
    },
    {
     "name": "stderr",
     "output_type": "stream",
     "text": [
      "  1%|          | 17/1544 [52:31<78:25:36, 184.90s/it]"
     ]
    },
    {
     "name": "stdout",
     "output_type": "stream",
     "text": [
      "Error with file: /home/srp/Documents/LLP_DATA/2025-08-08_2HDM-A/LLP_data/mass_2.51e+00_ctau_1.44e+00_br_1.00e+00_seed_840337.csv\n",
      "Error message: [Errno 28] No space left on device: '/home/srp/Documents/LLP_DATA/2025-08-08_2HDM-A/Completed_llp_data_precise_cross_section'\n"
     ]
    },
    {
     "name": "stderr",
     "output_type": "stream",
     "text": [
      "  1%|▏         | 20/1538 [1:01:46<77:39:30, 184.17s/it]"
     ]
    },
    {
     "name": "stdout",
     "output_type": "stream",
     "text": [
      "Error with file: /home/srp/Documents/LLP_DATA/2025-08-08_2HDM-A/LLP_data/mass_6.31e-02_ctau_3.61e-01_br_1.00e+00_seed_33059.csv\n",
      "Error message: [Errno 28] No space left on device: '/home/srp/Documents/LLP_DATA/2025-08-08_2HDM-A/Completed_llp_data_precise_cross_section'\n"
     ]
    },
    {
     "name": "stderr",
     "output_type": "stream",
     "text": [
      "  1%|          | 17/1545 [49:39<60:42:53, 143.05s/it]"
     ]
    },
    {
     "name": "stdout",
     "output_type": "stream",
     "text": [
      "Error with file: /home/srp/Documents/LLP_DATA/2025-08-08_2HDM-A/LLP_data/mass_2.51e+00_ctau_1.44e+00_br_1.00e+00_seed_840337.csv\n",
      "Error message: [Errno 28] No space left on device: '/home/srp/Documents/LLP_DATA/2025-08-08_2HDM-A/Completed_llp_data_precise_cross_section'\n"
     ]
    },
    {
     "name": "stderr",
     "output_type": "stream",
     "text": [
      "  1%|▏         | 20/1540 [1:02:00<78:14:13, 185.30s/it]"
     ]
    },
    {
     "name": "stdout",
     "output_type": "stream",
     "text": [
      "Error with file: /home/srp/Documents/LLP_DATA/2025-08-08_2HDM-A/LLP_data/mass_2.00e-01_ctau_1.44e-02_br_1.00e+00_seed_349319.csv\n",
      "Error message: [Errno 28] No space left on device: '/home/srp/Documents/LLP_DATA/2025-08-08_2HDM-A/Completed_llp_data_precise_cross_section'\n"
     ]
    },
    {
     "name": "stderr",
     "output_type": "stream",
     "text": [
      "  1%|▏         | 21/1538 [1:04:49<77:28:39, 183.86s/it]"
     ]
    },
    {
     "name": "stdout",
     "output_type": "stream",
     "text": [
      "Error with file: /home/srp/Documents/LLP_DATA/2025-08-08_2HDM-A/LLP_data/mass_1.58e+00_ctau_9.07e-01_br_1.00e+00_seed_840337.csv\n",
      "Error message: [Errno 28] No space left on device: '/home/srp/Documents/LLP_DATA/2025-08-08_2HDM-A/Completed_llp_data_precise_cross_section'\n"
     ]
    },
    {
     "name": "stderr",
     "output_type": "stream",
     "text": [
      "  1%|          | 18/1544 [55:35<78:21:40, 184.86s/it]"
     ]
    },
    {
     "name": "stdout",
     "output_type": "stream",
     "text": [
      "Error with file: /home/srp/Documents/LLP_DATA/2025-08-08_2HDM-A/LLP_data/mass_1.58e+00_ctau_5.73e-02_br_1.00e+00_seed_380686.csv\n",
      "Error message: [Errno 28] No space left on device: '/home/srp/Documents/LLP_DATA/2025-08-08_2HDM-A/Completed_llp_data_precise_cross_section'\n"
     ]
    },
    {
     "name": "stderr",
     "output_type": "stream",
     "text": [
      "  1%|          | 18/1545 [52:45<65:09:18, 153.61s/it]"
     ]
    },
    {
     "name": "stdout",
     "output_type": "stream",
     "text": [
      "Error with file: /home/srp/Documents/LLP_DATA/2025-08-08_2HDM-A/LLP_data/mass_2.00e-01_ctau_1.44e-02_br_1.00e+00_seed_349319.csv\n",
      "Error message: [Errno 28] No space left on device: '/home/srp/Documents/LLP_DATA/2025-08-08_2HDM-A/Completed_llp_data_precise_cross_section'\n"
     ]
    },
    {
     "name": "stderr",
     "output_type": "stream",
     "text": [
      "  1%|▏         | 21/1540 [1:05:04<78:04:55, 185.05s/it]"
     ]
    },
    {
     "name": "stdout",
     "output_type": "stream",
     "text": [
      "Error with file: /home/srp/Documents/LLP_DATA/2025-08-08_2HDM-A/LLP_data/mass_1.26e-02_ctau_5.73e-03_br_1.00e+00_seed_599862.csv\n",
      "Error message: [Errno 28] No space left on device: '/home/srp/Documents/LLP_DATA/2025-08-08_2HDM-A/Completed_llp_data_precise_cross_section'\n"
     ]
    },
    {
     "name": "stderr",
     "output_type": "stream",
     "text": [
      "  1%|          | 19/1544 [58:39<78:07:04, 184.41s/it]"
     ]
    },
    {
     "name": "stdout",
     "output_type": "stream",
     "text": [
      "Error with file: /home/srp/Documents/LLP_DATA/2025-08-08_2HDM-A/LLP_data/mass_5.01e-02_ctau_2.28e-05_br_1.00e+00_seed_33059.csv\n",
      "Error message: [Errno 28] No space left on device: '/home/srp/Documents/LLP_DATA/2025-08-08_2HDM-A/Completed_llp_data_precise_cross_section'\n"
     ]
    },
    {
     "name": "stderr",
     "output_type": "stream",
     "text": [
      "  1%|▏         | 22/1538 [1:07:53<77:24:37, 183.82s/it]"
     ]
    },
    {
     "name": "stdout",
     "output_type": "stream",
     "text": [
      "Error with file: /home/srp/Documents/LLP_DATA/2025-08-08_2HDM-A/LLP_data/mass_1.58e+00_ctau_9.07e-01_br_1.00e+00_seed_840337.csv\n",
      "Error message: [Errno 28] No space left on device: '/home/srp/Documents/LLP_DATA/2025-08-08_2HDM-A/Completed_llp_data_precise_cross_section'\n"
     ]
    },
    {
     "name": "stderr",
     "output_type": "stream",
     "text": [
      "  1%|          | 19/1545 [55:51<68:43:01, 162.11s/it]"
     ]
    },
    {
     "name": "stdout",
     "output_type": "stream",
     "text": [
      "Error with file: /home/srp/Documents/LLP_DATA/2025-08-08_2HDM-A/LLP_data/mass_5.01e-02_ctau_2.28e-05_br_1.00e+00_seed_33059.csv\n",
      "Error message: [Errno 28] No space left on device: '/home/srp/Documents/LLP_DATA/2025-08-08_2HDM-A/Completed_llp_data_precise_cross_section'\n"
     ]
    },
    {
     "name": "stderr",
     "output_type": "stream",
     "text": [
      "  1%|▏         | 22/1540 [1:08:09<78:02:12, 185.07s/it]"
     ]
    },
    {
     "name": "stdout",
     "output_type": "stream",
     "text": [
      "Error with file: /home/srp/Documents/LLP_DATA/2025-08-08_2HDM-A/LLP_data/mass_3.98e-02_ctau_2.28e-01_br_1.00e+00_seed_33059.csv\n",
      "Error message: [Errno 28] No space left on device: '/home/srp/Documents/LLP_DATA/2025-08-08_2HDM-A/Completed_llp_data_precise_cross_section'\n"
     ]
    },
    {
     "name": "stderr",
     "output_type": "stream",
     "text": [
      "  1%|▏         | 23/1538 [1:10:56<77:17:36, 183.67s/it]"
     ]
    },
    {
     "name": "stdout",
     "output_type": "stream",
     "text": [
      "Error with file: /home/srp/Documents/LLP_DATA/2025-08-08_2HDM-A/LLP_data/mass_2.51e+00_ctau_1.44e+00_br_1.00e+00_seed_840337.csv\n",
      "Error message: [Errno 28] No space left on device: '/home/srp/Documents/LLP_DATA/2025-08-08_2HDM-A/Completed_llp_data_precise_cross_section'\n"
     ]
    },
    {
     "name": "stderr",
     "output_type": "stream",
     "text": [
      "  1%|▏         | 20/1544 [1:01:43<78:04:03, 184.41s/it]"
     ]
    },
    {
     "name": "stdout",
     "output_type": "stream",
     "text": [
      "Error with file: /home/srp/Documents/LLP_DATA/2025-08-08_2HDM-A/LLP_data/mass_1.26e-02_ctau_5.73e-03_br_1.00e+00_seed_599862.csv\n",
      "Error message: [Errno 28] No space left on device: '/home/srp/Documents/LLP_DATA/2025-08-08_2HDM-A/Completed_llp_data_precise_cross_section'\n"
     ]
    },
    {
     "name": "stderr",
     "output_type": "stream",
     "text": [
      "  1%|▏         | 20/1545 [58:56<71:18:25, 168.33s/it]"
     ]
    },
    {
     "name": "stdout",
     "output_type": "stream",
     "text": [
      "Error with file: /home/srp/Documents/LLP_DATA/2025-08-08_2HDM-A/LLP_data/mass_3.98e-02_ctau_2.28e-01_br_1.00e+00_seed_33059.csv\n",
      "Error message: [Errno 28] No space left on device: '/home/srp/Documents/LLP_DATA/2025-08-08_2HDM-A/Completed_llp_data_precise_cross_section'\n"
     ]
    },
    {
     "name": "stderr",
     "output_type": "stream",
     "text": [
      "  1%|▏         | 23/1540 [1:11:15<78:05:15, 185.31s/it]"
     ]
    },
    {
     "name": "stdout",
     "output_type": "stream",
     "text": [
      "Error with file: /home/srp/Documents/LLP_DATA/2025-08-08_2HDM-A/LLP_data/mass_2.51e-01_ctau_9.07e-03_br_1.00e+00_seed_349319.csv\n",
      "Error message: [Errno 28] No space left on device: '/home/srp/Documents/LLP_DATA/2025-08-08_2HDM-A/Completed_llp_data_precise_cross_section'\n"
     ]
    },
    {
     "name": "stderr",
     "output_type": "stream",
     "text": [
      "  2%|▏         | 24/1538 [1:14:01<77:18:00, 183.81s/it]"
     ]
    },
    {
     "name": "stdout",
     "output_type": "stream",
     "text": [
      "Error with file: /home/srp/Documents/LLP_DATA/2025-08-08_2HDM-A/LLP_data/mass_2.00e-01_ctau_1.44e-02_br_1.00e+00_seed_349319.csv\n",
      "Error message: [Errno 28] No space left on device: '/home/srp/Documents/LLP_DATA/2025-08-08_2HDM-A/Completed_llp_data_precise_cross_section'\n"
     ]
    },
    {
     "name": "stderr",
     "output_type": "stream",
     "text": [
      "  1%|▏         | 21/1544 [1:04:48<78:06:00, 184.61s/it]"
     ]
    },
    {
     "name": "stdout",
     "output_type": "stream",
     "text": [
      "Error with file: /home/srp/Documents/LLP_DATA/2025-08-08_2HDM-A/LLP_data/mass_2.51e+00_ctau_1.44e+00_br_1.00e+00_seed_840337.csv\n",
      "Error message: [Errno 28] No space left on device: '/home/srp/Documents/LLP_DATA/2025-08-08_2HDM-A/Completed_llp_data_precise_cross_section'\n"
     ]
    },
    {
     "name": "stderr",
     "output_type": "stream",
     "text": [
      "  1%|▏         | 21/1545 [1:02:00<73:09:20, 172.81s/it]"
     ]
    },
    {
     "name": "stdout",
     "output_type": "stream",
     "text": [
      "Error with file: /home/srp/Documents/LLP_DATA/2025-08-08_2HDM-A/LLP_data/mass_2.51e-01_ctau_9.07e-03_br_1.00e+00_seed_349319.csv\n",
      "Error message: [Errno 28] No space left on device: '/home/srp/Documents/LLP_DATA/2025-08-08_2HDM-A/Completed_llp_data_precise_cross_section'\n"
     ]
    },
    {
     "name": "stderr",
     "output_type": "stream",
     "text": [
      "  2%|▏         | 24/1540 [1:14:19<77:54:24, 185.00s/it]"
     ]
    },
    {
     "name": "stdout",
     "output_type": "stream",
     "text": [
      "Error with file: /home/srp/Documents/LLP_DATA/2025-08-08_2HDM-A/LLP_data/mass_1.58e-01_ctau_3.61e-02_br_1.00e+00_seed_107832.csv\n",
      "Error message: [Errno 28] No space left on device: '/home/srp/Documents/LLP_DATA/2025-08-08_2HDM-A/Completed_llp_data_precise_cross_section'\n"
     ]
    },
    {
     "name": "stderr",
     "output_type": "stream",
     "text": [
      "  2%|▏         | 25/1538 [1:17:04<77:08:48, 183.56s/it]"
     ]
    },
    {
     "name": "stdout",
     "output_type": "stream",
     "text": [
      "Error with file: /home/srp/Documents/LLP_DATA/2025-08-08_2HDM-A/LLP_data/mass_5.01e-02_ctau_2.28e-05_br_1.00e+00_seed_33059.csv\n",
      "Error message: [Errno 28] No space left on device: '/home/srp/Documents/LLP_DATA/2025-08-08_2HDM-A/Completed_llp_data_precise_cross_section'\n"
     ]
    },
    {
     "name": "stderr",
     "output_type": "stream",
     "text": [
      "  1%|▏         | 22/1544 [1:07:52<78:00:32, 184.52s/it]"
     ]
    },
    {
     "name": "stdout",
     "output_type": "stream",
     "text": [
      "Error with file: /home/srp/Documents/LLP_DATA/2025-08-08_2HDM-A/LLP_data/mass_2.00e-01_ctau_1.44e-02_br_1.00e+00_seed_349319.csv\n",
      "Error message: [Errno 28] No space left on device: '/home/srp/Documents/LLP_DATA/2025-08-08_2HDM-A/Completed_llp_data_precise_cross_section'\n"
     ]
    },
    {
     "name": "stderr",
     "output_type": "stream",
     "text": [
      "  1%|▏         | 22/1545 [1:05:04<74:24:08, 175.87s/it]"
     ]
    },
    {
     "name": "stdout",
     "output_type": "stream",
     "text": [
      "Error with file: /home/srp/Documents/LLP_DATA/2025-08-08_2HDM-A/LLP_data/mass_1.58e-01_ctau_3.61e-02_br_1.00e+00_seed_107832.csv\n",
      "Error message: [Errno 28] No space left on device: '/home/srp/Documents/LLP_DATA/2025-08-08_2HDM-A/Completed_llp_data_precise_cross_section'\n"
     ]
    },
    {
     "name": "stderr",
     "output_type": "stream",
     "text": [
      "  2%|▏         | 25/1540 [1:17:23<77:41:10, 184.60s/it]"
     ]
    },
    {
     "name": "stdout",
     "output_type": "stream",
     "text": [
      "Error with file: /home/srp/Documents/LLP_DATA/2025-08-08_2HDM-A/LLP_data/mass_2.00e-02_ctau_3.61e-03_br_1.00e+00_seed_599862.csv\n",
      "Error message: [Errno 28] No space left on device: '/home/srp/Documents/LLP_DATA/2025-08-08_2HDM-A/Completed_llp_data_precise_cross_section'\n"
     ]
    },
    {
     "name": "stderr",
     "output_type": "stream",
     "text": [
      "  2%|▏         | 26/1538 [1:20:06<76:57:10, 183.22s/it]"
     ]
    },
    {
     "name": "stdout",
     "output_type": "stream",
     "text": [
      "Error with file: /home/srp/Documents/LLP_DATA/2025-08-08_2HDM-A/LLP_data/mass_3.98e-02_ctau_2.28e-01_br_1.00e+00_seed_33059.csv\n",
      "Error message: [Errno 28] No space left on device: '/home/srp/Documents/LLP_DATA/2025-08-08_2HDM-A/Completed_llp_data_precise_cross_section'\n"
     ]
    },
    {
     "name": "stderr",
     "output_type": "stream",
     "text": [
      "  1%|▏         | 23/1544 [1:10:56<77:50:32, 184.24s/it]"
     ]
    },
    {
     "name": "stdout",
     "output_type": "stream",
     "text": [
      "Error with file: /home/srp/Documents/LLP_DATA/2025-08-08_2HDM-A/LLP_data/mass_5.01e-02_ctau_2.28e-05_br_1.00e+00_seed_33059.csv\n",
      "Error message: [Errno 28] No space left on device: '/home/srp/Documents/LLP_DATA/2025-08-08_2HDM-A/Completed_llp_data_precise_cross_section'\n"
     ]
    },
    {
     "name": "stderr",
     "output_type": "stream",
     "text": [
      "  1%|▏         | 23/1545 [1:08:07<75:17:04, 178.07s/it]"
     ]
    },
    {
     "name": "stdout",
     "output_type": "stream",
     "text": [
      "Error with file: /home/srp/Documents/LLP_DATA/2025-08-08_2HDM-A/LLP_data/mass_2.00e-02_ctau_1.44e-05_br_1.00e+00_seed_666422.csv\n",
      "Error message: [Errno 28] No space left on device: '/home/srp/Documents/LLP_DATA/2025-08-08_2HDM-A/Completed_llp_data_precise_cross_section'\n"
     ]
    },
    {
     "name": "stderr",
     "output_type": "stream",
     "text": [
      "  2%|▏         | 27/1538 [1:23:10<76:58:25, 183.39s/it]"
     ]
    },
    {
     "name": "stdout",
     "output_type": "stream",
     "text": [
      "Error with file: /home/srp/Documents/LLP_DATA/2025-08-08_2HDM-A/LLP_data/mass_2.00e-02_ctau_3.61e-03_br_1.00e+00_seed_599862.csv\n",
      "Error message: [Errno 28] No space left on device: '/home/srp/Documents/LLP_DATA/2025-08-08_2HDM-A/Completed_llp_data_precise_cross_section'\n"
     ]
    },
    {
     "name": "stderr",
     "output_type": "stream",
     "text": [
      "  2%|▏         | 26/1540 [1:20:28<77:42:13, 184.76s/it]"
     ]
    },
    {
     "name": "stdout",
     "output_type": "stream",
     "text": [
      "Error with file: /home/srp/Documents/LLP_DATA/2025-08-08_2HDM-A/LLP_data/mass_2.51e-01_ctau_9.07e-03_br_1.00e+00_seed_349319.csv\n",
      "Error message: [Errno 28] No space left on device: '/home/srp/Documents/LLP_DATA/2025-08-08_2HDM-A/Completed_llp_data_precise_cross_section'\n"
     ]
    },
    {
     "name": "stderr",
     "output_type": "stream",
     "text": [
      "  2%|▏         | 24/1544 [1:14:00<77:46:21, 184.20s/it]"
     ]
    },
    {
     "name": "stdout",
     "output_type": "stream",
     "text": [
      "Error with file: /home/srp/Documents/LLP_DATA/2025-08-08_2HDM-A/LLP_data/mass_3.98e-02_ctau_2.28e-01_br_1.00e+00_seed_33059.csv\n",
      "Error message: [Errno 28] No space left on device: '/home/srp/Documents/LLP_DATA/2025-08-08_2HDM-A/Completed_llp_data_precise_cross_section'\n"
     ]
    },
    {
     "name": "stderr",
     "output_type": "stream",
     "text": [
      "  2%|▏         | 24/1545 [1:11:12<76:04:47, 180.07s/it]"
     ]
    },
    {
     "name": "stdout",
     "output_type": "stream",
     "text": [
      "Error with file: /home/srp/Documents/LLP_DATA/2025-08-08_2HDM-A/LLP_data/mass_3.16e-01_ctau_9.07e-04_br_1.00e+00_seed_846798.csv\n",
      "Error message: [Errno 28] No space left on device: '/home/srp/Documents/LLP_DATA/2025-08-08_2HDM-A/Completed_llp_data_precise_cross_section'\n"
     ]
    },
    {
     "name": "stderr",
     "output_type": "stream",
     "text": [
      "  2%|▏         | 28/1538 [1:26:14<76:59:18, 183.55s/it]"
     ]
    },
    {
     "name": "stdout",
     "output_type": "stream",
     "text": [
      "Error with file: /home/srp/Documents/LLP_DATA/2025-08-08_2HDM-A/LLP_data/mass_2.00e-02_ctau_1.44e-05_br_1.00e+00_seed_666422.csv\n",
      "Error message: [Errno 28] No space left on device: '/home/srp/Documents/LLP_DATA/2025-08-08_2HDM-A/Completed_llp_data_precise_cross_section'\n"
     ]
    },
    {
     "name": "stderr",
     "output_type": "stream",
     "text": [
      "  2%|▏         | 27/1540 [1:23:33<77:35:28, 184.62s/it]"
     ]
    },
    {
     "name": "stdout",
     "output_type": "stream",
     "text": [
      "Error with file: /home/srp/Documents/LLP_DATA/2025-08-08_2HDM-A/LLP_data/mass_1.58e-01_ctau_3.61e-02_br_1.00e+00_seed_107832.csv\n",
      "Error message: [Errno 28] No space left on device: '/home/srp/Documents/LLP_DATA/2025-08-08_2HDM-A/Completed_llp_data_precise_cross_section'\n"
     ]
    },
    {
     "name": "stderr",
     "output_type": "stream",
     "text": [
      "  2%|▏         | 25/1544 [1:17:04<77:38:27, 184.01s/it]"
     ]
    },
    {
     "name": "stdout",
     "output_type": "stream",
     "text": [
      "Error with file: /home/srp/Documents/LLP_DATA/2025-08-08_2HDM-A/LLP_data/mass_2.51e-01_ctau_9.07e-03_br_1.00e+00_seed_349319.csv\n",
      "Error message: [Errno 28] No space left on device: '/home/srp/Documents/LLP_DATA/2025-08-08_2HDM-A/Completed_llp_data_precise_cross_section'\n"
     ]
    },
    {
     "name": "stderr",
     "output_type": "stream",
     "text": [
      "  2%|▏         | 25/1545 [1:14:15<76:25:13, 181.00s/it]"
     ]
    },
    {
     "name": "stdout",
     "output_type": "stream",
     "text": [
      "Error with file: /home/srp/Documents/LLP_DATA/2025-08-08_2HDM-A/LLP_data/mass_2.51e+00_ctau_9.07e-04_br_1.00e+00_seed_840337.csv\n",
      "Error message: [Errno 28] No space left on device: '/home/srp/Documents/LLP_DATA/2025-08-08_2HDM-A/Completed_llp_data_precise_cross_section'\n"
     ]
    },
    {
     "name": "stderr",
     "output_type": "stream",
     "text": [
      "  2%|▏         | 29/1538 [1:29:18<77:00:58, 183.74s/it]"
     ]
    },
    {
     "name": "stdout",
     "output_type": "stream",
     "text": [
      "Error with file: /home/srp/Documents/LLP_DATA/2025-08-08_2HDM-A/LLP_data/mass_3.16e-01_ctau_9.07e-04_br_1.00e+00_seed_846798.csv\n",
      "Error message: [Errno 28] No space left on device: '/home/srp/Documents/LLP_DATA/2025-08-08_2HDM-A/Completed_llp_data_precise_cross_section'\n"
     ]
    },
    {
     "name": "stderr",
     "output_type": "stream",
     "text": [
      "  2%|▏         | 28/1540 [1:26:38<77:40:08, 184.93s/it]"
     ]
    },
    {
     "name": "stdout",
     "output_type": "stream",
     "text": [
      "Error with file: /home/srp/Documents/LLP_DATA/2025-08-08_2HDM-A/LLP_data/mass_2.00e-02_ctau_3.61e-03_br_1.00e+00_seed_599862.csv\n",
      "Error message: [Errno 28] No space left on device: '/home/srp/Documents/LLP_DATA/2025-08-08_2HDM-A/Completed_llp_data_precise_cross_section'\n"
     ]
    },
    {
     "name": "stderr",
     "output_type": "stream",
     "text": [
      "  2%|▏         | 26/1544 [1:20:08<77:37:43, 184.10s/it]"
     ]
    },
    {
     "name": "stdout",
     "output_type": "stream",
     "text": [
      "Error with file: /home/srp/Documents/LLP_DATA/2025-08-08_2HDM-A/LLP_data/mass_1.58e-01_ctau_3.61e-02_br_1.00e+00_seed_107832.csv\n",
      "Error message: [Errno 28] No space left on device: '/home/srp/Documents/LLP_DATA/2025-08-08_2HDM-A/Completed_llp_data_precise_cross_section'\n"
     ]
    },
    {
     "name": "stderr",
     "output_type": "stream",
     "text": [
      "  2%|▏         | 26/1545 [1:17:20<76:53:50, 182.24s/it]"
     ]
    },
    {
     "name": "stdout",
     "output_type": "stream",
     "text": [
      "Error with file: /home/srp/Documents/LLP_DATA/2025-08-08_2HDM-A/LLP_data/mass_2.51e+00_ctau_3.61e-03_br_1.00e+00_seed_840337.csv\n",
      "Error message: [Errno 28] No space left on device: '/home/srp/Documents/LLP_DATA/2025-08-08_2HDM-A/Completed_llp_data_precise_cross_section'\n"
     ]
    },
    {
     "name": "stderr",
     "output_type": "stream",
     "text": [
      "  2%|▏         | 30/1538 [1:32:22<76:56:58, 183.70s/it]"
     ]
    },
    {
     "name": "stdout",
     "output_type": "stream",
     "text": [
      "Error with file: /home/srp/Documents/LLP_DATA/2025-08-08_2HDM-A/LLP_data/mass_2.51e+00_ctau_9.07e-04_br_1.00e+00_seed_840337.csv\n",
      "Error message: [Errno 28] No space left on device: '/home/srp/Documents/LLP_DATA/2025-08-08_2HDM-A/Completed_llp_data_precise_cross_section'\n"
     ]
    },
    {
     "name": "stderr",
     "output_type": "stream",
     "text": [
      "  2%|▏         | 29/1540 [1:29:43<77:35:42, 184.87s/it]"
     ]
    },
    {
     "name": "stdout",
     "output_type": "stream",
     "text": [
      "Error with file: /home/srp/Documents/LLP_DATA/2025-08-08_2HDM-A/LLP_data/mass_2.00e-02_ctau_1.44e-05_br_1.00e+00_seed_666422.csv\n",
      "Error message: [Errno 28] No space left on device: '/home/srp/Documents/LLP_DATA/2025-08-08_2HDM-A/Completed_llp_data_precise_cross_section'\n"
     ]
    },
    {
     "name": "stderr",
     "output_type": "stream",
     "text": [
      "  2%|▏         | 27/1544 [1:23:13<77:44:34, 184.49s/it]"
     ]
    },
    {
     "name": "stdout",
     "output_type": "stream",
     "text": [
      "Error with file: /home/srp/Documents/LLP_DATA/2025-08-08_2HDM-A/LLP_data/mass_2.00e-02_ctau_3.61e-03_br_1.00e+00_seed_599862.csv\n",
      "Error message: [Errno 28] No space left on device: '/home/srp/Documents/LLP_DATA/2025-08-08_2HDM-A/Completed_llp_data_precise_cross_section'\n"
     ]
    },
    {
     "name": "stderr",
     "output_type": "stream",
     "text": [
      "  2%|▏         | 27/1545 [1:20:25<77:06:30, 182.87s/it]"
     ]
    },
    {
     "name": "stdout",
     "output_type": "stream",
     "text": [
      "Error with file: /home/srp/Documents/LLP_DATA/2025-08-08_2HDM-A/LLP_data/mass_7.94e-02_ctau_3.61e-04_br_1.00e+00_seed_107832.csv\n",
      "Error message: [Errno 28] No space left on device: '/home/srp/Documents/LLP_DATA/2025-08-08_2HDM-A/Completed_llp_data_precise_cross_section'\n"
     ]
    },
    {
     "name": "stderr",
     "output_type": "stream",
     "text": [
      "  2%|▏         | 31/1538 [1:35:25<76:50:16, 183.55s/it]"
     ]
    },
    {
     "name": "stdout",
     "output_type": "stream",
     "text": [
      "Error with file: /home/srp/Documents/LLP_DATA/2025-08-08_2HDM-A/LLP_data/mass_2.51e+00_ctau_3.61e-03_br_1.00e+00_seed_840337.csv\n",
      "Error message: [Errno 28] No space left on device: '/home/srp/Documents/LLP_DATA/2025-08-08_2HDM-A/Completed_llp_data_precise_cross_section'\n"
     ]
    },
    {
     "name": "stderr",
     "output_type": "stream",
     "text": [
      "  2%|▏         | 30/1540 [1:32:48<77:30:12, 184.78s/it]"
     ]
    },
    {
     "name": "stdout",
     "output_type": "stream",
     "text": [
      "Error with file: /home/srp/Documents/LLP_DATA/2025-08-08_2HDM-A/LLP_data/mass_3.16e-01_ctau_9.07e-04_br_1.00e+00_seed_846798.csv\n",
      "Error message: [Errno 28] No space left on device: '/home/srp/Documents/LLP_DATA/2025-08-08_2HDM-A/Completed_llp_data_precise_cross_section'\n"
     ]
    },
    {
     "name": "stderr",
     "output_type": "stream",
     "text": [
      "  2%|▏         | 28/1544 [1:26:17<77:38:18, 184.37s/it]"
     ]
    },
    {
     "name": "stdout",
     "output_type": "stream",
     "text": [
      "Error with file: /home/srp/Documents/LLP_DATA/2025-08-08_2HDM-A/LLP_data/mass_2.00e-02_ctau_1.44e-05_br_1.00e+00_seed_666422.csv\n",
      "Error message: [Errno 28] No space left on device: '/home/srp/Documents/LLP_DATA/2025-08-08_2HDM-A/Completed_llp_data_precise_cross_section'\n"
     ]
    },
    {
     "name": "stderr",
     "output_type": "stream",
     "text": [
      "  2%|▏         | 28/1545 [1:23:29<77:17:34, 183.42s/it]"
     ]
    },
    {
     "name": "stdout",
     "output_type": "stream",
     "text": [
      "Error with file: /home/srp/Documents/LLP_DATA/2025-08-08_2HDM-A/LLP_data/mass_2.51e-02_ctau_2.28e-05_br_1.00e+00_seed_599862.csv\n",
      "Error message: [Errno 28] No space left on device: '/home/srp/Documents/LLP_DATA/2025-08-08_2HDM-A/Completed_llp_data_precise_cross_section'\n"
     ]
    },
    {
     "name": "stderr",
     "output_type": "stream",
     "text": [
      "  2%|▏         | 32/1538 [1:38:28<76:45:38, 183.49s/it]"
     ]
    },
    {
     "name": "stdout",
     "output_type": "stream",
     "text": [
      "Error with file: /home/srp/Documents/LLP_DATA/2025-08-08_2HDM-A/LLP_data/mass_7.94e-02_ctau_3.61e-04_br_1.00e+00_seed_107832.csv\n",
      "Error message: [Errno 28] No space left on device: '/home/srp/Documents/LLP_DATA/2025-08-08_2HDM-A/Completed_llp_data_precise_cross_section'\n"
     ]
    },
    {
     "name": "stderr",
     "output_type": "stream",
     "text": [
      "  2%|▏         | 31/1540 [1:35:51<77:18:41, 184.44s/it]"
     ]
    },
    {
     "name": "stdout",
     "output_type": "stream",
     "text": [
      "Error with file: /home/srp/Documents/LLP_DATA/2025-08-08_2HDM-A/LLP_data/mass_2.51e+00_ctau_9.07e-04_br_1.00e+00_seed_840337.csv\n",
      "Error message: [Errno 28] No space left on device: '/home/srp/Documents/LLP_DATA/2025-08-08_2HDM-A/Completed_llp_data_precise_cross_section'\n"
     ]
    },
    {
     "name": "stderr",
     "output_type": "stream",
     "text": [
      "  2%|▏         | 29/1544 [1:29:22<77:35:40, 184.38s/it]"
     ]
    },
    {
     "name": "stdout",
     "output_type": "stream",
     "text": [
      "Error with file: /home/srp/Documents/LLP_DATA/2025-08-08_2HDM-A/LLP_data/mass_3.16e-01_ctau_9.07e-04_br_1.00e+00_seed_846798.csv\n",
      "Error message: [Errno 28] No space left on device: '/home/srp/Documents/LLP_DATA/2025-08-08_2HDM-A/Completed_llp_data_precise_cross_section'\n"
     ]
    },
    {
     "name": "stderr",
     "output_type": "stream",
     "text": [
      "  2%|▏         | 29/1545 [1:26:33<77:15:23, 183.46s/it]"
     ]
    },
    {
     "name": "stdout",
     "output_type": "stream",
     "text": [
      "Error with file: /home/srp/Documents/LLP_DATA/2025-08-08_2HDM-A/LLP_data/mass_1.00e-02_ctau_1.44e+00_br_1.00e+00_seed_599862.csv\n",
      "Error message: [Errno 28] No space left on device: '/home/srp/Documents/LLP_DATA/2025-08-08_2HDM-A/Completed_llp_data_precise_cross_section'\n"
     ]
    },
    {
     "name": "stderr",
     "output_type": "stream",
     "text": [
      "  2%|▏         | 33/1538 [1:41:35<77:11:54, 184.66s/it]"
     ]
    },
    {
     "name": "stdout",
     "output_type": "stream",
     "text": [
      "Error with file: /home/srp/Documents/LLP_DATA/2025-08-08_2HDM-A/LLP_data/mass_2.51e-02_ctau_2.28e-05_br_1.00e+00_seed_599862.csv\n",
      "Error message: [Errno 28] No space left on device: '/home/srp/Documents/LLP_DATA/2025-08-08_2HDM-A/Completed_llp_data_precise_cross_section'\n"
     ]
    },
    {
     "name": "stderr",
     "output_type": "stream",
     "text": [
      "  2%|▏         | 32/1540 [1:38:59<77:38:06, 185.34s/it]"
     ]
    },
    {
     "name": "stdout",
     "output_type": "stream",
     "text": [
      "Error with file: /home/srp/Documents/LLP_DATA/2025-08-08_2HDM-A/LLP_data/mass_2.51e+00_ctau_3.61e-03_br_1.00e+00_seed_840337.csv\n",
      "Error message: [Errno 28] No space left on device: '/home/srp/Documents/LLP_DATA/2025-08-08_2HDM-A/Completed_llp_data_precise_cross_section'\n"
     ]
    },
    {
     "name": "stderr",
     "output_type": "stream",
     "text": [
      "  2%|▏         | 30/1544 [1:32:30<78:02:00, 185.55s/it]"
     ]
    },
    {
     "name": "stdout",
     "output_type": "stream",
     "text": [
      "Error with file: /home/srp/Documents/LLP_DATA/2025-08-08_2HDM-A/LLP_data/mass_2.51e+00_ctau_9.07e-04_br_1.00e+00_seed_840337.csv\n",
      "Error message: [Errno 28] No space left on device: '/home/srp/Documents/LLP_DATA/2025-08-08_2HDM-A/Completed_llp_data_precise_cross_section'\n"
     ]
    },
    {
     "name": "stderr",
     "output_type": "stream",
     "text": [
      "  2%|▏         | 33/1538 [1:43:21<78:33:28, 187.91s/it]\n",
      "\n",
      "\n",
      "\n"
     ]
    },
    {
     "ename": "KeyboardInterrupt",
     "evalue": "",
     "output_type": "error",
     "traceback": [
      "\u001b[0;31m---------------------------------------------------------------------------\u001b[0m",
      "\u001b[0;31mKeyboardInterrupt\u001b[0m                         Traceback (most recent call last)",
      "Cell \u001b[0;32mIn[4], line 30\u001b[0m\n\u001b[1;32m     28\u001b[0m \u001b[38;5;66;03m# 使用多核并行\u001b[39;00m\n\u001b[1;32m     29\u001b[0m \u001b[38;5;28;01mwith\u001b[39;00m ProcessPoolExecutor(max_workers\u001b[38;5;241m=\u001b[39mnum_cores) \u001b[38;5;28;01mas\u001b[39;00m executor:\n\u001b[0;32m---> 30\u001b[0m     results \u001b[38;5;241m=\u001b[39m \u001b[38;5;28;43mlist\u001b[39;49m\u001b[43m(\u001b[49m\u001b[43mexecutor\u001b[49m\u001b[38;5;241;43m.\u001b[39;49m\u001b[43mmap\u001b[49m\u001b[43m(\u001b[49m\u001b[43mrun_task\u001b[49m\u001b[43m,\u001b[49m\u001b[43m \u001b[49m\u001b[43mtasks\u001b[49m\u001b[43m)\u001b[49m\u001b[43m)\u001b[49m\n\u001b[1;32m     32\u001b[0m \u001b[38;5;66;03m# 打印结果\u001b[39;00m\n\u001b[1;32m     33\u001b[0m \u001b[38;5;28mprint\u001b[39m(\u001b[38;5;124m\"\u001b[39m\u001b[38;5;124mAll tasks completed:\u001b[39m\u001b[38;5;124m\"\u001b[39m, results)\n",
      "File \u001b[0;32m/usr/lib/python3.10/concurrent/futures/process.py:575\u001b[0m, in \u001b[0;36m_chain_from_iterable_of_lists\u001b[0;34m(iterable)\u001b[0m\n\u001b[1;32m    569\u001b[0m \u001b[38;5;28;01mdef\u001b[39;00m\u001b[38;5;250m \u001b[39m\u001b[38;5;21m_chain_from_iterable_of_lists\u001b[39m(iterable):\n\u001b[1;32m    570\u001b[0m \u001b[38;5;250m    \u001b[39m\u001b[38;5;124;03m\"\"\"\u001b[39;00m\n\u001b[1;32m    571\u001b[0m \u001b[38;5;124;03m    Specialized implementation of itertools.chain.from_iterable.\u001b[39;00m\n\u001b[1;32m    572\u001b[0m \u001b[38;5;124;03m    Each item in *iterable* should be a list.  This function is\u001b[39;00m\n\u001b[1;32m    573\u001b[0m \u001b[38;5;124;03m    careful not to keep references to yielded objects.\u001b[39;00m\n\u001b[1;32m    574\u001b[0m \u001b[38;5;124;03m    \"\"\"\u001b[39;00m\n\u001b[0;32m--> 575\u001b[0m     \u001b[38;5;28;01mfor\u001b[39;00m element \u001b[38;5;129;01min\u001b[39;00m iterable:\n\u001b[1;32m    576\u001b[0m         element\u001b[38;5;241m.\u001b[39mreverse()\n\u001b[1;32m    577\u001b[0m         \u001b[38;5;28;01mwhile\u001b[39;00m element:\n",
      "File \u001b[0;32m/usr/lib/python3.10/concurrent/futures/_base.py:621\u001b[0m, in \u001b[0;36mExecutor.map.<locals>.result_iterator\u001b[0;34m()\u001b[0m\n\u001b[1;32m    618\u001b[0m \u001b[38;5;28;01mwhile\u001b[39;00m fs:\n\u001b[1;32m    619\u001b[0m     \u001b[38;5;66;03m# Careful not to keep a reference to the popped future\u001b[39;00m\n\u001b[1;32m    620\u001b[0m     \u001b[38;5;28;01mif\u001b[39;00m timeout \u001b[38;5;129;01mis\u001b[39;00m \u001b[38;5;28;01mNone\u001b[39;00m:\n\u001b[0;32m--> 621\u001b[0m         \u001b[38;5;28;01myield\u001b[39;00m \u001b[43m_result_or_cancel\u001b[49m\u001b[43m(\u001b[49m\u001b[43mfs\u001b[49m\u001b[38;5;241;43m.\u001b[39;49m\u001b[43mpop\u001b[49m\u001b[43m(\u001b[49m\u001b[43m)\u001b[49m\u001b[43m)\u001b[49m\n\u001b[1;32m    622\u001b[0m     \u001b[38;5;28;01melse\u001b[39;00m:\n\u001b[1;32m    623\u001b[0m         \u001b[38;5;28;01myield\u001b[39;00m _result_or_cancel(fs\u001b[38;5;241m.\u001b[39mpop(), end_time \u001b[38;5;241m-\u001b[39m time\u001b[38;5;241m.\u001b[39mmonotonic())\n",
      "File \u001b[0;32m/usr/lib/python3.10/concurrent/futures/_base.py:319\u001b[0m, in \u001b[0;36m_result_or_cancel\u001b[0;34m(***failed resolving arguments***)\u001b[0m\n\u001b[1;32m    317\u001b[0m \u001b[38;5;28;01mtry\u001b[39;00m:\n\u001b[1;32m    318\u001b[0m     \u001b[38;5;28;01mtry\u001b[39;00m:\n\u001b[0;32m--> 319\u001b[0m         \u001b[38;5;28;01mreturn\u001b[39;00m \u001b[43mfut\u001b[49m\u001b[38;5;241;43m.\u001b[39;49m\u001b[43mresult\u001b[49m\u001b[43m(\u001b[49m\u001b[43mtimeout\u001b[49m\u001b[43m)\u001b[49m\n\u001b[1;32m    320\u001b[0m     \u001b[38;5;28;01mfinally\u001b[39;00m:\n\u001b[1;32m    321\u001b[0m         fut\u001b[38;5;241m.\u001b[39mcancel()\n",
      "File \u001b[0;32m/usr/lib/python3.10/concurrent/futures/_base.py:453\u001b[0m, in \u001b[0;36mFuture.result\u001b[0;34m(self, timeout)\u001b[0m\n\u001b[1;32m    450\u001b[0m \u001b[38;5;28;01melif\u001b[39;00m \u001b[38;5;28mself\u001b[39m\u001b[38;5;241m.\u001b[39m_state \u001b[38;5;241m==\u001b[39m FINISHED:\n\u001b[1;32m    451\u001b[0m     \u001b[38;5;28;01mreturn\u001b[39;00m \u001b[38;5;28mself\u001b[39m\u001b[38;5;241m.\u001b[39m__get_result()\n\u001b[0;32m--> 453\u001b[0m \u001b[38;5;28;43mself\u001b[39;49m\u001b[38;5;241;43m.\u001b[39;49m\u001b[43m_condition\u001b[49m\u001b[38;5;241;43m.\u001b[39;49m\u001b[43mwait\u001b[49m\u001b[43m(\u001b[49m\u001b[43mtimeout\u001b[49m\u001b[43m)\u001b[49m\n\u001b[1;32m    455\u001b[0m \u001b[38;5;28;01mif\u001b[39;00m \u001b[38;5;28mself\u001b[39m\u001b[38;5;241m.\u001b[39m_state \u001b[38;5;129;01min\u001b[39;00m [CANCELLED, CANCELLED_AND_NOTIFIED]:\n\u001b[1;32m    456\u001b[0m     \u001b[38;5;28;01mraise\u001b[39;00m CancelledError()\n",
      "File \u001b[0;32m/usr/lib/python3.10/threading.py:320\u001b[0m, in \u001b[0;36mCondition.wait\u001b[0;34m(self, timeout)\u001b[0m\n\u001b[1;32m    318\u001b[0m \u001b[38;5;28;01mtry\u001b[39;00m:    \u001b[38;5;66;03m# restore state no matter what (e.g., KeyboardInterrupt)\u001b[39;00m\n\u001b[1;32m    319\u001b[0m     \u001b[38;5;28;01mif\u001b[39;00m timeout \u001b[38;5;129;01mis\u001b[39;00m \u001b[38;5;28;01mNone\u001b[39;00m:\n\u001b[0;32m--> 320\u001b[0m         \u001b[43mwaiter\u001b[49m\u001b[38;5;241;43m.\u001b[39;49m\u001b[43macquire\u001b[49m\u001b[43m(\u001b[49m\u001b[43m)\u001b[49m\n\u001b[1;32m    321\u001b[0m         gotit \u001b[38;5;241m=\u001b[39m \u001b[38;5;28;01mTrue\u001b[39;00m\n\u001b[1;32m    322\u001b[0m     \u001b[38;5;28;01melse\u001b[39;00m:\n",
      "\u001b[0;31mKeyboardInterrupt\u001b[0m: "
     ]
    }
   ],
   "source": [
    "from concurrent.futures import ProcessPoolExecutor\n",
    "import os\n",
    "\n",
    "# 假设 okr.one_key_run_by_csv_cross_section_main131 是你要并行运行的函数\n",
    "from concurrent.futures import ProcessPoolExecutor\n",
    "\n",
    "def run_task(args):\n",
    "    _csv_file, _param1, _param2, _out_path, _main131_path, _date, _sleep_time = args\n",
    "    return okr.one_key_run_2HDMA_cross_section_main131_lower_eff_all_detectors_B(_csv_file, _param1, _param2, _out_path, _main131_path, _date, _sleep_time)\n",
    "\n",
    "if __name__ == \"__main__\":\n",
    "    # 自定义 CPU 核心数量\n",
    "    num_cores = 4  # 你可以将此值改为你想使用的核心数量\n",
    "\n",
    "    # 定义任务参数\n",
    "    # out_path = \"output_path\"  # 替换为实际的输出路径\n",
    "    # main131_path = \"main131_path\"  # 替换为实际的路径\n",
    "\n",
    "    tasks = [\n",
    "        (f\"{i+1}.csv\", 1, 1, out_path, main131_path, today, 3)  # 生成任务参数\n",
    "        for i in range(num_cores)  # 根据自定义核心数生成任务\n",
    "    ]\n",
    "\n",
    "    # 打印生成的任务\n",
    "    for task in tasks:\n",
    "        print(task)\n",
    "\n",
    "    # 使用多核并行\n",
    "    with ProcessPoolExecutor(max_workers=num_cores) as executor:\n",
    "        results = list(executor.map(run_task, tasks))\n",
    "\n",
    "    # 打印结果\n",
    "    print(\"All tasks completed:\", results)\n",
    "\n",
    "\n",
    "run_task((csv_file, 1, 1, out_path, main131_path, today, 0))"
   ]
  },
  {
   "cell_type": "markdown",
   "metadata": {},
   "source": [
    "#### To read the data\n",
    "\n",
    "Now that you have done the simulation via pythia8, the output .csv files should be in your `output` folder. \n",
    "\n",
    "Below the folder, the file is sorted and filed by `date of the simulation`, so there will be a new folder like `2025-03-07`. In that `date folder`, there will be two folders, named`LLP_data`(store the orginal data), and `Completed_llp_data_precise` (store the detective data). \n",
    "\n",
    "AND THERE IS A `.csv` FILE, which is named like `2025-03-07_detected_combined_precise_file.csv`, it contains ONLY the LLPs can be DETECTED by CODEX-b."
   ]
  },
  {
   "cell_type": "code",
   "execution_count": null,
   "metadata": {},
   "outputs": [
    {
     "name": "stdout",
     "output_type": "stream",
     "text": [
      "(-10.200000256677525, -12.400000474218762)\n"
     ]
    }
   ],
   "source": [
    "print(ad.print_max_min_log10_sin_theta_2('/Users/shiyuzhe/Documents/University/LLP/Second_Term/pythia8/BtoKa/Code/position_read_analyse_1.3/LLP_data_for_test/2025-2-16/2025-2-16_detected_combined_precise_file.csv'))"
   ]
  },
  {
   "cell_type": "markdown",
   "metadata": {},
   "source": [
    "### The Detect Function\n",
    "\n",
    "Functions::::\n",
    "```python\n",
    "def detect_r_and_combine(LLP_data_path) \n",
    "\n",
    "def detect_precise_and_combine(LLP_data_path)\n",
    "```\n",
    "\n",
    "Are functions to combine '''.csv files''' and judge whether LLP can be detected by CODEX-b or not\n",
    "\n",
    "They will creat a ```.csv file``` at the dir of your LLP, which contains ALL DETECTED LLPS.\n",
    "\n",
    "The function::::\n",
    "```python \n",
    "def detect_r_and_combine(LLP_data_path)\n",
    "```\n",
    " is merely a test function. You can play with it to get more data, but DO NOT use it for real analyzation"
   ]
  },
  {
   "cell_type": "code",
   "execution_count": null,
   "metadata": {},
   "outputs": [
    {
     "name": "stderr",
     "output_type": "stream",
     "text": [
      "  0%|          | 0/1545 [00:00<?, ?it/s]"
     ]
    }
   ],
   "source": [
    "LLP_date_path = '/home/srp/Documents/LLP_DATA/2025-08-08_2HDM-A/LLP_data'\n",
    "# detected_r = '/Users/shiyuzhe/Documents/University/LLP/Second_Term/pythia8/BtoKa/Code/position_read_analyse_1.3/LLP_data_for_test/2024-11-18_19/'\n",
    "okr.calcu_cross_section_and_combine_files_CODEX_MATHUSLA_SHiP(LLP_date_path)"
   ]
  },
  {
   "cell_type": "code",
   "execution_count": null,
   "metadata": {},
   "outputs": [
    {
     "name": "stdout",
     "output_type": "stream",
     "text": [
      "All CSV files have been merged into /media/ubuntu/6156e08b-fdb1-4cde-964e-431f74a6078e/Files/LLP_DATA/Original_DATA/ALL_GOOD_DATA_2/combined.csv\n"
     ]
    }
   ],
   "source": [
    "combinefile = '/media/ubuntu/6156e08b-fdb1-4cde-964e-431f74a6078e/Files/LLP_DATA/Original_DATA/'\n",
    "combine.merge_csv_files(combinefile, combinefile + '/combined.csv')"
   ]
  }
 ],
 "metadata": {
  "kernelspec": {
   "display_name": "Python 3",
   "language": "python",
   "name": "python3"
  },
  "language_info": {
   "codemirror_mode": {
    "name": "ipython",
    "version": 3
   },
   "file_extension": ".py",
   "mimetype": "text/x-python",
   "name": "python",
   "nbconvert_exporter": "python",
   "pygments_lexer": "ipython3",
   "version": "3.10.12"
  }
 },
 "nbformat": 4,
 "nbformat_minor": 2
}
