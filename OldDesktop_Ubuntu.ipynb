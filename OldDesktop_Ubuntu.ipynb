{
 "cells": [
  {
   "cell_type": "code",
   "execution_count": 1,
   "metadata": {},
   "outputs": [],
   "source": [
    "import sys\n",
    "sys.path.append(\"ALL_IN_ONE/Pythia8\")\n",
    "sys.path.append(\"ALL_IN_ONE/LSD\")\n",
    "sys.path.append(\"ALL_IN_ONE/FIT_FUNC\")"
   ]
  },
  {
   "cell_type": "code",
   "execution_count": 2,
   "metadata": {},
   "outputs": [],
   "source": [
    "import os\n",
    "from tqdm import tqdm\n",
    "import ALL_IN_ONE.Pythia8.loop as loop\n",
    "import ALL_IN_ONE.Pythia8.one_key_run as okr \n",
    "import ALL_IN_ONE.Pythia8.run_save as rs\n",
    "import ALL_IN_ONE.Pythia8.analyse_data as ad\n",
    "import ALL_IN_ONE.Pythia8.detection as detection\n",
    "import ALL_IN_ONE.Pythia8.Mulity_process as mp\n",
    "from datetime import datetime\n",
    "import ALL_IN_ONE.Pythia8.combine as combine\n",
    "# from detection import detect_percise_and_combine, detect_r_and_combine\n",
    "# from analyse_data import see_ctau_2, print_max_min_log10_sin_theta_2"
   ]
  },
  {
   "cell_type": "markdown",
   "metadata": {},
   "source": [
    "### This Func is made for FUTURE USE aimmed to speed up our simulations(Whose speed is Not Satisfying right now(2024.11.17)). \n",
    "\n",
    "### But it is not usable now"
   ]
  },
  {
   "cell_type": "code",
   "execution_count": 9,
   "metadata": {},
   "outputs": [],
   "source": [
    "# from joblib import Parallel, delayed\n",
    "\n",
    "# def worker(seed):\n",
    "#     LLP_data_path = loop_mass_ctau_given_by_csv_multi(csv_file, br, seed, out_put_path, main41_path)\n",
    "#     print('The Generation of LLPs is Completed')\n",
    "#     completed_data_dir = detect_folder_files_no_calcu(LLP_data_path)[1]\n",
    "#     print('The LLPs are Judged whether they are Detected or not')\n",
    "#     final_files = combine_files_precise(completed_data_dir)\n",
    "#     print('The Final Step is Over, See the .csv files for LLPs Completed Data')\n",
    "#     return LLP_data_path, completed_data_dir, final_files\n",
    "\n",
    "# def one_key_run_mass_ctau_given_by_csv_multi(csv_file, br, seed_array, out_put_path, main41_path):\n",
    "#     results = Parallel(n_jobs=5)(delayed(worker)(seed) for seed in seed_array)\n",
    "#     return results\n"
   ]
  },
  {
   "cell_type": "markdown",
   "metadata": {},
   "source": [
    "## Attention:  \n",
    "\n",
    "## The Units are CM and GEV"
   ]
  },
  {
   "cell_type": "markdown",
   "metadata": {},
   "source": [
    "### The 'one_key_run_XXX' functions are all you need to use.\n",
    "\n"
   ]
  },
  {
   "cell_type": "markdown",
   "metadata": {},
   "source": [
    "### Setting Parameters"
   ]
  },
  {
   "cell_type": "code",
   "execution_count": 10,
   "metadata": {},
   "outputs": [],
   "source": [
    "c_mm = (3*10**5) # tau0's unit is mm/c, to convert the ultimate decay postion,\n",
    "                            # we need to do sth to the ctau_typed_in \n",
    "\n",
    "br_lowerlim = -20 #ctau and br are in logspace\n",
    "br_upperlim = -20\n",
    "br_amount = 1\n",
    "ctau_lowerlim = 1\n",
    "ctau_upperlim = 30\n",
    "ctau_amount = 50\n",
    "mass = 1\n",
    "seed_amount = 5\n",
    "seed_array = (357993, 1234) #Pythia8 simulation seed\n",
    "\n",
    "mass_lower_lim = 0.1 # Mass in in linspace\n",
    "mass_upper_lim = 4\n",
    "mass_amount = 20\n",
    "br = 1"
   ]
  },
  {
   "cell_type": "markdown",
   "metadata": {},
   "source": [
    "#### Same as before:  \n",
    "\n",
    "##### The function \n",
    "```python\n",
    "    one_key_run_mass_ctau_simple_ver() #Function to run an pythia8 program\n",
    "```\n",
    "\n",
    "takes \n",
    "\n",
    "```\n",
    "br's lower / upper lim (10^x), br's amount, \n",
    "\n",
    "ctau's lower / upper lim (10^x), ctau's amount, \n",
    "\n",
    "mass, \n",
    "\n",
    "seed's amount, \n",
    "\n",
    "the Output folder's path, \n",
    "\n",
    "main41.cc's dir path\n",
    "```\n",
    "as input.\n",
    "\n",
    "The Output is LOTS OF ```.csv``` Files with LLPs' Properties \n",
    "\n",
    "```\n",
    "    Momentum in GeV, \n",
    "    \n",
    "    lifetime(ctau or tau) in mm/C, \n",
    "\n",
    "    decay_postion in mm, mass in GeV \n",
    "\n",
    "    and so on\n",
    "```\n",
    "\n",
    "The path's format is listed below, you can change them directly to your real path to run the function"
   ]
  },
  {
   "cell_type": "code",
   "execution_count": 4,
   "metadata": {},
   "outputs": [
    {
     "name": "stdout",
     "output_type": "stream",
     "text": [
      "2025-08-20_Higgs_Scalar\n"
     ]
    }
   ],
   "source": [
    "main131_path = '/home/srp/Documents/Pythia8/pythia8315/examples/'\n",
    "# For Pythia8.31, main41 is now main131 but the path remains the same\n",
    "out_path = '/home/srp/Documents/LLP_DATA/'\n",
    "today = str(datetime.today().date())+'_Higgs_Scalar'\n",
    "# today = '2025-06-07_2HDM-A'\n",
    "print(today)\n"
   ]
  },
  {
   "cell_type": "markdown",
   "metadata": {},
   "source": [
    "#### New Function info:\n",
    "\n",
    "The function\n",
    "```python\n",
    "    def one_key_run_mass_ctau_br_given_by_csv_main131(csv_file, br, seed_amount, out_path, main41_path)\n",
    "```\n",
    "\n",
    "takes a ```.csv file``` as input instead of the range of ```mass```, ```tau```, ```Br_XX```and etc. \n",
    "\n",
    "The function will read each line of ```.csv file``` to get `LLP's DATA Range`, ALONG WITH ```ALL THE Branching Ratio of OUR LLP``` and put this set of data into pythia8. \n",
    "\n",
    "Pythia8 will do the simulation, then output .csv file to the ``` out_path``` folder."
   ]
  },
  {
   "cell_type": "code",
   "execution_count": null,
   "metadata": {},
   "outputs": [
    {
     "name": "stdout",
     "output_type": "stream",
     "text": [
      "Running Simulation...\n"
     ]
    },
    {
     "name": "stderr",
     "output_type": "stream",
     "text": [
      "  0%|          | 0/9 [00:01<?, ?it/s]\n"
     ]
    },
    {
     "ename": "KeyboardInterrupt",
     "evalue": "",
     "output_type": "error",
     "traceback": [
      "\u001b[0;31m---------------------------------------------------------------------------\u001b[0m",
      "\u001b[0;31mKeyboardInterrupt\u001b[0m                         Traceback (most recent call last)",
      "Cell \u001b[0;32mIn[23], line 2\u001b[0m\n\u001b[1;32m      1\u001b[0m test_csv \u001b[38;5;241m=\u001b[39m \u001b[38;5;124m'\u001b[39m\u001b[38;5;124m/media/ubuntu/6156e08b-fdb1-4cde-964e-431f74a6078e/Program/PRA/Github/position_read_analyse_1.3/ALL_IN_ONE/LSD/tau_theta_1e-05.csv\u001b[39m\u001b[38;5;124m'\u001b[39m\n\u001b[0;32m----> 2\u001b[0m \u001b[43mokr\u001b[49m\u001b[38;5;241;43m.\u001b[39;49m\u001b[43mone_key_run_by_csv_cross_section_main131_simple\u001b[49m\u001b[43m(\u001b[49m\u001b[43mtest_csv\u001b[49m\u001b[43m,\u001b[49m\u001b[43m \u001b[49m\u001b[38;5;241;43m1\u001b[39;49m\u001b[43m,\u001b[49m\u001b[43m \u001b[49m\u001b[38;5;241;43m1\u001b[39;49m\u001b[43m,\u001b[49m\u001b[43m \u001b[49m\u001b[43mout_path\u001b[49m\u001b[43m,\u001b[49m\u001b[43m \u001b[49m\u001b[43mmain131_path\u001b[49m\u001b[43m,\u001b[49m\u001b[43m \u001b[49m\u001b[43mtoday\u001b[49m\u001b[43m,\u001b[49m\u001b[43m \u001b[49m\u001b[38;5;241;43m0\u001b[39;49m\u001b[43m)\u001b[49m\n",
      "File \u001b[0;32m/media/ubuntu/6156e08b-fdb1-4cde-964e-431f74a6078e/Program/PRA/Github/position_read_analyse_1.3/ALL_IN_ONE/Pythia8/one_key_run.py:226\u001b[0m, in \u001b[0;36mone_key_run_by_csv_cross_section_main131_simple\u001b[0;34m(csv_file, br, seed_array, out_put_path, main131_path, today, sleep_time)\u001b[0m\n\u001b[1;32m    224\u001b[0m \u001b[38;5;28mprint\u001b[39m(\u001b[38;5;124m\"\u001b[39m\u001b[38;5;124mRunning Simulation...\u001b[39m\u001b[38;5;124m\"\u001b[39m)\n\u001b[1;32m    225\u001b[0m mkdir_1(out_put_path \u001b[38;5;241m+\u001b[39m today \u001b[38;5;241m+\u001b[39m\u001b[38;5;124m'\u001b[39m\u001b[38;5;124m/\u001b[39m\u001b[38;5;124m'\u001b[39m \u001b[38;5;241m+\u001b[39m \u001b[38;5;124m'\u001b[39m\u001b[38;5;124mLLP_data/\u001b[39m\u001b[38;5;124m'\u001b[39m)\n\u001b[0;32m--> 226\u001b[0m LLP_data_path \u001b[38;5;241m=\u001b[39m \u001b[43mlp\u001b[49m\u001b[38;5;241;43m.\u001b[39;49m\u001b[43mloop_mass_simple\u001b[49m\u001b[43m(\u001b[49m\u001b[43mcsv_file\u001b[49m\u001b[43m,\u001b[49m\u001b[43m \u001b[49m\u001b[43mbr\u001b[49m\u001b[43m,\u001b[49m\u001b[43m \u001b[49m\u001b[43mseed_array\u001b[49m\u001b[43m,\u001b[49m\u001b[43m \u001b[49m\u001b[43mout_put_path\u001b[49m\u001b[43m,\u001b[49m\u001b[43m \u001b[49m\u001b[43mmain131_path\u001b[49m\u001b[43m,\u001b[49m\u001b[43m \u001b[49m\u001b[43msleep_time\u001b[49m\u001b[43m,\u001b[49m\u001b[43m \u001b[49m\u001b[43mtoday\u001b[49m\u001b[43m)\u001b[49m\n\u001b[1;32m    227\u001b[0m \u001b[38;5;28mprint\u001b[39m(\u001b[38;5;124m'\u001b[39m\u001b[38;5;124mThe Generation of LLPs is Completed\u001b[39m\u001b[38;5;124m'\u001b[39m)\n\u001b[1;32m    228\u001b[0m completed_data_dir \u001b[38;5;241m=\u001b[39m detect_folder_files_cross_section_CODEX_MATHUSLA(LLP_data_path)[\u001b[38;5;241m1\u001b[39m]\n",
      "File \u001b[0;32m/media/ubuntu/6156e08b-fdb1-4cde-964e-431f74a6078e/Program/PRA/Github/position_read_analyse_1.3/ALL_IN_ONE/Pythia8/loop.py:123\u001b[0m, in \u001b[0;36mloop_mass_simple\u001b[0;34m(csv_file, br, seed_amount, out_put_path, main131_path, sleep_time, today)\u001b[0m\n\u001b[1;32m    120\u001b[0m \u001b[38;5;28;01mfor\u001b[39;00m seed \u001b[38;5;129;01min\u001b[39;00m generate_randomseed(seed_amount):\n\u001b[1;32m    121\u001b[0m     \u001b[38;5;28;01mfor\u001b[39;00m mH, taus, theta \u001b[38;5;129;01min\u001b[39;00m \u001b[38;5;28mzip\u001b[39m(df[\u001b[38;5;124m'\u001b[39m\u001b[38;5;124mmH\u001b[39m\u001b[38;5;124m'\u001b[39m], df[\u001b[38;5;124m'\u001b[39m\u001b[38;5;124mltime\u001b[39m\u001b[38;5;124m'\u001b[39m],\n\u001b[1;32m    122\u001b[0m                                                                                                                      df[\u001b[38;5;124m'\u001b[39m\u001b[38;5;124mtheta\u001b[39m\u001b[38;5;124m'\u001b[39m]):\n\u001b[0;32m--> 123\u001b[0m         out_put_name_LLP_data \u001b[38;5;241m=\u001b[39m \u001b[43mrs\u001b[49m\u001b[38;5;241;43m.\u001b[39;49m\u001b[43mrun_save_main131_simple\u001b[49m\u001b[43m(\u001b[49m\u001b[43mmH\u001b[49m\u001b[43m,\u001b[49m\u001b[43m \u001b[49m\u001b[43mseed\u001b[49m\u001b[43m,\u001b[49m\u001b[43m \u001b[49m\u001b[43mbr\u001b[49m\u001b[43m,\u001b[49m\u001b[43m \u001b[49m\u001b[43mtaus\u001b[49m\u001b[43m,\u001b[49m\u001b[43m \u001b[49m\u001b[43mout_put_path\u001b[49m\u001b[43m,\u001b[49m\u001b[43m \u001b[49m\u001b[43mmain131_path\u001b[49m\u001b[43m,\u001b[49m\u001b[43m \u001b[49m\u001b[43mtheta\u001b[49m\u001b[43m,\u001b[49m\u001b[43m \u001b[49m\u001b[43mtoday\u001b[49m\u001b[43m)\u001b[49m[\u001b[38;5;241m0\u001b[39m]\n\u001b[1;32m    125\u001b[0m         pbar\u001b[38;5;241m.\u001b[39mupdate(\u001b[38;5;241m1\u001b[39m)\n\u001b[1;32m    126\u001b[0m         time\u001b[38;5;241m.\u001b[39msleep(sleep_time)\n",
      "File \u001b[0;32m/media/ubuntu/6156e08b-fdb1-4cde-964e-431f74a6078e/Program/PRA/Github/position_read_analyse_1.3/ALL_IN_ONE/Pythia8/run_save.py:289\u001b[0m, in \u001b[0;36mrun_save_main131_simple\u001b[0;34m(m, seed, Br, tau, out_path, main_41_path, theta, today)\u001b[0m\n\u001b[1;32m    287\u001b[0m filename \u001b[38;5;241m=\u001b[39m \u001b[38;5;124m\"\u001b[39m\u001b[38;5;124mfiltered_mass_\u001b[39m\u001b[38;5;124m\"\u001b[39m \u001b[38;5;241m+\u001b[39m mass \u001b[38;5;241m+\u001b[39m \u001b[38;5;124m\"\u001b[39m\u001b[38;5;124m_ctau_\u001b[39m\u001b[38;5;124m\"\u001b[39m \u001b[38;5;241m+\u001b[39m tau_str \u001b[38;5;241m+\u001b[39m \u001b[38;5;124m\"\u001b[39m\u001b[38;5;124m_br_\u001b[39m\u001b[38;5;124m\"\u001b[39m \u001b[38;5;241m+\u001b[39m Br_str \u001b[38;5;241m+\u001b[39m \u001b[38;5;124m\"\u001b[39m\u001b[38;5;124m_seed_\u001b[39m\u001b[38;5;124m\"\u001b[39m \u001b[38;5;241m+\u001b[39m random_seed \u001b[38;5;241m+\u001b[39m \u001b[38;5;124m\"\u001b[39m\u001b[38;5;124m.csv\u001b[39m\u001b[38;5;124m\"\u001b[39m\n\u001b[1;32m    288\u001b[0m \u001b[38;5;66;03m# get error if any\u001b[39;00m\n\u001b[0;32m--> 289\u001b[0m output, error \u001b[38;5;241m=\u001b[39m \u001b[43mprocess1\u001b[49m\u001b[38;5;241;43m.\u001b[39;49m\u001b[43mcommunicate\u001b[49m\u001b[43m(\u001b[49m\u001b[43m)\u001b[49m\n\u001b[1;32m    291\u001b[0m \u001b[38;5;66;03m# save to txt\u001b[39;00m\n\u001b[1;32m    292\u001b[0m out_path \u001b[38;5;241m=\u001b[39m out_dir\u001b[38;5;241m+\u001b[39mfilename\n",
      "File \u001b[0;32m/usr/lib/python3.10/subprocess.py:1141\u001b[0m, in \u001b[0;36mPopen.communicate\u001b[0;34m(self, input, timeout)\u001b[0m\n\u001b[1;32m   1139\u001b[0m     \u001b[38;5;28mself\u001b[39m\u001b[38;5;241m.\u001b[39m_stdin_write(\u001b[38;5;28minput\u001b[39m)\n\u001b[1;32m   1140\u001b[0m \u001b[38;5;28;01melif\u001b[39;00m \u001b[38;5;28mself\u001b[39m\u001b[38;5;241m.\u001b[39mstdout:\n\u001b[0;32m-> 1141\u001b[0m     stdout \u001b[38;5;241m=\u001b[39m \u001b[38;5;28;43mself\u001b[39;49m\u001b[38;5;241;43m.\u001b[39;49m\u001b[43mstdout\u001b[49m\u001b[38;5;241;43m.\u001b[39;49m\u001b[43mread\u001b[49m\u001b[43m(\u001b[49m\u001b[43m)\u001b[49m\n\u001b[1;32m   1142\u001b[0m     \u001b[38;5;28mself\u001b[39m\u001b[38;5;241m.\u001b[39mstdout\u001b[38;5;241m.\u001b[39mclose()\n\u001b[1;32m   1143\u001b[0m \u001b[38;5;28;01melif\u001b[39;00m \u001b[38;5;28mself\u001b[39m\u001b[38;5;241m.\u001b[39mstderr:\n",
      "\u001b[0;31mKeyboardInterrupt\u001b[0m: "
     ]
    }
   ],
   "source": [
    "# test_csv = '/media/ubuntu/6156e08b-fdb1-4cde-964e-431f74a6078e/Program/PRA/Github/position_read_analyse_1.3/ALL_IN_ONE/LSD/tau_theta_1e-05.csv'\n",
    "# okr.one_key_run_by_csv_cross_section_main131_simple(test_csv, 1, 1, out_path, main131_path, today, 0)"
   ]
  },
  {
   "cell_type": "code",
   "execution_count": 9,
   "metadata": {},
   "outputs": [
    {
     "name": "stdout",
     "output_type": "stream",
     "text": [
      "CSV file has been split into 4 parts.\n"
     ]
    }
   ],
   "source": [
    "csv_file = '/home/srp/Documents/program/stonerainphilo-Light_scalar_decay/Combined_Code/Higgs_Scalar_theta.csv'\n",
    "mp.split_csv_into_different_parts(csv_file, 4)"
   ]
  },
  {
   "cell_type": "code",
   "execution_count": null,
   "metadata": {},
   "outputs": [],
   "source": [
    "test_for_mass_1 = okr.one_key_run_2HDM_cross_section_main131_lower_eff_all_detectors(csv_file, 1, 1, out_path, main131_path, today, 0)"
   ]
  },
  {
   "cell_type": "code",
   "execution_count": 5,
   "metadata": {},
   "outputs": [
    {
     "name": "stdout",
     "output_type": "stream",
     "text": [
      "2025-08-20_Higgs_Scalar\n"
     ]
    }
   ],
   "source": [
    "print(today)"
   ]
  },
  {
   "cell_type": "code",
   "execution_count": 12,
   "metadata": {},
   "outputs": [
    {
     "name": "stdout",
     "output_type": "stream",
     "text": [
      "('1.csv', 1, 1, '/home/srp/Documents/LLP_DATA/', '/home/srp/Documents/Pythia8/pythia8315/examples/', '2025-08-20_Higgs_Scalar', 3)\n",
      "('2.csv', 1, 1, '/home/srp/Documents/LLP_DATA/', '/home/srp/Documents/Pythia8/pythia8315/examples/', '2025-08-20_Higgs_Scalar', 3)\n",
      "('3.csv', 1, 1, '/home/srp/Documents/LLP_DATA/', '/home/srp/Documents/Pythia8/pythia8315/examples/', '2025-08-20_Higgs_Scalar', 3)\n",
      "('4.csv', 1, 1, '/home/srp/Documents/LLP_DATA/', '/home/srp/Documents/Pythia8/pythia8315/examples/', '2025-08-20_Higgs_Scalar', 3)\n",
      "Running Simulation...Running Simulation...Running Simulation...Running Simulation...\n",
      "\n",
      "\n",
      "\n"
     ]
    },
    {
     "ename": "KeyError",
     "evalue": "'mA'",
     "output_type": "error",
     "traceback": [
      "\u001b[0;31m---------------------------------------------------------------------------\u001b[0m",
      "\u001b[0;31m_RemoteTraceback\u001b[0m                          Traceback (most recent call last)",
      "\u001b[0;31m_RemoteTraceback\u001b[0m: \n\"\"\"\nTraceback (most recent call last):\n  File \"/usr/local/lib/python3.10/dist-packages/pandas/core/indexes/base.py\", line 3812, in get_loc\n    return self._engine.get_loc(casted_key)\n  File \"pandas/_libs/index.pyx\", line 167, in pandas._libs.index.IndexEngine.get_loc\n  File \"pandas/_libs/index.pyx\", line 196, in pandas._libs.index.IndexEngine.get_loc\n  File \"pandas/_libs/hashtable_class_helper.pxi\", line 7088, in pandas._libs.hashtable.PyObjectHashTable.get_item\n  File \"pandas/_libs/hashtable_class_helper.pxi\", line 7096, in pandas._libs.hashtable.PyObjectHashTable.get_item\nKeyError: 'mA'\n\nThe above exception was the direct cause of the following exception:\n\nTraceback (most recent call last):\n  File \"/usr/lib/python3.10/concurrent/futures/process.py\", line 246, in _process_worker\n    r = call_item.fn(*call_item.args, **call_item.kwargs)\n  File \"/usr/lib/python3.10/concurrent/futures/process.py\", line 205, in _process_chunk\n    return [fn(*args) for args in chunk]\n  File \"/usr/lib/python3.10/concurrent/futures/process.py\", line 205, in <listcomp>\n    return [fn(*args) for args in chunk]\n  File \"/tmp/ipykernel_3971/271568894.py\", line 9, in run_task\n    return okr.one_key_run_2HDMA_cross_section_main131_lower_eff_all_detectors_B(_csv_file, _param1, _param2, _out_path, _main131_path, _date, _sleep_time)\n  File \"/home/srp/Documents/program/position_read_analyse_1.3/ALL_IN_ONE/Pythia8/one_key_run.py\", line 276, in one_key_run_2HDMA_cross_section_main131_lower_eff_all_detectors_B\n    LLP_data_path = lp.loop_2HDM_A(csv_file, br, seed_array, out_put_path, main131_path, sleep_time, today)\n  File \"/home/srp/Documents/program/position_read_analyse_1.3/ALL_IN_ONE/Pythia8/loop.py\", line 200, in loop_2HDM_A\n    total_iterations = seed_amount * len(df['mA'])\n  File \"/usr/local/lib/python3.10/dist-packages/pandas/core/frame.py\", line 4107, in __getitem__\n    indexer = self.columns.get_loc(key)\n  File \"/usr/local/lib/python3.10/dist-packages/pandas/core/indexes/base.py\", line 3819, in get_loc\n    raise KeyError(key) from err\nKeyError: 'mA'\n\"\"\"",
      "\nThe above exception was the direct cause of the following exception:\n",
      "\u001b[0;31mKeyError\u001b[0m                                  Traceback (most recent call last)",
      "Cell \u001b[0;32mIn[12], line 30\u001b[0m\n\u001b[1;32m     28\u001b[0m \u001b[38;5;66;03m# 使用多核并行\u001b[39;00m\n\u001b[1;32m     29\u001b[0m \u001b[38;5;28;01mwith\u001b[39;00m ProcessPoolExecutor(max_workers\u001b[38;5;241m=\u001b[39mnum_cores) \u001b[38;5;28;01mas\u001b[39;00m executor:\n\u001b[0;32m---> 30\u001b[0m     results \u001b[38;5;241m=\u001b[39m \u001b[38;5;28;43mlist\u001b[39;49m\u001b[43m(\u001b[49m\u001b[43mexecutor\u001b[49m\u001b[38;5;241;43m.\u001b[39;49m\u001b[43mmap\u001b[49m\u001b[43m(\u001b[49m\u001b[43mrun_task\u001b[49m\u001b[43m,\u001b[49m\u001b[43m \u001b[49m\u001b[43mtasks\u001b[49m\u001b[43m)\u001b[49m\u001b[43m)\u001b[49m\n\u001b[1;32m     32\u001b[0m \u001b[38;5;66;03m# 打印结果\u001b[39;00m\n\u001b[1;32m     33\u001b[0m \u001b[38;5;28mprint\u001b[39m(\u001b[38;5;124m\"\u001b[39m\u001b[38;5;124mAll tasks completed:\u001b[39m\u001b[38;5;124m\"\u001b[39m, results)\n",
      "File \u001b[0;32m/usr/lib/python3.10/concurrent/futures/process.py:575\u001b[0m, in \u001b[0;36m_chain_from_iterable_of_lists\u001b[0;34m(iterable)\u001b[0m\n\u001b[1;32m    569\u001b[0m \u001b[38;5;28;01mdef\u001b[39;00m\u001b[38;5;250m \u001b[39m\u001b[38;5;21m_chain_from_iterable_of_lists\u001b[39m(iterable):\n\u001b[1;32m    570\u001b[0m \u001b[38;5;250m    \u001b[39m\u001b[38;5;124;03m\"\"\"\u001b[39;00m\n\u001b[1;32m    571\u001b[0m \u001b[38;5;124;03m    Specialized implementation of itertools.chain.from_iterable.\u001b[39;00m\n\u001b[1;32m    572\u001b[0m \u001b[38;5;124;03m    Each item in *iterable* should be a list.  This function is\u001b[39;00m\n\u001b[1;32m    573\u001b[0m \u001b[38;5;124;03m    careful not to keep references to yielded objects.\u001b[39;00m\n\u001b[1;32m    574\u001b[0m \u001b[38;5;124;03m    \"\"\"\u001b[39;00m\n\u001b[0;32m--> 575\u001b[0m     \u001b[38;5;28;01mfor\u001b[39;00m element \u001b[38;5;129;01min\u001b[39;00m iterable:\n\u001b[1;32m    576\u001b[0m         element\u001b[38;5;241m.\u001b[39mreverse()\n\u001b[1;32m    577\u001b[0m         \u001b[38;5;28;01mwhile\u001b[39;00m element:\n",
      "File \u001b[0;32m/usr/lib/python3.10/concurrent/futures/_base.py:621\u001b[0m, in \u001b[0;36mExecutor.map.<locals>.result_iterator\u001b[0;34m()\u001b[0m\n\u001b[1;32m    618\u001b[0m \u001b[38;5;28;01mwhile\u001b[39;00m fs:\n\u001b[1;32m    619\u001b[0m     \u001b[38;5;66;03m# Careful not to keep a reference to the popped future\u001b[39;00m\n\u001b[1;32m    620\u001b[0m     \u001b[38;5;28;01mif\u001b[39;00m timeout \u001b[38;5;129;01mis\u001b[39;00m \u001b[38;5;28;01mNone\u001b[39;00m:\n\u001b[0;32m--> 621\u001b[0m         \u001b[38;5;28;01myield\u001b[39;00m \u001b[43m_result_or_cancel\u001b[49m\u001b[43m(\u001b[49m\u001b[43mfs\u001b[49m\u001b[38;5;241;43m.\u001b[39;49m\u001b[43mpop\u001b[49m\u001b[43m(\u001b[49m\u001b[43m)\u001b[49m\u001b[43m)\u001b[49m\n\u001b[1;32m    622\u001b[0m     \u001b[38;5;28;01melse\u001b[39;00m:\n\u001b[1;32m    623\u001b[0m         \u001b[38;5;28;01myield\u001b[39;00m _result_or_cancel(fs\u001b[38;5;241m.\u001b[39mpop(), end_time \u001b[38;5;241m-\u001b[39m time\u001b[38;5;241m.\u001b[39mmonotonic())\n",
      "File \u001b[0;32m/usr/lib/python3.10/concurrent/futures/_base.py:319\u001b[0m, in \u001b[0;36m_result_or_cancel\u001b[0;34m(***failed resolving arguments***)\u001b[0m\n\u001b[1;32m    317\u001b[0m \u001b[38;5;28;01mtry\u001b[39;00m:\n\u001b[1;32m    318\u001b[0m     \u001b[38;5;28;01mtry\u001b[39;00m:\n\u001b[0;32m--> 319\u001b[0m         \u001b[38;5;28;01mreturn\u001b[39;00m \u001b[43mfut\u001b[49m\u001b[38;5;241;43m.\u001b[39;49m\u001b[43mresult\u001b[49m\u001b[43m(\u001b[49m\u001b[43mtimeout\u001b[49m\u001b[43m)\u001b[49m\n\u001b[1;32m    320\u001b[0m     \u001b[38;5;28;01mfinally\u001b[39;00m:\n\u001b[1;32m    321\u001b[0m         fut\u001b[38;5;241m.\u001b[39mcancel()\n",
      "File \u001b[0;32m/usr/lib/python3.10/concurrent/futures/_base.py:458\u001b[0m, in \u001b[0;36mFuture.result\u001b[0;34m(self, timeout)\u001b[0m\n\u001b[1;32m    456\u001b[0m     \u001b[38;5;28;01mraise\u001b[39;00m CancelledError()\n\u001b[1;32m    457\u001b[0m \u001b[38;5;28;01melif\u001b[39;00m \u001b[38;5;28mself\u001b[39m\u001b[38;5;241m.\u001b[39m_state \u001b[38;5;241m==\u001b[39m FINISHED:\n\u001b[0;32m--> 458\u001b[0m     \u001b[38;5;28;01mreturn\u001b[39;00m \u001b[38;5;28;43mself\u001b[39;49m\u001b[38;5;241;43m.\u001b[39;49m\u001b[43m__get_result\u001b[49m\u001b[43m(\u001b[49m\u001b[43m)\u001b[49m\n\u001b[1;32m    459\u001b[0m \u001b[38;5;28;01melse\u001b[39;00m:\n\u001b[1;32m    460\u001b[0m     \u001b[38;5;28;01mraise\u001b[39;00m \u001b[38;5;167;01mTimeoutError\u001b[39;00m()\n",
      "File \u001b[0;32m/usr/lib/python3.10/concurrent/futures/_base.py:403\u001b[0m, in \u001b[0;36mFuture.__get_result\u001b[0;34m(self)\u001b[0m\n\u001b[1;32m    401\u001b[0m \u001b[38;5;28;01mif\u001b[39;00m \u001b[38;5;28mself\u001b[39m\u001b[38;5;241m.\u001b[39m_exception:\n\u001b[1;32m    402\u001b[0m     \u001b[38;5;28;01mtry\u001b[39;00m:\n\u001b[0;32m--> 403\u001b[0m         \u001b[38;5;28;01mraise\u001b[39;00m \u001b[38;5;28mself\u001b[39m\u001b[38;5;241m.\u001b[39m_exception\n\u001b[1;32m    404\u001b[0m     \u001b[38;5;28;01mfinally\u001b[39;00m:\n\u001b[1;32m    405\u001b[0m         \u001b[38;5;66;03m# Break a reference cycle with the exception in self._exception\u001b[39;00m\n\u001b[1;32m    406\u001b[0m         \u001b[38;5;28mself\u001b[39m \u001b[38;5;241m=\u001b[39m \u001b[38;5;28;01mNone\u001b[39;00m\n",
      "\u001b[0;31mKeyError\u001b[0m: 'mA'"
     ]
    }
   ],
   "source": [
    "from concurrent.futures import ProcessPoolExecutor\n",
    "import os\n",
    "\n",
    "# 假设 okr.one_key_run_by_csv_cross_section_main131 是你要并行运行的函数\n",
    "from concurrent.futures import ProcessPoolExecutor\n",
    "\n",
    "def run_task(args):\n",
    "    _csv_file, _param1, _param2, _out_path, _main131_path, _date, _sleep_time = args\n",
    "    return okr.one_key_run_2HDMA_cross_section_main131_lower_eff_all_detectors_B(_csv_file, _param1, _param2, _out_path, _main131_path, _date, _sleep_time)\n",
    "\n",
    "if __name__ == \"__main__\":\n",
    "    # 自定义 CPU 核心数量\n",
    "    num_cores = 4  # 你可以将此值改为你想使用的核心数量\n",
    "\n",
    "    # 定义任务参数\n",
    "    # out_path = \"output_path\"  # 替换为实际的输出路径\n",
    "    # main131_path = \"main131_path\"  # 替换为实际的路径\n",
    "\n",
    "    tasks = [\n",
    "        (f\"{i+1}.csv\", 1, 1, out_path, main131_path, today, 3)  # 生成任务参数\n",
    "        for i in range(num_cores)  # 根据自定义核心数生成任务\n",
    "    ]\n",
    "\n",
    "    # 打印生成的任务\n",
    "    for task in tasks:\n",
    "        print(task)\n",
    "\n",
    "    # 使用多核并行\n",
    "    with ProcessPoolExecutor(max_workers=num_cores) as executor:\n",
    "        results = list(executor.map(run_task, tasks))\n",
    "\n",
    "    # 打印结果\n",
    "    print(\"All tasks completed:\", results)\n",
    "\n",
    "\n",
    "run_task((csv_file, 1, 1, out_path, main131_path, today, 0))"
   ]
  },
  {
   "cell_type": "code",
   "execution_count": 8,
   "metadata": {},
   "outputs": [
    {
     "name": "stdout",
     "output_type": "stream",
     "text": [
      "('1.csv', 1, 1, '/home/srp/Documents/LLP_DATA/', '/home/srp/Documents/Pythia8/pythia8315/examples/', '2025-08-20_Higgs_Scalar', 0)\n",
      "('2.csv', 1, 1, '/home/srp/Documents/LLP_DATA/', '/home/srp/Documents/Pythia8/pythia8315/examples/', '2025-08-20_Higgs_Scalar', 0)\n",
      "('3.csv', 1, 1, '/home/srp/Documents/LLP_DATA/', '/home/srp/Documents/Pythia8/pythia8315/examples/', '2025-08-20_Higgs_Scalar', 0)\n",
      "('4.csv', 1, 1, '/home/srp/Documents/LLP_DATA/', '/home/srp/Documents/Pythia8/pythia8315/examples/', '2025-08-20_Higgs_Scalar', 0)\n",
      "Running Simulation...Running Simulation...Running Simulation...Running Simulation...\n",
      "\n",
      "\n",
      "\n"
     ]
    },
    {
     "name": "stderr",
     "output_type": "stream",
     "text": [
      "100%|██████████| 207/207 [6:23:33<00:00, 111.17s/it]  \n"
     ]
    },
    {
     "name": "stdout",
     "output_type": "stream",
     "text": [
      "The Generation of LLPs is Completed\n"
     ]
    },
    {
     "name": "stderr",
     "output_type": "stream",
     "text": [
      "  1%|▏         | 11/821 [00:13<16:34,  1.23s/it]/it]"
     ]
    },
    {
     "name": "stdout",
     "output_type": "stream",
     "text": [
      "Error with file: /home/srp/Documents/LLP_DATA/2025-08-20_Higgs_Scalar/LLP_data/mass_5.01e+00_ctau_2.20e+04_br_1.00e+00_seed_253910.csv\n",
      "Error message: No columns to parse from file\n"
     ]
    },
    {
     "name": "stderr",
     "output_type": "stream",
     "text": [
      "  2%|▏         | 18/821 [00:21<16:07,  1.20s/it]"
     ]
    },
    {
     "name": "stdout",
     "output_type": "stream",
     "text": [
      "Error with file: /home/srp/Documents/LLP_DATA/2025-08-20_Higgs_Scalar/LLP_data/mass_5.01e+00_ctau_2.20e-04_br_1.00e+00_seed_253910.csv\n",
      "Error message: No columns to parse from file\n"
     ]
    },
    {
     "name": "stderr",
     "output_type": "stream",
     "text": [
      "  3%|▎         | 28/821 [00:32<16:30,  1.25s/it]"
     ]
    },
    {
     "name": "stdout",
     "output_type": "stream",
     "text": [
      "Error with file: /home/srp/Documents/LLP_DATA/2025-08-20_Higgs_Scalar/LLP_data/mass_5.01e+00_ctau_5.52e-03_br_1.00e+00_seed_253910.csv\n",
      "Error message: No columns to parse from file\n"
     ]
    },
    {
     "name": "stderr",
     "output_type": "stream",
     "text": [
      "  8%|▊         | 66/821 [01:20<15:51,  1.26s/it]"
     ]
    },
    {
     "name": "stdout",
     "output_type": "stream",
     "text": [
      "Error with file: /home/srp/Documents/LLP_DATA/2025-08-20_Higgs_Scalar/LLP_data/mass_5.01e+00_ctau_3.48e+03_br_1.00e+00_seed_253910.csv\n",
      "Error message: No columns to parse from file\n"
     ]
    },
    {
     "name": "stderr",
     "output_type": "stream",
     "text": [
      "  8%|▊         | 68/821 [01:22<12:09,  1.03it/s]/it]"
     ]
    },
    {
     "name": "stdout",
     "output_type": "stream",
     "text": [
      "Error with file: /home/srp/Documents/LLP_DATA/2025-08-20_Higgs_Scalar/LLP_data/mass_5.01e+00_ctau_1.39e+00_br_1.00e+00_seed_253910.csv\n",
      "Error message: No columns to parse from file\n"
     ]
    },
    {
     "name": "stderr",
     "output_type": "stream",
     "text": [
      "100%|██████████| 207/207 [6:25:29<00:00, 111.74s/it]\n"
     ]
    },
    {
     "name": "stdout",
     "output_type": "stream",
     "text": [
      "The Generation of LLPs is Completed\n"
     ]
    },
    {
     "name": "stderr",
     "output_type": "stream",
     "text": [
      " 12%|█▏        | 96/821 [01:56<15:10,  1.26s/it]"
     ]
    },
    {
     "name": "stdout",
     "output_type": "stream",
     "text": [
      "Error with file: /home/srp/Documents/LLP_DATA/2025-08-20_Higgs_Scalar/LLP_data/mass_5.01e+00_ctau_3.48e+00_br_1.00e+00_seed_253910.csv\n",
      "Error message: No columns to parse from file\n"
     ]
    },
    {
     "name": "stderr",
     "output_type": "stream",
     "text": [
      " 12%|█▏        | 102/821 [02:02<14:13,  1.19s/it]"
     ]
    },
    {
     "name": "stdout",
     "output_type": "stream",
     "text": [
      "Error with file: /home/srp/Documents/LLP_DATA/2025-08-20_Higgs_Scalar/LLP_data/mass_5.01e+00_ctau_5.52e-01_br_1.00e+00_seed_253910.csv\n",
      "Error message: No columns to parse from file\n"
     ]
    },
    {
     "name": "stderr",
     "output_type": "stream",
     "text": [
      " 13%|█▎        | 108/821 [02:08<13:25,  1.13s/it]"
     ]
    },
    {
     "name": "stdout",
     "output_type": "stream",
     "text": [
      "Error with file: /home/srp/Documents/LLP_DATA/2025-08-20_Higgs_Scalar/LLP_data/mass_5.01e+00_ctau_5.52e+03_br_1.00e+00_seed_253910.csv\n",
      "Error message: No columns to parse from file\n"
     ]
    },
    {
     "name": "stderr",
     "output_type": "stream",
     "text": [
      "  1%|▏         | 11/825 [00:12<15:19,  1.13s/it]"
     ]
    },
    {
     "name": "stdout",
     "output_type": "stream",
     "text": [
      "Error with file: /home/srp/Documents/LLP_DATA/2025-08-20_Higgs_Scalar/LLP_data/mass_5.01e+00_ctau_2.20e+04_br_1.00e+00_seed_253910.csv\n",
      "Error message: No columns to parse from file\n"
     ]
    },
    {
     "name": "stderr",
     "output_type": "stream",
     "text": [
      "  2%|▏         | 18/825 [00:20<15:45,  1.17s/it]]"
     ]
    },
    {
     "name": "stdout",
     "output_type": "stream",
     "text": [
      "Error with file: /home/srp/Documents/LLP_DATA/2025-08-20_Higgs_Scalar/LLP_data/mass_5.01e+00_ctau_2.20e-04_br_1.00e+00_seed_253910.csv\n",
      "Error message: No columns to parse from file\n"
     ]
    },
    {
     "name": "stderr",
     "output_type": "stream",
     "text": [
      " 14%|█▍        | 118/821 [02:20<16:16,  1.39s/it]"
     ]
    },
    {
     "name": "stdout",
     "output_type": "stream",
     "text": [
      "Error with file: /home/srp/Documents/LLP_DATA/2025-08-20_Higgs_Scalar/LLP_data/mass_5.01e+00_ctau_5.52e+01_br_1.00e+00_seed_253910.csv\n",
      "Error message: No columns to parse from file\n"
     ]
    },
    {
     "name": "stderr",
     "output_type": "stream",
     "text": [
      " 15%|█▌        | 125/821 [02:29<15:06,  1.30s/it]"
     ]
    },
    {
     "name": "stdout",
     "output_type": "stream",
     "text": [
      "Error with file: /home/srp/Documents/LLP_DATA/2025-08-20_Higgs_Scalar/LLP_data/mass_5.01e+00_ctau_3.48e+02_br_1.00e+00_seed_253910.csv\n",
      "Error message: No columns to parse from file\n"
     ]
    },
    {
     "name": "stderr",
     "output_type": "stream",
     "text": [
      "  3%|▎         | 28/825 [00:33<18:34,  1.40s/it]"
     ]
    },
    {
     "name": "stdout",
     "output_type": "stream",
     "text": [
      "Error with file: /home/srp/Documents/LLP_DATA/2025-08-20_Higgs_Scalar/LLP_data/mass_5.01e+00_ctau_5.52e-03_br_1.00e+00_seed_253910.csv\n",
      "Error message: No columns to parse from file\n"
     ]
    },
    {
     "name": "stderr",
     "output_type": "stream",
     "text": [
      "100%|██████████| 207/207 [6:26:51<00:00, 112.13s/it]\n"
     ]
    },
    {
     "name": "stdout",
     "output_type": "stream",
     "text": [
      "The Generation of LLPs is Completed\n"
     ]
    },
    {
     "name": "stderr",
     "output_type": "stream",
     "text": [
      "  8%|▊         | 67/825 [01:34<18:04,  1.43s/it]]"
     ]
    },
    {
     "name": "stdout",
     "output_type": "stream",
     "text": [
      "Error with file: /home/srp/Documents/LLP_DATA/2025-08-20_Higgs_Scalar/LLP_data/mass_5.01e+00_ctau_3.48e+03_br_1.00e+00_seed_253910.csv\n",
      "Error message: No columns to parse from file\n"
     ]
    },
    {
     "name": "stderr",
     "output_type": "stream",
     "text": [
      "  1%|▏         | 11/826 [00:14<19:14,  1.42s/it]]it]"
     ]
    },
    {
     "name": "stdout",
     "output_type": "stream",
     "text": [
      "Error with file: /home/srp/Documents/LLP_DATA/2025-08-20_Higgs_Scalar/LLP_data/mass_5.01e+00_ctau_2.20e+04_br_1.00e+00_seed_253910.csv\n",
      "Error message: No columns to parse from file\n"
     ]
    },
    {
     "name": "stderr",
     "output_type": "stream",
     "text": [
      "  8%|▊         | 69/825 [01:36<14:50,  1.18s/it]"
     ]
    },
    {
     "name": "stdout",
     "output_type": "stream",
     "text": [
      "Error with file: /home/srp/Documents/LLP_DATA/2025-08-20_Higgs_Scalar/LLP_data/mass_5.01e+00_ctau_1.39e+00_br_1.00e+00_seed_253910.csv\n",
      "Error message: No columns to parse from file\n"
     ]
    },
    {
     "name": "stderr",
     "output_type": "stream",
     "text": [
      "  2%|▏         | 18/826 [00:22<16:47,  1.25s/it]]"
     ]
    },
    {
     "name": "stdout",
     "output_type": "stream",
     "text": [
      "Error with file: /home/srp/Documents/LLP_DATA/2025-08-20_Higgs_Scalar/LLP_data/mass_5.01e+00_ctau_2.20e-04_br_1.00e+00_seed_253910.csv\n",
      "Error message: No columns to parse from file\n"
     ]
    },
    {
     "name": "stderr",
     "output_type": "stream",
     "text": [
      "  3%|▎         | 28/826 [00:33<16:06,  1.21s/it]]"
     ]
    },
    {
     "name": "stdout",
     "output_type": "stream",
     "text": [
      "Error with file: /home/srp/Documents/LLP_DATA/2025-08-20_Higgs_Scalar/LLP_data/mass_5.01e+00_ctau_5.52e-03_br_1.00e+00_seed_253910.csv\n",
      "Error message: No columns to parse from file\n"
     ]
    },
    {
     "name": "stderr",
     "output_type": "stream",
     "text": [
      " 12%|█▏        | 97/825 [02:10<14:58,  1.23s/it]]"
     ]
    },
    {
     "name": "stdout",
     "output_type": "stream",
     "text": [
      "Error with file: /home/srp/Documents/LLP_DATA/2025-08-20_Higgs_Scalar/LLP_data/mass_5.01e+00_ctau_3.48e+00_br_1.00e+00_seed_253910.csv\n",
      "Error message: No columns to parse from file\n"
     ]
    },
    {
     "name": "stderr",
     "output_type": "stream",
     "text": [
      " 24%|██▍       | 195/821 [04:08<13:07,  1.26s/it]"
     ]
    },
    {
     "name": "stdout",
     "output_type": "stream",
     "text": [
      "Error with file: /home/srp/Documents/LLP_DATA/2025-08-20_Higgs_Scalar/LLP_data/mass_5.01e+00_ctau_3.48e+01_br_1.00e+00_seed_253910.csv\n",
      "Error message: No columns to parse from file\n"
     ]
    },
    {
     "name": "stderr",
     "output_type": "stream",
     "text": [
      " 24%|██▍       | 200/821 [04:13<11:55,  1.15s/it]"
     ]
    },
    {
     "name": "stdout",
     "output_type": "stream",
     "text": [
      "Error with file: /home/srp/Documents/LLP_DATA/2025-08-20_Higgs_Scalar/LLP_data/mass_5.01e+00_ctau_2.20e+02_br_1.00e+00_seed_253910.csv\n",
      "Error message: No columns to parse from file\n"
     ]
    },
    {
     "name": "stderr",
     "output_type": "stream",
     "text": [
      " 12%|█▏        | 103/825 [02:17<14:40,  1.22s/it]"
     ]
    },
    {
     "name": "stdout",
     "output_type": "stream",
     "text": [
      "Error with file: /home/srp/Documents/LLP_DATA/2025-08-20_Higgs_Scalar/LLP_data/mass_5.01e+00_ctau_5.52e-01_br_1.00e+00_seed_253910.csv\n",
      "Error message: No columns to parse from file\n"
     ]
    },
    {
     "name": "stderr",
     "output_type": "stream",
     "text": [
      " 13%|█▎        | 109/825 [02:23<13:47,  1.16s/it]"
     ]
    },
    {
     "name": "stdout",
     "output_type": "stream",
     "text": [
      "Error with file: /home/srp/Documents/LLP_DATA/2025-08-20_Higgs_Scalar/LLP_data/mass_5.01e+00_ctau_5.52e+03_br_1.00e+00_seed_253910.csv\n",
      "Error message: No columns to parse from file\n"
     ]
    },
    {
     "name": "stderr",
     "output_type": "stream",
     "text": [
      " 14%|█▍        | 119/825 [02:35<14:45,  1.25s/it]"
     ]
    },
    {
     "name": "stdout",
     "output_type": "stream",
     "text": [
      "Error with file: /home/srp/Documents/LLP_DATA/2025-08-20_Higgs_Scalar/LLP_data/mass_5.01e+00_ctau_5.52e+01_br_1.00e+00_seed_253910.csv\n",
      "Error message: No columns to parse from file\n"
     ]
    },
    {
     "name": "stderr",
     "output_type": "stream",
     "text": [
      " 15%|█▌        | 126/825 [02:43<14:29,  1.24s/it]"
     ]
    },
    {
     "name": "stdout",
     "output_type": "stream",
     "text": [
      "Error with file: /home/srp/Documents/LLP_DATA/2025-08-20_Higgs_Scalar/LLP_data/mass_5.01e+00_ctau_3.48e+02_br_1.00e+00_seed_253910.csv\n",
      "Error message: No columns to parse from file\n"
     ]
    },
    {
     "name": "stderr",
     "output_type": "stream",
     "text": [
      "  8%|▊         | 67/826 [01:21<15:40,  1.24s/it]"
     ]
    },
    {
     "name": "stdout",
     "output_type": "stream",
     "text": [
      "Error with file: /home/srp/Documents/LLP_DATA/2025-08-20_Higgs_Scalar/LLP_data/mass_5.01e+00_ctau_3.48e+03_br_1.00e+00_seed_253910.csv\n",
      "Error message: No columns to parse from file\n"
     ]
    },
    {
     "name": "stderr",
     "output_type": "stream",
     "text": [
      "  8%|▊         | 69/826 [01:22<12:01,  1.05it/s]]"
     ]
    },
    {
     "name": "stdout",
     "output_type": "stream",
     "text": [
      "Error with file: /home/srp/Documents/LLP_DATA/2025-08-20_Higgs_Scalar/LLP_data/mass_5.01e+00_ctau_1.39e+00_br_1.00e+00_seed_253910.csv\n",
      "Error message: No columns to parse from file\n"
     ]
    },
    {
     "name": "stderr",
     "output_type": "stream",
     "text": [
      " 12%|█▏        | 97/826 [01:58<17:56,  1.48s/it]]"
     ]
    },
    {
     "name": "stdout",
     "output_type": "stream",
     "text": [
      "Error with file: /home/srp/Documents/LLP_DATA/2025-08-20_Higgs_Scalar/LLP_data/mass_5.01e+00_ctau_3.48e+00_br_1.00e+00_seed_253910.csv\n",
      "Error message: No columns to parse from file\n"
     ]
    },
    {
     "name": "stderr",
     "output_type": "stream",
     "text": [
      " 12%|█▏        | 103/826 [02:06<18:06,  1.50s/it]"
     ]
    },
    {
     "name": "stdout",
     "output_type": "stream",
     "text": [
      "Error with file: /home/srp/Documents/LLP_DATA/2025-08-20_Higgs_Scalar/LLP_data/mass_5.01e+00_ctau_5.52e-01_br_1.00e+00_seed_253910.csv\n",
      "Error message: No columns to parse from file\n"
     ]
    },
    {
     "name": "stderr",
     "output_type": "stream",
     "text": [
      " 13%|█▎        | 109/826 [02:14<17:50,  1.49s/it]it]"
     ]
    },
    {
     "name": "stdout",
     "output_type": "stream",
     "text": [
      "Error with file: /home/srp/Documents/LLP_DATA/2025-08-20_Higgs_Scalar/LLP_data/mass_5.01e+00_ctau_5.52e+03_br_1.00e+00_seed_253910.csv\n",
      "Error message: No columns to parse from file\n"
     ]
    },
    {
     "name": "stderr",
     "output_type": "stream",
     "text": [
      " 32%|███▏      | 264/821 [05:37<14:37,  1.58s/it]"
     ]
    },
    {
     "name": "stdout",
     "output_type": "stream",
     "text": [
      "Error with file: /home/srp/Documents/LLP_DATA/2025-08-20_Higgs_Scalar/LLP_data/mass_5.01e+00_ctau_8.75e-02_br_1.00e+00_seed_253910.csv\n",
      "Error message: No columns to parse from file\n"
     ]
    },
    {
     "name": "stderr",
     "output_type": "stream",
     "text": [
      " 14%|█▍        | 119/826 [02:28<18:49,  1.60s/it]"
     ]
    },
    {
     "name": "stdout",
     "output_type": "stream",
     "text": [
      "Error with file: /home/srp/Documents/LLP_DATA/2025-08-20_Higgs_Scalar/LLP_data/mass_5.01e+00_ctau_5.52e+01_br_1.00e+00_seed_253910.csv\n",
      "Error message: No columns to parse from file\n"
     ]
    },
    {
     "name": "stderr",
     "output_type": "stream",
     "text": [
      " 34%|███▎      | 276/821 [05:52<12:36,  1.39s/it]"
     ]
    },
    {
     "name": "stdout",
     "output_type": "stream",
     "text": [
      "Error with file: /home/srp/Documents/LLP_DATA/2025-08-20_Higgs_Scalar/LLP_data/mass_5.01e+00_ctau_1.39e+02_br_1.00e+00_seed_253910.csv\n",
      "Error message: No columns to parse from file\n"
     ]
    },
    {
     "name": "stderr",
     "output_type": "stream",
     "text": [
      " 15%|█▌        | 126/826 [02:37<15:50,  1.36s/it]"
     ]
    },
    {
     "name": "stdout",
     "output_type": "stream",
     "text": [
      "Error with file: /home/srp/Documents/LLP_DATA/2025-08-20_Higgs_Scalar/LLP_data/mass_5.01e+00_ctau_3.48e+02_br_1.00e+00_seed_253910.csv\n",
      "Error message: No columns to parse from file\n"
     ]
    },
    {
     "name": "stderr",
     "output_type": "stream",
     "text": [
      " 24%|██▍       | 196/825 [04:17<13:32,  1.29s/it]"
     ]
    },
    {
     "name": "stdout",
     "output_type": "stream",
     "text": [
      "Error with file: /home/srp/Documents/LLP_DATA/2025-08-20_Higgs_Scalar/LLP_data/mass_5.01e+00_ctau_3.48e+01_br_1.00e+00_seed_253910.csv\n",
      "Error message: No columns to parse from file\n"
     ]
    },
    {
     "name": "stderr",
     "output_type": "stream",
     "text": [
      " 36%|███▌      | 295/821 [06:15<11:16,  1.29s/it]"
     ]
    },
    {
     "name": "stdout",
     "output_type": "stream",
     "text": [
      "Error with file: /home/srp/Documents/LLP_DATA/2025-08-20_Higgs_Scalar/LLP_data/mass_5.01e+00_ctau_8.75e-03_br_1.00e+00_seed_253910.csv\n",
      "Error message: No columns to parse from file\n"
     ]
    },
    {
     "name": "stderr",
     "output_type": "stream",
     "text": [
      " 24%|██▍       | 201/825 [04:22<11:49,  1.14s/it]"
     ]
    },
    {
     "name": "stdout",
     "output_type": "stream",
     "text": [
      "Error with file: /home/srp/Documents/LLP_DATA/2025-08-20_Higgs_Scalar/LLP_data/mass_5.01e+00_ctau_2.20e+02_br_1.00e+00_seed_253910.csv\n",
      "Error message: No columns to parse from file\n"
     ]
    },
    {
     "name": "stderr",
     "output_type": "stream",
     "text": [
      " 37%|███▋      | 304/821 [06:25<10:37,  1.23s/it]"
     ]
    },
    {
     "name": "stdout",
     "output_type": "stream",
     "text": [
      "Error with file: /home/srp/Documents/LLP_DATA/2025-08-20_Higgs_Scalar/LLP_data/mass_5.01e+00_ctau_5.52e+02_br_1.00e+00_seed_253910.csv\n",
      "Error message: No columns to parse from file\n"
     ]
    },
    {
     "name": "stderr",
     "output_type": "stream",
     "text": [
      " 40%|███▉      | 327/821 [06:53<10:34,  1.28s/it]"
     ]
    },
    {
     "name": "stdout",
     "output_type": "stream",
     "text": [
      "Error with file: /home/srp/Documents/LLP_DATA/2025-08-20_Higgs_Scalar/LLP_data/mass_5.01e+00_ctau_3.48e-05_br_1.00e+00_seed_253910.csv\n",
      "Error message: No columns to parse from file\n"
     ]
    },
    {
     "name": "stderr",
     "output_type": "stream",
     "text": [
      " 40%|████      | 330/821 [06:55<08:27,  1.03s/it]"
     ]
    },
    {
     "name": "stdout",
     "output_type": "stream",
     "text": [
      "Error with file: /home/srp/Documents/LLP_DATA/2025-08-20_Higgs_Scalar/LLP_data/mass_5.01e+00_ctau_8.75e-05_br_1.00e+00_seed_253910.csv\n",
      "Error message: No columns to parse from file\n"
     ]
    },
    {
     "name": "stderr",
     "output_type": "stream",
     "text": [
      " 41%|████      | 334/821 [06:59<08:11,  1.01s/it]"
     ]
    },
    {
     "name": "stdout",
     "output_type": "stream",
     "text": [
      "Error with file: /home/srp/Documents/LLP_DATA/2025-08-20_Higgs_Scalar/LLP_data/mass_5.01e+00_ctau_8.75e+00_br_1.00e+00_seed_253910.csv\n",
      "Error message: No columns to parse from file"
     ]
    },
    {
     "name": "stderr",
     "output_type": "stream",
     "text": [
      " 21%|██▏       | 177/826 [03:41<14:18,  1.32s/it]"
     ]
    },
    {
     "name": "stdout",
     "output_type": "stream",
     "text": [
      "\n"
     ]
    },
    {
     "name": "stderr",
     "output_type": "stream",
     "text": [
      " 24%|██▎       | 196/826 [04:06<13:44,  1.31s/it]"
     ]
    },
    {
     "name": "stdout",
     "output_type": "stream",
     "text": [
      "Error with file: /home/srp/Documents/LLP_DATA/2025-08-20_Higgs_Scalar/LLP_data/mass_5.01e+00_ctau_3.48e+01_br_1.00e+00_seed_253910.csv\n",
      "Error message: No columns to parse from file\n"
     ]
    },
    {
     "name": "stderr",
     "output_type": "stream",
     "text": [
      " 43%|████▎     | 357/821 [07:27<09:36,  1.24s/it]"
     ]
    },
    {
     "name": "stdout",
     "output_type": "stream",
     "text": [
      "Error with file: /home/srp/Documents/LLP_DATA/2025-08-20_Higgs_Scalar/LLP_data/mass_5.01e+00_ctau_1.39e+03_br_1.00e+00_seed_253910.csv\n",
      "Error message: No columns to parse from file\n"
     ]
    },
    {
     "name": "stderr",
     "output_type": "stream",
     "text": [
      " 24%|██▍       | 201/826 [04:11<12:05,  1.16s/it]"
     ]
    },
    {
     "name": "stdout",
     "output_type": "stream",
     "text": [
      "Error with file: /home/srp/Documents/LLP_DATA/2025-08-20_Higgs_Scalar/LLP_data/mass_5.01e+00_ctau_2.20e+02_br_1.00e+00_seed_253910.csv\n",
      "Error message: No columns to parse from file\n"
     ]
    },
    {
     "name": "stderr",
     "output_type": "stream",
     "text": [
      "100%|██████████| 207/207 [6:31:03<00:00, 113.35s/it]\n"
     ]
    },
    {
     "name": "stdout",
     "output_type": "stream",
     "text": [
      "The Generation of LLPs is Completed\n"
     ]
    },
    {
     "name": "stderr",
     "output_type": "stream",
     "text": [
      " 32%|███▏      | 265/825 [05:43<12:24,  1.33s/it]"
     ]
    },
    {
     "name": "stdout",
     "output_type": "stream",
     "text": [
      "Error with file: /home/srp/Documents/LLP_DATA/2025-08-20_Higgs_Scalar/LLP_data/mass_5.01e+00_ctau_8.75e-02_br_1.00e+00_seed_253910.csv\n",
      "Error message: No columns to parse from file\n"
     ]
    },
    {
     "name": "stderr",
     "output_type": "stream",
     "text": [
      "  1%|▏         | 11/829 [00:13<17:56,  1.32s/it]]"
     ]
    },
    {
     "name": "stdout",
     "output_type": "stream",
     "text": [
      "Error with file: /home/srp/Documents/LLP_DATA/2025-08-20_Higgs_Scalar/LLP_data/mass_5.01e+00_ctau_2.20e+04_br_1.00e+00_seed_253910.csv\n",
      "Error message: No columns to parse from file\n"
     ]
    },
    {
     "name": "stderr",
     "output_type": "stream",
     "text": [
      "  2%|▏         | 18/829 [00:23<20:38,  1.53s/it]]"
     ]
    },
    {
     "name": "stdout",
     "output_type": "stream",
     "text": [
      "Error with file: /home/srp/Documents/LLP_DATA/2025-08-20_Higgs_Scalar/LLP_data/mass_5.01e+00_ctau_2.20e-04_br_1.00e+00_seed_253910.csv\n",
      "Error message: No columns to parse from file\n"
     ]
    },
    {
     "name": "stderr",
     "output_type": "stream",
     "text": [
      " 34%|███▎      | 278/825 [06:03<14:47,  1.62s/it]"
     ]
    },
    {
     "name": "stdout",
     "output_type": "stream",
     "text": [
      "Error with file: /home/srp/Documents/LLP_DATA/2025-08-20_Higgs_Scalar/LLP_data/mass_5.01e+00_ctau_1.39e+02_br_1.00e+00_seed_253910.csv\n",
      "Error message: No columns to parse from file\n"
     ]
    },
    {
     "name": "stderr",
     "output_type": "stream",
     "text": [
      "  3%|▎         | 28/829 [00:40<25:42,  1.93s/it]]"
     ]
    },
    {
     "name": "stdout",
     "output_type": "stream",
     "text": [
      "Error with file: /home/srp/Documents/LLP_DATA/2025-08-20_Higgs_Scalar/LLP_data/mass_5.01e+00_ctau_5.52e-03_br_1.00e+00_seed_253910.csv\n",
      "Error message: No columns to parse from file\n"
     ]
    },
    {
     "name": "stderr",
     "output_type": "stream",
     "text": [
      " 48%|████▊     | 391/821 [08:16<11:29,  1.60s/it]"
     ]
    },
    {
     "name": "stdout",
     "output_type": "stream",
     "text": [
      "Error with file: /home/srp/Documents/LLP_DATA/2025-08-20_Higgs_Scalar/LLP_data/mass_5.01e+00_ctau_1.39e-03_br_1.00e+00_seed_253910.csv\n",
      "Error message: No columns to parse from file\n"
     ]
    },
    {
     "name": "stderr",
     "output_type": "stream",
     "text": [
      " 36%|███▌      | 297/825 [06:34<14:46,  1.68s/it]"
     ]
    },
    {
     "name": "stdout",
     "output_type": "stream",
     "text": [
      "Error with file: /home/srp/Documents/LLP_DATA/2025-08-20_Higgs_Scalar/LLP_data/mass_5.01e+00_ctau_8.75e-03_br_1.00e+00_seed_253910.csv\n",
      "Error message: No columns to parse from file\n"
     ]
    },
    {
     "name": "stderr",
     "output_type": "stream",
     "text": [
      " 49%|████▉     | 404/821 [08:33<09:25,  1.36s/it]"
     ]
    },
    {
     "name": "stdout",
     "output_type": "stream",
     "text": [
      "Error with file: /home/srp/Documents/LLP_DATA/2025-08-20_Higgs_Scalar/LLP_data/mass_5.01e+00_ctau_2.20e+00_br_1.00e+00_seed_253910.csv\n",
      "Error message: No columns to parse from file\n"
     ]
    },
    {
     "name": "stderr",
     "output_type": "stream",
     "text": [
      " 29%|██▉       | 242/826 [05:16<14:37,  1.50s/it]"
     ]
    },
    {
     "name": "stdout",
     "output_type": "stream",
     "text": [
      "Error with file: /home/srp/Documents/LLP_DATA/2025-08-20_Higgs_Scalar/LLP_data/mass_5.01e+00_ctau_5.52e+00_br_1.00e+00_seed_253910.csv\n",
      "Error message: No columns to parse from file\n"
     ]
    },
    {
     "name": "stderr",
     "output_type": "stream",
     "text": [
      " 50%|█████     | 411/821 [08:42<09:36,  1.41s/it]"
     ]
    },
    {
     "name": "stdout",
     "output_type": "stream",
     "text": [
      "Error with file: /home/srp/Documents/LLP_DATA/2025-08-20_Higgs_Scalar/LLP_data/mass_5.01e+00_ctau_8.75e+01_br_1.00e+00_seed_253910.csv\n",
      "Error message: No columns to parse from file\n"
     ]
    },
    {
     "name": "stderr",
     "output_type": "stream",
     "text": [
      " 37%|███▋      | 306/825 [06:47<13:07,  1.52s/it]"
     ]
    },
    {
     "name": "stdout",
     "output_type": "stream",
     "text": [
      "Error with file: /home/srp/Documents/LLP_DATA/2025-08-20_Higgs_Scalar/LLP_data/mass_5.01e+00_ctau_5.52e+02_br_1.00e+00_seed_253910.csv\n",
      "Error message: No columns to parse from file\n"
     ]
    },
    {
     "name": "stderr",
     "output_type": "stream",
     "text": [
      "  8%|▊         | 68/829 [01:36<16:09,  1.27s/it]]"
     ]
    },
    {
     "name": "stdout",
     "output_type": "stream",
     "text": [
      "Error with file: /home/srp/Documents/LLP_DATA/2025-08-20_Higgs_Scalar/LLP_data/mass_5.01e+00_ctau_3.48e+03_br_1.00e+00_seed_253910.csv\n",
      "Error message: No columns to parse from file\n"
     ]
    },
    {
     "name": "stderr",
     "output_type": "stream",
     "text": [
      " 32%|███▏      | 265/826 [05:48<13:01,  1.39s/it]"
     ]
    },
    {
     "name": "stdout",
     "output_type": "stream",
     "text": [
      "Error with file: /home/srp/Documents/LLP_DATA/2025-08-20_Higgs_Scalar/LLP_data/mass_5.01e+00_ctau_8.75e-02_br_1.00e+00_seed_253910.csv\n",
      "Error message: No columns to parse from file\n"
     ]
    },
    {
     "name": "stderr",
     "output_type": "stream",
     "text": [
      "  8%|▊         | 70/829 [01:37<12:31,  1.01it/s]"
     ]
    },
    {
     "name": "stdout",
     "output_type": "stream",
     "text": [
      "Error with file: /home/srp/Documents/LLP_DATA/2025-08-20_Higgs_Scalar/LLP_data/mass_5.01e+00_ctau_1.39e+00_br_1.00e+00_seed_253910.csv\n",
      "Error message: No columns to parse from file\n"
     ]
    },
    {
     "name": "stderr",
     "output_type": "stream",
     "text": [
      " 40%|████      | 330/825 [07:18<10:47,  1.31s/it]"
     ]
    },
    {
     "name": "stdout",
     "output_type": "stream",
     "text": [
      "Error with file: /home/srp/Documents/LLP_DATA/2025-08-20_Higgs_Scalar/LLP_data/mass_5.01e+00_ctau_3.48e-05_br_1.00e+00_seed_253910.csv\n",
      "Error message: No columns to parse from file\n"
     ]
    },
    {
     "name": "stderr",
     "output_type": "stream",
     "text": [
      " 40%|████      | 333/825 [07:20<08:39,  1.06s/it]"
     ]
    },
    {
     "name": "stdout",
     "output_type": "stream",
     "text": [
      "Error with file: /home/srp/Documents/LLP_DATA/2025-08-20_Higgs_Scalar/LLP_data/mass_5.01e+00_ctau_8.75e-05_br_1.00e+00_seed_253910.csv\n",
      "Error message: No columns to parse from file\n"
     ]
    },
    {
     "name": "stderr",
     "output_type": "stream",
     "text": [
      " 54%|█████▎    | 441/821 [09:19<08:03,  1.27s/it]"
     ]
    },
    {
     "name": "stdout",
     "output_type": "stream",
     "text": [
      "Error with file: /home/srp/Documents/LLP_DATA/2025-08-20_Higgs_Scalar/LLP_data/mass_5.01e+00_ctau_1.39e+04_br_1.00e+00_seed_253910.csv\n",
      "Error message: No columns to parse from file\n"
     ]
    },
    {
     "name": "stderr",
     "output_type": "stream",
     "text": [
      " 41%|████      | 337/825 [07:24<08:24,  1.03s/it]"
     ]
    },
    {
     "name": "stdout",
     "output_type": "stream",
     "text": [
      "Error with file: /home/srp/Documents/LLP_DATA/2025-08-20_Higgs_Scalar/LLP_data/mass_5.01e+00_ctau_8.75e+00_br_1.00e+00_seed_253910.csv\n",
      "Error message: No columns to parse from file\n"
     ]
    },
    {
     "name": "stderr",
     "output_type": "stream",
     "text": [
      " 34%|███▎      | 278/826 [06:03<11:11,  1.23s/it]"
     ]
    },
    {
     "name": "stdout",
     "output_type": "stream",
     "text": [
      "Error with file: /home/srp/Documents/LLP_DATA/2025-08-20_Higgs_Scalar/LLP_data/mass_5.01e+00_ctau_1.39e+02_br_1.00e+00_seed_253910.csv\n",
      "Error message: No columns to parse from file\n"
     ]
    },
    {
     "name": "stderr",
     "output_type": "stream",
     "text": [
      " 12%|█▏        | 98/829 [02:11<15:23,  1.26s/it]]"
     ]
    },
    {
     "name": "stdout",
     "output_type": "stream",
     "text": [
      "Error with file: /home/srp/Documents/LLP_DATA/2025-08-20_Higgs_Scalar/LLP_data/mass_5.01e+00_ctau_3.48e+00_br_1.00e+00_seed_253910.csv\n",
      "Error message: No columns to parse from file\n"
     ]
    },
    {
     "name": "stderr",
     "output_type": "stream",
     "text": [
      " 36%|███▌      | 297/826 [06:27<11:48,  1.34s/it]"
     ]
    },
    {
     "name": "stdout",
     "output_type": "stream",
     "text": [
      "Error with file: /home/srp/Documents/LLP_DATA/2025-08-20_Higgs_Scalar/LLP_data/mass_5.01e+00_ctau_8.75e-03_br_1.00e+00_seed_253910.csv\n",
      "Error message: No columns to parse from file\n"
     ]
    },
    {
     "name": "stderr",
     "output_type": "stream",
     "text": [
      " 13%|█▎        | 104/829 [02:18<14:58,  1.24s/it]"
     ]
    },
    {
     "name": "stdout",
     "output_type": "stream",
     "text": [
      "Error with file: /home/srp/Documents/LLP_DATA/2025-08-20_Higgs_Scalar/LLP_data/mass_5.01e+00_ctau_5.52e-01_br_1.00e+00_seed_253910.csv\n",
      "Error message: No columns to parse from file\n"
     ]
    },
    {
     "name": "stderr",
     "output_type": "stream",
     "text": [
      " 44%|████▎     | 360/825 [07:53<10:25,  1.34s/it]"
     ]
    },
    {
     "name": "stdout",
     "output_type": "stream",
     "text": [
      "Error with file: /home/srp/Documents/LLP_DATA/2025-08-20_Higgs_Scalar/LLP_data/mass_5.01e+00_ctau_1.39e+03_br_1.00e+00_seed_253910.csv\n",
      "Error message: No columns to parse from file\n"
     ]
    },
    {
     "name": "stderr",
     "output_type": "stream",
     "text": [
      " 13%|█▎        | 110/829 [02:24<15:11,  1.27s/it]"
     ]
    },
    {
     "name": "stdout",
     "output_type": "stream",
     "text": [
      "Error with file: /home/srp/Documents/LLP_DATA/2025-08-20_Higgs_Scalar/LLP_data/mass_5.01e+00_ctau_5.52e+03_br_1.00e+00_seed_253910.csv\n",
      "Error message: No columns to parse from file\n"
     ]
    },
    {
     "name": "stderr",
     "output_type": "stream",
     "text": [
      " 37%|███▋      | 306/826 [06:37<11:31,  1.33s/it]"
     ]
    },
    {
     "name": "stdout",
     "output_type": "stream",
     "text": [
      "Error with file: /home/srp/Documents/LLP_DATA/2025-08-20_Higgs_Scalar/LLP_data/mass_5.01e+00_ctau_5.52e+02_br_1.00e+00_seed_253910.csv\n",
      "Error message: No columns to parse from file\n"
     ]
    },
    {
     "name": "stderr",
     "output_type": "stream",
     "text": [
      " 14%|█▍        | 120/829 [02:37<15:41,  1.33s/it]"
     ]
    },
    {
     "name": "stdout",
     "output_type": "stream",
     "text": [
      "Error with file: /home/srp/Documents/LLP_DATA/2025-08-20_Higgs_Scalar/LLP_data/mass_5.01e+00_ctau_5.52e+01_br_1.00e+00_seed_253910.csv\n",
      "Error message: No columns to parse from file\n"
     ]
    },
    {
     "name": "stderr",
     "output_type": "stream",
     "text": [
      " 15%|█▌        | 127/829 [02:47<18:46,  1.60s/it]"
     ]
    },
    {
     "name": "stdout",
     "output_type": "stream",
     "text": [
      "Error with file: /home/srp/Documents/LLP_DATA/2025-08-20_Higgs_Scalar/LLP_data/mass_5.01e+00_ctau_3.48e+02_br_1.00e+00_seed_253910.csv\n",
      "Error message: No columns to parse from file\n"
     ]
    },
    {
     "name": "stderr",
     "output_type": "stream",
     "text": [
      " 60%|██████    | 494/821 [10:30<08:13,  1.51s/it]"
     ]
    },
    {
     "name": "stdout",
     "output_type": "stream",
     "text": [
      "Error with file: /home/srp/Documents/LLP_DATA/2025-08-20_Higgs_Scalar/LLP_data/mass_5.01e+00_ctau_3.48e-02_br_1.00e+00_seed_253910.csv\n",
      "Error message: No columns to parse from file\n"
     ]
    },
    {
     "name": "stderr",
     "output_type": "stream",
     "text": [
      " 40%|████      | 331/826 [07:14<13:23,  1.62s/it]"
     ]
    },
    {
     "name": "stdout",
     "output_type": "stream",
     "text": [
      "Error with file: /home/srp/Documents/LLP_DATA/2025-08-20_Higgs_Scalar/LLP_data/mass_5.01e+00_ctau_3.48e-05_br_1.00e+00_seed_253910.csv\n",
      "Error message: No columns to parse from file\n"
     ]
    },
    {
     "name": "stderr",
     "output_type": "stream",
     "text": [
      " 40%|████      | 334/826 [07:18<11:52,  1.45s/it]"
     ]
    },
    {
     "name": "stdout",
     "output_type": "stream",
     "text": [
      "Error with file: /home/srp/Documents/LLP_DATA/2025-08-20_Higgs_Scalar/LLP_data/mass_5.01e+00_ctau_8.75e-05_br_1.00e+00_seed_253910.csv\n",
      "Error message: No columns to parse from file\n"
     ]
    },
    {
     "name": "stderr",
     "output_type": "stream",
     "text": [
      " 48%|████▊     | 394/825 [08:41<11:54,  1.66s/it]"
     ]
    },
    {
     "name": "stdout",
     "output_type": "stream",
     "text": [
      "Error with file: /home/srp/Documents/LLP_DATA/2025-08-20_Higgs_Scalar/LLP_data/mass_5.01e+00_ctau_1.39e-03_br_1.00e+00_seed_253910.csv\n",
      "Error message: No columns to parse from file\n"
     ]
    },
    {
     "name": "stderr",
     "output_type": "stream",
     "text": [
      " 41%|████      | 338/826 [07:22<10:15,  1.26s/it]"
     ]
    },
    {
     "name": "stdout",
     "output_type": "stream",
     "text": [
      "Error with file: /home/srp/Documents/LLP_DATA/2025-08-20_Higgs_Scalar/LLP_data/mass_5.01e+00_ctau_8.75e+00_br_1.00e+00_seed_253910.csv\n",
      "Error message: No columns to parse from file\n"
     ]
    },
    {
     "name": "stderr",
     "output_type": "stream",
     "text": [
      " 49%|████▉     | 407/825 [09:02<12:37,  1.81s/it]"
     ]
    },
    {
     "name": "stdout",
     "output_type": "stream",
     "text": [
      "Error with file: /home/srp/Documents/LLP_DATA/2025-08-20_Higgs_Scalar/LLP_data/mass_5.01e+00_ctau_2.20e+00_br_1.00e+00_seed_253910.csv\n",
      "Error message: No columns to parse from file\n"
     ]
    },
    {
     "name": "stderr",
     "output_type": "stream",
     "text": [
      " 50%|████▉     | 409/825 [09:03<09:16,  1.34s/it]"
     ]
    },
    {
     "name": "stdout",
     "output_type": "stream",
     "text": [
      "Error with file: /home/srp/Documents/LLP_DATA/2025-08-20_Higgs_Scalar/LLP_data/mass_5.01e+00_ctau_5.52e+00_br_1.00e+00_seed_253910.csv\n",
      "Error message: No columns to parse from file\n"
     ]
    },
    {
     "name": "stderr",
     "output_type": "stream",
     "text": [
      " 50%|█████     | 414/825 [09:10<09:03,  1.32s/it]"
     ]
    },
    {
     "name": "stdout",
     "output_type": "stream",
     "text": [
      "Error with file: /home/srp/Documents/LLP_DATA/2025-08-20_Higgs_Scalar/LLP_data/mass_5.01e+00_ctau_8.75e+01_br_1.00e+00_seed_253910.csv\n",
      "Error message: No columns to parse from file\n"
     ]
    },
    {
     "name": "stderr",
     "output_type": "stream",
     "text": [
      " 44%|████▎     | 361/826 [07:56<10:00,  1.29s/it]"
     ]
    },
    {
     "name": "stdout",
     "output_type": "stream",
     "text": [
      "Error with file: /home/srp/Documents/LLP_DATA/2025-08-20_Higgs_Scalar/LLP_data/mass_5.01e+00_ctau_1.39e+03_br_1.00e+00_seed_253910.csv\n",
      "Error message: No columns to parse from file\n"
     ]
    },
    {
     "name": "stderr",
     "output_type": "stream",
     "text": [
      " 66%|██████▋   | 545/821 [11:41<06:10,  1.34s/it]"
     ]
    },
    {
     "name": "stdout",
     "output_type": "stream",
     "text": [
      "Error with file: /home/srp/Documents/LLP_DATA/2025-08-20_Higgs_Scalar/LLP_data/mass_5.01e+00_ctau_8.75e-01_br_1.00e+00_seed_253910.csv\n",
      "Error message: No columns to parse from file\n"
     ]
    },
    {
     "name": "stderr",
     "output_type": "stream",
     "text": [
      " 54%|█████▍    | 444/825 [09:47<08:13,  1.30s/it]"
     ]
    },
    {
     "name": "stdout",
     "output_type": "stream",
     "text": [
      "Error with file: /home/srp/Documents/LLP_DATA/2025-08-20_Higgs_Scalar/LLP_data/mass_5.01e+00_ctau_1.39e+04_br_1.00e+00_seed_253910.csv\n",
      "Error message: No columns to parse from file\n"
     ]
    },
    {
     "name": "stderr",
     "output_type": "stream",
     "text": [
      " 24%|██▍       | 197/829 [04:26<13:57,  1.32s/it]"
     ]
    },
    {
     "name": "stdout",
     "output_type": "stream",
     "text": [
      "Error with file: /home/srp/Documents/LLP_DATA/2025-08-20_Higgs_Scalar/LLP_data/mass_5.01e+00_ctau_3.48e+01_br_1.00e+00_seed_253910.csv\n",
      "Error message: No columns to parse from file\n"
     ]
    },
    {
     "name": "stderr",
     "output_type": "stream",
     "text": [
      " 48%|████▊     | 395/826 [08:39<09:10,  1.28s/it]"
     ]
    },
    {
     "name": "stdout",
     "output_type": "stream",
     "text": [
      "Error with file: /home/srp/Documents/LLP_DATA/2025-08-20_Higgs_Scalar/LLP_data/mass_5.01e+00_ctau_1.39e-03_br_1.00e+00_seed_253910.csv\n",
      "Error message: No columns to parse from file\n"
     ]
    },
    {
     "name": "stderr",
     "output_type": "stream",
     "text": [
      " 24%|██▍       | 202/829 [04:31<12:33,  1.20s/it]"
     ]
    },
    {
     "name": "stdout",
     "output_type": "stream",
     "text": [
      "Error with file: /home/srp/Documents/LLP_DATA/2025-08-20_Higgs_Scalar/LLP_data/mass_5.01e+00_ctau_2.20e+02_br_1.00e+00_seed_253910.csv\n",
      "Error message: No columns to parse from file\n"
     ]
    },
    {
     "name": "stderr",
     "output_type": "stream",
     "text": [
      " 68%|██████▊   | 562/821 [12:02<05:40,  1.31s/it]"
     ]
    },
    {
     "name": "stdout",
     "output_type": "stream",
     "text": [
      "Error with file: /home/srp/Documents/LLP_DATA/2025-08-20_Higgs_Scalar/LLP_data/mass_5.01e+00_ctau_8.75e-04_br_1.00e+00_seed_253910.csv\n",
      "Error message: No columns to parse from file\n"
     ]
    },
    {
     "name": "stderr",
     "output_type": "stream",
     "text": [
      " 49%|████▉     | 408/826 [08:54<09:11,  1.32s/it]"
     ]
    },
    {
     "name": "stdout",
     "output_type": "stream",
     "text": [
      "Error with file: /home/srp/Documents/LLP_DATA/2025-08-20_Higgs_Scalar/LLP_data/mass_5.01e+00_ctau_2.20e+00_br_1.00e+00_seed_253910.csv\n",
      "Error message: No columns to parse from file\n"
     ]
    },
    {
     "name": "stderr",
     "output_type": "stream",
     "text": [
      " 50%|████▉     | 410/826 [08:55<07:00,  1.01s/it]"
     ]
    },
    {
     "name": "stdout",
     "output_type": "stream",
     "text": [
      "Error with file: /home/srp/Documents/LLP_DATA/2025-08-20_Higgs_Scalar/LLP_data/mass_5.01e+00_ctau_5.52e+00_br_1.00e+00_seed_253910.csv\n",
      "Error message: No columns to parse from file\n"
     ]
    },
    {
     "name": "stderr",
     "output_type": "stream",
     "text": [
      " 50%|█████     | 415/826 [09:01<08:00,  1.17s/it]"
     ]
    },
    {
     "name": "stdout",
     "output_type": "stream",
     "text": [
      "Error with file: /home/srp/Documents/LLP_DATA/2025-08-20_Higgs_Scalar/LLP_data/mass_5.01e+00_ctau_8.75e+01_br_1.00e+00_seed_253910.csv\n",
      "Error message: No columns to parse from file\n"
     ]
    },
    {
     "name": "stderr",
     "output_type": "stream",
     "text": [
      " 72%|███████▏  | 592/821 [12:44<06:23,  1.68s/it]"
     ]
    },
    {
     "name": "stdout",
     "output_type": "stream",
     "text": [
      "Error with file: /home/srp/Documents/LLP_DATA/2025-08-20_Higgs_Scalar/LLP_data/mass_5.01e+00_ctau_2.20e-02_br_1.00e+00_seed_253910.csv\n",
      "Error message: No columns to parse from file\n"
     ]
    },
    {
     "name": "stderr",
     "output_type": "stream",
     "text": [
      " 72%|███████▏  | 595/821 [12:47<05:04,  1.35s/it]"
     ]
    },
    {
     "name": "stdout",
     "output_type": "stream",
     "text": [
      "Error with file: /home/srp/Documents/LLP_DATA/2025-08-20_Higgs_Scalar/LLP_data/mass_5.01e+00_ctau_2.20e-03_br_1.00e+00_seed_253910.csv\n",
      "Error message: No columns to parse from file\n"
     ]
    },
    {
     "name": "stderr",
     "output_type": "stream",
     "text": [
      " 73%|███████▎  | 598/821 [12:50<04:01,  1.08s/it]"
     ]
    },
    {
     "name": "stdout",
     "output_type": "stream",
     "text": [
      "Error with file: /home/srp/Documents/LLP_DATA/2025-08-20_Higgs_Scalar/LLP_data/mass_5.01e+00_ctau_1.39e-02_br_1.00e+00_seed_253910.csv\n",
      "Error message: No columns to parse from file\n"
     ]
    },
    {
     "name": "stderr",
     "output_type": "stream",
     "text": [
      " 73%|███████▎  | 602/821 [12:54<04:20,  1.19s/it]"
     ]
    },
    {
     "name": "stdout",
     "output_type": "stream",
     "text": [
      "Error with file: /home/srp/Documents/LLP_DATA/2025-08-20_Higgs_Scalar/LLP_data/mass_5.01e+00_ctau_5.52e-02_br_1.00e+00_seed_253910.csv\n",
      "Error message: No columns to parse from file\n"
     ]
    },
    {
     "name": "stderr",
     "output_type": "stream",
     "text": [
      " 60%|██████    | 497/825 [11:05<10:18,  1.89s/it]"
     ]
    },
    {
     "name": "stdout",
     "output_type": "stream",
     "text": [
      "Error with file: /home/srp/Documents/LLP_DATA/2025-08-20_Higgs_Scalar/LLP_data/mass_5.01e+00_ctau_3.48e-02_br_1.00e+00_seed_253910.csv\n",
      "Error message: No columns to parse from file\n"
     ]
    },
    {
     "name": "stderr",
     "output_type": "stream",
     "text": [
      " 54%|█████▍    | 445/826 [09:51<09:35,  1.51s/it]"
     ]
    },
    {
     "name": "stdout",
     "output_type": "stream",
     "text": [
      "Error with file: /home/srp/Documents/LLP_DATA/2025-08-20_Higgs_Scalar/LLP_data/mass_5.01e+00_ctau_1.39e+04_br_1.00e+00_seed_253910.csv\n",
      "Error message: No columns to parse from file\n"
     ]
    },
    {
     "name": "stderr",
     "output_type": "stream",
     "text": [
      " 76%|███████▌  | 625/821 [13:29<05:07,  1.57s/it]"
     ]
    },
    {
     "name": "stdout",
     "output_type": "stream",
     "text": [
      "Error with file: /home/srp/Documents/LLP_DATA/2025-08-20_Higgs_Scalar/LLP_data/mass_5.01e+00_ctau_3.48e-03_br_1.00e+00_seed_253910.csv\n",
      "Error message: No columns to parse from file\n"
     ]
    },
    {
     "name": "stderr",
     "output_type": "stream",
     "text": [
      " 32%|███▏      | 266/829 [06:11<13:56,  1.49s/it]"
     ]
    },
    {
     "name": "stdout",
     "output_type": "stream",
     "text": [
      "Error with file: /home/srp/Documents/LLP_DATA/2025-08-20_Higgs_Scalar/LLP_data/mass_5.01e+00_ctau_8.75e-02_br_1.00e+00_seed_253910.csv\n",
      "Error message: No columns to parse from file\n"
     ]
    },
    {
     "name": "stderr",
     "output_type": "stream",
     "text": [
      " 78%|███████▊  | 637/821 [13:44<03:58,  1.30s/it]"
     ]
    },
    {
     "name": "stdout",
     "output_type": "stream",
     "text": [
      "Error with file: /home/srp/Documents/LLP_DATA/2025-08-20_Higgs_Scalar/LLP_data/mass_5.01e+00_ctau_2.20e+03_br_1.00e+00_seed_253910.csv\n",
      "Error message: No columns to parse from file\n"
     ]
    },
    {
     "name": "stderr",
     "output_type": "stream",
     "text": [
      " 34%|███▎      | 279/829 [06:27<11:35,  1.27s/it]"
     ]
    },
    {
     "name": "stdout",
     "output_type": "stream",
     "text": [
      "Error with file: /home/srp/Documents/LLP_DATA/2025-08-20_Higgs_Scalar/LLP_data/mass_5.01e+00_ctau_1.39e+02_br_1.00e+00_seed_253910.csv\n",
      "Error message: No columns to parse from file\n"
     ]
    },
    {
     "name": "stderr",
     "output_type": "stream",
     "text": [
      " 66%|██████▋   | 548/825 [12:19<06:04,  1.31s/it]"
     ]
    },
    {
     "name": "stdout",
     "output_type": "stream",
     "text": [
      "Error with file: /home/srp/Documents/LLP_DATA/2025-08-20_Higgs_Scalar/LLP_data/mass_5.01e+00_ctau_8.75e-01_br_1.00e+00_seed_253910.csv\n",
      "Error message: No columns to parse from file\n"
     ]
    },
    {
     "name": "stderr",
     "output_type": "stream",
     "text": [
      " 81%|████████  | 664/821 [14:17<03:14,  1.24s/it]"
     ]
    },
    {
     "name": "stdout",
     "output_type": "stream",
     "text": [
      "Error with file: /home/srp/Documents/LLP_DATA/2025-08-20_Higgs_Scalar/LLP_data/mass_5.01e+00_ctau_2.20e-01_br_1.00e+00_seed_253910.csv\n",
      "Error message: No columns to parse from file\n"
     ]
    },
    {
     "name": "stderr",
     "output_type": "stream",
     "text": [
      " 81%|████████  | 667/821 [14:20<02:38,  1.03s/it]"
     ]
    },
    {
     "name": "stdout",
     "output_type": "stream",
     "text": [
      "Error with file: /home/srp/Documents/LLP_DATA/2025-08-20_Higgs_Scalar/LLP_data/mass_5.01e+00_ctau_2.20e+01_br_1.00e+00_seed_253910.csv\n",
      "Error message: No columns to parse from file\n"
     ]
    },
    {
     "name": "stderr",
     "output_type": "stream",
     "text": [
      " 36%|███▌      | 298/829 [06:50<11:52,  1.34s/it]"
     ]
    },
    {
     "name": "stdout",
     "output_type": "stream",
     "text": [
      "Error with file: /home/srp/Documents/LLP_DATA/2025-08-20_Higgs_Scalar/LLP_data/mass_5.01e+00_ctau_8.75e-03_br_1.00e+00_seed_253910.csv\n",
      "Error message: No columns to parse from file\n"
     ]
    },
    {
     "name": "stderr",
     "output_type": "stream",
     "text": [
      " 60%|██████    | 498/826 [11:04<07:00,  1.28s/it]"
     ]
    },
    {
     "name": "stdout",
     "output_type": "stream",
     "text": [
      "Error with file: /home/srp/Documents/LLP_DATA/2025-08-20_Higgs_Scalar/LLP_data/mass_5.01e+00_ctau_3.48e-02_br_1.00e+00_seed_253910.csv\n",
      "Error message: No columns to parse from file\n"
     ]
    },
    {
     "name": "stderr",
     "output_type": "stream",
     "text": [
      " 37%|███▋      | 307/829 [07:00<10:29,  1.21s/it]"
     ]
    },
    {
     "name": "stdout",
     "output_type": "stream",
     "text": [
      "Error with file: /home/srp/Documents/LLP_DATA/2025-08-20_Higgs_Scalar/LLP_data/mass_5.01e+00_ctau_5.52e+02_br_1.00e+00_seed_253910.csv\n",
      "Error message: No columns to parse from file\n"
     ]
    },
    {
     "name": "stderr",
     "output_type": "stream",
     "text": [
      " 68%|██████▊   | 565/825 [12:40<05:51,  1.35s/it]"
     ]
    },
    {
     "name": "stdout",
     "output_type": "stream",
     "text": [
      "Error with file: /home/srp/Documents/LLP_DATA/2025-08-20_Higgs_Scalar/LLP_data/mass_5.01e+00_ctau_8.75e-04_br_1.00e+00_seed_253910.csv\n",
      "Error message: No columns to parse from file\n"
     ]
    },
    {
     "name": "stderr",
     "output_type": "stream",
     "text": [
      " 84%|████████▍ | 690/821 [14:47<02:43,  1.25s/it]"
     ]
    },
    {
     "name": "stdout",
     "output_type": "stream",
     "text": [
      "Error with file: /home/srp/Documents/LLP_DATA/2025-08-20_Higgs_Scalar/LLP_data/mass_5.01e+00_ctau_5.52e-04_br_1.00e+00_seed_253910.csv\n",
      "Error message: No columns to parse from file\n"
     ]
    },
    {
     "name": "stderr",
     "output_type": "stream",
     "text": [
      " 40%|████      | 332/829 [07:33<12:26,  1.50s/it]"
     ]
    },
    {
     "name": "stdout",
     "output_type": "stream",
     "text": [
      "Error with file: /home/srp/Documents/LLP_DATA/2025-08-20_Higgs_Scalar/LLP_data/mass_5.01e+00_ctau_3.48e-05_br_1.00e+00_seed_253910.csv\n",
      "Error message: No columns to parse from file\n"
     ]
    },
    {
     "name": "stderr",
     "output_type": "stream",
     "text": [
      " 40%|████      | 335/829 [07:36<11:18,  1.37s/it]"
     ]
    },
    {
     "name": "stdout",
     "output_type": "stream",
     "text": [
      "Error with file: /home/srp/Documents/LLP_DATA/2025-08-20_Higgs_Scalar/LLP_data/mass_5.01e+00_ctau_8.75e-05_br_1.00e+00_seed_253910.csv\n",
      "Error message: No columns to parse from file\n"
     ]
    },
    {
     "name": "stderr",
     "output_type": "stream",
     "text": [
      " 41%|████      | 339/829 [07:41<10:27,  1.28s/it]"
     ]
    },
    {
     "name": "stdout",
     "output_type": "stream",
     "text": [
      "Error with file: /home/srp/Documents/LLP_DATA/2025-08-20_Higgs_Scalar/LLP_data/mass_5.01e+00_ctau_8.75e+00_br_1.00e+00_seed_253910.csv\n",
      "Error message: No columns to parse from file\n"
     ]
    },
    {
     "name": "stderr",
     "output_type": "stream",
     "text": [
      " 87%|████████▋ | 712/821 [15:19<02:50,  1.57s/it]"
     ]
    },
    {
     "name": "stdout",
     "output_type": "stream",
     "text": [
      "Error with file: /home/srp/Documents/LLP_DATA/2025-08-20_Higgs_Scalar/LLP_data/mass_5.01e+00_ctau_3.48e-01_br_1.00e+00_seed_253910.csv\n",
      "Error message: No columns to parse from file\n"
     ]
    },
    {
     "name": "stderr",
     "output_type": "stream",
     "text": [
      " 72%|███████▏  | 595/825 [13:23<06:09,  1.61s/it]"
     ]
    },
    {
     "name": "stdout",
     "output_type": "stream",
     "text": [
      "Error with file: /home/srp/Documents/LLP_DATA/2025-08-20_Higgs_Scalar/LLP_data/mass_5.01e+00_ctau_2.20e-02_br_1.00e+00_seed_253910.csv\n",
      "Error message: No columns to parse from file\n"
     ]
    },
    {
     "name": "stderr",
     "output_type": "stream",
     "text": [
      " 72%|███████▏  | 598/825 [13:27<05:00,  1.32s/it]"
     ]
    },
    {
     "name": "stdout",
     "output_type": "stream",
     "text": [
      "Error with file: /home/srp/Documents/LLP_DATA/2025-08-20_Higgs_Scalar/LLP_data/mass_5.01e+00_ctau_2.20e-03_br_1.00e+00_seed_253910.csv\n",
      "Error message: No columns to parse from file\n"
     ]
    },
    {
     "name": "stderr",
     "output_type": "stream",
     "text": [
      " 87%|████████▋ | 716/821 [15:24<02:31,  1.44s/it]"
     ]
    },
    {
     "name": "stdout",
     "output_type": "stream",
     "text": [
      "Error with file: /home/srp/Documents/LLP_DATA/2025-08-20_Higgs_Scalar/LLP_data/mass_5.01e+00_ctau_8.75e+02_br_1.00e+00_seed_253910.csv\n",
      "Error message: No columns to parse from file\n"
     ]
    },
    {
     "name": "stderr",
     "output_type": "stream",
     "text": [
      " 73%|███████▎  | 601/825 [13:30<04:32,  1.22s/it]"
     ]
    },
    {
     "name": "stdout",
     "output_type": "stream",
     "text": [
      "Error with file: /home/srp/Documents/LLP_DATA/2025-08-20_Higgs_Scalar/LLP_data/mass_5.01e+00_ctau_1.39e-02_br_1.00e+00_seed_253910.csv\n",
      "Error message: No columns to parse from file\n"
     ]
    },
    {
     "name": "stderr",
     "output_type": "stream",
     "text": [
      " 73%|███████▎  | 605/825 [13:35<04:54,  1.34s/it]"
     ]
    },
    {
     "name": "stdout",
     "output_type": "stream",
     "text": [
      "Error with file: /home/srp/Documents/LLP_DATA/2025-08-20_Higgs_Scalar/LLP_data/mass_5.01e+00_ctau_5.52e-02_br_1.00e+00_seed_253910.csv\n",
      "Error message: No columns to parse from file\n"
     ]
    },
    {
     "name": "stderr",
     "output_type": "stream",
     "text": [
      " 66%|██████▋   | 549/826 [12:20<08:35,  1.86s/it]"
     ]
    },
    {
     "name": "stdout",
     "output_type": "stream",
     "text": [
      "Error with file: /home/srp/Documents/LLP_DATA/2025-08-20_Higgs_Scalar/LLP_data/mass_5.01e+00_ctau_8.75e-01_br_1.00e+00_seed_253910.csv\n",
      "Error message: No columns to parse from file\n"
     ]
    },
    {
     "name": "stderr",
     "output_type": "stream",
     "text": [
      " 44%|████▎     | 362/829 [08:17<13:27,  1.73s/it]"
     ]
    },
    {
     "name": "stdout",
     "output_type": "stream",
     "text": [
      "Error with file: /home/srp/Documents/LLP_DATA/2025-08-20_Higgs_Scalar/LLP_data/mass_5.01e+00_ctau_1.39e+03_br_1.00e+00_seed_253910.csv\n",
      "Error message: No columns to parse from file\n"
     ]
    },
    {
     "name": "stderr",
     "output_type": "stream",
     "text": [
      " 90%|█████████ | 740/821 [16:04<02:46,  2.05s/it]"
     ]
    },
    {
     "name": "stdout",
     "output_type": "stream",
     "text": [
      "Error with file: /home/srp/Documents/LLP_DATA/2025-08-20_Higgs_Scalar/LLP_data/mass_5.01e+00_ctau_1.39e-04_br_1.00e+00_seed_253910.csv\n",
      "Error message: No columns to parse from file\n"
     ]
    },
    {
     "name": "stderr",
     "output_type": "stream",
     "text": [
      " 69%|██████▊   | 566/826 [12:49<09:52,  2.28s/it]"
     ]
    },
    {
     "name": "stdout",
     "output_type": "stream",
     "text": [
      "Error with file: /home/srp/Documents/LLP_DATA/2025-08-20_Higgs_Scalar/LLP_data/mass_5.01e+00_ctau_8.75e-04_br_1.00e+00_seed_253910.csv\n",
      "Error message: No columns to parse from file\n"
     ]
    },
    {
     "name": "stderr",
     "output_type": "stream",
     "text": [
      " 76%|███████▌  | 628/825 [14:14<05:13,  1.59s/it]"
     ]
    },
    {
     "name": "stdout",
     "output_type": "stream",
     "text": [
      "Error with file: /home/srp/Documents/LLP_DATA/2025-08-20_Higgs_Scalar/LLP_data/mass_5.01e+00_ctau_3.48e-03_br_1.00e+00_seed_253910.csv\n",
      "Error message: No columns to parse from file\n"
     ]
    },
    {
     "name": "stderr",
     "output_type": "stream",
     "text": [
      " 91%|█████████ | 749/821 [16:15<01:33,  1.30s/it]"
     ]
    },
    {
     "name": "stdout",
     "output_type": "stream",
     "text": [
      "Error with file: /home/srp/Documents/LLP_DATA/2025-08-20_Higgs_Scalar/LLP_data/mass_5.01e+00_ctau_3.48e-04_br_1.00e+00_seed_253910.csv\n",
      "Error message: No columns to parse from file\n"
     ]
    },
    {
     "name": "stderr",
     "output_type": "stream",
     "text": [
      " 92%|█████████▏| 753/821 [16:18<01:17,  1.14s/it]"
     ]
    },
    {
     "name": "stdout",
     "output_type": "stream",
     "text": [
      "Error with file: /home/srp/Documents/LLP_DATA/2025-08-20_Higgs_Scalar/LLP_data/mass_5.01e+00_ctau_1.39e+01_br_1.00e+00_seed_253910.csv\n",
      "Error message: No columns to parse from file\n",
      "Error with file: /home/srp/Documents/LLP_DATA/2025-08-20_Higgs_Scalar/LLP_data/mass_5.01e+00_ctau_5.52e-05_br_1.00e+00_seed_253910.csv\n",
      "Error message: No columns to parse from file\n"
     ]
    },
    {
     "name": "stderr",
     "output_type": "stream",
     "text": [
      " 78%|███████▊  | 640/825 [14:28<03:58,  1.29s/it]"
     ]
    },
    {
     "name": "stdout",
     "output_type": "stream",
     "text": [
      "Error with file: /home/srp/Documents/LLP_DATA/2025-08-20_Higgs_Scalar/LLP_data/mass_5.01e+00_ctau_2.20e+03_br_1.00e+00_seed_253910.csv\n",
      "Error message: No columns to parse from file\n"
     ]
    },
    {
     "name": "stderr",
     "output_type": "stream",
     "text": [
      " 93%|█████████▎| 763/821 [16:27<01:04,  1.12s/it]"
     ]
    },
    {
     "name": "stdout",
     "output_type": "stream",
     "text": [
      "Error with file: /home/srp/Documents/LLP_DATA/2025-08-20_Higgs_Scalar/LLP_data/mass_5.01e+00_ctau_1.39e-01_br_1.00e+00_seed_253910.csv\n",
      "Error message: No columns to parse from file\n"
     ]
    },
    {
     "name": "stderr",
     "output_type": "stream",
     "text": [
      " 48%|████▊     | 396/829 [09:05<08:55,  1.24s/it]"
     ]
    },
    {
     "name": "stdout",
     "output_type": "stream",
     "text": [
      "Error with file: /home/srp/Documents/LLP_DATA/2025-08-20_Higgs_Scalar/LLP_data/mass_5.01e+00_ctau_1.39e-03_br_1.00e+00_seed_253910.csv\n",
      "Error message: No columns to parse from file\n"
     ]
    },
    {
     "name": "stderr",
     "output_type": "stream",
     "text": [
      " 94%|█████████▍| 775/821 [16:41<00:57,  1.26s/it]"
     ]
    },
    {
     "name": "stdout",
     "output_type": "stream",
     "text": [
      "Error with file: /home/srp/Documents/LLP_DATA/2025-08-20_Higgs_Scalar/LLP_data/mass_5.01e+00_ctau_8.75e+03_br_1.00e+00_seed_253910.csv\n",
      "Error message: No columns to parse from file\n"
     ]
    },
    {
     "name": "stderr",
     "output_type": "stream",
     "text": [
      " 72%|███████▏  | 596/826 [13:26<04:53,  1.28s/it]"
     ]
    },
    {
     "name": "stdout",
     "output_type": "stream",
     "text": [
      "Error with file: /home/srp/Documents/LLP_DATA/2025-08-20_Higgs_Scalar/LLP_data/mass_5.01e+00_ctau_2.20e-02_br_1.00e+00_seed_253910.csv\n",
      "Error message: No columns to parse from file\n"
     ]
    },
    {
     "name": "stderr",
     "output_type": "stream",
     "text": [
      " 73%|███████▎  | 599/826 [13:29<04:07,  1.09s/it]"
     ]
    },
    {
     "name": "stdout",
     "output_type": "stream",
     "text": [
      "Error with file: /home/srp/Documents/LLP_DATA/2025-08-20_Higgs_Scalar/LLP_data/mass_5.01e+00_ctau_2.20e-03_br_1.00e+00_seed_253910.csv\n",
      "Error message: No columns to parse from file\n"
     ]
    },
    {
     "name": "stderr",
     "output_type": "stream",
     "text": [
      " 73%|███████▎  | 602/826 [13:32<03:45,  1.01s/it]"
     ]
    },
    {
     "name": "stdout",
     "output_type": "stream",
     "text": [
      "Error with file: /home/srp/Documents/LLP_DATA/2025-08-20_Higgs_Scalar/LLP_data/mass_5.01e+00_ctau_1.39e-02_br_1.00e+00_seed_253910.csv\n",
      "Error message: No columns to parse from file\n"
     ]
    },
    {
     "name": "stderr",
     "output_type": "stream",
     "text": [
      " 49%|████▉     | 409/829 [09:21<09:29,  1.36s/it]"
     ]
    },
    {
     "name": "stdout",
     "output_type": "stream",
     "text": [
      "Error with file: /home/srp/Documents/LLP_DATA/2025-08-20_Higgs_Scalar/LLP_data/mass_5.01e+00_ctau_2.20e+00_br_1.00e+00_seed_253910.csv\n",
      "Error message: No columns to parse from file\n"
     ]
    },
    {
     "name": "stderr",
     "output_type": "stream",
     "text": [
      " 50%|████▉     | 411/829 [09:22<07:18,  1.05s/it]"
     ]
    },
    {
     "name": "stdout",
     "output_type": "stream",
     "text": [
      "Error with file: /home/srp/Documents/LLP_DATA/2025-08-20_Higgs_Scalar/LLP_data/mass_5.01e+00_ctau_5.52e+00_br_1.00e+00_seed_253910.csv\n",
      "Error message: No columns to parse from file\n"
     ]
    },
    {
     "name": "stderr",
     "output_type": "stream",
     "text": [
      " 73%|███████▎  | 606/826 [13:36<04:10,  1.14s/it]"
     ]
    },
    {
     "name": "stdout",
     "output_type": "stream",
     "text": [
      "Error with file: /home/srp/Documents/LLP_DATA/2025-08-20_Higgs_Scalar/LLP_data/mass_5.01e+00_ctau_5.52e-02_br_1.00e+00_seed_253910.csv\n",
      "Error message: No columns to parse from file\n"
     ]
    },
    {
     "name": "stderr",
     "output_type": "stream",
     "text": [
      " 81%|████████  | 667/825 [15:01<03:35,  1.36s/it]"
     ]
    },
    {
     "name": "stdout",
     "output_type": "stream",
     "text": [
      "Error with file: /home/srp/Documents/LLP_DATA/2025-08-20_Higgs_Scalar/LLP_data/mass_5.01e+00_ctau_2.20e-01_br_1.00e+00_seed_253910.csv\n",
      "Error message: No columns to parse from file\n"
     ]
    },
    {
     "name": "stderr",
     "output_type": "stream",
     "text": [
      " 50%|█████     | 416/829 [09:28<07:46,  1.13s/it]"
     ]
    },
    {
     "name": "stdout",
     "output_type": "stream",
     "text": [
      "Error with file: /home/srp/Documents/LLP_DATA/2025-08-20_Higgs_Scalar/LLP_data/mass_5.01e+00_ctau_8.75e+01_br_1.00e+00_seed_253910.csv\n",
      "Error message: No columns to parse from file\n"
     ]
    },
    {
     "name": "stderr",
     "output_type": "stream",
     "text": [
      " 81%|████████  | 670/825 [15:04<02:46,  1.08s/it]"
     ]
    },
    {
     "name": "stdout",
     "output_type": "stream",
     "text": [
      "Error with file: /home/srp/Documents/LLP_DATA/2025-08-20_Higgs_Scalar/LLP_data/mass_5.01e+00_ctau_2.20e+01_br_1.00e+00_seed_253910.csv\n",
      "Error message: No columns to parse from file\n"
     ]
    },
    {
     "name": "stderr",
     "output_type": "stream",
     "text": [
      " 96%|█████████▋| 791/821 [17:01<00:39,  1.32s/it]"
     ]
    },
    {
     "name": "stdout",
     "output_type": "stream",
     "text": [
      "Error with file: /home/srp/Documents/LLP_DATA/2025-08-20_Higgs_Scalar/LLP_data/mass_5.01e+00_ctau_2.20e-05_br_1.00e+00_seed_253910.csv\n",
      "Error message: No columns to parse from file\n"
     ]
    },
    {
     "name": "stderr",
     "output_type": "stream",
     "text": [
      " 76%|███████▌  | 629/826 [14:05<04:12,  1.28s/it]"
     ]
    },
    {
     "name": "stdout",
     "output_type": "stream",
     "text": [
      "Error with file: /home/srp/Documents/LLP_DATA/2025-08-20_Higgs_Scalar/LLP_data/mass_5.01e+00_ctau_3.48e-03_br_1.00e+00_seed_253910.csv\n",
      "Error message: No columns to parse from file\n"
     ]
    },
    {
     "name": "stderr",
     "output_type": "stream",
     "text": [
      " 84%|████████▍ | 693/825 [15:32<02:49,  1.28s/it]"
     ]
    },
    {
     "name": "stdout",
     "output_type": "stream",
     "text": [
      "Error with file: /home/srp/Documents/LLP_DATA/2025-08-20_Higgs_Scalar/LLP_data/mass_5.01e+00_ctau_5.52e-04_br_1.00e+00_seed_253910.csv\n",
      "Error message: No columns to parse from file\n"
     ]
    },
    {
     "name": "stderr",
     "output_type": "stream",
     "text": [
      " 54%|█████▍    | 446/829 [10:05<08:11,  1.28s/it]"
     ]
    },
    {
     "name": "stdout",
     "output_type": "stream",
     "text": [
      "Error with file: /home/srp/Documents/LLP_DATA/2025-08-20_Higgs_Scalar/LLP_data/mass_5.01e+00_ctau_1.39e+04_br_1.00e+00_seed_253910.csv\n",
      "Error message: No columns to parse from file\n"
     ]
    },
    {
     "name": "stderr",
     "output_type": "stream",
     "text": [
      " 78%|███████▊  | 641/826 [14:19<03:58,  1.29s/it]"
     ]
    },
    {
     "name": "stdout",
     "output_type": "stream",
     "text": [
      "Error with file: /home/srp/Documents/LLP_DATA/2025-08-20_Higgs_Scalar/LLP_data/mass_5.01e+00_ctau_2.20e+03_br_1.00e+00_seed_253910.csv\n",
      "Error message: No columns to parse from file\n"
     ]
    },
    {
     "name": "stderr",
     "output_type": "stream",
     "text": [
      "100%|██████████| 821/821 [17:38<00:00,  1.29s/it]\n"
     ]
    },
    {
     "name": "stdout",
     "output_type": "stream",
     "text": [
      "The LLPs are Judged whether they are Detected or not, and calculated the cross section\n"
     ]
    },
    {
     "name": "stderr",
     "output_type": "stream",
     "text": [
      " 87%|████████▋ | 715/825 [16:03<02:51,  1.56s/it]"
     ]
    },
    {
     "name": "stdout",
     "output_type": "stream",
     "text": [
      "Error with file: /home/srp/Documents/LLP_DATA/2025-08-20_Higgs_Scalar/LLP_data/mass_5.01e+00_ctau_3.48e-01_br_1.00e+00_seed_253910.csv\n",
      "Error message: No columns to parse from file\n"
     ]
    },
    {
     "name": "stderr",
     "output_type": "stream",
     "text": [
      " 87%|████████▋ | 719/825 [16:09<02:50,  1.61s/it]"
     ]
    },
    {
     "name": "stdout",
     "output_type": "stream",
     "text": [
      "Error with file: /home/srp/Documents/LLP_DATA/2025-08-20_Higgs_Scalar/LLP_data/mass_5.01e+00_ctau_8.75e+02_br_1.00e+00_seed_253910.csv\n",
      "Error message: No columns to parse from file\n"
     ]
    },
    {
     "name": "stderr",
     "output_type": "stream",
     "text": [
      " 81%|████████  | 668/826 [15:03<04:20,  1.65s/it]"
     ]
    },
    {
     "name": "stdout",
     "output_type": "stream",
     "text": [
      "Error with file: /home/srp/Documents/LLP_DATA/2025-08-20_Higgs_Scalar/LLP_data/mass_5.01e+00_ctau_2.20e-01_br_1.00e+00_seed_253910.csv\n",
      "Error message: No columns to parse from file\n"
     ]
    },
    {
     "name": "stderr",
     "output_type": "stream",
     "text": [
      " 81%|████████  | 671/826 [15:06<03:22,  1.31s/it]"
     ]
    },
    {
     "name": "stdout",
     "output_type": "stream",
     "text": [
      "Error with file: /home/srp/Documents/LLP_DATA/2025-08-20_Higgs_Scalar/LLP_data/mass_5.01e+00_ctau_2.20e+01_br_1.00e+00_seed_253910.csv\n",
      "Error message: No columns to parse from file\n"
     ]
    },
    {
     "name": "stderr",
     "output_type": "stream",
     "text": [
      " 90%|█████████ | 743/825 [16:47<02:09,  1.57s/it]"
     ]
    },
    {
     "name": "stdout",
     "output_type": "stream",
     "text": [
      "Error with file: /home/srp/Documents/LLP_DATA/2025-08-20_Higgs_Scalar/LLP_data/mass_5.01e+00_ctau_1.39e-04_br_1.00e+00_seed_253910.csv\n",
      "Error message: No columns to parse from file\n"
     ]
    },
    {
     "name": "stderr",
     "output_type": "stream",
     "text": [
      " 91%|█████████ | 752/825 [17:01<02:10,  1.79s/it]"
     ]
    },
    {
     "name": "stdout",
     "output_type": "stream",
     "text": [
      "Error with file: /home/srp/Documents/LLP_DATA/2025-08-20_Higgs_Scalar/LLP_data/mass_5.01e+00_ctau_3.48e-04_br_1.00e+00_seed_253910.csv\n",
      "Error message: No columns to parse from file\n"
     ]
    },
    {
     "name": "stderr",
     "output_type": "stream",
     "text": [
      " 92%|█████████▏| 756/825 [17:06<01:48,  1.57s/it]"
     ]
    },
    {
     "name": "stdout",
     "output_type": "stream",
     "text": [
      "Error with file: /home/srp/Documents/LLP_DATA/2025-08-20_Higgs_Scalar/LLP_data/mass_5.01e+00_ctau_1.39e+01_br_1.00e+00_seed_253910.csv\n",
      "Error message: No columns to parse from file\n",
      "Error with file: /home/srp/Documents/LLP_DATA/2025-08-20_Higgs_Scalar/LLP_data/mass_5.01e+00_ctau_5.52e-05_br_1.00e+00_seed_253910.csv\n",
      "Error message: No columns to parse from file\n"
     ]
    },
    {
     "name": "stderr",
     "output_type": "stream",
     "text": [
      " 60%|██████    | 499/829 [11:32<10:23,  1.89s/it]"
     ]
    },
    {
     "name": "stdout",
     "output_type": "stream",
     "text": [
      "Error with file: /home/srp/Documents/LLP_DATA/2025-08-20_Higgs_Scalar/LLP_data/mass_5.01e+00_ctau_3.48e-02_br_1.00e+00_seed_253910.csv\n",
      "Error message: No columns to parse from file\n"
     ]
    },
    {
     "name": "stderr",
     "output_type": "stream",
     "text": [
      " 84%|████████▍ | 694/826 [15:44<04:04,  1.85s/it]"
     ]
    },
    {
     "name": "stdout",
     "output_type": "stream",
     "text": [
      "Error with file: /home/srp/Documents/LLP_DATA/2025-08-20_Higgs_Scalar/LLP_data/mass_5.01e+00_ctau_5.52e-04_br_1.00e+00_seed_253910.csv\n",
      "Error message: No columns to parse from file\n"
     ]
    },
    {
     "name": "stderr",
     "output_type": "stream",
     "text": [
      " 93%|█████████▎| 766/825 [17:18<01:28,  1.50s/it]"
     ]
    },
    {
     "name": "stdout",
     "output_type": "stream",
     "text": [
      "Error with file: /home/srp/Documents/LLP_DATA/2025-08-20_Higgs_Scalar/LLP_data/mass_5.01e+00_ctau_1.39e-01_br_1.00e+00_seed_253910.csv\n",
      "Error message: No columns to parse from file\n"
     ]
    },
    {
     "name": "stderr",
     "output_type": "stream",
     "text": [
      " 94%|█████████▍| 778/825 [17:36<01:19,  1.69s/it]"
     ]
    },
    {
     "name": "stdout",
     "output_type": "stream",
     "text": [
      "Error with file: /home/srp/Documents/LLP_DATA/2025-08-20_Higgs_Scalar/LLP_data/mass_5.01e+00_ctau_8.75e+03_br_1.00e+00_seed_253910.csv\n",
      "Error message: No columns to parse from file\n"
     ]
    },
    {
     "name": "stderr",
     "output_type": "stream",
     "text": [
      " 87%|████████▋ | 716/826 [16:19<03:05,  1.69s/it]"
     ]
    },
    {
     "name": "stdout",
     "output_type": "stream",
     "text": [
      "Error with file: /home/srp/Documents/LLP_DATA/2025-08-20_Higgs_Scalar/LLP_data/mass_5.01e+00_ctau_3.48e-01_br_1.00e+00_seed_253910.csv\n",
      "Error message: No columns to parse from file"
     ]
    },
    {
     "name": "stderr",
     "output_type": "stream",
     "text": [
      " 95%|█████████▍| 782/825 [17:41<01:03,  1.47s/it]"
     ]
    },
    {
     "name": "stdout",
     "output_type": "stream",
     "text": [
      "\n"
     ]
    },
    {
     "name": "stderr",
     "output_type": "stream",
     "text": [
      " 87%|████████▋ | 720/826 [16:24<02:36,  1.47s/it]"
     ]
    },
    {
     "name": "stdout",
     "output_type": "stream",
     "text": [
      "Error with file: /home/srp/Documents/LLP_DATA/2025-08-20_Higgs_Scalar/LLP_data/mass_5.01e+00_ctau_8.75e+02_br_1.00e+00_seed_253910.csv\n",
      "Error message: No columns to parse from file\n"
     ]
    },
    {
     "name": "stderr",
     "output_type": "stream",
     "text": [
      " 96%|█████████▋| 795/825 [18:04<00:53,  1.80s/it]"
     ]
    },
    {
     "name": "stdout",
     "output_type": "stream",
     "text": [
      "Error with file: /home/srp/Documents/LLP_DATA/2025-08-20_Higgs_Scalar/LLP_data/mass_5.01e+00_ctau_2.20e-05_br_1.00e+00_seed_253910.csv\n",
      "Error message: No columns to parse from file\n"
     ]
    },
    {
     "name": "stderr",
     "output_type": "stream",
     "text": [
      " 90%|█████████ | 744/826 [17:02<02:10,  1.59s/it]"
     ]
    },
    {
     "name": "stdout",
     "output_type": "stream",
     "text": [
      "Error with file: /home/srp/Documents/LLP_DATA/2025-08-20_Higgs_Scalar/LLP_data/mass_5.01e+00_ctau_1.39e-04_br_1.00e+00_seed_253910.csv\n",
      "Error message: No columns to parse from file\n"
     ]
    },
    {
     "name": "stderr",
     "output_type": "stream",
     "text": [
      " 66%|██████▋   | 551/829 [12:58<08:25,  1.82s/it]"
     ]
    },
    {
     "name": "stdout",
     "output_type": "stream",
     "text": [
      "Error with file: /home/srp/Documents/LLP_DATA/2025-08-20_Higgs_Scalar/LLP_data/mass_5.01e+00_ctau_8.75e-01_br_1.00e+00_seed_253910.csv\n",
      "Error message: No columns to parse from file\n"
     ]
    },
    {
     "name": "stderr",
     "output_type": "stream",
     "text": [
      " 91%|█████████ | 753/826 [17:16<02:05,  1.72s/it]"
     ]
    },
    {
     "name": "stdout",
     "output_type": "stream",
     "text": [
      "Error with file: /home/srp/Documents/LLP_DATA/2025-08-20_Higgs_Scalar/LLP_data/mass_5.01e+00_ctau_3.48e-04_br_1.00e+00_seed_253910.csv\n",
      "Error message: No columns to parse from file\n"
     ]
    },
    {
     "name": "stderr",
     "output_type": "stream",
     "text": [
      " 92%|█████████▏| 757/826 [17:21<01:34,  1.38s/it]"
     ]
    },
    {
     "name": "stdout",
     "output_type": "stream",
     "text": [
      "Error with file: /home/srp/Documents/LLP_DATA/2025-08-20_Higgs_Scalar/LLP_data/mass_5.01e+00_ctau_1.39e+01_br_1.00e+00_seed_253910.csv\n",
      "Error message: No columns to parse from file\n",
      "Error with file: /home/srp/Documents/LLP_DATA/2025-08-20_Higgs_Scalar/LLP_data/mass_5.01e+00_ctau_5.52e-05_br_1.00e+00_seed_253910.csv\n",
      "Error message: No columns to parse from file\n"
     ]
    },
    {
     "name": "stderr",
     "output_type": "stream",
     "text": [
      "100%|██████████| 825/825 [18:49<00:00,  1.37s/it]\n"
     ]
    },
    {
     "name": "stdout",
     "output_type": "stream",
     "text": [
      "The LLPs are Judged whether they are Detected or not, and calculated the cross section\n"
     ]
    },
    {
     "name": "stderr",
     "output_type": "stream",
     "text": [
      " 93%|█████████▎| 767/826 [17:32<01:25,  1.44s/it]"
     ]
    },
    {
     "name": "stdout",
     "output_type": "stream",
     "text": [
      "Error with file: /home/srp/Documents/LLP_DATA/2025-08-20_Higgs_Scalar/LLP_data/mass_5.01e+00_ctau_1.39e-01_br_1.00e+00_seed_253910.csv\n",
      "Error message: No columns to parse from file\n"
     ]
    },
    {
     "name": "stderr",
     "output_type": "stream",
     "text": [
      " 69%|██████▊   | 569/829 [13:26<07:21,  1.70s/it]"
     ]
    },
    {
     "name": "stdout",
     "output_type": "stream",
     "text": [
      "Error with file: /home/srp/Documents/LLP_DATA/2025-08-20_Higgs_Scalar/LLP_data/mass_5.01e+00_ctau_8.75e-04_br_1.00e+00_seed_253910.csv\n",
      "Error message: No columns to parse from file\n"
     ]
    },
    {
     "name": "stderr",
     "output_type": "stream",
     "text": [
      "100%|██████████| 779/779 [03:23<00:00,  3.82it/s]\n",
      " 94%|█████████▍| 775/826 [17:43<01:20,  1.58s/it]"
     ]
    },
    {
     "name": "stdout",
     "output_type": "stream",
     "text": [
      "The Final Step is Over, See the .csv files for LLPs Completed Data\n"
     ]
    },
    {
     "name": "stderr",
     "output_type": "stream",
     "text": [
      " 94%|█████████▍| 779/826 [17:50<01:14,  1.58s/it]"
     ]
    },
    {
     "name": "stdout",
     "output_type": "stream",
     "text": [
      "Error with file: /home/srp/Documents/LLP_DATA/2025-08-20_Higgs_Scalar/LLP_data/mass_5.01e+00_ctau_8.75e+03_br_1.00e+00_seed_253910.csv\n",
      "Error message: No columns to parse from file\n"
     ]
    },
    {
     "name": "stderr",
     "output_type": "stream",
     "text": [
      " 96%|█████████▋| 796/826 [18:11<00:39,  1.32s/it]"
     ]
    },
    {
     "name": "stdout",
     "output_type": "stream",
     "text": [
      "Error with file: /home/srp/Documents/LLP_DATA/2025-08-20_Higgs_Scalar/LLP_data/mass_5.01e+00_ctau_2.20e-05_br_1.00e+00_seed_253910.csv\n",
      "Error message: No columns to parse from file\n"
     ]
    },
    {
     "name": "stderr",
     "output_type": "stream",
     "text": [
      " 72%|███████▏  | 599/829 [14:07<05:15,  1.37s/it]"
     ]
    },
    {
     "name": "stdout",
     "output_type": "stream",
     "text": [
      "Error with file: /home/srp/Documents/LLP_DATA/2025-08-20_Higgs_Scalar/LLP_data/mass_5.01e+00_ctau_2.20e-02_br_1.00e+00_seed_253910.csv\n",
      "Error message: No columns to parse from file\n"
     ]
    },
    {
     "name": "stderr",
     "output_type": "stream",
     "text": [
      " 73%|███████▎  | 602/829 [14:09<04:24,  1.16s/it]"
     ]
    },
    {
     "name": "stdout",
     "output_type": "stream",
     "text": [
      "Error with file: /home/srp/Documents/LLP_DATA/2025-08-20_Higgs_Scalar/LLP_data/mass_5.01e+00_ctau_2.20e-03_br_1.00e+00_seed_253910.csv\n",
      "Error message: No columns to parse from file\n"
     ]
    },
    {
     "name": "stderr",
     "output_type": "stream",
     "text": [
      " 73%|███████▎  | 605/829 [14:12<03:46,  1.01s/it]"
     ]
    },
    {
     "name": "stdout",
     "output_type": "stream",
     "text": [
      "Error with file: /home/srp/Documents/LLP_DATA/2025-08-20_Higgs_Scalar/LLP_data/mass_5.01e+00_ctau_1.39e-02_br_1.00e+00_seed_253910.csv\n",
      "Error message: No columns to parse from file\n"
     ]
    },
    {
     "name": "stderr",
     "output_type": "stream",
     "text": [
      " 73%|███████▎  | 609/829 [14:16<03:56,  1.08s/it]"
     ]
    },
    {
     "name": "stdout",
     "output_type": "stream",
     "text": [
      "Error with file: /home/srp/Documents/LLP_DATA/2025-08-20_Higgs_Scalar/LLP_data/mass_5.01e+00_ctau_5.52e-02_br_1.00e+00_seed_253910.csv\n",
      "Error message: No columns to parse from file\n"
     ]
    },
    {
     "name": "stderr",
     "output_type": "stream",
     "text": [
      "100%|██████████| 826/826 [18:49<00:00,  1.37s/it]\n"
     ]
    },
    {
     "name": "stdout",
     "output_type": "stream",
     "text": [
      "The LLPs are Judged whether they are Detected or not, and calculated the cross section\n"
     ]
    },
    {
     "name": "stderr",
     "output_type": "stream",
     "text": [
      " 76%|███████▌  | 632/829 [14:46<04:32,  1.38s/it]"
     ]
    },
    {
     "name": "stdout",
     "output_type": "stream",
     "text": [
      "Error with file: /home/srp/Documents/LLP_DATA/2025-08-20_Higgs_Scalar/LLP_data/mass_5.01e+00_ctau_3.48e-03_br_1.00e+00_seed_253910.csv\n"
     ]
    },
    {
     "name": "stderr",
     "output_type": "stream",
     "text": [
      "  5%|▍         | 37/782 [00:07<02:28,  5.00it/s]"
     ]
    },
    {
     "name": "stdout",
     "output_type": "stream",
     "text": [
      "Error message: No columns to parse from file\n"
     ]
    },
    {
     "name": "stderr",
     "output_type": "stream",
     "text": [
      " 78%|███████▊  | 644/829 [15:01<04:10,  1.35s/it]"
     ]
    },
    {
     "name": "stdout",
     "output_type": "stream",
     "text": [
      "Error with file: /home/srp/Documents/LLP_DATA/2025-08-20_Higgs_Scalar/LLP_data/mass_5.01e+00_ctau_2.20e+03_br_1.00e+00_seed_253910.csv\n",
      "Error message: No columns to parse from file\n"
     ]
    },
    {
     "name": "stderr",
     "output_type": "stream",
     "text": [
      " 81%|████████  | 671/829 [15:37<03:34,  1.36s/it]"
     ]
    },
    {
     "name": "stdout",
     "output_type": "stream",
     "text": [
      "Error with file: /home/srp/Documents/LLP_DATA/2025-08-20_Higgs_Scalar/LLP_data/mass_5.01e+00_ctau_2.20e-01_br_1.00e+00_seed_253910.csv\n",
      "Error message: No columns to parse from file\n"
     ]
    },
    {
     "name": "stderr",
     "output_type": "stream",
     "text": [
      " 81%|████████▏ | 674/829 [15:39<02:53,  1.12s/it]"
     ]
    },
    {
     "name": "stdout",
     "output_type": "stream",
     "text": [
      "Error with file: /home/srp/Documents/LLP_DATA/2025-08-20_Higgs_Scalar/LLP_data/mass_5.01e+00_ctau_2.20e+01_br_1.00e+00_seed_253910.csv\n",
      "Error message: No columns to parse from file\n"
     ]
    },
    {
     "name": "stderr",
     "output_type": "stream",
     "text": [
      " 51%|█████     | 398/782 [01:25<01:16,  5.03it/s]\n",
      " 51%|█████     | 399/782 [01:25<01:15,  5.07it/s]"
     ]
    },
    {
     "name": "stdout",
     "output_type": "stream",
     "text": [
      "The Final Step is Over, See the .csv files for LLPs Completed Data\n"
     ]
    },
    {
     "name": "stderr",
     "output_type": "stream",
     "text": [
      " 84%|████████▍ | 697/829 [16:09<02:47,  1.27s/it]"
     ]
    },
    {
     "name": "stdout",
     "output_type": "stream",
     "text": [
      "Error with file: /home/srp/Documents/LLP_DATA/2025-08-20_Higgs_Scalar/LLP_data/mass_5.01e+00_ctau_5.52e-04_br_1.00e+00_seed_253910.csv\n",
      "Error message: No columns to parse from file\n"
     ]
    },
    {
     "name": "stderr",
     "output_type": "stream",
     "text": [
      " 87%|████████▋ | 719/829 [16:36<02:19,  1.27s/it]"
     ]
    },
    {
     "name": "stdout",
     "output_type": "stream",
     "text": [
      "Error with file: /home/srp/Documents/LLP_DATA/2025-08-20_Higgs_Scalar/LLP_data/mass_5.01e+00_ctau_3.48e-01_br_1.00e+00_seed_253910.csv\n",
      "Error message: No columns to parse from file\n"
     ]
    },
    {
     "name": "stderr",
     "output_type": "stream",
     "text": [
      " 87%|████████▋ | 723/829 [16:40<02:01,  1.14s/it]"
     ]
    },
    {
     "name": "stdout",
     "output_type": "stream",
     "text": [
      "Error with file: /home/srp/Documents/LLP_DATA/2025-08-20_Higgs_Scalar/LLP_data/mass_5.01e+00_ctau_8.75e+02_br_1.00e+00_seed_253910.csv\n",
      "Error message: No columns to parse from file\n"
     ]
    },
    {
     "name": "stderr",
     "output_type": "stream",
     "text": [
      " 90%|█████████ | 747/829 [17:09<01:43,  1.26s/it]"
     ]
    },
    {
     "name": "stdout",
     "output_type": "stream",
     "text": [
      "Error with file: /home/srp/Documents/LLP_DATA/2025-08-20_Higgs_Scalar/LLP_data/mass_5.01e+00_ctau_1.39e-04_br_1.00e+00_seed_253910.csv\n",
      "Error message: No columns to parse from file\n"
     ]
    },
    {
     "name": "stderr",
     "output_type": "stream",
     "text": [
      "100%|██████████| 782/782 [02:34<00:00,  5.06it/s]\n"
     ]
    },
    {
     "name": "stdout",
     "output_type": "stream",
     "text": [
      "The Final Step is Over, See the .csv files for LLPs Completed Data\n"
     ]
    },
    {
     "name": "stderr",
     "output_type": "stream",
     "text": [
      " 91%|█████████ | 756/829 [17:18<01:25,  1.17s/it]"
     ]
    },
    {
     "name": "stdout",
     "output_type": "stream",
     "text": [
      "Error with file: /home/srp/Documents/LLP_DATA/2025-08-20_Higgs_Scalar/LLP_data/mass_5.01e+00_ctau_3.48e-04_br_1.00e+00_seed_253910.csv\n",
      "Error message: No columns to parse from file\n"
     ]
    },
    {
     "name": "stderr",
     "output_type": "stream",
     "text": [
      " 92%|█████████▏| 760/829 [17:21<01:09,  1.00s/it]"
     ]
    },
    {
     "name": "stdout",
     "output_type": "stream",
     "text": [
      "Error with file: /home/srp/Documents/LLP_DATA/2025-08-20_Higgs_Scalar/LLP_data/mass_5.01e+00_ctau_1.39e+01_br_1.00e+00_seed_253910.csv\n",
      "Error message: No columns to parse from file\n",
      "Error with file: /home/srp/Documents/LLP_DATA/2025-08-20_Higgs_Scalar/LLP_data/mass_5.01e+00_ctau_5.52e-05_br_1.00e+00_seed_253910.csv\n",
      "Error message: No columns to parse from file\n"
     ]
    },
    {
     "name": "stderr",
     "output_type": "stream",
     "text": [
      " 93%|█████████▎| 770/829 [17:30<01:00,  1.02s/it]"
     ]
    },
    {
     "name": "stdout",
     "output_type": "stream",
     "text": [
      "Error with file: /home/srp/Documents/LLP_DATA/2025-08-20_Higgs_Scalar/LLP_data/mass_5.01e+00_ctau_1.39e-01_br_1.00e+00_seed_253910.csv\n",
      "Error message: No columns to parse from file\n"
     ]
    },
    {
     "name": "stderr",
     "output_type": "stream",
     "text": [
      " 94%|█████████▍| 782/829 [17:43<00:57,  1.21s/it]"
     ]
    },
    {
     "name": "stdout",
     "output_type": "stream",
     "text": [
      "Error with file: /home/srp/Documents/LLP_DATA/2025-08-20_Higgs_Scalar/LLP_data/mass_5.01e+00_ctau_8.75e+03_br_1.00e+00_seed_253910.csv\n",
      "Error message: No columns to parse from file\n"
     ]
    },
    {
     "name": "stderr",
     "output_type": "stream",
     "text": [
      " 96%|█████████▋| 799/829 [18:03<00:38,  1.29s/it]"
     ]
    },
    {
     "name": "stdout",
     "output_type": "stream",
     "text": [
      "Error with file: /home/srp/Documents/LLP_DATA/2025-08-20_Higgs_Scalar/LLP_data/mass_5.01e+00_ctau_2.20e-05_br_1.00e+00_seed_253910.csv\n",
      "Error message: No columns to parse from file\n"
     ]
    },
    {
     "name": "stderr",
     "output_type": "stream",
     "text": [
      "100%|██████████| 829/829 [18:40<00:00,  1.35s/it]\n"
     ]
    },
    {
     "name": "stdout",
     "output_type": "stream",
     "text": [
      "The LLPs are Judged whether they are Detected or not, and calculated the cross section\n"
     ]
    },
    {
     "name": "stderr",
     "output_type": "stream",
     "text": [
      "100%|██████████| 782/782 [02:19<00:00,  5.59it/s]\n"
     ]
    },
    {
     "name": "stdout",
     "output_type": "stream",
     "text": [
      "The Final Step is Over, See the .csv files for LLPs Completed Data\n",
      "All tasks completed: [('/home/srp/Documents/LLP_DATA/2025-08-20_Higgs_Scalar/LLP_data', '/home/srp/Documents/LLP_DATA/2025-08-20_Higgs_Scalar/Completed_llp_data_precise_cross_section', ('/home/srp/Documents/LLP_DATA/2025-08-20_Higgs_Scalar/2025-08-20_all_combined_precise_file.csv', '/home/srp/Documents/LLP_DATA/2025-08-20_Higgs_Scalar/2025-08-20_detected_combined_precise_file.csv')), ('/home/srp/Documents/LLP_DATA/2025-08-20_Higgs_Scalar/LLP_data', '/home/srp/Documents/LLP_DATA/2025-08-20_Higgs_Scalar/Completed_llp_data_precise_cross_section', ('/home/srp/Documents/LLP_DATA/2025-08-20_Higgs_Scalar/2025-08-20_all_combined_precise_file.csv', '/home/srp/Documents/LLP_DATA/2025-08-20_Higgs_Scalar/2025-08-20_detected_combined_precise_file.csv')), ('/home/srp/Documents/LLP_DATA/2025-08-20_Higgs_Scalar/LLP_data', '/home/srp/Documents/LLP_DATA/2025-08-20_Higgs_Scalar/Completed_llp_data_precise_cross_section', ('/home/srp/Documents/LLP_DATA/2025-08-20_Higgs_Scalar/2025-08-20_all_combined_precise_file.csv', '/home/srp/Documents/LLP_DATA/2025-08-20_Higgs_Scalar/2025-08-20_detected_combined_precise_file.csv')), ('/home/srp/Documents/LLP_DATA/2025-08-20_Higgs_Scalar/LLP_data', '/home/srp/Documents/LLP_DATA/2025-08-20_Higgs_Scalar/Completed_llp_data_precise_cross_section', ('/home/srp/Documents/LLP_DATA/2025-08-20_Higgs_Scalar/2025-08-20_all_combined_precise_file.csv', '/home/srp/Documents/LLP_DATA/2025-08-20_Higgs_Scalar/2025-08-20_detected_combined_precise_file.csv'))]\n"
     ]
    },
    {
     "ename": "NameError",
     "evalue": "name 'csv_file' is not defined",
     "output_type": "error",
     "traceback": [
      "\u001b[0;31m---------------------------------------------------------------------------\u001b[0m",
      "\u001b[0;31mNameError\u001b[0m                                 Traceback (most recent call last)",
      "Cell \u001b[0;32mIn[8], line 36\u001b[0m\n\u001b[1;32m     32\u001b[0m     \u001b[38;5;66;03m# 打印结果\u001b[39;00m\n\u001b[1;32m     33\u001b[0m     \u001b[38;5;28mprint\u001b[39m(\u001b[38;5;124m\"\u001b[39m\u001b[38;5;124mAll tasks completed:\u001b[39m\u001b[38;5;124m\"\u001b[39m, results)\n\u001b[0;32m---> 36\u001b[0m run_task((\u001b[43mcsv_file\u001b[49m, \u001b[38;5;241m1\u001b[39m, \u001b[38;5;241m1\u001b[39m, out_path, main131_path, today, \u001b[38;5;241m0\u001b[39m))\n",
      "\u001b[0;31mNameError\u001b[0m: name 'csv_file' is not defined"
     ]
    }
   ],
   "source": [
    "from concurrent.futures import ProcessPoolExecutor\n",
    "import os\n",
    "\n",
    "# 假设 okr.one_key_run_by_csv_cross_section_main131 是你要并行运行的函数\n",
    "from concurrent.futures import ProcessPoolExecutor\n",
    "\n",
    "def run_task(args):\n",
    "    _csv_file, _param1, _param2, _out_path, _main131_path, _date, _sleep_time = args\n",
    "    return okr.one_key_run_by_csv_cross_section_main131_simple(_csv_file, _param1, _param2, _out_path, _main131_path, _date, _sleep_time)\n",
    "\n",
    "if __name__ == \"__main__\":\n",
    "    # 自定义 CPU 核心数量\n",
    "    num_cores = 4  # 你可以将此值改为你想使用的核心数量\n",
    "\n",
    "    # 定义任务参数\n",
    "    # out_path = \"output_path\"  # 替换为实际的输出路径\n",
    "    # main131_path = \"main131_path\"  # 替换为实际的路径\n",
    "\n",
    "    tasks = [\n",
    "        (f\"{i+1}.csv\", 1, 1, out_path, main131_path, today, 0)  # 生成任务参数\n",
    "        for i in range(num_cores)  # 根据自定义核心数生成任务\n",
    "    ]\n",
    "\n",
    "    # 打印生成的任务\n",
    "    for task in tasks:\n",
    "        print(task)\n",
    "\n",
    "    # 使用多核并行\n",
    "    with ProcessPoolExecutor(max_workers=num_cores) as executor:\n",
    "        results = list(executor.map(run_task, tasks))\n",
    "\n",
    "    # 打印结果\n",
    "    print(\"All tasks completed:\", results)\n",
    "\n",
    "\n",
    "run_task((csv_file, 1, 1, out_path, main131_path, today, 0))"
   ]
  },
  {
   "cell_type": "markdown",
   "metadata": {},
   "source": [
    "#### To read the data\n",
    "\n",
    "Now that you have done the simulation via pythia8, the output .csv files should be in your `output` folder. \n",
    "\n",
    "Below the folder, the file is sorted and filed by `date of the simulation`, so there will be a new folder like `2025-03-07`. In that `date folder`, there will be two folders, named`LLP_data`(store the orginal data), and `Completed_llp_data_precise` (store the detective data). \n",
    "\n",
    "AND THERE IS A `.csv` FILE, which is named like `2025-03-07_detected_combined_precise_file.csv`, it contains ONLY the LLPs can be DETECTED by CODEX-b."
   ]
  },
  {
   "cell_type": "code",
   "execution_count": null,
   "metadata": {},
   "outputs": [
    {
     "name": "stdout",
     "output_type": "stream",
     "text": [
      "(-10.200000256677525, -12.400000474218762)\n"
     ]
    }
   ],
   "source": [
    "print(ad.print_max_min_log10_sin_theta_2('/Users/shiyuzhe/Documents/University/LLP/Second_Term/pythia8/BtoKa/Code/position_read_analyse_1.3/LLP_data_for_test/2025-2-16/2025-2-16_detected_combined_precise_file.csv'))"
   ]
  },
  {
   "cell_type": "markdown",
   "metadata": {},
   "source": [
    "### The Detect Function\n",
    "\n",
    "Functions::::\n",
    "```python\n",
    "def detect_r_and_combine(LLP_data_path) \n",
    "\n",
    "def detect_precise_and_combine(LLP_data_path)\n",
    "```\n",
    "\n",
    "Are functions to combine '''.csv files''' and judge whether LLP can be detected by CODEX-b or not\n",
    "\n",
    "They will creat a ```.csv file``` at the dir of your LLP, which contains ALL DETECTED LLPS.\n",
    "\n",
    "The function::::\n",
    "```python \n",
    "def detect_r_and_combine(LLP_data_path)\n",
    "```\n",
    " is merely a test function. You can play with it to get more data, but DO NOT use it for real analyzation"
   ]
  },
  {
   "cell_type": "code",
   "execution_count": 3,
   "metadata": {},
   "outputs": [
    {
     "name": "stderr",
     "output_type": "stream",
     "text": [
      "  1%|          | 15/1545 [46:47<77:56:22, 183.39s/it]"
     ]
    },
    {
     "name": "stdout",
     "output_type": "stream",
     "text": [
      "Error with file: /home/srp/Documents/LLP_DATA/2025-08-08_2HDM-A/LLP_data/mass_1.00e+00_ctau_9.07e-05_br_1.00e+00_seed_846798.csv\n",
      "Error message: No columns to parse from file\n"
     ]
    },
    {
     "name": "stderr",
     "output_type": "stream",
     "text": [
      " 27%|██▋       | 424/1545 [22:12:41<58:28:53, 187.81s/it]"
     ]
    },
    {
     "name": "stdout",
     "output_type": "stream",
     "text": [
      "Error with file: /home/srp/Documents/LLP_DATA/2025-08-08_2HDM-A/LLP_data/mass_3.98e+00_ctau_2.28e+00_br_1.00e+00_seed_380686.csv\n",
      "Error message: No columns to parse from file\n"
     ]
    },
    {
     "name": "stderr",
     "output_type": "stream",
     "text": [
      " 29%|██▉       | 453/1545 [23:40:27<57:17:09, 188.85s/it]"
     ]
    },
    {
     "name": "stdout",
     "output_type": "stream",
     "text": [
      "Error with file: /home/srp/Documents/LLP_DATA/2025-08-08_2HDM-A/LLP_data/mass_1.00e+00_ctau_5.73e-05_br_1.00e+00_seed_846798.csv\n",
      "Error message: No columns to parse from file\n"
     ]
    },
    {
     "name": "stderr",
     "output_type": "stream",
     "text": [
      " 54%|█████▍    | 842/1545 [43:57:47<36:50:31, 188.67s/it]"
     ]
    },
    {
     "name": "stdout",
     "output_type": "stream",
     "text": [
      "Error with file: /home/srp/Documents/LLP_DATA/2025-08-08_2HDM-A/LLP_data/mass_3.98e+00_ctau_3.61e+00_br_1.00e+00_seed_380686.csv\n",
      "Error message: No columns to parse from file\n"
     ]
    },
    {
     "name": "stderr",
     "output_type": "stream",
     "text": [
      " 57%|█████▋    | 874/1545 [45:35:21<35:02:04, 187.96s/it]"
     ]
    },
    {
     "name": "stdout",
     "output_type": "stream",
     "text": [
      "Error with file: /home/srp/Documents/LLP_DATA/2025-08-08_2HDM-A/LLP_data/mass_3.98e+00_ctau_1.44e+00_br_1.00e+00_seed_380686.csv\n",
      "Error message: No columns to parse from file\n"
     ]
    },
    {
     "name": "stderr",
     "output_type": "stream",
     "text": [
      " 81%|████████  | 1246/1545 [65:03:43<15:41:13, 188.88s/it]"
     ]
    },
    {
     "name": "stdout",
     "output_type": "stream",
     "text": [
      "Error with file: /home/srp/Documents/LLP_DATA/2025-08-08_2HDM-A/LLP_data/mass_3.98e-02_ctau_1.44e-01_br_1.00e+00_seed_599862.csv\n",
      "Error message: No columns to parse from file\n"
     ]
    },
    {
     "name": "stderr",
     "output_type": "stream",
     "text": [
      " 86%|████████▌ | 1325/1545 [69:09:40<11:31:50, 188.69s/it]"
     ]
    },
    {
     "name": "stdout",
     "output_type": "stream",
     "text": [
      "Error with file: /home/srp/Documents/LLP_DATA/2025-08-08_2HDM-A/LLP_data/mass_1.00e+00_ctau_3.61e-05_br_1.00e+00_seed_846798.csv\n",
      "Error message: No columns to parse from file\n"
     ]
    },
    {
     "name": "stderr",
     "output_type": "stream",
     "text": [
      "100%|██████████| 1545/1545 [80:37:22<00:00, 187.86s/it]   \n"
     ]
    },
    {
     "name": "stdout",
     "output_type": "stream",
     "text": [
      "The LLPs are Judged whether they are Detected or not, and calculated the cross section\n"
     ]
    },
    {
     "name": "stderr",
     "output_type": "stream",
     "text": [
      "100%|██████████| 1537/1537 [10:07<00:00,  2.53it/s]\n"
     ]
    },
    {
     "name": "stdout",
     "output_type": "stream",
     "text": [
      "The Final Step is Over, See the .csv files for LLPs Completed Data\n"
     ]
    },
    {
     "data": {
      "text/plain": [
       "('/home/srp/Documents/LLP_DATA/2025-08-08_2HDM-A/Completed_llp_data_precise_cross_section',\n",
       " ('/home/srp/Documents/LLP_DATA/2025-08-08_2HDM-A/2025-08-12_all_combined_precise_file.csv',\n",
       "  '/home/srp/Documents/LLP_DATA/2025-08-08_2HDM-A/2025-08-12_detected_combined_precise_file.csv'))"
      ]
     },
     "execution_count": 3,
     "metadata": {},
     "output_type": "execute_result"
    }
   ],
   "source": [
    "LLP_date_path = '/home/srp/Documents/LLP_DATA/2025-08-08_2HDM-A/LLP_data'\n",
    "# detected_r = '/Users/shiyuzhe/Documents/University/LLP/Second_Term/pythia8/BtoKa/Code/position_read_analyse_1.3/LLP_data_for_test/2024-11-18_19/'\n",
    "okr.calcu_cross_section_and_combine_files_CODEX_MATHUSLA_SHiP(LLP_date_path)"
   ]
  },
  {
   "cell_type": "code",
   "execution_count": null,
   "metadata": {},
   "outputs": [
    {
     "name": "stdout",
     "output_type": "stream",
     "text": [
      "All CSV files have been merged into /media/ubuntu/6156e08b-fdb1-4cde-964e-431f74a6078e/Files/LLP_DATA/Original_DATA/ALL_GOOD_DATA_2/combined.csv\n"
     ]
    }
   ],
   "source": [
    "combinefile = '/media/ubuntu/6156e08b-fdb1-4cde-964e-431f74a6078e/Files/LLP_DATA/Original_DATA/'\n",
    "combine.merge_csv_files(combinefile, combinefile + '/combined.csv')"
   ]
  }
 ],
 "metadata": {
  "kernelspec": {
   "display_name": "Python 3",
   "language": "python",
   "name": "python3"
  },
  "language_info": {
   "codemirror_mode": {
    "name": "ipython",
    "version": 3
   },
   "file_extension": ".py",
   "mimetype": "text/x-python",
   "name": "python",
   "nbconvert_exporter": "python",
   "pygments_lexer": "ipython3",
   "version": "3.10.12"
  }
 },
 "nbformat": 4,
 "nbformat_minor": 2
}
