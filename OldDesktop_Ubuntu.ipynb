{
 "cells": [
  {
   "cell_type": "code",
   "execution_count": 1,
   "metadata": {},
   "outputs": [],
   "source": [
    "import sys\n",
    "sys.path.append(\"ALL_IN_ONE/Pythia8\")\n",
    "sys.path.append(\"ALL_IN_ONE/LSD\")\n",
    "sys.path.append(\"ALL_IN_ONE/FIT_FUNC\")"
   ]
  },
  {
   "cell_type": "code",
   "execution_count": 2,
   "metadata": {},
   "outputs": [],
   "source": [
    "import os\n",
    "from tqdm import tqdm\n",
    "import ALL_IN_ONE.Pythia8.loop as loop\n",
    "import ALL_IN_ONE.Pythia8.one_key_run as okr \n",
    "import ALL_IN_ONE.Pythia8.run_save as rs\n",
    "import ALL_IN_ONE.Pythia8.analyse_data as ad\n",
    "import ALL_IN_ONE.Pythia8.detection as detection\n",
    "import ALL_IN_ONE.Pythia8.Mulity_process as mp\n",
    "from datetime import datetime\n",
    "import ALL_IN_ONE.Pythia8.combine as combine\n",
    "# from detection import detect_percise_and_combine, detect_r_and_combine\n",
    "# from analyse_data import see_ctau_2, print_max_min_log10_sin_theta_2"
   ]
  },
  {
   "cell_type": "markdown",
   "metadata": {},
   "source": [
    "### This Func is made for FUTURE USE aimmed to speed up our simulations(Whose speed is Not Satisfying right now(2024.11.17)). \n",
    "\n",
    "### But it is not usable now"
   ]
  },
  {
   "cell_type": "code",
   "execution_count": 9,
   "metadata": {},
   "outputs": [],
   "source": [
    "# from joblib import Parallel, delayed\n",
    "\n",
    "# def worker(seed):\n",
    "#     LLP_data_path = loop_mass_ctau_given_by_csv_multi(csv_file, br, seed, out_put_path, main41_path)\n",
    "#     print('The Generation of LLPs is Completed')\n",
    "#     completed_data_dir = detect_folder_files_no_calcu(LLP_data_path)[1]\n",
    "#     print('The LLPs are Judged whether they are Detected or not')\n",
    "#     final_files = combine_files_precise(completed_data_dir)\n",
    "#     print('The Final Step is Over, See the .csv files for LLPs Completed Data')\n",
    "#     return LLP_data_path, completed_data_dir, final_files\n",
    "\n",
    "# def one_key_run_mass_ctau_given_by_csv_multi(csv_file, br, seed_array, out_put_path, main41_path):\n",
    "#     results = Parallel(n_jobs=5)(delayed(worker)(seed) for seed in seed_array)\n",
    "#     return results\n"
   ]
  },
  {
   "cell_type": "markdown",
   "metadata": {},
   "source": [
    "## Attention:  \n",
    "\n",
    "## The Units are CM and GEV"
   ]
  },
  {
   "cell_type": "markdown",
   "metadata": {},
   "source": [
    "### The 'one_key_run_XXX' functions are all you need to use.\n",
    "\n"
   ]
  },
  {
   "cell_type": "markdown",
   "metadata": {},
   "source": [
    "### Setting Parameters"
   ]
  },
  {
   "cell_type": "code",
   "execution_count": 10,
   "metadata": {},
   "outputs": [],
   "source": [
    "c_mm = (3*10**5) # tau0's unit is mm/c, to convert the ultimate decay postion,\n",
    "                            # we need to do sth to the ctau_typed_in \n",
    "\n",
    "br_lowerlim = -20 #ctau and br are in logspace\n",
    "br_upperlim = -20\n",
    "br_amount = 1\n",
    "ctau_lowerlim = 1\n",
    "ctau_upperlim = 30\n",
    "ctau_amount = 50\n",
    "mass = 1\n",
    "seed_amount = 5\n",
    "seed_array = (357993, 1234) #Pythia8 simulation seed\n",
    "\n",
    "mass_lower_lim = 0.1 # Mass in in linspace\n",
    "mass_upper_lim = 4\n",
    "mass_amount = 20\n",
    "br = 1"
   ]
  },
  {
   "cell_type": "markdown",
   "metadata": {},
   "source": [
    "#### Same as before:  \n",
    "\n",
    "##### The function \n",
    "```python\n",
    "    one_key_run_mass_ctau_simple_ver() #Function to run an pythia8 program\n",
    "```\n",
    "\n",
    "takes \n",
    "\n",
    "```\n",
    "br's lower / upper lim (10^x), br's amount, \n",
    "\n",
    "ctau's lower / upper lim (10^x), ctau's amount, \n",
    "\n",
    "mass, \n",
    "\n",
    "seed's amount, \n",
    "\n",
    "the Output folder's path, \n",
    "\n",
    "main41.cc's dir path\n",
    "```\n",
    "as input.\n",
    "\n",
    "The Output is LOTS OF ```.csv``` Files with LLPs' Properties \n",
    "\n",
    "```\n",
    "    Momentum in GeV, \n",
    "    \n",
    "    lifetime(ctau or tau) in mm/C, \n",
    "\n",
    "    decay_postion in mm, mass in GeV \n",
    "\n",
    "    and so on\n",
    "```\n",
    "\n",
    "The path's format is listed below, you can change them directly to your real path to run the function"
   ]
  },
  {
   "cell_type": "code",
   "execution_count": 3,
   "metadata": {},
   "outputs": [
    {
     "name": "stdout",
     "output_type": "stream",
     "text": [
      "2025-09-09_2HDM-S-2\n"
     ]
    }
   ],
   "source": [
    "main131_path = '/home/srp/Documents/Pythia8/pythia8315/examples/'\n",
    "# For Pythia8.31, main41 is now main131 but the path remains the same\n",
    "out_path = '/home/srp/Documents/LLP_DATA/'\n",
    "today = str(datetime.today().date())+'_2HDM-S-2' # Change this to the current date and model\n",
    "# today = '2025-06-07_2HDM-A'\n",
    "print(today)\n"
   ]
  },
  {
   "cell_type": "markdown",
   "metadata": {},
   "source": [
    "#### New Function info:\n",
    "\n",
    "The function\n",
    "```python\n",
    "    def one_key_run_mass_ctau_br_given_by_csv_main131(csv_file, br, seed_amount, out_path, main41_path)\n",
    "```\n",
    "\n",
    "takes a ```.csv file``` as input instead of the range of ```mass```, ```tau```, ```Br_XX```and etc. \n",
    "\n",
    "The function will read each line of ```.csv file``` to get `LLP's DATA Range`, ALONG WITH ```ALL THE Branching Ratio of OUR LLP``` and put this set of data into pythia8. \n",
    "\n",
    "Pythia8 will do the simulation, then output .csv file to the ``` out_path``` folder."
   ]
  },
  {
   "cell_type": "code",
   "execution_count": null,
   "metadata": {},
   "outputs": [
    {
     "name": "stdout",
     "output_type": "stream",
     "text": [
      "Running Simulation...\n"
     ]
    },
    {
     "name": "stderr",
     "output_type": "stream",
     "text": [
      "  0%|          | 0/9 [00:01<?, ?it/s]\n"
     ]
    },
    {
     "ename": "KeyboardInterrupt",
     "evalue": "",
     "output_type": "error",
     "traceback": [
      "\u001b[0;31m---------------------------------------------------------------------------\u001b[0m",
      "\u001b[0;31mKeyboardInterrupt\u001b[0m                         Traceback (most recent call last)",
      "Cell \u001b[0;32mIn[23], line 2\u001b[0m\n\u001b[1;32m      1\u001b[0m test_csv \u001b[38;5;241m=\u001b[39m \u001b[38;5;124m'\u001b[39m\u001b[38;5;124m/media/ubuntu/6156e08b-fdb1-4cde-964e-431f74a6078e/Program/PRA/Github/position_read_analyse_1.3/ALL_IN_ONE/LSD/tau_theta_1e-05.csv\u001b[39m\u001b[38;5;124m'\u001b[39m\n\u001b[0;32m----> 2\u001b[0m \u001b[43mokr\u001b[49m\u001b[38;5;241;43m.\u001b[39;49m\u001b[43mone_key_run_by_csv_cross_section_main131_simple\u001b[49m\u001b[43m(\u001b[49m\u001b[43mtest_csv\u001b[49m\u001b[43m,\u001b[49m\u001b[43m \u001b[49m\u001b[38;5;241;43m1\u001b[39;49m\u001b[43m,\u001b[49m\u001b[43m \u001b[49m\u001b[38;5;241;43m1\u001b[39;49m\u001b[43m,\u001b[49m\u001b[43m \u001b[49m\u001b[43mout_path\u001b[49m\u001b[43m,\u001b[49m\u001b[43m \u001b[49m\u001b[43mmain131_path\u001b[49m\u001b[43m,\u001b[49m\u001b[43m \u001b[49m\u001b[43mtoday\u001b[49m\u001b[43m,\u001b[49m\u001b[43m \u001b[49m\u001b[38;5;241;43m0\u001b[39;49m\u001b[43m)\u001b[49m\n",
      "File \u001b[0;32m/media/ubuntu/6156e08b-fdb1-4cde-964e-431f74a6078e/Program/PRA/Github/position_read_analyse_1.3/ALL_IN_ONE/Pythia8/one_key_run.py:226\u001b[0m, in \u001b[0;36mone_key_run_by_csv_cross_section_main131_simple\u001b[0;34m(csv_file, br, seed_array, out_put_path, main131_path, today, sleep_time)\u001b[0m\n\u001b[1;32m    224\u001b[0m \u001b[38;5;28mprint\u001b[39m(\u001b[38;5;124m\"\u001b[39m\u001b[38;5;124mRunning Simulation...\u001b[39m\u001b[38;5;124m\"\u001b[39m)\n\u001b[1;32m    225\u001b[0m mkdir_1(out_put_path \u001b[38;5;241m+\u001b[39m today \u001b[38;5;241m+\u001b[39m\u001b[38;5;124m'\u001b[39m\u001b[38;5;124m/\u001b[39m\u001b[38;5;124m'\u001b[39m \u001b[38;5;241m+\u001b[39m \u001b[38;5;124m'\u001b[39m\u001b[38;5;124mLLP_data/\u001b[39m\u001b[38;5;124m'\u001b[39m)\n\u001b[0;32m--> 226\u001b[0m LLP_data_path \u001b[38;5;241m=\u001b[39m \u001b[43mlp\u001b[49m\u001b[38;5;241;43m.\u001b[39;49m\u001b[43mloop_mass_simple\u001b[49m\u001b[43m(\u001b[49m\u001b[43mcsv_file\u001b[49m\u001b[43m,\u001b[49m\u001b[43m \u001b[49m\u001b[43mbr\u001b[49m\u001b[43m,\u001b[49m\u001b[43m \u001b[49m\u001b[43mseed_array\u001b[49m\u001b[43m,\u001b[49m\u001b[43m \u001b[49m\u001b[43mout_put_path\u001b[49m\u001b[43m,\u001b[49m\u001b[43m \u001b[49m\u001b[43mmain131_path\u001b[49m\u001b[43m,\u001b[49m\u001b[43m \u001b[49m\u001b[43msleep_time\u001b[49m\u001b[43m,\u001b[49m\u001b[43m \u001b[49m\u001b[43mtoday\u001b[49m\u001b[43m)\u001b[49m\n\u001b[1;32m    227\u001b[0m \u001b[38;5;28mprint\u001b[39m(\u001b[38;5;124m'\u001b[39m\u001b[38;5;124mThe Generation of LLPs is Completed\u001b[39m\u001b[38;5;124m'\u001b[39m)\n\u001b[1;32m    228\u001b[0m completed_data_dir \u001b[38;5;241m=\u001b[39m detect_folder_files_cross_section_CODEX_MATHUSLA(LLP_data_path)[\u001b[38;5;241m1\u001b[39m]\n",
      "File \u001b[0;32m/media/ubuntu/6156e08b-fdb1-4cde-964e-431f74a6078e/Program/PRA/Github/position_read_analyse_1.3/ALL_IN_ONE/Pythia8/loop.py:123\u001b[0m, in \u001b[0;36mloop_mass_simple\u001b[0;34m(csv_file, br, seed_amount, out_put_path, main131_path, sleep_time, today)\u001b[0m\n\u001b[1;32m    120\u001b[0m \u001b[38;5;28;01mfor\u001b[39;00m seed \u001b[38;5;129;01min\u001b[39;00m generate_randomseed(seed_amount):\n\u001b[1;32m    121\u001b[0m     \u001b[38;5;28;01mfor\u001b[39;00m mH, taus, theta \u001b[38;5;129;01min\u001b[39;00m \u001b[38;5;28mzip\u001b[39m(df[\u001b[38;5;124m'\u001b[39m\u001b[38;5;124mmH\u001b[39m\u001b[38;5;124m'\u001b[39m], df[\u001b[38;5;124m'\u001b[39m\u001b[38;5;124mltime\u001b[39m\u001b[38;5;124m'\u001b[39m],\n\u001b[1;32m    122\u001b[0m                                                                                                                      df[\u001b[38;5;124m'\u001b[39m\u001b[38;5;124mtheta\u001b[39m\u001b[38;5;124m'\u001b[39m]):\n\u001b[0;32m--> 123\u001b[0m         out_put_name_LLP_data \u001b[38;5;241m=\u001b[39m \u001b[43mrs\u001b[49m\u001b[38;5;241;43m.\u001b[39;49m\u001b[43mrun_save_main131_simple\u001b[49m\u001b[43m(\u001b[49m\u001b[43mmH\u001b[49m\u001b[43m,\u001b[49m\u001b[43m \u001b[49m\u001b[43mseed\u001b[49m\u001b[43m,\u001b[49m\u001b[43m \u001b[49m\u001b[43mbr\u001b[49m\u001b[43m,\u001b[49m\u001b[43m \u001b[49m\u001b[43mtaus\u001b[49m\u001b[43m,\u001b[49m\u001b[43m \u001b[49m\u001b[43mout_put_path\u001b[49m\u001b[43m,\u001b[49m\u001b[43m \u001b[49m\u001b[43mmain131_path\u001b[49m\u001b[43m,\u001b[49m\u001b[43m \u001b[49m\u001b[43mtheta\u001b[49m\u001b[43m,\u001b[49m\u001b[43m \u001b[49m\u001b[43mtoday\u001b[49m\u001b[43m)\u001b[49m[\u001b[38;5;241m0\u001b[39m]\n\u001b[1;32m    125\u001b[0m         pbar\u001b[38;5;241m.\u001b[39mupdate(\u001b[38;5;241m1\u001b[39m)\n\u001b[1;32m    126\u001b[0m         time\u001b[38;5;241m.\u001b[39msleep(sleep_time)\n",
      "File \u001b[0;32m/media/ubuntu/6156e08b-fdb1-4cde-964e-431f74a6078e/Program/PRA/Github/position_read_analyse_1.3/ALL_IN_ONE/Pythia8/run_save.py:289\u001b[0m, in \u001b[0;36mrun_save_main131_simple\u001b[0;34m(m, seed, Br, tau, out_path, main_41_path, theta, today)\u001b[0m\n\u001b[1;32m    287\u001b[0m filename \u001b[38;5;241m=\u001b[39m \u001b[38;5;124m\"\u001b[39m\u001b[38;5;124mfiltered_mass_\u001b[39m\u001b[38;5;124m\"\u001b[39m \u001b[38;5;241m+\u001b[39m mass \u001b[38;5;241m+\u001b[39m \u001b[38;5;124m\"\u001b[39m\u001b[38;5;124m_ctau_\u001b[39m\u001b[38;5;124m\"\u001b[39m \u001b[38;5;241m+\u001b[39m tau_str \u001b[38;5;241m+\u001b[39m \u001b[38;5;124m\"\u001b[39m\u001b[38;5;124m_br_\u001b[39m\u001b[38;5;124m\"\u001b[39m \u001b[38;5;241m+\u001b[39m Br_str \u001b[38;5;241m+\u001b[39m \u001b[38;5;124m\"\u001b[39m\u001b[38;5;124m_seed_\u001b[39m\u001b[38;5;124m\"\u001b[39m \u001b[38;5;241m+\u001b[39m random_seed \u001b[38;5;241m+\u001b[39m \u001b[38;5;124m\"\u001b[39m\u001b[38;5;124m.csv\u001b[39m\u001b[38;5;124m\"\u001b[39m\n\u001b[1;32m    288\u001b[0m \u001b[38;5;66;03m# get error if any\u001b[39;00m\n\u001b[0;32m--> 289\u001b[0m output, error \u001b[38;5;241m=\u001b[39m \u001b[43mprocess1\u001b[49m\u001b[38;5;241;43m.\u001b[39;49m\u001b[43mcommunicate\u001b[49m\u001b[43m(\u001b[49m\u001b[43m)\u001b[49m\n\u001b[1;32m    291\u001b[0m \u001b[38;5;66;03m# save to txt\u001b[39;00m\n\u001b[1;32m    292\u001b[0m out_path \u001b[38;5;241m=\u001b[39m out_dir\u001b[38;5;241m+\u001b[39mfilename\n",
      "File \u001b[0;32m/usr/lib/python3.10/subprocess.py:1141\u001b[0m, in \u001b[0;36mPopen.communicate\u001b[0;34m(self, input, timeout)\u001b[0m\n\u001b[1;32m   1139\u001b[0m     \u001b[38;5;28mself\u001b[39m\u001b[38;5;241m.\u001b[39m_stdin_write(\u001b[38;5;28minput\u001b[39m)\n\u001b[1;32m   1140\u001b[0m \u001b[38;5;28;01melif\u001b[39;00m \u001b[38;5;28mself\u001b[39m\u001b[38;5;241m.\u001b[39mstdout:\n\u001b[0;32m-> 1141\u001b[0m     stdout \u001b[38;5;241m=\u001b[39m \u001b[38;5;28;43mself\u001b[39;49m\u001b[38;5;241;43m.\u001b[39;49m\u001b[43mstdout\u001b[49m\u001b[38;5;241;43m.\u001b[39;49m\u001b[43mread\u001b[49m\u001b[43m(\u001b[49m\u001b[43m)\u001b[49m\n\u001b[1;32m   1142\u001b[0m     \u001b[38;5;28mself\u001b[39m\u001b[38;5;241m.\u001b[39mstdout\u001b[38;5;241m.\u001b[39mclose()\n\u001b[1;32m   1143\u001b[0m \u001b[38;5;28;01melif\u001b[39;00m \u001b[38;5;28mself\u001b[39m\u001b[38;5;241m.\u001b[39mstderr:\n",
      "\u001b[0;31mKeyboardInterrupt\u001b[0m: "
     ]
    }
   ],
   "source": [
    "# test_csv = '/media/ubuntu/6156e08b-fdb1-4cde-964e-431f74a6078e/Program/PRA/Github/position_read_analyse_1.3/ALL_IN_ONE/LSD/tau_theta_1e-05.csv'\n",
    "# okr.one_key_run_by_csv_cross_section_main131_simple(test_csv, 1, 1, out_path, main131_path, today, 0)"
   ]
  },
  {
   "cell_type": "code",
   "execution_count": 4,
   "metadata": {},
   "outputs": [
    {
     "name": "stdout",
     "output_type": "stream",
     "text": [
      "CSV file has been split into 4 parts.\n"
     ]
    }
   ],
   "source": [
    "csv_file = '/home/srp/Documents/program/stonerainphilo-Light_scalar_decay/Combined_Code/2HDM-I_A_SHiP_Upp.csv'\n",
    "mp.split_csv_into_different_parts(csv_file, 4)"
   ]
  },
  {
   "cell_type": "code",
   "execution_count": 5,
   "metadata": {},
   "outputs": [
    {
     "name": "stdout",
     "output_type": "stream",
     "text": [
      "2025-09-09_2HDM-S-2\n"
     ]
    }
   ],
   "source": [
    "print(today)"
   ]
  },
  {
   "cell_type": "code",
   "execution_count": null,
   "metadata": {},
   "outputs": [
    {
     "name": "stdout",
     "output_type": "stream",
     "text": [
      "('1.csv', 1, 1, '/home/srp/Documents/LLP_DATA/', '/home/srp/Documents/Pythia8/pythia8315/examples/', '2025-08-23_2HDM-S', 3)\n",
      "('2.csv', 1, 1, '/home/srp/Documents/LLP_DATA/', '/home/srp/Documents/Pythia8/pythia8315/examples/', '2025-08-23_2HDM-S', 3)\n",
      "('3.csv', 1, 1, '/home/srp/Documents/LLP_DATA/', '/home/srp/Documents/Pythia8/pythia8315/examples/', '2025-08-23_2HDM-S', 3)\n",
      "('4.csv', 1, 1, '/home/srp/Documents/LLP_DATA/', '/home/srp/Documents/Pythia8/pythia8315/examples/', '2025-08-23_2HDM-S', 3)\n",
      "Running Simulation...Running Simulation...Running Simulation...Running Simulation...\n",
      "\n",
      "\n",
      "\n"
     ]
    },
    {
     "ename": "KeyError",
     "evalue": "'mA'",
     "output_type": "error",
     "traceback": [
      "\u001b[0;31m---------------------------------------------------------------------------\u001b[0m",
      "\u001b[0;31m_RemoteTraceback\u001b[0m                          Traceback (most recent call last)",
      "\u001b[0;31m_RemoteTraceback\u001b[0m: \n\"\"\"\nTraceback (most recent call last):\n  File \"/usr/local/lib/python3.10/dist-packages/pandas/core/indexes/base.py\", line 3812, in get_loc\n    return self._engine.get_loc(casted_key)\n  File \"pandas/_libs/index.pyx\", line 167, in pandas._libs.index.IndexEngine.get_loc\n  File \"pandas/_libs/index.pyx\", line 196, in pandas._libs.index.IndexEngine.get_loc\n  File \"pandas/_libs/hashtable_class_helper.pxi\", line 7088, in pandas._libs.hashtable.PyObjectHashTable.get_item\n  File \"pandas/_libs/hashtable_class_helper.pxi\", line 7096, in pandas._libs.hashtable.PyObjectHashTable.get_item\nKeyError: 'mA'\n\nThe above exception was the direct cause of the following exception:\n\nTraceback (most recent call last):\n  File \"/usr/lib/python3.10/concurrent/futures/process.py\", line 246, in _process_worker\n    r = call_item.fn(*call_item.args, **call_item.kwargs)\n  File \"/usr/lib/python3.10/concurrent/futures/process.py\", line 205, in _process_chunk\n    return [fn(*args) for args in chunk]\n  File \"/usr/lib/python3.10/concurrent/futures/process.py\", line 205, in <listcomp>\n    return [fn(*args) for args in chunk]\n  File \"/tmp/ipykernel_150341/271568894.py\", line 9, in run_task\n    return okr.one_key_run_2HDMA_cross_section_main131_lower_eff_all_detectors_B(_csv_file, _param1, _param2, _out_path, _main131_path, _date, _sleep_time)\n  File \"/home/srp/Documents/program/position_read_analyse_1.3/ALL_IN_ONE/Pythia8/one_key_run.py\", line 276, in one_key_run_2HDMA_cross_section_main131_lower_eff_all_detectors_B\n    LLP_data_path = lp.loop_2HDM_A(csv_file, br, seed_array, out_put_path, main131_path, sleep_time, today)\n  File \"/home/srp/Documents/program/position_read_analyse_1.3/ALL_IN_ONE/Pythia8/loop.py\", line 200, in loop_2HDM_A\n    total_iterations = seed_amount * len(df['mA'])\n  File \"/usr/local/lib/python3.10/dist-packages/pandas/core/frame.py\", line 4107, in __getitem__\n    indexer = self.columns.get_loc(key)\n  File \"/usr/local/lib/python3.10/dist-packages/pandas/core/indexes/base.py\", line 3819, in get_loc\n    raise KeyError(key) from err\nKeyError: 'mA'\n\"\"\"",
      "\nThe above exception was the direct cause of the following exception:\n",
      "\u001b[0;31mKeyError\u001b[0m                                  Traceback (most recent call last)",
      "Cell \u001b[0;32mIn[8], line 30\u001b[0m\n\u001b[1;32m     28\u001b[0m \u001b[38;5;66;03m# 使用多核并行\u001b[39;00m\n\u001b[1;32m     29\u001b[0m \u001b[38;5;28;01mwith\u001b[39;00m ProcessPoolExecutor(max_workers\u001b[38;5;241m=\u001b[39mnum_cores) \u001b[38;5;28;01mas\u001b[39;00m executor:\n\u001b[0;32m---> 30\u001b[0m     results \u001b[38;5;241m=\u001b[39m \u001b[38;5;28;43mlist\u001b[39;49m\u001b[43m(\u001b[49m\u001b[43mexecutor\u001b[49m\u001b[38;5;241;43m.\u001b[39;49m\u001b[43mmap\u001b[49m\u001b[43m(\u001b[49m\u001b[43mrun_task\u001b[49m\u001b[43m,\u001b[49m\u001b[43m \u001b[49m\u001b[43mtasks\u001b[49m\u001b[43m)\u001b[49m\u001b[43m)\u001b[49m\n\u001b[1;32m     32\u001b[0m \u001b[38;5;66;03m# 打印结果\u001b[39;00m\n\u001b[1;32m     33\u001b[0m \u001b[38;5;28mprint\u001b[39m(\u001b[38;5;124m\"\u001b[39m\u001b[38;5;124mAll tasks completed:\u001b[39m\u001b[38;5;124m\"\u001b[39m, results)\n",
      "File \u001b[0;32m/usr/lib/python3.10/concurrent/futures/process.py:575\u001b[0m, in \u001b[0;36m_chain_from_iterable_of_lists\u001b[0;34m(iterable)\u001b[0m\n\u001b[1;32m    569\u001b[0m \u001b[38;5;28;01mdef\u001b[39;00m\u001b[38;5;250m \u001b[39m\u001b[38;5;21m_chain_from_iterable_of_lists\u001b[39m(iterable):\n\u001b[1;32m    570\u001b[0m \u001b[38;5;250m    \u001b[39m\u001b[38;5;124;03m\"\"\"\u001b[39;00m\n\u001b[1;32m    571\u001b[0m \u001b[38;5;124;03m    Specialized implementation of itertools.chain.from_iterable.\u001b[39;00m\n\u001b[1;32m    572\u001b[0m \u001b[38;5;124;03m    Each item in *iterable* should be a list.  This function is\u001b[39;00m\n\u001b[1;32m    573\u001b[0m \u001b[38;5;124;03m    careful not to keep references to yielded objects.\u001b[39;00m\n\u001b[1;32m    574\u001b[0m \u001b[38;5;124;03m    \"\"\"\u001b[39;00m\n\u001b[0;32m--> 575\u001b[0m     \u001b[38;5;28;01mfor\u001b[39;00m element \u001b[38;5;129;01min\u001b[39;00m iterable:\n\u001b[1;32m    576\u001b[0m         element\u001b[38;5;241m.\u001b[39mreverse()\n\u001b[1;32m    577\u001b[0m         \u001b[38;5;28;01mwhile\u001b[39;00m element:\n",
      "File \u001b[0;32m/usr/lib/python3.10/concurrent/futures/_base.py:621\u001b[0m, in \u001b[0;36mExecutor.map.<locals>.result_iterator\u001b[0;34m()\u001b[0m\n\u001b[1;32m    618\u001b[0m \u001b[38;5;28;01mwhile\u001b[39;00m fs:\n\u001b[1;32m    619\u001b[0m     \u001b[38;5;66;03m# Careful not to keep a reference to the popped future\u001b[39;00m\n\u001b[1;32m    620\u001b[0m     \u001b[38;5;28;01mif\u001b[39;00m timeout \u001b[38;5;129;01mis\u001b[39;00m \u001b[38;5;28;01mNone\u001b[39;00m:\n\u001b[0;32m--> 621\u001b[0m         \u001b[38;5;28;01myield\u001b[39;00m \u001b[43m_result_or_cancel\u001b[49m\u001b[43m(\u001b[49m\u001b[43mfs\u001b[49m\u001b[38;5;241;43m.\u001b[39;49m\u001b[43mpop\u001b[49m\u001b[43m(\u001b[49m\u001b[43m)\u001b[49m\u001b[43m)\u001b[49m\n\u001b[1;32m    622\u001b[0m     \u001b[38;5;28;01melse\u001b[39;00m:\n\u001b[1;32m    623\u001b[0m         \u001b[38;5;28;01myield\u001b[39;00m _result_or_cancel(fs\u001b[38;5;241m.\u001b[39mpop(), end_time \u001b[38;5;241m-\u001b[39m time\u001b[38;5;241m.\u001b[39mmonotonic())\n",
      "File \u001b[0;32m/usr/lib/python3.10/concurrent/futures/_base.py:319\u001b[0m, in \u001b[0;36m_result_or_cancel\u001b[0;34m(***failed resolving arguments***)\u001b[0m\n\u001b[1;32m    317\u001b[0m \u001b[38;5;28;01mtry\u001b[39;00m:\n\u001b[1;32m    318\u001b[0m     \u001b[38;5;28;01mtry\u001b[39;00m:\n\u001b[0;32m--> 319\u001b[0m         \u001b[38;5;28;01mreturn\u001b[39;00m \u001b[43mfut\u001b[49m\u001b[38;5;241;43m.\u001b[39;49m\u001b[43mresult\u001b[49m\u001b[43m(\u001b[49m\u001b[43mtimeout\u001b[49m\u001b[43m)\u001b[49m\n\u001b[1;32m    320\u001b[0m     \u001b[38;5;28;01mfinally\u001b[39;00m:\n\u001b[1;32m    321\u001b[0m         fut\u001b[38;5;241m.\u001b[39mcancel()\n",
      "File \u001b[0;32m/usr/lib/python3.10/concurrent/futures/_base.py:458\u001b[0m, in \u001b[0;36mFuture.result\u001b[0;34m(self, timeout)\u001b[0m\n\u001b[1;32m    456\u001b[0m     \u001b[38;5;28;01mraise\u001b[39;00m CancelledError()\n\u001b[1;32m    457\u001b[0m \u001b[38;5;28;01melif\u001b[39;00m \u001b[38;5;28mself\u001b[39m\u001b[38;5;241m.\u001b[39m_state \u001b[38;5;241m==\u001b[39m FINISHED:\n\u001b[0;32m--> 458\u001b[0m     \u001b[38;5;28;01mreturn\u001b[39;00m \u001b[38;5;28;43mself\u001b[39;49m\u001b[38;5;241;43m.\u001b[39;49m\u001b[43m__get_result\u001b[49m\u001b[43m(\u001b[49m\u001b[43m)\u001b[49m\n\u001b[1;32m    459\u001b[0m \u001b[38;5;28;01melse\u001b[39;00m:\n\u001b[1;32m    460\u001b[0m     \u001b[38;5;28;01mraise\u001b[39;00m \u001b[38;5;167;01mTimeoutError\u001b[39;00m()\n",
      "File \u001b[0;32m/usr/lib/python3.10/concurrent/futures/_base.py:403\u001b[0m, in \u001b[0;36mFuture.__get_result\u001b[0;34m(self)\u001b[0m\n\u001b[1;32m    401\u001b[0m \u001b[38;5;28;01mif\u001b[39;00m \u001b[38;5;28mself\u001b[39m\u001b[38;5;241m.\u001b[39m_exception:\n\u001b[1;32m    402\u001b[0m     \u001b[38;5;28;01mtry\u001b[39;00m:\n\u001b[0;32m--> 403\u001b[0m         \u001b[38;5;28;01mraise\u001b[39;00m \u001b[38;5;28mself\u001b[39m\u001b[38;5;241m.\u001b[39m_exception\n\u001b[1;32m    404\u001b[0m     \u001b[38;5;28;01mfinally\u001b[39;00m:\n\u001b[1;32m    405\u001b[0m         \u001b[38;5;66;03m# Break a reference cycle with the exception in self._exception\u001b[39;00m\n\u001b[1;32m    406\u001b[0m         \u001b[38;5;28mself\u001b[39m \u001b[38;5;241m=\u001b[39m \u001b[38;5;28;01mNone\u001b[39;00m\n",
      "\u001b[0;31mKeyError\u001b[0m: 'mA'"
     ]
    }
   ],
   "source": [
    "from concurrent.futures import ProcessPoolExecutor\n",
    "import os\n",
    "\n",
    "# 假设 okr.one_key_run_by_csv_cross_section_main131 是你要并行运行的函数\n",
    "from concurrent.futures import ProcessPoolExecutor\n",
    "\n",
    "def run_task(args):\n",
    "    _csv_file, _param1, _param2, _out_path, _main131_path, _date, _sleep_time = args\n",
    "    return okr.run_Only_2HDMA_main131_SHiP(_csv_file, _param1, _param2, _out_path, _main131_path, _date, _sleep_time)\n",
    "\n",
    "if __name__ == \"__main__\":\n",
    "    # 自定义 CPU 核心数量\n",
    "    num_cores = 4  # 你可以将此值改为你想使用的核心数量\n",
    "\n",
    "    # 定义任务参数\n",
    "    # out_path = \"output_path\"  # 替换为实际的输出路径\n",
    "    # main131_path = \"main131_path\"  # 替换为实际的路径\n",
    "\n",
    "    tasks = [\n",
    "        (f\"{i+1}.csv\", 1, 1, out_path, main131_path, today, 3)  # 生成任务参数\n",
    "        for i in range(num_cores)  # 根据自定义核心数生成任务\n",
    "    ]\n",
    "\n",
    "    # 打印生成的任务\n",
    "    for task in tasks:\n",
    "        print(task)\n",
    "\n",
    "    # 使用多核并行\n",
    "    with ProcessPoolExecutor(max_workers=num_cores) as executor:\n",
    "        results = list(executor.map(run_task, tasks))\n",
    "\n",
    "    # 打印结果\n",
    "    print(\"All tasks completed:\", results)\n",
    "\n",
    "\n",
    "run_task((csv_file, 1, 1, out_path, main131_path, today, 0))"
   ]
  },
  {
   "cell_type": "code",
   "execution_count": null,
   "metadata": {},
   "outputs": [
    {
     "name": "stdout",
     "output_type": "stream",
     "text": [
      "('1.csv', 1, 1, '/home/srp/Documents/LLP_DATA/', '/home/srp/Documents/Pythia8/pythia8315/examples/', '2025-09-08_2HDM-S-2', 0)\n",
      "('2.csv', 1, 1, '/home/srp/Documents/LLP_DATA/', '/home/srp/Documents/Pythia8/pythia8315/examples/', '2025-09-08_2HDM-S-2', 0)\n",
      "('3.csv', 1, 1, '/home/srp/Documents/LLP_DATA/', '/home/srp/Documents/Pythia8/pythia8315/examples/', '2025-09-08_2HDM-S-2', 0)\n",
      "('4.csv', 1, 1, '/home/srp/Documents/LLP_DATA/', '/home/srp/Documents/Pythia8/pythia8315/examples/', '2025-09-08_2HDM-S-2', 0)\n"
     ]
    },
    {
     "name": "stdout",
     "output_type": "stream",
     "text": [
      "Running Simulation...Running Simulation...Running Simulation...\n",
      "\n",
      "Running Simulation...\n",
      "\n"
     ]
    },
    {
     "name": "stderr",
     "output_type": "stream",
     "text": [
      "100%|██████████| 97/97 [12:22<00:00,  7.65s/it]\n"
     ]
    },
    {
     "name": "stdout",
     "output_type": "stream",
     "text": [
      "The Generation of LLPs is Completed\n"
     ]
    },
    {
     "name": "stderr",
     "output_type": "stream",
     "text": [
      "  0%|          | 0/385 [00:00<?, ?it/s]"
     ]
    },
    {
     "name": "stdout",
     "output_type": "stream",
     "text": [
      "Error with file: /home/srp/Documents/LLP_DATA/2025-09-08_2HDM-S-2/LLP_data/mass_1.41e+00_ctau_1.01e+06_br_1.00e+00_seed_811007.csv\n",
      "Error message: operands could not be broadcast together with shapes (4,) (3,) \n"
     ]
    },
    {
     "name": "stderr",
     "output_type": "stream",
     "text": [
      "  0%|          | 1/385 [00:00<01:48,  3.55it/s]"
     ]
    },
    {
     "name": "stdout",
     "output_type": "stream",
     "text": [
      "Error with file: /home/srp/Documents/LLP_DATA/2025-09-08_2HDM-S-2/LLP_data/mass_1.78e+00_ctau_7.96e+04_br_1.00e+00_seed_811007.csv\n",
      "Error message: operands could not be broadcast together with shapes (4,) (3,) \n"
     ]
    },
    {
     "name": "stderr",
     "output_type": "stream",
     "text": [
      "  1%|          | 2/385 [00:00<01:33,  4.09it/s]"
     ]
    },
    {
     "name": "stdout",
     "output_type": "stream",
     "text": [
      "Error with file: /home/srp/Documents/LLP_DATA/2025-09-08_2HDM-S-2/LLP_data/mass_1.41e+00_ctau_2.53e+02_br_1.00e+00_seed_811007.csv\n",
      "Error message: operands could not be broadcast together with shapes (4,) (3,) \n"
     ]
    },
    {
     "name": "stderr",
     "output_type": "stream",
     "text": [
      "  1%|          | 3/385 [00:00<01:31,  4.16it/s]"
     ]
    },
    {
     "name": "stdout",
     "output_type": "stream",
     "text": [
      "Error with file: /home/srp/Documents/LLP_DATA/2025-09-08_2HDM-S-2/LLP_data/mass_1.00e+00_ctau_6.88e-01_br_1.00e+00_seed_191632.csv\n",
      "Error message: operands could not be broadcast together with shapes (4,) (3,) \n"
     ]
    },
    {
     "name": "stderr",
     "output_type": "stream",
     "text": [
      " 99%|█████████▉| 97/98 [12:23<00:07,  7.75s/it]"
     ]
    },
    {
     "name": "stdout",
     "output_type": "stream",
     "text": [
      "Error with file: /home/srp/Documents/LLP_DATA/2025-09-08_2HDM-S-2/LLP_data/mass_3.16e-01_ctau_1.35e+02_br_1.00e+00_seed_517997.csv\n",
      "Error message: operands could not be broadcast together with shapes (4,) (3,) \n"
     ]
    },
    {
     "name": "stderr",
     "output_type": "stream",
     "text": [
      "  1%|▏         | 5/385 [00:01<01:37,  3.88it/s]"
     ]
    },
    {
     "name": "stdout",
     "output_type": "stream",
     "text": [
      "Error with file: /home/srp/Documents/LLP_DATA/2025-09-08_2HDM-S-2/LLP_data/mass_1.00e+00_ctau_1.73e+00_br_1.00e+00_seed_191632.csv\n",
      "Error message: operands could not be broadcast together with shapes (4,) (3,) \n"
     ]
    },
    {
     "name": "stderr",
     "output_type": "stream",
     "text": [
      "  2%|▏         | 6/385 [00:01<01:33,  4.05it/s]"
     ]
    },
    {
     "name": "stdout",
     "output_type": "stream",
     "text": [
      "Error with file: /home/srp/Documents/LLP_DATA/2025-09-08_2HDM-S-2/LLP_data/mass_1.58e+00_ctau_6.75e+06_br_1.00e+00_seed_811007.csv\n",
      "Error message: operands could not be broadcast together with shapes (4,) (3,) \n"
     ]
    },
    {
     "name": "stderr",
     "output_type": "stream",
     "text": [
      "  2%|▏         | 7/385 [00:01<01:31,  4.15it/s]"
     ]
    },
    {
     "name": "stdout",
     "output_type": "stream",
     "text": [
      "Error with file: /home/srp/Documents/LLP_DATA/2025-09-08_2HDM-S-2/LLP_data/mass_5.01e-01_ctau_2.98e+05_br_1.00e+00_seed_736715.csv\n",
      "Error message: operands could not be broadcast together with shapes (4,) (3,) \n"
     ]
    },
    {
     "name": "stderr",
     "output_type": "stream",
     "text": [
      "  2%|▏         | 8/385 [00:02<01:45,  3.56it/s]"
     ]
    },
    {
     "name": "stdout",
     "output_type": "stream",
     "text": [
      "Error with file: /home/srp/Documents/LLP_DATA/2025-09-08_2HDM-S-2/LLP_data/mass_1.58e+00_ctau_6.75e+00_br_1.00e+00_seed_811007.csv\n",
      "Error message: operands could not be broadcast together with shapes (4,) (3,) \n"
     ]
    },
    {
     "name": "stderr",
     "output_type": "stream",
     "text": [
      "  2%|▏         | 9/385 [00:02<01:37,  3.85it/s]"
     ]
    },
    {
     "name": "stdout",
     "output_type": "stream",
     "text": [
      "Error with file: /home/srp/Documents/LLP_DATA/2025-09-08_2HDM-S-2/LLP_data/mass_7.08e-01_ctau_3.13e+03_br_1.00e+00_seed_736715.csv\n",
      "Error message: operands could not be broadcast together with shapes (4,) (3,) \n"
     ]
    },
    {
     "name": "stderr",
     "output_type": "stream",
     "text": [
      "  3%|▎         | 10/385 [00:02<01:33,  4.00it/s]"
     ]
    },
    {
     "name": "stdout",
     "output_type": "stream",
     "text": [
      "Error with file: /home/srp/Documents/LLP_DATA/2025-09-08_2HDM-S-2/LLP_data/mass_6.31e-01_ctau_4.34e+03_br_1.00e+00_seed_736715.csv\n",
      "Error message: operands could not be broadcast together with shapes (4,) (3,) \n"
     ]
    },
    {
     "name": "stderr",
     "output_type": "stream",
     "text": [
      " 99%|█████████▉| 97/98 [12:25<00:07,  7.90s/it]]"
     ]
    },
    {
     "name": "stdout",
     "output_type": "stream",
     "text": [
      "Error with file: /home/srp/Documents/LLP_DATA/2025-09-08_2HDM-S-2/LLP_data/mass_3.55e-01_ctau_2.19e+08_br_1.00e+00_seed_517997.csv\n",
      "Error message: operands could not be broadcast together with shapes (4,) (3,) \n"
     ]
    },
    {
     "name": "stderr",
     "output_type": "stream",
     "text": [
      "  3%|▎         | 12/385 [00:03<01:37,  3.83it/s]"
     ]
    },
    {
     "name": "stdout",
     "output_type": "stream",
     "text": [
      "Error with file: /home/srp/Documents/LLP_DATA/2025-09-08_2HDM-S-2/LLP_data/mass_7.94e-01_ctau_2.05e-01_br_1.00e+00_seed_191632.csv\n",
      "Error message: operands could not be broadcast together with shapes (4,) (3,) \n"
     ]
    },
    {
     "name": "stderr",
     "output_type": "stream",
     "text": [
      " 99%|█████████▉| 97/98 [12:25<00:07,  7.92s/it]]"
     ]
    },
    {
     "name": "stdout",
     "output_type": "stream",
     "text": [
      "Error with file: /home/srp/Documents/LLP_DATA/2025-09-08_2HDM-S-2/LLP_data/mass_1.12e+00_ctau_2.17e+00_br_1.00e+00_seed_191632.csv\n",
      "Error message: operands could not be broadcast together with shapes (4,) (3,) \n"
     ]
    },
    {
     "name": "stderr",
     "output_type": "stream",
     "text": [
      "  4%|▎         | 14/385 [00:03<01:33,  3.99it/s]"
     ]
    },
    {
     "name": "stdout",
     "output_type": "stream",
     "text": [
      "Error with file: /home/srp/Documents/LLP_DATA/2025-09-08_2HDM-S-2/LLP_data/mass_5.01e-01_ctau_1.18e+05_br_1.00e+00_seed_736715.csv\n",
      "Error message: operands could not be broadcast together with shapes (4,) (3,) \n"
     ]
    },
    {
     "name": "stderr",
     "output_type": "stream",
     "text": [
      "  4%|▍         | 15/385 [00:03<01:30,  4.10it/s]"
     ]
    },
    {
     "name": "stdout",
     "output_type": "stream",
     "text": [
      "Error with file: /home/srp/Documents/LLP_DATA/2025-09-08_2HDM-S-2/LLP_data/mass_3.98e-01_ctau_9.21e+00_br_1.00e+00_seed_517997.csv\n",
      "Error message: operands could not be broadcast together with shapes (4,) (3,) \n"
     ]
    },
    {
     "name": "stderr",
     "output_type": "stream",
     "text": [
      "  4%|▍         | 16/385 [00:04<01:32,  3.99it/s]"
     ]
    },
    {
     "name": "stdout",
     "output_type": "stream",
     "text": [
      "Error with file: /home/srp/Documents/LLP_DATA/2025-09-08_2HDM-S-2/LLP_data/mass_5.01e-01_ctau_1.18e+07_br_1.00e+00_seed_517997.csv\n",
      "Error message: operands could not be broadcast together with shapes (4,) (3,) \n"
     ]
    },
    {
     "name": "stderr",
     "output_type": "stream",
     "text": [
      "  4%|▍         | 17/385 [00:04<01:29,  4.10it/s]"
     ]
    },
    {
     "name": "stdout",
     "output_type": "stream",
     "text": [
      "Error with file: /home/srp/Documents/LLP_DATA/2025-09-08_2HDM-S-2/LLP_data/mass_2.00e+00_ctau_5.05e+01_br_1.00e+00_seed_811007.csv\n",
      "Error message: operands could not be broadcast together with shapes (4,) (3,) \n"
     ]
    },
    {
     "name": "stderr",
     "output_type": "stream",
     "text": [
      "  5%|▍         | 18/385 [00:04<01:25,  4.29it/s]"
     ]
    },
    {
     "name": "stdout",
     "output_type": "stream",
     "text": [
      "Error with file: /home/srp/Documents/LLP_DATA/2025-09-08_2HDM-S-2/LLP_data/mass_1.00e+00_ctau_1.73e+04_br_1.00e+00_seed_191632.csv\n",
      "Error message: operands could not be broadcast together with shapes (4,) (3,) \n"
     ]
    },
    {
     "name": "stderr",
     "output_type": "stream",
     "text": [
      "  5%|▍         | 19/385 [00:04<01:23,  4.36it/s]"
     ]
    },
    {
     "name": "stdout",
     "output_type": "stream",
     "text": [
      "Error with file: /home/srp/Documents/LLP_DATA/2025-09-08_2HDM-S-2/LLP_data/mass_1.26e+00_ctau_1.68e-01_br_1.00e+00_seed_811007.csv\n",
      "Error message: operands could not be broadcast together with shapes (4,) (3,) \n"
     ]
    },
    {
     "name": "stderr",
     "output_type": "stream",
     "text": [
      "  5%|▌         | 20/385 [00:05<01:36,  3.78it/s]"
     ]
    },
    {
     "name": "stdout",
     "output_type": "stream",
     "text": [
      "Error with file: /home/srp/Documents/LLP_DATA/2025-09-08_2HDM-S-2/LLP_data/mass_5.62e-01_ctau_1.46e+00_br_1.00e+00_seed_736715.csv\n",
      "Error message: operands could not be broadcast together with shapes (4,) (3,) \n"
     ]
    },
    {
     "name": "stderr",
     "output_type": "stream",
     "text": [
      "  5%|▌         | 21/385 [00:05<01:36,  3.78it/s]"
     ]
    },
    {
     "name": "stdout",
     "output_type": "stream",
     "text": [
      "Error with file: /home/srp/Documents/LLP_DATA/2025-09-08_2HDM-S-2/LLP_data/mass_6.31e-01_ctau_6.88e+06_br_1.00e+00_seed_736715.csv\n",
      "Error message: operands could not be broadcast together with shapes (4,) (3,) \n"
     ]
    },
    {
     "name": "stderr",
     "output_type": "stream",
     "text": [
      "  6%|▌         | 22/385 [00:05<01:39,  3.65it/s]"
     ]
    },
    {
     "name": "stdout",
     "output_type": "stream",
     "text": [
      "Error with file: /home/srp/Documents/LLP_DATA/2025-09-08_2HDM-S-2/LLP_data/mass_1.78e+00_ctau_7.96e-02_br_1.00e+00_seed_811007.csv\n",
      "Error message: operands could not be broadcast together with shapes (4,) (3,) \n"
     ]
    },
    {
     "name": "stderr",
     "output_type": "stream",
     "text": [
      "  6%|▌         | 23/385 [00:05<01:33,  3.85it/s]"
     ]
    },
    {
     "name": "stdout",
     "output_type": "stream",
     "text": [
      "Error with file: /home/srp/Documents/LLP_DATA/2025-09-08_2HDM-S-2/LLP_data/mass_5.62e-01_ctau_1.46e+04_br_1.00e+00_seed_736715.csv\n",
      "Error message: operands could not be broadcast together with shapes (4,) (3,) \n"
     ]
    },
    {
     "name": "stderr",
     "output_type": "stream",
     "text": [
      "  6%|▌         | 24/385 [00:06<01:38,  3.68it/s]"
     ]
    },
    {
     "name": "stdout",
     "output_type": "stream",
     "text": [
      "Error with file: /home/srp/Documents/LLP_DATA/2025-09-08_2HDM-S-2/LLP_data/mass_3.98e-01_ctau_2.31e+05_br_1.00e+00_seed_517997.csv\n",
      "Error message: operands could not be broadcast together with shapes (4,) (3,) \n"
     ]
    },
    {
     "name": "stderr",
     "output_type": "stream",
     "text": [
      "  6%|▋         | 25/385 [00:06<01:37,  3.71it/s]"
     ]
    },
    {
     "name": "stdout",
     "output_type": "stream",
     "text": [
      "Error with file: /home/srp/Documents/LLP_DATA/2025-09-08_2HDM-S-2/LLP_data/mass_5.01e-01_ctau_2.98e+07_br_1.00e+00_seed_517997.csv\n",
      "Error message: operands could not be broadcast together with shapes (4,) (3,) \n"
     ]
    },
    {
     "name": "stderr",
     "output_type": "stream",
     "text": [
      "  7%|▋         | 26/385 [00:06<01:30,  3.95it/s]"
     ]
    },
    {
     "name": "stdout",
     "output_type": "stream",
     "text": [
      "Error with file: /home/srp/Documents/LLP_DATA/2025-09-08_2HDM-S-2/LLP_data/mass_3.16e-01_ctau_2.14e+01_br_1.00e+00_seed_517997.csv\n",
      "Error message: operands could not be broadcast together with shapes (4,) (3,) \n"
     ]
    },
    {
     "name": "stderr",
     "output_type": "stream",
     "text": [
      "  7%|▋         | 27/385 [00:06<01:35,  3.76it/s]"
     ]
    },
    {
     "name": "stdout",
     "output_type": "stream",
     "text": [
      "Error with file: /home/srp/Documents/LLP_DATA/2025-09-08_2HDM-S-2/LLP_data/mass_1.00e+00_ctau_2.74e+05_br_1.00e+00_seed_191632.csv\n",
      "Error message: operands could not be broadcast together with shapes (4,) (3,) \n"
     ]
    },
    {
     "name": "stderr",
     "output_type": "stream",
     "text": [
      "  7%|▋         | 28/385 [00:07<01:32,  3.84it/s]"
     ]
    },
    {
     "name": "stdout",
     "output_type": "stream",
     "text": [
      "Error with file: /home/srp/Documents/LLP_DATA/2025-09-08_2HDM-S-2/LLP_data/mass_3.55e-01_ctau_3.47e+07_br_1.00e+00_seed_517997.csv\n",
      "Error message: operands could not be broadcast together with shapes (4,) (3,) \n"
     ]
    },
    {
     "name": "stderr",
     "output_type": "stream",
     "text": [
      "  8%|▊         | 29/385 [00:07<01:32,  3.85it/s]"
     ]
    },
    {
     "name": "stdout",
     "output_type": "stream",
     "text": [
      "Error with file: /home/srp/Documents/LLP_DATA/2025-09-08_2HDM-S-2/LLP_data/mass_8.91e-01_ctau_9.07e+02_br_1.00e+00_seed_191632.csv\n",
      "Error message: operands could not be broadcast together with shapes (4,) (3,) \n"
     ]
    },
    {
     "name": "stderr",
     "output_type": "stream",
     "text": [
      "  8%|▊         | 30/385 [00:07<01:33,  3.80it/s]"
     ]
    },
    {
     "name": "stdout",
     "output_type": "stream",
     "text": [
      "Error with file: /home/srp/Documents/LLP_DATA/2025-09-08_2HDM-S-2/LLP_data/mass_2.00e+00_ctau_1.27e+02_br_1.00e+00_seed_811007.csv\n",
      "Error message: operands could not be broadcast together with shapes (4,) (3,) \n"
     ]
    },
    {
     "name": "stderr",
     "output_type": "stream",
     "text": [
      "  8%|▊         | 31/385 [00:08<01:51,  3.17it/s]"
     ]
    },
    {
     "name": "stdout",
     "output_type": "stream",
     "text": [
      "Error with file: /home/srp/Documents/LLP_DATA/2025-09-08_2HDM-S-2/LLP_data/mass_8.91e-01_ctau_1.44e-02_br_1.00e+00_seed_191632.csv\n",
      "Error message: operands could not be broadcast together with shapes (4,) (3,) \n"
     ]
    },
    {
     "name": "stderr",
     "output_type": "stream",
     "text": [
      "  8%|▊         | 32/385 [00:08<01:47,  3.27it/s]"
     ]
    },
    {
     "name": "stdout",
     "output_type": "stream",
     "text": [
      "Error with file: /home/srp/Documents/LLP_DATA/2025-09-08_2HDM-S-2/LLP_data/mass_1.00e+00_ctau_4.34e+04_br_1.00e+00_seed_191632.csv\n",
      "Error message: operands could not be broadcast together with shapes (4,) (3,) \n"
     ]
    },
    {
     "name": "stderr",
     "output_type": "stream",
     "text": [
      "  9%|▊         | 33/385 [00:08<01:41,  3.46it/s]"
     ]
    },
    {
     "name": "stdout",
     "output_type": "stream",
     "text": [
      "Error with file: /home/srp/Documents/LLP_DATA/2025-09-08_2HDM-S-2/LLP_data/mass_3.98e-01_ctau_1.46e+00_br_1.00e+00_seed_517997.csv\n",
      "Error message: operands could not be broadcast together with shapes (4,) (3,) \n"
     ]
    },
    {
     "name": "stderr",
     "output_type": "stream",
     "text": [
      "  9%|▉         | 34/385 [00:08<01:36,  3.63it/s]"
     ]
    },
    {
     "name": "stdout",
     "output_type": "stream",
     "text": [
      "Error with file: /home/srp/Documents/LLP_DATA/2025-09-08_2HDM-S-2/LLP_data/mass_1.00e+00_ctau_1.73e+02_br_1.00e+00_seed_191632.csv\n",
      "Error message: operands could not be broadcast together with shapes (4,) (3,) \n"
     ]
    },
    {
     "name": "stderr",
     "output_type": "stream",
     "text": [
      "  9%|▉         | 35/385 [00:09<01:37,  3.58it/s]"
     ]
    },
    {
     "name": "stdout",
     "output_type": "stream",
     "text": [
      "Error with file: /home/srp/Documents/LLP_DATA/2025-09-08_2HDM-S-2/LLP_data/mass_1.78e+00_ctau_3.17e+04_br_1.00e+00_seed_811007.csv\n",
      "Error message: operands could not be broadcast together with shapes (4,) (3,) \n"
     ]
    },
    {
     "name": "stderr",
     "output_type": "stream",
     "text": [
      "  9%|▉         | 36/385 [00:09<01:31,  3.83it/s]"
     ]
    },
    {
     "name": "stdout",
     "output_type": "stream",
     "text": [
      "Error with file: /home/srp/Documents/LLP_DATA/2025-09-08_2HDM-S-2/LLP_data/mass_1.58e+00_ctau_2.69e+00_br_1.00e+00_seed_811007.csv\n",
      "Error message: operands could not be broadcast together with shapes (4,) (3,) \n"
     ]
    },
    {
     "name": "stderr",
     "output_type": "stream",
     "text": [
      " 10%|▉         | 37/385 [00:09<01:28,  3.94it/s]"
     ]
    },
    {
     "name": "stdout",
     "output_type": "stream",
     "text": [
      "Error with file: /home/srp/Documents/LLP_DATA/2025-09-08_2HDM-S-2/LLP_data/mass_1.12e+00_ctau_8.65e+03_br_1.00e+00_seed_191632.csv\n",
      "Error message: operands could not be broadcast together with shapes (4,) (3,) \n"
     ]
    },
    {
     "name": "stderr",
     "output_type": "stream",
     "text": [
      "100%|██████████| 98/98 [12:32<00:00,  7.68s/it]]\n"
     ]
    },
    {
     "name": "stdout",
     "output_type": "stream",
     "text": [
      "The Generation of LLPs is Completed\n"
     ]
    },
    {
     "name": "stderr",
     "output_type": "stream",
     "text": [
      "  0%|          | 0/389 [00:00<?, ?it/s]"
     ]
    },
    {
     "name": "stdout",
     "output_type": "stream",
     "text": [
      "Error with file: /home/srp/Documents/LLP_DATA/2025-09-08_2HDM-S-2/LLP_data/mass_1.41e+00_ctau_4.00e+01_br_1.00e+00_seed_811007.csv\n",
      "Error message: operands could not be broadcast together with shapes (4,) (3,) \n"
     ]
    },
    {
     "name": "stderr",
     "output_type": "stream",
     "text": [
      " 10%|█         | 39/385 [00:10<01:49,  3.15it/s]"
     ]
    },
    {
     "name": "stdout",
     "output_type": "stream",
     "text": [
      "Error with file: /home/srp/Documents/LLP_DATA/2025-09-08_2HDM-S-2/LLP_data/mass_1.41e+00_ctau_1.01e+06_br_1.00e+00_seed_811007.csv\n",
      "Error message: operands could not be broadcast together with shapes (4,) (3,) \n"
     ]
    },
    {
     "name": "stderr",
     "output_type": "stream",
     "text": [
      "  0%|          | 1/389 [00:00<02:55,  2.21it/s]"
     ]
    },
    {
     "name": "stdout",
     "output_type": "stream",
     "text": [
      "Error with file: /home/srp/Documents/LLP_DATA/2025-09-08_2HDM-S-2/LLP_data/mass_7.94e-01_ctau_5.15e+05_br_1.00e+00_seed_736715.csv\n",
      "Error message: operands could not be broadcast together with shapes (4,) (3,) \n"
     ]
    },
    {
     "name": "stderr",
     "output_type": "stream",
     "text": [
      " 10%|█         | 40/385 [00:10<01:58,  2.92it/s]"
     ]
    },
    {
     "name": "stdout",
     "output_type": "stream",
     "text": [
      "Error with file: /home/srp/Documents/LLP_DATA/2025-09-08_2HDM-S-2/LLP_data/mass_1.78e+00_ctau_7.96e+04_br_1.00e+00_seed_811007.csv\n",
      "Error message: operands could not be broadcast together with shapes (4,) (3,) \n"
     ]
    },
    {
     "name": "stderr",
     "output_type": "stream",
     "text": [
      "  1%|          | 2/389 [00:00<02:27,  2.62it/s]"
     ]
    },
    {
     "name": "stdout",
     "output_type": "stream",
     "text": [
      "Error with file: /home/srp/Documents/LLP_DATA/2025-09-08_2HDM-S-2/LLP_data/mass_1.78e+00_ctau_7.96e+06_br_1.00e+00_seed_811007.csv\n",
      "Error message: operands could not be broadcast together with shapes (4,) (3,) \n"
     ]
    },
    {
     "name": "stderr",
     "output_type": "stream",
     "text": [
      " 11%|█         | 41/385 [00:11<02:06,  2.71it/s]"
     ]
    },
    {
     "name": "stdout",
     "output_type": "stream",
     "text": [
      "Error with file: /home/srp/Documents/LLP_DATA/2025-09-08_2HDM-S-2/LLP_data/mass_1.41e+00_ctau_2.53e+02_br_1.00e+00_seed_811007.csv\n",
      "Error message: operands could not be broadcast together with shapes (4,) (3,) \n"
     ]
    },
    {
     "name": "stderr",
     "output_type": "stream",
     "text": [
      "  1%|          | 3/389 [00:01<02:31,  2.54it/s]"
     ]
    },
    {
     "name": "stdout",
     "output_type": "stream",
     "text": [
      "Error with file: /home/srp/Documents/LLP_DATA/2025-09-08_2HDM-S-2/LLP_data/mass_5.62e-01_ctau_3.67e+04_br_1.00e+00_seed_736715.csv\n",
      "Error message: operands could not be broadcast together with shapes (4,) (3,) \n"
     ]
    },
    {
     "name": "stderr",
     "output_type": "stream",
     "text": [
      " 11%|█         | 42/385 [00:11<02:01,  2.83it/s]"
     ]
    },
    {
     "name": "stdout",
     "output_type": "stream",
     "text": [
      "Error with file: /home/srp/Documents/LLP_DATA/2025-09-08_2HDM-S-2/LLP_data/mass_1.00e+00_ctau_6.88e-01_br_1.00e+00_seed_191632.csv\n",
      "Error message: operands could not be broadcast together with shapes (4,) (3,) \n"
     ]
    },
    {
     "name": "stderr",
     "output_type": "stream",
     "text": [
      "  1%|          | 4/389 [00:01<02:19,  2.75it/s]"
     ]
    },
    {
     "name": "stdout",
     "output_type": "stream",
     "text": [
      "Error with file: /home/srp/Documents/LLP_DATA/2025-09-08_2HDM-S-2/LLP_data/mass_3.55e-01_ctau_1.38e+03_br_1.00e+00_seed_517997.csv\n",
      "Error message: operands could not be broadcast together with shapes (4,) (3,) \n"
     ]
    },
    {
     "name": "stderr",
     "output_type": "stream",
     "text": [
      " 11%|█         | 43/385 [00:11<01:58,  2.89it/s]"
     ]
    },
    {
     "name": "stdout",
     "output_type": "stream",
     "text": [
      "Error with file: /home/srp/Documents/LLP_DATA/2025-09-08_2HDM-S-2/LLP_data/mass_3.16e-01_ctau_1.35e+02_br_1.00e+00_seed_517997.csv\n",
      "Error message: operands could not be broadcast together with shapes (4,) (3,) \n"
     ]
    },
    {
     "name": "stderr",
     "output_type": "stream",
     "text": [
      "  1%|▏         | 5/389 [00:01<02:14,  2.86it/s]"
     ]
    },
    {
     "name": "stdout",
     "output_type": "stream",
     "text": [
      "Error with file: /home/srp/Documents/LLP_DATA/2025-09-08_2HDM-S-2/LLP_data/mass_3.55e-01_ctau_3.47e+05_br_1.00e+00_seed_517997.csv\n",
      "Error message: operands could not be broadcast together with shapes (4,) (3,) \n"
     ]
    },
    {
     "name": "stderr",
     "output_type": "stream",
     "text": [
      " 11%|█▏        | 44/385 [00:12<01:57,  2.90it/s]"
     ]
    },
    {
     "name": "stdout",
     "output_type": "stream",
     "text": [
      "Error with file: /home/srp/Documents/LLP_DATA/2025-09-08_2HDM-S-2/LLP_data/mass_1.00e+00_ctau_1.73e+00_br_1.00e+00_seed_191632.csv\n",
      "Error message: operands could not be broadcast together with shapes (4,) (3,) \n"
     ]
    },
    {
     "name": "stderr",
     "output_type": "stream",
     "text": [
      "  2%|▏         | 6/389 [00:02<02:06,  3.03it/s]"
     ]
    },
    {
     "name": "stdout",
     "output_type": "stream",
     "text": [
      "Error with file: /home/srp/Documents/LLP_DATA/2025-09-08_2HDM-S-2/LLP_data/mass_3.55e-01_ctau_5.50e+02_br_1.00e+00_seed_517997.csv\n",
      "Error message: operands could not be broadcast together with shapes (4,) (3,) \n"
     ]
    },
    {
     "name": "stderr",
     "output_type": "stream",
     "text": [
      " 12%|█▏        | 45/385 [00:12<01:49,  3.11it/s]"
     ]
    },
    {
     "name": "stdout",
     "output_type": "stream",
     "text": [
      "Error with file: /home/srp/Documents/LLP_DATA/2025-09-08_2HDM-S-2/LLP_data/mass_1.58e+00_ctau_6.75e+06_br_1.00e+00_seed_811007.csv\n",
      "Error message: operands could not be broadcast together with shapes (4,) (3,) \n"
     ]
    },
    {
     "name": "stderr",
     "output_type": "stream",
     "text": [
      "100%|██████████| 98/98 [12:35<00:00,  7.71s/it]\n"
     ]
    },
    {
     "name": "stdout",
     "output_type": "stream",
     "text": [
      "The Generation of LLPs is Completed\n"
     ]
    },
    {
     "name": "stderr",
     "output_type": "stream",
     "text": [
      "  0%|          | 0/391 [00:00<?, ?it/s]"
     ]
    },
    {
     "name": "stdout",
     "output_type": "stream",
     "text": [
      "Error with file: /home/srp/Documents/LLP_DATA/2025-09-08_2HDM-S-2/LLP_data/mass_1.41e+00_ctau_6.34e+00_br_1.00e+00_seed_811007.csv\n",
      "Error message: operands could not be broadcast together with shapes (4,) (3,) \n"
     ]
    },
    {
     "name": "stderr",
     "output_type": "stream",
     "text": [
      " 12%|█▏        | 46/385 [00:12<01:52,  3.00it/s]"
     ]
    },
    {
     "name": "stdout",
     "output_type": "stream",
     "text": [
      "Error with file: /home/srp/Documents/LLP_DATA/2025-09-08_2HDM-S-2/LLP_data/mass_5.01e-01_ctau_2.98e+05_br_1.00e+00_seed_736715.csv\n",
      "Error message: operands could not be broadcast together with shapes (4,) (3,) \n"
     ]
    },
    {
     "name": "stderr",
     "output_type": "stream",
     "text": [
      "  2%|▏         | 8/389 [00:02<02:06,  3.02it/s]"
     ]
    },
    {
     "name": "stdout",
     "output_type": "stream",
     "text": [
      "Error with file: /home/srp/Documents/LLP_DATA/2025-09-08_2HDM-S-2/LLP_data/mass_1.41e+00_ctau_1.01e+06_br_1.00e+00_seed_811007.csv\n",
      "Error message: operands could not be broadcast together with shapes (4,) (3,) \n"
     ]
    },
    {
     "name": "stderr",
     "output_type": "stream",
     "text": [
      "  0%|          | 1/391 [00:00<02:58,  2.19it/s]"
     ]
    },
    {
     "name": "stdout",
     "output_type": "stream",
     "text": [
      "Error with file: /home/srp/Documents/LLP_DATA/2025-09-08_2HDM-S-2/LLP_data/mass_5.62e-01_ctau_9.23e+06_br_1.00e+00_seed_736715.csv\n",
      "Error message: operands could not be broadcast together with shapes (4,) (3,) \n"
     ]
    },
    {
     "name": "stderr",
     "output_type": "stream",
     "text": [
      " 12%|█▏        | 47/385 [00:13<01:58,  2.85it/s]"
     ]
    },
    {
     "name": "stdout",
     "output_type": "stream",
     "text": [
      "Error with file: /home/srp/Documents/LLP_DATA/2025-09-08_2HDM-S-2/LLP_data/mass_1.58e+00_ctau_6.75e+00_br_1.00e+00_seed_811007.csv\n",
      "Error message: operands could not be broadcast together with shapes (4,) (3,) \n"
     ]
    },
    {
     "name": "stderr",
     "output_type": "stream",
     "text": [
      "  2%|▏         | 9/389 [00:03<02:07,  2.98it/s]"
     ]
    },
    {
     "name": "stdout",
     "output_type": "stream",
     "text": [
      "Error with file: /home/srp/Documents/LLP_DATA/2025-09-08_2HDM-S-2/LLP_data/mass_1.78e+00_ctau_7.96e+04_br_1.00e+00_seed_811007.csv\n",
      "Error message: operands could not be broadcast together with shapes (4,) (3,) \n"
     ]
    },
    {
     "name": "stderr",
     "output_type": "stream",
     "text": [
      "  1%|          | 2/391 [00:00<02:21,  2.75it/s]"
     ]
    },
    {
     "name": "stdout",
     "output_type": "stream",
     "text": [
      "Error with file: /home/srp/Documents/LLP_DATA/2025-09-08_2HDM-S-2/LLP_data/mass_2.00e+00_ctau_2.01e+01_br_1.00e+00_seed_811007.csv\n",
      "Error message: operands could not be broadcast together with shapes (4,) (3,) \n"
     ]
    },
    {
     "name": "stderr",
     "output_type": "stream",
     "text": [
      " 12%|█▏        | 48/385 [00:13<01:57,  2.86it/s]"
     ]
    },
    {
     "name": "stdout",
     "output_type": "stream",
     "text": [
      "Error with file: /home/srp/Documents/LLP_DATA/2025-09-08_2HDM-S-2/LLP_data/mass_7.08e-01_ctau_3.13e+03_br_1.00e+00_seed_736715.csv\n",
      "Error message: operands could not be broadcast together with shapes (4,) (3,) \n"
     ]
    },
    {
     "name": "stderr",
     "output_type": "stream",
     "text": [
      "  3%|▎         | 10/389 [00:03<02:12,  2.87it/s]"
     ]
    },
    {
     "name": "stdout",
     "output_type": "stream",
     "text": [
      "Error with file: /home/srp/Documents/LLP_DATA/2025-09-08_2HDM-S-2/LLP_data/mass_1.41e+00_ctau_2.53e+02_br_1.00e+00_seed_811007.csv\n",
      "Error message: operands could not be broadcast together with shapes (4,) (3,) \n"
     ]
    },
    {
     "name": "stderr",
     "output_type": "stream",
     "text": [
      "  1%|          | 3/391 [00:01<02:17,  2.82it/s]"
     ]
    },
    {
     "name": "stdout",
     "output_type": "stream",
     "text": [
      "Error with file: /home/srp/Documents/LLP_DATA/2025-09-08_2HDM-S-2/LLP_data/mass_1.78e+00_ctau_1.26e+04_br_1.00e+00_seed_811007.csv\n",
      "Error message: operands could not be broadcast together with shapes (4,) (3,) \n"
     ]
    },
    {
     "name": "stderr",
     "output_type": "stream",
     "text": [
      "100%|██████████| 98/98 [12:36<00:00,  7.72s/it]]\n"
     ]
    },
    {
     "name": "stdout",
     "output_type": "stream",
     "text": [
      "The Generation of LLPs is Completed\n"
     ]
    },
    {
     "name": "stderr",
     "output_type": "stream",
     "text": [
      "  0%|          | 0/391 [00:00<?, ?it/s]"
     ]
    },
    {
     "name": "stdout",
     "output_type": "stream",
     "text": [
      "Error with file: /home/srp/Documents/LLP_DATA/2025-09-08_2HDM-S-2/LLP_data/mass_6.31e-01_ctau_4.34e+03_br_1.00e+00_seed_736715.csv\n",
      "Error message: operands could not be broadcast together with shapes (4,) (3,) \n"
     ]
    },
    {
     "name": "stderr",
     "output_type": "stream",
     "text": [
      "  3%|▎         | 11/389 [00:03<02:16,  2.76it/s]"
     ]
    },
    {
     "name": "stdout",
     "output_type": "stream",
     "text": [
      "Error with file: /home/srp/Documents/LLP_DATA/2025-09-08_2HDM-S-2/LLP_data/mass_1.00e+00_ctau_6.88e-01_br_1.00e+00_seed_191632.csv\n",
      "Error message: operands could not be broadcast together with shapes (4,) (3,) \n"
     ]
    },
    {
     "name": "stderr",
     "output_type": "stream",
     "text": [
      "  1%|          | 4/391 [00:01<02:29,  2.59it/s]"
     ]
    },
    {
     "name": "stdout",
     "output_type": "stream",
     "text": [
      "Error with file: /home/srp/Documents/LLP_DATA/2025-09-08_2HDM-S-2/LLP_data/mass_1.00e+00_ctau_6.88e+05_br_1.00e+00_seed_191632.csv\n",
      "Error message: operands could not be broadcast together with shapes (4,) (3,) \n"
     ]
    },
    {
     "name": "stderr",
     "output_type": "stream",
     "text": [
      " 13%|█▎        | 50/385 [00:14<02:08,  2.61it/s]"
     ]
    },
    {
     "name": "stdout",
     "output_type": "stream",
     "text": [
      "Error with file: /home/srp/Documents/LLP_DATA/2025-09-08_2HDM-S-2/LLP_data/mass_1.41e+00_ctau_1.01e+06_br_1.00e+00_seed_811007.csv\n",
      "Error message: operands could not be broadcast together with shapes (4,) (3,) \n"
     ]
    },
    {
     "name": "stderr",
     "output_type": "stream",
     "text": [
      "  0%|          | 1/391 [00:00<02:38,  2.46it/s]"
     ]
    },
    {
     "name": "stdout",
     "output_type": "stream",
     "text": [
      "Error with file: /home/srp/Documents/LLP_DATA/2025-09-08_2HDM-S-2/LLP_data/mass_3.55e-01_ctau_2.19e+08_br_1.00e+00_seed_517997.csv\n",
      "Error with file: /home/srp/Documents/LLP_DATA/2025-09-08_2HDM-S-2/LLP_data/mass_3.16e-01_ctau_1.35e+02_br_1.00e+00_seed_517997.csvError message: operands could not be broadcast together with shapes (4,) (3,) \n",
      "Error message: operands could not be broadcast together with shapes (4,) (3,) \n",
      "\n"
     ]
    },
    {
     "name": "stderr",
     "output_type": "stream",
     "text": [
      "  1%|▏         | 5/391 [00:01<02:27,  2.62it/s]]"
     ]
    },
    {
     "name": "stdout",
     "output_type": "stream",
     "text": [
      "Error with file: /home/srp/Documents/LLP_DATA/2025-09-08_2HDM-S-2/LLP_data/mass_6.31e-01_ctau_4.34e-01_br_1.00e+00_seed_736715.csv\n",
      "Error message: operands could not be broadcast together with shapes (4,) (3,) \n"
     ]
    },
    {
     "name": "stderr",
     "output_type": "stream",
     "text": [
      " 13%|█▎        | 51/385 [00:14<02:03,  2.71it/s]"
     ]
    },
    {
     "name": "stdout",
     "output_type": "stream",
     "text": [
      "Error with file: /home/srp/Documents/LLP_DATA/2025-09-08_2HDM-S-2/LLP_data/mass_1.78e+00_ctau_7.96e+04_br_1.00e+00_seed_811007.csv\n",
      "Error message: operands could not be broadcast together with shapes (4,) (3,) \n"
     ]
    },
    {
     "name": "stderr",
     "output_type": "stream",
     "text": [
      "  1%|          | 2/391 [00:00<02:06,  3.07it/s]"
     ]
    },
    {
     "name": "stdout",
     "output_type": "stream",
     "text": [
      "Error with file: /home/srp/Documents/LLP_DATA/2025-09-08_2HDM-S-2/LLP_data/mass_1.00e+00_ctau_1.73e+00_br_1.00e+00_seed_191632.csv\n",
      "Error message: operands could not be broadcast together with shapes (4,) (3,) \n",
      "Error with file: /home/srp/Documents/LLP_DATA/2025-09-08_2HDM-S-2/LLP_data/mass_7.94e-01_ctau_2.05e-01_br_1.00e+00_seed_191632.csv\n"
     ]
    },
    {
     "name": "stderr",
     "output_type": "stream",
     "text": [
      "  2%|▏         | 6/391 [00:02<02:11,  2.93it/s]"
     ]
    },
    {
     "name": "stdout",
     "output_type": "stream",
     "text": [
      "Error message: operands could not be broadcast together with shapes (4,) (3,) \n"
     ]
    },
    {
     "name": "stderr",
     "output_type": "stream",
     "text": [
      "  3%|▎         | 13/389 [00:04<02:16,  2.76it/s]"
     ]
    },
    {
     "name": "stdout",
     "output_type": "stream",
     "text": [
      "Error with file: /home/srp/Documents/LLP_DATA/2025-09-08_2HDM-S-2/LLP_data/mass_1.58e+00_ctau_1.69e-01_br_1.00e+00_seed_811007.csv\n",
      "Error message: operands could not be broadcast together with shapes (4,) (3,) \n"
     ]
    },
    {
     "name": "stderr",
     "output_type": "stream",
     "text": [
      " 14%|█▎        | 52/385 [00:14<01:54,  2.90it/s]"
     ]
    },
    {
     "name": "stdout",
     "output_type": "stream",
     "text": [
      "Error with file: /home/srp/Documents/LLP_DATA/2025-09-08_2HDM-S-2/LLP_data/mass_1.41e+00_ctau_2.53e+02_br_1.00e+00_seed_811007.csv\n",
      "Error message: operands could not be broadcast together with shapes (4,) (3,) \n"
     ]
    },
    {
     "name": "stderr",
     "output_type": "stream",
     "text": [
      "  1%|          | 3/391 [00:00<01:58,  3.27it/s]"
     ]
    },
    {
     "name": "stdout",
     "output_type": "stream",
     "text": [
      "Error with file: /home/srp/Documents/LLP_DATA/2025-09-08_2HDM-S-2/LLP_data/mass_1.58e+00_ctau_6.75e+06_br_1.00e+00_seed_811007.csv\n",
      "Error message: operands could not be broadcast together with shapes (4,) (3,) \n",
      "Error with file: /home/srp/Documents/LLP_DATA/2025-09-08_2HDM-S-2/LLP_data/mass_1.12e+00_ctau_2.17e+00_br_1.00e+00_seed_191632.csv"
     ]
    },
    {
     "name": "stderr",
     "output_type": "stream",
     "text": [
      "  2%|▏         | 7/391 [00:02<02:07,  3.02it/s]"
     ]
    },
    {
     "name": "stdout",
     "output_type": "stream",
     "text": [
      "\n",
      "Error message: operands could not be broadcast together with shapes (4,) (3,) \n"
     ]
    },
    {
     "name": "stderr",
     "output_type": "stream",
     "text": [
      "  4%|▎         | 14/389 [00:04<02:10,  2.87it/s]"
     ]
    },
    {
     "name": "stdout",
     "output_type": "stream",
     "text": [
      "Error with file: /home/srp/Documents/LLP_DATA/2025-09-08_2HDM-S-2/LLP_data/mass_5.62e-01_ctau_3.67e+00_br_1.00e+00_seed_736715.csv\n",
      "Error message: operands could not be broadcast together with shapes (4,) (3,) \n"
     ]
    },
    {
     "name": "stderr",
     "output_type": "stream",
     "text": [
      " 14%|█▍        | 53/385 [00:15<01:54,  2.91it/s]"
     ]
    },
    {
     "name": "stdout",
     "output_type": "stream",
     "text": [
      "Error with file: /home/srp/Documents/LLP_DATA/2025-09-08_2HDM-S-2/LLP_data/mass_1.00e+00_ctau_6.88e-01_br_1.00e+00_seed_191632.csv\n",
      "Error message: operands could not be broadcast together with shapes (4,) (3,) \n"
     ]
    },
    {
     "name": "stderr",
     "output_type": "stream",
     "text": [
      "  1%|          | 4/391 [00:01<01:59,  3.24it/s]"
     ]
    },
    {
     "name": "stdout",
     "output_type": "stream",
     "text": [
      "Error with file: /home/srp/Documents/LLP_DATA/2025-09-08_2HDM-S-2/LLP_data/mass_5.01e-01_ctau_2.98e+05_br_1.00e+00_seed_736715.csv\n",
      "Error message: operands could not be broadcast together with shapes (4,) (3,) \n"
     ]
    },
    {
     "name": "stderr",
     "output_type": "stream",
     "text": [
      "  2%|▏         | 8/391 [00:02<02:01,  3.15it/s]"
     ]
    },
    {
     "name": "stdout",
     "output_type": "stream",
     "text": [
      "Error with file: /home/srp/Documents/LLP_DATA/2025-09-08_2HDM-S-2/LLP_data/mass_5.01e-01_ctau_1.18e+05_br_1.00e+00_seed_736715.csv\n",
      "Error message: operands could not be broadcast together with shapes (4,) (3,) \n"
     ]
    },
    {
     "name": "stderr",
     "output_type": "stream",
     "text": [
      "  4%|▍         | 15/389 [00:05<02:06,  2.97it/s]"
     ]
    },
    {
     "name": "stdout",
     "output_type": "stream",
     "text": [
      "Error with file: /home/srp/Documents/LLP_DATA/2025-09-08_2HDM-S-2/LLP_data/mass_3.16e-01_ctau_1.35e+02_br_1.00e+00_seed_517997.csv\n",
      "Error with file: /home/srp/Documents/LLP_DATA/2025-09-08_2HDM-S-2/LLP_data/mass_3.98e-01_ctau_3.67e+04_br_1.00e+00_seed_517997.csvError message: operands could not be broadcast together with shapes (4,) (3,) \n",
      "\n",
      "Error message: operands could not be broadcast together with shapes (4,) (3,) \n"
     ]
    },
    {
     "name": "stderr",
     "output_type": "stream",
     "text": [
      " 14%|█▍        | 54/385 [00:15<01:48,  3.04it/s]"
     ]
    },
    {
     "name": "stdout",
     "output_type": "stream",
     "text": [
      "Error with file: /home/srp/Documents/LLP_DATA/2025-09-08_2HDM-S-2/LLP_data/mass_1.58e+00_ctau_6.75e+00_br_1.00e+00_seed_811007.csv\n",
      "Error message: operands could not be broadcast together with shapes (4,) (3,) \n"
     ]
    },
    {
     "name": "stderr",
     "output_type": "stream",
     "text": [
      "  2%|▏         | 9/391 [00:03<01:53,  3.35it/s]"
     ]
    },
    {
     "name": "stdout",
     "output_type": "stream",
     "text": [
      "Error with file: /home/srp/Documents/LLP_DATA/2025-09-08_2HDM-S-2/LLP_data/mass_3.98e-01_ctau_9.21e+00_br_1.00e+00_seed_517997.csv\n",
      "Error message: operands could not be broadcast together with shapes (4,) (3,) \n"
     ]
    },
    {
     "name": "stderr",
     "output_type": "stream",
     "text": [
      "  4%|▍         | 16/389 [00:05<01:58,  3.15it/s]"
     ]
    },
    {
     "name": "stdout",
     "output_type": "stream",
     "text": [
      "Error with file: /home/srp/Documents/LLP_DATA/2025-09-08_2HDM-S-2/LLP_data/mass_1.00e+00_ctau_1.73e+00_br_1.00e+00_seed_191632.csv\n",
      "Error message: operands could not be broadcast together with shapes (4,) (3,) \n",
      "Error with file: /home/srp/Documents/LLP_DATA/2025-09-08_2HDM-S-2/LLP_data/mass_7.08e-01_ctau_1.98e+04_br_1.00e+00_seed_736715.csv\n"
     ]
    },
    {
     "name": "stderr",
     "output_type": "stream",
     "text": [
      "  2%|▏         | 6/391 [00:01<01:50,  3.50it/s]"
     ]
    },
    {
     "name": "stdout",
     "output_type": "stream",
     "text": [
      "Error message: operands could not be broadcast together with shapes (4,) (3,) \n"
     ]
    },
    {
     "name": "stderr",
     "output_type": "stream",
     "text": [
      " 14%|█▍        | 55/385 [00:15<01:43,  3.18it/s]"
     ]
    },
    {
     "name": "stdout",
     "output_type": "stream",
     "text": [
      "Error with file: /home/srp/Documents/LLP_DATA/2025-09-08_2HDM-S-2/LLP_data/mass_7.08e-01_ctau_3.13e+03_br_1.00e+00_seed_736715.csv\n",
      "Error message: operands could not be broadcast together with shapes (4,) (3,) \n"
     ]
    },
    {
     "name": "stderr",
     "output_type": "stream",
     "text": [
      "  3%|▎         | 10/391 [00:03<01:53,  3.36it/s]"
     ]
    },
    {
     "name": "stdout",
     "output_type": "stream",
     "text": [
      "Error with file: /home/srp/Documents/LLP_DATA/2025-09-08_2HDM-S-2/LLP_data/mass_5.01e-01_ctau_1.18e+07_br_1.00e+00_seed_517997.csv\n",
      "Error message: operands could not be broadcast together with shapes (4,) (3,) \n"
     ]
    },
    {
     "name": "stderr",
     "output_type": "stream",
     "text": [
      "  4%|▍         | 17/389 [00:05<02:05,  2.97it/s]"
     ]
    },
    {
     "name": "stdout",
     "output_type": "stream",
     "text": [
      "Error with file: /home/srp/Documents/LLP_DATA/2025-09-08_2HDM-S-2/LLP_data/mass_1.58e+00_ctau_6.75e+06_br_1.00e+00_seed_811007.csv\n",
      "Error message: operands could not be broadcast together with shapes (4,) (3,) \n"
     ]
    },
    {
     "name": "stderr",
     "output_type": "stream",
     "text": [
      "  2%|▏         | 7/391 [00:02<01:58,  3.23it/s]"
     ]
    },
    {
     "name": "stdout",
     "output_type": "stream",
     "text": [
      "Error with file: /home/srp/Documents/LLP_DATA/2025-09-08_2HDM-S-2/LLP_data/mass_3.55e-01_ctau_3.47e+03_br_1.00e+00_seed_517997.csv\n",
      "Error message: operands could not be broadcast together with shapes (4,) (3,) \n",
      "Error with file: /home/srp/Documents/LLP_DATA/2025-09-08_2HDM-S-2/LLP_data/mass_6.31e-01_ctau_4.34e+03_br_1.00e+00_seed_736715.csv\n"
     ]
    },
    {
     "name": "stderr",
     "output_type": "stream",
     "text": [
      " 15%|█▍        | 56/385 [00:16<01:56,  2.82it/s]"
     ]
    },
    {
     "name": "stdout",
     "output_type": "stream",
     "text": [
      "Error message: operands could not be broadcast together with shapes (4,) (3,) \n"
     ]
    },
    {
     "name": "stderr",
     "output_type": "stream",
     "text": [
      "  3%|▎         | 11/391 [00:03<02:00,  3.16it/s]"
     ]
    },
    {
     "name": "stdout",
     "output_type": "stream",
     "text": [
      "Error with file: /home/srp/Documents/LLP_DATA/2025-09-08_2HDM-S-2/LLP_data/mass_2.00e+00_ctau_5.05e+01_br_1.00e+00_seed_811007.csv\n",
      "Error message: operands could not be broadcast together with shapes (4,) (3,) \n"
     ]
    },
    {
     "name": "stderr",
     "output_type": "stream",
     "text": [
      "  5%|▍         | 18/389 [00:06<02:04,  2.99it/s]"
     ]
    },
    {
     "name": "stdout",
     "output_type": "stream",
     "text": [
      "Error with file: /home/srp/Documents/LLP_DATA/2025-09-08_2HDM-S-2/LLP_data/mass_5.01e-01_ctau_2.98e+05_br_1.00e+00_seed_736715.csv\n",
      "Error message: operands could not be broadcast together with shapes (4,) (3,) \n"
     ]
    },
    {
     "name": "stderr",
     "output_type": "stream",
     "text": [
      "  2%|▏         | 8/391 [00:02<01:59,  3.20it/s]"
     ]
    },
    {
     "name": "stdout",
     "output_type": "stream",
     "text": [
      "Error with file: /home/srp/Documents/LLP_DATA/2025-09-08_2HDM-S-2/LLP_data/mass_3.55e-01_ctau_2.19e+08_br_1.00e+00_seed_517997.csv\n",
      "Error message: operands could not be broadcast together with shapes (4,) (3,) \n"
     ]
    },
    {
     "name": "stderr",
     "output_type": "stream",
     "text": [
      "  3%|▎         | 12/391 [00:03<01:58,  3.19it/s]"
     ]
    },
    {
     "name": "stdout",
     "output_type": "stream",
     "text": [
      "Error with file: /home/srp/Documents/LLP_DATA/2025-09-08_2HDM-S-2/LLP_data/mass_3.16e-01_ctau_3.39e+08_br_1.00e+00_seed_517997.csv\n",
      "Error message: operands could not be broadcast together with shapes (4,) (3,) \n"
     ]
    },
    {
     "name": "stderr",
     "output_type": "stream",
     "text": [
      " 15%|█▍        | 57/385 [00:16<01:54,  2.86it/s]"
     ]
    },
    {
     "name": "stdout",
     "output_type": "stream",
     "text": [
      "Error with file: /home/srp/Documents/LLP_DATA/2025-09-08_2HDM-S-2/LLP_data/mass_1.00e+00_ctau_1.73e+04_br_1.00e+00_seed_191632.csv\n",
      "Error message: operands could not be broadcast together with shapes (4,) (3,) \n"
     ]
    },
    {
     "name": "stderr",
     "output_type": "stream",
     "text": [
      "  5%|▍         | 19/389 [00:06<01:57,  3.15it/s]"
     ]
    },
    {
     "name": "stdout",
     "output_type": "stream",
     "text": [
      "Error with file: /home/srp/Documents/LLP_DATA/2025-09-08_2HDM-S-2/LLP_data/mass_1.58e+00_ctau_6.75e+00_br_1.00e+00_seed_811007.csv\n",
      "Error message: operands could not be broadcast together with shapes (4,) (3,) \n"
     ]
    },
    {
     "name": "stderr",
     "output_type": "stream",
     "text": [
      "  2%|▏         | 9/391 [00:02<01:54,  3.35it/s]"
     ]
    },
    {
     "name": "stdout",
     "output_type": "stream",
     "text": [
      "Error with file: /home/srp/Documents/LLP_DATA/2025-09-08_2HDM-S-2/LLP_data/mass_7.94e-01_ctau_2.05e-01_br_1.00e+00_seed_191632.csv\n",
      "Error message: operands could not be broadcast together with shapes (4,) (3,) \n"
     ]
    },
    {
     "name": "stderr",
     "output_type": "stream",
     "text": [
      "  3%|▎         | 13/391 [00:04<01:55,  3.26it/s]"
     ]
    },
    {
     "name": "stdout",
     "output_type": "stream",
     "text": [
      "Error with file: /home/srp/Documents/LLP_DATA/2025-09-08_2HDM-S-2/LLP_data/mass_2.00e+00_ctau_8.01e+02_br_1.00e+00_seed_811007.csv\n",
      "Error message: operands could not be broadcast together with shapes (4,) (3,) \n"
     ]
    },
    {
     "name": "stderr",
     "output_type": "stream",
     "text": [
      " 15%|█▌        | 58/385 [00:17<01:56,  2.82it/s]"
     ]
    },
    {
     "name": "stdout",
     "output_type": "stream",
     "text": [
      "Error with file: /home/srp/Documents/LLP_DATA/2025-09-08_2HDM-S-2/LLP_data/mass_1.26e+00_ctau_1.68e-01_br_1.00e+00_seed_811007.csv\n",
      "Error message: operands could not be broadcast together with shapes (4,) (3,) \n"
     ]
    },
    {
     "name": "stderr",
     "output_type": "stream",
     "text": [
      "  5%|▌         | 20/389 [00:06<02:00,  3.06it/s]"
     ]
    },
    {
     "name": "stdout",
     "output_type": "stream",
     "text": [
      "Error with file: /home/srp/Documents/LLP_DATA/2025-09-08_2HDM-S-2/LLP_data/mass_7.08e-01_ctau_3.13e+03_br_1.00e+00_seed_736715.csv\n",
      "Error message: operands could not be broadcast together with shapes (4,) (3,) \n"
     ]
    },
    {
     "name": "stderr",
     "output_type": "stream",
     "text": [
      "  3%|▎         | 10/391 [00:03<01:58,  3.21it/s]"
     ]
    },
    {
     "name": "stdout",
     "output_type": "stream",
     "text": [
      "Error with file: /home/srp/Documents/LLP_DATA/2025-09-08_2HDM-S-2/LLP_data/mass_8.91e-01_ctau_1.44e+04_br_1.00e+00_seed_191632.csv\n",
      "Error message: operands could not be broadcast together with shapes (4,) (3,) \n",
      "Error with file: /home/srp/Documents/LLP_DATA/2025-09-08_2HDM-S-2/LLP_data/mass_1.12e+00_ctau_2.17e+00_br_1.00e+00_seed_191632.csv\n"
     ]
    },
    {
     "name": "stderr",
     "output_type": "stream",
     "text": [
      " 15%|█▌        | 59/385 [00:17<01:52,  2.90it/s]"
     ]
    },
    {
     "name": "stdout",
     "output_type": "stream",
     "text": [
      "Error message: operands could not be broadcast together with shapes (4,) (3,) \n"
     ]
    },
    {
     "name": "stderr",
     "output_type": "stream",
     "text": [
      "  4%|▎         | 14/391 [00:04<02:11,  2.87it/s]"
     ]
    },
    {
     "name": "stdout",
     "output_type": "stream",
     "text": [
      "Error with file: /home/srp/Documents/LLP_DATA/2025-09-08_2HDM-S-2/LLP_data/mass_5.62e-01_ctau_1.46e+00_br_1.00e+00_seed_736715.csv\n",
      "Error message: operands could not be broadcast together with shapes (4,) (3,) \n"
     ]
    },
    {
     "name": "stderr",
     "output_type": "stream",
     "text": [
      "  5%|▌         | 21/389 [00:07<02:05,  2.93it/s]"
     ]
    },
    {
     "name": "stdout",
     "output_type": "stream",
     "text": [
      "Error with file: /home/srp/Documents/LLP_DATA/2025-09-08_2HDM-S-2/LLP_data/mass_6.31e-01_ctau_4.34e+03_br_1.00e+00_seed_736715.csv\n",
      "Error message: operands could not be broadcast together with shapes (4,) (3,) \n"
     ]
    },
    {
     "name": "stderr",
     "output_type": "stream",
     "text": [
      "  3%|▎         | 11/391 [00:03<02:10,  2.91it/s]"
     ]
    },
    {
     "name": "stdout",
     "output_type": "stream",
     "text": [
      "Error with file: /home/srp/Documents/LLP_DATA/2025-09-08_2HDM-S-2/LLP_data/mass_5.01e-01_ctau_1.18e+05_br_1.00e+00_seed_736715.csv\n",
      "Error message: operands could not be broadcast together with shapes (4,) (3,) \n"
     ]
    },
    {
     "name": "stderr",
     "output_type": "stream",
     "text": [
      "  4%|▍         | 15/391 [00:04<02:02,  3.07it/s]"
     ]
    },
    {
     "name": "stdout",
     "output_type": "stream",
     "text": [
      "Error with file: /home/srp/Documents/LLP_DATA/2025-09-08_2HDM-S-2/LLP_data/mass_5.01e-01_ctau_4.72e+00_br_1.00e+00_seed_736715.csv\n",
      "Error message: operands could not be broadcast together with shapes (4,) (3,) \n"
     ]
    },
    {
     "name": "stderr",
     "output_type": "stream",
     "text": [
      " 16%|█▌        | 60/385 [00:17<01:51,  2.93it/s]"
     ]
    },
    {
     "name": "stdout",
     "output_type": "stream",
     "text": [
      "Error with file: /home/srp/Documents/LLP_DATA/2025-09-08_2HDM-S-2/LLP_data/mass_6.31e-01_ctau_6.88e+06_br_1.00e+00_seed_736715.csv\n",
      "Error message: operands could not be broadcast together with shapes (4,) (3,) \n"
     ]
    },
    {
     "name": "stderr",
     "output_type": "stream",
     "text": [
      "  6%|▌         | 22/389 [00:07<01:59,  3.08it/s]"
     ]
    },
    {
     "name": "stdout",
     "output_type": "stream",
     "text": [
      "Error with file: /home/srp/Documents/LLP_DATA/2025-09-08_2HDM-S-2/LLP_data/mass_3.55e-01_ctau_2.19e+08_br_1.00e+00_seed_517997.csv\n",
      "Error message: operands could not be broadcast together with shapes (4,) (3,) \n"
     ]
    },
    {
     "name": "stderr",
     "output_type": "stream",
     "text": [
      "  3%|▎         | 12/391 [00:03<02:06,  3.00it/s]"
     ]
    },
    {
     "name": "stdout",
     "output_type": "stream",
     "text": [
      "Error with file: /home/srp/Documents/LLP_DATA/2025-09-08_2HDM-S-2/LLP_data/mass_3.98e-01_ctau_9.21e+00_br_1.00e+00_seed_517997.csv\n",
      "Error message: operands could not be broadcast together with shapes (4,) (3,) \n"
     ]
    },
    {
     "name": "stderr",
     "output_type": "stream",
     "text": [
      "  4%|▍         | 16/391 [00:05<02:02,  3.05it/s]"
     ]
    },
    {
     "name": "stdout",
     "output_type": "stream",
     "text": [
      "Error with file: /home/srp/Documents/LLP_DATA/2025-09-08_2HDM-S-2/LLP_data/mass_1.00e+00_ctau_2.74e+01_br_1.00e+00_seed_191632.csv\n",
      "Error message: operands could not be broadcast together with shapes (4,) (3,) \n"
     ]
    },
    {
     "name": "stderr",
     "output_type": "stream",
     "text": [
      " 16%|█▌        | 61/385 [00:18<01:50,  2.92it/s]"
     ]
    },
    {
     "name": "stdout",
     "output_type": "stream",
     "text": [
      "Error with file: /home/srp/Documents/LLP_DATA/2025-09-08_2HDM-S-2/LLP_data/mass_1.26e+00_ctau_2.66e+00_br_1.00e+00_seed_191632.csv\n",
      "Error message: operands could not be broadcast together with shapes (4,) (3,) \n"
     ]
    },
    {
     "name": "stderr",
     "output_type": "stream",
     "text": [
      "  6%|▌         | 23/389 [00:07<01:57,  3.11it/s]"
     ]
    },
    {
     "name": "stdout",
     "output_type": "stream",
     "text": [
      "Error with file: /home/srp/Documents/LLP_DATA/2025-09-08_2HDM-S-2/LLP_data/mass_7.94e-01_ctau_2.05e-01_br_1.00e+00_seed_191632.csv\n",
      "Error message: operands could not be broadcast together with shapes (4,) (3,) \n"
     ]
    },
    {
     "name": "stderr",
     "output_type": "stream",
     "text": [
      "  3%|▎         | 13/391 [00:04<02:08,  2.94it/s]"
     ]
    },
    {
     "name": "stdout",
     "output_type": "stream",
     "text": [
      "Error with file: /home/srp/Documents/LLP_DATA/2025-09-08_2HDM-S-2/LLP_data/mass_5.01e-01_ctau_1.18e+07_br_1.00e+00_seed_517997.csv\n",
      "Error message: operands could not be broadcast together with shapes (4,) (3,) \n"
     ]
    },
    {
     "name": "stderr",
     "output_type": "stream",
     "text": [
      "  4%|▍         | 17/391 [00:05<02:02,  3.06it/s]"
     ]
    },
    {
     "name": "stdout",
     "output_type": "stream",
     "text": [
      "Error with file: /home/srp/Documents/LLP_DATA/2025-09-08_2HDM-S-2/LLP_data/mass_1.78e+00_ctau_7.96e-02_br_1.00e+00_seed_811007.csv\n",
      "Error message: operands could not be broadcast together with shapes (4,) (3,) \n",
      "Error with file: /home/srp/Documents/LLP_DATA/2025-09-08_2HDM-S-2/LLP_data/mass_1.26e+00_ctau_4.22e-01_br_1.00e+00_seed_811007.csv\n"
     ]
    },
    {
     "name": "stderr",
     "output_type": "stream",
     "text": [
      "  6%|▌         | 24/389 [00:08<01:55,  3.17it/s]"
     ]
    },
    {
     "name": "stdout",
     "output_type": "stream",
     "text": [
      "Error message: operands could not be broadcast together with shapes (4,) (3,) \n"
     ]
    },
    {
     "name": "stderr",
     "output_type": "stream",
     "text": [
      " 16%|█▌        | 62/385 [00:18<01:50,  2.93it/s]"
     ]
    },
    {
     "name": "stdout",
     "output_type": "stream",
     "text": [
      "Error with file: /home/srp/Documents/LLP_DATA/2025-09-08_2HDM-S-2/LLP_data/mass_1.12e+00_ctau_2.17e+00_br_1.00e+00_seed_191632.csv\n",
      "Error message: operands could not be broadcast together with shapes (4,) (3,) \n"
     ]
    },
    {
     "name": "stderr",
     "output_type": "stream",
     "text": [
      "  4%|▎         | 14/391 [00:04<02:13,  2.83it/s]"
     ]
    },
    {
     "name": "stdout",
     "output_type": "stream",
     "text": [
      "Error with file: /home/srp/Documents/LLP_DATA/2025-09-08_2HDM-S-2/LLP_data/mass_5.62e-01_ctau_1.46e+04_br_1.00e+00_seed_736715.csvError with file: /home/srp/Documents/LLP_DATA/2025-09-08_2HDM-S-2/LLP_data/mass_2.00e+00_ctau_5.05e+01_br_1.00e+00_seed_811007.csv\n",
      "\n",
      "Error message: operands could not be broadcast together with shapes (4,) (3,) Error message: operands could not be broadcast together with shapes (4,) (3,) \n",
      "\n"
     ]
    },
    {
     "name": "stderr",
     "output_type": "stream",
     "text": [
      "  5%|▍         | 18/391 [00:06<02:07,  2.93it/s]"
     ]
    },
    {
     "name": "stdout",
     "output_type": "stream",
     "text": [
      "Error with file: /home/srp/Documents/LLP_DATA/2025-09-08_2HDM-S-2/LLP_data/mass_4.47e-01_ctau_4.12e+05_br_1.00e+00_seed_517997.csv\n",
      "Error message: operands could not be broadcast together with shapes (4,) (3,) \n"
     ]
    },
    {
     "name": "stderr",
     "output_type": "stream",
     "text": [
      " 16%|█▋        | 63/385 [00:18<01:55,  2.79it/s]"
     ]
    },
    {
     "name": "stdout",
     "output_type": "stream",
     "text": [
      "Error with file: /home/srp/Documents/LLP_DATA/2025-09-08_2HDM-S-2/LLP_data/mass_5.01e-01_ctau_1.18e+05_br_1.00e+00_seed_736715.csv\n",
      "Error message: operands could not be broadcast together with shapes (4,) (3,) \n"
     ]
    },
    {
     "name": "stderr",
     "output_type": "stream",
     "text": [
      "  4%|▍         | 15/391 [00:04<02:12,  2.84it/s]"
     ]
    },
    {
     "name": "stdout",
     "output_type": "stream",
     "text": [
      "Error with file: /home/srp/Documents/LLP_DATA/2025-09-08_2HDM-S-2/LLP_data/mass_1.00e+00_ctau_1.73e+04_br_1.00e+00_seed_191632.csv\n",
      "Error message: operands could not be broadcast together with shapes (4,) (3,) \n",
      "Error with file: /home/srp/Documents/LLP_DATA/2025-09-08_2HDM-S-2/LLP_data/mass_3.98e-01_ctau_2.31e+05_br_1.00e+00_seed_517997.csv\n"
     ]
    },
    {
     "name": "stderr",
     "output_type": "stream",
     "text": [
      "  5%|▍         | 19/391 [00:06<02:02,  3.04it/s]"
     ]
    },
    {
     "name": "stdout",
     "output_type": "stream",
     "text": [
      "Error message: operands could not be broadcast together with shapes (4,) (3,) \n"
     ]
    },
    {
     "name": "stderr",
     "output_type": "stream",
     "text": [
      "  7%|▋         | 26/389 [00:08<01:55,  3.13it/s]"
     ]
    },
    {
     "name": "stdout",
     "output_type": "stream",
     "text": [
      "Error with file: /home/srp/Documents/LLP_DATA/2025-09-08_2HDM-S-2/LLP_data/mass_1.00e+00_ctau_4.34e+00_br_1.00e+00_seed_191632.csv\n",
      "Error message: operands could not be broadcast together with shapes (4,) (3,) \n"
     ]
    },
    {
     "name": "stderr",
     "output_type": "stream",
     "text": [
      " 17%|█▋        | 64/385 [00:19<01:51,  2.89it/s]"
     ]
    },
    {
     "name": "stdout",
     "output_type": "stream",
     "text": [
      "Error with file: /home/srp/Documents/LLP_DATA/2025-09-08_2HDM-S-2/LLP_data/mass_3.98e-01_ctau_9.21e+00_br_1.00e+00_seed_517997.csv\n",
      "Error message: operands could not be broadcast together with shapes (4,) (3,) \n"
     ]
    },
    {
     "name": "stderr",
     "output_type": "stream",
     "text": [
      "  4%|▍         | 16/391 [00:05<02:06,  2.95it/s]"
     ]
    },
    {
     "name": "stdout",
     "output_type": "stream",
     "text": [
      "Error with file: /home/srp/Documents/LLP_DATA/2025-09-08_2HDM-S-2/LLP_data/mass_1.26e+00_ctau_1.68e-01_br_1.00e+00_seed_811007.csv\n",
      "Error message: operands could not be broadcast together with shapes (4,) (3,) Error with file: /home/srp/Documents/LLP_DATA/2025-09-08_2HDM-S-2/LLP_data/mass_5.01e-01_ctau_2.98e+07_br_1.00e+00_seed_517997.csv\n",
      "\n",
      "Error message: operands could not be broadcast together with shapes (4,) (3,) \n"
     ]
    },
    {
     "name": "stderr",
     "output_type": "stream",
     "text": [
      "  7%|▋         | 27/389 [00:09<01:57,  3.08it/s]"
     ]
    },
    {
     "name": "stdout",
     "output_type": "stream",
     "text": [
      "Error with file: /home/srp/Documents/LLP_DATA/2025-09-08_2HDM-S-2/LLP_data/mass_1.58e+00_ctau_1.07e+02_br_1.00e+00_seed_811007.csv\n",
      "Error message: operands could not be broadcast together with shapes (4,) (3,) \n"
     ]
    },
    {
     "name": "stderr",
     "output_type": "stream",
     "text": [
      " 17%|█▋        | 65/385 [00:19<01:48,  2.94it/s]"
     ]
    },
    {
     "name": "stdout",
     "output_type": "stream",
     "text": [
      "Error with file: /home/srp/Documents/LLP_DATA/2025-09-08_2HDM-S-2/LLP_data/mass_5.01e-01_ctau_1.18e+07_br_1.00e+00_seed_517997.csv\n",
      "Error message: operands could not be broadcast together with shapes (4,) (3,) \n"
     ]
    },
    {
     "name": "stderr",
     "output_type": "stream",
     "text": [
      "  4%|▍         | 17/391 [00:05<02:05,  2.97it/s]"
     ]
    },
    {
     "name": "stdout",
     "output_type": "stream",
     "text": [
      "Error with file: /home/srp/Documents/LLP_DATA/2025-09-08_2HDM-S-2/LLP_data/mass_5.62e-01_ctau_1.46e+00_br_1.00e+00_seed_736715.csv\n",
      "Error message: operands could not be broadcast together with shapes (4,) (3,) Error with file: /home/srp/Documents/LLP_DATA/2025-09-08_2HDM-S-2/LLP_data/mass_3.16e-01_ctau_2.14e+01_br_1.00e+00_seed_517997.csv\n",
      "\n"
     ]
    },
    {
     "name": "stderr",
     "output_type": "stream",
     "text": [
      "  5%|▌         | 21/391 [00:07<02:06,  2.92it/s]"
     ]
    },
    {
     "name": "stdout",
     "output_type": "stream",
     "text": [
      "Error message: operands could not be broadcast together with shapes (4,) (3,) \n"
     ]
    },
    {
     "name": "stderr",
     "output_type": "stream",
     "text": [
      "  7%|▋         | 28/389 [00:09<02:03,  2.92it/s]"
     ]
    },
    {
     "name": "stdout",
     "output_type": "stream",
     "text": [
      "Error with file: /home/srp/Documents/LLP_DATA/2025-09-08_2HDM-S-2/LLP_data/mass_1.26e+00_ctau_4.22e+01_br_1.00e+00_seed_191632.csv\n",
      "Error message: operands could not be broadcast together with shapes (4,) (3,) \n"
     ]
    },
    {
     "name": "stderr",
     "output_type": "stream",
     "text": [
      " 17%|█▋        | 66/385 [00:19<01:58,  2.70it/s]"
     ]
    },
    {
     "name": "stdout",
     "output_type": "stream",
     "text": [
      "Error with file: /home/srp/Documents/LLP_DATA/2025-09-08_2HDM-S-2/LLP_data/mass_2.00e+00_ctau_5.05e+01_br_1.00e+00_seed_811007.csv\n",
      "Error message: operands could not be broadcast together with shapes (4,) (3,) \n"
     ]
    },
    {
     "name": "stderr",
     "output_type": "stream",
     "text": [
      "  5%|▍         | 18/391 [00:06<02:21,  2.64it/s]"
     ]
    },
    {
     "name": "stdout",
     "output_type": "stream",
     "text": [
      "Error with file: /home/srp/Documents/LLP_DATA/2025-09-08_2HDM-S-2/LLP_data/mass_6.31e-01_ctau_6.88e+06_br_1.00e+00_seed_736715.csv\n",
      "Error message: operands could not be broadcast together with shapes (4,) (3,) \n"
     ]
    },
    {
     "name": "stderr",
     "output_type": "stream",
     "text": [
      "  6%|▌         | 22/391 [00:07<02:17,  2.69it/s]"
     ]
    },
    {
     "name": "stdout",
     "output_type": "stream",
     "text": [
      "Error with file: /home/srp/Documents/LLP_DATA/2025-09-08_2HDM-S-2/LLP_data/mass_1.00e+00_ctau_2.74e+05_br_1.00e+00_seed_191632.csv\n",
      "Error message: operands could not be broadcast together with shapes (4,) (3,) \n"
     ]
    },
    {
     "name": "stderr",
     "output_type": "stream",
     "text": [
      "  7%|▋         | 29/389 [00:09<02:15,  2.66it/s]"
     ]
    },
    {
     "name": "stdout",
     "output_type": "stream",
     "text": [
      "Error with file: /home/srp/Documents/LLP_DATA/2025-09-08_2HDM-S-2/LLP_data/mass_8.91e-01_ctau_2.28e+01_br_1.00e+00_seed_191632.csv\n",
      "Error message: operands could not be broadcast together with shapes (4,) (3,) \n"
     ]
    },
    {
     "name": "stderr",
     "output_type": "stream",
     "text": [
      " 17%|█▋        | 67/385 [00:20<01:57,  2.71it/s]"
     ]
    },
    {
     "name": "stdout",
     "output_type": "stream",
     "text": [
      "Error with file: /home/srp/Documents/LLP_DATA/2025-09-08_2HDM-S-2/LLP_data/mass_1.00e+00_ctau_1.73e+04_br_1.00e+00_seed_191632.csv\n",
      "Error message: operands could not be broadcast together with shapes (4,) (3,) \n"
     ]
    },
    {
     "name": "stderr",
     "output_type": "stream",
     "text": [
      "  5%|▍         | 19/391 [00:06<02:14,  2.76it/s]"
     ]
    },
    {
     "name": "stdout",
     "output_type": "stream",
     "text": [
      "Error with file: /home/srp/Documents/LLP_DATA/2025-09-08_2HDM-S-2/LLP_data/mass_1.26e+00_ctau_2.66e+00_br_1.00e+00_seed_191632.csv\n",
      "Error message: operands could not be broadcast together with shapes (4,) (3,) \n"
     ]
    },
    {
     "name": "stderr",
     "output_type": "stream",
     "text": [
      "  6%|▌         | 23/391 [00:07<02:09,  2.85it/s]"
     ]
    },
    {
     "name": "stdout",
     "output_type": "stream",
     "text": [
      "Error with file: /home/srp/Documents/LLP_DATA/2025-09-08_2HDM-S-2/LLP_data/mass_3.55e-01_ctau_3.47e+07_br_1.00e+00_seed_517997.csv\n",
      "Error message: operands could not be broadcast together with shapes (4,) (3,) \n"
     ]
    },
    {
     "name": "stderr",
     "output_type": "stream",
     "text": [
      "  8%|▊         | 30/389 [00:10<02:08,  2.80it/s]"
     ]
    },
    {
     "name": "stdout",
     "output_type": "stream",
     "text": [
      "Error with file: /home/srp/Documents/LLP_DATA/2025-09-08_2HDM-S-2/LLP_data/mass_1.78e+00_ctau_3.17e-02_br_1.00e+00_seed_811007.csv\n",
      "Error message: operands could not be broadcast together with shapes (4,) (3,) \n"
     ]
    },
    {
     "name": "stderr",
     "output_type": "stream",
     "text": [
      " 18%|█▊        | 68/385 [00:20<01:50,  2.87it/s]"
     ]
    },
    {
     "name": "stdout",
     "output_type": "stream",
     "text": [
      "Error with file: /home/srp/Documents/LLP_DATA/2025-09-08_2HDM-S-2/LLP_data/mass_1.78e+00_ctau_7.96e-02_br_1.00e+00_seed_811007.csvError with file: /home/srp/Documents/LLP_DATA/2025-09-08_2HDM-S-2/LLP_data/mass_1.26e+00_ctau_1.68e-01_br_1.00e+00_seed_811007.csv\n",
      "\n",
      "Error message: operands could not be broadcast together with shapes (4,) (3,) Error message: operands could not be broadcast together with shapes (4,) (3,) \n",
      "\n"
     ]
    },
    {
     "name": "stderr",
     "output_type": "stream",
     "text": [
      "  6%|▌         | 24/391 [00:08<02:02,  2.99it/s]"
     ]
    },
    {
     "name": "stdout",
     "output_type": "stream",
     "text": [
      "Error with file: /home/srp/Documents/LLP_DATA/2025-09-08_2HDM-S-2/LLP_data/mass_8.91e-01_ctau_9.07e+02_br_1.00e+00_seed_191632.csv\n",
      "Error message: operands could not be broadcast together with shapes (4,) (3,) \n"
     ]
    },
    {
     "name": "stderr",
     "output_type": "stream",
     "text": [
      "  8%|▊         | 31/389 [00:10<01:59,  2.99it/s]"
     ]
    },
    {
     "name": "stdout",
     "output_type": "stream",
     "text": [
      "Error with file: /home/srp/Documents/LLP_DATA/2025-09-08_2HDM-S-2/LLP_data/mass_7.94e-01_ctau_3.25e-02_br_1.00e+00_seed_191632.csv\n",
      "Error message: operands could not be broadcast together with shapes (4,) (3,) \n"
     ]
    },
    {
     "name": "stderr",
     "output_type": "stream",
     "text": [
      " 18%|█▊        | 69/385 [00:20<01:50,  2.86it/s]"
     ]
    },
    {
     "name": "stdout",
     "output_type": "stream",
     "text": [
      "Error with file: /home/srp/Documents/LLP_DATA/2025-09-08_2HDM-S-2/LLP_data/mass_5.62e-01_ctau_1.46e+04_br_1.00e+00_seed_736715.csv\n",
      "Error message: operands could not be broadcast together with shapes (4,) (3,) \n",
      "Error with file: /home/srp/Documents/LLP_DATA/2025-09-08_2HDM-S-2/LLP_data/mass_5.62e-01_ctau_1.46e+00_br_1.00e+00_seed_736715.csv\n"
     ]
    },
    {
     "name": "stderr",
     "output_type": "stream",
     "text": [
      "  6%|▋         | 25/391 [00:08<02:03,  2.96it/s]"
     ]
    },
    {
     "name": "stdout",
     "output_type": "stream",
     "text": [
      "Error message: operands could not be broadcast together with shapes (4,) (3,) \n"
     ]
    },
    {
     "name": "stderr",
     "output_type": "stream",
     "text": [
      "  5%|▌         | 21/391 [00:07<02:11,  2.81it/s]"
     ]
    },
    {
     "name": "stdout",
     "output_type": "stream",
     "text": [
      "Error with file: /home/srp/Documents/LLP_DATA/2025-09-08_2HDM-S-2/LLP_data/mass_2.00e+00_ctau_1.27e+02_br_1.00e+00_seed_811007.csv\n",
      "Error message: operands could not be broadcast together with shapes (4,) (3,) \n"
     ]
    },
    {
     "name": "stderr",
     "output_type": "stream",
     "text": [
      "  8%|▊         | 32/389 [00:10<02:04,  2.87it/s]"
     ]
    },
    {
     "name": "stdout",
     "output_type": "stream",
     "text": [
      "Error with file: /home/srp/Documents/LLP_DATA/2025-09-08_2HDM-S-2/LLP_data/mass_1.12e+00_ctau_8.65e+01_br_1.00e+00_seed_191632.csv\n",
      "Error message: operands could not be broadcast together with shapes (4,) (3,) \n"
     ]
    },
    {
     "name": "stderr",
     "output_type": "stream",
     "text": [
      " 18%|█▊        | 70/385 [00:21<01:54,  2.76it/s]"
     ]
    },
    {
     "name": "stdout",
     "output_type": "stream",
     "text": [
      "Error with file: /home/srp/Documents/LLP_DATA/2025-09-08_2HDM-S-2/LLP_data/mass_3.98e-01_ctau_2.31e+05_br_1.00e+00_seed_517997.csv\n",
      "Error message: operands could not be broadcast together with shapes (4,) (3,) \n"
     ]
    },
    {
     "name": "stderr",
     "output_type": "stream",
     "text": [
      "  7%|▋         | 26/391 [00:08<02:01,  3.02it/s]"
     ]
    },
    {
     "name": "stdout",
     "output_type": "stream",
     "text": [
      "Error with file: /home/srp/Documents/LLP_DATA/2025-09-08_2HDM-S-2/LLP_data/mass_6.31e-01_ctau_6.88e+06_br_1.00e+00_seed_736715.csv\n",
      "Error message: operands could not be broadcast together with shapes (4,) (3,) \n"
     ]
    },
    {
     "name": "stderr",
     "output_type": "stream",
     "text": [
      "  6%|▌         | 22/391 [00:07<02:14,  2.75it/s]"
     ]
    },
    {
     "name": "stdout",
     "output_type": "stream",
     "text": [
      "Error with file: /home/srp/Documents/LLP_DATA/2025-09-08_2HDM-S-2/LLP_data/mass_8.91e-01_ctau_1.44e-02_br_1.00e+00_seed_191632.csv\n",
      "Error message: operands could not be broadcast together with shapes (4,) (3,) \n"
     ]
    },
    {
     "name": "stderr",
     "output_type": "stream",
     "text": [
      "  8%|▊         | 33/389 [00:11<02:04,  2.87it/s]"
     ]
    },
    {
     "name": "stdout",
     "output_type": "stream",
     "text": [
      "Error with file: /home/srp/Documents/LLP_DATA/2025-09-08_2HDM-S-2/LLP_data/mass_2.00e+00_ctau_2.01e-01_br_1.00e+00_seed_811007.csv\n",
      "Error message: operands could not be broadcast together with shapes (4,) (3,) \n"
     ]
    },
    {
     "name": "stderr",
     "output_type": "stream",
     "text": [
      " 18%|█▊        | 71/385 [00:21<01:47,  2.91it/s]"
     ]
    },
    {
     "name": "stdout",
     "output_type": "stream",
     "text": [
      "Error with file: /home/srp/Documents/LLP_DATA/2025-09-08_2HDM-S-2/LLP_data/mass_5.01e-01_ctau_2.98e+07_br_1.00e+00_seed_517997.csv\n",
      "Error message: operands could not be broadcast together with shapes (4,) (3,) \n"
     ]
    },
    {
     "name": "stderr",
     "output_type": "stream",
     "text": [
      "  7%|▋         | 27/391 [00:09<01:57,  3.10it/s]"
     ]
    },
    {
     "name": "stdout",
     "output_type": "stream",
     "text": [
      "Error with file: /home/srp/Documents/LLP_DATA/2025-09-08_2HDM-S-2/LLP_data/mass_1.00e+00_ctau_4.34e+04_br_1.00e+00_seed_191632.csv\n",
      "Error message: operands could not be broadcast together with shapes (4,) (3,) \n",
      "Error with file: /home/srp/Documents/LLP_DATA/2025-09-08_2HDM-S-2/LLP_data/mass_1.26e+00_ctau_2.66e+00_br_1.00e+00_seed_191632.csv\n",
      "Error message: operands could not be broadcast together with shapes (4,) (3,) \n"
     ]
    },
    {
     "name": "stderr",
     "output_type": "stream",
     "text": [
      "  6%|▌         | 23/391 [00:07<02:09,  2.85it/s]"
     ]
    },
    {
     "name": "stdout",
     "output_type": "stream",
     "text": [
      "Error with file: /home/srp/Documents/LLP_DATA/2025-09-08_2HDM-S-2/LLP_data/mass_6.31e-01_ctau_1.09e+00_br_1.00e+00_seed_736715.csv\n",
      "Error message: operands could not be broadcast together with shapes (4,) (3,) \n"
     ]
    },
    {
     "name": "stderr",
     "output_type": "stream",
     "text": [
      " 19%|█▊        | 72/385 [00:21<01:48,  2.88it/s]"
     ]
    },
    {
     "name": "stdout",
     "output_type": "stream",
     "text": [
      "Error with file: /home/srp/Documents/LLP_DATA/2025-09-08_2HDM-S-2/LLP_data/mass_3.16e-01_ctau_2.14e+01_br_1.00e+00_seed_517997.csv\n",
      "Error message: operands could not be broadcast together with shapes (4,) (3,) \n"
     ]
    },
    {
     "name": "stderr",
     "output_type": "stream",
     "text": [
      "  7%|▋         | 28/391 [00:09<01:56,  3.12it/s]"
     ]
    },
    {
     "name": "stdout",
     "output_type": "stream",
     "text": [
      "Error with file: /home/srp/Documents/LLP_DATA/2025-09-08_2HDM-S-2/LLP_data/mass_1.78e+00_ctau_7.96e-02_br_1.00e+00_seed_811007.csv\n",
      "Error message: operands could not be broadcast together with shapes (4,) (3,) Error with file: /home/srp/Documents/LLP_DATA/2025-09-08_2HDM-S-2/LLP_data/mass_3.98e-01_ctau_1.46e+00_br_1.00e+00_seed_517997.csv\n",
      "\n",
      "Error message: operands could not be broadcast together with shapes (4,) (3,) \n"
     ]
    },
    {
     "name": "stderr",
     "output_type": "stream",
     "text": [
      "  9%|▉         | 35/389 [00:11<01:57,  3.01it/s]"
     ]
    },
    {
     "name": "stdout",
     "output_type": "stream",
     "text": [
      "Error with file: /home/srp/Documents/LLP_DATA/2025-09-08_2HDM-S-2/LLP_data/mass_3.98e-01_ctau_2.31e+03_br_1.00e+00_seed_517997.csv\n",
      "Error message: operands could not be broadcast together with shapes (4,) (3,) \n"
     ]
    },
    {
     "name": "stderr",
     "output_type": "stream",
     "text": [
      " 19%|█▉        | 73/385 [00:22<01:45,  2.96it/s]"
     ]
    },
    {
     "name": "stdout",
     "output_type": "stream",
     "text": [
      "Error with file: /home/srp/Documents/LLP_DATA/2025-09-08_2HDM-S-2/LLP_data/mass_1.00e+00_ctau_2.74e+05_br_1.00e+00_seed_191632.csv\n",
      "Error message: operands could not be broadcast together with shapes (4,) (3,) \n"
     ]
    },
    {
     "name": "stderr",
     "output_type": "stream",
     "text": [
      "  7%|▋         | 29/391 [00:09<02:03,  2.92it/s]"
     ]
    },
    {
     "name": "stdout",
     "output_type": "stream",
     "text": [
      "Error with file: /home/srp/Documents/LLP_DATA/2025-09-08_2HDM-S-2/LLP_data/mass_1.00e+00_ctau_1.73e+02_br_1.00e+00_seed_191632.csv\n",
      "Error message: operands could not be broadcast together with shapes (4,) (3,) \n"
     ]
    },
    {
     "name": "stderr",
     "output_type": "stream",
     "text": [
      "  9%|▉         | 36/389 [00:12<02:03,  2.85it/s]"
     ]
    },
    {
     "name": "stdout",
     "output_type": "stream",
     "text": [
      "Error with file: /home/srp/Documents/LLP_DATA/2025-09-08_2HDM-S-2/LLP_data/mass_5.62e-01_ctau_1.46e+04_br_1.00e+00_seed_736715.csv\n",
      "Error message: operands could not be broadcast together with shapes (4,) (3,) \n"
     ]
    },
    {
     "name": "stderr",
     "output_type": "stream",
     "text": [
      "  6%|▋         | 25/391 [00:08<02:16,  2.69it/s]"
     ]
    },
    {
     "name": "stdout",
     "output_type": "stream",
     "text": [
      "Error with file: /home/srp/Documents/LLP_DATA/2025-09-08_2HDM-S-2/LLP_data/mass_6.31e-01_ctau_1.73e-01_br_1.00e+00_seed_736715.csv\n",
      "Error message: operands could not be broadcast together with shapes (4,) (3,) \n"
     ]
    },
    {
     "name": "stderr",
     "output_type": "stream",
     "text": [
      " 19%|█▉        | 74/385 [00:22<01:46,  2.91it/s]"
     ]
    },
    {
     "name": "stdout",
     "output_type": "stream",
     "text": [
      "Error with file: /home/srp/Documents/LLP_DATA/2025-09-08_2HDM-S-2/LLP_data/mass_3.55e-01_ctau_3.47e+07_br_1.00e+00_seed_517997.csv\n",
      "Error message: operands could not be broadcast together with shapes (4,) (3,) \n"
     ]
    },
    {
     "name": "stderr",
     "output_type": "stream",
     "text": [
      "  8%|▊         | 30/391 [00:10<02:01,  2.96it/s]"
     ]
    },
    {
     "name": "stdout",
     "output_type": "stream",
     "text": [
      "Error with file: /home/srp/Documents/LLP_DATA/2025-09-08_2HDM-S-2/LLP_data/mass_1.78e+00_ctau_3.17e+04_br_1.00e+00_seed_811007.csv\n",
      "Error message: operands could not be broadcast together with shapes (4,) (3,) \n"
     ]
    },
    {
     "name": "stderr",
     "output_type": "stream",
     "text": [
      " 10%|▉         | 37/389 [00:12<01:55,  3.05it/s]"
     ]
    },
    {
     "name": "stdout",
     "output_type": "stream",
     "text": [
      "Error with file: /home/srp/Documents/LLP_DATA/2025-09-08_2HDM-S-2/LLP_data/mass_3.98e-01_ctau_2.31e+05_br_1.00e+00_seed_517997.csv\n",
      "Error message: operands could not be broadcast together with shapes (4,) (3,) Error with file: /home/srp/Documents/LLP_DATA/2025-09-08_2HDM-S-2/LLP_data/mass_1.78e+00_ctau_2.00e+07_br_1.00e+00_seed_811007.csv\n",
      "\n",
      "Error message: operands could not be broadcast together with shapes (4,) (3,) \n"
     ]
    },
    {
     "name": "stderr",
     "output_type": "stream",
     "text": [
      " 19%|█▉        | 75/385 [00:22<01:40,  3.08it/s]"
     ]
    },
    {
     "name": "stdout",
     "output_type": "stream",
     "text": [
      "Error with file: /home/srp/Documents/LLP_DATA/2025-09-08_2HDM-S-2/LLP_data/mass_8.91e-01_ctau_9.07e+02_br_1.00e+00_seed_191632.csv\n",
      "Error message: operands could not be broadcast together with shapes (4,) (3,) \n"
     ]
    },
    {
     "name": "stderr",
     "output_type": "stream",
     "text": [
      "  8%|▊         | 31/391 [00:10<01:56,  3.09it/s]"
     ]
    },
    {
     "name": "stdout",
     "output_type": "stream",
     "text": [
      "Error with file: /home/srp/Documents/LLP_DATA/2025-09-08_2HDM-S-2/LLP_data/mass_1.58e+00_ctau_2.69e+00_br_1.00e+00_seed_811007.csv\n",
      "Error message: operands could not be broadcast together with shapes (4,) (3,) \n"
     ]
    },
    {
     "name": "stderr",
     "output_type": "stream",
     "text": [
      " 10%|▉         | 38/389 [00:12<01:49,  3.20it/s]"
     ]
    },
    {
     "name": "stdout",
     "output_type": "stream",
     "text": [
      "Error with file: /home/srp/Documents/LLP_DATA/2025-09-08_2HDM-S-2/LLP_data/mass_1.41e+00_ctau_6.34e+04_br_1.00e+00_seed_811007.csv\n",
      "Error with file: /home/srp/Documents/LLP_DATA/2025-09-08_2HDM-S-2/LLP_data/mass_5.01e-01_ctau_2.98e+07_br_1.00e+00_seed_517997.csv\n",
      "Error message: operands could not be broadcast together with shapes (4,) (3,) \n",
      "Error message: operands could not be broadcast together with shapes (4,) (3,) \n"
     ]
    },
    {
     "name": "stderr",
     "output_type": "stream",
     "text": [
      "  7%|▋         | 27/391 [00:09<02:02,  2.97it/s]"
     ]
    },
    {
     "name": "stdout",
     "output_type": "stream",
     "text": [
      "Error with file: /home/srp/Documents/LLP_DATA/2025-09-08_2HDM-S-2/LLP_data/mass_2.00e+00_ctau_1.27e+02_br_1.00e+00_seed_811007.csv\n",
      "Error message: operands could not be broadcast together with shapes (4,) (3,) \n"
     ]
    },
    {
     "name": "stderr",
     "output_type": "stream",
     "text": [
      "  8%|▊         | 32/391 [00:10<01:54,  3.14it/s]"
     ]
    },
    {
     "name": "stdout",
     "output_type": "stream",
     "text": [
      "Error with file: /home/srp/Documents/LLP_DATA/2025-09-08_2HDM-S-2/LLP_data/mass_1.12e+00_ctau_8.65e+03_br_1.00e+00_seed_191632.csv\n",
      "Error message: operands could not be broadcast together with shapes (4,) (3,) \n"
     ]
    },
    {
     "name": "stderr",
     "output_type": "stream",
     "text": [
      " 10%|█         | 39/389 [00:13<01:47,  3.25it/s]"
     ]
    },
    {
     "name": "stdout",
     "output_type": "stream",
     "text": [
      "Error with file: /home/srp/Documents/LLP_DATA/2025-09-08_2HDM-S-2/LLP_data/mass_3.16e-01_ctau_2.14e+01_br_1.00e+00_seed_517997.csv\n",
      "Error message: operands could not be broadcast together with shapes (4,) (3,) \n",
      "Error with file: /home/srp/Documents/LLP_DATA/2025-09-08_2HDM-S-2/LLP_data/mass_5.01e-01_ctau_1.18e+03_br_1.00e+00_seed_736715.csv\n"
     ]
    },
    {
     "name": "stderr",
     "output_type": "stream",
     "text": [
      "  7%|▋         | 28/391 [00:09<02:00,  3.01it/s]"
     ]
    },
    {
     "name": "stdout",
     "output_type": "stream",
     "text": [
      "Error message: operands could not be broadcast together with shapes (4,) (3,) \n"
     ]
    },
    {
     "name": "stderr",
     "output_type": "stream",
     "text": [
      " 20%|██        | 77/385 [00:23<01:41,  3.03it/s]"
     ]
    },
    {
     "name": "stdout",
     "output_type": "stream",
     "text": [
      "Error with file: /home/srp/Documents/LLP_DATA/2025-09-08_2HDM-S-2/LLP_data/mass_1.41e+00_ctau_4.00e+01_br_1.00e+00_seed_811007.csv\n",
      "Error message: operands could not be broadcast together with shapes (4,) (3,) \n"
     ]
    },
    {
     "name": "stderr",
     "output_type": "stream",
     "text": [
      " 10%|█         | 40/389 [00:13<01:51,  3.13it/s]"
     ]
    },
    {
     "name": "stdout",
     "output_type": "stream",
     "text": [
      "Error with file: /home/srp/Documents/LLP_DATA/2025-09-08_2HDM-S-2/LLP_data/mass_8.91e-01_ctau_1.44e-02_br_1.00e+00_seed_191632.csv\n",
      "Error message: operands could not be broadcast together with shapes (4,) (3,) \n"
     ]
    },
    {
     "name": "stderr",
     "output_type": "stream",
     "text": [
      "  8%|▊         | 33/391 [00:11<02:06,  2.84it/s]"
     ]
    },
    {
     "name": "stdout",
     "output_type": "stream",
     "text": [
      "Error with file: /home/srp/Documents/LLP_DATA/2025-09-08_2HDM-S-2/LLP_data/mass_1.00e+00_ctau_2.74e+05_br_1.00e+00_seed_191632.csv\n",
      "Error message: operands could not be broadcast together with shapes (4,) (3,) \n"
     ]
    },
    {
     "name": "stderr",
     "output_type": "stream",
     "text": [
      "  7%|▋         | 29/391 [00:09<02:13,  2.71it/s]"
     ]
    },
    {
     "name": "stdout",
     "output_type": "stream",
     "text": [
      "Error with file: /home/srp/Documents/LLP_DATA/2025-09-08_2HDM-S-2/LLP_data/mass_7.94e-01_ctau_5.15e-01_br_1.00e+00_seed_191632.csv\n",
      "Error message: operands could not be broadcast together with shapes (4,) (3,) \n"
     ]
    },
    {
     "name": "stderr",
     "output_type": "stream",
     "text": [
      " 20%|██        | 78/385 [00:24<01:53,  2.69it/s]"
     ]
    },
    {
     "name": "stdout",
     "output_type": "stream",
     "text": [
      "Error with file: /home/srp/Documents/LLP_DATA/2025-09-08_2HDM-S-2/LLP_data/mass_7.94e-01_ctau_5.15e+05_br_1.00e+00_seed_736715.csvError message: operands could not be broadcast together with shapes (4,) (3,) \n",
      "\n"
     ]
    },
    {
     "name": "stderr",
     "output_type": "stream",
     "text": [
      " 11%|█         | 41/389 [00:13<02:02,  2.83it/s]"
     ]
    },
    {
     "name": "stdout",
     "output_type": "stream",
     "text": [
      "Error with file: /home/srp/Documents/LLP_DATA/2025-09-08_2HDM-S-2/LLP_data/mass_1.00e+00_ctau_4.34e+04_br_1.00e+00_seed_191632.csv\n",
      "Error message: operands could not be broadcast together with shapes (4,) (3,) \n"
     ]
    },
    {
     "name": "stderr",
     "output_type": "stream",
     "text": [
      "  9%|▊         | 34/391 [00:11<02:13,  2.67it/s]"
     ]
    },
    {
     "name": "stdout",
     "output_type": "stream",
     "text": [
      "Error with file: /home/srp/Documents/LLP_DATA/2025-09-08_2HDM-S-2/LLP_data/mass_3.55e-01_ctau_3.47e+07_br_1.00e+00_seed_517997.csv\n",
      "Error message: operands could not be broadcast together with shapes (4,) (3,) \n"
     ]
    },
    {
     "name": "stderr",
     "output_type": "stream",
     "text": [
      "  8%|▊         | 30/391 [00:10<02:11,  2.76it/s]"
     ]
    },
    {
     "name": "stdout",
     "output_type": "stream",
     "text": [
      "Error with file: /home/srp/Documents/LLP_DATA/2025-09-08_2HDM-S-2/LLP_data/mass_7.08e-01_ctau_1.25e+01_br_1.00e+00_seed_736715.csv\n",
      "Error message: operands could not be broadcast together with shapes (4,) (3,) \n"
     ]
    },
    {
     "name": "stderr",
     "output_type": "stream",
     "text": [
      " 21%|██        | 79/385 [00:24<01:52,  2.72it/s]"
     ]
    },
    {
     "name": "stdout",
     "output_type": "stream",
     "text": [
      "Error with file: /home/srp/Documents/LLP_DATA/2025-09-08_2HDM-S-2/LLP_data/mass_1.78e+00_ctau_7.96e+06_br_1.00e+00_seed_811007.csv\n",
      "Error message: operands could not be broadcast together with shapes (4,) (3,) \n"
     ]
    },
    {
     "name": "stderr",
     "output_type": "stream",
     "text": [
      " 11%|█         | 42/389 [00:14<02:01,  2.87it/s]"
     ]
    },
    {
     "name": "stdout",
     "output_type": "stream",
     "text": [
      "Error with file: /home/srp/Documents/LLP_DATA/2025-09-08_2HDM-S-2/LLP_data/mass_3.98e-01_ctau_1.46e+00_br_1.00e+00_seed_517997.csv\n",
      "Error message: operands could not be broadcast together with shapes (4,) (3,) \n"
     ]
    },
    {
     "name": "stderr",
     "output_type": "stream",
     "text": [
      "  9%|▉         | 35/391 [00:11<02:12,  2.68it/s]"
     ]
    },
    {
     "name": "stdout",
     "output_type": "stream",
     "text": [
      "Error with file: /home/srp/Documents/LLP_DATA/2025-09-08_2HDM-S-2/LLP_data/mass_8.91e-01_ctau_9.07e+02_br_1.00e+00_seed_191632.csv\n",
      "Error message: operands could not be broadcast together with shapes (4,) (3,) \n"
     ]
    },
    {
     "name": "stderr",
     "output_type": "stream",
     "text": [
      "  8%|▊         | 31/391 [00:10<02:10,  2.77it/s]"
     ]
    },
    {
     "name": "stdout",
     "output_type": "stream",
     "text": [
      "Error with file: /home/srp/Documents/LLP_DATA/2025-09-08_2HDM-S-2/LLP_data/mass_8.91e-01_ctau_9.07e+06_br_1.00e+00_seed_191632.csv\n",
      "Error message: operands could not be broadcast together with shapes (4,) (3,) \n"
     ]
    },
    {
     "name": "stderr",
     "output_type": "stream",
     "text": [
      " 21%|██        | 80/385 [00:24<01:52,  2.71it/s]"
     ]
    },
    {
     "name": "stdout",
     "output_type": "stream",
     "text": [
      "Error with file: /home/srp/Documents/LLP_DATA/2025-09-08_2HDM-S-2/LLP_data/mass_5.62e-01_ctau_3.67e+04_br_1.00e+00_seed_736715.csv\n",
      "Error message: operands could not be broadcast together with shapes (4,) (3,) \n"
     ]
    },
    {
     "name": "stderr",
     "output_type": "stream",
     "text": [
      " 11%|█         | 43/389 [00:14<02:05,  2.76it/s]"
     ]
    },
    {
     "name": "stdout",
     "output_type": "stream",
     "text": [
      "Error with file: /home/srp/Documents/LLP_DATA/2025-09-08_2HDM-S-2/LLP_data/mass_1.00e+00_ctau_1.73e+02_br_1.00e+00_seed_191632.csv\n",
      "Error message: operands could not be broadcast together with shapes (4,) (3,) \n"
     ]
    },
    {
     "name": "stderr",
     "output_type": "stream",
     "text": [
      "  9%|▉         | 36/391 [00:12<02:25,  2.43it/s]"
     ]
    },
    {
     "name": "stdout",
     "output_type": "stream",
     "text": [
      "Error with file: /home/srp/Documents/LLP_DATA/2025-09-08_2HDM-S-2/LLP_data/mass_1.58e+00_ctau_1.69e+07_br_1.00e+00_seed_811007.csv\n",
      "Error with file: /home/srp/Documents/LLP_DATA/2025-09-08_2HDM-S-2/LLP_data/mass_2.00e+00_ctau_1.27e+02_br_1.00e+00_seed_811007.csvError message: operands could not be broadcast together with shapes (4,) (3,) \n",
      "Error message: operands could not be broadcast together with shapes (4,) (3,) \n",
      "\n"
     ]
    },
    {
     "name": "stderr",
     "output_type": "stream",
     "text": [
      " 21%|██        | 81/385 [00:25<01:52,  2.71it/s]"
     ]
    },
    {
     "name": "stdout",
     "output_type": "stream",
     "text": [
      "Error with file: /home/srp/Documents/LLP_DATA/2025-09-08_2HDM-S-2/LLP_data/mass_3.55e-01_ctau_1.38e+03_br_1.00e+00_seed_517997.csv\n",
      "Error message: operands could not be broadcast together with shapes (4,) (3,) \n"
     ]
    },
    {
     "name": "stderr",
     "output_type": "stream",
     "text": [
      " 11%|█▏        | 44/389 [00:15<02:06,  2.73it/s]"
     ]
    },
    {
     "name": "stdout",
     "output_type": "stream",
     "text": [
      "Error with file: /home/srp/Documents/LLP_DATA/2025-09-08_2HDM-S-2/LLP_data/mass_8.91e-01_ctau_1.44e-02_br_1.00e+00_seed_191632.csv\n",
      "Error message: operands could not be broadcast together with shapes (4,) (3,) \n",
      "Error with file: /home/srp/Documents/LLP_DATA/2025-09-08_2HDM-S-2/LLP_data/mass_1.78e+00_ctau_3.17e+04_br_1.00e+00_seed_811007.csv\n",
      "Error message: operands could not be broadcast together with shapes (4,) (3,) "
     ]
    },
    {
     "name": "stderr",
     "output_type": "stream",
     "text": [
      "  8%|▊         | 33/391 [00:11<02:09,  2.77it/s]"
     ]
    },
    {
     "name": "stdout",
     "output_type": "stream",
     "text": [
      "\n"
     ]
    },
    {
     "name": "stderr",
     "output_type": "stream",
     "text": [
      "  9%|▉         | 37/391 [00:12<02:20,  2.52it/s]"
     ]
    },
    {
     "name": "stdout",
     "output_type": "stream",
     "text": [
      "Error with file: /home/srp/Documents/LLP_DATA/2025-09-08_2HDM-S-2/LLP_data/mass_8.91e-01_ctau_3.61e+06_br_1.00e+00_seed_191632.csv\n",
      "Error message: operands could not be broadcast together with shapes (4,) (3,) \n"
     ]
    },
    {
     "name": "stderr",
     "output_type": "stream",
     "text": [
      " 21%|██▏       | 82/385 [00:25<01:52,  2.70it/s]"
     ]
    },
    {
     "name": "stdout",
     "output_type": "stream",
     "text": [
      "Error with file: /home/srp/Documents/LLP_DATA/2025-09-08_2HDM-S-2/LLP_data/mass_3.55e-01_ctau_3.47e+05_br_1.00e+00_seed_517997.csv\n",
      "Error message: operands could not be broadcast together with shapes (4,) (3,) \n"
     ]
    },
    {
     "name": "stderr",
     "output_type": "stream",
     "text": [
      " 12%|█▏        | 45/389 [00:15<02:02,  2.81it/s]"
     ]
    },
    {
     "name": "stdout",
     "output_type": "stream",
     "text": [
      "Error with file: /home/srp/Documents/LLP_DATA/2025-09-08_2HDM-S-2/LLP_data/mass_1.00e+00_ctau_4.34e+04_br_1.00e+00_seed_191632.csv\n",
      "Error message: operands could not be broadcast together with shapes (4,) (3,) \n"
     ]
    },
    {
     "name": "stderr",
     "output_type": "stream",
     "text": [
      "  9%|▊         | 34/391 [00:11<02:02,  2.91it/s]"
     ]
    },
    {
     "name": "stdout",
     "output_type": "stream",
     "text": [
      "Error with file: /home/srp/Documents/LLP_DATA/2025-09-08_2HDM-S-2/LLP_data/mass_1.58e+00_ctau_2.69e+00_br_1.00e+00_seed_811007.csv\n",
      "Error message: operands could not be broadcast together with shapes (4,) (3,) \n"
     ]
    },
    {
     "name": "stderr",
     "output_type": "stream",
     "text": [
      " 10%|▉         | 38/391 [00:13<02:11,  2.69it/s]"
     ]
    },
    {
     "name": "stdout",
     "output_type": "stream",
     "text": [
      "Error with file: /home/srp/Documents/LLP_DATA/2025-09-08_2HDM-S-2/LLP_data/mass_1.41e+00_ctau_1.59e+01_br_1.00e+00_seed_811007.csv\n",
      "Error message: operands could not be broadcast together with shapes (4,) (3,) \n"
     ]
    },
    {
     "name": "stderr",
     "output_type": "stream",
     "text": [
      " 22%|██▏       | 83/385 [00:25<01:48,  2.78it/s]"
     ]
    },
    {
     "name": "stdout",
     "output_type": "stream",
     "text": [
      "Error with file: /home/srp/Documents/LLP_DATA/2025-09-08_2HDM-S-2/LLP_data/mass_3.55e-01_ctau_5.50e+02_br_1.00e+00_seed_517997.csv\n",
      "Error message: operands could not be broadcast together with shapes (4,) (3,) \n"
     ]
    },
    {
     "name": "stderr",
     "output_type": "stream",
     "text": [
      " 12%|█▏        | 46/389 [00:15<02:00,  2.83it/s]"
     ]
    },
    {
     "name": "stdout",
     "output_type": "stream",
     "text": [
      "Error with file: /home/srp/Documents/LLP_DATA/2025-09-08_2HDM-S-2/LLP_data/mass_3.98e-01_ctau_1.46e+00_br_1.00e+00_seed_517997.csv\n",
      "Error message: operands could not be broadcast together with shapes (4,) (3,) \n"
     ]
    },
    {
     "name": "stderr",
     "output_type": "stream",
     "text": [
      "  9%|▉         | 35/391 [00:11<02:01,  2.92it/s]"
     ]
    },
    {
     "name": "stdout",
     "output_type": "stream",
     "text": [
      "Error with file: /home/srp/Documents/LLP_DATA/2025-09-08_2HDM-S-2/LLP_data/mass_1.12e+00_ctau_8.65e+03_br_1.00e+00_seed_191632.csv\n",
      "Error message: operands could not be broadcast together with shapes (4,) (3,) \n"
     ]
    },
    {
     "name": "stderr",
     "output_type": "stream",
     "text": [
      " 10%|▉         | 39/391 [00:13<02:06,  2.79it/s]"
     ]
    },
    {
     "name": "stdout",
     "output_type": "stream",
     "text": [
      "Error with file: /home/srp/Documents/LLP_DATA/2025-09-08_2HDM-S-2/LLP_data/mass_1.26e+00_ctau_2.66e+06_br_1.00e+00_seed_191632.csv\n",
      "Error message: operands could not be broadcast together with shapes (4,) (3,) \n"
     ]
    },
    {
     "name": "stderr",
     "output_type": "stream",
     "text": [
      " 22%|██▏       | 84/385 [00:26<01:48,  2.78it/s]"
     ]
    },
    {
     "name": "stdout",
     "output_type": "stream",
     "text": [
      "Error with file: /home/srp/Documents/LLP_DATA/2025-09-08_2HDM-S-2/LLP_data/mass_1.41e+00_ctau_6.34e+00_br_1.00e+00_seed_811007.csv\n",
      "Error message: operands could not be broadcast together with shapes (4,) (3,) \n"
     ]
    },
    {
     "name": "stderr",
     "output_type": "stream",
     "text": [
      " 12%|█▏        | 47/389 [00:16<01:56,  2.94it/s]"
     ]
    },
    {
     "name": "stdout",
     "output_type": "stream",
     "text": [
      "Error with file: /home/srp/Documents/LLP_DATA/2025-09-08_2HDM-S-2/LLP_data/mass_1.00e+00_ctau_1.73e+02_br_1.00e+00_seed_191632.csv\n",
      "Error message: operands could not be broadcast together with shapes (4,) (3,) \n"
     ]
    },
    {
     "name": "stderr",
     "output_type": "stream",
     "text": [
      "  9%|▉         | 36/391 [00:12<02:04,  2.85it/s]"
     ]
    },
    {
     "name": "stdout",
     "output_type": "stream",
     "text": [
      "Error with file: /home/srp/Documents/LLP_DATA/2025-09-08_2HDM-S-2/LLP_data/mass_1.12e+00_ctau_2.17e+04_br_1.00e+00_seed_191632.csv\n",
      "Error message: operands could not be broadcast together with shapes (4,) (3,) Error with file: /home/srp/Documents/LLP_DATA/2025-09-08_2HDM-S-2/LLP_data/mass_1.41e+00_ctau_4.00e+01_br_1.00e+00_seed_811007.csv\n",
      "\n"
     ]
    },
    {
     "name": "stderr",
     "output_type": "stream",
     "text": [
      " 22%|██▏       | 85/385 [00:26<01:43,  2.91it/s]"
     ]
    },
    {
     "name": "stdout",
     "output_type": "stream",
     "text": [
      "Error message: operands could not be broadcast together with shapes (4,) (3,) \n"
     ]
    },
    {
     "name": "stderr",
     "output_type": "stream",
     "text": [
      " 10%|█         | 40/391 [00:13<02:13,  2.63it/s]"
     ]
    },
    {
     "name": "stdout",
     "output_type": "stream",
     "text": [
      "Error with file: /home/srp/Documents/LLP_DATA/2025-09-08_2HDM-S-2/LLP_data/mass_1.78e+00_ctau_3.17e+04_br_1.00e+00_seed_811007.csv\n",
      "Error message: operands could not be broadcast together with shapes (4,) (3,) \n"
     ]
    },
    {
     "name": "stderr",
     "output_type": "stream",
     "text": [
      "  9%|▉         | 37/391 [00:12<01:58,  2.99it/s]"
     ]
    },
    {
     "name": "stdout",
     "output_type": "stream",
     "text": [
      "Error with file: /home/srp/Documents/LLP_DATA/2025-09-08_2HDM-S-2/LLP_data/mass_5.62e-01_ctau_9.23e+06_br_1.00e+00_seed_736715.csv\n",
      "Error with file: /home/srp/Documents/LLP_DATA/2025-09-08_2HDM-S-2/LLP_data/mass_7.94e-01_ctau_5.15e+05_br_1.00e+00_seed_736715.csvError message: operands could not be broadcast together with shapes (4,) (3,) \n",
      "\n",
      "Error message: operands could not be broadcast together with shapes (4,) (3,) \n"
     ]
    },
    {
     "name": "stderr",
     "output_type": "stream",
     "text": [
      " 10%|█         | 41/391 [00:14<02:05,  2.78it/s]"
     ]
    },
    {
     "name": "stdout",
     "output_type": "stream",
     "text": [
      "Error with file: /home/srp/Documents/LLP_DATA/2025-09-08_2HDM-S-2/LLP_data/mass_7.94e-01_ctau_3.25e+00_br_1.00e+00_seed_191632.csv\n",
      "Error message: operands could not be broadcast together with shapes (4,) (3,) \n"
     ]
    },
    {
     "name": "stderr",
     "output_type": "stream",
     "text": [
      " 22%|██▏       | 86/385 [00:26<01:45,  2.83it/s]"
     ]
    },
    {
     "name": "stdout",
     "output_type": "stream",
     "text": [
      "Error with file: /home/srp/Documents/LLP_DATA/2025-09-08_2HDM-S-2/LLP_data/mass_1.58e+00_ctau_2.69e+00_br_1.00e+00_seed_811007.csv\n",
      "Error message: operands could not be broadcast together with shapes (4,) (3,) \n"
     ]
    },
    {
     "name": "stderr",
     "output_type": "stream",
     "text": [
      " 10%|▉         | 38/391 [00:13<02:05,  2.80it/s]"
     ]
    },
    {
     "name": "stdout",
     "output_type": "stream",
     "text": [
      "Error with file: /home/srp/Documents/LLP_DATA/2025-09-08_2HDM-S-2/LLP_data/mass_2.00e+00_ctau_2.01e+01_br_1.00e+00_seed_811007.csv\n",
      "Error message: operands could not be broadcast together with shapes (4,) (3,) \n",
      "Error with file: /home/srp/Documents/LLP_DATA/2025-09-08_2HDM-S-2/LLP_data/mass_1.78e+00_ctau_7.96e+06_br_1.00e+00_seed_811007.csv\n"
     ]
    },
    {
     "name": "stderr",
     "output_type": "stream",
     "text": [
      " 13%|█▎        | 49/389 [00:17<02:21,  2.39it/s]"
     ]
    },
    {
     "name": "stdout",
     "output_type": "stream",
     "text": [
      "Error message: operands could not be broadcast together with shapes (4,) (3,) \n"
     ]
    },
    {
     "name": "stderr",
     "output_type": "stream",
     "text": [
      " 11%|█         | 42/391 [00:14<02:17,  2.54it/s]"
     ]
    },
    {
     "name": "stdout",
     "output_type": "stream",
     "text": [
      "Error with file: /home/srp/Documents/LLP_DATA/2025-09-08_2HDM-S-2/LLP_data/mass_1.58e+00_ctau_6.75e+04_br_1.00e+00_seed_811007.csv\n",
      "Error message: operands could not be broadcast together with shapes (4,) (3,) \n"
     ]
    },
    {
     "name": "stderr",
     "output_type": "stream",
     "text": [
      " 23%|██▎       | 87/385 [00:27<01:56,  2.55it/s]"
     ]
    },
    {
     "name": "stdout",
     "output_type": "stream",
     "text": [
      "Error with file: /home/srp/Documents/LLP_DATA/2025-09-08_2HDM-S-2/LLP_data/mass_1.12e+00_ctau_8.65e+03_br_1.00e+00_seed_191632.csv\n",
      "Error message: operands could not be broadcast together with shapes (4,) (3,) \n"
     ]
    },
    {
     "name": "stderr",
     "output_type": "stream",
     "text": [
      " 10%|▉         | 39/391 [00:13<02:09,  2.71it/s]"
     ]
    },
    {
     "name": "stdout",
     "output_type": "stream",
     "text": [
      "Error with file: /home/srp/Documents/LLP_DATA/2025-09-08_2HDM-S-2/LLP_data/mass_1.78e+00_ctau_1.26e+04_br_1.00e+00_seed_811007.csv\n",
      "Error message: operands could not be broadcast together with shapes (4,) (3,) \n"
     ]
    },
    {
     "name": "stderr",
     "output_type": "stream",
     "text": [
      " 13%|█▎        | 50/389 [00:17<02:16,  2.48it/s]"
     ]
    },
    {
     "name": "stdout",
     "output_type": "stream",
     "text": [
      "Error with file: /home/srp/Documents/LLP_DATA/2025-09-08_2HDM-S-2/LLP_data/mass_5.62e-01_ctau_3.67e+04_br_1.00e+00_seed_736715.csv\n",
      "Error message: operands could not be broadcast together with shapes (4,) (3,) \n"
     ]
    },
    {
     "name": "stderr",
     "output_type": "stream",
     "text": [
      " 11%|█         | 43/391 [00:15<02:15,  2.56it/s]"
     ]
    },
    {
     "name": "stdout",
     "output_type": "stream",
     "text": [
      "Error with file: /home/srp/Documents/LLP_DATA/2025-09-08_2HDM-S-2/LLP_data/mass_4.47e-01_ctau_1.04e+08_br_1.00e+00_seed_517997.csv\n",
      "Error message: operands could not be broadcast together with shapes (4,) (3,) \n"
     ]
    },
    {
     "name": "stderr",
     "output_type": "stream",
     "text": [
      " 23%|██▎       | 88/385 [00:27<01:58,  2.51it/s]"
     ]
    },
    {
     "name": "stdout",
     "output_type": "stream",
     "text": [
      "Error with file: /home/srp/Documents/LLP_DATA/2025-09-08_2HDM-S-2/LLP_data/mass_1.41e+00_ctau_4.00e+01_br_1.00e+00_seed_811007.csv\n",
      "Error message: operands could not be broadcast together with shapes (4,) (3,) \n"
     ]
    },
    {
     "name": "stderr",
     "output_type": "stream",
     "text": [
      " 10%|█         | 40/391 [00:13<02:13,  2.63it/s]"
     ]
    },
    {
     "name": "stdout",
     "output_type": "stream",
     "text": [
      "Error with file: /home/srp/Documents/LLP_DATA/2025-09-08_2HDM-S-2/LLP_data/mass_1.00e+00_ctau_6.88e+05_br_1.00e+00_seed_191632.csv\n",
      "Error message: operands could not be broadcast together with shapes (4,) (3,) \n"
     ]
    },
    {
     "name": "stderr",
     "output_type": "stream",
     "text": [
      " 13%|█▎        | 51/389 [00:17<02:15,  2.49it/s]"
     ]
    },
    {
     "name": "stdout",
     "output_type": "stream",
     "text": [
      "Error with file: /home/srp/Documents/LLP_DATA/2025-09-08_2HDM-S-2/LLP_data/mass_3.55e-01_ctau_1.38e+03_br_1.00e+00_seed_517997.csv\n",
      "Error message: operands could not be broadcast together with shapes (4,) (3,) \n"
     ]
    },
    {
     "name": "stderr",
     "output_type": "stream",
     "text": [
      " 11%|█▏        | 44/391 [00:15<02:22,  2.43it/s]"
     ]
    },
    {
     "name": "stdout",
     "output_type": "stream",
     "text": [
      "Error with file: /home/srp/Documents/LLP_DATA/2025-09-08_2HDM-S-2/LLP_data/mass_7.08e-01_ctau_1.25e+05_br_1.00e+00_seed_736715.csv\n",
      "Error message: operands could not be broadcast together with shapes (4,) (3,) \n"
     ]
    },
    {
     "name": "stderr",
     "output_type": "stream",
     "text": [
      " 23%|██▎       | 89/385 [00:28<01:58,  2.49it/s]"
     ]
    },
    {
     "name": "stdout",
     "output_type": "stream",
     "text": [
      "Error with file: /home/srp/Documents/LLP_DATA/2025-09-08_2HDM-S-2/LLP_data/mass_7.94e-01_ctau_5.15e+05_br_1.00e+00_seed_736715.csv\n",
      "Error message: operands could not be broadcast together with shapes (4,) (3,) \n"
     ]
    },
    {
     "name": "stderr",
     "output_type": "stream",
     "text": [
      " 10%|█         | 41/391 [00:14<02:08,  2.72it/s]"
     ]
    },
    {
     "name": "stdout",
     "output_type": "stream",
     "text": [
      "Error with file: /home/srp/Documents/LLP_DATA/2025-09-08_2HDM-S-2/LLP_data/mass_6.31e-01_ctau_4.34e-01_br_1.00e+00_seed_736715.csv\n",
      "Error message: operands could not be broadcast together with shapes (4,) (3,) \n"
     ]
    },
    {
     "name": "stderr",
     "output_type": "stream",
     "text": [
      " 13%|█▎        | 52/389 [00:18<02:14,  2.51it/s]"
     ]
    },
    {
     "name": "stdout",
     "output_type": "stream",
     "text": [
      "Error with file: /home/srp/Documents/LLP_DATA/2025-09-08_2HDM-S-2/LLP_data/mass_3.55e-01_ctau_3.47e+05_br_1.00e+00_seed_517997.csv\n",
      "Error message: operands could not be broadcast together with shapes (4,) (3,) \n"
     ]
    },
    {
     "name": "stderr",
     "output_type": "stream",
     "text": [
      " 12%|█▏        | 45/391 [00:15<02:14,  2.56it/s]"
     ]
    },
    {
     "name": "stdout",
     "output_type": "stream",
     "text": [
      "Error with file: /home/srp/Documents/LLP_DATA/2025-09-08_2HDM-S-2/LLP_data/mass_3.55e-01_ctau_8.71e-01_br_1.00e+00_seed_517997.csv\n",
      "Error message: operands could not be broadcast together with shapes (4,) (3,) \n"
     ]
    },
    {
     "name": "stderr",
     "output_type": "stream",
     "text": [
      " 23%|██▎       | 90/385 [00:28<01:53,  2.59it/s]"
     ]
    },
    {
     "name": "stdout",
     "output_type": "stream",
     "text": [
      "Error with file: /home/srp/Documents/LLP_DATA/2025-09-08_2HDM-S-2/LLP_data/mass_1.78e+00_ctau_7.96e+06_br_1.00e+00_seed_811007.csv\n",
      "Error message: operands could not be broadcast together with shapes (4,) (3,) \n"
     ]
    },
    {
     "name": "stderr",
     "output_type": "stream",
     "text": [
      " 11%|█         | 42/391 [00:14<02:03,  2.83it/s]"
     ]
    },
    {
     "name": "stdout",
     "output_type": "stream",
     "text": [
      "Error with file: /home/srp/Documents/LLP_DATA/2025-09-08_2HDM-S-2/LLP_data/mass_1.58e+00_ctau_1.69e-01_br_1.00e+00_seed_811007.csv\n",
      "Error message: operands could not be broadcast together with shapes (4,) (3,) \n"
     ]
    },
    {
     "name": "stderr",
     "output_type": "stream",
     "text": [
      " 14%|█▎        | 53/389 [00:18<02:09,  2.59it/s]"
     ]
    },
    {
     "name": "stdout",
     "output_type": "stream",
     "text": [
      "Error with file: /home/srp/Documents/LLP_DATA/2025-09-08_2HDM-S-2/LLP_data/mass_3.55e-01_ctau_5.50e+02_br_1.00e+00_seed_517997.csv\n",
      "Error message: operands could not be broadcast together with shapes (4,) (3,) \n"
     ]
    },
    {
     "name": "stderr",
     "output_type": "stream",
     "text": [
      " 12%|█▏        | 46/391 [00:16<02:12,  2.61it/s]"
     ]
    },
    {
     "name": "stdout",
     "output_type": "stream",
     "text": [
      "Error with file: /home/srp/Documents/LLP_DATA/2025-09-08_2HDM-S-2/LLP_data/mass_1.58e+00_ctau_2.69e+04_br_1.00e+00_seed_811007.csv\n",
      "Error message: operands could not be broadcast together with shapes (4,) (3,) \n"
     ]
    },
    {
     "name": "stderr",
     "output_type": "stream",
     "text": [
      " 24%|██▎       | 91/385 [00:28<01:51,  2.64it/s]"
     ]
    },
    {
     "name": "stdout",
     "output_type": "stream",
     "text": [
      "Error with file: /home/srp/Documents/LLP_DATA/2025-09-08_2HDM-S-2/LLP_data/mass_5.62e-01_ctau_3.67e+04_br_1.00e+00_seed_736715.csv\n",
      "Error message: operands could not be broadcast together with shapes (4,) (3,) \n"
     ]
    },
    {
     "name": "stderr",
     "output_type": "stream",
     "text": [
      " 11%|█         | 43/391 [00:14<02:01,  2.85it/s]"
     ]
    },
    {
     "name": "stdout",
     "output_type": "stream",
     "text": [
      "Error with file: /home/srp/Documents/LLP_DATA/2025-09-08_2HDM-S-2/LLP_data/mass_5.62e-01_ctau_3.67e+00_br_1.00e+00_seed_736715.csv\n",
      "Error message: operands could not be broadcast together with shapes (4,) (3,) \n"
     ]
    },
    {
     "name": "stderr",
     "output_type": "stream",
     "text": [
      " 14%|█▍        | 54/389 [00:19<02:16,  2.46it/s]"
     ]
    },
    {
     "name": "stdout",
     "output_type": "stream",
     "text": [
      "Error with file: /home/srp/Documents/LLP_DATA/2025-09-08_2HDM-S-2/LLP_data/mass_1.41e+00_ctau_6.34e+00_br_1.00e+00_seed_811007.csv\n",
      "Error message: operands could not be broadcast together with shapes (4,) (3,) \n"
     ]
    },
    {
     "name": "stderr",
     "output_type": "stream",
     "text": [
      " 12%|█▏        | 47/391 [00:16<02:14,  2.56it/s]"
     ]
    },
    {
     "name": "stdout",
     "output_type": "stream",
     "text": [
      "Error with file: /home/srp/Documents/LLP_DATA/2025-09-08_2HDM-S-2/LLP_data/mass_3.55e-01_ctau_8.71e+03_br_1.00e+00_seed_517997.csv\n",
      "Error message: operands could not be broadcast together with shapes (4,) (3,) \n"
     ]
    },
    {
     "name": "stderr",
     "output_type": "stream",
     "text": [
      " 24%|██▍       | 92/385 [00:29<01:57,  2.50it/s]"
     ]
    },
    {
     "name": "stdout",
     "output_type": "stream",
     "text": [
      "Error with file: /home/srp/Documents/LLP_DATA/2025-09-08_2HDM-S-2/LLP_data/mass_3.55e-01_ctau_1.38e+03_br_1.00e+00_seed_517997.csv\n",
      "Error message: operands could not be broadcast together with shapes (4,) (3,) \n"
     ]
    },
    {
     "name": "stderr",
     "output_type": "stream",
     "text": [
      " 11%|█▏        | 44/391 [00:15<02:11,  2.64it/s]"
     ]
    },
    {
     "name": "stdout",
     "output_type": "stream",
     "text": [
      "Error with file: /home/srp/Documents/LLP_DATA/2025-09-08_2HDM-S-2/LLP_data/mass_3.98e-01_ctau_3.67e+04_br_1.00e+00_seed_517997.csv\n",
      "Error message: operands could not be broadcast together with shapes (4,) (3,) \n"
     ]
    },
    {
     "name": "stderr",
     "output_type": "stream",
     "text": [
      " 14%|█▍        | 55/389 [00:19<02:09,  2.58it/s]"
     ]
    },
    {
     "name": "stdout",
     "output_type": "stream",
     "text": [
      "Error with file: /home/srp/Documents/LLP_DATA/2025-09-08_2HDM-S-2/LLP_data/mass_5.62e-01_ctau_9.23e+06_br_1.00e+00_seed_736715.csv\n",
      "Error message: operands could not be broadcast together with shapes (4,) (3,) \n"
     ]
    },
    {
     "name": "stderr",
     "output_type": "stream",
     "text": [
      " 12%|█▏        | 48/391 [00:16<02:08,  2.67it/s]"
     ]
    },
    {
     "name": "stdout",
     "output_type": "stream",
     "text": [
      "Error with file: /home/srp/Documents/LLP_DATA/2025-09-08_2HDM-S-2/LLP_data/mass_1.26e+00_ctau_6.69e+04_br_1.00e+00_seed_191632.csv\n",
      "Error message: operands could not be broadcast together with shapes (4,) (3,) \n"
     ]
    },
    {
     "name": "stderr",
     "output_type": "stream",
     "text": [
      " 24%|██▍       | 93/385 [00:29<01:48,  2.70it/s]"
     ]
    },
    {
     "name": "stdout",
     "output_type": "stream",
     "text": [
      "Error with file: /home/srp/Documents/LLP_DATA/2025-09-08_2HDM-S-2/LLP_data/mass_3.55e-01_ctau_3.47e+05_br_1.00e+00_seed_517997.csv\n",
      "Error message: operands could not be broadcast together with shapes (4,) (3,) \n"
     ]
    },
    {
     "name": "stderr",
     "output_type": "stream",
     "text": [
      " 12%|█▏        | 45/391 [00:15<02:02,  2.81it/s]"
     ]
    },
    {
     "name": "stdout",
     "output_type": "stream",
     "text": [
      "Error with file: /home/srp/Documents/LLP_DATA/2025-09-08_2HDM-S-2/LLP_data/mass_7.08e-01_ctau_1.98e+04_br_1.00e+00_seed_736715.csv\n",
      "Error message: operands could not be broadcast together with shapes (4,) (3,) \n"
     ]
    },
    {
     "name": "stderr",
     "output_type": "stream",
     "text": [
      " 14%|█▍        | 56/389 [00:19<02:03,  2.70it/s]"
     ]
    },
    {
     "name": "stdout",
     "output_type": "stream",
     "text": [
      "Error with file: /home/srp/Documents/LLP_DATA/2025-09-08_2HDM-S-2/LLP_data/mass_2.00e+00_ctau_2.01e+01_br_1.00e+00_seed_811007.csv\n",
      "Error message: operands could not be broadcast together with shapes (4,) (3,) \n",
      "Error with file: /home/srp/Documents/LLP_DATA/2025-09-08_2HDM-S-2/LLP_data/mass_3.16e-01_ctau_5.37e+01_br_1.00e+00_seed_517997.csv"
     ]
    },
    {
     "name": "stderr",
     "output_type": "stream",
     "text": [
      " 13%|█▎        | 49/391 [00:17<02:10,  2.61it/s]"
     ]
    },
    {
     "name": "stdout",
     "output_type": "stream",
     "text": [
      "\n",
      "Error message: operands could not be broadcast together with shapes (4,) (3,) \n"
     ]
    },
    {
     "name": "stderr",
     "output_type": "stream",
     "text": [
      " 24%|██▍       | 94/385 [00:30<01:49,  2.65it/s]"
     ]
    },
    {
     "name": "stdout",
     "output_type": "stream",
     "text": [
      "Error with file: /home/srp/Documents/LLP_DATA/2025-09-08_2HDM-S-2/LLP_data/mass_3.55e-01_ctau_5.50e+02_br_1.00e+00_seed_517997.csv\n",
      "Error message: operands could not be broadcast together with shapes (4,) (3,) \n"
     ]
    },
    {
     "name": "stderr",
     "output_type": "stream",
     "text": [
      " 12%|█▏        | 46/391 [00:16<02:15,  2.54it/s]"
     ]
    },
    {
     "name": "stdout",
     "output_type": "stream",
     "text": [
      "Error with file: /home/srp/Documents/LLP_DATA/2025-09-08_2HDM-S-2/LLP_data/mass_3.55e-01_ctau_3.47e+03_br_1.00e+00_seed_517997.csv\n",
      "Error message: operands could not be broadcast together with shapes (4,) (3,) \n"
     ]
    },
    {
     "name": "stderr",
     "output_type": "stream",
     "text": [
      " 15%|█▍        | 57/389 [00:20<02:17,  2.41it/s]"
     ]
    },
    {
     "name": "stdout",
     "output_type": "stream",
     "text": [
      "Error with file: /home/srp/Documents/LLP_DATA/2025-09-08_2HDM-S-2/LLP_data/mass_1.12e+00_ctau_5.46e+00_br_1.00e+00_seed_191632.csv\n",
      "Error message: operands could not be broadcast together with shapes (4,) (3,) \n"
     ]
    },
    {
     "name": "stderr",
     "output_type": "stream",
     "text": [
      " 25%|██▍       | 95/385 [00:30<01:53,  2.54it/s]"
     ]
    },
    {
     "name": "stdout",
     "output_type": "stream",
     "text": [
      "Error with file: /home/srp/Documents/LLP_DATA/2025-09-08_2HDM-S-2/LLP_data/mass_1.78e+00_ctau_1.26e+04_br_1.00e+00_seed_811007.csv\n",
      "Error message: operands could not be broadcast together with shapes (4,) (3,) \n"
     ]
    },
    {
     "name": "stderr",
     "output_type": "stream",
     "text": [
      " 13%|█▎        | 50/391 [00:17<02:26,  2.33it/s]"
     ]
    },
    {
     "name": "stdout",
     "output_type": "stream",
     "text": [
      "Error with file: /home/srp/Documents/LLP_DATA/2025-09-08_2HDM-S-2/LLP_data/mass_1.41e+00_ctau_6.34e+00_br_1.00e+00_seed_811007.csv\n",
      "Error message: operands could not be broadcast together with shapes (4,) (3,) \n"
     ]
    },
    {
     "name": "stderr",
     "output_type": "stream",
     "text": [
      " 12%|█▏        | 47/391 [00:16<02:20,  2.45it/s]"
     ]
    },
    {
     "name": "stdout",
     "output_type": "stream",
     "text": [
      "Error with file: /home/srp/Documents/LLP_DATA/2025-09-08_2HDM-S-2/LLP_data/mass_3.16e-01_ctau_3.39e+08_br_1.00e+00_seed_517997.csv\n",
      "Error message: operands could not be broadcast together with shapes (4,) (3,) \n"
     ]
    },
    {
     "name": "stderr",
     "output_type": "stream",
     "text": [
      " 15%|█▍        | 58/389 [00:20<02:15,  2.44it/s]"
     ]
    },
    {
     "name": "stdout",
     "output_type": "stream",
     "text": [
      "Error with file: /home/srp/Documents/LLP_DATA/2025-09-08_2HDM-S-2/LLP_data/mass_5.62e-01_ctau_5.82e-01_br_1.00e+00_seed_736715.csv\n",
      "Error message: operands could not be broadcast together with shapes (4,) (3,) \n"
     ]
    },
    {
     "name": "stderr",
     "output_type": "stream",
     "text": [
      " 25%|██▍       | 96/385 [00:30<01:52,  2.56it/s]"
     ]
    },
    {
     "name": "stdout",
     "output_type": "stream",
     "text": [
      "Error with file: /home/srp/Documents/LLP_DATA/2025-09-08_2HDM-S-2/LLP_data/mass_1.00e+00_ctau_6.88e+05_br_1.00e+00_seed_191632.csv\n",
      "Error message: operands could not be broadcast together with shapes (4,) (3,) \n"
     ]
    },
    {
     "name": "stderr",
     "output_type": "stream",
     "text": [
      " 13%|█▎        | 51/391 [00:18<02:20,  2.43it/s]"
     ]
    },
    {
     "name": "stdout",
     "output_type": "stream",
     "text": [
      "Error with file: /home/srp/Documents/LLP_DATA/2025-09-08_2HDM-S-2/LLP_data/mass_5.62e-01_ctau_9.23e+06_br_1.00e+00_seed_736715.csv\n",
      "Error message: operands could not be broadcast together with shapes (4,) (3,) \n"
     ]
    },
    {
     "name": "stderr",
     "output_type": "stream",
     "text": [
      " 12%|█▏        | 48/391 [00:16<02:15,  2.54it/s]"
     ]
    },
    {
     "name": "stdout",
     "output_type": "stream",
     "text": [
      "Error with file: /home/srp/Documents/LLP_DATA/2025-09-08_2HDM-S-2/LLP_data/mass_7.08e-01_ctau_4.96e+02_br_1.00e+00_seed_736715.csv\n",
      "Error message: operands could not be broadcast together with shapes (4,) (3,) \n"
     ]
    },
    {
     "name": "stderr",
     "output_type": "stream",
     "text": [
      " 25%|██▌       | 97/385 [00:31<01:46,  2.70it/s]"
     ]
    },
    {
     "name": "stdout",
     "output_type": "stream",
     "text": [
      "Error with file: /home/srp/Documents/LLP_DATA/2025-09-08_2HDM-S-2/LLP_data/mass_2.00e+00_ctau_8.01e+02_br_1.00e+00_seed_811007.csv\n",
      "Error message: operands could not be broadcast together with shapes (4,) (3,) \n"
     ]
    },
    {
     "name": "stderr",
     "output_type": "stream",
     "text": [
      " 15%|█▌        | 59/389 [00:20<02:10,  2.53it/s]"
     ]
    },
    {
     "name": "stdout",
     "output_type": "stream",
     "text": [
      "Error with file: /home/srp/Documents/LLP_DATA/2025-09-08_2HDM-S-2/LLP_data/mass_6.31e-01_ctau_4.34e-01_br_1.00e+00_seed_736715.csv\n",
      "Error message: operands could not be broadcast together with shapes (4,) (3,) \n",
      "Error with file: /home/srp/Documents/LLP_DATA/2025-09-08_2HDM-S-2/LLP_data/mass_2.00e+00_ctau_2.01e+01_br_1.00e+00_seed_811007.csv"
     ]
    },
    {
     "name": "stderr",
     "output_type": "stream",
     "text": [
      " 13%|█▎        | 52/391 [00:18<02:15,  2.50it/s]"
     ]
    },
    {
     "name": "stdout",
     "output_type": "stream",
     "text": [
      "\n",
      "Error message: operands could not be broadcast together with shapes (4,) (3,) \n"
     ]
    },
    {
     "name": "stderr",
     "output_type": "stream",
     "text": [
      " 13%|█▎        | 49/391 [00:17<02:06,  2.70it/s]"
     ]
    },
    {
     "name": "stdout",
     "output_type": "stream",
     "text": [
      "Error with file: /home/srp/Documents/LLP_DATA/2025-09-08_2HDM-S-2/LLP_data/mass_8.91e-01_ctau_1.44e+04_br_1.00e+00_seed_191632.csvError with file: /home/srp/Documents/LLP_DATA/2025-09-08_2HDM-S-2/LLP_data/mass_5.62e-01_ctau_9.23e+02_br_1.00e+00_seed_736715.csv\n",
      "\n",
      "Error message: operands could not be broadcast together with shapes (4,) (3,) \n",
      "Error message: operands could not be broadcast together with shapes (4,) (3,) \n"
     ]
    },
    {
     "name": "stderr",
     "output_type": "stream",
     "text": [
      " 15%|█▌        | 60/389 [00:21<02:01,  2.70it/s]"
     ]
    },
    {
     "name": "stdout",
     "output_type": "stream",
     "text": [
      "Error with file: /home/srp/Documents/LLP_DATA/2025-09-08_2HDM-S-2/LLP_data/mass_1.58e+00_ctau_1.69e-01_br_1.00e+00_seed_811007.csv\n",
      "Error with file: /home/srp/Documents/LLP_DATA/2025-09-08_2HDM-S-2/LLP_data/mass_1.78e+00_ctau_1.26e+04_br_1.00e+00_seed_811007.csvError message: operands could not be broadcast together with shapes (4,) (3,) \n",
      "\n",
      "Error message: operands could not be broadcast together with shapes (4,) (3,) \n"
     ]
    },
    {
     "name": "stderr",
     "output_type": "stream",
     "text": [
      " 13%|█▎        | 50/391 [00:17<02:01,  2.81it/s]"
     ]
    },
    {
     "name": "stdout",
     "output_type": "stream",
     "text": [
      "Error with file: /home/srp/Documents/LLP_DATA/2025-09-08_2HDM-S-2/LLP_data/mass_1.26e+00_ctau_2.66e+02_br_1.00e+00_seed_191632.csv\n",
      "Error message: operands could not be broadcast together with shapes (4,) (3,) \n"
     ]
    },
    {
     "name": "stderr",
     "output_type": "stream",
     "text": [
      " 26%|██▌       | 99/385 [00:31<01:33,  3.07it/s]"
     ]
    },
    {
     "name": "stdout",
     "output_type": "stream",
     "text": [
      "Error with file: /home/srp/Documents/LLP_DATA/2025-09-08_2HDM-S-2/LLP_data/mass_5.01e-01_ctau_4.72e+00_br_1.00e+00_seed_736715.csv\n",
      "Error message: operands could not be broadcast together with shapes (4,) (3,) \n"
     ]
    },
    {
     "name": "stderr",
     "output_type": "stream",
     "text": [
      " 16%|█▌        | 61/389 [00:21<01:58,  2.78it/s]"
     ]
    },
    {
     "name": "stdout",
     "output_type": "stream",
     "text": [
      "Error with file: /home/srp/Documents/LLP_DATA/2025-09-08_2HDM-S-2/LLP_data/mass_5.62e-01_ctau_3.67e+00_br_1.00e+00_seed_736715.csv\n",
      "Error message: operands could not be broadcast together with shapes (4,) (3,) \n",
      "Error with file: /home/srp/Documents/LLP_DATA/2025-09-08_2HDM-S-2/LLP_data/mass_1.00e+00_ctau_6.88e+05_br_1.00e+00_seed_191632.csv"
     ]
    },
    {
     "name": "stderr",
     "output_type": "stream",
     "text": [
      " 14%|█▍        | 54/391 [00:19<02:08,  2.62it/s]"
     ]
    },
    {
     "name": "stdout",
     "output_type": "stream",
     "text": [
      "\n",
      "Error message: operands could not be broadcast together with shapes (4,) (3,) \n"
     ]
    },
    {
     "name": "stderr",
     "output_type": "stream",
     "text": [
      " 13%|█▎        | 51/391 [00:17<02:07,  2.66it/s]"
     ]
    },
    {
     "name": "stdout",
     "output_type": "stream",
     "text": [
      "Error with file: /home/srp/Documents/LLP_DATA/2025-09-08_2HDM-S-2/LLP_data/mass_3.16e-01_ctau_2.14e+05_br_1.00e+00_seed_517997.csv\n",
      "Error message: operands could not be broadcast together with shapes (4,) (3,) \n"
     ]
    },
    {
     "name": "stderr",
     "output_type": "stream",
     "text": [
      " 26%|██▌       | 100/385 [00:32<01:36,  2.95it/s]"
     ]
    },
    {
     "name": "stdout",
     "output_type": "stream",
     "text": [
      "Error with file: /home/srp/Documents/LLP_DATA/2025-09-08_2HDM-S-2/LLP_data/mass_1.00e+00_ctau_2.74e+01_br_1.00e+00_seed_191632.csv\n",
      "Error message: operands could not be broadcast together with shapes (4,) (3,) \n"
     ]
    },
    {
     "name": "stderr",
     "output_type": "stream",
     "text": [
      " 16%|█▌        | 62/389 [00:22<02:00,  2.70it/s]"
     ]
    },
    {
     "name": "stdout",
     "output_type": "stream",
     "text": [
      "Error with file: /home/srp/Documents/LLP_DATA/2025-09-08_2HDM-S-2/LLP_data/mass_6.31e-01_ctau_4.34e-01_br_1.00e+00_seed_736715.csv\n",
      "Error message: operands could not be broadcast together with shapes (4,) (3,) \n"
     ]
    },
    {
     "name": "stderr",
     "output_type": "stream",
     "text": [
      " 13%|█▎        | 52/391 [00:18<01:58,  2.87it/s]"
     ]
    },
    {
     "name": "stdout",
     "output_type": "stream",
     "text": [
      "Error with file: /home/srp/Documents/LLP_DATA/2025-09-08_2HDM-S-2/LLP_data/mass_3.98e-01_ctau_3.67e+04_br_1.00e+00_seed_517997.csv\n",
      "Error message: operands could not be broadcast together with shapes (4,) (3,) \n"
     ]
    },
    {
     "name": "stderr",
     "output_type": "stream",
     "text": [
      " 14%|█▍        | 55/391 [00:19<02:07,  2.64it/s]"
     ]
    },
    {
     "name": "stdout",
     "output_type": "stream",
     "text": [
      "Error with file: /home/srp/Documents/LLP_DATA/2025-09-08_2HDM-S-2/LLP_data/mass_8.91e-01_ctau_1.44e+06_br_1.00e+00_seed_191632.csv\n",
      "Error message: operands could not be broadcast together with shapes (4,) (3,) \n"
     ]
    },
    {
     "name": "stderr",
     "output_type": "stream",
     "text": [
      " 26%|██▌       | 101/385 [00:32<01:34,  3.00it/s]"
     ]
    },
    {
     "name": "stdout",
     "output_type": "stream",
     "text": [
      "Error with file: /home/srp/Documents/LLP_DATA/2025-09-08_2HDM-S-2/LLP_data/mass_1.26e+00_ctau_4.22e-01_br_1.00e+00_seed_811007.csv\n",
      "Error message: operands could not be broadcast together with shapes (4,) (3,) \n"
     ]
    },
    {
     "name": "stderr",
     "output_type": "stream",
     "text": [
      " 16%|█▌        | 63/389 [00:22<01:51,  2.93it/s]"
     ]
    },
    {
     "name": "stdout",
     "output_type": "stream",
     "text": [
      "Error with file: /home/srp/Documents/LLP_DATA/2025-09-08_2HDM-S-2/LLP_data/mass_1.58e+00_ctau_1.69e-01_br_1.00e+00_seed_811007.csv\n",
      "Error message: operands could not be broadcast together with shapes (4,) (3,) \n"
     ]
    },
    {
     "name": "stderr",
     "output_type": "stream",
     "text": [
      " 14%|█▎        | 53/391 [00:18<01:53,  2.97it/s]"
     ]
    },
    {
     "name": "stdout",
     "output_type": "stream",
     "text": [
      "Error with file: /home/srp/Documents/LLP_DATA/2025-09-08_2HDM-S-2/LLP_data/mass_7.08e-01_ctau_1.98e+04_br_1.00e+00_seed_736715.csv\n",
      "Error message: operands could not be broadcast together with shapes (4,) (3,) \n"
     ]
    },
    {
     "name": "stderr",
     "output_type": "stream",
     "text": [
      " 14%|█▍        | 56/391 [00:19<01:58,  2.82it/s]"
     ]
    },
    {
     "name": "stdout",
     "output_type": "stream",
     "text": [
      "Error with file: /home/srp/Documents/LLP_DATA/2025-09-08_2HDM-S-2/LLP_data/mass_3.16e-01_ctau_3.39e+00_br_1.00e+00_seed_517997.csv\n",
      "Error message: operands could not be broadcast together with shapes (4,) (3,) \n"
     ]
    },
    {
     "name": "stderr",
     "output_type": "stream",
     "text": [
      " 26%|██▋       | 102/385 [00:32<01:31,  3.09it/s]"
     ]
    },
    {
     "name": "stdout",
     "output_type": "stream",
     "text": [
      "Error with file: /home/srp/Documents/LLP_DATA/2025-09-08_2HDM-S-2/LLP_data/mass_4.47e-01_ctau_4.12e+05_br_1.00e+00_seed_517997.csv\n",
      "Error message: operands could not be broadcast together with shapes (4,) (3,) \n"
     ]
    },
    {
     "name": "stderr",
     "output_type": "stream",
     "text": [
      " 16%|█▋        | 64/389 [00:22<01:47,  3.03it/s]"
     ]
    },
    {
     "name": "stdout",
     "output_type": "stream",
     "text": [
      "Error with file: /home/srp/Documents/LLP_DATA/2025-09-08_2HDM-S-2/LLP_data/mass_5.62e-01_ctau_3.67e+00_br_1.00e+00_seed_736715.csv\n",
      "Error message: operands could not be broadcast together with shapes (4,) (3,) \n"
     ]
    },
    {
     "name": "stderr",
     "output_type": "stream",
     "text": [
      " 14%|█▍        | 54/391 [00:18<01:48,  3.12it/s]"
     ]
    },
    {
     "name": "stdout",
     "output_type": "stream",
     "text": [
      "Error with file: /home/srp/Documents/LLP_DATA/2025-09-08_2HDM-S-2/LLP_data/mass_3.55e-01_ctau_3.47e+03_br_1.00e+00_seed_517997.csv\n",
      "Error message: operands could not be broadcast together with shapes (4,) (3,) \n"
     ]
    },
    {
     "name": "stderr",
     "output_type": "stream",
     "text": [
      " 15%|█▍        | 57/391 [00:20<01:51,  3.01it/s]"
     ]
    },
    {
     "name": "stdout",
     "output_type": "stream",
     "text": [
      "Error with file: /home/srp/Documents/LLP_DATA/2025-09-08_2HDM-S-2/LLP_data/mass_1.41e+00_ctau_2.53e+00_br_1.00e+00_seed_811007.csv\n",
      "Error message: operands could not be broadcast together with shapes (4,) (3,) \n"
     ]
    },
    {
     "name": "stderr",
     "output_type": "stream",
     "text": [
      " 27%|██▋       | 103/385 [00:33<01:29,  3.16it/s]"
     ]
    },
    {
     "name": "stdout",
     "output_type": "stream",
     "text": [
      "Error with file: /home/srp/Documents/LLP_DATA/2025-09-08_2HDM-S-2/LLP_data/mass_1.00e+00_ctau_4.34e+00_br_1.00e+00_seed_191632.csv\n",
      "Error message: operands could not be broadcast together with shapes (4,) (3,) \n"
     ]
    },
    {
     "name": "stderr",
     "output_type": "stream",
     "text": [
      " 17%|█▋        | 65/389 [00:22<01:42,  3.16it/s]"
     ]
    },
    {
     "name": "stdout",
     "output_type": "stream",
     "text": [
      "Error with file: /home/srp/Documents/LLP_DATA/2025-09-08_2HDM-S-2/LLP_data/mass_3.98e-01_ctau_3.67e+04_br_1.00e+00_seed_517997.csv\n",
      "Error message: operands could not be broadcast together with shapes (4,) (3,) \n"
     ]
    },
    {
     "name": "stderr",
     "output_type": "stream",
     "text": [
      " 14%|█▍        | 55/391 [00:19<01:44,  3.23it/s]"
     ]
    },
    {
     "name": "stdout",
     "output_type": "stream",
     "text": [
      "Error with file: /home/srp/Documents/LLP_DATA/2025-09-08_2HDM-S-2/LLP_data/mass_3.16e-01_ctau_3.39e+08_br_1.00e+00_seed_517997.csv\n",
      "Error message: operands could not be broadcast together with shapes (4,) (3,) \n"
     ]
    },
    {
     "name": "stderr",
     "output_type": "stream",
     "text": [
      " 15%|█▍        | 58/391 [00:20<01:48,  3.07it/s]"
     ]
    },
    {
     "name": "stdout",
     "output_type": "stream",
     "text": [
      "Error with file: /home/srp/Documents/LLP_DATA/2025-09-08_2HDM-S-2/LLP_data/mass_1.12e+00_ctau_8.65e+05_br_1.00e+00_seed_191632.csv\n",
      "Error message: operands could not be broadcast together with shapes (4,) (3,) \n"
     ]
    },
    {
     "name": "stderr",
     "output_type": "stream",
     "text": [
      " 27%|██▋       | 104/385 [00:33<01:27,  3.22it/s]"
     ]
    },
    {
     "name": "stdout",
     "output_type": "stream",
     "text": [
      "Error with file: /home/srp/Documents/LLP_DATA/2025-09-08_2HDM-S-2/LLP_data/mass_1.58e+00_ctau_1.07e+02_br_1.00e+00_seed_811007.csv\n",
      "Error message: operands could not be broadcast together with shapes (4,) (3,) \n"
     ]
    },
    {
     "name": "stderr",
     "output_type": "stream",
     "text": [
      " 17%|█▋        | 66/389 [00:23<01:40,  3.21it/s]"
     ]
    },
    {
     "name": "stdout",
     "output_type": "stream",
     "text": [
      "Error with file: /home/srp/Documents/LLP_DATA/2025-09-08_2HDM-S-2/LLP_data/mass_7.08e-01_ctau_1.98e+04_br_1.00e+00_seed_736715.csv\n",
      "Error message: operands could not be broadcast together with shapes (4,) (3,) \n"
     ]
    },
    {
     "name": "stderr",
     "output_type": "stream",
     "text": [
      " 14%|█▍        | 56/391 [00:19<01:47,  3.12it/s]"
     ]
    },
    {
     "name": "stdout",
     "output_type": "stream",
     "text": [
      "Error with file: /home/srp/Documents/LLP_DATA/2025-09-08_2HDM-S-2/LLP_data/mass_2.00e+00_ctau_8.01e+02_br_1.00e+00_seed_811007.csv\n",
      "Error message: operands could not be broadcast together with shapes (4,) (3,) \n"
     ]
    },
    {
     "name": "stderr",
     "output_type": "stream",
     "text": [
      " 15%|█▌        | 59/391 [00:20<01:52,  2.96it/s]"
     ]
    },
    {
     "name": "stdout",
     "output_type": "stream",
     "text": [
      "Error with file: /home/srp/Documents/LLP_DATA/2025-09-08_2HDM-S-2/LLP_data/mass_1.26e+00_ctau_4.22e+01_br_1.00e+00_seed_191632.csv\n",
      "Error message: operands could not be broadcast together with shapes (4,) (3,) \n"
     ]
    },
    {
     "name": "stderr",
     "output_type": "stream",
     "text": [
      " 17%|█▋        | 67/389 [00:23<01:33,  3.43it/s]"
     ]
    },
    {
     "name": "stdout",
     "output_type": "stream",
     "text": [
      "Error with file: /home/srp/Documents/LLP_DATA/2025-09-08_2HDM-S-2/LLP_data/mass_8.91e-01_ctau_1.44e+00_br_1.00e+00_seed_191632.csv\n",
      "Error message: operands could not be broadcast together with shapes (4,) (3,) \n"
     ]
    },
    {
     "name": "stderr",
     "output_type": "stream",
     "text": [
      " 27%|██▋       | 105/385 [00:33<01:31,  3.06it/s]"
     ]
    },
    {
     "name": "stdout",
     "output_type": "stream",
     "text": [
      "Error with file: /home/srp/Documents/LLP_DATA/2025-09-08_2HDM-S-2/LLP_data/mass_3.55e-01_ctau_3.47e+03_br_1.00e+00_seed_517997.csv\n",
      "Error message: operands could not be broadcast together with shapes (4,) (3,) \n"
     ]
    },
    {
     "name": "stderr",
     "output_type": "stream",
     "text": [
      " 15%|█▍        | 57/391 [00:19<01:42,  3.24it/s]"
     ]
    },
    {
     "name": "stdout",
     "output_type": "stream",
     "text": [
      "Error with file: /home/srp/Documents/LLP_DATA/2025-09-08_2HDM-S-2/LLP_data/mass_8.91e-01_ctau_2.28e+01_br_1.00e+00_seed_191632.csvError with file: /home/srp/Documents/LLP_DATA/2025-09-08_2HDM-S-2/LLP_data/mass_8.91e-01_ctau_1.44e+04_br_1.00e+00_seed_191632.csv\n",
      "\n",
      "Error message: operands could not be broadcast together with shapes (4,) (3,) \n",
      "Error message: operands could not be broadcast together with shapes (4,) (3,) \n"
     ]
    },
    {
     "name": "stderr",
     "output_type": "stream",
     "text": [
      " 17%|█▋        | 68/389 [00:23<01:31,  3.50it/s]"
     ]
    },
    {
     "name": "stdout",
     "output_type": "stream",
     "text": [
      "Error with file: /home/srp/Documents/LLP_DATA/2025-09-08_2HDM-S-2/LLP_data/mass_1.78e+00_ctau_2.00e-01_br_1.00e+00_seed_811007.csv\n",
      "Error message: operands could not be broadcast together with shapes (4,) (3,) \n"
     ]
    },
    {
     "name": "stderr",
     "output_type": "stream",
     "text": [
      " 28%|██▊       | 106/385 [00:33<01:28,  3.16it/s]"
     ]
    },
    {
     "name": "stdout",
     "output_type": "stream",
     "text": [
      "Error with file: /home/srp/Documents/LLP_DATA/2025-09-08_2HDM-S-2/LLP_data/mass_3.16e-01_ctau_3.39e+08_br_1.00e+00_seed_517997.csv\n",
      "Error message: operands could not be broadcast together with shapes (4,) (3,) \n"
     ]
    },
    {
     "name": "stderr",
     "output_type": "stream",
     "text": [
      " 15%|█▍        | 58/391 [00:20<01:47,  3.11it/s]"
     ]
    },
    {
     "name": "stdout",
     "output_type": "stream",
     "text": [
      "Error with file: /home/srp/Documents/LLP_DATA/2025-09-08_2HDM-S-2/LLP_data/mass_5.01e-01_ctau_4.72e+00_br_1.00e+00_seed_736715.csvError with file: /home/srp/Documents/LLP_DATA/2025-09-08_2HDM-S-2/LLP_data/mass_1.78e+00_ctau_3.17e-02_br_1.00e+00_seed_811007.csv\n",
      "Error message: operands could not be broadcast together with shapes (4,) (3,) \n",
      "Error message: operands could not be broadcast together with shapes (4,) (3,) \n",
      "\n"
     ]
    },
    {
     "name": "stderr",
     "output_type": "stream",
     "text": [
      " 18%|█▊        | 69/389 [00:24<01:35,  3.34it/s]"
     ]
    },
    {
     "name": "stdout",
     "output_type": "stream",
     "text": [
      "Error with file: /home/srp/Documents/LLP_DATA/2025-09-08_2HDM-S-2/LLP_data/mass_1.12e+00_ctau_8.65e-01_br_1.00e+00_seed_191632.csv\n",
      "Error message: operands could not be broadcast together with shapes (4,) (3,) \n"
     ]
    },
    {
     "name": "stderr",
     "output_type": "stream",
     "text": [
      " 28%|██▊       | 107/385 [00:34<01:29,  3.09it/s]"
     ]
    },
    {
     "name": "stdout",
     "output_type": "stream",
     "text": [
      "Error with file: /home/srp/Documents/LLP_DATA/2025-09-08_2HDM-S-2/LLP_data/mass_2.00e+00_ctau_8.01e+02_br_1.00e+00_seed_811007.csv\n",
      "Error message: operands could not be broadcast together with shapes (4,) (3,) \n"
     ]
    },
    {
     "name": "stderr",
     "output_type": "stream",
     "text": [
      " 15%|█▌        | 59/391 [00:20<01:41,  3.27it/s]"
     ]
    },
    {
     "name": "stdout",
     "output_type": "stream",
     "text": [
      "Error with file: /home/srp/Documents/LLP_DATA/2025-09-08_2HDM-S-2/LLP_data/mass_1.00e+00_ctau_2.74e+01_br_1.00e+00_seed_191632.csvError with file: /home/srp/Documents/LLP_DATA/2025-09-08_2HDM-S-2/LLP_data/mass_7.94e-01_ctau_3.25e-02_br_1.00e+00_seed_191632.csv\n",
      "\n",
      "Error message: operands could not be broadcast together with shapes (4,) (3,) Error message: operands could not be broadcast together with shapes (4,) (3,) \n",
      "\n"
     ]
    },
    {
     "name": "stderr",
     "output_type": "stream",
     "text": [
      " 16%|█▌        | 62/391 [00:21<01:42,  3.22it/s]"
     ]
    },
    {
     "name": "stdout",
     "output_type": "stream",
     "text": [
      "Error with file: /home/srp/Documents/LLP_DATA/2025-09-08_2HDM-S-2/LLP_data/mass_7.08e-01_ctau_4.96e+00_br_1.00e+00_seed_736715.csv\n",
      "Error message: operands could not be broadcast together with shapes (4,) (3,) \n"
     ]
    },
    {
     "name": "stderr",
     "output_type": "stream",
     "text": [
      " 28%|██▊       | 108/385 [00:34<01:25,  3.23it/s]"
     ]
    },
    {
     "name": "stdout",
     "output_type": "stream",
     "text": [
      "Error with file: /home/srp/Documents/LLP_DATA/2025-09-08_2HDM-S-2/LLP_data/mass_8.91e-01_ctau_1.44e+04_br_1.00e+00_seed_191632.csv\n",
      "Error message: operands could not be broadcast together with shapes (4,) (3,) \n"
     ]
    },
    {
     "name": "stderr",
     "output_type": "stream",
     "text": [
      " 15%|█▌        | 60/391 [00:20<01:40,  3.29it/s]"
     ]
    },
    {
     "name": "stdout",
     "output_type": "stream",
     "text": [
      "Error with file: /home/srp/Documents/LLP_DATA/2025-09-08_2HDM-S-2/LLP_data/mass_1.12e+00_ctau_8.65e+01_br_1.00e+00_seed_191632.csv\n",
      "Error message: operands could not be broadcast together with shapes (4,) (3,) Error with file: /home/srp/Documents/LLP_DATA/2025-09-08_2HDM-S-2/LLP_data/mass_1.26e+00_ctau_4.22e-01_br_1.00e+00_seed_811007.csv\n",
      "\n",
      "Error message: operands could not be broadcast together with shapes (4,) (3,) "
     ]
    },
    {
     "name": "stderr",
     "output_type": "stream",
     "text": [
      " 18%|█▊        | 71/389 [00:24<01:33,  3.41it/s]"
     ]
    },
    {
     "name": "stdout",
     "output_type": "stream",
     "text": [
      "\n"
     ]
    },
    {
     "name": "stderr",
     "output_type": "stream",
     "text": [
      " 16%|█▌        | 63/391 [00:22<01:42,  3.21it/s]"
     ]
    },
    {
     "name": "stdout",
     "output_type": "stream",
     "text": [
      "Error with file: /home/srp/Documents/LLP_DATA/2025-09-08_2HDM-S-2/LLP_data/mass_4.47e-01_ctau_6.53e+00_br_1.00e+00_seed_517997.csv\n",
      "Error message: operands could not be broadcast together with shapes (4,) (3,) \n"
     ]
    },
    {
     "name": "stderr",
     "output_type": "stream",
     "text": [
      " 28%|██▊       | 109/385 [00:34<01:24,  3.26it/s]"
     ]
    },
    {
     "name": "stdout",
     "output_type": "stream",
     "text": [
      "Error with file: /home/srp/Documents/LLP_DATA/2025-09-08_2HDM-S-2/LLP_data/mass_5.01e-01_ctau_4.72e+00_br_1.00e+00_seed_736715.csv\n",
      "Error message: operands could not be broadcast together with shapes (4,) (3,) \n"
     ]
    },
    {
     "name": "stderr",
     "output_type": "stream",
     "text": [
      " 16%|█▌        | 61/391 [00:20<01:38,  3.36it/s]"
     ]
    },
    {
     "name": "stdout",
     "output_type": "stream",
     "text": [
      "Error with file: /home/srp/Documents/LLP_DATA/2025-09-08_2HDM-S-2/LLP_data/mass_2.00e+00_ctau_2.01e-01_br_1.00e+00_seed_811007.csv\n",
      "Error message: operands could not be broadcast together with shapes (4,) (3,) \n"
     ]
    },
    {
     "name": "stderr",
     "output_type": "stream",
     "text": [
      " 19%|█▊        | 72/389 [00:24<01:33,  3.41it/s]"
     ]
    },
    {
     "name": "stdout",
     "output_type": "stream",
     "text": [
      "Error with file: /home/srp/Documents/LLP_DATA/2025-09-08_2HDM-S-2/LLP_data/mass_4.47e-01_ctau_4.12e+05_br_1.00e+00_seed_517997.csv\n",
      "Error message: operands could not be broadcast together with shapes (4,) (3,) \n"
     ]
    },
    {
     "name": "stderr",
     "output_type": "stream",
     "text": [
      " 16%|█▋        | 64/391 [00:22<01:41,  3.24it/s]"
     ]
    },
    {
     "name": "stdout",
     "output_type": "stream",
     "text": [
      "Error with file: /home/srp/Documents/LLP_DATA/2025-09-08_2HDM-S-2/LLP_data/mass_3.55e-01_ctau_5.50e+06_br_1.00e+00_seed_517997.csv\n",
      "Error message: operands could not be broadcast together with shapes (4,) (3,) \n"
     ]
    },
    {
     "name": "stderr",
     "output_type": "stream",
     "text": [
      " 29%|██▊       | 110/385 [00:35<01:23,  3.28it/s]"
     ]
    },
    {
     "name": "stdout",
     "output_type": "stream",
     "text": [
      "Error with file: /home/srp/Documents/LLP_DATA/2025-09-08_2HDM-S-2/LLP_data/mass_1.00e+00_ctau_2.74e+01_br_1.00e+00_seed_191632.csv\n",
      "Error message: operands could not be broadcast together with shapes (4,) (3,) \n"
     ]
    },
    {
     "name": "stderr",
     "output_type": "stream",
     "text": [
      " 16%|█▌        | 62/391 [00:21<01:33,  3.53it/s]"
     ]
    },
    {
     "name": "stdout",
     "output_type": "stream",
     "text": [
      "Error with file: /home/srp/Documents/LLP_DATA/2025-09-08_2HDM-S-2/LLP_data/mass_6.31e-01_ctau_1.09e+00_br_1.00e+00_seed_736715.csv\n",
      "Error message: operands could not be broadcast together with shapes (4,) (3,) \n"
     ]
    },
    {
     "name": "stderr",
     "output_type": "stream",
     "text": [
      " 19%|█▉        | 73/389 [00:25<01:27,  3.60it/s]"
     ]
    },
    {
     "name": "stdout",
     "output_type": "stream",
     "text": [
      "Error with file: /home/srp/Documents/LLP_DATA/2025-09-08_2HDM-S-2/LLP_data/mass_1.00e+00_ctau_4.34e+00_br_1.00e+00_seed_191632.csv\n",
      "Error message: operands could not be broadcast together with shapes (4,) (3,) \n"
     ]
    },
    {
     "name": "stderr",
     "output_type": "stream",
     "text": [
      " 17%|█▋        | 65/391 [00:22<01:35,  3.40it/s]"
     ]
    },
    {
     "name": "stdout",
     "output_type": "stream",
     "text": [
      "Error with file: /home/srp/Documents/LLP_DATA/2025-09-08_2HDM-S-2/LLP_data/mass_4.47e-01_ctau_2.60e+06_br_1.00e+00_seed_517997.csv\n",
      "Error message: operands could not be broadcast together with shapes (4,) (3,) \n"
     ]
    },
    {
     "name": "stderr",
     "output_type": "stream",
     "text": [
      " 29%|██▉       | 111/385 [00:35<01:19,  3.44it/s]"
     ]
    },
    {
     "name": "stdout",
     "output_type": "stream",
     "text": [
      "Error with file: /home/srp/Documents/LLP_DATA/2025-09-08_2HDM-S-2/LLP_data/mass_1.26e+00_ctau_4.22e-01_br_1.00e+00_seed_811007.csv\n",
      "Error message: operands could not be broadcast together with shapes (4,) (3,) \n"
     ]
    },
    {
     "name": "stderr",
     "output_type": "stream",
     "text": [
      " 16%|█▌        | 63/391 [00:21<01:31,  3.60it/s]"
     ]
    },
    {
     "name": "stdout",
     "output_type": "stream",
     "text": [
      "Error with file: /home/srp/Documents/LLP_DATA/2025-09-08_2HDM-S-2/LLP_data/mass_3.98e-01_ctau_2.31e+03_br_1.00e+00_seed_517997.csv\n",
      "Error message: operands could not be broadcast together with shapes (4,) (3,) \n"
     ]
    },
    {
     "name": "stderr",
     "output_type": "stream",
     "text": [
      " 19%|█▉        | 74/389 [00:25<01:27,  3.62it/s]"
     ]
    },
    {
     "name": "stdout",
     "output_type": "stream",
     "text": [
      "Error with file: /home/srp/Documents/LLP_DATA/2025-09-08_2HDM-S-2/LLP_data/mass_1.58e+00_ctau_1.07e+02_br_1.00e+00_seed_811007.csv\n"
     ]
    },
    {
     "name": "stderr",
     "output_type": "stream",
     "text": [
      " 17%|█▋        | 65/391 [00:22<01:55,  2.83it/s]\n"
     ]
    },
    {
     "name": "stdout",
     "output_type": "stream",
     "text": [
      "Error with file: /home/srp/Documents/LLP_DATA/2025-09-08_2HDM-S-2/LLP_data/mass_6.31e-01_ctau_1.73e-01_br_1.00e+00_seed_736715.csv\n",
      "Error with file: /home/srp/Documents/LLP_DATA/2025-09-08_2HDM-S-2/LLP_data/mass_4.47e-01_ctau_4.12e+05_br_1.00e+00_seed_517997.csv\n",
      "Error message: Error tokenizing data. C error: Calling read(nbytes) on source failed. Try engine='python'.Error message: Error tokenizing data. C error: Calling read(nbytes) on source failed. Try engine='python'.\n",
      "\n"
     ]
    },
    {
     "name": "stderr",
     "output_type": "stream",
     "text": [
      " 29%|██▉       | 111/385 [00:35<01:28,  3.11it/s]\n"
     ]
    },
    {
     "name": "stdout",
     "output_type": "stream",
     "text": [
      "Error with file: /home/srp/Documents/LLP_DATA/2025-09-08_2HDM-S-2/LLP_data/mass_1.00e+00_ctau_4.34e+00_br_1.00e+00_seed_191632.csv\n",
      "Error message: operands could not be broadcast together with shapes (4,) (3,) \n"
     ]
    },
    {
     "name": "stderr",
     "output_type": "stream",
     "text": [
      " 17%|█▋        | 65/391 [00:21<01:22,  3.97it/s]"
     ]
    },
    {
     "name": "stdout",
     "output_type": "stream",
     "text": [
      "Error with file: /home/srp/Documents/LLP_DATA/2025-09-08_2HDM-S-2/LLP_data/mass_1.78e+00_ctau_2.00e+07_br_1.00e+00_seed_811007.csv\n",
      "Error message: operands could not be broadcast together with shapes (4,) (3,) \n"
     ]
    },
    {
     "name": "stderr",
     "output_type": "stream",
     "text": [
      " 20%|█▉        | 76/389 [00:25<01:14,  4.19it/s]"
     ]
    },
    {
     "name": "stdout",
     "output_type": "stream",
     "text": [
      "Error with file: /home/srp/Documents/LLP_DATA/2025-09-08_2HDM-S-2/LLP_data/mass_1.58e+00_ctau_1.07e+02_br_1.00e+00_seed_811007.csv\n",
      "Error message: operands could not be broadcast together with shapes (4,) (3,) \n"
     ]
    },
    {
     "name": "stderr",
     "output_type": "stream",
     "text": [
      " 17%|█▋        | 66/391 [00:22<01:18,  4.16it/s]"
     ]
    },
    {
     "name": "stdout",
     "output_type": "stream",
     "text": [
      "Error with file: /home/srp/Documents/LLP_DATA/2025-09-08_2HDM-S-2/LLP_data/mass_1.41e+00_ctau_6.34e+04_br_1.00e+00_seed_811007.csv\n",
      "Error message: operands could not be broadcast together with shapes (4,) (3,) \n"
     ]
    },
    {
     "name": "stderr",
     "output_type": "stream",
     "text": [
      " 20%|█▉        | 77/389 [00:26<01:13,  4.24it/s]"
     ]
    },
    {
     "name": "stdout",
     "output_type": "stream",
     "text": [
      "Error with file: /home/srp/Documents/LLP_DATA/2025-09-08_2HDM-S-2/LLP_data/mass_1.26e+00_ctau_4.22e+01_br_1.00e+00_seed_191632.csv\n",
      "Error message: operands could not be broadcast together with shapes (4,) (3,) \n"
     ]
    },
    {
     "name": "stderr",
     "output_type": "stream",
     "text": [
      " 17%|█▋        | 67/391 [00:22<01:14,  4.34it/s]"
     ]
    },
    {
     "name": "stdout",
     "output_type": "stream",
     "text": [
      "Error with file: /home/srp/Documents/LLP_DATA/2025-09-08_2HDM-S-2/LLP_data/mass_5.01e-01_ctau_1.18e+03_br_1.00e+00_seed_736715.csv\n",
      "Error message: operands could not be broadcast together with shapes (4,) (3,) \n"
     ]
    },
    {
     "name": "stderr",
     "output_type": "stream",
     "text": [
      " 20%|██        | 78/389 [00:26<01:13,  4.25it/s]"
     ]
    },
    {
     "name": "stdout",
     "output_type": "stream",
     "text": [
      "Error with file: /home/srp/Documents/LLP_DATA/2025-09-08_2HDM-S-2/LLP_data/mass_8.91e-01_ctau_2.28e+01_br_1.00e+00_seed_191632.csv\n",
      "Error message: operands could not be broadcast together with shapes (4,) (3,) \n"
     ]
    },
    {
     "name": "stderr",
     "output_type": "stream",
     "text": [
      " 17%|█▋        | 68/391 [00:22<01:15,  4.27it/s]"
     ]
    },
    {
     "name": "stdout",
     "output_type": "stream",
     "text": [
      "Error with file: /home/srp/Documents/LLP_DATA/2025-09-08_2HDM-S-2/LLP_data/mass_7.94e-01_ctau_5.15e-01_br_1.00e+00_seed_191632.csv\n",
      "Error message: operands could not be broadcast together with shapes (4,) (3,) \n"
     ]
    },
    {
     "name": "stderr",
     "output_type": "stream",
     "text": [
      " 20%|██        | 79/389 [00:26<01:11,  4.32it/s]"
     ]
    },
    {
     "name": "stdout",
     "output_type": "stream",
     "text": [
      "Error with file: /home/srp/Documents/LLP_DATA/2025-09-08_2HDM-S-2/LLP_data/mass_1.78e+00_ctau_3.17e-02_br_1.00e+00_seed_811007.csv\n",
      "Error message: operands could not be broadcast together with shapes (4,) (3,) \n"
     ]
    },
    {
     "name": "stderr",
     "output_type": "stream",
     "text": [
      " 18%|█▊        | 69/391 [00:22<01:14,  4.32it/s]"
     ]
    },
    {
     "name": "stdout",
     "output_type": "stream",
     "text": [
      "Error with file: /home/srp/Documents/LLP_DATA/2025-09-08_2HDM-S-2/LLP_data/mass_7.08e-01_ctau_1.25e+01_br_1.00e+00_seed_736715.csv\n",
      "Error message: operands could not be broadcast together with shapes (4,) (3,) \n"
     ]
    },
    {
     "name": "stderr",
     "output_type": "stream",
     "text": [
      " 21%|██        | 80/389 [00:26<01:11,  4.32it/s]"
     ]
    },
    {
     "name": "stdout",
     "output_type": "stream",
     "text": [
      "Error with file: /home/srp/Documents/LLP_DATA/2025-09-08_2HDM-S-2/LLP_data/mass_7.94e-01_ctau_3.25e-02_br_1.00e+00_seed_191632.csv\n",
      "Error message: operands could not be broadcast together with shapes (4,) (3,) \n"
     ]
    },
    {
     "name": "stderr",
     "output_type": "stream",
     "text": [
      " 18%|█▊        | 70/391 [00:23<01:15,  4.24it/s]"
     ]
    },
    {
     "name": "stdout",
     "output_type": "stream",
     "text": [
      "Error with file: /home/srp/Documents/LLP_DATA/2025-09-08_2HDM-S-2/LLP_data/mass_8.91e-01_ctau_9.07e+06_br_1.00e+00_seed_191632.csv\n",
      "Error message: operands could not be broadcast together with shapes (4,) (3,) \n"
     ]
    },
    {
     "name": "stderr",
     "output_type": "stream",
     "text": [
      " 21%|██        | 81/389 [00:27<01:18,  3.93it/s]"
     ]
    },
    {
     "name": "stdout",
     "output_type": "stream",
     "text": [
      "Error with file: /home/srp/Documents/LLP_DATA/2025-09-08_2HDM-S-2/LLP_data/mass_1.12e+00_ctau_8.65e+01_br_1.00e+00_seed_191632.csv\n",
      "Error message: operands could not be broadcast together with shapes (4,) (3,) \n"
     ]
    },
    {
     "name": "stderr",
     "output_type": "stream",
     "text": [
      " 18%|█▊        | 71/391 [00:23<01:12,  4.42it/s]"
     ]
    },
    {
     "name": "stdout",
     "output_type": "stream",
     "text": [
      "Error with file: /home/srp/Documents/LLP_DATA/2025-09-08_2HDM-S-2/LLP_data/mass_1.58e+00_ctau_1.69e+07_br_1.00e+00_seed_811007.csv\n",
      "Error message: operands could not be broadcast together with shapes (4,) (3,) \n"
     ]
    },
    {
     "name": "stderr",
     "output_type": "stream",
     "text": [
      " 21%|██        | 82/389 [00:27<01:14,  4.10it/s]"
     ]
    },
    {
     "name": "stdout",
     "output_type": "stream",
     "text": [
      "Error with file: /home/srp/Documents/LLP_DATA/2025-09-08_2HDM-S-2/LLP_data/mass_2.00e+00_ctau_2.01e-01_br_1.00e+00_seed_811007.csv\n",
      "Error message: operands could not be broadcast together with shapes (4,) (3,) \n"
     ]
    },
    {
     "name": "stderr",
     "output_type": "stream",
     "text": [
      " 18%|█▊        | 72/391 [00:23<01:10,  4.53it/s]"
     ]
    },
    {
     "name": "stdout",
     "output_type": "stream",
     "text": [
      "Error with file: /home/srp/Documents/LLP_DATA/2025-09-08_2HDM-S-2/LLP_data/mass_8.91e-01_ctau_3.61e+06_br_1.00e+00_seed_191632.csv\n",
      "Error message: operands could not be broadcast together with shapes (4,) (3,) \n"
     ]
    },
    {
     "name": "stderr",
     "output_type": "stream",
     "text": [
      " 21%|██▏       | 83/389 [00:27<01:11,  4.28it/s]"
     ]
    },
    {
     "name": "stdout",
     "output_type": "stream",
     "text": [
      "Error with file: /home/srp/Documents/LLP_DATA/2025-09-08_2HDM-S-2/LLP_data/mass_6.31e-01_ctau_1.09e+00_br_1.00e+00_seed_736715.csv\n",
      "Error message: operands could not be broadcast together with shapes (4,) (3,) \n"
     ]
    },
    {
     "name": "stderr",
     "output_type": "stream",
     "text": [
      " 19%|█▊        | 73/391 [00:23<01:09,  4.55it/s]"
     ]
    },
    {
     "name": "stdout",
     "output_type": "stream",
     "text": [
      "Error with file: /home/srp/Documents/LLP_DATA/2025-09-08_2HDM-S-2/LLP_data/mass_1.41e+00_ctau_1.59e+01_br_1.00e+00_seed_811007.csv\n",
      "Error message: operands could not be broadcast together with shapes (4,) (3,) \n"
     ]
    },
    {
     "name": "stderr",
     "output_type": "stream",
     "text": [
      " 22%|██▏       | 84/389 [00:27<01:09,  4.38it/s]"
     ]
    },
    {
     "name": "stdout",
     "output_type": "stream",
     "text": [
      "Error with file: /home/srp/Documents/LLP_DATA/2025-09-08_2HDM-S-2/LLP_data/mass_3.98e-01_ctau_2.31e+03_br_1.00e+00_seed_517997.csv\n",
      "Error message: operands could not be broadcast together with shapes (4,) (3,) \n"
     ]
    },
    {
     "name": "stderr",
     "output_type": "stream",
     "text": [
      " 19%|█▉        | 74/391 [00:23<01:14,  4.25it/s]"
     ]
    },
    {
     "name": "stdout",
     "output_type": "stream",
     "text": [
      "Error with file: /home/srp/Documents/LLP_DATA/2025-09-08_2HDM-S-2/LLP_data/mass_1.26e+00_ctau_2.66e+06_br_1.00e+00_seed_191632.csv\n",
      "Error message: operands could not be broadcast together with shapes (4,) (3,) \n"
     ]
    },
    {
     "name": "stderr",
     "output_type": "stream",
     "text": [
      " 22%|██▏       | 85/389 [00:27<01:13,  4.12it/s]"
     ]
    },
    {
     "name": "stdout",
     "output_type": "stream",
     "text": [
      "Error with file: /home/srp/Documents/LLP_DATA/2025-09-08_2HDM-S-2/LLP_data/mass_6.31e-01_ctau_1.73e-01_br_1.00e+00_seed_736715.csv\n",
      "Error message: operands could not be broadcast together with shapes (4,) (3,) \n"
     ]
    },
    {
     "name": "stderr",
     "output_type": "stream",
     "text": [
      " 19%|█▉        | 75/391 [00:24<01:15,  4.21it/s]"
     ]
    },
    {
     "name": "stdout",
     "output_type": "stream",
     "text": [
      "Error with file: /home/srp/Documents/LLP_DATA/2025-09-08_2HDM-S-2/LLP_data/mass_1.12e+00_ctau_2.17e+04_br_1.00e+00_seed_191632.csv\n",
      "Error message: operands could not be broadcast together with shapes (4,) (3,) \n"
     ]
    },
    {
     "name": "stderr",
     "output_type": "stream",
     "text": [
      " 22%|██▏       | 86/389 [00:28<01:22,  3.66it/s]"
     ]
    },
    {
     "name": "stdout",
     "output_type": "stream",
     "text": [
      "Error with file: /home/srp/Documents/LLP_DATA/2025-09-08_2HDM-S-2/LLP_data/mass_1.78e+00_ctau_2.00e+07_br_1.00e+00_seed_811007.csv\n",
      "Error message: operands could not be broadcast together with shapes (4,) (3,) \n"
     ]
    },
    {
     "name": "stderr",
     "output_type": "stream",
     "text": [
      " 19%|█▉        | 76/391 [00:24<01:20,  3.92it/s]"
     ]
    },
    {
     "name": "stdout",
     "output_type": "stream",
     "text": [
      "Error with file: /home/srp/Documents/LLP_DATA/2025-09-08_2HDM-S-2/LLP_data/mass_7.94e-01_ctau_3.25e+00_br_1.00e+00_seed_191632.csv\n",
      "Error message: operands could not be broadcast together with shapes (4,) (3,) \n"
     ]
    },
    {
     "name": "stderr",
     "output_type": "stream",
     "text": [
      " 22%|██▏       | 87/389 [00:28<01:18,  3.83it/s]"
     ]
    },
    {
     "name": "stdout",
     "output_type": "stream",
     "text": [
      "Error with file: /home/srp/Documents/LLP_DATA/2025-09-08_2HDM-S-2/LLP_data/mass_1.41e+00_ctau_6.34e+04_br_1.00e+00_seed_811007.csv\n",
      "Error message: operands could not be broadcast together with shapes (4,) (3,) \n"
     ]
    },
    {
     "name": "stderr",
     "output_type": "stream",
     "text": [
      " 20%|█▉        | 77/391 [00:24<01:16,  4.10it/s]"
     ]
    },
    {
     "name": "stdout",
     "output_type": "stream",
     "text": [
      "Error with file: /home/srp/Documents/LLP_DATA/2025-09-08_2HDM-S-2/LLP_data/mass_1.58e+00_ctau_6.75e+04_br_1.00e+00_seed_811007.csv\n",
      "Error message: operands could not be broadcast together with shapes (4,) (3,) \n"
     ]
    },
    {
     "name": "stderr",
     "output_type": "stream",
     "text": [
      " 23%|██▎       | 88/389 [00:28<01:15,  4.00it/s]"
     ]
    },
    {
     "name": "stdout",
     "output_type": "stream",
     "text": [
      "Error with file: /home/srp/Documents/LLP_DATA/2025-09-08_2HDM-S-2/LLP_data/mass_5.01e-01_ctau_1.18e+03_br_1.00e+00_seed_736715.csv\n",
      "Error message: operands could not be broadcast together with shapes (4,) (3,) \n"
     ]
    },
    {
     "name": "stderr",
     "output_type": "stream",
     "text": [
      " 20%|█▉        | 78/391 [00:24<01:13,  4.26it/s]"
     ]
    },
    {
     "name": "stdout",
     "output_type": "stream",
     "text": [
      "Error with file: /home/srp/Documents/LLP_DATA/2025-09-08_2HDM-S-2/LLP_data/mass_4.47e-01_ctau_1.04e+08_br_1.00e+00_seed_517997.csv\n",
      "Error message: operands could not be broadcast together with shapes (4,) (3,) \n"
     ]
    },
    {
     "name": "stderr",
     "output_type": "stream",
     "text": [
      " 23%|██▎       | 89/389 [00:28<01:11,  4.17it/s]"
     ]
    },
    {
     "name": "stdout",
     "output_type": "stream",
     "text": [
      "Error with file: /home/srp/Documents/LLP_DATA/2025-09-08_2HDM-S-2/LLP_data/mass_7.94e-01_ctau_5.15e-01_br_1.00e+00_seed_191632.csv\n",
      "Error message: operands could not be broadcast together with shapes (4,) (3,) \n"
     ]
    },
    {
     "name": "stderr",
     "output_type": "stream",
     "text": [
      " 20%|██        | 79/391 [00:25<01:10,  4.43it/s]"
     ]
    },
    {
     "name": "stdout",
     "output_type": "stream",
     "text": [
      "Error with file: /home/srp/Documents/LLP_DATA/2025-09-08_2HDM-S-2/LLP_data/mass_7.08e-01_ctau_1.25e+05_br_1.00e+00_seed_736715.csv\n",
      "Error message: operands could not be broadcast together with shapes (4,) (3,) \n"
     ]
    },
    {
     "name": "stderr",
     "output_type": "stream",
     "text": [
      " 23%|██▎       | 90/389 [00:29<01:09,  4.29it/s]"
     ]
    },
    {
     "name": "stdout",
     "output_type": "stream",
     "text": [
      "Error with file: /home/srp/Documents/LLP_DATA/2025-09-08_2HDM-S-2/LLP_data/mass_7.08e-01_ctau_1.25e+01_br_1.00e+00_seed_736715.csv\n",
      "Error message: operands could not be broadcast together with shapes (4,) (3,) \n"
     ]
    },
    {
     "name": "stderr",
     "output_type": "stream",
     "text": [
      " 20%|██        | 80/391 [00:25<01:09,  4.46it/s]"
     ]
    },
    {
     "name": "stdout",
     "output_type": "stream",
     "text": [
      "Error with file: /home/srp/Documents/LLP_DATA/2025-09-08_2HDM-S-2/LLP_data/mass_3.55e-01_ctau_8.71e-01_br_1.00e+00_seed_517997.csv\n",
      "Error message: operands could not be broadcast together with shapes (4,) (3,) \n"
     ]
    },
    {
     "name": "stderr",
     "output_type": "stream",
     "text": [
      " 23%|██▎       | 91/389 [00:29<01:05,  4.56it/s]"
     ]
    },
    {
     "name": "stdout",
     "output_type": "stream",
     "text": [
      "Error with file: /home/srp/Documents/LLP_DATA/2025-09-08_2HDM-S-2/LLP_data/mass_8.91e-01_ctau_9.07e+06_br_1.00e+00_seed_191632.csv\n",
      "Error message: operands could not be broadcast together with shapes (4,) (3,) \n"
     ]
    },
    {
     "name": "stderr",
     "output_type": "stream",
     "text": [
      " 21%|██        | 81/391 [00:25<01:08,  4.56it/s]"
     ]
    },
    {
     "name": "stdout",
     "output_type": "stream",
     "text": [
      "Error with file: /home/srp/Documents/LLP_DATA/2025-09-08_2HDM-S-2/LLP_data/mass_1.58e+00_ctau_2.69e+04_br_1.00e+00_seed_811007.csv\n",
      "Error message: operands could not be broadcast together with shapes (4,) (3,) \n"
     ]
    },
    {
     "name": "stderr",
     "output_type": "stream",
     "text": [
      " 24%|██▎       | 92/389 [00:29<01:05,  4.54it/s]"
     ]
    },
    {
     "name": "stdout",
     "output_type": "stream",
     "text": [
      "Error with file: /home/srp/Documents/LLP_DATA/2025-09-08_2HDM-S-2/LLP_data/mass_1.58e+00_ctau_1.69e+07_br_1.00e+00_seed_811007.csv\n",
      "Error message: operands could not be broadcast together with shapes (4,) (3,) \n"
     ]
    },
    {
     "name": "stderr",
     "output_type": "stream",
     "text": [
      " 21%|██        | 82/391 [00:25<01:09,  4.47it/s]"
     ]
    },
    {
     "name": "stdout",
     "output_type": "stream",
     "text": [
      "Error with file: /home/srp/Documents/LLP_DATA/2025-09-08_2HDM-S-2/LLP_data/mass_3.55e-01_ctau_8.71e+03_br_1.00e+00_seed_517997.csv\n",
      "Error message: operands could not be broadcast together with shapes (4,) (3,) \n"
     ]
    },
    {
     "name": "stderr",
     "output_type": "stream",
     "text": [
      " 24%|██▍       | 93/389 [00:29<01:03,  4.63it/s]"
     ]
    },
    {
     "name": "stdout",
     "output_type": "stream",
     "text": [
      "Error with file: /home/srp/Documents/LLP_DATA/2025-09-08_2HDM-S-2/LLP_data/mass_8.91e-01_ctau_3.61e+06_br_1.00e+00_seed_191632.csv\n",
      "Error message: operands could not be broadcast together with shapes (4,) (3,) \n"
     ]
    },
    {
     "name": "stderr",
     "output_type": "stream",
     "text": [
      " 21%|██        | 83/391 [00:25<01:07,  4.57it/s]"
     ]
    },
    {
     "name": "stdout",
     "output_type": "stream",
     "text": [
      "Error with file: /home/srp/Documents/LLP_DATA/2025-09-08_2HDM-S-2/LLP_data/mass_1.26e+00_ctau_6.69e+04_br_1.00e+00_seed_191632.csv\n",
      "Error message: operands could not be broadcast together with shapes (4,) (3,) \n"
     ]
    },
    {
     "name": "stderr",
     "output_type": "stream",
     "text": [
      " 24%|██▍       | 94/389 [00:30<01:03,  4.65it/s]"
     ]
    },
    {
     "name": "stdout",
     "output_type": "stream",
     "text": [
      "Error with file: /home/srp/Documents/LLP_DATA/2025-09-08_2HDM-S-2/LLP_data/mass_1.41e+00_ctau_1.59e+01_br_1.00e+00_seed_811007.csv\n",
      "Error message: operands could not be broadcast together with shapes (4,) (3,) \n"
     ]
    },
    {
     "name": "stderr",
     "output_type": "stream",
     "text": [
      " 21%|██▏       | 84/391 [00:26<01:07,  4.55it/s]"
     ]
    },
    {
     "name": "stdout",
     "output_type": "stream",
     "text": [
      "Error with file: /home/srp/Documents/LLP_DATA/2025-09-08_2HDM-S-2/LLP_data/mass_3.16e-01_ctau_5.37e+01_br_1.00e+00_seed_517997.csv\n",
      "Error message: operands could not be broadcast together with shapes (4,) (3,) \n"
     ]
    },
    {
     "name": "stderr",
     "output_type": "stream",
     "text": [
      " 24%|██▍       | 95/389 [00:30<01:05,  4.48it/s]"
     ]
    },
    {
     "name": "stdout",
     "output_type": "stream",
     "text": [
      "Error with file: /home/srp/Documents/LLP_DATA/2025-09-08_2HDM-S-2/LLP_data/mass_1.26e+00_ctau_2.66e+06_br_1.00e+00_seed_191632.csv\n",
      "Error message: operands could not be broadcast together with shapes (4,) (3,) \n"
     ]
    },
    {
     "name": "stderr",
     "output_type": "stream",
     "text": [
      " 22%|██▏       | 85/391 [00:26<01:08,  4.45it/s]"
     ]
    },
    {
     "name": "stdout",
     "output_type": "stream",
     "text": [
      "Error with file: /home/srp/Documents/LLP_DATA/2025-09-08_2HDM-S-2/LLP_data/mass_1.12e+00_ctau_5.46e+00_br_1.00e+00_seed_191632.csv\n",
      "Error message: operands could not be broadcast together with shapes (4,) (3,) \n"
     ]
    },
    {
     "name": "stderr",
     "output_type": "stream",
     "text": [
      " 25%|██▍       | 96/389 [00:30<01:04,  4.54it/s]"
     ]
    },
    {
     "name": "stdout",
     "output_type": "stream",
     "text": [
      "Error with file: /home/srp/Documents/LLP_DATA/2025-09-08_2HDM-S-2/LLP_data/mass_1.12e+00_ctau_2.17e+04_br_1.00e+00_seed_191632.csv\n",
      "Error message: operands could not be broadcast together with shapes (4,) (3,) \n"
     ]
    },
    {
     "name": "stderr",
     "output_type": "stream",
     "text": [
      " 22%|██▏       | 86/391 [00:26<01:06,  4.56it/s]"
     ]
    },
    {
     "name": "stdout",
     "output_type": "stream",
     "text": [
      "Error with file: /home/srp/Documents/LLP_DATA/2025-09-08_2HDM-S-2/LLP_data/mass_5.62e-01_ctau_5.82e-01_br_1.00e+00_seed_736715.csv\n",
      "Error message: operands could not be broadcast together with shapes (4,) (3,) \n"
     ]
    },
    {
     "name": "stderr",
     "output_type": "stream",
     "text": [
      " 25%|██▍       | 97/389 [00:30<01:05,  4.48it/s]"
     ]
    },
    {
     "name": "stdout",
     "output_type": "stream",
     "text": [
      "Error with file: /home/srp/Documents/LLP_DATA/2025-09-08_2HDM-S-2/LLP_data/mass_7.94e-01_ctau_3.25e+00_br_1.00e+00_seed_191632.csv\n",
      "Error message: operands could not be broadcast together with shapes (4,) (3,) \n"
     ]
    },
    {
     "name": "stderr",
     "output_type": "stream",
     "text": [
      " 22%|██▏       | 87/391 [00:26<01:07,  4.48it/s]"
     ]
    },
    {
     "name": "stdout",
     "output_type": "stream",
     "text": [
      "Error with file: /home/srp/Documents/LLP_DATA/2025-09-08_2HDM-S-2/LLP_data/mass_7.08e-01_ctau_4.96e+02_br_1.00e+00_seed_736715.csv\n",
      "Error message: operands could not be broadcast together with shapes (4,) (3,) \n"
     ]
    },
    {
     "name": "stderr",
     "output_type": "stream",
     "text": [
      " 25%|██▌       | 98/389 [00:30<01:05,  4.44it/s]"
     ]
    },
    {
     "name": "stdout",
     "output_type": "stream",
     "text": [
      "Error with file: /home/srp/Documents/LLP_DATA/2025-09-08_2HDM-S-2/LLP_data/mass_1.58e+00_ctau_6.75e+04_br_1.00e+00_seed_811007.csv\n",
      "Error message: operands could not be broadcast together with shapes (4,) (3,) \n"
     ]
    },
    {
     "name": "stderr",
     "output_type": "stream",
     "text": [
      " 23%|██▎       | 88/391 [00:27<01:09,  4.34it/s]"
     ]
    },
    {
     "name": "stdout",
     "output_type": "stream",
     "text": [
      "Error with file: /home/srp/Documents/LLP_DATA/2025-09-08_2HDM-S-2/LLP_data/mass_5.62e-01_ctau_9.23e+02_br_1.00e+00_seed_736715.csv\n",
      "Error message: operands could not be broadcast together with shapes (4,) (3,) \n"
     ]
    },
    {
     "name": "stderr",
     "output_type": "stream",
     "text": [
      " 25%|██▌       | 99/389 [00:31<01:10,  4.10it/s]"
     ]
    },
    {
     "name": "stdout",
     "output_type": "stream",
     "text": [
      "Error with file: /home/srp/Documents/LLP_DATA/2025-09-08_2HDM-S-2/LLP_data/mass_4.47e-01_ctau_1.04e+08_br_1.00e+00_seed_517997.csv\n",
      "Error message: operands could not be broadcast together with shapes (4,) (3,) \n"
     ]
    },
    {
     "name": "stderr",
     "output_type": "stream",
     "text": [
      " 23%|██▎       | 89/391 [00:27<01:12,  4.17it/s]"
     ]
    },
    {
     "name": "stdout",
     "output_type": "stream",
     "text": [
      "Error with file: /home/srp/Documents/LLP_DATA/2025-09-08_2HDM-S-2/LLP_data/mass_1.26e+00_ctau_2.66e+02_br_1.00e+00_seed_191632.csv\n",
      "Error message: operands could not be broadcast together with shapes (4,) (3,) \n"
     ]
    },
    {
     "name": "stderr",
     "output_type": "stream",
     "text": [
      " 26%|██▌       | 100/389 [00:31<01:07,  4.30it/s]"
     ]
    },
    {
     "name": "stdout",
     "output_type": "stream",
     "text": [
      "Error with file: /home/srp/Documents/LLP_DATA/2025-09-08_2HDM-S-2/LLP_data/mass_7.08e-01_ctau_1.25e+05_br_1.00e+00_seed_736715.csv\n",
      "Error message: operands could not be broadcast together with shapes (4,) (3,) \n"
     ]
    },
    {
     "name": "stderr",
     "output_type": "stream",
     "text": [
      " 23%|██▎       | 90/391 [00:27<01:08,  4.39it/s]"
     ]
    },
    {
     "name": "stdout",
     "output_type": "stream",
     "text": [
      "Error with file: /home/srp/Documents/LLP_DATA/2025-09-08_2HDM-S-2/LLP_data/mass_3.16e-01_ctau_2.14e+05_br_1.00e+00_seed_517997.csv\n",
      "Error message: operands could not be broadcast together with shapes (4,) (3,) \n"
     ]
    },
    {
     "name": "stderr",
     "output_type": "stream",
     "text": [
      " 26%|██▌       | 101/389 [00:31<01:07,  4.25it/s]"
     ]
    },
    {
     "name": "stdout",
     "output_type": "stream",
     "text": [
      "Error with file: /home/srp/Documents/LLP_DATA/2025-09-08_2HDM-S-2/LLP_data/mass_3.55e-01_ctau_8.71e-01_br_1.00e+00_seed_517997.csv\n",
      "Error message: operands could not be broadcast together with shapes (4,) (3,) \n"
     ]
    },
    {
     "name": "stderr",
     "output_type": "stream",
     "text": [
      " 23%|██▎       | 91/391 [00:27<01:10,  4.26it/s]"
     ]
    },
    {
     "name": "stdout",
     "output_type": "stream",
     "text": [
      "Error with file: /home/srp/Documents/LLP_DATA/2025-09-08_2HDM-S-2/LLP_data/mass_8.91e-01_ctau_1.44e+06_br_1.00e+00_seed_191632.csv\n",
      "Error message: operands could not be broadcast together with shapes (4,) (3,) \n"
     ]
    },
    {
     "name": "stderr",
     "output_type": "stream",
     "text": [
      " 26%|██▌       | 102/389 [00:31<01:04,  4.43it/s]"
     ]
    },
    {
     "name": "stdout",
     "output_type": "stream",
     "text": [
      "Error with file: /home/srp/Documents/LLP_DATA/2025-09-08_2HDM-S-2/LLP_data/mass_1.58e+00_ctau_2.69e+04_br_1.00e+00_seed_811007.csv\n",
      "Error message: operands could not be broadcast together with shapes (4,) (3,) \n"
     ]
    },
    {
     "name": "stderr",
     "output_type": "stream",
     "text": [
      " 24%|██▎       | 92/391 [00:28<01:07,  4.43it/s]"
     ]
    },
    {
     "name": "stdout",
     "output_type": "stream",
     "text": [
      "Error with file: /home/srp/Documents/LLP_DATA/2025-09-08_2HDM-S-2/LLP_data/mass_3.16e-01_ctau_3.39e+00_br_1.00e+00_seed_517997.csv\n",
      "Error message: operands could not be broadcast together with shapes (4,) (3,) \n"
     ]
    },
    {
     "name": "stderr",
     "output_type": "stream",
     "text": [
      " 26%|██▋       | 103/389 [00:32<01:02,  4.57it/s]"
     ]
    },
    {
     "name": "stdout",
     "output_type": "stream",
     "text": [
      "Error with file: /home/srp/Documents/LLP_DATA/2025-09-08_2HDM-S-2/LLP_data/mass_3.55e-01_ctau_8.71e+03_br_1.00e+00_seed_517997.csv\n",
      "Error message: operands could not be broadcast together with shapes (4,) (3,) \n"
     ]
    },
    {
     "name": "stderr",
     "output_type": "stream",
     "text": [
      " 24%|██▍       | 93/391 [00:28<01:05,  4.56it/s]"
     ]
    },
    {
     "name": "stdout",
     "output_type": "stream",
     "text": [
      "Error with file: /home/srp/Documents/LLP_DATA/2025-09-08_2HDM-S-2/LLP_data/mass_1.41e+00_ctau_2.53e+00_br_1.00e+00_seed_811007.csv\n",
      "Error message: operands could not be broadcast together with shapes (4,) (3,) \n"
     ]
    },
    {
     "name": "stderr",
     "output_type": "stream",
     "text": [
      " 27%|██▋       | 104/389 [00:32<01:04,  4.42it/s]"
     ]
    },
    {
     "name": "stdout",
     "output_type": "stream",
     "text": [
      "Error with file: /home/srp/Documents/LLP_DATA/2025-09-08_2HDM-S-2/LLP_data/mass_1.26e+00_ctau_6.69e+04_br_1.00e+00_seed_191632.csv\n",
      "Error message: operands could not be broadcast together with shapes (4,) (3,) \n"
     ]
    },
    {
     "name": "stderr",
     "output_type": "stream",
     "text": [
      " 24%|██▍       | 94/391 [00:28<01:07,  4.41it/s]"
     ]
    },
    {
     "name": "stdout",
     "output_type": "stream",
     "text": [
      "Error with file: /home/srp/Documents/LLP_DATA/2025-09-08_2HDM-S-2/LLP_data/mass_1.12e+00_ctau_8.65e+05_br_1.00e+00_seed_191632.csv\n",
      "Error message: operands could not be broadcast together with shapes (4,) (3,) \n"
     ]
    },
    {
     "name": "stderr",
     "output_type": "stream",
     "text": [
      " 27%|██▋       | 105/389 [00:32<01:03,  4.50it/s]"
     ]
    },
    {
     "name": "stdout",
     "output_type": "stream",
     "text": [
      "Error with file: /home/srp/Documents/LLP_DATA/2025-09-08_2HDM-S-2/LLP_data/mass_3.16e-01_ctau_5.37e+01_br_1.00e+00_seed_517997.csv\n",
      "Error message: operands could not be broadcast together with shapes (4,) (3,) \n"
     ]
    },
    {
     "name": "stderr",
     "output_type": "stream",
     "text": [
      " 24%|██▍       | 95/391 [00:28<01:05,  4.54it/s]"
     ]
    },
    {
     "name": "stdout",
     "output_type": "stream",
     "text": [
      "Error with file: /home/srp/Documents/LLP_DATA/2025-09-08_2HDM-S-2/LLP_data/mass_8.91e-01_ctau_1.44e+00_br_1.00e+00_seed_191632.csv\n",
      "Error message: operands could not be broadcast together with shapes (4,) (3,) \n"
     ]
    },
    {
     "name": "stderr",
     "output_type": "stream",
     "text": [
      " 27%|██▋       | 106/389 [00:32<01:02,  4.51it/s]"
     ]
    },
    {
     "name": "stdout",
     "output_type": "stream",
     "text": [
      "Error with file: /home/srp/Documents/LLP_DATA/2025-09-08_2HDM-S-2/LLP_data/mass_1.12e+00_ctau_5.46e+00_br_1.00e+00_seed_191632.csv\n",
      "Error message: operands could not be broadcast together with shapes (4,) (3,) \n"
     ]
    },
    {
     "name": "stderr",
     "output_type": "stream",
     "text": [
      " 25%|██▍       | 96/391 [00:28<01:06,  4.45it/s]"
     ]
    },
    {
     "name": "stdout",
     "output_type": "stream",
     "text": [
      "Error with file: /home/srp/Documents/LLP_DATA/2025-09-08_2HDM-S-2/LLP_data/mass_1.78e+00_ctau_2.00e-01_br_1.00e+00_seed_811007.csv\n",
      "Error message: operands could not be broadcast together with shapes (4,) (3,) \n"
     ]
    },
    {
     "name": "stderr",
     "output_type": "stream",
     "text": [
      " 28%|██▊       | 107/389 [00:32<01:01,  4.57it/s]"
     ]
    },
    {
     "name": "stdout",
     "output_type": "stream",
     "text": [
      "Error with file: /home/srp/Documents/LLP_DATA/2025-09-08_2HDM-S-2/LLP_data/mass_5.62e-01_ctau_5.82e-01_br_1.00e+00_seed_736715.csv\n",
      "Error message: operands could not be broadcast together with shapes (4,) (3,) \n"
     ]
    },
    {
     "name": "stderr",
     "output_type": "stream",
     "text": [
      " 25%|██▍       | 97/391 [00:29<01:05,  4.47it/s]"
     ]
    },
    {
     "name": "stdout",
     "output_type": "stream",
     "text": [
      "Error with file: /home/srp/Documents/LLP_DATA/2025-09-08_2HDM-S-2/LLP_data/mass_1.12e+00_ctau_8.65e-01_br_1.00e+00_seed_191632.csv\n",
      "Error message: operands could not be broadcast together with shapes (4,) (3,) \n"
     ]
    },
    {
     "name": "stderr",
     "output_type": "stream",
     "text": [
      " 28%|██▊       | 108/389 [00:33<01:02,  4.53it/s]"
     ]
    },
    {
     "name": "stdout",
     "output_type": "stream",
     "text": [
      "Error with file: /home/srp/Documents/LLP_DATA/2025-09-08_2HDM-S-2/LLP_data/mass_7.08e-01_ctau_4.96e+02_br_1.00e+00_seed_736715.csv\n",
      "Error message: operands could not be broadcast together with shapes (4,) (3,) \n"
     ]
    },
    {
     "name": "stderr",
     "output_type": "stream",
     "text": [
      " 25%|██▌       | 98/391 [00:29<01:04,  4.52it/s]"
     ]
    },
    {
     "name": "stdout",
     "output_type": "stream",
     "text": [
      "Error with file: /home/srp/Documents/LLP_DATA/2025-09-08_2HDM-S-2/LLP_data/mass_7.08e-01_ctau_4.96e+00_br_1.00e+00_seed_736715.csv\n",
      "Error message: operands could not be broadcast together with shapes (4,) (3,) \n"
     ]
    },
    {
     "name": "stderr",
     "output_type": "stream",
     "text": [
      " 28%|██▊       | 109/389 [00:33<01:05,  4.24it/s]"
     ]
    },
    {
     "name": "stdout",
     "output_type": "stream",
     "text": [
      "Error with file: /home/srp/Documents/LLP_DATA/2025-09-08_2HDM-S-2/LLP_data/mass_5.62e-01_ctau_9.23e+02_br_1.00e+00_seed_736715.csv\n",
      "Error message: operands could not be broadcast together with shapes (4,) (3,) \n"
     ]
    },
    {
     "name": "stderr",
     "output_type": "stream",
     "text": [
      " 25%|██▌       | 99/391 [00:29<01:09,  4.20it/s]"
     ]
    },
    {
     "name": "stdout",
     "output_type": "stream",
     "text": [
      "Error with file: /home/srp/Documents/LLP_DATA/2025-09-08_2HDM-S-2/LLP_data/mass_4.47e-01_ctau_6.53e+00_br_1.00e+00_seed_517997.csv\n",
      "Error message: operands could not be broadcast together with shapes (4,) (3,) \n"
     ]
    },
    {
     "name": "stderr",
     "output_type": "stream",
     "text": [
      " 28%|██▊       | 110/389 [00:33<01:08,  4.10it/s]"
     ]
    },
    {
     "name": "stdout",
     "output_type": "stream",
     "text": [
      "Error with file: /home/srp/Documents/LLP_DATA/2025-09-08_2HDM-S-2/LLP_data/mass_1.26e+00_ctau_2.66e+02_br_1.00e+00_seed_191632.csv\n",
      "Error message: operands could not be broadcast together with shapes (4,) (3,) \n"
     ]
    },
    {
     "name": "stderr",
     "output_type": "stream",
     "text": [
      " 26%|██▌       | 100/391 [00:29<01:10,  4.13it/s]"
     ]
    },
    {
     "name": "stdout",
     "output_type": "stream",
     "text": [
      "Error with file: /home/srp/Documents/LLP_DATA/2025-09-08_2HDM-S-2/LLP_data/mass_3.55e-01_ctau_5.50e+06_br_1.00e+00_seed_517997.csv\n",
      "Error message: operands could not be broadcast together with shapes (4,) (3,) \n"
     ]
    },
    {
     "name": "stderr",
     "output_type": "stream",
     "text": [
      " 29%|██▊       | 111/389 [00:33<01:10,  3.95it/s]"
     ]
    },
    {
     "name": "stdout",
     "output_type": "stream",
     "text": [
      "Error with file: /home/srp/Documents/LLP_DATA/2025-09-08_2HDM-S-2/LLP_data/mass_3.16e-01_ctau_2.14e+05_br_1.00e+00_seed_517997.csv\n",
      "Error message: operands could not be broadcast together with shapes (4,) (3,) \n"
     ]
    },
    {
     "name": "stderr",
     "output_type": "stream",
     "text": [
      " 26%|██▌       | 101/391 [00:30<01:12,  4.03it/s]"
     ]
    },
    {
     "name": "stdout",
     "output_type": "stream",
     "text": [
      "Error with file: /home/srp/Documents/LLP_DATA/2025-09-08_2HDM-S-2/LLP_data/mass_4.47e-01_ctau_2.60e+06_br_1.00e+00_seed_517997.csv\n",
      "Error message: operands could not be broadcast together with shapes (4,) (3,) \n"
     ]
    },
    {
     "name": "stderr",
     "output_type": "stream",
     "text": [
      " 29%|██▉       | 112/389 [00:34<01:08,  4.04it/s]"
     ]
    },
    {
     "name": "stdout",
     "output_type": "stream",
     "text": [
      "Error with file: /home/srp/Documents/LLP_DATA/2025-09-08_2HDM-S-2/LLP_data/mass_8.91e-01_ctau_1.44e+06_br_1.00e+00_seed_191632.csv\n",
      "Error message: operands could not be broadcast together with shapes (4,) (3,) \n"
     ]
    },
    {
     "name": "stderr",
     "output_type": "stream",
     "text": [
      " 26%|██▌       | 102/391 [00:30<01:09,  4.18it/s]"
     ]
    },
    {
     "name": "stdout",
     "output_type": "stream",
     "text": [
      "Error with file: /home/srp/Documents/LLP_DATA/2025-09-08_2HDM-S-2/LLP_data/mass_5.01e-01_ctau_1.18e+01_br_1.00e+00_seed_736715.csv\n",
      "Error message: operands could not be broadcast together with shapes (4,) (3,) \n"
     ]
    },
    {
     "name": "stderr",
     "output_type": "stream",
     "text": [
      " 29%|██▉       | 113/389 [00:34<01:07,  4.06it/s]"
     ]
    },
    {
     "name": "stdout",
     "output_type": "stream",
     "text": [
      "Error with file: /home/srp/Documents/LLP_DATA/2025-09-08_2HDM-S-2/LLP_data/mass_3.16e-01_ctau_3.39e+00_br_1.00e+00_seed_517997.csv\n",
      "Error message: operands could not be broadcast together with shapes (4,) (3,) \n"
     ]
    },
    {
     "name": "stderr",
     "output_type": "stream",
     "text": [
      " 26%|██▋       | 103/391 [00:30<01:10,  4.11it/s]"
     ]
    },
    {
     "name": "stdout",
     "output_type": "stream",
     "text": [
      "Error with file: /home/srp/Documents/LLP_DATA/2025-09-08_2HDM-S-2/LLP_data/mass_1.41e+00_ctau_2.53e+00_br_1.00e+00_seed_811007.csv\n",
      "Error message: operands could not be broadcast together with shapes (4,) (3,) \n",
      "Error with file: /home/srp/Documents/LLP_DATA/2025-09-08_2HDM-S-2/LLP_data/mass_5.62e-01_ctau_1.46e+06_br_1.00e+00_seed_736715.csv"
     ]
    },
    {
     "name": "stderr",
     "output_type": "stream",
     "text": [
      " 27%|██▋       | 104/391 [00:30<01:12,  3.98it/s]"
     ]
    },
    {
     "name": "stdout",
     "output_type": "stream",
     "text": [
      "\n",
      "Error message: operands could not be broadcast together with shapes (4,) (3,) \n"
     ]
    },
    {
     "name": "stderr",
     "output_type": "stream",
     "text": [
      " 29%|██▉       | 114/389 [00:34<01:13,  3.76it/s]"
     ]
    },
    {
     "name": "stdout",
     "output_type": "stream",
     "text": [
      "Error with file: /home/srp/Documents/LLP_DATA/2025-09-08_2HDM-S-2/LLP_data/mass_1.12e+00_ctau_8.65e+05_br_1.00e+00_seed_191632.csv\n",
      "Error message: operands could not be broadcast together with shapes (4,) (3,) \n"
     ]
    },
    {
     "name": "stderr",
     "output_type": "stream",
     "text": [
      " 27%|██▋       | 105/391 [00:31<01:12,  3.96it/s]"
     ]
    },
    {
     "name": "stdout",
     "output_type": "stream",
     "text": [
      "Error with file: /home/srp/Documents/LLP_DATA/2025-09-08_2HDM-S-2/LLP_data/mass_8.91e-01_ctau_3.61e+00_br_1.00e+00_seed_191632.csv\n",
      "Error message: operands could not be broadcast together with shapes (4,) (3,) \n"
     ]
    },
    {
     "name": "stderr",
     "output_type": "stream",
     "text": [
      " 30%|██▉       | 115/389 [00:35<01:14,  3.70it/s]"
     ]
    },
    {
     "name": "stdout",
     "output_type": "stream",
     "text": [
      "Error with file: /home/srp/Documents/LLP_DATA/2025-09-08_2HDM-S-2/LLP_data/mass_8.91e-01_ctau_1.44e+00_br_1.00e+00_seed_191632.csv\n",
      "Error message: operands could not be broadcast together with shapes (4,) (3,) \n"
     ]
    },
    {
     "name": "stderr",
     "output_type": "stream",
     "text": [
      " 27%|██▋       | 106/391 [00:31<01:10,  4.07it/s]"
     ]
    },
    {
     "name": "stdout",
     "output_type": "stream",
     "text": [
      "Error with file: /home/srp/Documents/LLP_DATA/2025-09-08_2HDM-S-2/LLP_data/mass_5.01e-01_ctau_4.72e+02_br_1.00e+00_seed_736715.csv\n",
      "Error message: operands could not be broadcast together with shapes (4,) (3,) \n"
     ]
    },
    {
     "name": "stderr",
     "output_type": "stream",
     "text": [
      " 30%|██▉       | 116/389 [00:35<01:12,  3.75it/s]"
     ]
    },
    {
     "name": "stdout",
     "output_type": "stream",
     "text": [
      "Error with file: /home/srp/Documents/LLP_DATA/2025-09-08_2HDM-S-2/LLP_data/mass_1.78e+00_ctau_2.00e-01_br_1.00e+00_seed_811007.csv\n",
      "Error message: operands could not be broadcast together with shapes (4,) (3,) \n"
     ]
    },
    {
     "name": "stderr",
     "output_type": "stream",
     "text": [
      " 27%|██▋       | 107/391 [00:31<01:07,  4.22it/s]"
     ]
    },
    {
     "name": "stdout",
     "output_type": "stream",
     "text": [
      "Error with file: /home/srp/Documents/LLP_DATA/2025-09-08_2HDM-S-2/LLP_data/mass_8.91e-01_ctau_9.07e-02_br_1.00e+00_seed_191632.csv\n",
      "Error message: operands could not be broadcast together with shapes (4,) (3,) \n"
     ]
    },
    {
     "name": "stderr",
     "output_type": "stream",
     "text": [
      " 30%|███       | 117/389 [00:35<01:10,  3.87it/s]"
     ]
    },
    {
     "name": "stdout",
     "output_type": "stream",
     "text": [
      "Error with file: /home/srp/Documents/LLP_DATA/2025-09-08_2HDM-S-2/LLP_data/mass_1.12e+00_ctau_8.65e-01_br_1.00e+00_seed_191632.csv\n",
      "Error message: operands could not be broadcast together with shapes (4,) (3,) \n"
     ]
    },
    {
     "name": "stderr",
     "output_type": "stream",
     "text": [
      " 28%|██▊       | 108/391 [00:31<01:16,  3.72it/s]"
     ]
    },
    {
     "name": "stdout",
     "output_type": "stream",
     "text": [
      "Error with file: /home/srp/Documents/LLP_DATA/2025-09-08_2HDM-S-2/LLP_data/mass_4.47e-01_ctau_4.12e+01_br_1.00e+00_seed_517997.csv\n",
      "Error message: operands could not be broadcast together with shapes (4,) (3,) \n"
     ]
    },
    {
     "name": "stderr",
     "output_type": "stream",
     "text": [
      " 30%|███       | 118/389 [00:35<01:16,  3.55it/s]"
     ]
    },
    {
     "name": "stdout",
     "output_type": "stream",
     "text": [
      "Error with file: /home/srp/Documents/LLP_DATA/2025-09-08_2HDM-S-2/LLP_data/mass_7.08e-01_ctau_4.96e+00_br_1.00e+00_seed_736715.csv\n",
      "Error message: operands could not be broadcast together with shapes (4,) (3,) \n"
     ]
    },
    {
     "name": "stderr",
     "output_type": "stream",
     "text": [
      " 28%|██▊       | 109/391 [00:32<01:11,  3.92it/s]"
     ]
    },
    {
     "name": "stdout",
     "output_type": "stream",
     "text": [
      "Error with file: /home/srp/Documents/LLP_DATA/2025-09-08_2HDM-S-2/LLP_data/mass_3.55e-01_ctau_8.71e+05_br_1.00e+00_seed_517997.csv\n",
      "Error message: operands could not be broadcast together with shapes (4,) (3,) \n"
     ]
    },
    {
     "name": "stderr",
     "output_type": "stream",
     "text": [
      " 31%|███       | 119/389 [00:36<01:11,  3.80it/s]"
     ]
    },
    {
     "name": "stdout",
     "output_type": "stream",
     "text": [
      "Error with file: /home/srp/Documents/LLP_DATA/2025-09-08_2HDM-S-2/LLP_data/mass_4.47e-01_ctau_6.53e+00_br_1.00e+00_seed_517997.csv\n",
      "Error message: operands could not be broadcast together with shapes (4,) (3,) \n"
     ]
    },
    {
     "name": "stderr",
     "output_type": "stream",
     "text": [
      " 28%|██▊       | 110/391 [00:32<01:10,  3.98it/s]"
     ]
    },
    {
     "name": "stdout",
     "output_type": "stream",
     "text": [
      "Error with file: /home/srp/Documents/LLP_DATA/2025-09-08_2HDM-S-2/LLP_data/mass_1.58e+00_ctau_1.69e+01_br_1.00e+00_seed_811007.csv\n",
      "Error message: operands could not be broadcast together with shapes (4,) (3,) \n"
     ]
    },
    {
     "name": "stderr",
     "output_type": "stream",
     "text": [
      " 31%|███       | 120/389 [00:36<01:09,  3.88it/s]"
     ]
    },
    {
     "name": "stdout",
     "output_type": "stream",
     "text": [
      "Error with file: /home/srp/Documents/LLP_DATA/2025-09-08_2HDM-S-2/LLP_data/mass_3.55e-01_ctau_5.50e+06_br_1.00e+00_seed_517997.csv\n",
      "Error message: operands could not be broadcast together with shapes (4,) (3,) \n"
     ]
    },
    {
     "name": "stderr",
     "output_type": "stream",
     "text": [
      " 28%|██▊       | 111/391 [00:32<01:11,  3.90it/s]"
     ]
    },
    {
     "name": "stdout",
     "output_type": "stream",
     "text": [
      "Error with file: /home/srp/Documents/LLP_DATA/2025-09-08_2HDM-S-2/LLP_data/mass_3.98e-01_ctau_3.67e+00_br_1.00e+00_seed_517997.csv\n",
      "Error message: operands could not be broadcast together with shapes (4,) (3,) \n"
     ]
    },
    {
     "name": "stderr",
     "output_type": "stream",
     "text": [
      " 31%|███       | 121/389 [00:36<01:08,  3.91it/s]"
     ]
    },
    {
     "name": "stdout",
     "output_type": "stream",
     "text": [
      "Error with file: /home/srp/Documents/LLP_DATA/2025-09-08_2HDM-S-2/LLP_data/mass_4.47e-01_ctau_2.60e+06_br_1.00e+00_seed_517997.csv\n",
      "Error message: operands could not be broadcast together with shapes (4,) (3,) \n"
     ]
    },
    {
     "name": "stderr",
     "output_type": "stream",
     "text": [
      " 29%|██▊       | 112/391 [00:32<01:15,  3.70it/s]"
     ]
    }
   ],
   "source": [
    "from concurrent.futures import ProcessPoolExecutor\n",
    "import os\n",
    "\n",
    "# 假设 okr.one_key_run_by_csv_cross_section_main131 是你要并行运行的函数\n",
    "from concurrent.futures import ProcessPoolExecutor\n",
    "\n",
    "def run_task(args):\n",
    "    _csv_file, _param1, _param2, _out_path, _main131_path, _date, _sleep_time = args\n",
    "    return okr.one_key_run_by_csv_cross_section_main131_SHiP(_csv_file, _param1, _param2, _out_path, _main131_path, _date, _sleep_time)\n",
    "\n",
    "if __name__ == \"__main__\":\n",
    "    # 自定义 CPU 核心数量\n",
    "    num_cores = 4  # 你可以将此值改为你想使用的核心数量\n",
    "\n",
    "    # 定义任务参数\n",
    "    # out_path = \"output_path\"  # 替换为实际的输出路径\n",
    "    # main131_path = \"main131_path\"  # 替换为实际的路径\n",
    "\n",
    "    tasks = [\n",
    "        (f\"{i+1}.csv\", 1, 1, out_path, main131_path, today, 0)  # 生成任务参数\n",
    "        for i in range(num_cores)  # 根据自定义核心数生成任务\n",
    "    ]\n",
    "\n",
    "    # 打印生成的任务\n",
    "    for task in tasks:\n",
    "        print(task)\n",
    "\n",
    "    # 使用多核并行\n",
    "    with ProcessPoolExecutor(max_workers=num_cores) as executor:\n",
    "        results = list(executor.map(run_task, tasks))\n",
    "\n",
    "    # 打印结果\n",
    "    print(\"All tasks completed:\", results)\n",
    "\n",
    "\n",
    "run_task((csv_file, 1, 1, out_path, main131_path, today, 0))"
   ]
  },
  {
   "cell_type": "markdown",
   "metadata": {},
   "source": [
    "#### To read the data\n",
    "\n",
    "Now that you have done the simulation via pythia8, the output .csv files should be in your `output` folder. \n",
    "\n",
    "Below the folder, the file is sorted and filed by `date of the simulation`, so there will be a new folder like `2025-03-07`. In that `date folder`, there will be two folders, named`LLP_data`(store the orginal data), and `Completed_llp_data_precise` (store the detective data). \n",
    "\n",
    "AND THERE IS A `.csv` FILE, which is named like `2025-03-07_detected_combined_precise_file.csv`, it contains ONLY the LLPs can be DETECTED by CODEX-b."
   ]
  },
  {
   "cell_type": "code",
   "execution_count": null,
   "metadata": {},
   "outputs": [
    {
     "name": "stdout",
     "output_type": "stream",
     "text": [
      "(-10.200000256677525, -12.400000474218762)\n"
     ]
    }
   ],
   "source": [
    "print(ad.print_max_min_log10_sin_theta_2('/Users/shiyuzhe/Documents/University/LLP/Second_Term/pythia8/BtoKa/Code/position_read_analyse_1.3/LLP_data_for_test/2025-2-16/2025-2-16_detected_combined_precise_file.csv'))"
   ]
  },
  {
   "cell_type": "markdown",
   "metadata": {},
   "source": [
    "### The Detect Function\n",
    "\n",
    "Functions::::\n",
    "```python\n",
    "def detect_r_and_combine(LLP_data_path) \n",
    "\n",
    "def detect_precise_and_combine(LLP_data_path)\n",
    "```\n",
    "\n",
    "Are functions to combine '''.csv files''' and judge whether LLP can be detected by CODEX-b or not\n",
    "\n",
    "They will creat a ```.csv file``` at the dir of your LLP, which contains ALL DETECTED LLPS.\n",
    "\n",
    "The function::::\n",
    "```python \n",
    "def detect_r_and_combine(LLP_data_path)\n",
    "```\n",
    " is merely a test function. You can play with it to get more data, but DO NOT use it for real analyzation"
   ]
  },
  {
   "cell_type": "code",
   "execution_count": 4,
   "metadata": {},
   "outputs": [
    {
     "name": "stderr",
     "output_type": "stream",
     "text": [
      "100%|██████████| 391/391 [8:08:25<00:00, 74.95s/it]  \n"
     ]
    },
    {
     "name": "stdout",
     "output_type": "stream",
     "text": [
      "The LLPs are Judged whether they are Detected or not, and calculated the cross section\n"
     ]
    },
    {
     "name": "stderr",
     "output_type": "stream",
     "text": [
      "100%|██████████| 391/391 [01:19<00:00,  4.95it/s]"
     ]
    },
    {
     "name": "stdout",
     "output_type": "stream",
     "text": [
      "The Final Step is Over, See the .csv files for LLPs Completed Data\n"
     ]
    },
    {
     "name": "stderr",
     "output_type": "stream",
     "text": [
      "\n"
     ]
    },
    {
     "data": {
      "text/plain": [
       "('/home/srp/Documents/LLP_DATA/2025-09-08_2HDM-S-2/Completed_llp_data_precise_cross_section',\n",
       " ('/home/srp/Documents/LLP_DATA/2025-09-08_2HDM-S-2/2025-09-09_all_combined_precise_file.csv',\n",
       "  '/home/srp/Documents/LLP_DATA/2025-09-08_2HDM-S-2/2025-09-09_detected_combined_precise_file.csv'))"
      ]
     },
     "execution_count": 4,
     "metadata": {},
     "output_type": "execute_result"
    }
   ],
   "source": [
    "LLP_date_path = '/home/srp/Documents/LLP_DATA/2025-09-08_2HDM-S-2/LLP_data/'\n",
    "# detected_r = '/Users/shiyuzhe/Documents/University/LLP/Second_Term/pythia8/BtoKa/Code/position_read_analyse_1.3/LLP_data_for_test/2024-11-18_19/'\n",
    "okr.calcu_cross_section_and_combine_files_CODEX_MATHUSLA_SHiP(LLP_date_path)"
   ]
  },
  {
   "cell_type": "code",
   "execution_count": 10,
   "metadata": {},
   "outputs": [
    {
     "name": "stdout",
     "output_type": "stream",
     "text": [
      "All CSV files have been merged into /home/srp/Documents/LLP_DATA/2025-09-01_2HDM-S/LLP_data/combined.csv\n"
     ]
    }
   ],
   "source": [
    "combinefile = '/home/srp/Documents/LLP_DATA/2025-09-01_2HDM-S/LLP_data'\n",
    "combine.merge_csv_files(combinefile, combinefile + '/combined.csv')"
   ]
  }
 ],
 "metadata": {
  "kernelspec": {
   "display_name": "Python 3",
   "language": "python",
   "name": "python3"
  },
  "language_info": {
   "codemirror_mode": {
    "name": "ipython",
    "version": 3
   },
   "file_extension": ".py",
   "mimetype": "text/x-python",
   "name": "python",
   "nbconvert_exporter": "python",
   "pygments_lexer": "ipython3",
   "version": "3.10.12"
  }
 },
 "nbformat": 4,
 "nbformat_minor": 2
}
