{
 "cells": [
  {
   "cell_type": "code",
   "execution_count": 1,
   "metadata": {},
   "outputs": [],
   "source": [
    "import sys\n",
    "sys.path.append(\"ALL_IN_ONE/Pythia8\")\n",
    "sys.path.append(\"ALL_IN_ONE/LSD\")\n",
    "sys.path.append(\"ALL_IN_ONE/FIT_FUNC\")\n",
    "import os\n",
    "from tqdm import tqdm\n",
    "import ALL_IN_ONE.Pythia8.loop as loop\n",
    "import ALL_IN_ONE.Pythia8.one_key_run as okr \n",
    "import ALL_IN_ONE.Pythia8.run_save as rs\n",
    "import ALL_IN_ONE.Pythia8.analyse_data as ad\n",
    "import ALL_IN_ONE.Pythia8.detection as detection\n",
    "import ALL_IN_ONE.Pythia8.Mulity_process as mp\n",
    "from datetime import datetime\n",
    "import ALL_IN_ONE.Pythia8.combine as combine\n",
    "# from detection import detect_percise_and_combine, detect_r_and_combine\n",
    "# from analyse_data import see_ctau_2, print_max_min_log10_sin_theta_2"
   ]
  },
  {
   "cell_type": "markdown",
   "metadata": {},
   "source": [
    "### This Func is made for FUTURE USE aimmed to speed up our simulations(Whose speed is Not Satisfying right now(2024.11.17)). \n",
    "\n",
    "### But it is not usable now"
   ]
  },
  {
   "cell_type": "code",
   "execution_count": null,
   "metadata": {},
   "outputs": [],
   "source": [
    "# from joblib import Parallel, delayed\n",
    "\n",
    "# def worker(seed):\n",
    "#     LLP_data_path = loop_mass_ctau_given_by_csv_multi(csv_file, br, seed, out_put_path, main41_path)\n",
    "#     print('The Generation of LLPs is Completed')\n",
    "#     completed_data_dir = detect_folder_files_no_calcu(LLP_data_path)[1]\n",
    "#     print('The LLPs are Judged whether they are Detected or not')\n",
    "#     final_files = combine_files_precise(completed_data_dir)\n",
    "#     print('The Final Step is Over, See the .csv files for LLPs Completed Data')\n",
    "#     return LLP_data_path, completed_data_dir, final_files\n",
    "\n",
    "# def one_key_run_mass_ctau_given_by_csv_multi(csv_file, br, seed_array, out_put_path, main41_path):\n",
    "#     results = Parallel(n_jobs=5)(delayed(worker)(seed) for seed in seed_array)\n",
    "#     return results\n"
   ]
  },
  {
   "cell_type": "markdown",
   "metadata": {},
   "source": [
    "## Attention:  \n",
    "\n",
    "## The Units are CM and GEV"
   ]
  },
  {
   "cell_type": "markdown",
   "metadata": {},
   "source": [
    "### The 'one_key_run_XXX' functions are all you need to use.\n",
    "\n"
   ]
  },
  {
   "cell_type": "markdown",
   "metadata": {},
   "source": [
    "### Setting Parameters"
   ]
  },
  {
   "cell_type": "code",
   "execution_count": 4,
   "metadata": {},
   "outputs": [],
   "source": [
    "c_mm = (3*10**5) # tau0's unit is mm/c, to convert the ultimate decay postion,\n",
    "                            # we need to do sth to the ctau_typed_in \n",
    "\n",
    "br_lowerlim = -20 #ctau and br are in logspace\n",
    "br_upperlim = -20\n",
    "br_amount = 1\n",
    "ctau_lowerlim = 1\n",
    "ctau_upperlim = 30\n",
    "ctau_amount = 50\n",
    "mass = 1\n",
    "seed_amount = 5\n",
    "seed_array = (357993, 1234) #Pythia8 simulation seed\n",
    "\n",
    "mass_lower_lim = 0.1 # Mass in in linspace\n",
    "mass_upper_lim = 4\n",
    "mass_amount = 20\n",
    "br = 1"
   ]
  },
  {
   "cell_type": "markdown",
   "metadata": {},
   "source": [
    "#### Same as before:  \n",
    "\n",
    "##### The function \n",
    "```python\n",
    "    one_key_run_mass_ctau_simple_ver() #Function to run an pythia8 program\n",
    "```\n",
    "\n",
    "takes \n",
    "\n",
    "```\n",
    "br's lower / upper lim (10^x), br's amount, \n",
    "\n",
    "ctau's lower / upper lim (10^x), ctau's amount, \n",
    "\n",
    "mass, \n",
    "\n",
    "seed's amount, \n",
    "\n",
    "the Output folder's path, \n",
    "\n",
    "main41.cc's dir path\n",
    "```\n",
    "as input.\n",
    "\n",
    "The Output is LOTS OF ```.csv``` Files with LLPs' Properties \n",
    "\n",
    "```\n",
    "    Momentum in GeV, \n",
    "    \n",
    "    lifetime(ctau or tau) in mm/C, \n",
    "\n",
    "    decay_postion in mm, mass in GeV \n",
    "\n",
    "    and so on\n",
    "```\n",
    "\n",
    "The path's format is listed below, you can change them directly to your real path to run the function"
   ]
  },
  {
   "cell_type": "code",
   "execution_count": 2,
   "metadata": {},
   "outputs": [
    {
     "name": "stdout",
     "output_type": "stream",
     "text": [
      "2025-09-19_2HDMA_SHiP_5GeV\n"
     ]
    }
   ],
   "source": [
    "main131_path = '/media/ubuntu/6156e08b-fdb1-4cde-964e-431f74a6078e/Program/pythia8312/examples/'\n",
    "# For Pythia8.31, main41 is now main131 but the path remains the same\n",
    "out_path = '/media/ubuntu/6156e08b-fdb1-4cde-964e-431f74a6078e/Files/LLP_DATA/Original_DATA/SHiP-A/'\n",
    "today = str(datetime.now().date())+'_2HDMA_SHiP_5GeV'\n",
    "print(today)"
   ]
  },
  {
   "cell_type": "markdown",
   "metadata": {},
   "source": [
    "#### New Function info:\n",
    "\n",
    "The function\n",
    "```python\n",
    "    def one_key_run_mass_ctau_br_given_by_csv_main131(csv_file, br, seed_amount, out_path, main41_path)\n",
    "```\n",
    "\n",
    "takes a ```.csv file``` as input instead of the range of ```mass```, ```tau```, ```Br_XX```and etc. \n",
    "\n",
    "The function will read each line of ```.csv file``` to get `LLP's DATA Range`, ALONG WITH ```ALL THE Branching Ratio of OUR LLP``` and put this set of data into pythia8. \n",
    "\n",
    "Pythia8 will do the simulation, then output .csv file to the ``` out_path``` folder."
   ]
  },
  {
   "cell_type": "code",
   "execution_count": null,
   "metadata": {},
   "outputs": [],
   "source": [
    "test_csv = '/media/ubuntu/6156e08b-fdb1-4cde-964e-431f74a6078e/Program/PRA/Github/position_read_analyse_1.3/ALL_IN_ONE/LSD/tau_theta_1e-05.csv'\n",
    "okr.one_key_run_by_csv_cross_section_main131_simple(test_csv, 1, 1, out_path, main131_path, today, 0)"
   ]
  },
  {
   "cell_type": "code",
   "execution_count": 3,
   "metadata": {},
   "outputs": [
    {
     "name": "stdout",
     "output_type": "stream",
     "text": [
      "CSV file has been split into 1 parts.\n",
      "/media/ubuntu/6156e08b-fdb1-4cde-964e-431f74a6078e/Program/stonerainphilo-Light_scalar_decay/Combined_Code/2HDM-I_A_SHiP_upper-5GeV.csv\n"
     ]
    }
   ],
   "source": [
    "csv_file = '/media/ubuntu/6156e08b-fdb1-4cde-964e-431f74a6078e/Program/stonerainphilo-Light_scalar_decay/Combined_Code/2HDM-I_A_SHiP_upper-5GeV.csv'\n",
    "mp.split_csv_into_different_parts(csv_file, 1)\n",
    "print(csv_file)"
   ]
  },
  {
   "cell_type": "code",
   "execution_count": 4,
   "metadata": {},
   "outputs": [
    {
     "name": "stdout",
     "output_type": "stream",
     "text": [
      "2025-09-19_2HDMA_SHiP_5GeV\n"
     ]
    }
   ],
   "source": [
    "print(today)"
   ]
  },
  {
   "cell_type": "code",
   "execution_count": 8,
   "metadata": {},
   "outputs": [
    {
     "name": "stdout",
     "output_type": "stream",
     "text": [
      "('1.csv', 1, 1, '/media/ubuntu/6156e08b-fdb1-4cde-964e-431f74a6078e/Files/LLP_DATA/Original_DATA/SHiP-A/', '/media/ubuntu/6156e08b-fdb1-4cde-964e-431f74a6078e/Program/pythia8312/examples/', '2025-09-15_Scalar_SHiP', 5)\n",
      "('2.csv', 1, 1, '/media/ubuntu/6156e08b-fdb1-4cde-964e-431f74a6078e/Files/LLP_DATA/Original_DATA/SHiP-A/', '/media/ubuntu/6156e08b-fdb1-4cde-964e-431f74a6078e/Program/pythia8312/examples/', '2025-09-15_Scalar_SHiP', 5)\n",
      "Running Simulation...Running Simulation...\n",
      "\n"
     ]
    },
    {
     "name": "stderr",
     "output_type": "stream",
     "text": [
      "100%|██████████| 782/782 [4:21:26<00:00, 20.06s/it]  \n"
     ]
    },
    {
     "name": "stdout",
     "output_type": "stream",
     "text": [
      "The Generation of LLPs is Completed\n"
     ]
    },
    {
     "name": "stderr",
     "output_type": "stream",
     "text": [
      "100%|██████████| 782/782 [4:21:28<00:00, 20.06s/it]\n"
     ]
    },
    {
     "name": "stdout",
     "output_type": "stream",
     "text": [
      "The Generation of LLPs is Completed\n",
      "All tasks completed: ['/media/ubuntu/6156e08b-fdb1-4cde-964e-431f74a6078e/Files/LLP_DATA/Original_DATA/SHiP-A/2025-09-15_Scalar_SHiP/LLP_data', '/media/ubuntu/6156e08b-fdb1-4cde-964e-431f74a6078e/Files/LLP_DATA/Original_DATA/SHiP-A/2025-09-15_Scalar_SHiP/LLP_data']\n",
      "Running Simulation...\n"
     ]
    },
    {
     "name": "stderr",
     "output_type": "stream",
     "text": [
      "100%|██████████| 1564/1564 [7:26:26<00:00, 17.13s/it]  "
     ]
    },
    {
     "name": "stdout",
     "output_type": "stream",
     "text": [
      "The Generation of LLPs is Completed\n"
     ]
    },
    {
     "name": "stderr",
     "output_type": "stream",
     "text": [
      "\n"
     ]
    },
    {
     "data": {
      "text/plain": [
       "'/media/ubuntu/6156e08b-fdb1-4cde-964e-431f74a6078e/Files/LLP_DATA/Original_DATA/SHiP-A/2025-09-15_Scalar_SHiP/LLP_data'"
      ]
     },
     "execution_count": 8,
     "metadata": {},
     "output_type": "execute_result"
    }
   ],
   "source": [
    "from concurrent.futures import ProcessPoolExecutor\n",
    "import os\n",
    "\n",
    "# 假设 okr.one_key_run_by_csv_cross_section_main131 是你要并行运行的函数\n",
    "from concurrent.futures import ProcessPoolExecutor\n",
    "\n",
    "def run_task(args):\n",
    "    _csv_file, _param1, _param2, _out_path, _main131_path, _date, _sleep_time = args\n",
    "    return okr.run_Only_Scalar_main131_SHiP(_csv_file, _param1, _param2, _out_path, _main131_path, _date, _sleep_time)\n",
    "\n",
    "if __name__ == \"__main__\":\n",
    "    # 自定义 CPU 核心数量\n",
    "    num_cores = 2  # 你可以将此值改为你想使用的核心数量\n",
    "\n",
    "    # 定义任务参数\n",
    "    # out_path = \"output_path\"  # 替换为实际的输出路径\n",
    "    # main131_path = \"main131_path\"  # 替换为实际的路径\n",
    "\n",
    "    tasks = [\n",
    "        (f\"{i+1}.csv\", 1, 1, out_path, main131_path, today, 5)  # 生成任务参数\n",
    "        for i in range(num_cores)  # 根据自定义核心数生成任务\n",
    "    ]\n",
    "\n",
    "    # 打印生成的任务\n",
    "    for task in tasks:\n",
    "        print(task)\n",
    "\n",
    "    # 使用多核并行\n",
    "    with ProcessPoolExecutor(max_workers=num_cores) as executor:\n",
    "        results = list(executor.map(run_task, tasks))\n",
    "\n",
    "    # 打印结果\n",
    "    print(\"All tasks completed:\", results)\n",
    "\n",
    "\n",
    "run_task((csv_file, 1, 1, out_path, main131_path, today, 0))"
   ]
  },
  {
   "cell_type": "code",
   "execution_count": 5,
   "metadata": {},
   "outputs": [
    {
     "name": "stdout",
     "output_type": "stream",
     "text": [
      "('1.csv', 1, 1, '/media/ubuntu/6156e08b-fdb1-4cde-964e-431f74a6078e/Files/LLP_DATA/Original_DATA/SHiP-A/', '/media/ubuntu/6156e08b-fdb1-4cde-964e-431f74a6078e/Program/pythia8312/examples/', '2025-09-19_2HDMA_SHiP_5GeV', 3)\n",
      "Running Simulation...\n"
     ]
    },
    {
     "name": "stderr",
     "output_type": "stream",
     "text": [
      "100%|██████████| 405/405 [1:41:41<00:00, 15.06s/it]\n"
     ]
    },
    {
     "name": "stdout",
     "output_type": "stream",
     "text": [
      "The Generation of LLPs is Completed\n",
      "All tasks completed: ['/media/ubuntu/6156e08b-fdb1-4cde-964e-431f74a6078e/Files/LLP_DATA/Original_DATA/SHiP-A/2025-09-19_2HDMA_SHiP_5GeV/LLP_data']\n",
      "Running Simulation...\n"
     ]
    },
    {
     "name": "stderr",
     "output_type": "stream",
     "text": [
      "100%|██████████| 405/405 [1:21:39<00:00, 12.10s/it]"
     ]
    },
    {
     "name": "stdout",
     "output_type": "stream",
     "text": [
      "The Generation of LLPs is Completed\n"
     ]
    },
    {
     "name": "stderr",
     "output_type": "stream",
     "text": [
      "\n"
     ]
    },
    {
     "data": {
      "text/plain": [
       "'/media/ubuntu/6156e08b-fdb1-4cde-964e-431f74a6078e/Files/LLP_DATA/Original_DATA/SHiP-A/2025-09-19_2HDMA_SHiP_5GeV/LLP_data'"
      ]
     },
     "execution_count": 5,
     "metadata": {},
     "output_type": "execute_result"
    }
   ],
   "source": [
    "from concurrent.futures import ProcessPoolExecutor\n",
    "import os\n",
    "from concurrent.futures import ProcessPoolExecutor\n",
    "\n",
    "def run_task(args):\n",
    "    _csv_file, _param1, _param2, _out_path, _main131_path, _date, _sleep_time = args\n",
    "    return okr.run_Only_2HDMA_main131_SHiP(_csv_file, _param1, _param2, _out_path, _main131_path, _date, _sleep_time)\n",
    "\n",
    "if __name__ == \"__main__\":\n",
    "    num_cores = 1  # Core amount\n",
    "\n",
    "    tasks = [\n",
    "        (f\"{i+1}.csv\", 1, 1, out_path, main131_path, today, 3)\n",
    "        for i in range(num_cores) \n",
    "    ]\n",
    "\n",
    "    for task in tasks:\n",
    "        print(task)\n",
    "\n",
    "    with ProcessPoolExecutor(max_workers=num_cores) as executor:\n",
    "        results = list(executor.map(run_task, tasks))\n",
    "\n",
    "    print(\"All tasks completed:\", results)\n",
    "\n",
    "\n",
    "run_task((csv_file, 1, 1, out_path, main131_path, today, 0))"
   ]
  },
  {
   "cell_type": "markdown",
   "metadata": {},
   "source": [
    "#### To read the data\n",
    "\n",
    "Now that you have done the simulation via pythia8, the output .csv files should be in your `output` folder. \n",
    "\n",
    "Below the folder, the file is sorted and filed by `date of the simulation`, so there will be a new folder like `2025-03-07`. In that `date folder`, there will be two folders, named`LLP_data`(store the orginal data), and `Completed_llp_data_precise` (store the detective data). \n",
    "\n",
    "AND THERE IS A `.csv` FILE, which is named like `2025-03-07_detected_combined_precise_file.csv`, it contains ONLY the LLPs can be DETECTED by CODEX-b."
   ]
  },
  {
   "cell_type": "code",
   "execution_count": null,
   "metadata": {},
   "outputs": [],
   "source": [
    "print(ad.print_max_min_log10_sin_theta_2('/Users/shiyuzhe/Documents/University/LLP/Second_Term/pythia8/BtoKa/Code/position_read_analyse_1.3/LLP_data_for_test/2025-2-16/2025-2-16_detected_combined_precise_file.csv'))"
   ]
  },
  {
   "cell_type": "markdown",
   "metadata": {},
   "source": [
    "### The Detect Function\n",
    "\n",
    "Functions::::\n",
    "```python\n",
    "def detect_r_and_combine(LLP_data_path) \n",
    "\n",
    "def detect_precise_and_combine(LLP_data_path)\n",
    "```\n",
    "\n",
    "Are functions to combine '''.csv files''' and judge whether LLP can be detected by CODEX-b or not\n",
    "\n",
    "They will creat a ```.csv file``` at the dir of your LLP, which contains ALL DETECTED LLPS.\n",
    "\n",
    "The function::::\n",
    "```python \n",
    "def detect_r_and_combine(LLP_data_path)\n",
    "```\n",
    " is merely a test function. You can play with it to get more data, but DO NOT use it for real analyzation"
   ]
  },
  {
   "cell_type": "code",
   "execution_count": null,
   "metadata": {},
   "outputs": [],
   "source": [
    "LLP_date_path = '/media/ubuntu/6156e08b-fdb1-4cde-964e-431f74a6078e/Files/LLP_DATA/Original_DATA/test_CODEX_Original/2025-06-01_2HDM-A/LLP_data/B_2HDM'\n",
    "# detected_r = '/Users/shiyuzhe/Documents/University/LLP/Second_Term/pythia8/BtoKa/Code/position_read_analyse_1.3/LLP_data_for_test/2024-11-18_19/'\n",
    "okr.calcu_cross_section_and_combine_files_CODEX_MATHUSLA(LLP_date_path)"
   ]
  },
  {
   "cell_type": "code",
   "execution_count": null,
   "metadata": {},
   "outputs": [],
   "source": [
    "combinefile = '/media/ubuntu/6156e08b-fdb1-4cde-964e-431f74a6078e/Files/LLP_DATA/Original_DATA/'\n",
    "combine.merge_csv_files(combinefile, combinefile + '/combined.csv')"
   ]
  }
 ],
 "metadata": {
  "kernelspec": {
   "display_name": "Python 3",
   "language": "python",
   "name": "python3"
  },
  "language_info": {
   "codemirror_mode": {
    "name": "ipython",
    "version": 3
   },
   "file_extension": ".py",
   "mimetype": "text/x-python",
   "name": "python",
   "nbconvert_exporter": "python",
   "pygments_lexer": "ipython3",
   "version": "3.10.12"
  }
 },
 "nbformat": 4,
 "nbformat_minor": 2
}
