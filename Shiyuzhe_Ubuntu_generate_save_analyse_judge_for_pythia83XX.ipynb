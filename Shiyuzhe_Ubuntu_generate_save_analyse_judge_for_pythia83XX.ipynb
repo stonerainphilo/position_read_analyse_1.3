{
 "cells": [
  {
   "cell_type": "code",
   "execution_count": 1,
   "metadata": {},
   "outputs": [],
   "source": [
    "import sys\n",
    "sys.path.append(\"ALL_IN_ONE/Pythia8\")\n",
    "sys.path.append(\"ALL_IN_ONE/LSD\")\n",
    "sys.path.append(\"ALL_IN_ONE/FIT_FUNC\")"
   ]
  },
  {
   "cell_type": "code",
   "execution_count": 2,
   "metadata": {},
   "outputs": [],
   "source": [
    "import os\n",
    "from tqdm import tqdm\n",
    "import ALL_IN_ONE.Pythia8.loop as loop\n",
    "import ALL_IN_ONE.Pythia8.one_key_run as okr \n",
    "import ALL_IN_ONE.Pythia8.run_save as rs\n",
    "import ALL_IN_ONE.Pythia8.analyse_data as ad\n",
    "import ALL_IN_ONE.Pythia8.detection as detection\n",
    "import ALL_IN_ONE.Pythia8.Mulity_process as mp\n",
    "from datetime import datetime\n",
    "import ALL_IN_ONE.Pythia8.combine as combine\n",
    "# from detection import detect_percise_and_combine, detect_r_and_combine\n",
    "# from analyse_data import see_ctau_2, print_max_min_log10_sin_theta_2"
   ]
  },
  {
   "cell_type": "markdown",
   "metadata": {},
   "source": [
    "### This Func is made for FUTURE USE aimmed to speed up our simulations(Whose speed is Not Satisfying right now(2024.11.17)). \n",
    "\n",
    "### But it is not usable now"
   ]
  },
  {
   "cell_type": "code",
   "execution_count": 3,
   "metadata": {},
   "outputs": [],
   "source": [
    "# from joblib import Parallel, delayed\n",
    "\n",
    "# def worker(seed):\n",
    "#     LLP_data_path = loop_mass_ctau_given_by_csv_multi(csv_file, br, seed, out_put_path, main41_path)\n",
    "#     print('The Generation of LLPs is Completed')\n",
    "#     completed_data_dir = detect_folder_files_no_calcu(LLP_data_path)[1]\n",
    "#     print('The LLPs are Judged whether they are Detected or not')\n",
    "#     final_files = combine_files_precise(completed_data_dir)\n",
    "#     print('The Final Step is Over, See the .csv files for LLPs Completed Data')\n",
    "#     return LLP_data_path, completed_data_dir, final_files\n",
    "\n",
    "# def one_key_run_mass_ctau_given_by_csv_multi(csv_file, br, seed_array, out_put_path, main41_path):\n",
    "#     results = Parallel(n_jobs=5)(delayed(worker)(seed) for seed in seed_array)\n",
    "#     return results\n"
   ]
  },
  {
   "cell_type": "markdown",
   "metadata": {},
   "source": [
    "## Attention:  \n",
    "\n",
    "## The Units are CM and GEV"
   ]
  },
  {
   "cell_type": "markdown",
   "metadata": {},
   "source": [
    "### The 'one_key_run_XXX' functions are all you need to use.\n",
    "\n"
   ]
  },
  {
   "cell_type": "markdown",
   "metadata": {},
   "source": [
    "### Setting Parameters"
   ]
  },
  {
   "cell_type": "code",
   "execution_count": 4,
   "metadata": {},
   "outputs": [],
   "source": [
    "c_mm = (3*10**5) # tau0's unit is mm/c, to convert the ultimate decay postion,\n",
    "                            # we need to do sth to the ctau_typed_in \n",
    "\n",
    "br_lowerlim = -20 #ctau and br are in logspace\n",
    "br_upperlim = -20\n",
    "br_amount = 1\n",
    "ctau_lowerlim = 1\n",
    "ctau_upperlim = 30\n",
    "ctau_amount = 50\n",
    "mass = 1\n",
    "seed_amount = 5\n",
    "seed_array = (357993, 1234) #Pythia8 simulation seed\n",
    "\n",
    "mass_lower_lim = 0.1 # Mass in in linspace\n",
    "mass_upper_lim = 4\n",
    "mass_amount = 20\n",
    "br = 1"
   ]
  },
  {
   "cell_type": "markdown",
   "metadata": {},
   "source": [
    "#### Same as before:  \n",
    "\n",
    "##### The function \n",
    "```python\n",
    "    one_key_run_mass_ctau_simple_ver() #Function to run an pythia8 program\n",
    "```\n",
    "\n",
    "takes \n",
    "\n",
    "```\n",
    "br's lower / upper lim (10^x), br's amount, \n",
    "\n",
    "ctau's lower / upper lim (10^x), ctau's amount, \n",
    "\n",
    "mass, \n",
    "\n",
    "seed's amount, \n",
    "\n",
    "the Output folder's path, \n",
    "\n",
    "main41.cc's dir path\n",
    "```\n",
    "as input.\n",
    "\n",
    "The Output is LOTS OF ```.csv``` Files with LLPs' Properties \n",
    "\n",
    "```\n",
    "    Momentum in GeV, \n",
    "    \n",
    "    lifetime(ctau or tau) in mm/C, \n",
    "\n",
    "    decay_postion in mm, mass in GeV \n",
    "\n",
    "    and so on\n",
    "```\n",
    "\n",
    "The path's format is listed below, you can change them directly to your real path to run the function"
   ]
  },
  {
   "cell_type": "code",
   "execution_count": 5,
   "metadata": {},
   "outputs": [
    {
     "name": "stdout",
     "output_type": "stream",
     "text": [
      "2025-04-23-2HDM\n"
     ]
    }
   ],
   "source": [
    "main131_path = '/media/ubuntu/6156e08b-fdb1-4cde-964e-431f74a6078e/Program/pythia8312/examples/'\n",
    "# For Pythia8.31, main41 is now main131 but the path remains the same\n",
    "out_path = '/media/ubuntu/6156e08b-fdb1-4cde-964e-431f74a6078e/Files/LLP_DATA/Original_DATA/'\n",
    "today = str(datetime.now().date())+\"-2HDM\"\n",
    "print(today)"
   ]
  },
  {
   "cell_type": "markdown",
   "metadata": {},
   "source": [
    "#### New Function info:\n",
    "\n",
    "The function\n",
    "```python\n",
    "    def one_key_run_mass_ctau_br_given_by_csv_main131(csv_file, br, seed_amount, out_path, main41_path)\n",
    "```\n",
    "\n",
    "takes a ```.csv file``` as input instead of the range of ```mass```, ```tau```, ```Br_XX```and etc. \n",
    "\n",
    "The function will read each line of ```.csv file``` to get `LLP's DATA Range`, ALONG WITH ```ALL THE Branching Ratio of OUR LLP``` and put this set of data into pythia8. \n",
    "\n",
    "Pythia8 will do the simulation, then output .csv file to the ``` out_path``` folder."
   ]
  },
  {
   "cell_type": "code",
   "execution_count": null,
   "metadata": {},
   "outputs": [],
   "source": [
    "csv_file = '/media/ubuntu/6156e08b-fdb1-4cde-964e-431f74a6078e/Program/Light_scalar_decay/Combined_Code/2HDM_test_1.csv'\n",
    "mp.split_csv_into_different_parts(csv_file, 3)"
   ]
  },
  {
   "cell_type": "code",
   "execution_count": 9,
   "metadata": {},
   "outputs": [
    {
     "name": "stdout",
     "output_type": "stream",
     "text": [
      "Running Simulation...\n"
     ]
    },
    {
     "name": "stderr",
     "output_type": "stream",
     "text": [
      "  0%|          | 0/2961 [00:00<?, ?it/s]"
     ]
    },
    {
     "name": "stderr",
     "output_type": "stream",
     "text": [
      "100%|██████████| 2961/2961 [68:06:17<00:00, 82.80s/it]   \n"
     ]
    },
    {
     "name": "stdout",
     "output_type": "stream",
     "text": [
      "The Generation of LLPs is Completed\n"
     ]
    },
    {
     "name": "stderr",
     "output_type": "stream",
     "text": [
      "100%|██████████| 3/3 [00:00<00:00, 6557.02it/s]\n"
     ]
    },
    {
     "ename": "UnboundLocalError",
     "evalue": "local variable 'completed_data_folder' referenced before assignment",
     "output_type": "error",
     "traceback": [
      "\u001b[0;31m---------------------------------------------------------------------------\u001b[0m",
      "\u001b[0;31mUnboundLocalError\u001b[0m                         Traceback (most recent call last)",
      "Cell \u001b[0;32mIn[9], line 1\u001b[0m\n\u001b[0;32m----> 1\u001b[0m test_for_mass_1 \u001b[38;5;241m=\u001b[39m \u001b[43mokr\u001b[49m\u001b[38;5;241;43m.\u001b[39;49m\u001b[43mone_key_run_2HDM_cross_section_main131_lower_eff_all_detectors\u001b[49m\u001b[43m(\u001b[49m\u001b[43mcsv_file\u001b[49m\u001b[43m,\u001b[49m\u001b[43m \u001b[49m\u001b[38;5;241;43m1\u001b[39;49m\u001b[43m,\u001b[49m\u001b[43m \u001b[49m\u001b[38;5;241;43m1\u001b[39;49m\u001b[43m,\u001b[49m\u001b[43m \u001b[49m\u001b[43mout_path\u001b[49m\u001b[43m,\u001b[49m\u001b[43m \u001b[49m\u001b[43mmain131_path\u001b[49m\u001b[43m,\u001b[49m\u001b[43m \u001b[49m\u001b[43mtoday\u001b[49m\u001b[43m,\u001b[49m\u001b[43m \u001b[49m\u001b[38;5;241;43m0\u001b[39;49m\u001b[43m)\u001b[49m\n",
      "File \u001b[0;32m/media/ubuntu/6156e08b-fdb1-4cde-964e-431f74a6078e/Program/PRA/Github/position_read_analyse_1.3/ALL_IN_ONE/Pythia8/one_key_run.py:230\u001b[0m, in \u001b[0;36mone_key_run_2HDM_cross_section_main131_lower_eff_all_detectors\u001b[0;34m(csv_file, br, seed_array, out_put_path, main131_path, today, sleep_time)\u001b[0m\n\u001b[1;32m    228\u001b[0m LLP_data_path \u001b[38;5;241m=\u001b[39m loop_mass_ctau_br_given_by_csv_main131_sleep_time_BKD(csv_file, br, seed_array, out_put_path, main131_path, sleep_time, today)\n\u001b[1;32m    229\u001b[0m \u001b[38;5;28mprint\u001b[39m(\u001b[38;5;124m'\u001b[39m\u001b[38;5;124mThe Generation of LLPs is Completed\u001b[39m\u001b[38;5;124m'\u001b[39m)\n\u001b[0;32m--> 230\u001b[0m completed_data_dir \u001b[38;5;241m=\u001b[39m \u001b[43mdetect_folder_files_cross_section_CODEX_MATHUSLA\u001b[49m\u001b[43m(\u001b[49m\u001b[43mLLP_data_path\u001b[49m\u001b[43m)\u001b[49m[\u001b[38;5;241m1\u001b[39m]\n\u001b[1;32m    231\u001b[0m \u001b[38;5;28mprint\u001b[39m(\u001b[38;5;124m'\u001b[39m\u001b[38;5;124mThe LLPs are Judged whether they are Detected or not, and calculated the cross section\u001b[39m\u001b[38;5;124m'\u001b[39m)\n\u001b[1;32m    232\u001b[0m final_files \u001b[38;5;241m=\u001b[39m combine_files_precise(completed_data_dir)\n",
      "File \u001b[0;32m/media/ubuntu/6156e08b-fdb1-4cde-964e-431f74a6078e/Program/PRA/Github/position_read_analyse_1.3/ALL_IN_ONE/Pythia8/one_key_run.py:72\u001b[0m, in \u001b[0;36mdetect_folder_files_cross_section_CODEX_MATHUSLA\u001b[0;34m(LLP_data_folder_dir)\u001b[0m\n\u001b[1;32m     69\u001b[0m             \u001b[38;5;28;01mcontinue\u001b[39;00m\n\u001b[1;32m     70\u001b[0m             file_path_all \u001b[38;5;241m=\u001b[39m \u001b[38;5;124m'\u001b[39m\u001b[38;5;124m'\u001b[39m\n\u001b[0;32m---> 72\u001b[0m \u001b[38;5;28;01mreturn\u001b[39;00m \u001b[38;5;124m'\u001b[39m\u001b[38;5;124mDetection and Calcu Cross-Section Completed\u001b[39m\u001b[38;5;124m'\u001b[39m, \u001b[43mcompleted_data_folder\u001b[49m\n",
      "\u001b[0;31mUnboundLocalError\u001b[0m: local variable 'completed_data_folder' referenced before assignment"
     ]
    }
   ],
   "source": [
    "test_for_mass_1 = okr.one_key_run_2HDM_cross_section_main131_lower_eff_all_detectors(csv_file, 1, 1, out_path, main131_path, today, 0)"
   ]
  },
  {
   "cell_type": "code",
   "execution_count": null,
   "metadata": {},
   "outputs": [],
   "source": [
    "today = str(datetime.now().date())+\"-2HDM\"\n",
    "\n",
    "print(today)\n",
    "test_for_mass_1 = okr.one_key_run_2HDM_cross_section_main131_lower_eff_all_detectors(csv_file, 1, 1, out_path, main131_path, today, 0)"
   ]
  },
  {
   "cell_type": "code",
   "execution_count": null,
   "metadata": {},
   "outputs": [
    {
     "name": "stdout",
     "output_type": "stream",
     "text": [
      "('1.csv', 1, 3, '/media/ubuntu/6156e08b-fdb1-4cde-964e-431f74a6078e/Files/LLP_DATA/Original_DATA/', '/media/ubuntu/6156e08b-fdb1-4cde-964e-431f74a6078e/Program/pythia8312/examples/', '2025-04-19', 10)\n",
      "('2.csv', 1, 3, '/media/ubuntu/6156e08b-fdb1-4cde-964e-431f74a6078e/Files/LLP_DATA/Original_DATA/', '/media/ubuntu/6156e08b-fdb1-4cde-964e-431f74a6078e/Program/pythia8312/examples/', '2025-04-19', 10)\n",
      "('3.csv', 1, 3, '/media/ubuntu/6156e08b-fdb1-4cde-964e-431f74a6078e/Files/LLP_DATA/Original_DATA/', '/media/ubuntu/6156e08b-fdb1-4cde-964e-431f74a6078e/Program/pythia8312/examples/', '2025-04-19', 10)\n",
      "('4.csv', 1, 3, '/media/ubuntu/6156e08b-fdb1-4cde-964e-431f74a6078e/Files/LLP_DATA/Original_DATA/', '/media/ubuntu/6156e08b-fdb1-4cde-964e-431f74a6078e/Program/pythia8312/examples/', '2025-04-19', 10)\n",
      "Running Simulation...Running Simulation...Running Simulation...Running Simulation...\n",
      "\n",
      "\n",
      "\n"
     ]
    },
    {
     "name": "stderr",
     "output_type": "stream",
     "text": [
      "100%|██████████| 2850/2850 [32:51:20<00:00, 41.50s/it]   \n"
     ]
    },
    {
     "name": "stdout",
     "output_type": "stream",
     "text": [
      "The Generation of LLPs is Completed\n"
     ]
    },
    {
     "name": "stderr",
     "output_type": "stream",
     "text": [
      "100%|██████████| 2850/2850 [32:51:30<00:00, 41.51s/it]\n"
     ]
    },
    {
     "name": "stdout",
     "output_type": "stream",
     "text": [
      "The Generation of LLPs is Completed\n"
     ]
    },
    {
     "name": "stderr",
     "output_type": "stream",
     "text": [
      "100%|██████████| 2850/2850 [32:54:24<00:00, 41.57s/it]\n"
     ]
    },
    {
     "name": "stdout",
     "output_type": "stream",
     "text": [
      "The Generation of LLPs is Completed\n"
     ]
    },
    {
     "name": "stderr",
     "output_type": "stream",
     "text": [
      "100%|██████████| 2850/2850 [32:56:18<00:00, 41.61s/it]\n"
     ]
    },
    {
     "name": "stdout",
     "output_type": "stream",
     "text": [
      "The Generation of LLPs is Completed\n"
     ]
    },
    {
     "name": "stderr",
     "output_type": "stream",
     "text": [
      "  8%|▊         | 906/11607 [10:56<3:22:06,  1.13s/it]"
     ]
    },
    {
     "name": "stdout",
     "output_type": "stream",
     "text": [
      "Error with file: /media/ubuntu/6156e08b-fdb1-4cde-964e-431f74a6078e/Files/LLP_DATA/Original_DATA/2025-04-19/LLP_data/mass_2.50e-01_ctau_4.88e+06_br_1.00e+00_seed_612428.csvError with file: /media/ubuntu/6156e08b-fdb1-4cde-964e-431f74a6078e/Files/LLP_DATA/Original_DATA/2025-04-19/LLP_data/mass_2.50e-01_ctau_4.88e+06_br_1.00e+00_seed_612428.csv\n",
      "\n",
      "Error message: No columns to parse from fileError message: No columns to parse from file\n",
      "\n"
     ]
    },
    {
     "name": "stderr",
     "output_type": "stream",
     "text": [
      "  8%|▊         | 906/11616 [14:49<2:37:03,  1.14it/s]]"
     ]
    },
    {
     "name": "stdout",
     "output_type": "stream",
     "text": [
      "Error with file: /media/ubuntu/6156e08b-fdb1-4cde-964e-431f74a6078e/Files/LLP_DATA/Original_DATA/2025-04-19/LLP_data/mass_2.50e-01_ctau_4.88e+06_br_1.00e+00_seed_612428.csv\n",
      "Error message: No columns to parse from file\n"
     ]
    },
    {
     "name": "stderr",
     "output_type": "stream",
     "text": [
      "  8%|▊         | 906/11618 [15:22<2:58:31,  1.00it/s]]"
     ]
    },
    {
     "name": "stdout",
     "output_type": "stream",
     "text": [
      "Error with file: /media/ubuntu/6156e08b-fdb1-4cde-964e-431f74a6078e/Files/LLP_DATA/Original_DATA/2025-04-19/LLP_data/mass_2.50e-01_ctau_4.88e+06_br_1.00e+00_seed_612428.csv\n",
      "Error message: No columns to parse from file\n"
     ]
    },
    {
     "name": "stderr",
     "output_type": "stream",
     "text": [
      " 14%|█▍        | 1666/11607 [24:15<3:19:09,  1.20s/it]"
     ]
    },
    {
     "name": "stdout",
     "output_type": "stream",
     "text": [
      "Error with file: /media/ubuntu/6156e08b-fdb1-4cde-964e-431f74a6078e/Files/LLP_DATA/Original_DATA/2025-04-19/LLP_data/mass_1.41e+00_ctau_1.16e+04_br_1.00e+00_seed_712409.csvError with file: /media/ubuntu/6156e08b-fdb1-4cde-964e-431f74a6078e/Files/LLP_DATA/Original_DATA/2025-04-19/LLP_data/mass_1.41e+00_ctau_1.16e+04_br_1.00e+00_seed_712409.csv\n",
      "\n",
      "Error message: No columns to parse from fileError message: No columns to parse from file\n",
      "\n"
     ]
    },
    {
     "name": "stderr",
     "output_type": "stream",
     "text": [
      " 10%|█         | 1172/11618 [19:44<2:51:11,  1.02it/s]"
     ]
    },
    {
     "name": "stdout",
     "output_type": "stream",
     "text": [
      "Error with file: /media/ubuntu/6156e08b-fdb1-4cde-964e-431f74a6078e/Files/LLP_DATA/Original_DATA/2025-04-19/LLP_data/mass_5.00e-01_ctau_4.96e+04_br_1.00e+00_seed_890700.csv\n",
      "Error message: No columns to parse from file\n"
     ]
    },
    {
     "name": "stderr",
     "output_type": "stream",
     "text": [
      " 15%|█▍        | 1695/11607 [24:43<3:01:09,  1.10s/it]"
     ]
    },
    {
     "name": "stdout",
     "output_type": "stream",
     "text": [
      "Error with file: /media/ubuntu/6156e08b-fdb1-4cde-964e-431f74a6078e/Files/LLP_DATA/Original_DATA/2025-04-19/LLP_data/mass_5.00e-01_ctau_4.96e+04_br_1.00e+00_seed_890700.csv\n",
      "Error message: No columns to parse from file\n"
     ]
    },
    {
     "name": "stderr",
     "output_type": "stream",
     "text": [
      " 14%|█▍        | 1666/11616 [28:57<3:55:27,  1.42s/it]"
     ]
    },
    {
     "name": "stdout",
     "output_type": "stream",
     "text": [
      "Error with file: /media/ubuntu/6156e08b-fdb1-4cde-964e-431f74a6078e/Files/LLP_DATA/Original_DATA/2025-04-19/LLP_data/mass_1.41e+00_ctau_1.16e+04_br_1.00e+00_seed_712409.csv\n",
      "Error message: No columns to parse from file\n"
     ]
    },
    {
     "name": "stderr",
     "output_type": "stream",
     "text": [
      " 15%|█▍        | 1695/11616 [29:34<4:43:28,  1.71s/it]"
     ]
    },
    {
     "name": "stdout",
     "output_type": "stream",
     "text": [
      "Error with file: /media/ubuntu/6156e08b-fdb1-4cde-964e-431f74a6078e/Files/LLP_DATA/Original_DATA/2025-04-19/LLP_data/mass_5.00e-01_ctau_4.96e+04_br_1.00e+00_seed_890700.csv\n",
      "Error message: No columns to parse from file\n"
     ]
    },
    {
     "name": "stderr",
     "output_type": "stream",
     "text": [
      " 14%|█▍        | 1666/11618 [29:31<3:03:03,  1.10s/it]"
     ]
    },
    {
     "name": "stdout",
     "output_type": "stream",
     "text": [
      "Error with file: /media/ubuntu/6156e08b-fdb1-4cde-964e-431f74a6078e/Files/LLP_DATA/Original_DATA/2025-04-19/LLP_data/mass_1.41e+00_ctau_1.16e+04_br_1.00e+00_seed_712409.csv\n",
      "Error message: No columns to parse from file\n"
     ]
    },
    {
     "name": "stderr",
     "output_type": "stream",
     "text": [
      " 16%|█▌        | 1818/11616 [31:54<3:25:10,  1.26s/it]"
     ]
    },
    {
     "name": "stdout",
     "output_type": "stream",
     "text": [
      "Error with file: /media/ubuntu/6156e08b-fdb1-4cde-964e-431f74a6078e/Files/LLP_DATA/Original_DATA/2025-04-19/LLP_data/mass_5.00e-01_ctau_4.96e+04_br_1.00e+00_seed_890700.csv\n",
      "Error message: No columns to parse from file\n"
     ]
    },
    {
     "name": "stderr",
     "output_type": "stream",
     "text": [
      " 32%|███▏      | 3676/11607 [1:16:53<2:51:06,  1.29s/it] "
     ]
    },
    {
     "name": "stdout",
     "output_type": "stream",
     "text": [
      "Error with file: /media/ubuntu/6156e08b-fdb1-4cde-964e-431f74a6078e/Files/LLP_DATA/Original_DATA/2025-04-19/LLP_data/mass_2.00e+00_ctau_1.38e+04_br_1.00e+00_seed_392359.csvError with file: /media/ubuntu/6156e08b-fdb1-4cde-964e-431f74a6078e/Files/LLP_DATA/Original_DATA/2025-04-19/LLP_data/mass_2.00e+00_ctau_1.38e+04_br_1.00e+00_seed_392359.csv\n",
      "Error message: No columns to parse from file\n",
      "\n",
      "Error message: No columns to parse from file\n"
     ]
    },
    {
     "name": "stderr",
     "output_type": "stream",
     "text": [
      " 33%|███▎      | 3874/11608 [1:23:56<2:28:54,  1.16s/it] "
     ]
    },
    {
     "name": "stdout",
     "output_type": "stream",
     "text": [
      "Error with file: /media/ubuntu/6156e08b-fdb1-4cde-964e-431f74a6078e/Files/LLP_DATA/Original_DATA/2025-04-19/LLP_data/mass_5.00e-01_ctau_5.20e+04_br_1.00e+00_seed_679069.csv"
     ]
    },
    {
     "name": "stderr",
     "output_type": "stream",
     "text": [
      " 33%|███▎      | 3873/11607 [1:24:07<2:28:15,  1.15s/it]"
     ]
    },
    {
     "name": "stdout",
     "output_type": "stream",
     "text": [
      "\n",
      "Error message: No columns to parse from file\n",
      "Error with file: /media/ubuntu/6156e08b-fdb1-4cde-964e-431f74a6078e/Files/LLP_DATA/Original_DATA/2025-04-19/LLP_data/mass_5.00e-01_ctau_5.20e+04_br_1.00e+00_seed_679069.csv\n",
      "Error message: No columns to parse from file\n"
     ]
    },
    {
     "name": "stderr",
     "output_type": "stream",
     "text": [
      " 32%|███▏      | 3678/11616 [1:26:31<5:05:08,  2.31s/it] "
     ]
    },
    {
     "name": "stdout",
     "output_type": "stream",
     "text": [
      "Error with file: /media/ubuntu/6156e08b-fdb1-4cde-964e-431f74a6078e/Files/LLP_DATA/Original_DATA/2025-04-19/LLP_data/mass_2.00e+00_ctau_1.38e+04_br_1.00e+00_seed_392359.csv\n",
      "Error message: No columns to parse from file\n"
     ]
    },
    {
     "name": "stderr",
     "output_type": "stream",
     "text": [
      " 32%|███▏      | 3678/11618 [1:28:01<2:44:57,  1.25s/it]"
     ]
    },
    {
     "name": "stdout",
     "output_type": "stream",
     "text": [
      "Error with file: /media/ubuntu/6156e08b-fdb1-4cde-964e-431f74a6078e/Files/LLP_DATA/Original_DATA/2025-04-19/LLP_data/mass_2.00e+00_ctau_1.38e+04_br_1.00e+00_seed_392359.csv\n",
      "Error message: No columns to parse from file\n"
     ]
    },
    {
     "name": "stderr",
     "output_type": "stream",
     "text": [
      " 36%|███▌      | 4173/11607 [1:33:35<3:49:55,  1.86s/it]"
     ]
    },
    {
     "name": "stdout",
     "output_type": "stream",
     "text": [
      "Error with file: /media/ubuntu/6156e08b-fdb1-4cde-964e-431f74a6078e/Files/LLP_DATA/Original_DATA/2025-04-19/LLP_data/mass_1.25e-01_ctau_5.56e+10_br_1.00e+00_seed_769563.csvError with file: /media/ubuntu/6156e08b-fdb1-4cde-964e-431f74a6078e/Files/LLP_DATA/Original_DATA/2025-04-19/LLP_data/mass_1.25e-01_ctau_5.56e+10_br_1.00e+00_seed_769563.csv\n",
      "\n",
      "Error message: No columns to parse from fileError message: No columns to parse from file\n",
      "\n"
     ]
    },
    {
     "name": "stderr",
     "output_type": "stream",
     "text": [
      " 32%|███▏      | 3769/11618 [1:31:01<3:24:47,  1.57s/it]"
     ]
    },
    {
     "name": "stdout",
     "output_type": "stream",
     "text": [
      "Error with file: /media/ubuntu/6156e08b-fdb1-4cde-964e-431f74a6078e/Files/LLP_DATA/Original_DATA/2025-04-19/LLP_data/mass_5.00e-01_ctau_5.20e+04_br_1.00e+00_seed_679069.csv\n",
      "Error message: No columns to parse from file\n"
     ]
    },
    {
     "name": "stderr",
     "output_type": "stream",
     "text": [
      " 33%|███▎      | 3876/11618 [1:34:31<2:22:18,  1.10s/it] "
     ]
    },
    {
     "name": "stdout",
     "output_type": "stream",
     "text": [
      "Error with file: /media/ubuntu/6156e08b-fdb1-4cde-964e-431f74a6078e/Files/LLP_DATA/Original_DATA/2025-04-19/LLP_data/mass_5.00e-01_ctau_5.20e+04_br_1.00e+00_seed_679069.csv\n",
      "Error message: No columns to parse from file\n"
     ]
    },
    {
     "name": "stderr",
     "output_type": "stream",
     "text": [
      " 36%|███▌      | 4176/11616 [1:40:03<1:49:36,  1.13it/s]"
     ]
    },
    {
     "name": "stdout",
     "output_type": "stream",
     "text": [
      "Error with file: /media/ubuntu/6156e08b-fdb1-4cde-964e-431f74a6078e/Files/LLP_DATA/Original_DATA/2025-04-19/LLP_data/mass_1.25e-01_ctau_5.56e+10_br_1.00e+00_seed_769563.csv\n",
      "Error message: No columns to parse from file\n"
     ]
    },
    {
     "name": "stderr",
     "output_type": "stream",
     "text": [
      " 37%|███▋      | 4270/11616 [1:41:59<1:46:02,  1.15it/s]"
     ]
    },
    {
     "name": "stdout",
     "output_type": "stream",
     "text": [
      "Error with file: /media/ubuntu/6156e08b-fdb1-4cde-964e-431f74a6078e/Files/LLP_DATA/Original_DATA/2025-04-19/LLP_data/mass_1.25e-01_ctau_5.56e+10_br_1.00e+00_seed_769563.csv\n",
      "Error message: No columns to parse from file\n"
     ]
    },
    {
     "name": "stderr",
     "output_type": "stream",
     "text": [
      " 54%|█████▍    | 6252/11608 [2:28:55<1:58:27,  1.33s/it] "
     ]
    },
    {
     "name": "stdout",
     "output_type": "stream",
     "text": [
      "Error with file: /media/ubuntu/6156e08b-fdb1-4cde-964e-431f74a6078e/Files/LLP_DATA/Original_DATA/2025-04-19/LLP_data/mass_3.54e-01_ctau_1.60e+05_br_1.00e+00_seed_287843.csvError with file: /media/ubuntu/6156e08b-fdb1-4cde-964e-431f74a6078e/Files/LLP_DATA/Original_DATA/2025-04-19/LLP_data/mass_3.54e-01_ctau_1.60e+05_br_1.00e+00_seed_287843.csv\n",
      "Error message: No columns to parse from file\n",
      "\n",
      "Error message: No columns to parse from file\n"
     ]
    },
    {
     "name": "stderr",
     "output_type": "stream",
     "text": [
      " 54%|█████▍    | 6254/11616 [2:32:03<1:33:58,  1.05s/it]"
     ]
    },
    {
     "name": "stdout",
     "output_type": "stream",
     "text": [
      "Error with file: /media/ubuntu/6156e08b-fdb1-4cde-964e-431f74a6078e/Files/LLP_DATA/Original_DATA/2025-04-19/LLP_data/mass_3.54e-01_ctau_1.60e+05_br_1.00e+00_seed_287843.csv\n",
      "Error message: No columns to parse from file\n"
     ]
    },
    {
     "name": "stderr",
     "output_type": "stream",
     "text": [
      " 54%|█████▍    | 6256/11618 [2:31:24<1:38:08,  1.10s/it]"
     ]
    },
    {
     "name": "stdout",
     "output_type": "stream",
     "text": [
      "Error with file: /media/ubuntu/6156e08b-fdb1-4cde-964e-431f74a6078e/Files/LLP_DATA/Original_DATA/2025-04-19/LLP_data/mass_3.54e-01_ctau_1.60e+05_br_1.00e+00_seed_287843.csv\n",
      "Error message: No columns to parse from file\n"
     ]
    },
    {
     "name": "stderr",
     "output_type": "stream",
     "text": [
      " 66%|██████▌   | 7680/11607 [3:03:00<59:59,  1.09it/s]  "
     ]
    },
    {
     "name": "stdout",
     "output_type": "stream",
     "text": [
      "Error with file: /media/ubuntu/6156e08b-fdb1-4cde-964e-431f74a6078e/Files/LLP_DATA/Original_DATA/2025-04-19/LLP_data/mass_2.83e+00_ctau_6.01e+03_br_1.00e+00_seed_743171.csvError with file: /media/ubuntu/6156e08b-fdb1-4cde-964e-431f74a6078e/Files/LLP_DATA/Original_DATA/2025-04-19/LLP_data/mass_2.83e+00_ctau_6.01e+03_br_1.00e+00_seed_743171.csv\n",
      "\n",
      "Error message: No columns to parse from fileError message: No columns to parse from file\n",
      "\n"
     ]
    },
    {
     "name": "stderr",
     "output_type": "stream",
     "text": [
      " 67%|██████▋   | 7830/11607 [3:06:22<1:08:01,  1.08s/it]"
     ]
    },
    {
     "name": "stdout",
     "output_type": "stream",
     "text": [
      "Error with file: /media/ubuntu/6156e08b-fdb1-4cde-964e-431f74a6078e/Files/LLP_DATA/Original_DATA/2025-04-19/LLP_data/mass_2.00e+00_ctau_1.51e+04_br_1.00e+00_seed_432119.csv\n",
      "Error message: 'decay_pos_x'\n"
     ]
    },
    {
     "name": "stderr",
     "output_type": "stream",
     "text": [
      " 67%|██████▋   | 7831/11608 [3:06:12<1:15:50,  1.20s/it]"
     ]
    },
    {
     "name": "stdout",
     "output_type": "stream",
     "text": [
      "Error with file: /media/ubuntu/6156e08b-fdb1-4cde-964e-431f74a6078e/Files/LLP_DATA/Original_DATA/2025-04-19/LLP_data/mass_2.00e+00_ctau_1.51e+04_br_1.00e+00_seed_432119.csv\n",
      "Error message: 'decay_pos_x'\n"
     ]
    },
    {
     "name": "stderr",
     "output_type": "stream",
     "text": [
      " 68%|██████▊   | 7944/11607 [3:08:55<2:12:43,  2.17s/it]"
     ]
    },
    {
     "name": "stdout",
     "output_type": "stream",
     "text": [
      "Error with file: /media/ubuntu/6156e08b-fdb1-4cde-964e-431f74a6078e/Files/LLP_DATA/Original_DATA/2025-04-19/LLP_data/mass_2.83e+00_ctau_6.01e+03_br_1.00e+00_seed_743171.csv\n",
      "Error message: No columns to parse from file\n"
     ]
    },
    {
     "name": "stderr",
     "output_type": "stream",
     "text": [
      " 68%|██████▊   | 7945/11608 [3:08:45<2:12:59,  2.18s/it]"
     ]
    },
    {
     "name": "stdout",
     "output_type": "stream",
     "text": [
      "Error with file: /media/ubuntu/6156e08b-fdb1-4cde-964e-431f74a6078e/Files/LLP_DATA/Original_DATA/2025-04-19/LLP_data/mass_2.83e+00_ctau_6.01e+03_br_1.00e+00_seed_743171.csv\n",
      "Error message: No columns to parse from file\n"
     ]
    },
    {
     "name": "stderr",
     "output_type": "stream",
     "text": [
      " 67%|██████▋   | 7836/11618 [3:07:01<1:09:46,  1.11s/it]"
     ]
    },
    {
     "name": "stdout",
     "output_type": "stream",
     "text": [
      "Error with file: /media/ubuntu/6156e08b-fdb1-4cde-964e-431f74a6078e/Files/LLP_DATA/Original_DATA/2025-04-19/LLP_data/mass_2.00e+00_ctau_1.51e+04_br_1.00e+00_seed_432119.csv\n",
      "Error message: 'decay_pos_x'\n",
      "Error with file: /media/ubuntu/6156e08b-fdb1-4cde-964e-431f74a6078e/Files/LLP_DATA/Original_DATA/2025-04-19/LLP_data/mass_2.00e+00_ctau_1.51e+04_br_1.00e+00_seed_432119.csv\n",
      "Error message: 'decay_pos_x'\n"
     ]
    },
    {
     "name": "stderr",
     "output_type": "stream",
     "text": [
      " 70%|███████   | 8148/11607 [3:13:21<1:28:08,  1.53s/it]"
     ]
    },
    {
     "name": "stdout",
     "output_type": "stream",
     "text": [
      "Error with file: /media/ubuntu/6156e08b-fdb1-4cde-964e-431f74a6078e/Files/LLP_DATA/Original_DATA/2025-04-19/LLP_data/mass_1.25e-01_ctau_5.07e+10_br_1.00e+00_seed_38564.csvError with file: /media/ubuntu/6156e08b-fdb1-4cde-964e-431f74a6078e/Files/LLP_DATA/Original_DATA/2025-04-19/LLP_data/mass_1.25e-01_ctau_5.07e+10_br_1.00e+00_seed_38564.csv\n",
      "\n",
      "Error message: No columns to parse from fileError message: No columns to parse from file\n",
      "\n"
     ]
    },
    {
     "name": "stderr",
     "output_type": "stream",
     "text": [
      " 70%|███████   | 8153/11616 [3:16:20<1:08:34,  1.19s/it]"
     ]
    },
    {
     "name": "stdout",
     "output_type": "stream",
     "text": [
      "Error with file: /media/ubuntu/6156e08b-fdb1-4cde-964e-431f74a6078e/Files/LLP_DATA/Original_DATA/2025-04-19/LLP_data/mass_1.25e-01_ctau_5.07e+10_br_1.00e+00_seed_38564.csv\n",
      "Error message: No columns to parse from file\n",
      "Error with file: /media/ubuntu/6156e08b-fdb1-4cde-964e-431f74a6078e/Files/LLP_DATA/Original_DATA/2025-04-19/LLP_data/mass_1.25e-01_ctau_5.07e+10_br_1.00e+00_seed_38564.csv\n",
      "Error message: No columns to parse from file\n"
     ]
    },
    {
     "name": "stderr",
     "output_type": "stream",
     "text": [
      " 72%|███████▏  | 8408/11608 [3:19:23<1:30:43,  1.70s/it]"
     ]
    },
    {
     "name": "stdout",
     "output_type": "stream",
     "text": [
      "Error with file: /media/ubuntu/6156e08b-fdb1-4cde-964e-431f74a6078e/Files/LLP_DATA/Original_DATA/2025-04-19/LLP_data/mass_7.07e-01_ctau_2.28e+04_br_1.00e+00_seed_849632.csvError with file: /media/ubuntu/6156e08b-fdb1-4cde-964e-431f74a6078e/Files/LLP_DATA/Original_DATA/2025-04-19/LLP_data/mass_7.07e-01_ctau_2.28e+04_br_1.00e+00_seed_849632.csv\n",
      "\n",
      "Error message: No columns to parse from fileError message: No columns to parse from file\n",
      "\n"
     ]
    },
    {
     "name": "stderr",
     "output_type": "stream",
     "text": [
      " 72%|███████▏  | 8414/11618 [3:20:28<44:25,  1.20it/s]  "
     ]
    },
    {
     "name": "stdout",
     "output_type": "stream",
     "text": [
      "Error with file: /media/ubuntu/6156e08b-fdb1-4cde-964e-431f74a6078e/Files/LLP_DATA/Original_DATA/2025-04-19/LLP_data/mass_7.07e-01_ctau_2.28e+04_br_1.00e+00_seed_849632.csv\n",
      "Error message: No columns to parse from file\n"
     ]
    },
    {
     "name": "stderr",
     "output_type": "stream",
     "text": [
      " 72%|███████▏  | 8412/11616 [3:22:21<44:26,  1.20it/s]"
     ]
    },
    {
     "name": "stdout",
     "output_type": "stream",
     "text": [
      "Error with file: /media/ubuntu/6156e08b-fdb1-4cde-964e-431f74a6078e/Files/LLP_DATA/Original_DATA/2025-04-19/LLP_data/mass_7.07e-01_ctau_2.28e+04_br_1.00e+00_seed_849632.csv\n",
      "Error message: No columns to parse from file\n"
     ]
    },
    {
     "name": "stderr",
     "output_type": "stream",
     "text": [
      " 84%|████████▍ | 9757/11607 [3:51:28<57:26,  1.86s/it]  "
     ]
    },
    {
     "name": "stdout",
     "output_type": "stream",
     "text": [
      "Error with file: /media/ubuntu/6156e08b-fdb1-4cde-964e-431f74a6078e/Files/LLP_DATA/Original_DATA/2025-04-19/LLP_data/mass_2.50e-01_ctau_4.66e+06_br_1.00e+00_seed_440362.csv\n",
      "Error message: No columns to parse from file\n"
     ]
    },
    {
     "name": "stderr",
     "output_type": "stream",
     "text": [
      " 84%|████████▍ | 9758/11608 [3:51:17<57:32,  1.87s/it]"
     ]
    },
    {
     "name": "stdout",
     "output_type": "stream",
     "text": [
      "Error with file: /media/ubuntu/6156e08b-fdb1-4cde-964e-431f74a6078e/Files/LLP_DATA/Original_DATA/2025-04-19/LLP_data/mass_2.50e-01_ctau_4.66e+06_br_1.00e+00_seed_440362.csv\n",
      "Error message: No columns to parse from file\n"
     ]
    },
    {
     "name": "stderr",
     "output_type": "stream",
     "text": [
      " 84%|████████▍ | 9765/11618 [3:51:07<30:25,  1.01it/s]  "
     ]
    },
    {
     "name": "stdout",
     "output_type": "stream",
     "text": [
      "Error with file: /media/ubuntu/6156e08b-fdb1-4cde-964e-431f74a6078e/Files/LLP_DATA/Original_DATA/2025-04-19/LLP_data/mass_2.50e-01_ctau_4.66e+06_br_1.00e+00_seed_440362.csv\n",
      "Error message: No columns to parse from file\n"
     ]
    },
    {
     "name": "stderr",
     "output_type": "stream",
     "text": [
      " 84%|████████▍ | 9763/11616 [3:53:00<30:38,  1.01it/s]"
     ]
    },
    {
     "name": "stdout",
     "output_type": "stream",
     "text": [
      "Error with file: /media/ubuntu/6156e08b-fdb1-4cde-964e-431f74a6078e/Files/LLP_DATA/Original_DATA/2025-04-19/LLP_data/mass_2.50e-01_ctau_4.66e+06_br_1.00e+00_seed_440362.csv\n",
      "Error message: No columns to parse from file\n"
     ]
    },
    {
     "name": "stderr",
     "output_type": "stream",
     "text": [
      " 91%|█████████ | 10520/11607 [4:11:01<20:43,  1.14s/it]  "
     ]
    },
    {
     "name": "stdout",
     "output_type": "stream",
     "text": [
      "Error with file: /media/ubuntu/6156e08b-fdb1-4cde-964e-431f74a6078e/Files/LLP_DATA/Original_DATA/2025-04-19/LLP_data/mass_5.00e-01_ctau_5.20e+04_br_1.00e+00_seed_202280.csvError with file: /media/ubuntu/6156e08b-fdb1-4cde-964e-431f74a6078e/Files/LLP_DATA/Original_DATA/2025-04-19/LLP_data/mass_5.00e-01_ctau_5.20e+04_br_1.00e+00_seed_202280.csv\n",
      "\n",
      "Error message: No columns to parse from fileError message: No columns to parse from file\n",
      "\n"
     ]
    },
    {
     "name": "stderr",
     "output_type": "stream",
     "text": [
      " 91%|█████████▏| 10613/11607 [4:13:20<20:25,  1.23s/it]  "
     ]
    },
    {
     "name": "stdout",
     "output_type": "stream",
     "text": [
      "Error with file: /media/ubuntu/6156e08b-fdb1-4cde-964e-431f74a6078e/Files/LLP_DATA/Original_DATA/2025-04-19/LLP_data/mass_2.83e+00_ctau_6.01e+03_br_1.00e+00_seed_313640.csvError with file: /media/ubuntu/6156e08b-fdb1-4cde-964e-431f74a6078e/Files/LLP_DATA/Original_DATA/2025-04-19/LLP_data/mass_2.83e+00_ctau_6.01e+03_br_1.00e+00_seed_313640.csv\n",
      "\n",
      "Error message: No columns to parse from file\n",
      "Error message: No columns to parse from file\n"
     ]
    },
    {
     "name": "stderr",
     "output_type": "stream",
     "text": [
      " 91%|█████████ | 10527/11616 [4:11:57<17:21,  1.05it/s]  "
     ]
    },
    {
     "name": "stdout",
     "output_type": "stream",
     "text": [
      "Error with file: /media/ubuntu/6156e08b-fdb1-4cde-964e-431f74a6078e/Files/LLP_DATA/Original_DATA/2025-04-19/LLP_data/mass_5.00e-01_ctau_5.20e+04_br_1.00e+00_seed_202280.csv\n",
      "Error message: No columns to parse from file\n"
     ]
    },
    {
     "name": "stderr",
     "output_type": "stream",
     "text": [
      " 91%|█████████ | 10529/11618 [4:10:04<17:31,  1.04it/s]"
     ]
    },
    {
     "name": "stdout",
     "output_type": "stream",
     "text": [
      "Error with file: /media/ubuntu/6156e08b-fdb1-4cde-964e-431f74a6078e/Files/LLP_DATA/Original_DATA/2025-04-19/LLP_data/mass_5.00e-01_ctau_5.20e+04_br_1.00e+00_seed_202280.csv\n",
      "Error message: No columns to parse from file\n"
     ]
    },
    {
     "name": "stderr",
     "output_type": "stream",
     "text": [
      " 92%|█████████▏| 10691/11607 [4:15:05<12:57,  1.18it/s]"
     ]
    },
    {
     "name": "stdout",
     "output_type": "stream",
     "text": [
      "Error with file: /media/ubuntu/6156e08b-fdb1-4cde-964e-431f74a6078e/Files/LLP_DATA/Original_DATA/2025-04-19/LLP_data/mass_1.41e+00_ctau_1.10e+04_br_1.00e+00_seed_971904.csvError with file: /media/ubuntu/6156e08b-fdb1-4cde-964e-431f74a6078e/Files/LLP_DATA/Original_DATA/2025-04-19/LLP_data/mass_1.41e+00_ctau_1.10e+04_br_1.00e+00_seed_971904.csv\n",
      "\n",
      "Error message: No columns to parse from file\n",
      "Error message: No columns to parse from file\n"
     ]
    },
    {
     "name": "stderr",
     "output_type": "stream",
     "text": [
      " 91%|█████████▏| 10622/11618 [4:12:15<43:14,  2.60s/it]"
     ]
    },
    {
     "name": "stdout",
     "output_type": "stream",
     "text": [
      "Error with file: /media/ubuntu/6156e08b-fdb1-4cde-964e-431f74a6078e/Files/LLP_DATA/Original_DATA/2025-04-19/LLP_data/mass_2.83e+00_ctau_6.01e+03_br_1.00e+00_seed_313640.csv\n",
      "Error message: No columns to parse from file\n"
     ]
    },
    {
     "name": "stderr",
     "output_type": "stream",
     "text": [
      " 91%|█████████▏| 10620/11616 [4:14:08<43:19,  2.61s/it]"
     ]
    },
    {
     "name": "stdout",
     "output_type": "stream",
     "text": [
      "Error with file: /media/ubuntu/6156e08b-fdb1-4cde-964e-431f74a6078e/Files/LLP_DATA/Original_DATA/2025-04-19/LLP_data/mass_2.83e+00_ctau_6.01e+03_br_1.00e+00_seed_313640.csv\n",
      "Error message: No columns to parse from file\n"
     ]
    },
    {
     "name": "stderr",
     "output_type": "stream",
     "text": [
      " 92%|█████████▏| 10698/11616 [4:15:57<29:55,  1.96s/it]  "
     ]
    },
    {
     "name": "stdout",
     "output_type": "stream",
     "text": [
      "Error with file: /media/ubuntu/6156e08b-fdb1-4cde-964e-431f74a6078e/Files/LLP_DATA/Original_DATA/2025-04-19/LLP_data/mass_1.41e+00_ctau_1.10e+04_br_1.00e+00_seed_971904.csv\n",
      "Error message: No columns to parse from file\n"
     ]
    },
    {
     "name": "stderr",
     "output_type": "stream",
     "text": [
      " 92%|█████████▏| 10700/11618 [4:14:03<30:01,  1.96s/it]"
     ]
    },
    {
     "name": "stdout",
     "output_type": "stream",
     "text": [
      "Error with file: /media/ubuntu/6156e08b-fdb1-4cde-964e-431f74a6078e/Files/LLP_DATA/Original_DATA/2025-04-19/LLP_data/mass_1.41e+00_ctau_1.10e+04_br_1.00e+00_seed_971904.csv\n",
      "Error message: No columns to parse from file\n"
     ]
    },
    {
     "name": "stderr",
     "output_type": "stream",
     "text": [
      " 94%|█████████▍| 10936/11607 [4:20:46<09:15,  1.21it/s]"
     ]
    },
    {
     "name": "stdout",
     "output_type": "stream",
     "text": [
      "Error with file: /media/ubuntu/6156e08b-fdb1-4cde-964e-431f74a6078e/Files/LLP_DATA/Original_DATA/2025-04-19/LLP_data/mass_1.00e+00_ctau_2.87e+03_br_1.00e+00_seed_26251.csvError with file: /media/ubuntu/6156e08b-fdb1-4cde-964e-431f74a6078e/Files/LLP_DATA/Original_DATA/2025-04-19/LLP_data/mass_1.00e+00_ctau_2.87e+03_br_1.00e+00_seed_26251.csv\n",
      "\n",
      "Error message: No columns to parse from file\n",
      "Error message: No columns to parse from file"
     ]
    },
    {
     "name": "stderr",
     "output_type": "stream",
     "text": [
      " 94%|█████████▍| 10937/11607 [4:20:46<06:56,  1.61it/s]"
     ]
    },
    {
     "name": "stdout",
     "output_type": "stream",
     "text": [
      "\n"
     ]
    },
    {
     "name": "stderr",
     "output_type": "stream",
     "text": [
      " 94%|█████████▍| 10946/11618 [4:19:52<24:22,  2.18s/it]"
     ]
    },
    {
     "name": "stdout",
     "output_type": "stream",
     "text": [
      "Error with file: /media/ubuntu/6156e08b-fdb1-4cde-964e-431f74a6078e/Files/LLP_DATA/Original_DATA/2025-04-19/LLP_data/mass_1.00e+00_ctau_2.87e+03_br_1.00e+00_seed_26251.csvError with file: /media/ubuntu/6156e08b-fdb1-4cde-964e-431f74a6078e/Files/LLP_DATA/Original_DATA/2025-04-19/LLP_data/mass_1.00e+00_ctau_2.87e+03_br_1.00e+00_seed_26251.csv\n",
      "Error message: No columns to parse from file\n",
      "\n",
      "Error message: No columns to parse from file\n"
     ]
    },
    {
     "name": "stderr",
     "output_type": "stream",
     "text": [
      " 96%|█████████▌| 11142/11607 [4:25:46<08:53,  1.15s/it]"
     ]
    },
    {
     "name": "stdout",
     "output_type": "stream",
     "text": [
      "Error with file: /media/ubuntu/6156e08b-fdb1-4cde-964e-431f74a6078e/Files/LLP_DATA/Original_DATA/2025-04-19/LLP_data/mass_1.00e+00_ctau_3.15e+03_br_1.00e+00_seed_224904.csvError with file: /media/ubuntu/6156e08b-fdb1-4cde-964e-431f74a6078e/Files/LLP_DATA/Original_DATA/2025-04-19/LLP_data/mass_1.00e+00_ctau_3.15e+03_br_1.00e+00_seed_224904.csv\n",
      "\n",
      "Error message: No columns to parse from fileError message: No columns to parse from file\n",
      "\n"
     ]
    },
    {
     "name": "stderr",
     "output_type": "stream",
     "text": [
      " 96%|█████████▌| 11150/11616 [4:26:27<07:40,  1.01it/s]"
     ]
    },
    {
     "name": "stdout",
     "output_type": "stream",
     "text": [
      "Error with file: /media/ubuntu/6156e08b-fdb1-4cde-964e-431f74a6078e/Files/LLP_DATA/Original_DATA/2025-04-19/LLP_data/mass_1.00e+00_ctau_3.15e+03_br_1.00e+00_seed_224904.csv\n",
      "Error message: No columns to parse from file\n"
     ]
    },
    {
     "name": "stderr",
     "output_type": "stream",
     "text": [
      " 96%|█████████▌| 11152/11618 [4:24:34<07:40,  1.01it/s]"
     ]
    },
    {
     "name": "stdout",
     "output_type": "stream",
     "text": [
      "Error with file: /media/ubuntu/6156e08b-fdb1-4cde-964e-431f74a6078e/Files/LLP_DATA/Original_DATA/2025-04-19/LLP_data/mass_1.00e+00_ctau_3.15e+03_br_1.00e+00_seed_224904.csv\n",
      "Error message: No columns to parse from file\n"
     ]
    },
    {
     "name": "stderr",
     "output_type": "stream",
     "text": [
      "100%|██████████| 11607/11607 [4:36:53<00:00,  1.43s/it]\n"
     ]
    },
    {
     "name": "stdout",
     "output_type": "stream",
     "text": [
      "The LLPs are Judged whether they are Detected or not, and calculated the cross section\n"
     ]
    },
    {
     "name": "stderr",
     "output_type": "stream",
     "text": [
      "100%|██████████| 11608/11608 [4:36:43<00:00,  1.43s/it]\n"
     ]
    },
    {
     "name": "stdout",
     "output_type": "stream",
     "text": [
      "The LLPs are Judged whether they are Detected or not, and calculated the cross section\n"
     ]
    },
    {
     "name": "stderr",
     "output_type": "stream",
     "text": [
      "100%|██████████| 11616/11616 [4:36:33<00:00,  1.43s/it]\n"
     ]
    },
    {
     "name": "stdout",
     "output_type": "stream",
     "text": [
      "The LLPs are Judged whether they are Detected or not, and calculated the cross section"
     ]
    },
    {
     "name": "stderr",
     "output_type": "stream",
     "text": [
      "100%|██████████| 11618/11618 [4:34:40<00:00,  1.24s/it]"
     ]
    },
    {
     "name": "stdout",
     "output_type": "stream",
     "text": [
      "\n"
     ]
    },
    {
     "name": "stderr",
     "output_type": "stream",
     "text": [
      "100%|██████████| 11618/11618 [4:34:40<00:00,  1.42s/it]\n"
     ]
    },
    {
     "name": "stdout",
     "output_type": "stream",
     "text": [
      "The LLPs are Judged whether they are Detected or not, and calculated the cross section\n"
     ]
    },
    {
     "name": "stderr",
     "output_type": "stream",
     "text": [
      "100%|██████████| 11601/11601 [59:46<00:00,  3.23it/s] \n",
      "100%|██████████| 11601/11601 [59:46<00:00,  3.23it/s]\n",
      " 96%|█████████▋| 11173/11601 [56:58<01:37,  4.40it/s]"
     ]
    },
    {
     "name": "stdout",
     "output_type": "stream",
     "text": [
      "The Final Step is Over, See the .csv files for LLPs Completed DataThe Final Step is Over, See the .csv files for LLPs Completed Data\n",
      "\n"
     ]
    },
    {
     "name": "stderr",
     "output_type": "stream",
     "text": [
      "100%|██████████| 11601/11601 [58:13<00:00,  3.32it/s]\n",
      "100%|██████████| 11601/11601 [58:13<00:00,  3.32it/s]\n"
     ]
    },
    {
     "name": "stdout",
     "output_type": "stream",
     "text": [
      "The Final Step is Over, See the .csv files for LLPs Completed Data\n",
      "The Final Step is Over, See the .csv files for LLPs Completed Data\n",
      "All tasks completed: [('/media/ubuntu/6156e08b-fdb1-4cde-964e-431f74a6078e/Files/LLP_DATA/Original_DATA/2025-04-19/LLP_data', '/media/ubuntu/6156e08b-fdb1-4cde-964e-431f74a6078e/Files/LLP_DATA/Original_DATA/2025-04-19/Completed_llp_data_precise_cross_section', ('/media/ubuntu/6156e08b-fdb1-4cde-964e-431f74a6078e/Files/LLP_DATA/Original_DATA/2025-04-19/2025-04-20_all_combined_precise_file.csv', '/media/ubuntu/6156e08b-fdb1-4cde-964e-431f74a6078e/Files/LLP_DATA/Original_DATA/2025-04-19/2025-04-20_detected_combined_precise_file.csv')), ('/media/ubuntu/6156e08b-fdb1-4cde-964e-431f74a6078e/Files/LLP_DATA/Original_DATA/2025-04-19/LLP_data', '/media/ubuntu/6156e08b-fdb1-4cde-964e-431f74a6078e/Files/LLP_DATA/Original_DATA/2025-04-19/Completed_llp_data_precise_cross_section', ('/media/ubuntu/6156e08b-fdb1-4cde-964e-431f74a6078e/Files/LLP_DATA/Original_DATA/2025-04-19/2025-04-20_all_combined_precise_file.csv', '/media/ubuntu/6156e08b-fdb1-4cde-964e-431f74a6078e/Files/LLP_DATA/Original_DATA/2025-04-19/2025-04-20_detected_combined_precise_file.csv')), ('/media/ubuntu/6156e08b-fdb1-4cde-964e-431f74a6078e/Files/LLP_DATA/Original_DATA/2025-04-19/LLP_data', '/media/ubuntu/6156e08b-fdb1-4cde-964e-431f74a6078e/Files/LLP_DATA/Original_DATA/2025-04-19/Completed_llp_data_precise_cross_section', ('/media/ubuntu/6156e08b-fdb1-4cde-964e-431f74a6078e/Files/LLP_DATA/Original_DATA/2025-04-19/2025-04-20_all_combined_precise_file.csv', '/media/ubuntu/6156e08b-fdb1-4cde-964e-431f74a6078e/Files/LLP_DATA/Original_DATA/2025-04-19/2025-04-20_detected_combined_precise_file.csv')), ('/media/ubuntu/6156e08b-fdb1-4cde-964e-431f74a6078e/Files/LLP_DATA/Original_DATA/2025-04-19/LLP_data', '/media/ubuntu/6156e08b-fdb1-4cde-964e-431f74a6078e/Files/LLP_DATA/Original_DATA/2025-04-19/Completed_llp_data_precise_cross_section', ('/media/ubuntu/6156e08b-fdb1-4cde-964e-431f74a6078e/Files/LLP_DATA/Original_DATA/2025-04-19/2025-04-20_all_combined_precise_file.csv', '/media/ubuntu/6156e08b-fdb1-4cde-964e-431f74a6078e/Files/LLP_DATA/Original_DATA/2025-04-19/2025-04-20_detected_combined_precise_file.csv'))]\n",
      "Running Simulation...\n"
     ]
    },
    {
     "name": "stderr",
     "output_type": "stream",
     "text": [
      " 11%|█         | 408/3800 [7:39:40<63:41:39, 67.60s/it]\n"
     ]
    },
    {
     "ename": "KeyboardInterrupt",
     "evalue": "",
     "output_type": "error",
     "traceback": [
      "\u001b[0;31m---------------------------------------------------------------------------\u001b[0m",
      "\u001b[0;31mKeyboardInterrupt\u001b[0m                         Traceback (most recent call last)",
      "Cell \u001b[0;32mIn[12], line 36\u001b[0m\n\u001b[1;32m     32\u001b[0m     \u001b[38;5;66;03m# 打印结果\u001b[39;00m\n\u001b[1;32m     33\u001b[0m     \u001b[38;5;28mprint\u001b[39m(\u001b[38;5;124m\"\u001b[39m\u001b[38;5;124mAll tasks completed:\u001b[39m\u001b[38;5;124m\"\u001b[39m, results)\n\u001b[0;32m---> 36\u001b[0m \u001b[43mrun_task\u001b[49m\u001b[43m(\u001b[49m\u001b[43m(\u001b[49m\u001b[43mcsv_file\u001b[49m\u001b[43m,\u001b[49m\u001b[43m \u001b[49m\u001b[38;5;241;43m1\u001b[39;49m\u001b[43m,\u001b[49m\u001b[43m \u001b[49m\u001b[38;5;241;43m1\u001b[39;49m\u001b[43m,\u001b[49m\u001b[43m \u001b[49m\u001b[43mout_path\u001b[49m\u001b[43m,\u001b[49m\u001b[43m \u001b[49m\u001b[43mmain131_path\u001b[49m\u001b[43m,\u001b[49m\u001b[43m \u001b[49m\u001b[43mtoday\u001b[49m\u001b[43m,\u001b[49m\u001b[43m \u001b[49m\u001b[38;5;241;43m0\u001b[39;49m\u001b[43m)\u001b[49m\u001b[43m)\u001b[49m\n",
      "Cell \u001b[0;32mIn[12], line 9\u001b[0m, in \u001b[0;36mrun_task\u001b[0;34m(args)\u001b[0m\n\u001b[1;32m      7\u001b[0m \u001b[38;5;28;01mdef\u001b[39;00m \u001b[38;5;21mrun_task\u001b[39m(args):\n\u001b[1;32m      8\u001b[0m     _csv_file, _param1, _param2, _out_path, _main131_path, _date, _sleep_time \u001b[38;5;241m=\u001b[39m args\n\u001b[0;32m----> 9\u001b[0m     \u001b[38;5;28;01mreturn\u001b[39;00m \u001b[43mokr\u001b[49m\u001b[38;5;241;43m.\u001b[39;49m\u001b[43mone_key_run_by_csv_cross_section_main131_lower_eff\u001b[49m\u001b[43m(\u001b[49m\u001b[43m_csv_file\u001b[49m\u001b[43m,\u001b[49m\u001b[43m \u001b[49m\u001b[43m_param1\u001b[49m\u001b[43m,\u001b[49m\u001b[43m \u001b[49m\u001b[43m_param2\u001b[49m\u001b[43m,\u001b[49m\u001b[43m \u001b[49m\u001b[43m_out_path\u001b[49m\u001b[43m,\u001b[49m\u001b[43m \u001b[49m\u001b[43m_main131_path\u001b[49m\u001b[43m,\u001b[49m\u001b[43m \u001b[49m\u001b[43m_date\u001b[49m\u001b[43m,\u001b[49m\u001b[43m \u001b[49m\u001b[43m_sleep_time\u001b[49m\u001b[43m)\u001b[49m\n",
      "File \u001b[0;32m/media/ubuntu/6156e08b-fdb1-4cde-964e-431f74a6078e/Program/PRA/Github/position_read_analyse_1.3/ALL_IN_ONE/Pythia8/one_key_run.py:204\u001b[0m, in \u001b[0;36mone_key_run_by_csv_cross_section_main131_lower_eff\u001b[0;34m(csv_file, br, seed_array, out_put_path, main131_path, today, sleep_time)\u001b[0m\n\u001b[1;32m    202\u001b[0m \u001b[38;5;28;01mdef\u001b[39;00m \u001b[38;5;21mone_key_run_by_csv_cross_section_main131_lower_eff\u001b[39m(csv_file, br, seed_array, out_put_path, main131_path, today, sleep_time \u001b[38;5;241m=\u001b[39m \u001b[38;5;241m10\u001b[39m): \n\u001b[1;32m    203\u001b[0m     \u001b[38;5;28mprint\u001b[39m(\u001b[38;5;124m\"\u001b[39m\u001b[38;5;124mRunning Simulation...\u001b[39m\u001b[38;5;124m\"\u001b[39m)\n\u001b[0;32m--> 204\u001b[0m     LLP_data_path \u001b[38;5;241m=\u001b[39m \u001b[43mloop_mass_ctau_br_given_by_csv_main131_sleep_time\u001b[49m\u001b[43m(\u001b[49m\u001b[43mcsv_file\u001b[49m\u001b[43m,\u001b[49m\u001b[43m \u001b[49m\u001b[43mbr\u001b[49m\u001b[43m,\u001b[49m\u001b[43m \u001b[49m\u001b[43mseed_array\u001b[49m\u001b[43m,\u001b[49m\u001b[43m \u001b[49m\u001b[43mout_put_path\u001b[49m\u001b[43m,\u001b[49m\u001b[43m \u001b[49m\u001b[43mmain131_path\u001b[49m\u001b[43m,\u001b[49m\u001b[43m \u001b[49m\u001b[43msleep_time\u001b[49m\u001b[43m,\u001b[49m\u001b[43m \u001b[49m\u001b[43mtoday\u001b[49m\u001b[43m)\u001b[49m\n\u001b[1;32m    205\u001b[0m     \u001b[38;5;28mprint\u001b[39m(\u001b[38;5;124m'\u001b[39m\u001b[38;5;124mThe Generation of LLPs is Completed\u001b[39m\u001b[38;5;124m'\u001b[39m)\n\u001b[1;32m    206\u001b[0m     completed_data_dir \u001b[38;5;241m=\u001b[39m detect_folder_files_cross_section(LLP_data_path)[\u001b[38;5;241m1\u001b[39m]\n",
      "File \u001b[0;32m/media/ubuntu/6156e08b-fdb1-4cde-964e-431f74a6078e/Program/PRA/Github/position_read_analyse_1.3/ALL_IN_ONE/Pythia8/loop.py:123\u001b[0m, in \u001b[0;36mloop_mass_ctau_br_given_by_csv_main131_sleep_time\u001b[0;34m(csv_file, br, seed_amount, out_put_path, main131_path, sleep_time, today)\u001b[0m\n\u001b[1;32m    119\u001b[0m \u001b[38;5;28;01mfor\u001b[39;00m seed \u001b[38;5;129;01min\u001b[39;00m generate_randomseed(seed_amount):\n\u001b[1;32m    120\u001b[0m     \u001b[38;5;28;01mfor\u001b[39;00m mH, taus, Br_Hee, Br_HKK, Br_HPIPI, Br_Htautau, Br_HGluon,Br_Hmumu, Br_Hgaga, Br_H4Pi, Br_Hss, Br_Hcc, theta, Decay_Width_Total \u001b[38;5;129;01min\u001b[39;00m \u001b[38;5;28mzip\u001b[39m(df[\u001b[38;5;124m'\u001b[39m\u001b[38;5;124mmH\u001b[39m\u001b[38;5;124m'\u001b[39m], df[\u001b[38;5;124m'\u001b[39m\u001b[38;5;124mltime\u001b[39m\u001b[38;5;124m'\u001b[39m],\n\u001b[1;32m    121\u001b[0m                                                                                                                      df[\u001b[38;5;124m'\u001b[39m\u001b[38;5;124mBr_Hee\u001b[39m\u001b[38;5;124m'\u001b[39m], df[\u001b[38;5;124m'\u001b[39m\u001b[38;5;124mBr_HKK\u001b[39m\u001b[38;5;124m'\u001b[39m], df[\u001b[38;5;124m'\u001b[39m\u001b[38;5;124mBr_HPiPi\u001b[39m\u001b[38;5;124m'\u001b[39m], df[\u001b[38;5;124m'\u001b[39m\u001b[38;5;124mBr_Htautau\u001b[39m\u001b[38;5;124m'\u001b[39m], df[\u001b[38;5;124m'\u001b[39m\u001b[38;5;124mBr_HGluon\u001b[39m\u001b[38;5;124m'\u001b[39m],\n\u001b[1;32m    122\u001b[0m                                                                                                                      df[\u001b[38;5;124m'\u001b[39m\u001b[38;5;124mBr_Hmumu\u001b[39m\u001b[38;5;124m'\u001b[39m], df[\u001b[38;5;124m'\u001b[39m\u001b[38;5;124mBr_Hgaga\u001b[39m\u001b[38;5;124m'\u001b[39m], df[\u001b[38;5;124m'\u001b[39m\u001b[38;5;124mBr_H4Pi\u001b[39m\u001b[38;5;124m'\u001b[39m], df[\u001b[38;5;124m'\u001b[39m\u001b[38;5;124mBr_Hss\u001b[39m\u001b[38;5;124m'\u001b[39m], df[\u001b[38;5;124m'\u001b[39m\u001b[38;5;124mBr_Hcc\u001b[39m\u001b[38;5;124m'\u001b[39m], df[\u001b[38;5;124m'\u001b[39m\u001b[38;5;124mtheta\u001b[39m\u001b[38;5;124m'\u001b[39m], df[\u001b[38;5;124m'\u001b[39m\u001b[38;5;124mDecay_width_total\u001b[39m\u001b[38;5;124m'\u001b[39m]):\n\u001b[0;32m--> 123\u001b[0m         out_put_name_LLP_data \u001b[38;5;241m=\u001b[39m \u001b[43mrun_save_main131_csv_all_br_main131\u001b[49m\u001b[43m(\u001b[49m\u001b[43mmH\u001b[49m\u001b[43m,\u001b[49m\u001b[43m \u001b[49m\u001b[43mseed\u001b[49m\u001b[43m,\u001b[49m\u001b[43m \u001b[49m\u001b[43mbr\u001b[49m\u001b[43m,\u001b[49m\u001b[43m \u001b[49m\u001b[43mtaus\u001b[49m\u001b[43m,\u001b[49m\u001b[43m \u001b[49m\u001b[43mout_put_path\u001b[49m\u001b[43m,\u001b[49m\u001b[43m \u001b[49m\u001b[43mmain131_path\u001b[49m\u001b[43m,\u001b[49m\u001b[43m \u001b[49m\u001b[43mBr_Hee\u001b[49m\u001b[43m,\u001b[49m\u001b[43m \u001b[49m\u001b[43mBr_HKK\u001b[49m\u001b[43m,\u001b[49m\u001b[43m \u001b[49m\u001b[43mBr_HPIPI\u001b[49m\u001b[43m,\u001b[49m\u001b[43m \u001b[49m\u001b[43mBr_Htautau\u001b[49m\u001b[43m,\u001b[49m\u001b[43m \u001b[49m\u001b[43mBr_HGluon\u001b[49m\u001b[43m,\u001b[49m\u001b[43mBr_Hmumu\u001b[49m\u001b[43m,\u001b[49m\u001b[43m \u001b[49m\u001b[43mBr_Hgaga\u001b[49m\u001b[43m,\u001b[49m\u001b[43m \u001b[49m\u001b[43mBr_H4Pi\u001b[49m\u001b[43m,\u001b[49m\u001b[43m \u001b[49m\u001b[43mBr_Hss\u001b[49m\u001b[43m,\u001b[49m\u001b[43m \u001b[49m\u001b[43mBr_Hcc\u001b[49m\u001b[43m,\u001b[49m\u001b[43m \u001b[49m\u001b[43mtheta\u001b[49m\u001b[43m,\u001b[49m\u001b[43m \u001b[49m\u001b[43mDecay_Width_Total\u001b[49m\u001b[43m,\u001b[49m\u001b[43m \u001b[49m\u001b[43mtoday\u001b[49m\u001b[43m)\u001b[49m[\u001b[38;5;241m0\u001b[39m]\n\u001b[1;32m    125\u001b[0m         pbar\u001b[38;5;241m.\u001b[39mupdate(\u001b[38;5;241m1\u001b[39m)\n\u001b[1;32m    126\u001b[0m         time\u001b[38;5;241m.\u001b[39msleep(sleep_time)\n",
      "File \u001b[0;32m/media/ubuntu/6156e08b-fdb1-4cde-964e-431f74a6078e/Program/PRA/Github/position_read_analyse_1.3/ALL_IN_ONE/Pythia8/run_save.py:241\u001b[0m, in \u001b[0;36mrun_save_main131_csv_all_br_main131\u001b[0;34m(m, seed, Br, tau, out_path, main_41_path, Br_Hee, Br_HKK, Br_HPIPI, Br_Htautau, Br_HGluon, Br_Hmumu, Br_Hgaga, Br_H4Pi, Br_Hss, Br_Hcc, theta, Decay_width_total, today)\u001b[0m\n\u001b[1;32m    239\u001b[0m filename \u001b[38;5;241m=\u001b[39m \u001b[38;5;124m\"\u001b[39m\u001b[38;5;124mfiltered_mass_\u001b[39m\u001b[38;5;124m\"\u001b[39m \u001b[38;5;241m+\u001b[39m mass \u001b[38;5;241m+\u001b[39m \u001b[38;5;124m\"\u001b[39m\u001b[38;5;124m_ctau_\u001b[39m\u001b[38;5;124m\"\u001b[39m \u001b[38;5;241m+\u001b[39m tau_str \u001b[38;5;241m+\u001b[39m \u001b[38;5;124m\"\u001b[39m\u001b[38;5;124m_br_\u001b[39m\u001b[38;5;124m\"\u001b[39m \u001b[38;5;241m+\u001b[39m Br_str \u001b[38;5;241m+\u001b[39m \u001b[38;5;124m\"\u001b[39m\u001b[38;5;124m_seed_\u001b[39m\u001b[38;5;124m\"\u001b[39m \u001b[38;5;241m+\u001b[39m random_seed \u001b[38;5;241m+\u001b[39m \u001b[38;5;124m\"\u001b[39m\u001b[38;5;124m.csv\u001b[39m\u001b[38;5;124m\"\u001b[39m\n\u001b[1;32m    240\u001b[0m \u001b[38;5;66;03m# get error if any\u001b[39;00m\n\u001b[0;32m--> 241\u001b[0m output, error \u001b[38;5;241m=\u001b[39m \u001b[43mprocess1\u001b[49m\u001b[38;5;241;43m.\u001b[39;49m\u001b[43mcommunicate\u001b[49m\u001b[43m(\u001b[49m\u001b[43m)\u001b[49m\n\u001b[1;32m    243\u001b[0m \u001b[38;5;66;03m# save to txt\u001b[39;00m\n\u001b[1;32m    244\u001b[0m out_path \u001b[38;5;241m=\u001b[39m out_dir\u001b[38;5;241m+\u001b[39mfilename\n",
      "File \u001b[0;32m/usr/lib/python3.10/subprocess.py:1141\u001b[0m, in \u001b[0;36mPopen.communicate\u001b[0;34m(self, input, timeout)\u001b[0m\n\u001b[1;32m   1139\u001b[0m     \u001b[38;5;28mself\u001b[39m\u001b[38;5;241m.\u001b[39m_stdin_write(\u001b[38;5;28minput\u001b[39m)\n\u001b[1;32m   1140\u001b[0m \u001b[38;5;28;01melif\u001b[39;00m \u001b[38;5;28mself\u001b[39m\u001b[38;5;241m.\u001b[39mstdout:\n\u001b[0;32m-> 1141\u001b[0m     stdout \u001b[38;5;241m=\u001b[39m \u001b[38;5;28;43mself\u001b[39;49m\u001b[38;5;241;43m.\u001b[39;49m\u001b[43mstdout\u001b[49m\u001b[38;5;241;43m.\u001b[39;49m\u001b[43mread\u001b[49m\u001b[43m(\u001b[49m\u001b[43m)\u001b[49m\n\u001b[1;32m   1142\u001b[0m     \u001b[38;5;28mself\u001b[39m\u001b[38;5;241m.\u001b[39mstdout\u001b[38;5;241m.\u001b[39mclose()\n\u001b[1;32m   1143\u001b[0m \u001b[38;5;28;01melif\u001b[39;00m \u001b[38;5;28mself\u001b[39m\u001b[38;5;241m.\u001b[39mstderr:\n",
      "\u001b[0;31mKeyboardInterrupt\u001b[0m: "
     ]
    }
   ],
   "source": [
    "from concurrent.futures import ProcessPoolExecutor\n",
    "import os\n",
    "\n",
    "# 假设 okr.one_key_run_by_csv_cross_section_main131 是你要并行运行的函数\n",
    "from concurrent.futures import ProcessPoolExecutor\n",
    "\n",
    "def run_task(args):\n",
    "    _csv_file, _param1, _param2, _out_path, _main131_path, _date, _sleep_time = args\n",
    "    return okr.one_key_run_2HDM_cross_section_main131_lower_eff_all_detectors(_csv_file, _param1, _param2, _out_path, _main131_path, _date, _sleep_time)\n",
    "\n",
    "if __name__ == \"__main__\":\n",
    "    # 自定义 CPU 核心数量\n",
    "    num_cores = 3  # 你可以将此值改为你想使用的核心数量\n",
    "\n",
    "    # 定义任务参数\n",
    "    # out_path = \"output_path\"  # 替换为实际的输出路径\n",
    "    # main131_path = \"main131_path\"  # 替换为实际的路径\n",
    "\n",
    "    tasks = [\n",
    "        (f\"{i+1}.csv\", 1, 2, out_path, main131_path, today, 10)  # 生成任务参数\n",
    "        for i in range(num_cores)  # 根据自定义核心数生成任务\n",
    "    ]\n",
    "\n",
    "    # 打印生成的任务\n",
    "    for task in tasks:\n",
    "        print(task)\n",
    "\n",
    "    # 使用多核并行\n",
    "    with ProcessPoolExecutor(max_workers=num_cores) as executor:\n",
    "        results = list(executor.map(run_task, tasks))\n",
    "\n",
    "    # 打印结果\n",
    "    print(\"All tasks completed:\", results)\n",
    "\n",
    "\n",
    "run_task((csv_file, 1, 1, out_path, main131_path, today, 0))"
   ]
  },
  {
   "cell_type": "markdown",
   "metadata": {},
   "source": [
    "#### To read the data\n",
    "\n",
    "Now that you have done the simulation via pythia8, the output .csv files should be in your `output` folder. \n",
    "\n",
    "Below the folder, the file is sorted and filed by `date of the simulation`, so there will be a new folder like `2025-03-07`. In that `date folder`, there will be two folders, named`LLP_data`(store the orginal data), and `Completed_llp_data_precise` (store the detective data). \n",
    "\n",
    "AND THERE IS A `.csv` FILE, which is named like `2025-03-07_detected_combined_precise_file.csv`, it contains ONLY the LLPs can be DETECTED by CODEX-b."
   ]
  },
  {
   "cell_type": "code",
   "execution_count": null,
   "metadata": {},
   "outputs": [
    {
     "name": "stdout",
     "output_type": "stream",
     "text": [
      "(-10.200000256677525, -12.400000474218762)\n"
     ]
    }
   ],
   "source": [
    "print(ad.print_max_min_log10_sin_theta_2('/Users/shiyuzhe/Documents/University/LLP/Second_Term/pythia8/BtoKa/Code/position_read_analyse_1.3/LLP_data_for_test/2025-2-16/2025-2-16_detected_combined_precise_file.csv'))"
   ]
  },
  {
   "cell_type": "markdown",
   "metadata": {},
   "source": [
    "### The Detect Function\n",
    "\n",
    "Functions::::\n",
    "```python\n",
    "def detect_r_and_combine(LLP_data_path) \n",
    "\n",
    "def detect_precise_and_combine(LLP_data_path)\n",
    "```\n",
    "\n",
    "Are functions to combine '''.csv files''' and judge whether LLP can be detected by CODEX-b or not\n",
    "\n",
    "They will creat a ```.csv file``` at the dir of your LLP, which contains ALL DETECTED LLPS.\n",
    "\n",
    "The function::::\n",
    "```python \n",
    "def detect_r_and_combine(LLP_data_path)\n",
    "```\n",
    " is merely a test function. You can play with it to get more data, but DO NOT use it for real analyzation"
   ]
  },
  {
   "cell_type": "code",
   "execution_count": 10,
   "metadata": {},
   "outputs": [
    {
     "name": "stderr",
     "output_type": "stream",
     "text": [
      "  0%|          | 4/2961 [00:01<19:13,  2.56it/s]"
     ]
    },
    {
     "name": "stdout",
     "output_type": "stream",
     "text": [
      "Error with file: /media/ubuntu/6156e08b-fdb1-4cde-964e-431f74a6078e/Files/LLP_DATA/Original_DATA/2025-04-23-2HDM/LLP_data/B_2HDM/mass_7.94e+00_ctau_4.00e+06_br_1.00e+00_seed_979224.csv\n",
      "Error message: No columns to parse from file\n"
     ]
    },
    {
     "name": "stderr",
     "output_type": "stream",
     "text": [
      "  0%|          | 6/2961 [00:01<13:41,  3.60it/s]"
     ]
    },
    {
     "name": "stdout",
     "output_type": "stream",
     "text": [
      "Error with file: /media/ubuntu/6156e08b-fdb1-4cde-964e-431f74a6078e/Files/LLP_DATA/Original_DATA/2025-04-23-2HDM/LLP_data/B_2HDM/mass_6.31e+00_ctau_4.00e+07_br_1.00e+00_seed_979224.csv\n",
      "Error message: No columns to parse from file\n"
     ]
    },
    {
     "name": "stderr",
     "output_type": "stream",
     "text": [
      "  1%|          | 17/2961 [00:05<17:45,  2.76it/s]"
     ]
    },
    {
     "name": "stdout",
     "output_type": "stream",
     "text": [
      "Error with file: /media/ubuntu/6156e08b-fdb1-4cde-964e-431f74a6078e/Files/LLP_DATA/Original_DATA/2025-04-23-2HDM/LLP_data/B_2HDM/mass_5.01e+00_ctau_1.10e-06_br_1.00e+00_seed_979224.csv\n",
      "Error message: No columns to parse from file\n"
     ]
    },
    {
     "name": "stderr",
     "output_type": "stream",
     "text": [
      "  1%|          | 20/2961 [00:06<15:05,  3.25it/s]"
     ]
    },
    {
     "name": "stdout",
     "output_type": "stream",
     "text": [
      "Error with file: /media/ubuntu/6156e08b-fdb1-4cde-964e-431f74a6078e/Files/LLP_DATA/Original_DATA/2025-04-23-2HDM/LLP_data/B_2HDM/mass_7.94e+00_ctau_6.34e+07_br_1.00e+00_seed_979224.csv\n",
      "Error message: No columns to parse from file\n"
     ]
    },
    {
     "name": "stderr",
     "output_type": "stream",
     "text": [
      "  1%|          | 22/2961 [00:06<12:31,  3.91it/s]"
     ]
    },
    {
     "name": "stdout",
     "output_type": "stream",
     "text": [
      "Error with file: /media/ubuntu/6156e08b-fdb1-4cde-964e-431f74a6078e/Files/LLP_DATA/Original_DATA/2025-04-23-2HDM/LLP_data/B_2HDM/mass_1.00e+01_ctau_7.97e+05_br_1.00e+00_seed_979224.csv\n",
      "Error message: No columns to parse from file\n"
     ]
    },
    {
     "name": "stderr",
     "output_type": "stream",
     "text": [
      "  1%|          | 26/2961 [00:08<14:30,  3.37it/s]"
     ]
    },
    {
     "name": "stdout",
     "output_type": "stream",
     "text": [
      "Error with file: /media/ubuntu/6156e08b-fdb1-4cde-964e-431f74a6078e/Files/LLP_DATA/Original_DATA/2025-04-23-2HDM/LLP_data/B_2HDM/mass_1.00e+01_ctau_1.00e+00_br_1.00e+00_seed_979224.csv\n",
      "Error message: No columns to parse from file\n",
      "Error with file: /media/ubuntu/6156e08b-fdb1-4cde-964e-431f74a6078e/Files/LLP_DATA/Original_DATA/2025-04-23-2HDM/LLP_data/B_2HDM/mass_5.01e+00_ctau_2.52e+10_br_1.00e+00_seed_979224.csv\n",
      "Error message: No columns to parse from file\n"
     ]
    },
    {
     "name": "stderr",
     "output_type": "stream",
     "text": [
      "  1%|          | 35/2961 [00:10<17:12,  2.83it/s]"
     ]
    },
    {
     "name": "stdout",
     "output_type": "stream",
     "text": [
      "Error with file: /media/ubuntu/6156e08b-fdb1-4cde-964e-431f74a6078e/Files/LLP_DATA/Original_DATA/2025-04-23-2HDM/LLP_data/B_2HDM/mass_7.94e+00_ctau_2.52e+05_br_1.00e+00_seed_979224.csv\n",
      "Error message: No columns to parse from file\n",
      "Error with file: /media/ubuntu/6156e08b-fdb1-4cde-964e-431f74a6078e/Files/LLP_DATA/Original_DATA/2025-04-23-2HDM/LLP_data/B_2HDM/mass_5.01e+00_ctau_1.59e+02_br_1.00e+00_seed_979224.csv\n",
      "Error message: No columns to parse from file\n"
     ]
    },
    {
     "name": "stderr",
     "output_type": "stream",
     "text": [
      "  1%|▏         | 43/2961 [00:12<15:44,  3.09it/s]"
     ]
    },
    {
     "name": "stdout",
     "output_type": "stream",
     "text": [
      "Error with file: /media/ubuntu/6156e08b-fdb1-4cde-964e-431f74a6078e/Files/LLP_DATA/Original_DATA/2025-04-23-2HDM/LLP_data/B_2HDM/mass_5.01e+00_ctau_7.98e+00_br_1.00e+00_seed_979224.csv\n",
      "Error message: No columns to parse from file\n"
     ]
    },
    {
     "name": "stderr",
     "output_type": "stream",
     "text": [
      "  2%|▏         | 47/2961 [00:14<15:31,  3.13it/s]"
     ]
    },
    {
     "name": "stdout",
     "output_type": "stream",
     "text": [
      "Error with file: /media/ubuntu/6156e08b-fdb1-4cde-964e-431f74a6078e/Files/LLP_DATA/Original_DATA/2025-04-23-2HDM/LLP_data/B_2HDM/mass_7.94e+00_ctau_5.03e+03_br_1.00e+00_seed_979224.csv\n",
      "Error message: No columns to parse from file\n",
      "Error with file: /media/ubuntu/6156e08b-fdb1-4cde-964e-431f74a6078e/Files/LLP_DATA/Original_DATA/2025-04-23-2HDM/LLP_data/B_2HDM/mass_5.01e+00_ctau_6.34e+03_br_1.00e+00_seed_979224.csv\n",
      "Error message: No columns to parse from file\n"
     ]
    },
    {
     "name": "stderr",
     "output_type": "stream",
     "text": [
      "  2%|▏         | 50/2961 [00:14<10:51,  4.47it/s]"
     ]
    },
    {
     "name": "stdout",
     "output_type": "stream",
     "text": [
      "Error with file: /media/ubuntu/6156e08b-fdb1-4cde-964e-431f74a6078e/Files/LLP_DATA/Original_DATA/2025-04-23-2HDM/LLP_data/B_2HDM/mass_5.01e+00_ctau_1.01e+07_br_1.00e+00_seed_979224.csv\n",
      "Error message: No columns to parse from file\n"
     ]
    },
    {
     "name": "stderr",
     "output_type": "stream",
     "text": [
      "  2%|▏         | 57/2961 [00:17<18:45,  2.58it/s]"
     ]
    },
    {
     "name": "stdout",
     "output_type": "stream",
     "text": [
      "Error with file: /media/ubuntu/6156e08b-fdb1-4cde-964e-431f74a6078e/Files/LLP_DATA/Original_DATA/2025-04-23-2HDM/LLP_data/B_2HDM/mass_1.00e+01_ctau_5.03e+08_br_1.00e+00_seed_979224.csv\n",
      "Error message: No columns to parse from file\n"
     ]
    },
    {
     "name": "stderr",
     "output_type": "stream",
     "text": [
      "  2%|▏         | 67/2961 [00:22<24:37,  1.96it/s]"
     ]
    },
    {
     "name": "stdout",
     "output_type": "stream",
     "text": [
      "Error with file: /media/ubuntu/6156e08b-fdb1-4cde-964e-431f74a6078e/Files/LLP_DATA/Original_DATA/2025-04-23-2HDM/LLP_data/B_2HDM/mass_1.00e+01_ctau_1.59e+08_br_1.00e+00_seed_979224.csv\n",
      "Error message: No columns to parse from file\n"
     ]
    },
    {
     "name": "stderr",
     "output_type": "stream",
     "text": [
      "  2%|▏         | 72/2961 [00:24<17:26,  2.76it/s]"
     ]
    },
    {
     "name": "stdout",
     "output_type": "stream",
     "text": [
      "Error with file: /media/ubuntu/6156e08b-fdb1-4cde-964e-431f74a6078e/Files/LLP_DATA/Original_DATA/2025-04-23-2HDM/LLP_data/B_2HDM/mass_1.00e+01_ctau_1.85e-08_br_1.00e+00_seed_979224.csv\n",
      "Error message: No columns to parse from file\n"
     ]
    },
    {
     "name": "stderr",
     "output_type": "stream",
     "text": [
      "  3%|▎         | 77/2961 [00:25<16:30,  2.91it/s]"
     ]
    },
    {
     "name": "stdout",
     "output_type": "stream",
     "text": [
      "Error with file: /media/ubuntu/6156e08b-fdb1-4cde-964e-431f74a6078e/Files/LLP_DATA/Original_DATA/2025-04-23-2HDM/LLP_data/B_2HDM/mass_7.94e+00_ctau_1.00e+08_br_1.00e+00_seed_979224.csv\n",
      "Error message: No columns to parse from file\n"
     ]
    },
    {
     "name": "stderr",
     "output_type": "stream",
     "text": [
      "  3%|▎         | 83/2961 [00:27<16:56,  2.83it/s]"
     ]
    },
    {
     "name": "stdout",
     "output_type": "stream",
     "text": [
      "Error with file: /media/ubuntu/6156e08b-fdb1-4cde-964e-431f74a6078e/Files/LLP_DATA/Original_DATA/2025-04-23-2HDM/LLP_data/B_2HDM/mass_1.00e+01_ctau_6.33e+04_br_1.00e+00_seed_979224.csv\n",
      "Error message: No columns to parse from file\n"
     ]
    },
    {
     "name": "stderr",
     "output_type": "stream",
     "text": [
      "  3%|▎         | 86/2961 [00:28<14:38,  3.27it/s]"
     ]
    },
    {
     "name": "stdout",
     "output_type": "stream",
     "text": [
      "Error with file: /media/ubuntu/6156e08b-fdb1-4cde-964e-431f74a6078e/Files/LLP_DATA/Original_DATA/2025-04-23-2HDM/LLP_data/B_2HDM/mass_1.00e+01_ctau_2.15e-04_br_1.00e+00_seed_979224.csv\n",
      "Error message: No columns to parse from file\n"
     ]
    },
    {
     "name": "stderr",
     "output_type": "stream",
     "text": [
      "  3%|▎         | 89/2961 [00:29<14:04,  3.40it/s]"
     ]
    },
    {
     "name": "stdout",
     "output_type": "stream",
     "text": [
      "Error with file: /media/ubuntu/6156e08b-fdb1-4cde-964e-431f74a6078e/Files/LLP_DATA/Original_DATA/2025-04-23-2HDM/LLP_data/B_2HDM/mass_7.94e+00_ctau_2.00e+06_br_1.00e+00_seed_979224.csv\n",
      "Error message: No columns to parse from file\n"
     ]
    },
    {
     "name": "stderr",
     "output_type": "stream",
     "text": [
      "  3%|▎         | 93/2961 [00:31<31:24,  1.52it/s]"
     ]
    },
    {
     "name": "stdout",
     "output_type": "stream",
     "text": [
      "Error with file: /media/ubuntu/6156e08b-fdb1-4cde-964e-431f74a6078e/Files/LLP_DATA/Original_DATA/2025-04-23-2HDM/LLP_data/B_2HDM/mass_1.00e+01_ctau_7.97e+04_br_1.00e+00_seed_979224.csv\n",
      "Error message: No columns to parse from file\n"
     ]
    },
    {
     "name": "stderr",
     "output_type": "stream",
     "text": [
      "  4%|▍         | 114/2961 [00:41<18:50,  2.52it/s]"
     ]
    },
    {
     "name": "stdout",
     "output_type": "stream",
     "text": [
      "Error with file: /media/ubuntu/6156e08b-fdb1-4cde-964e-431f74a6078e/Files/LLP_DATA/Original_DATA/2025-04-23-2HDM/LLP_data/B_2HDM/mass_5.01e+00_ctau_1.99e-01_br_1.00e+00_seed_979224.csv\n",
      "Error message: No columns to parse from file\n"
     ]
    },
    {
     "name": "stderr",
     "output_type": "stream",
     "text": [
      "  4%|▍         | 120/2961 [00:43<16:45,  2.82it/s]"
     ]
    },
    {
     "name": "stdout",
     "output_type": "stream",
     "text": [
      "Error with file: /media/ubuntu/6156e08b-fdb1-4cde-964e-431f74a6078e/Files/LLP_DATA/Original_DATA/2025-04-23-2HDM/LLP_data/B_2HDM/mass_7.94e+00_ctau_2.52e+04_br_1.00e+00_seed_979224.csv\n",
      "Error message: No columns to parse from file\n",
      "Error with file: /media/ubuntu/6156e08b-fdb1-4cde-964e-431f74a6078e/Files/LLP_DATA/Original_DATA/2025-04-23-2HDM/LLP_data/B_2HDM/mass_1.00e+01_ctau_1.16e-04_br_1.00e+00_seed_979224.csv\n",
      "Error message: No columns to parse from file\n",
      "Error with file: /media/ubuntu/6156e08b-fdb1-4cde-964e-431f74a6078e/Files/LLP_DATA/Original_DATA/2025-04-23-2HDM/LLP_data/B_2HDM/mass_5.01e+00_ctau_3.99e-01_br_1.00e+00_seed_979224.csv\n",
      "Error message: No columns to parse from file\n"
     ]
    },
    {
     "name": "stderr",
     "output_type": "stream",
     "text": [
      "  5%|▍         | 134/2961 [00:47<20:38,  2.28it/s]"
     ]
    },
    {
     "name": "stdout",
     "output_type": "stream",
     "text": [
      "Error with file: /media/ubuntu/6156e08b-fdb1-4cde-964e-431f74a6078e/Files/LLP_DATA/Original_DATA/2025-04-23-2HDM/LLP_data/B_2HDM/mass_7.94e+00_ctau_2.00e+00_br_1.00e+00_seed_979224.csv\n",
      "Error message: No columns to parse from file\n",
      "Error with file: /media/ubuntu/6156e08b-fdb1-4cde-964e-431f74a6078e/Files/LLP_DATA/Original_DATA/2025-04-23-2HDM/LLP_data/B_2HDM/mass_1.00e+01_ctau_1.59e+05_br_1.00e+00_seed_979224.csv\n",
      "Error message: No columns to parse from file\n",
      "Error with file: /media/ubuntu/6156e08b-fdb1-4cde-964e-431f74a6078e/Files/LLP_DATA/Original_DATA/2025-04-23-2HDM/LLP_data/B_2HDM/mass_1.00e+01_ctau_4.00e+09_br_1.00e+00_seed_979224.csv\n",
      "Error message: No columns to parse from file\n"
     ]
    },
    {
     "name": "stderr",
     "output_type": "stream",
     "text": [
      "  5%|▌         | 157/2961 [00:57<20:07,  2.32it/s]"
     ]
    },
    {
     "name": "stdout",
     "output_type": "stream",
     "text": [
      "Error with file: /media/ubuntu/6156e08b-fdb1-4cde-964e-431f74a6078e/Files/LLP_DATA/Original_DATA/2025-04-23-2HDM/LLP_data/B_2HDM/mass_1.00e+01_ctau_1.00e+05_br_1.00e+00_seed_979224.csv\n",
      "Error message: No columns to parse from file\n",
      "Error with file: /media/ubuntu/6156e08b-fdb1-4cde-964e-431f74a6078e/Files/LLP_DATA/Original_DATA/2025-04-23-2HDM/LLP_data/B_2HDM/mass_6.31e+00_ctau_5.04e+01_br_1.00e+00_seed_979224.csv\n",
      "Error message: No columns to parse from file\n"
     ]
    },
    {
     "name": "stderr",
     "output_type": "stream",
     "text": [
      "  5%|▌         | 161/2961 [00:58<13:28,  3.46it/s]"
     ]
    },
    {
     "name": "stdout",
     "output_type": "stream",
     "text": [
      "Error with file: /media/ubuntu/6156e08b-fdb1-4cde-964e-431f74a6078e/Files/LLP_DATA/Original_DATA/2025-04-23-2HDM/LLP_data/B_2HDM/mass_1.00e+01_ctau_4.00e+01_br_1.00e+00_seed_979224.csv\n",
      "Error message: No columns to parse from file\n"
     ]
    },
    {
     "name": "stderr",
     "output_type": "stream",
     "text": [
      "  6%|▌         | 176/2961 [01:04<28:06,  1.65it/s]"
     ]
    },
    {
     "name": "stdout",
     "output_type": "stream",
     "text": [
      "Error with file: /media/ubuntu/6156e08b-fdb1-4cde-964e-431f74a6078e/Files/LLP_DATA/Original_DATA/2025-04-23-2HDM/LLP_data/B_2HDM/mass_7.94e+00_ctau_1.00e+00_br_1.00e+00_seed_979224.csv\n",
      "Error message: No columns to parse from file\n"
     ]
    },
    {
     "name": "stderr",
     "output_type": "stream",
     "text": [
      "  7%|▋         | 194/2961 [01:12<17:12,  2.68it/s]"
     ]
    },
    {
     "name": "stdout",
     "output_type": "stream",
     "text": [
      "Error with file: /media/ubuntu/6156e08b-fdb1-4cde-964e-431f74a6078e/Files/LLP_DATA/Original_DATA/2025-04-23-2HDM/LLP_data/B_2HDM/mass_7.94e+00_ctau_2.52e-01_br_1.00e+00_seed_979224.csv\n",
      "Error message: No columns to parse from file\n",
      "Error with file: /media/ubuntu/6156e08b-fdb1-4cde-964e-431f74a6078e/Files/LLP_DATA/Original_DATA/2025-04-23-2HDM/LLP_data/B_2HDM/mass_5.01e+00_ctau_3.18e+10_br_1.00e+00_seed_979224.csv\n",
      "Error message: No columns to parse from file\n"
     ]
    },
    {
     "name": "stderr",
     "output_type": "stream",
     "text": [
      "  7%|▋         | 208/2961 [01:17<17:54,  2.56it/s]"
     ]
    },
    {
     "name": "stdout",
     "output_type": "stream",
     "text": [
      "Error with file: /media/ubuntu/6156e08b-fdb1-4cde-964e-431f74a6078e/Files/LLP_DATA/Original_DATA/2025-04-23-2HDM/LLP_data/B_2HDM/mass_6.31e+00_ctau_5.04e+05_br_1.00e+00_seed_979224.csv\n",
      "Error message: No columns to parse from file\n",
      "Error with file: /media/ubuntu/6156e08b-fdb1-4cde-964e-431f74a6078e/Files/LLP_DATA/Original_DATA/2025-04-23-2HDM/LLP_data/B_2HDM/mass_6.31e+00_ctau_1.59e+06_br_1.00e+00_seed_979224.csv\n",
      "Error message: No columns to parse from file\n",
      "Error with file: /media/ubuntu/6156e08b-fdb1-4cde-964e-431f74a6078e/Files/LLP_DATA/Original_DATA/2025-04-23-2HDM/LLP_data/B_2HDM/mass_1.00e+01_ctau_1.01e-07_br_1.00e+00_seed_979224.csv\n",
      "Error message: No columns to parse from file\n"
     ]
    },
    {
     "name": "stderr",
     "output_type": "stream",
     "text": [
      "  7%|▋         | 212/2961 [01:17<09:09,  5.00it/s]"
     ]
    },
    {
     "name": "stdout",
     "output_type": "stream",
     "text": [
      "Error with file: /media/ubuntu/6156e08b-fdb1-4cde-964e-431f74a6078e/Files/LLP_DATA/Original_DATA/2025-04-23-2HDM/LLP_data/B_2HDM/mass_7.94e+00_ctau_1.59e-01_br_1.00e+00_seed_979224.csv\n",
      "Error message: No columns to parse from file\n"
     ]
    },
    {
     "name": "stderr",
     "output_type": "stream",
     "text": [
      "  7%|▋         | 216/2961 [01:19<12:03,  3.79it/s]"
     ]
    },
    {
     "name": "stdout",
     "output_type": "stream",
     "text": [
      "Error with file: /media/ubuntu/6156e08b-fdb1-4cde-964e-431f74a6078e/Files/LLP_DATA/Original_DATA/2025-04-23-2HDM/LLP_data/B_2HDM/mass_1.00e+01_ctau_2.52e+03_br_1.00e+00_seed_979224.csv\n",
      "Error message: No columns to parse from file\n"
     ]
    },
    {
     "name": "stderr",
     "output_type": "stream",
     "text": [
      "  7%|▋         | 222/2961 [01:23<34:20,  1.33it/s]"
     ]
    },
    {
     "name": "stdout",
     "output_type": "stream",
     "text": [
      "Error with file: /media/ubuntu/6156e08b-fdb1-4cde-964e-431f74a6078e/Files/LLP_DATA/Original_DATA/2025-04-23-2HDM/LLP_data/B_2HDM/mass_5.01e+00_ctau_1.00e+00_br_1.00e+00_seed_979224.csv\n",
      "Error message: No columns to parse from file\n"
     ]
    },
    {
     "name": "stderr",
     "output_type": "stream",
     "text": [
      "  8%|▊         | 226/2961 [01:24<21:11,  2.15it/s]"
     ]
    },
    {
     "name": "stdout",
     "output_type": "stream",
     "text": [
      "Error with file: /media/ubuntu/6156e08b-fdb1-4cde-964e-431f74a6078e/Files/LLP_DATA/Original_DATA/2025-04-23-2HDM/LLP_data/B_2HDM/mass_7.94e+00_ctau_1.00e+06_br_1.00e+00_seed_979224.csv\n",
      "Error message: No columns to parse from file\n"
     ]
    },
    {
     "name": "stderr",
     "output_type": "stream",
     "text": [
      "  8%|▊         | 231/2961 [01:26<19:53,  2.29it/s]"
     ]
    },
    {
     "name": "stdout",
     "output_type": "stream",
     "text": [
      "Error with file: /media/ubuntu/6156e08b-fdb1-4cde-964e-431f74a6078e/Files/LLP_DATA/Original_DATA/2025-04-23-2HDM/LLP_data/B_2HDM/mass_7.94e+00_ctau_6.34e+09_br_1.00e+00_seed_979224.csv\n",
      "Error message: No columns to parse from file\n",
      "Error with file: /media/ubuntu/6156e08b-fdb1-4cde-964e-431f74a6078e/Files/LLP_DATA/Original_DATA/2025-04-23-2HDM/LLP_data/B_2HDM/mass_5.01e+00_ctau_1.27e+06_br_1.00e+00_seed_979224.csv\n",
      "Error message: No columns to parse from file\n"
     ]
    },
    {
     "name": "stderr",
     "output_type": "stream",
     "text": [
      "  8%|▊         | 239/2961 [01:28<16:06,  2.82it/s]"
     ]
    },
    {
     "name": "stdout",
     "output_type": "stream",
     "text": [
      "Error with file: /media/ubuntu/6156e08b-fdb1-4cde-964e-431f74a6078e/Files/LLP_DATA/Original_DATA/2025-04-23-2HDM/LLP_data/B_2HDM/mass_1.00e+01_ctau_1.26e+03_br_1.00e+00_seed_979224.csv\n",
      "Error message: No columns to parse from file\n"
     ]
    },
    {
     "name": "stderr",
     "output_type": "stream",
     "text": [
      "  8%|▊         | 244/2961 [01:30<15:50,  2.86it/s]"
     ]
    },
    {
     "name": "stdout",
     "output_type": "stream",
     "text": [
      "Error with file: /media/ubuntu/6156e08b-fdb1-4cde-964e-431f74a6078e/Files/LLP_DATA/Original_DATA/2025-04-23-2HDM/LLP_data/B_2HDM/mass_7.94e+00_ctau_2.00e+05_br_1.00e+00_seed_979224.csv\n",
      "Error message: No columns to parse from file\n"
     ]
    },
    {
     "name": "stderr",
     "output_type": "stream",
     "text": [
      "  8%|▊         | 249/2961 [01:31<15:13,  2.97it/s]"
     ]
    },
    {
     "name": "stdout",
     "output_type": "stream",
     "text": [
      "Error with file: /media/ubuntu/6156e08b-fdb1-4cde-964e-431f74a6078e/Files/LLP_DATA/Original_DATA/2025-04-23-2HDM/LLP_data/B_2HDM/mass_7.94e+00_ctau_5.03e+08_br_1.00e+00_seed_979224.csv\n",
      "Error message: No columns to parse from file\n"
     ]
    },
    {
     "name": "stderr",
     "output_type": "stream",
     "text": [
      "  8%|▊         | 251/2961 [01:32<12:26,  3.63it/s]"
     ]
    },
    {
     "name": "stdout",
     "output_type": "stream",
     "text": [
      "Error with file: /media/ubuntu/6156e08b-fdb1-4cde-964e-431f74a6078e/Files/LLP_DATA/Original_DATA/2025-04-23-2HDM/LLP_data/B_2HDM/mass_6.31e+00_ctau_1.00e+04_br_1.00e+00_seed_979224.csv\n",
      "Error message: No columns to parse from file\n",
      "Error with file: /media/ubuntu/6156e08b-fdb1-4cde-964e-431f74a6078e/Files/LLP_DATA/Original_DATA/2025-04-23-2HDM/LLP_data/B_2HDM/mass_6.31e+00_ctau_3.18e+00_br_1.00e+00_seed_979224.csv\n",
      "Error message: No columns to parse from file\n"
     ]
    },
    {
     "name": "stderr",
     "output_type": "stream",
     "text": [
      "  9%|▊         | 256/2961 [01:33<12:07,  3.72it/s]"
     ]
    },
    {
     "name": "stdout",
     "output_type": "stream",
     "text": [
      "Error with file: /media/ubuntu/6156e08b-fdb1-4cde-964e-431f74a6078e/Files/LLP_DATA/Original_DATA/2025-04-23-2HDM/LLP_data/B_2HDM/mass_1.00e+01_ctau_1.96e-06_br_1.00e+00_seed_979224.csv\n",
      "Error message: No columns to parse from file\n",
      "Error with file: /media/ubuntu/6156e08b-fdb1-4cde-964e-431f74a6078e/Files/LLP_DATA/Original_DATA/2025-04-23-2HDM/LLP_data/B_2HDM/mass_7.94e+00_ctau_1.59e+06_br_1.00e+00_seed_979224.csv\n",
      "Error message: No columns to parse from file\n"
     ]
    },
    {
     "name": "stderr",
     "output_type": "stream",
     "text": [
      "  9%|▊         | 259/2961 [01:33<09:32,  4.72it/s]"
     ]
    },
    {
     "name": "stdout",
     "output_type": "stream",
     "text": [
      "Error with file: /media/ubuntu/6156e08b-fdb1-4cde-964e-431f74a6078e/Files/LLP_DATA/Original_DATA/2025-04-23-2HDM/LLP_data/B_2HDM/mass_1.00e+01_ctau_1.99e-02_br_1.00e+00_seed_979224.csv\n",
      "Error message: No columns to parse from file\n"
     ]
    },
    {
     "name": "stderr",
     "output_type": "stream",
     "text": [
      "  9%|▉         | 262/2961 [01:34<10:40,  4.21it/s]"
     ]
    },
    {
     "name": "stdout",
     "output_type": "stream",
     "text": [
      "Error with file: /media/ubuntu/6156e08b-fdb1-4cde-964e-431f74a6078e/Files/LLP_DATA/Original_DATA/2025-04-23-2HDM/LLP_data/B_2HDM/mass_6.31e+00_ctau_7.98e+02_br_1.00e+00_seed_979224.csv\n",
      "Error message: No columns to parse from file\n"
     ]
    },
    {
     "name": "stderr",
     "output_type": "stream",
     "text": [
      "  9%|▉         | 266/2961 [01:35<12:32,  3.58it/s]"
     ]
    },
    {
     "name": "stdout",
     "output_type": "stream",
     "text": [
      "Error with file: /media/ubuntu/6156e08b-fdb1-4cde-964e-431f74a6078e/Files/LLP_DATA/Original_DATA/2025-04-23-2HDM/LLP_data/B_2HDM/mass_5.01e+00_ctau_5.83e-02_br_1.00e+00_seed_979224.csv\n",
      "Error message: No columns to parse from file\n"
     ]
    },
    {
     "name": "stderr",
     "output_type": "stream",
     "text": [
      "  9%|▉         | 268/2961 [01:35<10:51,  4.13it/s]"
     ]
    },
    {
     "name": "stdout",
     "output_type": "stream",
     "text": [
      "Error with file: /media/ubuntu/6156e08b-fdb1-4cde-964e-431f74a6078e/Files/LLP_DATA/Original_DATA/2025-04-23-2HDM/LLP_data/B_2HDM/mass_6.31e+00_ctau_7.87e-02_br_1.00e+00_seed_979224.csv\n",
      "Error message: No columns to parse from file\n"
     ]
    },
    {
     "name": "stderr",
     "output_type": "stream",
     "text": [
      "  9%|▉         | 280/2961 [01:42<22:05,  2.02it/s]"
     ]
    },
    {
     "name": "stdout",
     "output_type": "stream",
     "text": [
      "Error with file: /media/ubuntu/6156e08b-fdb1-4cde-964e-431f74a6078e/Files/LLP_DATA/Original_DATA/2025-04-23-2HDM/LLP_data/B_2HDM/mass_5.01e+00_ctau_2.01e+07_br_1.00e+00_seed_979224.csv\n",
      "Error message: No columns to parse from file\n",
      "Error with file: /media/ubuntu/6156e08b-fdb1-4cde-964e-431f74a6078e/Files/LLP_DATA/Original_DATA/2025-04-23-2HDM/LLP_data/B_2HDM/mass_5.01e+00_ctau_1.59e+07_br_1.00e+00_seed_979224.csv\n",
      "Error message: No columns to parse from file\n"
     ]
    },
    {
     "name": "stderr",
     "output_type": "stream",
     "text": [
      " 10%|▉         | 288/2961 [01:44<16:07,  2.76it/s]"
     ]
    },
    {
     "name": "stdout",
     "output_type": "stream",
     "text": [
      "Error with file: /media/ubuntu/6156e08b-fdb1-4cde-964e-431f74a6078e/Files/LLP_DATA/Original_DATA/2025-04-23-2HDM/LLP_data/B_2HDM/mass_6.31e+00_ctau_7.75e-05_br_1.00e+00_seed_979224.csv\n",
      "Error message: No columns to parse from file\n"
     ]
    },
    {
     "name": "stderr",
     "output_type": "stream",
     "text": [
      " 10%|▉         | 290/2961 [01:44<12:44,  3.49it/s]"
     ]
    },
    {
     "name": "stdout",
     "output_type": "stream",
     "text": [
      "Error with file: /media/ubuntu/6156e08b-fdb1-4cde-964e-431f74a6078e/Files/LLP_DATA/Original_DATA/2025-04-23-2HDM/LLP_data/B_2HDM/mass_6.31e+00_ctau_6.34e+09_br_1.00e+00_seed_979224.csv\n",
      "Error message: No columns to parse from file\n"
     ]
    },
    {
     "name": "stderr",
     "output_type": "stream",
     "text": [
      " 10%|▉         | 296/2961 [01:46<15:15,  2.91it/s]"
     ]
    },
    {
     "name": "stdout",
     "output_type": "stream",
     "text": [
      "Error with file: /media/ubuntu/6156e08b-fdb1-4cde-964e-431f74a6078e/Files/LLP_DATA/Original_DATA/2025-04-23-2HDM/LLP_data/B_2HDM/mass_6.31e+00_ctau_1.26e+01_br_1.00e+00_seed_979224.csv\n",
      "Error message: No columns to parse from file\n"
     ]
    },
    {
     "name": "stderr",
     "output_type": "stream",
     "text": [
      " 10%|█         | 300/2961 [01:47<14:26,  3.07it/s]"
     ]
    },
    {
     "name": "stdout",
     "output_type": "stream",
     "text": [
      "Error with file: /media/ubuntu/6156e08b-fdb1-4cde-964e-431f74a6078e/Files/LLP_DATA/Original_DATA/2025-04-23-2HDM/LLP_data/B_2HDM/mass_1.00e+01_ctau_7.97e+01_br_1.00e+00_seed_979224.csv\n",
      "Error message: No columns to parse from file\n"
     ]
    },
    {
     "name": "stderr",
     "output_type": "stream",
     "text": [
      " 10%|█         | 306/2961 [01:49<16:52,  2.62it/s]"
     ]
    },
    {
     "name": "stdout",
     "output_type": "stream",
     "text": [
      "Error with file: /media/ubuntu/6156e08b-fdb1-4cde-964e-431f74a6078e/Files/LLP_DATA/Original_DATA/2025-04-23-2HDM/LLP_data/B_2HDM/mass_5.01e+00_ctau_4.41e-02_br_1.00e+00_seed_979224.csv\n",
      "Error message: No columns to parse from file\n"
     ]
    },
    {
     "name": "stderr",
     "output_type": "stream",
     "text": [
      " 10%|█         | 310/2961 [01:51<15:08,  2.92it/s]"
     ]
    },
    {
     "name": "stdout",
     "output_type": "stream",
     "text": [
      "Error with file: /media/ubuntu/6156e08b-fdb1-4cde-964e-431f74a6078e/Files/LLP_DATA/Original_DATA/2025-04-23-2HDM/LLP_data/B_2HDM/mass_5.01e+00_ctau_2.01e-05_br_1.00e+00_seed_979224.csv\n",
      "Error message: No columns to parse from file\n"
     ]
    },
    {
     "name": "stderr",
     "output_type": "stream",
     "text": [
      " 11%|█         | 312/2961 [01:52<21:39,  2.04it/s]"
     ]
    },
    {
     "name": "stdout",
     "output_type": "stream",
     "text": [
      "Error with file: /media/ubuntu/6156e08b-fdb1-4cde-964e-431f74a6078e/Files/LLP_DATA/Original_DATA/2025-04-23-2HDM/LLP_data/B_2HDM/mass_7.94e+00_ctau_2.52e+08_br_1.00e+00_seed_979224.csv\n",
      "Error message: No columns to parse from file\n"
     ]
    },
    {
     "name": "stderr",
     "output_type": "stream",
     "text": [
      " 11%|█         | 320/2961 [01:56<25:01,  1.76it/s]"
     ]
    },
    {
     "name": "stdout",
     "output_type": "stream",
     "text": [
      "Error with file: /media/ubuntu/6156e08b-fdb1-4cde-964e-431f74a6078e/Files/LLP_DATA/Original_DATA/2025-04-23-2HDM/LLP_data/B_2HDM/mass_5.01e+00_ctau_2.01e+05_br_1.00e+00_seed_979224.csv\n",
      "Error message: No columns to parse from file\n"
     ]
    },
    {
     "name": "stderr",
     "output_type": "stream",
     "text": [
      " 11%|█         | 331/2961 [02:00<17:57,  2.44it/s]"
     ]
    },
    {
     "name": "stdout",
     "output_type": "stream",
     "text": [
      "Error with file: /media/ubuntu/6156e08b-fdb1-4cde-964e-431f74a6078e/Files/LLP_DATA/Original_DATA/2025-04-23-2HDM/LLP_data/B_2HDM/mass_6.31e+00_ctau_5.04e+09_br_1.00e+00_seed_979224.csv\n",
      "Error message: No columns to parse from file\n",
      "Error with file: /media/ubuntu/6156e08b-fdb1-4cde-964e-431f74a6078e/Files/LLP_DATA/Original_DATA/2025-04-23-2HDM/LLP_data/B_2HDM/mass_6.31e+00_ctau_2.00e+09_br_1.00e+00_seed_979224.csv\n",
      "Error message: No columns to parse from file\n"
     ]
    },
    {
     "name": "stderr",
     "output_type": "stream",
     "text": [
      " 11%|█▏        | 334/2961 [02:00<11:03,  3.96it/s]"
     ]
    },
    {
     "name": "stdout",
     "output_type": "stream",
     "text": [
      "Error with file: /media/ubuntu/6156e08b-fdb1-4cde-964e-431f74a6078e/Files/LLP_DATA/Original_DATA/2025-04-23-2HDM/LLP_data/B_2HDM/mass_1.00e+01_ctau_5.03e+06_br_1.00e+00_seed_979224.csv\n",
      "Error message: No columns to parse from file\n"
     ]
    },
    {
     "name": "stderr",
     "output_type": "stream",
     "text": [
      " 11%|█▏        | 336/2961 [02:01<09:59,  4.38it/s]"
     ]
    },
    {
     "name": "stdout",
     "output_type": "stream",
     "text": [
      "Error with file: /media/ubuntu/6156e08b-fdb1-4cde-964e-431f74a6078e/Files/LLP_DATA/Original_DATA/2025-04-23-2HDM/LLP_data/B_2HDM/mass_1.00e+01_ctau_3.17e+00_br_1.00e+00_seed_979224.csv\n",
      "Error message: No columns to parse from file\n"
     ]
    },
    {
     "name": "stderr",
     "output_type": "stream",
     "text": [
      " 12%|█▏        | 355/2961 [02:08<19:38,  2.21it/s]"
     ]
    },
    {
     "name": "stdout",
     "output_type": "stream",
     "text": [
      "Error with file: /media/ubuntu/6156e08b-fdb1-4cde-964e-431f74a6078e/Files/LLP_DATA/Original_DATA/2025-04-23-2HDM/LLP_data/B_2HDM/mass_7.94e+00_ctau_2.38e-05_br_1.00e+00_seed_979224.csv\n",
      "Error message: No columns to parse from file\n"
     ]
    },
    {
     "name": "stderr",
     "output_type": "stream",
     "text": [
      " 12%|█▏        | 357/2961 [02:10<25:49,  1.68it/s]"
     ]
    },
    {
     "name": "stdout",
     "output_type": "stream",
     "text": [
      "Error with file: /media/ubuntu/6156e08b-fdb1-4cde-964e-431f74a6078e/Files/LLP_DATA/Original_DATA/2025-04-23-2HDM/LLP_data/B_2HDM/mass_5.01e+00_ctau_7.98e+07_br_1.00e+00_seed_979224.csv\n",
      "Error message: No columns to parse from file\n"
     ]
    },
    {
     "name": "stderr",
     "output_type": "stream",
     "text": [
      " 13%|█▎        | 376/2961 [02:18<16:06,  2.68it/s]"
     ]
    },
    {
     "name": "stdout",
     "output_type": "stream",
     "text": [
      "Error with file: /media/ubuntu/6156e08b-fdb1-4cde-964e-431f74a6078e/Files/LLP_DATA/Original_DATA/2025-04-23-2HDM/LLP_data/B_2HDM/mass_1.00e+01_ctau_1.26e-01_br_1.00e+00_seed_979224.csv\n",
      "Error message: No columns to parse from file\n"
     ]
    },
    {
     "name": "stderr",
     "output_type": "stream",
     "text": [
      " 13%|█▎        | 386/2961 [02:21<16:06,  2.66it/s]"
     ]
    },
    {
     "name": "stdout",
     "output_type": "stream",
     "text": [
      "Error with file: /media/ubuntu/6156e08b-fdb1-4cde-964e-431f74a6078e/Files/LLP_DATA/Original_DATA/2025-04-23-2HDM/LLP_data/B_2HDM/mass_6.31e+00_ctau_1.59e+02_br_1.00e+00_seed_979224.csv\n",
      "Error message: No columns to parse from file\n"
     ]
    },
    {
     "name": "stderr",
     "output_type": "stream",
     "text": [
      " 13%|█▎        | 391/2961 [02:23<15:31,  2.76it/s]"
     ]
    },
    {
     "name": "stdout",
     "output_type": "stream",
     "text": [
      "Error with file: /media/ubuntu/6156e08b-fdb1-4cde-964e-431f74a6078e/Files/LLP_DATA/Original_DATA/2025-04-23-2HDM/LLP_data/B_2HDM/mass_5.01e+00_ctau_1.59e+08_br_1.00e+00_seed_979224.csv\n",
      "Error message: No columns to parse from file\n"
     ]
    },
    {
     "name": "stderr",
     "output_type": "stream",
     "text": [
      " 13%|█▎        | 395/2961 [02:24<14:15,  3.00it/s]"
     ]
    },
    {
     "name": "stdout",
     "output_type": "stream",
     "text": [
      "Error with file: /media/ubuntu/6156e08b-fdb1-4cde-964e-431f74a6078e/Files/LLP_DATA/Original_DATA/2025-04-23-2HDM/LLP_data/B_2HDM/mass_1.00e+01_ctau_2.00e+09_br_1.00e+00_seed_979224.csv\n",
      "Error message: No columns to parse from file\n"
     ]
    },
    {
     "name": "stderr",
     "output_type": "stream",
     "text": [
      " 13%|█▎        | 398/2961 [02:25<16:10,  2.64it/s]"
     ]
    },
    {
     "name": "stdout",
     "output_type": "stream",
     "text": [
      "Error with file: /media/ubuntu/6156e08b-fdb1-4cde-964e-431f74a6078e/Files/LLP_DATA/Original_DATA/2025-04-23-2HDM/LLP_data/B_2HDM/mass_6.31e+00_ctau_5.15e-03_br_1.00e+00_seed_979224.csv\n",
      "Error message: No columns to parse from file\n"
     ]
    },
    {
     "name": "stderr",
     "output_type": "stream",
     "text": [
      " 14%|█▎        | 400/2961 [02:25<13:15,  3.22it/s]"
     ]
    },
    {
     "name": "stdout",
     "output_type": "stream",
     "text": [
      "Error with file: /media/ubuntu/6156e08b-fdb1-4cde-964e-431f74a6078e/Files/LLP_DATA/Original_DATA/2025-04-23-2HDM/LLP_data/B_2HDM/mass_6.31e+00_ctau_1.26e+08_br_1.00e+00_seed_979224.csv\n",
      "Error message: No columns to parse from file\n"
     ]
    },
    {
     "name": "stderr",
     "output_type": "stream",
     "text": [
      " 14%|█▎        | 407/2961 [02:29<19:03,  2.23it/s]"
     ]
    },
    {
     "name": "stdout",
     "output_type": "stream",
     "text": [
      "Error with file: /media/ubuntu/6156e08b-fdb1-4cde-964e-431f74a6078e/Files/LLP_DATA/Original_DATA/2025-04-23-2HDM/LLP_data/B_2HDM/mass_6.31e+00_ctau_2.00e+01_br_1.00e+00_seed_979224.csv\n",
      "Error message: No columns to parse from file\n"
     ]
    },
    {
     "name": "stderr",
     "output_type": "stream",
     "text": [
      " 14%|█▍        | 415/2961 [02:32<17:39,  2.40it/s]"
     ]
    },
    {
     "name": "stdout",
     "output_type": "stream",
     "text": [
      "Error with file: /media/ubuntu/6156e08b-fdb1-4cde-964e-431f74a6078e/Files/LLP_DATA/Original_DATA/2025-04-23-2HDM/LLP_data/B_2HDM/mass_1.00e+01_ctau_1.26e+01_br_1.00e+00_seed_979224.csv\n",
      "Error message: No columns to parse from file\n"
     ]
    },
    {
     "name": "stderr",
     "output_type": "stream",
     "text": [
      " 14%|█▍        | 422/2961 [02:35<15:39,  2.70it/s]"
     ]
    },
    {
     "name": "stdout",
     "output_type": "stream",
     "text": [
      "Error with file: /media/ubuntu/6156e08b-fdb1-4cde-964e-431f74a6078e/Files/LLP_DATA/Original_DATA/2025-04-23-2HDM/LLP_data/B_2HDM/mass_6.31e+00_ctau_1.52e-04_br_1.00e+00_seed_979224.csv\n",
      "Error message: No columns to parse from file\n"
     ]
    },
    {
     "name": "stderr",
     "output_type": "stream",
     "text": [
      " 14%|█▍        | 424/2961 [02:35<12:09,  3.48it/s]"
     ]
    },
    {
     "name": "stdout",
     "output_type": "stream",
     "text": [
      "Error with file: /media/ubuntu/6156e08b-fdb1-4cde-964e-431f74a6078e/Files/LLP_DATA/Original_DATA/2025-04-23-2HDM/LLP_data/B_2HDM/mass_7.94e+00_ctau_4.00e-01_br_1.00e+00_seed_979224.csv\n",
      "Error message: No columns to parse from file\n",
      "Error with file: /media/ubuntu/6156e08b-fdb1-4cde-964e-431f74a6078e/Files/LLP_DATA/Original_DATA/2025-04-23-2HDM/LLP_data/B_2HDM/mass_5.01e+00_ctau_4.00e+06_br_1.00e+00_seed_979224.csv\n",
      "Error message: No columns to parse from file\n"
     ]
    },
    {
     "name": "stderr",
     "output_type": "stream",
     "text": [
      " 14%|█▍        | 427/2961 [02:35<08:43,  4.84it/s]"
     ]
    },
    {
     "name": "stdout",
     "output_type": "stream",
     "text": [
      "Error with file: /media/ubuntu/6156e08b-fdb1-4cde-964e-431f74a6078e/Files/LLP_DATA/Original_DATA/2025-04-23-2HDM/LLP_data/B_2HDM/mass_6.31e+00_ctau_1.26e+06_br_1.00e+00_seed_979224.csv\n",
      "Error message: No columns to parse from file\n"
     ]
    },
    {
     "name": "stderr",
     "output_type": "stream",
     "text": [
      " 15%|█▍        | 430/2961 [02:36<09:41,  4.35it/s]"
     ]
    },
    {
     "name": "stdout",
     "output_type": "stream",
     "text": [
      "Error with file: /media/ubuntu/6156e08b-fdb1-4cde-964e-431f74a6078e/Files/LLP_DATA/Original_DATA/2025-04-23-2HDM/LLP_data/B_2HDM/mass_1.00e+01_ctau_2.52e+08_br_1.00e+00_seed_979224.csv\n",
      "Error message: No columns to parse from file\n",
      "Error with file: /media/ubuntu/6156e08b-fdb1-4cde-964e-431f74a6078e/Files/LLP_DATA/Original_DATA/2025-04-23-2HDM/LLP_data/B_2HDM/mass_5.01e+00_ctau_7.56e-02_br_1.00e+00_seed_979224.csv\n",
      "Error message: No columns to parse from file\n"
     ]
    },
    {
     "name": "stderr",
     "output_type": "stream",
     "text": [
      " 15%|█▍        | 439/2961 [02:39<15:30,  2.71it/s]"
     ]
    },
    {
     "name": "stdout",
     "output_type": "stream",
     "text": [
      "Error with file: /media/ubuntu/6156e08b-fdb1-4cde-964e-431f74a6078e/Files/LLP_DATA/Original_DATA/2025-04-23-2HDM/LLP_data/B_2HDM/mass_5.01e+00_ctau_1.59e+00_br_1.00e+00_seed_979224.csv\n",
      "Error message: No columns to parse from file\n",
      "Error with file: /media/ubuntu/6156e08b-fdb1-4cde-964e-431f74a6078e/Files/LLP_DATA/Original_DATA/2025-04-23-2HDM/LLP_data/B_2HDM/mass_5.01e+00_ctau_1.27e+09_br_1.00e+00_seed_979224.csv\n",
      "Error message: No columns to parse from file\n"
     ]
    },
    {
     "name": "stderr",
     "output_type": "stream",
     "text": [
      " 15%|█▍        | 443/2961 [02:40<11:54,  3.52it/s]"
     ]
    },
    {
     "name": "stdout",
     "output_type": "stream",
     "text": [
      "Error with file: /media/ubuntu/6156e08b-fdb1-4cde-964e-431f74a6078e/Files/LLP_DATA/Original_DATA/2025-04-23-2HDM/LLP_data/B_2HDM/mass_6.31e+00_ctau_2.52e+00_br_1.00e+00_seed_979224.csv\n",
      "Error message: No columns to parse from file\n",
      "Error with file: /media/ubuntu/6156e08b-fdb1-4cde-964e-431f74a6078e/Files/LLP_DATA/Original_DATA/2025-04-23-2HDM/LLP_data/B_2HDM/mass_5.01e+00_ctau_2.34e-02_br_1.00e+00_seed_979224.csv\n",
      "Error message: No columns to parse from file\n"
     ]
    },
    {
     "name": "stderr",
     "output_type": "stream",
     "text": [
      " 15%|█▌        | 450/2961 [02:43<17:12,  2.43it/s]"
     ]
    },
    {
     "name": "stdout",
     "output_type": "stream",
     "text": [
      "Error with file: /media/ubuntu/6156e08b-fdb1-4cde-964e-431f74a6078e/Files/LLP_DATA/Original_DATA/2025-04-23-2HDM/LLP_data/B_2HDM/mass_1.00e+01_ctau_6.33e+03_br_1.00e+00_seed_979224.csv\n",
      "Error message: No columns to parse from file\n",
      "Error with file: /media/ubuntu/6156e08b-fdb1-4cde-964e-431f74a6078e/Files/LLP_DATA/Original_DATA/2025-04-23-2HDM/LLP_data/B_2HDM/mass_7.94e+00_ctau_4.00e+02_br_1.00e+00_seed_979224.csv\n",
      "Error message: No columns to parse from file\n",
      "Error with file: /media/ubuntu/6156e08b-fdb1-4cde-964e-431f74a6078e/Files/LLP_DATA/Original_DATA/2025-04-23-2HDM/LLP_data/B_2HDM/mass_7.94e+00_ctau_3.12e-02_br_1.00e+00_seed_979224.csv\n",
      "Error message: No columns to parse from file\n",
      "Error with file: /media/ubuntu/6156e08b-fdb1-4cde-964e-431f74a6078e/Files/LLP_DATA/Original_DATA/2025-04-23-2HDM/LLP_data/B_2HDM/mass_6.31e+00_ctau_4.00e+08_br_1.00e+00_seed_979224.csv\n",
      "Error message: No columns to parse from file\n",
      "Error with file: /media/ubuntu/6156e08b-fdb1-4cde-964e-431f74a6078e/Files/LLP_DATA/Original_DATA/2025-04-23-2HDM/LLP_data/B_2HDM/mass_7.94e+00_ctau_3.18e+06_br_1.00e+00_seed_979224.csv\n",
      "Error message: No columns to parse from file\n"
     ]
    },
    {
     "name": "stderr",
     "output_type": "stream",
     "text": [
      " 15%|█▌        | 458/2961 [02:44<14:00,  2.98it/s]"
     ]
    },
    {
     "name": "stdout",
     "output_type": "stream",
     "text": [
      "Error with file: /media/ubuntu/6156e08b-fdb1-4cde-964e-431f74a6078e/Files/LLP_DATA/Original_DATA/2025-04-23-2HDM/LLP_data/B_2HDM/mass_7.94e+00_ctau_3.18e+09_br_1.00e+00_seed_979224.csv\n",
      "Error message: No columns to parse from file\n"
     ]
    },
    {
     "name": "stderr",
     "output_type": "stream",
     "text": [
      " 16%|█▌        | 471/2961 [02:50<16:24,  2.53it/s]"
     ]
    },
    {
     "name": "stdout",
     "output_type": "stream",
     "text": [
      "Error with file: /media/ubuntu/6156e08b-fdb1-4cde-964e-431f74a6078e/Files/LLP_DATA/Original_DATA/2025-04-23-2HDM/LLP_data/B_2HDM/mass_7.94e+00_ctau_7.98e+02_br_1.00e+00_seed_979224.csv\n",
      "Error message: No columns to parse from file\n",
      "Error with file: /media/ubuntu/6156e08b-fdb1-4cde-964e-431f74a6078e/Files/LLP_DATA/Original_DATA/2025-04-23-2HDM/LLP_data/B_2HDM/mass_5.01e+00_ctau_2.01e+02_br_1.00e+00_seed_979224.csv\n",
      "Error message: No columns to parse from file\n"
     ]
    },
    {
     "name": "stderr",
     "output_type": "stream",
     "text": [
      " 16%|█▋        | 488/2961 [02:56<25:39,  1.61it/s]"
     ]
    },
    {
     "name": "stdout",
     "output_type": "stream",
     "text": [
      "Error with file: /media/ubuntu/6156e08b-fdb1-4cde-964e-431f74a6078e/Files/LLP_DATA/Original_DATA/2025-04-23-2HDM/LLP_data/B_2HDM/mass_7.94e+00_ctau_3.18e+03_br_1.00e+00_seed_979224.csv\n",
      "Error message: No columns to parse from file\n"
     ]
    },
    {
     "name": "stderr",
     "output_type": "stream",
     "text": [
      " 17%|█▋        | 490/2961 [02:58<29:58,  1.37it/s]"
     ]
    },
    {
     "name": "stdout",
     "output_type": "stream",
     "text": [
      "Error with file: /media/ubuntu/6156e08b-fdb1-4cde-964e-431f74a6078e/Files/LLP_DATA/Original_DATA/2025-04-23-2HDM/LLP_data/B_2HDM/mass_7.94e+00_ctau_2.00e-01_br_1.00e+00_seed_979224.csv\n",
      "Error message: No columns to parse from file\n"
     ]
    },
    {
     "name": "stderr",
     "output_type": "stream",
     "text": [
      " 17%|█▋        | 492/2961 [02:59<23:07,  1.78it/s]"
     ]
    },
    {
     "name": "stdout",
     "output_type": "stream",
     "text": [
      "Error with file: /media/ubuntu/6156e08b-fdb1-4cde-964e-431f74a6078e/Files/LLP_DATA/Original_DATA/2025-04-23-2HDM/LLP_data/B_2HDM/mass_5.01e+00_ctau_3.18e+03_br_1.00e+00_seed_979224.csv\n",
      "Error message: No columns to parse from file\n"
     ]
    },
    {
     "name": "stderr",
     "output_type": "stream",
     "text": [
      " 17%|█▋        | 495/2961 [02:59<17:04,  2.41it/s]"
     ]
    },
    {
     "name": "stdout",
     "output_type": "stream",
     "text": [
      "Error with file: /media/ubuntu/6156e08b-fdb1-4cde-964e-431f74a6078e/Files/LLP_DATA/Original_DATA/2025-04-23-2HDM/LLP_data/B_2HDM/mass_1.00e+01_ctau_6.11e-05_br_1.00e+00_seed_979224.csv\n",
      "Error message: No columns to parse from file\n"
     ]
    },
    {
     "name": "stderr",
     "output_type": "stream",
     "text": [
      " 17%|█▋        | 497/2961 [03:00<14:21,  2.86it/s]"
     ]
    },
    {
     "name": "stdout",
     "output_type": "stream",
     "text": [
      "Error with file: /media/ubuntu/6156e08b-fdb1-4cde-964e-431f74a6078e/Files/LLP_DATA/Original_DATA/2025-04-23-2HDM/LLP_data/B_2HDM/mass_1.00e+01_ctau_4.00e+00_br_1.00e+00_seed_979224.csv\n",
      "Error message: No columns to parse from file\n"
     ]
    },
    {
     "name": "stderr",
     "output_type": "stream",
     "text": [
      " 17%|█▋        | 501/2961 [03:01<13:32,  3.03it/s]"
     ]
    },
    {
     "name": "stdout",
     "output_type": "stream",
     "text": [
      "Error with file: /media/ubuntu/6156e08b-fdb1-4cde-964e-431f74a6078e/Files/LLP_DATA/Original_DATA/2025-04-23-2HDM/LLP_data/B_2HDM/mass_6.31e+00_ctau_2.00e+07_br_1.00e+00_seed_979224.csv\n",
      "Error message: No columns to parse from file\n"
     ]
    },
    {
     "name": "stderr",
     "output_type": "stream",
     "text": [
      " 17%|█▋        | 503/2961 [03:01<11:11,  3.66it/s]"
     ]
    },
    {
     "name": "stdout",
     "output_type": "stream",
     "text": [
      "Error with file: /media/ubuntu/6156e08b-fdb1-4cde-964e-431f74a6078e/Files/LLP_DATA/Original_DATA/2025-04-23-2HDM/LLP_data/B_2HDM/mass_5.01e+00_ctau_9.88e-06_br_1.00e+00_seed_979224.csv\n",
      "Error message: No columns to parse from file\n"
     ]
    },
    {
     "name": "stderr",
     "output_type": "stream",
     "text": [
      " 18%|█▊        | 521/2961 [03:08<15:47,  2.58it/s]"
     ]
    },
    {
     "name": "stdout",
     "output_type": "stream",
     "text": [
      "Error with file: /media/ubuntu/6156e08b-fdb1-4cde-964e-431f74a6078e/Files/LLP_DATA/Original_DATA/2025-04-23-2HDM/LLP_data/B_2HDM/mass_7.94e+00_ctau_5.00e-02_br_1.00e+00_seed_979224.csv\n",
      "Error message: No columns to parse from file\n"
     ]
    },
    {
     "name": "stderr",
     "output_type": "stream",
     "text": [
      " 18%|█▊        | 524/2961 [03:09<13:07,  3.09it/s]"
     ]
    },
    {
     "name": "stdout",
     "output_type": "stream",
     "text": [
      "Error with file: /media/ubuntu/6156e08b-fdb1-4cde-964e-431f74a6078e/Files/LLP_DATA/Original_DATA/2025-04-23-2HDM/LLP_data/B_2HDM/mass_6.31e+00_ctau_1.59e+09_br_1.00e+00_seed_979224.csv\n",
      "Error message: No columns to parse from file\n"
     ]
    },
    {
     "name": "stderr",
     "output_type": "stream",
     "text": [
      " 18%|█▊        | 531/2961 [03:12<14:40,  2.76it/s]"
     ]
    },
    {
     "name": "stdout",
     "output_type": "stream",
     "text": [
      "Error with file: /media/ubuntu/6156e08b-fdb1-4cde-964e-431f74a6078e/Files/LLP_DATA/Original_DATA/2025-04-23-2HDM/LLP_data/B_2HDM/mass_6.31e+00_ctau_1.26e-01_br_1.00e+00_seed_979224.csv\n",
      "Error message: No columns to parse from file\n"
     ]
    },
    {
     "name": "stderr",
     "output_type": "stream",
     "text": [
      " 18%|█▊        | 535/2961 [03:13<15:55,  2.54it/s]"
     ]
    },
    {
     "name": "stdout",
     "output_type": "stream",
     "text": [
      "Error with file: /media/ubuntu/6156e08b-fdb1-4cde-964e-431f74a6078e/Files/LLP_DATA/Original_DATA/2025-04-23-2HDM/LLP_data/B_2HDM/mass_7.94e+00_ctau_1.26e+04_br_1.00e+00_seed_979224.csv\n",
      "Error message: No columns to parse from file\n",
      "Error with file: /media/ubuntu/6156e08b-fdb1-4cde-964e-431f74a6078e/Files/LLP_DATA/Original_DATA/2025-04-23-2HDM/LLP_data/B_2HDM/mass_6.31e+00_ctau_6.34e+01_br_1.00e+00_seed_979224.csv\n",
      "Error message: No columns to parse from file\n"
     ]
    },
    {
     "name": "stderr",
     "output_type": "stream",
     "text": [
      " 18%|█▊        | 538/2961 [03:13<10:19,  3.91it/s]"
     ]
    },
    {
     "name": "stdout",
     "output_type": "stream",
     "text": [
      "Error with file: /media/ubuntu/6156e08b-fdb1-4cde-964e-431f74a6078e/Files/LLP_DATA/Original_DATA/2025-04-23-2HDM/LLP_data/B_2HDM/mass_6.31e+00_ctau_3.18e-01_br_1.00e+00_seed_979224.csv\n",
      "Error message: No columns to parse from file\n"
     ]
    },
    {
     "name": "stderr",
     "output_type": "stream",
     "text": [
      " 18%|█▊        | 542/2961 [03:16<22:48,  1.77it/s]"
     ]
    },
    {
     "name": "stdout",
     "output_type": "stream",
     "text": [
      "Error with file: /media/ubuntu/6156e08b-fdb1-4cde-964e-431f74a6078e/Files/LLP_DATA/Original_DATA/2025-04-23-2HDM/LLP_data/B_2HDM/mass_1.00e+01_ctau_6.33e+05_br_1.00e+00_seed_979224.csv\n",
      "Error message: No columns to parse from file\n"
     ]
    },
    {
     "name": "stderr",
     "output_type": "stream",
     "text": [
      " 18%|█▊        | 544/2961 [03:16<17:09,  2.35it/s]"
     ]
    },
    {
     "name": "stdout",
     "output_type": "stream",
     "text": [
      "Error with file: /media/ubuntu/6156e08b-fdb1-4cde-964e-431f74a6078e/Files/LLP_DATA/Original_DATA/2025-04-23-2HDM/LLP_data/B_2HDM/mass_1.00e+01_ctau_5.03e+03_br_1.00e+00_seed_979224.csv\n",
      "Error message: No columns to parse from file\n"
     ]
    },
    {
     "name": "stderr",
     "output_type": "stream",
     "text": [
      " 18%|█▊        | 547/2961 [03:18<19:08,  2.10it/s]"
     ]
    },
    {
     "name": "stdout",
     "output_type": "stream",
     "text": [
      "Error with file: /media/ubuntu/6156e08b-fdb1-4cde-964e-431f74a6078e/Files/LLP_DATA/Original_DATA/2025-04-23-2HDM/LLP_data/B_2HDM/mass_7.94e+00_ctau_1.26e+02_br_1.00e+00_seed_979224.csv\n",
      "Error message: No columns to parse from file\n"
     ]
    },
    {
     "name": "stderr",
     "output_type": "stream",
     "text": [
      " 19%|█▉        | 556/2961 [03:21<15:18,  2.62it/s]"
     ]
    },
    {
     "name": "stdout",
     "output_type": "stream",
     "text": [
      "Error with file: /media/ubuntu/6156e08b-fdb1-4cde-964e-431f74a6078e/Files/LLP_DATA/Original_DATA/2025-04-23-2HDM/LLP_data/B_2HDM/mass_5.01e+00_ctau_2.52e+00_br_1.00e+00_seed_979224.csv\n",
      "Error message: No columns to parse from file\n",
      "Error with file: /media/ubuntu/6156e08b-fdb1-4cde-964e-431f74a6078e/Files/LLP_DATA/Original_DATA/2025-04-23-2HDM/LLP_data/B_2HDM/mass_1.00e+01_ctau_6.33e+01_br_1.00e+00_seed_979224.csv\n",
      "Error message: No columns to parse from file\n"
     ]
    },
    {
     "name": "stderr",
     "output_type": "stream",
     "text": [
      " 19%|█▉        | 559/2961 [03:21<09:36,  4.17it/s]"
     ]
    },
    {
     "name": "stdout",
     "output_type": "stream",
     "text": [
      "Error with file: /media/ubuntu/6156e08b-fdb1-4cde-964e-431f74a6078e/Files/LLP_DATA/Original_DATA/2025-04-23-2HDM/LLP_data/B_2HDM/mass_1.00e+01_ctau_1.00e+02_br_1.00e+00_seed_979224.csv\n",
      "Error message: No columns to parse from file\n"
     ]
    },
    {
     "name": "stderr",
     "output_type": "stream",
     "text": [
      " 19%|█▉        | 575/2961 [03:27<15:03,  2.64it/s]"
     ]
    },
    {
     "name": "stdout",
     "output_type": "stream",
     "text": [
      "Error with file: /media/ubuntu/6156e08b-fdb1-4cde-964e-431f74a6078e/Files/LLP_DATA/Original_DATA/2025-04-23-2HDM/LLP_data/B_2HDM/mass_1.00e+01_ctau_4.00e-01_br_1.00e+00_seed_979224.csv\n",
      "Error message: No columns to parse from file\n",
      "Error with file: /media/ubuntu/6156e08b-fdb1-4cde-964e-431f74a6078e/Files/LLP_DATA/Original_DATA/2025-04-23-2HDM/LLP_data/B_2HDM/mass_1.00e+01_ctau_2.00e+03_br_1.00e+00_seed_979224.csv\n",
      "Error message: No columns to parse from file\n"
     ]
    },
    {
     "name": "stderr",
     "output_type": "stream",
     "text": [
      " 20%|█▉        | 580/2961 [03:28<11:46,  3.37it/s]"
     ]
    },
    {
     "name": "stdout",
     "output_type": "stream",
     "text": [
      "Error with file: /media/ubuntu/6156e08b-fdb1-4cde-964e-431f74a6078e/Files/LLP_DATA/Original_DATA/2025-04-23-2HDM/LLP_data/B_2HDM/mass_7.94e+00_ctau_2.72e-08_br_1.00e+00_seed_979224.csv\n",
      "Error message: No columns to parse from file\n"
     ]
    },
    {
     "name": "stderr",
     "output_type": "stream",
     "text": [
      " 20%|█▉        | 584/2961 [03:30<13:52,  2.86it/s]"
     ]
    },
    {
     "name": "stdout",
     "output_type": "stream",
     "text": [
      "Error with file: /media/ubuntu/6156e08b-fdb1-4cde-964e-431f74a6078e/Files/LLP_DATA/Original_DATA/2025-04-23-2HDM/LLP_data/B_2HDM/mass_1.00e+01_ctau_9.70e-03_br_1.00e+00_seed_979224.csv\n",
      "Error message: No columns to parse from file\n"
     ]
    },
    {
     "name": "stderr",
     "output_type": "stream",
     "text": [
      " 20%|█▉        | 589/2961 [03:33<30:18,  1.30it/s]"
     ]
    },
    {
     "name": "stdout",
     "output_type": "stream",
     "text": [
      "Error with file: /media/ubuntu/6156e08b-fdb1-4cde-964e-431f74a6078e/Files/LLP_DATA/Original_DATA/2025-04-23-2HDM/LLP_data/B_2HDM/mass_1.00e+01_ctau_6.50e-04_br_1.00e+00_seed_979224.csv\n",
      "Error message: No columns to parse from file\n",
      "Error with file: /media/ubuntu/6156e08b-fdb1-4cde-964e-431f74a6078e/Files/LLP_DATA/Original_DATA/2025-04-23-2HDM/LLP_data/B_2HDM/mass_5.01e+00_ctau_2.01e+04_br_1.00e+00_seed_979224.csv\n",
      "Error message: No columns to parse from file\n"
     ]
    },
    {
     "name": "stderr",
     "output_type": "stream",
     "text": [
      " 20%|█▉        | 592/2961 [03:34<21:50,  1.81it/s]"
     ]
    },
    {
     "name": "stdout",
     "output_type": "stream",
     "text": [
      "Error with file: /media/ubuntu/6156e08b-fdb1-4cde-964e-431f74a6078e/Files/LLP_DATA/Original_DATA/2025-04-23-2HDM/LLP_data/B_2HDM/mass_1.00e+01_ctau_1.00e+08_br_1.00e+00_seed_979224.csv\n",
      "Error message: No columns to parse from file\n"
     ]
    },
    {
     "name": "stderr",
     "output_type": "stream",
     "text": [
      " 20%|██        | 594/2961 [03:35<17:02,  2.32it/s]"
     ]
    },
    {
     "name": "stdout",
     "output_type": "stream",
     "text": [
      "Error with file: /media/ubuntu/6156e08b-fdb1-4cde-964e-431f74a6078e/Files/LLP_DATA/Original_DATA/2025-04-23-2HDM/LLP_data/B_2HDM/mass_1.00e+01_ctau_8.02e-06_br_1.00e+00_seed_979224.csv\n",
      "Error message: No columns to parse from file\n"
     ]
    },
    {
     "name": "stderr",
     "output_type": "stream",
     "text": [
      " 20%|██        | 599/2961 [03:36<14:26,  2.73it/s]"
     ]
    },
    {
     "name": "stdout",
     "output_type": "stream",
     "text": [
      "Error with file: /media/ubuntu/6156e08b-fdb1-4cde-964e-431f74a6078e/Files/LLP_DATA/Original_DATA/2025-04-23-2HDM/LLP_data/B_2HDM/mass_6.31e+00_ctau_3.18e+09_br_1.00e+00_seed_979224.csv\n",
      "Error message: No columns to parse from file\n"
     ]
    },
    {
     "name": "stderr",
     "output_type": "stream",
     "text": [
      " 20%|██        | 604/2961 [03:38<18:50,  2.08it/s]"
     ]
    },
    {
     "name": "stdout",
     "output_type": "stream",
     "text": [
      "Error with file: /media/ubuntu/6156e08b-fdb1-4cde-964e-431f74a6078e/Files/LLP_DATA/Original_DATA/2025-04-23-2HDM/LLP_data/B_2HDM/mass_7.94e+00_ctau_2.00e+08_br_1.00e+00_seed_979224.csv\n",
      "Error message: No columns to parse from file\n"
     ]
    },
    {
     "name": "stderr",
     "output_type": "stream",
     "text": [
      " 21%|██        | 615/2961 [03:42<15:04,  2.59it/s]"
     ]
    },
    {
     "name": "stdout",
     "output_type": "stream",
     "text": [
      "Error with file: /media/ubuntu/6156e08b-fdb1-4cde-964e-431f74a6078e/Files/LLP_DATA/Original_DATA/2025-04-23-2HDM/LLP_data/B_2HDM/mass_6.31e+00_ctau_1.00e+06_br_1.00e+00_seed_979224.csv\n",
      "Error message: No columns to parse from file\n"
     ]
    },
    {
     "name": "stderr",
     "output_type": "stream",
     "text": [
      " 21%|██        | 617/2961 [03:43<11:42,  3.34it/s]"
     ]
    },
    {
     "name": "stdout",
     "output_type": "stream",
     "text": [
      "Error with file: /media/ubuntu/6156e08b-fdb1-4cde-964e-431f74a6078e/Files/LLP_DATA/Original_DATA/2025-04-23-2HDM/LLP_data/B_2HDM/mass_6.31e+00_ctau_2.00e+08_br_1.00e+00_seed_979224.csv\n",
      "Error message: No columns to parse from file\n"
     ]
    },
    {
     "name": "stderr",
     "output_type": "stream",
     "text": [
      " 21%|██        | 620/2961 [03:43<10:58,  3.55it/s]"
     ]
    },
    {
     "name": "stdout",
     "output_type": "stream",
     "text": [
      "Error with file: /media/ubuntu/6156e08b-fdb1-4cde-964e-431f74a6078e/Files/LLP_DATA/Original_DATA/2025-04-23-2HDM/LLP_data/B_2HDM/mass_7.94e+00_ctau_5.03e+04_br_1.00e+00_seed_979224.csv\n",
      "Error message: No columns to parse from file\n"
     ]
    },
    {
     "name": "stderr",
     "output_type": "stream",
     "text": [
      " 22%|██▏       | 638/2961 [03:53<33:00,  1.17it/s]"
     ]
    },
    {
     "name": "stdout",
     "output_type": "stream",
     "text": [
      "Error with file: /media/ubuntu/6156e08b-fdb1-4cde-964e-431f74a6078e/Files/LLP_DATA/Original_DATA/2025-04-23-2HDM/LLP_data/B_2HDM/mass_5.01e+00_ctau_1.59e+04_br_1.00e+00_seed_979224.csv\n",
      "Error message: No columns to parse from file\n"
     ]
    },
    {
     "name": "stderr",
     "output_type": "stream",
     "text": [
      " 22%|██▏       | 643/2961 [03:55<17:27,  2.21it/s]"
     ]
    },
    {
     "name": "stdout",
     "output_type": "stream",
     "text": [
      "Error with file: /media/ubuntu/6156e08b-fdb1-4cde-964e-431f74a6078e/Files/LLP_DATA/Original_DATA/2025-04-23-2HDM/LLP_data/B_2HDM/mass_6.31e+00_ctau_3.18e+03_br_1.00e+00_seed_979224.csv\n",
      "Error message: No columns to parse from file\n"
     ]
    },
    {
     "name": "stderr",
     "output_type": "stream",
     "text": [
      " 22%|██▏       | 648/2961 [03:56<14:01,  2.75it/s]"
     ]
    },
    {
     "name": "stdout",
     "output_type": "stream",
     "text": [
      "Error with file: /media/ubuntu/6156e08b-fdb1-4cde-964e-431f74a6078e/Files/LLP_DATA/Original_DATA/2025-04-23-2HDM/LLP_data/B_2HDM/mass_7.94e+00_ctau_2.52e+02_br_1.00e+00_seed_979224.csv\n",
      "Error message: No columns to parse from file\n"
     ]
    },
    {
     "name": "stderr",
     "output_type": "stream",
     "text": [
      " 22%|██▏       | 653/2961 [03:58<13:04,  2.94it/s]"
     ]
    },
    {
     "name": "stdout",
     "output_type": "stream",
     "text": [
      "Error with file: /media/ubuntu/6156e08b-fdb1-4cde-964e-431f74a6078e/Files/LLP_DATA/Original_DATA/2025-04-23-2HDM/LLP_data/B_2HDM/mass_7.94e+00_ctau_1.49e-07_br_1.00e+00_seed_979224.csv\n",
      "Error message: No columns to parse from file\n"
     ]
    },
    {
     "name": "stderr",
     "output_type": "stream",
     "text": [
      " 22%|██▏       | 658/2961 [03:59<13:13,  2.90it/s]"
     ]
    },
    {
     "name": "stdout",
     "output_type": "stream",
     "text": [
      "Error with file: /media/ubuntu/6156e08b-fdb1-4cde-964e-431f74a6078e/Files/LLP_DATA/Original_DATA/2025-04-23-2HDM/LLP_data/B_2HDM/mass_6.31e+00_ctau_4.00e+04_br_1.00e+00_seed_979224.csv\n",
      "Error message: No columns to parse from file\n"
     ]
    },
    {
     "name": "stderr",
     "output_type": "stream",
     "text": [
      " 22%|██▏       | 660/2961 [04:00<10:44,  3.57it/s]"
     ]
    },
    {
     "name": "stdout",
     "output_type": "stream",
     "text": [
      "Error with file: /media/ubuntu/6156e08b-fdb1-4cde-964e-431f74a6078e/Files/LLP_DATA/Original_DATA/2025-04-23-2HDM/LLP_data/B_2HDM/mass_1.00e+01_ctau_2.52e+06_br_1.00e+00_seed_979224.csv\n",
      "Error message: No columns to parse from file\n"
     ]
    },
    {
     "name": "stderr",
     "output_type": "stream",
     "text": [
      " 22%|██▏       | 666/2961 [04:02<12:51,  2.97it/s]"
     ]
    },
    {
     "name": "stdout",
     "output_type": "stream",
     "text": [
      "Error with file: /media/ubuntu/6156e08b-fdb1-4cde-964e-431f74a6078e/Files/LLP_DATA/Original_DATA/2025-04-23-2HDM/LLP_data/B_2HDM/mass_7.94e+00_ctau_1.59e+00_br_1.00e+00_seed_979224.csv\n",
      "Error message: No columns to parse from file\n"
     ]
    },
    {
     "name": "stderr",
     "output_type": "stream",
     "text": [
      " 23%|██▎       | 668/2961 [04:02<10:38,  3.59it/s]"
     ]
    },
    {
     "name": "stdout",
     "output_type": "stream",
     "text": [
      "Error with file: /media/ubuntu/6156e08b-fdb1-4cde-964e-431f74a6078e/Files/LLP_DATA/Original_DATA/2025-04-23-2HDM/LLP_data/B_2HDM/mass_6.31e+00_ctau_6.34e+02_br_1.00e+00_seed_979224.csv\n",
      "Error message: No columns to parse from file\n",
      "Error with file: /media/ubuntu/6156e08b-fdb1-4cde-964e-431f74a6078e/Files/LLP_DATA/Original_DATA/2025-04-23-2HDM/LLP_data/B_2HDM/mass_7.94e+00_ctau_1.00e+02_br_1.00e+00_seed_979224.csv\n",
      "Error message: No columns to parse from file\n"
     ]
    },
    {
     "name": "stderr",
     "output_type": "stream",
     "text": [
      " 23%|██▎       | 671/2961 [04:02<07:55,  4.82it/s]"
     ]
    },
    {
     "name": "stdout",
     "output_type": "stream",
     "text": [
      "Error with file: /media/ubuntu/6156e08b-fdb1-4cde-964e-431f74a6078e/Files/LLP_DATA/Original_DATA/2025-04-23-2HDM/LLP_data/B_2HDM/mass_7.94e+00_ctau_1.26e+07_br_1.00e+00_seed_979224.csv\n",
      "Error message: No columns to parse from file\n"
     ]
    },
    {
     "name": "stderr",
     "output_type": "stream",
     "text": [
      " 23%|██▎       | 679/2961 [04:05<14:06,  2.70it/s]"
     ]
    },
    {
     "name": "stdout",
     "output_type": "stream",
     "text": [
      "Error with file: /media/ubuntu/6156e08b-fdb1-4cde-964e-431f74a6078e/Files/LLP_DATA/Original_DATA/2025-04-23-2HDM/LLP_data/B_2HDM/mass_7.94e+00_ctau_1.59e+04_br_1.00e+00_seed_979224.csv\n",
      "Error message: No columns to parse from file\n"
     ]
    },
    {
     "name": "stderr",
     "output_type": "stream",
     "text": [
      " 23%|██▎       | 688/2961 [04:10<19:47,  1.91it/s]"
     ]
    },
    {
     "name": "stdout",
     "output_type": "stream",
     "text": [
      "Error with file: /media/ubuntu/6156e08b-fdb1-4cde-964e-431f74a6078e/Files/LLP_DATA/Original_DATA/2025-04-23-2HDM/LLP_data/B_2HDM/mass_7.94e+00_ctau_2.52e+06_br_1.00e+00_seed_979224.csv\n",
      "Error message: No columns to parse from file\n"
     ]
    },
    {
     "name": "stderr",
     "output_type": "stream",
     "text": [
      " 23%|██▎       | 690/2961 [04:10<14:02,  2.70it/s]"
     ]
    },
    {
     "name": "stdout",
     "output_type": "stream",
     "text": [
      "Error with file: /media/ubuntu/6156e08b-fdb1-4cde-964e-431f74a6078e/Files/LLP_DATA/Original_DATA/2025-04-23-2HDM/LLP_data/B_2HDM/mass_1.00e+01_ctau_1.00e+03_br_1.00e+00_seed_979224.csv\n",
      "Error message: No columns to parse from file\n"
     ]
    },
    {
     "name": "stderr",
     "output_type": "stream",
     "text": [
      " 23%|██▎       | 694/2961 [04:11<10:07,  3.73it/s]"
     ]
    },
    {
     "name": "stdout",
     "output_type": "stream",
     "text": [
      "Error with file: /media/ubuntu/6156e08b-fdb1-4cde-964e-431f74a6078e/Files/LLP_DATA/Original_DATA/2025-04-23-2HDM/LLP_data/B_2HDM/mass_5.01e+00_ctau_6.52e-03_br_1.00e+00_seed_979224.csv\n",
      "Error message: No columns to parse from file\n",
      "Error with file: /media/ubuntu/6156e08b-fdb1-4cde-964e-431f74a6078e/Files/LLP_DATA/Original_DATA/2025-04-23-2HDM/LLP_data/B_2HDM/mass_1.00e+01_ctau_4.61e-07_br_1.00e+00_seed_979224.csv\n",
      "Error message: No columns to parse from file\n"
     ]
    },
    {
     "name": "stderr",
     "output_type": "stream",
     "text": [
      " 24%|██▎       | 698/2961 [04:12<08:50,  4.27it/s]"
     ]
    },
    {
     "name": "stdout",
     "output_type": "stream",
     "text": [
      "Error with file: /media/ubuntu/6156e08b-fdb1-4cde-964e-431f74a6078e/Files/LLP_DATA/Original_DATA/2025-04-23-2HDM/LLP_data/B_2HDM/mass_7.94e+00_ctau_6.34e+04_br_1.00e+00_seed_979224.csv\n",
      "Error message: No columns to parse from file\n"
     ]
    },
    {
     "name": "stderr",
     "output_type": "stream",
     "text": [
      " 24%|██▎       | 703/2961 [04:14<13:40,  2.75it/s]"
     ]
    },
    {
     "name": "stdout",
     "output_type": "stream",
     "text": [
      "Error with file: /media/ubuntu/6156e08b-fdb1-4cde-964e-431f74a6078e/Files/LLP_DATA/Original_DATA/2025-04-23-2HDM/LLP_data/B_2HDM/mass_6.31e+00_ctau_5.25e-07_br_1.00e+00_seed_979224.csv\n",
      "Error message: No columns to parse from file\n"
     ]
    },
    {
     "name": "stderr",
     "output_type": "stream",
     "text": [
      " 24%|██▍       | 705/2961 [04:14<11:09,  3.37it/s]"
     ]
    },
    {
     "name": "stdout",
     "output_type": "stream",
     "text": [
      "Error with file: /media/ubuntu/6156e08b-fdb1-4cde-964e-431f74a6078e/Files/LLP_DATA/Original_DATA/2025-04-23-2HDM/LLP_data/B_2HDM/mass_5.01e+00_ctau_7.98e-01_br_1.00e+00_seed_979224.csv\n",
      "Error message: No columns to parse from file\n"
     ]
    },
    {
     "name": "stderr",
     "output_type": "stream",
     "text": [
      " 24%|██▍       | 712/2961 [04:16<13:10,  2.84it/s]"
     ]
    },
    {
     "name": "stdout",
     "output_type": "stream",
     "text": [
      "Error with file: /media/ubuntu/6156e08b-fdb1-4cde-964e-431f74a6078e/Files/LLP_DATA/Original_DATA/2025-04-23-2HDM/LLP_data/B_2HDM/mass_5.01e+00_ctau_3.18e+05_br_1.00e+00_seed_979224.csv\n",
      "Error message: No columns to parse from file\n"
     ]
    },
    {
     "name": "stderr",
     "output_type": "stream",
     "text": [
      " 24%|██▍       | 719/2961 [04:19<13:20,  2.80it/s]"
     ]
    },
    {
     "name": "stdout",
     "output_type": "stream",
     "text": [
      "Error with file: /media/ubuntu/6156e08b-fdb1-4cde-964e-431f74a6078e/Files/LLP_DATA/Original_DATA/2025-04-23-2HDM/LLP_data/B_2HDM/mass_7.94e+00_ctau_5.03e+09_br_1.00e+00_seed_979224.csv\n",
      "Error message: No columns to parse from file\n",
      "Error with file: /media/ubuntu/6156e08b-fdb1-4cde-964e-431f74a6078e/Files/LLP_DATA/Original_DATA/2025-04-23-2HDM/LLP_data/B_2HDM/mass_1.00e+01_ctau_3.15e-05_br_1.00e+00_seed_979224.csv\n",
      "Error message: No columns to parse from file\n"
     ]
    },
    {
     "name": "stderr",
     "output_type": "stream",
     "text": [
      " 24%|██▍       | 723/2961 [04:20<09:43,  3.83it/s]"
     ]
    },
    {
     "name": "stdout",
     "output_type": "stream",
     "text": [
      "Error with file: /media/ubuntu/6156e08b-fdb1-4cde-964e-431f74a6078e/Files/LLP_DATA/Original_DATA/2025-04-23-2HDM/LLP_data/B_2HDM/mass_1.00e+01_ctau_1.00e+09_br_1.00e+00_seed_979224.csv\n",
      "Error message: No columns to parse from file\n"
     ]
    },
    {
     "name": "stderr",
     "output_type": "stream",
     "text": [
      " 25%|██▍       | 726/2961 [04:21<12:47,  2.91it/s]"
     ]
    },
    {
     "name": "stdout",
     "output_type": "stream",
     "text": [
      "Error with file: /media/ubuntu/6156e08b-fdb1-4cde-964e-431f74a6078e/Files/LLP_DATA/Original_DATA/2025-04-23-2HDM/LLP_data/B_2HDM/mass_7.94e+00_ctau_2.00e+07_br_1.00e+00_seed_979224.csv\n",
      "Error message: No columns to parse from file\n"
     ]
    },
    {
     "name": "stderr",
     "output_type": "stream",
     "text": [
      " 26%|██▌       | 756/2961 [04:35<15:04,  2.44it/s]"
     ]
    },
    {
     "name": "stdout",
     "output_type": "stream",
     "text": [
      "Error with file: /media/ubuntu/6156e08b-fdb1-4cde-964e-431f74a6078e/Files/LLP_DATA/Original_DATA/2025-04-23-2HDM/LLP_data/B_2HDM/mass_7.94e+00_ctau_2.45e-02_br_1.00e+00_seed_979224.csv\n",
      "Error message: No columns to parse from file\n"
     ]
    },
    {
     "name": "stderr",
     "output_type": "stream",
     "text": [
      " 26%|██▌       | 759/2961 [04:36<12:05,  3.04it/s]"
     ]
    },
    {
     "name": "stdout",
     "output_type": "stream",
     "text": [
      "Error with file: /media/ubuntu/6156e08b-fdb1-4cde-964e-431f74a6078e/Files/LLP_DATA/Original_DATA/2025-04-23-2HDM/LLP_data/B_2HDM/mass_6.31e+00_ctau_2.43e-07_br_1.00e+00_seed_979224.csv\n",
      "Error message: No columns to parse from file\n",
      "Error with file: /media/ubuntu/6156e08b-fdb1-4cde-964e-431f74a6078e/Files/LLP_DATA/Original_DATA/2025-04-23-2HDM/LLP_data/B_2HDM/mass_1.00e+01_ctau_2.00e+02_br_1.00e+00_seed_979224.csv\n",
      "Error message: No columns to parse from file\n"
     ]
    },
    {
     "name": "stderr",
     "output_type": "stream",
     "text": [
      " 26%|██▌       | 767/2961 [04:38<13:19,  2.74it/s]"
     ]
    },
    {
     "name": "stdout",
     "output_type": "stream",
     "text": [
      "Error with file: /media/ubuntu/6156e08b-fdb1-4cde-964e-431f74a6078e/Files/LLP_DATA/Original_DATA/2025-04-23-2HDM/LLP_data/B_2HDM/mass_6.31e+00_ctau_1.59e+08_br_1.00e+00_seed_979224.csv\n",
      "Error message: No columns to parse from file\n"
     ]
    },
    {
     "name": "stderr",
     "output_type": "stream",
     "text": [
      " 26%|██▌       | 769/2961 [04:38<10:24,  3.51it/s]"
     ]
    },
    {
     "name": "stdout",
     "output_type": "stream",
     "text": [
      "Error with file: /media/ubuntu/6156e08b-fdb1-4cde-964e-431f74a6078e/Files/LLP_DATA/Original_DATA/2025-04-23-2HDM/LLP_data/B_2HDM/mass_1.00e+01_ctau_5.03e+05_br_1.00e+00_seed_979224.csv\n",
      "Error message: No columns to parse from file\n"
     ]
    },
    {
     "name": "stderr",
     "output_type": "stream",
     "text": [
      " 26%|██▋       | 782/2961 [04:45<28:06,  1.29it/s]"
     ]
    },
    {
     "name": "stdout",
     "output_type": "stream",
     "text": [
      "Error with file: /media/ubuntu/6156e08b-fdb1-4cde-964e-431f74a6078e/Files/LLP_DATA/Original_DATA/2025-04-23-2HDM/LLP_data/B_2HDM/mass_6.31e+00_ctau_2.52e+05_br_1.00e+00_seed_979224.csv\n",
      "Error message: No columns to parse from file\n"
     ]
    },
    {
     "name": "stderr",
     "output_type": "stream",
     "text": [
      " 27%|██▋       | 796/2961 [04:50<14:36,  2.47it/s]"
     ]
    },
    {
     "name": "stdout",
     "output_type": "stream",
     "text": [
      "Error with file: /media/ubuntu/6156e08b-fdb1-4cde-964e-431f74a6078e/Files/LLP_DATA/Original_DATA/2025-04-23-2HDM/LLP_data/B_2HDM/mass_6.31e+00_ctau_1.59e+10_br_1.00e+00_seed_979224.csv\n",
      "Error message: No columns to parse from file\n"
     ]
    },
    {
     "name": "stderr",
     "output_type": "stream",
     "text": [
      " 27%|██▋       | 800/2961 [04:51<12:15,  2.94it/s]"
     ]
    },
    {
     "name": "stdout",
     "output_type": "stream",
     "text": [
      "Error with file: /media/ubuntu/6156e08b-fdb1-4cde-964e-431f74a6078e/Files/LLP_DATA/Original_DATA/2025-04-23-2HDM/LLP_data/B_2HDM/mass_1.00e+01_ctau_6.33e+02_br_1.00e+00_seed_979224.csv\n",
      "Error message: No columns to parse from file\n"
     ]
    },
    {
     "name": "stderr",
     "output_type": "stream",
     "text": [
      " 27%|██▋       | 805/2961 [04:53<12:27,  2.88it/s]"
     ]
    },
    {
     "name": "stdout",
     "output_type": "stream",
     "text": [
      "Error with file: /media/ubuntu/6156e08b-fdb1-4cde-964e-431f74a6078e/Files/LLP_DATA/Original_DATA/2025-04-23-2HDM/LLP_data/B_2HDM/mass_7.94e+00_ctau_1.59e+05_br_1.00e+00_seed_979224.csv\n",
      "Error message: No columns to parse from file\n"
     ]
    },
    {
     "name": "stderr",
     "output_type": "stream",
     "text": [
      " 27%|██▋       | 807/2961 [04:53<10:06,  3.55it/s]"
     ]
    },
    {
     "name": "stdout",
     "output_type": "stream",
     "text": [
      "Error with file: /media/ubuntu/6156e08b-fdb1-4cde-964e-431f74a6078e/Files/LLP_DATA/Original_DATA/2025-04-23-2HDM/LLP_data/B_2HDM/mass_6.31e+00_ctau_4.00e+03_br_1.00e+00_seed_979224.csv\n",
      "Error message: No columns to parse from file\n"
     ]
    },
    {
     "name": "stderr",
     "output_type": "stream",
     "text": [
      " 28%|██▊       | 815/2961 [04:56<13:33,  2.64it/s]"
     ]
    },
    {
     "name": "stdout",
     "output_type": "stream",
     "text": [
      "Error with file: /media/ubuntu/6156e08b-fdb1-4cde-964e-431f74a6078e/Files/LLP_DATA/Original_DATA/2025-04-23-2HDM/LLP_data/B_2HDM/mass_1.00e+01_ctau_1.59e+04_br_1.00e+00_seed_979224.csv\n",
      "Error message: No columns to parse from file\n"
     ]
    },
    {
     "name": "stderr",
     "output_type": "stream",
     "text": [
      " 28%|██▊       | 817/2961 [04:57<16:27,  2.17it/s]"
     ]
    },
    {
     "name": "stdout",
     "output_type": "stream",
     "text": [
      "Error with file: /media/ubuntu/6156e08b-fdb1-4cde-964e-431f74a6078e/Files/LLP_DATA/Original_DATA/2025-04-23-2HDM/LLP_data/B_2HDM/mass_6.31e+00_ctau_7.91e-03_br_1.00e+00_seed_979224.csv\n",
      "Error message: No columns to parse from file\n"
     ]
    },
    {
     "name": "stderr",
     "output_type": "stream",
     "text": [
      " 28%|██▊       | 820/2961 [05:00<21:19,  1.67it/s]"
     ]
    },
    {
     "name": "stdout",
     "output_type": "stream",
     "text": [
      "Error with file: /media/ubuntu/6156e08b-fdb1-4cde-964e-431f74a6078e/Files/LLP_DATA/Original_DATA/2025-04-23-2HDM/LLP_data/B_2HDM/mass_6.31e+00_ctau_1.00e+07_br_1.00e+00_seed_979224.csv\n",
      "Error message: No columns to parse from file\n",
      "Error with file: /media/ubuntu/6156e08b-fdb1-4cde-964e-431f74a6078e/Files/LLP_DATA/Original_DATA/2025-04-23-2HDM/LLP_data/B_2HDM/mass_6.31e+00_ctau_2.91e-02_br_1.00e+00_seed_979224.csv\n",
      "Error message: No columns to parse from file\n"
     ]
    },
    {
     "name": "stderr",
     "output_type": "stream",
     "text": [
      " 28%|██▊       | 832/2961 [05:03<13:44,  2.58it/s]"
     ]
    },
    {
     "name": "stdout",
     "output_type": "stream",
     "text": [
      "Error with file: /media/ubuntu/6156e08b-fdb1-4cde-964e-431f74a6078e/Files/LLP_DATA/Original_DATA/2025-04-23-2HDM/LLP_data/B_2HDM/mass_6.31e+00_ctau_6.34e+00_br_1.00e+00_seed_979224.csv\n",
      "Error message: No columns to parse from file\n"
     ]
    },
    {
     "name": "stderr",
     "output_type": "stream",
     "text": [
      " 28%|██▊       | 840/2961 [05:06<12:53,  2.74it/s]"
     ]
    },
    {
     "name": "stdout",
     "output_type": "stream",
     "text": [
      "Error with file: /media/ubuntu/6156e08b-fdb1-4cde-964e-431f74a6078e/Files/LLP_DATA/Original_DATA/2025-04-23-2HDM/LLP_data/B_2HDM/mass_1.00e+01_ctau_6.33e-02_br_1.00e+00_seed_979224.csv\n",
      "Error message: No columns to parse from file\n"
     ]
    },
    {
     "name": "stderr",
     "output_type": "stream",
     "text": [
      " 29%|██▉       | 852/2961 [05:10<13:09,  2.67it/s]"
     ]
    },
    {
     "name": "stdout",
     "output_type": "stream",
     "text": [
      "Error with file: /media/ubuntu/6156e08b-fdb1-4cde-964e-431f74a6078e/Files/LLP_DATA/Original_DATA/2025-04-23-2HDM/LLP_data/B_2HDM/mass_7.94e+00_ctau_7.98e+08_br_1.00e+00_seed_979224.csv\n",
      "Error message: No columns to parse from file\n"
     ]
    },
    {
     "name": "stderr",
     "output_type": "stream",
     "text": [
      " 29%|██▉       | 862/2961 [05:16<28:39,  1.22it/s]"
     ]
    },
    {
     "name": "stdout",
     "output_type": "stream",
     "text": [
      "Error with file: /media/ubuntu/6156e08b-fdb1-4cde-964e-431f74a6078e/Files/LLP_DATA/Original_DATA/2025-04-23-2HDM/LLP_data/B_2HDM/mass_1.00e+01_ctau_7.97e+00_br_1.00e+00_seed_979224.csv\n",
      "Error message: No columns to parse from file\n"
     ]
    },
    {
     "name": "stderr",
     "output_type": "stream",
     "text": [
      " 30%|██▉       | 875/2961 [05:22<13:36,  2.56it/s]"
     ]
    },
    {
     "name": "stdout",
     "output_type": "stream",
     "text": [
      "Error with file: /media/ubuntu/6156e08b-fdb1-4cde-964e-431f74a6078e/Files/LLP_DATA/Original_DATA/2025-04-23-2HDM/LLP_data/B_2HDM/mass_1.00e+01_ctau_3.17e+03_br_1.00e+00_seed_979224.csv\n",
      "Error message: No columns to parse from file\n"
     ]
    },
    {
     "name": "stderr",
     "output_type": "stream",
     "text": [
      " 30%|███       | 894/2961 [05:29<13:20,  2.58it/s]"
     ]
    },
    {
     "name": "stdout",
     "output_type": "stream",
     "text": [
      "Error with file: /media/ubuntu/6156e08b-fdb1-4cde-964e-431f74a6078e/Files/LLP_DATA/Original_DATA/2025-04-23-2HDM/LLP_data/B_2HDM/mass_5.01e+00_ctau_1.27e+10_br_1.00e+00_seed_979224.csv\n",
      "Error message: No columns to parse from file\n"
     ]
    },
    {
     "name": "stderr",
     "output_type": "stream",
     "text": [
      " 30%|███       | 897/2961 [05:29<10:58,  3.13it/s]"
     ]
    },
    {
     "name": "stdout",
     "output_type": "stream",
     "text": [
      "Error with file: /media/ubuntu/6156e08b-fdb1-4cde-964e-431f74a6078e/Files/LLP_DATA/Original_DATA/2025-04-23-2HDM/LLP_data/B_2HDM/mass_6.31e+00_ctau_4.43e-08_br_1.00e+00_seed_979224.csv\n",
      "Error message: No columns to parse from file\n",
      "Error with file: /media/ubuntu/6156e08b-fdb1-4cde-964e-431f74a6078e/Files/LLP_DATA/Original_DATA/2025-04-23-2HDM/LLP_data/B_2HDM/mass_6.31e+00_ctau_1.59e-01_br_1.00e+00_seed_979224.csv\n",
      "Error message: No columns to parse from file\n"
     ]
    },
    {
     "name": "stderr",
     "output_type": "stream",
     "text": [
      " 30%|███       | 903/2961 [05:31<12:19,  2.78it/s]"
     ]
    },
    {
     "name": "stdout",
     "output_type": "stream",
     "text": [
      "Error with file: /media/ubuntu/6156e08b-fdb1-4cde-964e-431f74a6078e/Files/LLP_DATA/Original_DATA/2025-04-23-2HDM/LLP_data/B_2HDM/mass_6.31e+00_ctau_5.04e+04_br_1.00e+00_seed_979224.csv\n",
      "Error message: No columns to parse from file\n"
     ]
    },
    {
     "name": "stderr",
     "output_type": "stream",
     "text": [
      " 31%|███       | 906/2961 [05:33<13:48,  2.48it/s]"
     ]
    },
    {
     "name": "stdout",
     "output_type": "stream",
     "text": [
      "Error with file: /media/ubuntu/6156e08b-fdb1-4cde-964e-431f74a6078e/Files/LLP_DATA/Original_DATA/2025-04-23-2HDM/LLP_data/B_2HDM/mass_6.31e+00_ctau_1.59e+07_br_1.00e+00_seed_979224.csv\n",
      "Error message: No columns to parse from file\n"
     ]
    },
    {
     "name": "stderr",
     "output_type": "stream",
     "text": [
      " 31%|███       | 912/2961 [05:36<18:09,  1.88it/s]"
     ]
    },
    {
     "name": "stdout",
     "output_type": "stream",
     "text": [
      "Error with file: /media/ubuntu/6156e08b-fdb1-4cde-964e-431f74a6078e/Files/LLP_DATA/Original_DATA/2025-04-23-2HDM/LLP_data/B_2HDM/mass_7.94e+00_ctau_2.52e+01_br_1.00e+00_seed_979224.csv\n",
      "Error message: No columns to parse from file\n"
     ]
    },
    {
     "name": "stderr",
     "output_type": "stream",
     "text": [
      " 31%|███       | 916/2961 [05:37<13:39,  2.50it/s]"
     ]
    },
    {
     "name": "stdout",
     "output_type": "stream",
     "text": [
      "Error with file: /media/ubuntu/6156e08b-fdb1-4cde-964e-431f74a6078e/Files/LLP_DATA/Original_DATA/2025-04-23-2HDM/LLP_data/B_2HDM/mass_1.00e+01_ctau_1.59e+09_br_1.00e+00_seed_979224.csv\n",
      "Error message: No columns to parse from file\n"
     ]
    },
    {
     "name": "stderr",
     "output_type": "stream",
     "text": [
      " 31%|███       | 918/2961 [05:38<15:42,  2.17it/s]"
     ]
    },
    {
     "name": "stdout",
     "output_type": "stream",
     "text": [
      "Error with file: /media/ubuntu/6156e08b-fdb1-4cde-964e-431f74a6078e/Files/LLP_DATA/Original_DATA/2025-04-23-2HDM/LLP_data/B_2HDM/mass_5.01e+00_ctau_2.52e+09_br_1.00e+00_seed_979224.csv\n",
      "Error message: No columns to parse from file\n",
      "Error with file: /media/ubuntu/6156e08b-fdb1-4cde-964e-431f74a6078e/Files/LLP_DATA/Original_DATA/2025-04-23-2HDM/LLP_data/B_2HDM/mass_5.01e+00_ctau_5.04e+08_br_1.00e+00_seed_979224.csv\n",
      "Error message: No columns to parse from file\n"
     ]
    },
    {
     "name": "stderr",
     "output_type": "stream",
     "text": [
      " 31%|███       | 921/2961 [05:39<10:19,  3.29it/s]"
     ]
    },
    {
     "name": "stdout",
     "output_type": "stream",
     "text": [
      "Error with file: /media/ubuntu/6156e08b-fdb1-4cde-964e-431f74a6078e/Files/LLP_DATA/Original_DATA/2025-04-23-2HDM/LLP_data/B_2HDM/mass_6.31e+00_ctau_2.00e-01_br_1.00e+00_seed_979224.csv\n",
      "Error message: No columns to parse from file\n"
     ]
    },
    {
     "name": "stderr",
     "output_type": "stream",
     "text": [
      " 31%|███▏      | 930/2961 [05:42<12:29,  2.71it/s]"
     ]
    },
    {
     "name": "stdout",
     "output_type": "stream",
     "text": [
      "Error with file: /media/ubuntu/6156e08b-fdb1-4cde-964e-431f74a6078e/Files/LLP_DATA/Original_DATA/2025-04-23-2HDM/LLP_data/B_2HDM/mass_7.94e+00_ctau_6.80e-07_br_1.00e+00_seed_979224.csv\n",
      "Error message: No columns to parse from file\n"
     ]
    },
    {
     "name": "stderr",
     "output_type": "stream",
     "text": [
      " 31%|███▏      | 932/2961 [05:42<09:50,  3.43it/s]"
     ]
    },
    {
     "name": "stdout",
     "output_type": "stream",
     "text": [
      "Error with file: /media/ubuntu/6156e08b-fdb1-4cde-964e-431f74a6078e/Files/LLP_DATA/Original_DATA/2025-04-23-2HDM/LLP_data/B_2HDM/mass_7.94e+00_ctau_6.34e+01_br_1.00e+00_seed_979224.csv\n",
      "Error message: No columns to parse from file\n"
     ]
    },
    {
     "name": "stderr",
     "output_type": "stream",
     "text": [
      " 32%|███▏      | 942/2961 [05:46<12:23,  2.72it/s]"
     ]
    },
    {
     "name": "stdout",
     "output_type": "stream",
     "text": [
      "Error with file: /media/ubuntu/6156e08b-fdb1-4cde-964e-431f74a6078e/Files/LLP_DATA/Original_DATA/2025-04-23-2HDM/LLP_data/B_2HDM/mass_1.00e+01_ctau_4.50e-08_br_1.00e+00_seed_979224.csv\n",
      "Error message: No columns to parse from file\n"
     ]
    },
    {
     "name": "stderr",
     "output_type": "stream",
     "text": [
      " 32%|███▏      | 957/2961 [05:52<13:54,  2.40it/s]"
     ]
    },
    {
     "name": "stdout",
     "output_type": "stream",
     "text": [
      "Error with file: /media/ubuntu/6156e08b-fdb1-4cde-964e-431f74a6078e/Files/LLP_DATA/Original_DATA/2025-04-23-2HDM/LLP_data/B_2HDM/mass_6.31e+00_ctau_5.63e-04_br_1.00e+00_seed_979224.csv\n",
      "Error message: No columns to parse from file\n"
     ]
    },
    {
     "name": "stderr",
     "output_type": "stream",
     "text": [
      " 32%|███▏      | 960/2961 [05:54<19:49,  1.68it/s]"
     ]
    },
    {
     "name": "stdout",
     "output_type": "stream",
     "text": [
      "Error with file: /media/ubuntu/6156e08b-fdb1-4cde-964e-431f74a6078e/Files/LLP_DATA/Original_DATA/2025-04-23-2HDM/LLP_data/B_2HDM/mass_5.01e+00_ctau_1.27e+04_br_1.00e+00_seed_979224.csv\n",
      "Error message: No columns to parse from file\n"
     ]
    },
    {
     "name": "stderr",
     "output_type": "stream",
     "text": [
      " 33%|███▎      | 964/2961 [05:55<13:33,  2.46it/s]"
     ]
    },
    {
     "name": "stdout",
     "output_type": "stream",
     "text": [
      "Error with file: /media/ubuntu/6156e08b-fdb1-4cde-964e-431f74a6078e/Files/LLP_DATA/Original_DATA/2025-04-23-2HDM/LLP_data/B_2HDM/mass_6.31e+00_ctau_3.90e-05_br_1.00e+00_seed_979224.csv\n",
      "Error message: No columns to parse from file\n"
     ]
    },
    {
     "name": "stderr",
     "output_type": "stream",
     "text": [
      " 33%|███▎      | 969/2961 [05:57<11:51,  2.80it/s]"
     ]
    },
    {
     "name": "stdout",
     "output_type": "stream",
     "text": [
      "Error with file: /media/ubuntu/6156e08b-fdb1-4cde-964e-431f74a6078e/Files/LLP_DATA/Original_DATA/2025-04-23-2HDM/LLP_data/B_2HDM/mass_7.94e+00_ctau_7.98e+03_br_1.00e+00_seed_979224.csv\n",
      "Error message: No columns to parse from file\n",
      "Error with file: /media/ubuntu/6156e08b-fdb1-4cde-964e-431f74a6078e/Files/LLP_DATA/Original_DATA/2025-04-23-2HDM/LLP_data/B_2HDM/mass_6.31e+00_ctau_1.26e+00_br_1.00e+00_seed_979224.csv\n",
      "Error message: No columns to parse from file\n",
      "Error with file: /media/ubuntu/6156e08b-fdb1-4cde-964e-431f74a6078e/Files/LLP_DATA/Original_DATA/2025-04-23-2HDM/LLP_data/B_2HDM/mass_1.00e+01_ctau_2.52e+04_br_1.00e+00_seed_979224.csv\n",
      "Error message: No columns to parse from file\n",
      "Error with file: /media/ubuntu/6156e08b-fdb1-4cde-964e-431f74a6078e/Files/LLP_DATA/Original_DATA/2025-04-23-2HDM/LLP_data/B_2HDM/mass_1.00e+01_ctau_6.33e-01_br_1.00e+00_seed_979224.csv\n",
      "Error message: No columns to parse from file\n"
     ]
    },
    {
     "name": "stderr",
     "output_type": "stream",
     "text": [
      " 33%|███▎      | 976/2961 [05:58<10:39,  3.11it/s]"
     ]
    },
    {
     "name": "stdout",
     "output_type": "stream",
     "text": [
      "Error with file: /media/ubuntu/6156e08b-fdb1-4cde-964e-431f74a6078e/Files/LLP_DATA/Original_DATA/2025-04-23-2HDM/LLP_data/B_2HDM/mass_7.94e+00_ctau_6.34e+02_br_1.00e+00_seed_979224.csv\n",
      "Error message: No columns to parse from file\n"
     ]
    },
    {
     "name": "stderr",
     "output_type": "stream",
     "text": [
      " 33%|███▎      | 989/2961 [06:03<12:24,  2.65it/s]"
     ]
    },
    {
     "name": "stdout",
     "output_type": "stream",
     "text": [
      "Error with file: /media/ubuntu/6156e08b-fdb1-4cde-964e-431f74a6078e/Files/LLP_DATA/Original_DATA/2025-04-23-2HDM/LLP_data/B_2HDM/mass_1.00e+01_ctau_1.26e+08_br_1.00e+00_seed_979224.csv\n",
      "Error message: No columns to parse from file\n"
     ]
    },
    {
     "name": "stderr",
     "output_type": "stream",
     "text": [
      " 34%|███▎      | 999/2961 [06:07<13:41,  2.39it/s]"
     ]
    },
    {
     "name": "stdout",
     "output_type": "stream",
     "text": [
      "Error with file: /media/ubuntu/6156e08b-fdb1-4cde-964e-431f74a6078e/Files/LLP_DATA/Original_DATA/2025-04-23-2HDM/LLP_data/B_2HDM/mass_5.01e+00_ctau_8.14e-05_br_1.00e+00_seed_979224.csv\n",
      "Error message: No columns to parse from file\n"
     ]
    },
    {
     "name": "stderr",
     "output_type": "stream",
     "text": [
      " 34%|███▍      | 1002/2961 [06:07<10:49,  3.02it/s]"
     ]
    },
    {
     "name": "stdout",
     "output_type": "stream",
     "text": [
      "Error with file: /media/ubuntu/6156e08b-fdb1-4cde-964e-431f74a6078e/Files/LLP_DATA/Original_DATA/2025-04-23-2HDM/LLP_data/B_2HDM/mass_1.00e+01_ctau_1.26e+07_br_1.00e+00_seed_979224.csv\n",
      "Error message: No columns to parse from file\n"
     ]
    },
    {
     "name": "stderr",
     "output_type": "stream",
     "text": [
      " 34%|███▍      | 1014/2961 [06:14<20:32,  1.58it/s]"
     ]
    },
    {
     "name": "stdout",
     "output_type": "stream",
     "text": [
      "Error with file: /media/ubuntu/6156e08b-fdb1-4cde-964e-431f74a6078e/Files/LLP_DATA/Original_DATA/2025-04-23-2HDM/LLP_data/B_2HDM/mass_7.94e+00_ctau_1.00e+09_br_1.00e+00_seed_979224.csv\n",
      "Error message: No columns to parse from file\n"
     ]
    },
    {
     "name": "stderr",
     "output_type": "stream",
     "text": [
      " 34%|███▍      | 1020/2961 [06:15<13:01,  2.48it/s]"
     ]
    },
    {
     "name": "stdout",
     "output_type": "stream",
     "text": [
      "Error with file: /media/ubuntu/6156e08b-fdb1-4cde-964e-431f74a6078e/Files/LLP_DATA/Original_DATA/2025-04-23-2HDM/LLP_data/B_2HDM/mass_1.00e+01_ctau_1.26e+06_br_1.00e+00_seed_979224.csv\n",
      "Error message: No columns to parse from file\n"
     ]
    },
    {
     "name": "stderr",
     "output_type": "stream",
     "text": [
      " 35%|███▍      | 1032/2961 [06:20<12:17,  2.62it/s]"
     ]
    },
    {
     "name": "stdout",
     "output_type": "stream",
     "text": [
      "Error with file: /media/ubuntu/6156e08b-fdb1-4cde-964e-431f74a6078e/Files/LLP_DATA/Original_DATA/2025-04-23-2HDM/LLP_data/B_2HDM/mass_5.01e+00_ctau_4.00e+01_br_1.00e+00_seed_979224.csv\n",
      "Error message: No columns to parse from file\n"
     ]
    },
    {
     "name": "stderr",
     "output_type": "stream",
     "text": [
      " 35%|███▍      | 1035/2961 [06:21<10:03,  3.19it/s]"
     ]
    },
    {
     "name": "stdout",
     "output_type": "stream",
     "text": [
      "Error with file: /media/ubuntu/6156e08b-fdb1-4cde-964e-431f74a6078e/Files/LLP_DATA/Original_DATA/2025-04-23-2HDM/LLP_data/B_2HDM/mass_5.01e+00_ctau_1.27e+08_br_1.00e+00_seed_979224.csv\n",
      "Error message: No columns to parse from file\n",
      "Error with file: /media/ubuntu/6156e08b-fdb1-4cde-964e-431f74a6078e/Files/LLP_DATA/Original_DATA/2025-04-23-2HDM/LLP_data/B_2HDM/mass_1.00e+01_ctau_4.41e-03_br_1.00e+00_seed_979224.csv\n",
      "Error message: No columns to parse from file\n"
     ]
    },
    {
     "name": "stderr",
     "output_type": "stream",
     "text": [
      " 35%|███▌      | 1041/2961 [06:22<09:50,  3.25it/s]"
     ]
    },
    {
     "name": "stdout",
     "output_type": "stream",
     "text": [
      "Error with file: /media/ubuntu/6156e08b-fdb1-4cde-964e-431f74a6078e/Files/LLP_DATA/Original_DATA/2025-04-23-2HDM/LLP_data/B_2HDM/mass_5.01e+00_ctau_6.34e+04_br_1.00e+00_seed_979224.csv\n",
      "Error message: No columns to parse from file\n"
     ]
    },
    {
     "name": "stderr",
     "output_type": "stream",
     "text": [
      " 35%|███▌      | 1043/2961 [06:22<08:21,  3.82it/s]"
     ]
    },
    {
     "name": "stdout",
     "output_type": "stream",
     "text": [
      "Error with file: /media/ubuntu/6156e08b-fdb1-4cde-964e-431f74a6078e/Files/LLP_DATA/Original_DATA/2025-04-23-2HDM/LLP_data/B_2HDM/mass_7.94e+00_ctau_3.18e+00_br_1.00e+00_seed_979224.csv\n",
      "Error message: No columns to parse from file\n"
     ]
    },
    {
     "name": "stderr",
     "output_type": "stream",
     "text": [
      " 35%|███▌      | 1051/2961 [06:25<11:46,  2.71it/s]"
     ]
    },
    {
     "name": "stdout",
     "output_type": "stream",
     "text": [
      "Error with file: /media/ubuntu/6156e08b-fdb1-4cde-964e-431f74a6078e/Files/LLP_DATA/Original_DATA/2025-04-23-2HDM/LLP_data/B_2HDM/mass_6.31e+00_ctau_1.59e+01_br_1.00e+00_seed_979224.csv\n",
      "Error message: No columns to parse from file\n",
      "Error with file: /media/ubuntu/6156e08b-fdb1-4cde-964e-431f74a6078e/Files/LLP_DATA/Original_DATA/2025-04-23-2HDM/LLP_data/B_2HDM/mass_6.31e+00_ctau_6.34e+07_br_1.00e+00_seed_979224.csv\n",
      "Error message: No columns to parse from file\n",
      "Error with file: /media/ubuntu/6156e08b-fdb1-4cde-964e-431f74a6078e/Files/LLP_DATA/Original_DATA/2025-04-23-2HDM/LLP_data/B_2HDM/mass_5.01e+00_ctau_9.26e-08_br_1.00e+00_seed_979224.csv\n",
      "Error message: No columns to parse from file\n"
     ]
    },
    {
     "name": "stderr",
     "output_type": "stream",
     "text": [
      " 36%|███▌      | 1055/2961 [06:26<06:28,  4.90it/s]"
     ]
    },
    {
     "name": "stdout",
     "output_type": "stream",
     "text": [
      "Error with file: /media/ubuntu/6156e08b-fdb1-4cde-964e-431f74a6078e/Files/LLP_DATA/Original_DATA/2025-04-23-2HDM/LLP_data/B_2HDM/mass_6.31e+00_ctau_7.98e+03_br_1.00e+00_seed_979224.csv\n",
      "Error message: No columns to parse from file\n"
     ]
    },
    {
     "name": "stderr",
     "output_type": "stream",
     "text": [
      " 36%|███▋      | 1079/2961 [06:37<12:03,  2.60it/s]"
     ]
    },
    {
     "name": "stdout",
     "output_type": "stream",
     "text": [
      "Error with file: /media/ubuntu/6156e08b-fdb1-4cde-964e-431f74a6078e/Files/LLP_DATA/Original_DATA/2025-04-23-2HDM/LLP_data/B_2HDM/mass_1.00e+01_ctau_2.00e+05_br_1.00e+00_seed_979224.csv\n",
      "Error message: No columns to parse from file\n"
     ]
    },
    {
     "name": "stderr",
     "output_type": "stream",
     "text": [
      " 37%|███▋      | 1090/2961 [06:42<20:14,  1.54it/s]"
     ]
    },
    {
     "name": "stdout",
     "output_type": "stream",
     "text": [
      "Error with file: /media/ubuntu/6156e08b-fdb1-4cde-964e-431f74a6078e/Files/LLP_DATA/Original_DATA/2025-04-23-2HDM/LLP_data/B_2HDM/mass_5.01e+00_ctau_6.34e+08_br_1.00e+00_seed_979224.csv\n",
      "Error message: No columns to parse from file\n",
      "Error with file: /media/ubuntu/6156e08b-fdb1-4cde-964e-431f74a6078e/Files/LLP_DATA/Original_DATA/2025-04-23-2HDM/LLP_data/B_2HDM/mass_7.94e+00_ctau_1.00e+07_br_1.00e+00_seed_979224.csv\n",
      "Error message: No columns to parse from file\n",
      "Error with file: /media/ubuntu/6156e08b-fdb1-4cde-964e-431f74a6078e/Files/LLP_DATA/Original_DATA/2025-04-23-2HDM/LLP_data/B_2HDM/mass_7.94e+00_ctau_6.34e+08_br_1.00e+00_seed_979224.csv\n",
      "Error message: No columns to parse from file\n"
     ]
    },
    {
     "name": "stderr",
     "output_type": "stream",
     "text": [
      " 37%|███▋      | 1097/2961 [06:44<14:37,  2.12it/s]"
     ]
    },
    {
     "name": "stdout",
     "output_type": "stream",
     "text": [
      "Error with file: /media/ubuntu/6156e08b-fdb1-4cde-964e-431f74a6078e/Files/LLP_DATA/Original_DATA/2025-04-23-2HDM/LLP_data/B_2HDM/mass_7.94e+00_ctau_3.18e+04_br_1.00e+00_seed_979224.csv\n",
      "Error message: No columns to parse from file\n"
     ]
    },
    {
     "name": "stderr",
     "output_type": "stream",
     "text": [
      " 37%|███▋      | 1103/2961 [06:46<11:41,  2.65it/s]"
     ]
    },
    {
     "name": "stdout",
     "output_type": "stream",
     "text": [
      "Error with file: /media/ubuntu/6156e08b-fdb1-4cde-964e-431f74a6078e/Files/LLP_DATA/Original_DATA/2025-04-23-2HDM/LLP_data/B_2HDM/mass_7.94e+00_ctau_1.26e-01_br_1.00e+00_seed_979224.csv\n",
      "Error message: No columns to parse from file\n"
     ]
    },
    {
     "name": "stderr",
     "output_type": "stream",
     "text": [
      " 38%|███▊      | 1116/2961 [06:51<11:47,  2.61it/s]"
     ]
    },
    {
     "name": "stdout",
     "output_type": "stream",
     "text": [
      "Error with file: /media/ubuntu/6156e08b-fdb1-4cde-964e-431f74a6078e/Files/LLP_DATA/Original_DATA/2025-04-23-2HDM/LLP_data/B_2HDM/mass_7.94e+00_ctau_7.98e+05_br_1.00e+00_seed_979224.csv\n",
      "Error message: No columns to parse from file\n"
     ]
    },
    {
     "name": "stderr",
     "output_type": "stream",
     "text": [
      " 38%|███▊      | 1136/2961 [07:01<23:29,  1.29it/s]"
     ]
    },
    {
     "name": "stdout",
     "output_type": "stream",
     "text": [
      "Error with file: /media/ubuntu/6156e08b-fdb1-4cde-964e-431f74a6078e/Files/LLP_DATA/Original_DATA/2025-04-23-2HDM/LLP_data/B_2HDM/mass_6.31e+00_ctau_2.52e+07_br_1.00e+00_seed_979224.csv\n",
      "Error message: No columns to parse from file\n"
     ]
    },
    {
     "name": "stderr",
     "output_type": "stream",
     "text": [
      " 38%|███▊      | 1139/2961 [07:02<18:21,  1.65it/s]"
     ]
    },
    {
     "name": "stdout",
     "output_type": "stream",
     "text": [
      "Error with file: /media/ubuntu/6156e08b-fdb1-4cde-964e-431f74a6078e/Files/LLP_DATA/Original_DATA/2025-04-23-2HDM/LLP_data/B_2HDM/mass_5.01e+00_ctau_6.34e-01_br_1.00e+00_seed_979224.csv\n",
      "Error message: No columns to parse from file\n"
     ]
    },
    {
     "name": "stderr",
     "output_type": "stream",
     "text": [
      " 39%|███▊      | 1142/2961 [07:03<12:55,  2.35it/s]"
     ]
    },
    {
     "name": "stdout",
     "output_type": "stream",
     "text": [
      "Error with file: /media/ubuntu/6156e08b-fdb1-4cde-964e-431f74a6078e/Files/LLP_DATA/Original_DATA/2025-04-23-2HDM/LLP_data/B_2HDM/mass_5.01e+00_ctau_1.17e-03_br_1.00e+00_seed_979224.csv\n",
      "Error message: No columns to parse from file\n",
      "Error with file: /media/ubuntu/6156e08b-fdb1-4cde-964e-431f74a6078e/Files/LLP_DATA/Original_DATA/2025-04-23-2HDM/LLP_data/B_2HDM/mass_1.00e+01_ctau_7.97e+07_br_1.00e+00_seed_979224.csv\n",
      "Error message: No columns to parse from file\n"
     ]
    },
    {
     "name": "stderr",
     "output_type": "stream",
     "text": [
      " 39%|███▉      | 1149/2961 [07:05<11:26,  2.64it/s]"
     ]
    },
    {
     "name": "stdout",
     "output_type": "stream",
     "text": [
      "Error with file: /media/ubuntu/6156e08b-fdb1-4cde-964e-431f74a6078e/Files/LLP_DATA/Original_DATA/2025-04-23-2HDM/LLP_data/B_2HDM/mass_7.94e+00_ctau_1.59e+01_br_1.00e+00_seed_979224.csv\n",
      "Error message: No columns to parse from file\n"
     ]
    },
    {
     "name": "stderr",
     "output_type": "stream",
     "text": [
      " 39%|███▉      | 1155/2961 [07:07<10:48,  2.79it/s]"
     ]
    },
    {
     "name": "stdout",
     "output_type": "stream",
     "text": [
      "Error with file: /media/ubuntu/6156e08b-fdb1-4cde-964e-431f74a6078e/Files/LLP_DATA/Original_DATA/2025-04-23-2HDM/LLP_data/B_2HDM/mass_6.31e+00_ctau_5.03e-01_br_1.00e+00_seed_979224.csv\n",
      "Error message: No columns to parse from file\n"
     ]
    },
    {
     "name": "stderr",
     "output_type": "stream",
     "text": [
      " 39%|███▉      | 1157/2961 [07:08<08:35,  3.50it/s]"
     ]
    },
    {
     "name": "stdout",
     "output_type": "stream",
     "text": [
      "Error with file: /media/ubuntu/6156e08b-fdb1-4cde-964e-431f74a6078e/Files/LLP_DATA/Original_DATA/2025-04-23-2HDM/LLP_data/B_2HDM/mass_7.94e+00_ctau_6.34e+03_br_1.00e+00_seed_979224.csv\n",
      "Error message: No columns to parse from file\n"
     ]
    },
    {
     "name": "stderr",
     "output_type": "stream",
     "text": [
      " 39%|███▉      | 1160/2961 [07:08<08:19,  3.60it/s]"
     ]
    },
    {
     "name": "stdout",
     "output_type": "stream",
     "text": [
      "Error with file: /media/ubuntu/6156e08b-fdb1-4cde-964e-431f74a6078e/Files/LLP_DATA/Original_DATA/2025-04-23-2HDM/LLP_data/B_2HDM/mass_7.94e+00_ctau_1.13e-02_br_1.00e+00_seed_979224.csv\n",
      "Error message: No columns to parse from file\n"
     ]
    },
    {
     "name": "stderr",
     "output_type": "stream",
     "text": [
      " 39%|███▉      | 1162/2961 [07:09<07:19,  4.09it/s]"
     ]
    },
    {
     "name": "stdout",
     "output_type": "stream",
     "text": [
      "Error with file: /media/ubuntu/6156e08b-fdb1-4cde-964e-431f74a6078e/Files/LLP_DATA/Original_DATA/2025-04-23-2HDM/LLP_data/B_2HDM/mass_5.01e+00_ctau_2.01e+10_br_1.00e+00_seed_979224.csv\n",
      "Error message: No columns to parse from file\n"
     ]
    },
    {
     "name": "stderr",
     "output_type": "stream",
     "text": [
      " 40%|███▉      | 1171/2961 [07:12<11:09,  2.67it/s]"
     ]
    },
    {
     "name": "stdout",
     "output_type": "stream",
     "text": [
      "Error with file: /media/ubuntu/6156e08b-fdb1-4cde-964e-431f74a6078e/Files/LLP_DATA/Original_DATA/2025-04-23-2HDM/LLP_data/B_2HDM/mass_1.00e+01_ctau_2.00e+00_br_1.00e+00_seed_979224.csv\n",
      "Error message: No columns to parse from file\n"
     ]
    },
    {
     "name": "stderr",
     "output_type": "stream",
     "text": [
      " 40%|███▉      | 1174/2961 [07:13<09:32,  3.12it/s]"
     ]
    },
    {
     "name": "stdout",
     "output_type": "stream",
     "text": [
      "Error with file: /media/ubuntu/6156e08b-fdb1-4cde-964e-431f74a6078e/Files/LLP_DATA/Original_DATA/2025-04-23-2HDM/LLP_data/B_2HDM/mass_5.01e+00_ctau_2.52e+03_br_1.00e+00_seed_979224.csv\n",
      "Error message: No columns to parse from file\n",
      "Error with file: /media/ubuntu/6156e08b-fdb1-4cde-964e-431f74a6078e/Files/LLP_DATA/Original_DATA/2025-04-23-2HDM/LLP_data/B_2HDM/mass_1.00e+01_ctau_6.33e+00_br_1.00e+00_seed_979224.csv\n",
      "Error message: No columns to parse from file\n"
     ]
    },
    {
     "name": "stderr",
     "output_type": "stream",
     "text": [
      " 40%|███▉      | 1177/2961 [07:13<06:31,  4.55it/s]"
     ]
    },
    {
     "name": "stdout",
     "output_type": "stream",
     "text": [
      "Error with file: /media/ubuntu/6156e08b-fdb1-4cde-964e-431f74a6078e/Files/LLP_DATA/Original_DATA/2025-04-23-2HDM/LLP_data/B_2HDM/mass_6.31e+00_ctau_1.86e-03_br_1.00e+00_seed_979224.csv\n",
      "Error message: No columns to parse from file\n"
     ]
    },
    {
     "name": "stderr",
     "output_type": "stream",
     "text": [
      " 40%|███▉      | 1180/2961 [07:14<07:23,  4.01it/s]"
     ]
    },
    {
     "name": "stdout",
     "output_type": "stream",
     "text": [
      "Error with file: /media/ubuntu/6156e08b-fdb1-4cde-964e-431f74a6078e/Files/LLP_DATA/Original_DATA/2025-04-23-2HDM/LLP_data/B_2HDM/mass_7.94e+00_ctau_3.95e-02_br_1.00e+00_seed_979224.csv\n",
      "Error message: No columns to parse from file\n"
     ]
    },
    {
     "name": "stderr",
     "output_type": "stream",
     "text": [
      " 40%|███▉      | 1182/2961 [07:14<06:40,  4.44it/s]"
     ]
    },
    {
     "name": "stdout",
     "output_type": "stream",
     "text": [
      "Error with file: /media/ubuntu/6156e08b-fdb1-4cde-964e-431f74a6078e/Files/LLP_DATA/Original_DATA/2025-04-23-2HDM/LLP_data/B_2HDM/mass_5.01e+00_ctau_6.34e+06_br_1.00e+00_seed_979224.csv\n",
      "Error message: No columns to parse from file\n"
     ]
    },
    {
     "name": "stderr",
     "output_type": "stream",
     "text": [
      " 40%|████      | 1191/2961 [07:20<23:30,  1.25it/s]"
     ]
    },
    {
     "name": "stdout",
     "output_type": "stream",
     "text": [
      "Error with file: /media/ubuntu/6156e08b-fdb1-4cde-964e-431f74a6078e/Files/LLP_DATA/Original_DATA/2025-04-23-2HDM/LLP_data/B_2HDM/mass_6.31e+00_ctau_1.08e-07_br_1.00e+00_seed_979224.csv\n",
      "Error message: No columns to parse from file\n"
     ]
    },
    {
     "name": "stderr",
     "output_type": "stream",
     "text": [
      " 40%|████      | 1194/2961 [07:21<14:26,  2.04it/s]"
     ]
    },
    {
     "name": "stdout",
     "output_type": "stream",
     "text": [
      "Error with file: /media/ubuntu/6156e08b-fdb1-4cde-964e-431f74a6078e/Files/LLP_DATA/Original_DATA/2025-04-23-2HDM/LLP_data/B_2HDM/mass_1.00e+01_ctau_6.33e+08_br_1.00e+00_seed_979224.csv\n",
      "Error message: No columns to parse from file\n"
     ]
    },
    {
     "name": "stderr",
     "output_type": "stream",
     "text": [
      " 41%|████      | 1200/2961 [07:23<11:15,  2.61it/s]"
     ]
    },
    {
     "name": "stdout",
     "output_type": "stream",
     "text": [
      "Error with file: /media/ubuntu/6156e08b-fdb1-4cde-964e-431f74a6078e/Files/LLP_DATA/Original_DATA/2025-04-23-2HDM/LLP_data/B_2HDM/mass_5.01e+00_ctau_3.18e-04_br_1.00e+00_seed_979224.csv\n",
      "Error message: No columns to parse from file\n"
     ]
    },
    {
     "name": "stderr",
     "output_type": "stream",
     "text": [
      " 41%|████      | 1202/2961 [07:23<08:40,  3.38it/s]"
     ]
    },
    {
     "name": "stdout",
     "output_type": "stream",
     "text": [
      "Error with file: /media/ubuntu/6156e08b-fdb1-4cde-964e-431f74a6078e/Files/LLP_DATA/Original_DATA/2025-04-23-2HDM/LLP_data/B_2HDM/mass_7.94e+00_ctau_2.90e-06_br_1.00e+00_seed_979224.csv\n",
      "Error message: No columns to parse from file\n",
      "Error with file: /media/ubuntu/6156e08b-fdb1-4cde-964e-431f74a6078e/Files/LLP_DATA/Original_DATA/2025-04-23-2HDM/LLP_data/B_2HDM/mass_6.31e+00_ctau_2.52e+02_br_1.00e+00_seed_979224.csv\n",
      "Error message: No columns to parse from file\n"
     ]
    },
    {
     "name": "stderr",
     "output_type": "stream",
     "text": [
      " 41%|████      | 1205/2961 [07:24<06:20,  4.61it/s]"
     ]
    },
    {
     "name": "stdout",
     "output_type": "stream",
     "text": [
      "Error with file: /media/ubuntu/6156e08b-fdb1-4cde-964e-431f74a6078e/Files/LLP_DATA/Original_DATA/2025-04-23-2HDM/LLP_data/B_2HDM/mass_1.00e+01_ctau_2.00e+04_br_1.00e+00_seed_979224.csv\n",
      "Error message: No columns to parse from file\n",
      "Error with file: /media/ubuntu/6156e08b-fdb1-4cde-964e-431f74a6078e/Files/LLP_DATA/Original_DATA/2025-04-23-2HDM/LLP_data/B_2HDM/mass_5.01e+00_ctau_3.18e+02_br_1.00e+00_seed_979224.csv\n",
      "Error message: No columns to parse from file\n"
     ]
    },
    {
     "name": "stderr",
     "output_type": "stream",
     "text": [
      " 41%|████      | 1213/2961 [07:26<09:04,  3.21it/s]"
     ]
    },
    {
     "name": "stdout",
     "output_type": "stream",
     "text": [
      "Error with file: /media/ubuntu/6156e08b-fdb1-4cde-964e-431f74a6078e/Files/LLP_DATA/Original_DATA/2025-04-23-2HDM/LLP_data/B_2HDM/mass_7.94e+00_ctau_4.00e+09_br_1.00e+00_seed_979224.csv\n",
      "Error message: No columns to parse from file\n"
     ]
    },
    {
     "name": "stderr",
     "output_type": "stream",
     "text": [
      " 41%|████      | 1218/2961 [07:28<09:49,  2.96it/s]"
     ]
    },
    {
     "name": "stdout",
     "output_type": "stream",
     "text": [
      "Error with file: /media/ubuntu/6156e08b-fdb1-4cde-964e-431f74a6078e/Files/LLP_DATA/Original_DATA/2025-04-23-2HDM/LLP_data/B_2HDM/mass_7.94e+00_ctau_3.18e+08_br_1.00e+00_seed_979224.csv\n",
      "Error message: No columns to parse from file\n"
     ]
    },
    {
     "name": "stderr",
     "output_type": "stream",
     "text": [
      " 42%|████▏     | 1235/2961 [07:34<11:11,  2.57it/s]"
     ]
    },
    {
     "name": "stdout",
     "output_type": "stream",
     "text": [
      "Error with file: /media/ubuntu/6156e08b-fdb1-4cde-964e-431f74a6078e/Files/LLP_DATA/Original_DATA/2025-04-23-2HDM/LLP_data/B_2HDM/mass_6.31e+00_ctau_1.00e+01_br_1.00e+00_seed_979224.csv\n",
      "Error message: No columns to parse from file\n"
     ]
    },
    {
     "name": "stderr",
     "output_type": "stream",
     "text": [
      " 42%|████▏     | 1238/2961 [07:35<12:53,  2.23it/s]"
     ]
    },
    {
     "name": "stdout",
     "output_type": "stream",
     "text": [
      "Error with file: /media/ubuntu/6156e08b-fdb1-4cde-964e-431f74a6078e/Files/LLP_DATA/Original_DATA/2025-04-23-2HDM/LLP_data/B_2HDM/mass_1.00e+01_ctau_7.55e-03_br_1.00e+00_seed_979224.csv\n",
      "Error message: No columns to parse from file\n"
     ]
    },
    {
     "name": "stderr",
     "output_type": "stream",
     "text": [
      " 42%|████▏     | 1246/2961 [07:39<15:19,  1.86it/s]"
     ]
    },
    {
     "name": "stdout",
     "output_type": "stream",
     "text": [
      "Error with file: /media/ubuntu/6156e08b-fdb1-4cde-964e-431f74a6078e/Files/LLP_DATA/Original_DATA/2025-04-23-2HDM/LLP_data/B_2HDM/mass_5.01e+00_ctau_1.01e+03_br_1.00e+00_seed_979224.csv\n",
      "Error message: No columns to parse from file\n"
     ]
    },
    {
     "name": "stderr",
     "output_type": "stream",
     "text": [
      " 42%|████▏     | 1255/2961 [07:43<10:50,  2.62it/s]"
     ]
    },
    {
     "name": "stdout",
     "output_type": "stream",
     "text": [
      "Error with file: /media/ubuntu/6156e08b-fdb1-4cde-964e-431f74a6078e/Files/LLP_DATA/Original_DATA/2025-04-23-2HDM/LLP_data/B_2HDM/mass_7.94e+00_ctau_3.18e-01_br_1.00e+00_seed_979224.csv\n",
      "Error message: No columns to parse from file\n",
      "Error with file: /media/ubuntu/6156e08b-fdb1-4cde-964e-431f74a6078e/Files/LLP_DATA/Original_DATA/2025-04-23-2HDM/LLP_data/B_2HDM/mass_1.00e+01_ctau_3.17e-01_br_1.00e+00_seed_979224.csv\n",
      "Error message: No columns to parse from file\n"
     ]
    },
    {
     "name": "stderr",
     "output_type": "stream",
     "text": [
      " 43%|████▎     | 1270/2961 [07:47<10:21,  2.72it/s]"
     ]
    },
    {
     "name": "stdout",
     "output_type": "stream",
     "text": [
      "Error with file: /media/ubuntu/6156e08b-fdb1-4cde-964e-431f74a6078e/Files/LLP_DATA/Original_DATA/2025-04-23-2HDM/LLP_data/B_2HDM/mass_6.31e+00_ctau_2.52e+04_br_1.00e+00_seed_979224.csv\n",
      "Error message: No columns to parse from file\n"
     ]
    },
    {
     "name": "stderr",
     "output_type": "stream",
     "text": [
      " 43%|████▎     | 1272/2961 [07:48<09:20,  3.01it/s]"
     ]
    },
    {
     "name": "stdout",
     "output_type": "stream",
     "text": [
      "Error with file: /media/ubuntu/6156e08b-fdb1-4cde-964e-431f74a6078e/Files/LLP_DATA/Original_DATA/2025-04-23-2HDM/LLP_data/B_2HDM/mass_1.00e+01_ctau_1.59e+00_br_1.00e+00_seed_979224.csv\n",
      "Error message: No columns to parse from file\n",
      "Error with file: /media/ubuntu/6156e08b-fdb1-4cde-964e-431f74a6078e/Files/LLP_DATA/Original_DATA/2025-04-23-2HDM/LLP_data/B_2HDM/mass_1.00e+01_ctau_1.26e+05_br_1.00e+00_seed_979224.csv\n",
      "Error message: No columns to parse from file\n"
     ]
    },
    {
     "name": "stderr",
     "output_type": "stream",
     "text": [
      " 43%|████▎     | 1277/2961 [07:49<08:19,  3.37it/s]"
     ]
    },
    {
     "name": "stdout",
     "output_type": "stream",
     "text": [
      "Error with file: /media/ubuntu/6156e08b-fdb1-4cde-964e-431f74a6078e/Files/LLP_DATA/Original_DATA/2025-04-23-2HDM/LLP_data/B_2HDM/mass_1.00e+01_ctau_3.17e+04_br_1.00e+00_seed_979224.csv\n",
      "Error message: No columns to parse from file\n"
     ]
    },
    {
     "name": "stderr",
     "output_type": "stream",
     "text": [
      " 43%|████▎     | 1279/2961 [07:50<07:20,  3.82it/s]"
     ]
    },
    {
     "name": "stdout",
     "output_type": "stream",
     "text": [
      "Error with file: /media/ubuntu/6156e08b-fdb1-4cde-964e-431f74a6078e/Files/LLP_DATA/Original_DATA/2025-04-23-2HDM/LLP_data/B_2HDM/mass_7.94e+00_ctau_1.26e+05_br_1.00e+00_seed_979224.csv\n",
      "Error message: No columns to parse from file\n"
     ]
    },
    {
     "name": "stderr",
     "output_type": "stream",
     "text": [
      " 43%|████▎     | 1284/2961 [07:51<09:06,  3.07it/s]"
     ]
    },
    {
     "name": "stdout",
     "output_type": "stream",
     "text": [
      "Error with file: /media/ubuntu/6156e08b-fdb1-4cde-964e-431f74a6078e/Files/LLP_DATA/Original_DATA/2025-04-23-2HDM/LLP_data/B_2HDM/mass_1.00e+01_ctau_1.00e+07_br_1.00e+00_seed_979224.csv\n",
      "Error message: No columns to parse from file\n"
     ]
    },
    {
     "name": "stderr",
     "output_type": "stream",
     "text": [
      " 44%|████▍     | 1296/2961 [07:57<13:05,  2.12it/s]"
     ]
    },
    {
     "name": "stdout",
     "output_type": "stream",
     "text": [
      "Error with file: /media/ubuntu/6156e08b-fdb1-4cde-964e-431f74a6078e/Files/LLP_DATA/Original_DATA/2025-04-23-2HDM/LLP_data/B_2HDM/mass_1.00e+01_ctau_4.00e+07_br_1.00e+00_seed_979224.csv\n",
      "Error message: No columns to parse from file\n"
     ]
    },
    {
     "name": "stderr",
     "output_type": "stream",
     "text": [
      " 44%|████▍     | 1305/2961 [08:01<11:39,  2.37it/s]"
     ]
    },
    {
     "name": "stdout",
     "output_type": "stream",
     "text": [
      "Error with file: /media/ubuntu/6156e08b-fdb1-4cde-964e-431f74a6078e/Files/LLP_DATA/Original_DATA/2025-04-23-2HDM/LLP_data/B_2HDM/mass_1.00e+01_ctau_2.52e+02_br_1.00e+00_seed_979224.csv\n",
      "Error message: No columns to parse from file\n"
     ]
    },
    {
     "name": "stderr",
     "output_type": "stream",
     "text": [
      " 44%|████▍     | 1311/2961 [08:03<09:40,  2.84it/s]"
     ]
    },
    {
     "name": "stdout",
     "output_type": "stream",
     "text": [
      "Error with file: /media/ubuntu/6156e08b-fdb1-4cde-964e-431f74a6078e/Files/LLP_DATA/Original_DATA/2025-04-23-2HDM/LLP_data/B_2HDM/mass_6.31e+00_ctau_1.00e+03_br_1.00e+00_seed_979224.csv\n",
      "Error message: No columns to parse from file\n",
      "Error with file: /media/ubuntu/6156e08b-fdb1-4cde-964e-431f74a6078e/Files/LLP_DATA/Original_DATA/2025-04-23-2HDM/LLP_data/B_2HDM/mass_7.94e+00_ctau_5.03e-01_br_1.00e+00_seed_979224.csv\n",
      "Error message: No columns to parse from file\n"
     ]
    },
    {
     "name": "stderr",
     "output_type": "stream",
     "text": [
      " 44%|████▍     | 1317/2961 [08:04<08:37,  3.18it/s]"
     ]
    },
    {
     "name": "stdout",
     "output_type": "stream",
     "text": [
      "Error with file: /media/ubuntu/6156e08b-fdb1-4cde-964e-431f74a6078e/Files/LLP_DATA/Original_DATA/2025-04-23-2HDM/LLP_data/B_2HDM/mass_7.94e+00_ctau_8.42e-03_br_1.00e+00_seed_979224.csv\n",
      "Error message: No columns to parse from file\n"
     ]
    },
    {
     "name": "stderr",
     "output_type": "stream",
     "text": [
      " 45%|████▍     | 1323/2961 [08:08<18:05,  1.51it/s]"
     ]
    },
    {
     "name": "stdout",
     "output_type": "stream",
     "text": [
      "Error with file: /media/ubuntu/6156e08b-fdb1-4cde-964e-431f74a6078e/Files/LLP_DATA/Original_DATA/2025-04-23-2HDM/LLP_data/B_2HDM/mass_6.31e+00_ctau_7.98e+05_br_1.00e+00_seed_979224.csv\n",
      "Error message: No columns to parse from file\n"
     ]
    },
    {
     "name": "stderr",
     "output_type": "stream",
     "text": [
      " 45%|████▍     | 1325/2961 [08:09<20:11,  1.35it/s]"
     ]
    },
    {
     "name": "stdout",
     "output_type": "stream",
     "text": [
      "Error with file: /media/ubuntu/6156e08b-fdb1-4cde-964e-431f74a6078e/Files/LLP_DATA/Original_DATA/2025-04-23-2HDM/LLP_data/B_2HDM/mass_1.00e+01_ctau_1.05e-03_br_1.00e+00_seed_979224.csv\n",
      "Error message: No columns to parse from file\n"
     ]
    },
    {
     "name": "stderr",
     "output_type": "stream",
     "text": [
      " 45%|████▌     | 1334/2961 [08:12<10:49,  2.50it/s]"
     ]
    },
    {
     "name": "stdout",
     "output_type": "stream",
     "text": [
      "Error with file: /media/ubuntu/6156e08b-fdb1-4cde-964e-431f74a6078e/Files/LLP_DATA/Original_DATA/2025-04-23-2HDM/LLP_data/B_2HDM/mass_1.00e+01_ctau_2.52e+00_br_1.00e+00_seed_979224.csv\n",
      "Error message: No columns to parse from file\n"
     ]
    },
    {
     "name": "stderr",
     "output_type": "stream",
     "text": [
      " 45%|████▌     | 1336/2961 [08:13<08:14,  3.28it/s]"
     ]
    },
    {
     "name": "stdout",
     "output_type": "stream",
     "text": [
      "Error with file: /media/ubuntu/6156e08b-fdb1-4cde-964e-431f74a6078e/Files/LLP_DATA/Original_DATA/2025-04-23-2HDM/LLP_data/B_2HDM/mass_7.94e+00_ctau_1.48e-02_br_1.00e+00_seed_979224.csv\n",
      "Error message: No columns to parse from file\n"
     ]
    },
    {
     "name": "stderr",
     "output_type": "stream",
     "text": [
      " 45%|████▌     | 1341/2961 [08:14<08:52,  3.04it/s]"
     ]
    },
    {
     "name": "stdout",
     "output_type": "stream",
     "text": [
      "Error with file: /media/ubuntu/6156e08b-fdb1-4cde-964e-431f74a6078e/Files/LLP_DATA/Original_DATA/2025-04-23-2HDM/LLP_data/B_2HDM/mass_1.00e+01_ctau_3.99e-02_br_1.00e+00_seed_979224.csv\n",
      "Error message: No columns to parse from file\n"
     ]
    },
    {
     "name": "stderr",
     "output_type": "stream",
     "text": [
      " 45%|████▌     | 1344/2961 [08:15<07:56,  3.39it/s]"
     ]
    },
    {
     "name": "stdout",
     "output_type": "stream",
     "text": [
      "Error with file: /media/ubuntu/6156e08b-fdb1-4cde-964e-431f74a6078e/Files/LLP_DATA/Original_DATA/2025-04-23-2HDM/LLP_data/B_2HDM/mass_7.94e+00_ctau_4.00e+08_br_1.00e+00_seed_979224.csv\n",
      "Error message: No columns to parse from file\n"
     ]
    },
    {
     "name": "stderr",
     "output_type": "stream",
     "text": [
      " 45%|████▌     | 1347/2961 [08:16<07:44,  3.47it/s]"
     ]
    },
    {
     "name": "stdout",
     "output_type": "stream",
     "text": [
      "Error with file: /media/ubuntu/6156e08b-fdb1-4cde-964e-431f74a6078e/Files/LLP_DATA/Original_DATA/2025-04-23-2HDM/LLP_data/B_2HDM/mass_5.01e+00_ctau_4.00e+04_br_1.00e+00_seed_979224.csv\n",
      "Error message: No columns to parse from file\n"
     ]
    },
    {
     "name": "stderr",
     "output_type": "stream",
     "text": [
      " 46%|████▌     | 1351/2961 [08:17<08:34,  3.13it/s]"
     ]
    },
    {
     "name": "stdout",
     "output_type": "stream",
     "text": [
      "Error with file: /media/ubuntu/6156e08b-fdb1-4cde-964e-431f74a6078e/Files/LLP_DATA/Original_DATA/2025-04-23-2HDM/LLP_data/B_2HDM/mass_5.01e+00_ctau_7.98e+08_br_1.00e+00_seed_979224.csv\n",
      "Error message: No columns to parse from file\n"
     ]
    },
    {
     "name": "stderr",
     "output_type": "stream",
     "text": [
      " 46%|████▌     | 1353/2961 [08:17<07:22,  3.63it/s]"
     ]
    },
    {
     "name": "stdout",
     "output_type": "stream",
     "text": [
      "Error with file: /media/ubuntu/6156e08b-fdb1-4cde-964e-431f74a6078e/Files/LLP_DATA/Original_DATA/2025-04-23-2HDM/LLP_data/B_2HDM/mass_5.01e+00_ctau_1.01e+01_br_1.00e+00_seed_979224.csv\n",
      "Error message: No columns to parse from file\n"
     ]
    },
    {
     "name": "stderr",
     "output_type": "stream",
     "text": [
      " 46%|████▌     | 1359/2961 [08:19<09:08,  2.92it/s]"
     ]
    },
    {
     "name": "stdout",
     "output_type": "stream",
     "text": [
      "Error with file: /media/ubuntu/6156e08b-fdb1-4cde-964e-431f74a6078e/Files/LLP_DATA/Original_DATA/2025-04-23-2HDM/LLP_data/B_2HDM/mass_5.01e+00_ctau_2.01e+03_br_1.00e+00_seed_979224.csv\n",
      "Error message: No columns to parse from file\n"
     ]
    },
    {
     "name": "stderr",
     "output_type": "stream",
     "text": [
      " 46%|████▌     | 1362/2961 [08:20<07:53,  3.38it/s]"
     ]
    },
    {
     "name": "stdout",
     "output_type": "stream",
     "text": [
      "Error with file: /media/ubuntu/6156e08b-fdb1-4cde-964e-431f74a6078e/Files/LLP_DATA/Original_DATA/2025-04-23-2HDM/LLP_data/B_2HDM/mass_7.94e+00_ctau_1.00e+04_br_1.00e+00_seed_979224.csv\n",
      "Error message: No columns to parse from file\n"
     ]
    },
    {
     "name": "stderr",
     "output_type": "stream",
     "text": [
      " 46%|████▌     | 1365/2961 [08:21<07:24,  3.59it/s]"
     ]
    },
    {
     "name": "stdout",
     "output_type": "stream",
     "text": [
      "Error with file: /media/ubuntu/6156e08b-fdb1-4cde-964e-431f74a6078e/Files/LLP_DATA/Original_DATA/2025-04-23-2HDM/LLP_data/B_2HDM/mass_6.31e+00_ctau_1.11e-06_br_1.00e+00_seed_979224.csv\n",
      "Error message: No columns to parse from file\n"
     ]
    },
    {
     "name": "stderr",
     "output_type": "stream",
     "text": [
      " 46%|████▋     | 1372/2961 [08:24<15:46,  1.68it/s]"
     ]
    },
    {
     "name": "stdout",
     "output_type": "stream",
     "text": [
      "Error with file: /media/ubuntu/6156e08b-fdb1-4cde-964e-431f74a6078e/Files/LLP_DATA/Original_DATA/2025-04-23-2HDM/LLP_data/B_2HDM/mass_5.01e+00_ctau_1.27e+02_br_1.00e+00_seed_979224.csv\n",
      "Error message: No columns to parse from file\n"
     ]
    },
    {
     "name": "stderr",
     "output_type": "stream",
     "text": [
      " 47%|████▋     | 1382/2961 [08:30<14:32,  1.81it/s]"
     ]
    },
    {
     "name": "stdout",
     "output_type": "stream",
     "text": [
      "Error with file: /media/ubuntu/6156e08b-fdb1-4cde-964e-431f74a6078e/Files/LLP_DATA/Original_DATA/2025-04-23-2HDM/LLP_data/B_2HDM/mass_1.00e+01_ctau_1.60e-03_br_1.00e+00_seed_979224.csv\n",
      "Error message: No columns to parse from file\n"
     ]
    },
    {
     "name": "stderr",
     "output_type": "stream",
     "text": [
      " 47%|████▋     | 1389/2961 [08:32<10:10,  2.58it/s]"
     ]
    },
    {
     "name": "stdout",
     "output_type": "stream",
     "text": [
      "Error with file: /media/ubuntu/6156e08b-fdb1-4cde-964e-431f74a6078e/Files/LLP_DATA/Original_DATA/2025-04-23-2HDM/LLP_data/B_2HDM/mass_5.01e+00_ctau_1.61e-02_br_1.00e+00_seed_979224.csv\n",
      "Error message: No columns to parse from file\n"
     ]
    },
    {
     "name": "stderr",
     "output_type": "stream",
     "text": [
      " 47%|████▋     | 1394/2961 [08:34<09:12,  2.84it/s]"
     ]
    },
    {
     "name": "stdout",
     "output_type": "stream",
     "text": [
      "Error with file: /media/ubuntu/6156e08b-fdb1-4cde-964e-431f74a6078e/Files/LLP_DATA/Original_DATA/2025-04-23-2HDM/LLP_data/B_2HDM/mass_7.94e+00_ctau_1.26e+03_br_1.00e+00_seed_979224.csv\n",
      "Error message: No columns to parse from file\n"
     ]
    },
    {
     "name": "stderr",
     "output_type": "stream",
     "text": [
      " 47%|████▋     | 1406/2961 [08:38<10:04,  2.57it/s]"
     ]
    },
    {
     "name": "stdout",
     "output_type": "stream",
     "text": [
      "Error with file: /media/ubuntu/6156e08b-fdb1-4cde-964e-431f74a6078e/Files/LLP_DATA/Original_DATA/2025-04-23-2HDM/LLP_data/B_2HDM/mass_5.01e+00_ctau_1.24e-01_br_1.00e+00_seed_979224.csv\n",
      "Error message: No columns to parse from file\n"
     ]
    },
    {
     "name": "stderr",
     "output_type": "stream",
     "text": [
      " 48%|████▊     | 1414/2961 [08:42<12:38,  2.04it/s]"
     ]
    },
    {
     "name": "stdout",
     "output_type": "stream",
     "text": [
      "Error with file: /media/ubuntu/6156e08b-fdb1-4cde-964e-431f74a6078e/Files/LLP_DATA/Original_DATA/2025-04-23-2HDM/LLP_data/B_2HDM/mass_1.00e+01_ctau_9.56e-07_br_1.00e+00_seed_979224.csv\n",
      "Error message: No columns to parse from file\n",
      "Error with file: /media/ubuntu/6156e08b-fdb1-4cde-964e-431f74a6078e/Files/LLP_DATA/Original_DATA/2025-04-23-2HDM/LLP_data/B_2HDM/mass_6.31e+00_ctau_1.59e+03_br_1.00e+00_seed_979224.csv\n",
      "Error message: No columns to parse from file\n"
     ]
    },
    {
     "name": "stderr",
     "output_type": "stream",
     "text": [
      " 48%|████▊     | 1421/2961 [08:44<09:53,  2.60it/s]"
     ]
    },
    {
     "name": "stdout",
     "output_type": "stream",
     "text": [
      "Error with file: /media/ubuntu/6156e08b-fdb1-4cde-964e-431f74a6078e/Files/LLP_DATA/Original_DATA/2025-04-23-2HDM/LLP_data/B_2HDM/mass_1.00e+01_ctau_2.52e+05_br_1.00e+00_seed_979224.csv\n",
      "Error message: No columns to parse from file\n",
      "Error with file: /media/ubuntu/6156e08b-fdb1-4cde-964e-431f74a6078e/Files/LLP_DATA/Original_DATA/2025-04-23-2HDM/LLP_data/B_2HDM/mass_1.00e+01_ctau_4.00e+02_br_1.00e+00_seed_979224.csv\n",
      "Error message: No columns to parse from file\n"
     ]
    },
    {
     "name": "stderr",
     "output_type": "stream",
     "text": [
      " 48%|████▊     | 1427/2961 [08:47<14:41,  1.74it/s]"
     ]
    },
    {
     "name": "stdout",
     "output_type": "stream",
     "text": [
      "Error with file: /media/ubuntu/6156e08b-fdb1-4cde-964e-431f74a6078e/Files/LLP_DATA/Original_DATA/2025-04-23-2HDM/LLP_data/B_2HDM/mass_1.00e+01_ctau_5.03e+07_br_1.00e+00_seed_979224.csv\n",
      "Error message: No columns to parse from file\n"
     ]
    },
    {
     "name": "stderr",
     "output_type": "stream",
     "text": [
      " 49%|████▉     | 1448/2961 [08:55<09:40,  2.61it/s]"
     ]
    },
    {
     "name": "stdout",
     "output_type": "stream",
     "text": [
      "Error with file: /media/ubuntu/6156e08b-fdb1-4cde-964e-431f74a6078e/Files/LLP_DATA/Original_DATA/2025-04-23-2HDM/LLP_data/B_2HDM/mass_7.94e+00_ctau_1.26e+00_br_1.00e+00_seed_979224.csv\n",
      "Error message: No columns to parse from file\n"
     ]
    },
    {
     "name": "stderr",
     "output_type": "stream",
     "text": [
      " 49%|████▉     | 1452/2961 [08:56<08:23,  2.99it/s]"
     ]
    },
    {
     "name": "stdout",
     "output_type": "stream",
     "text": [
      "Error with file: /media/ubuntu/6156e08b-fdb1-4cde-964e-431f74a6078e/Files/LLP_DATA/Original_DATA/2025-04-23-2HDM/LLP_data/B_2HDM/mass_6.31e+00_ctau_1.26e+10_br_1.00e+00_seed_979224.csv\n",
      "Error message: No columns to parse from file\n"
     ]
    },
    {
     "name": "stderr",
     "output_type": "stream",
     "text": [
      " 49%|████▉     | 1465/2961 [09:03<10:34,  2.36it/s]"
     ]
    },
    {
     "name": "stdout",
     "output_type": "stream",
     "text": [
      "Error with file: /media/ubuntu/6156e08b-fdb1-4cde-964e-431f74a6078e/Files/LLP_DATA/Original_DATA/2025-04-23-2HDM/LLP_data/B_2HDM/mass_7.94e+00_ctau_2.00e+03_br_1.00e+00_seed_979224.csv\n",
      "Error message: No columns to parse from file\n"
     ]
    },
    {
     "name": "stderr",
     "output_type": "stream",
     "text": [
      " 50%|████▉     | 1468/2961 [09:04<08:27,  2.94it/s]"
     ]
    },
    {
     "name": "stdout",
     "output_type": "stream",
     "text": [
      "Error with file: /media/ubuntu/6156e08b-fdb1-4cde-964e-431f74a6078e/Files/LLP_DATA/Original_DATA/2025-04-23-2HDM/LLP_data/B_2HDM/mass_7.94e+00_ctau_9.25e-05_br_1.00e+00_seed_979224.csv\n",
      "Error message: No columns to parse from file\n"
     ]
    },
    {
     "name": "stderr",
     "output_type": "stream",
     "text": [
      " 50%|████▉     | 1471/2961 [09:05<08:29,  2.93it/s]"
     ]
    },
    {
     "name": "stdout",
     "output_type": "stream",
     "text": [
      "Error with file: /media/ubuntu/6156e08b-fdb1-4cde-964e-431f74a6078e/Files/LLP_DATA/Original_DATA/2025-04-23-2HDM/LLP_data/B_2HDM/mass_5.01e+00_ctau_1.01e+04_br_1.00e+00_seed_979224.csv\n",
      "Error message: No columns to parse from file\n"
     ]
    },
    {
     "name": "stderr",
     "output_type": "stream",
     "text": [
      " 50%|████▉     | 1473/2961 [09:05<07:10,  3.46it/s]"
     ]
    },
    {
     "name": "stdout",
     "output_type": "stream",
     "text": [
      "Error with file: /media/ubuntu/6156e08b-fdb1-4cde-964e-431f74a6078e/Files/LLP_DATA/Original_DATA/2025-04-23-2HDM/LLP_data/B_2HDM/mass_1.00e+01_ctau_1.59e-01_br_1.00e+00_seed_979224.csv\n",
      "Error message: No columns to parse from file\n",
      "Error with file: /media/ubuntu/6156e08b-fdb1-4cde-964e-431f74a6078e/Files/LLP_DATA/Original_DATA/2025-04-23-2HDM/LLP_data/B_2HDM/mass_5.01e+00_ctau_4.81e-06_br_1.00e+00_seed_979224.csv\n",
      "Error message: No columns to parse from file\n"
     ]
    },
    {
     "name": "stderr",
     "output_type": "stream",
     "text": [
      " 50%|█████     | 1483/2961 [09:08<08:35,  2.87it/s]"
     ]
    },
    {
     "name": "stdout",
     "output_type": "stream",
     "text": [
      "Error with file: /media/ubuntu/6156e08b-fdb1-4cde-964e-431f74a6078e/Files/LLP_DATA/Original_DATA/2025-04-23-2HDM/LLP_data/B_2HDM/mass_7.94e+00_ctau_2.52e+09_br_1.00e+00_seed_979224.csv\n",
      "Error message: No columns to parse from file\n"
     ]
    },
    {
     "name": "stderr",
     "output_type": "stream",
     "text": [
      " 51%|█████     | 1504/2961 [09:19<15:00,  1.62it/s]"
     ]
    },
    {
     "name": "stdout",
     "output_type": "stream",
     "text": [
      "Error with file: /media/ubuntu/6156e08b-fdb1-4cde-964e-431f74a6078e/Files/LLP_DATA/Original_DATA/2025-04-23-2HDM/LLP_data/B_2HDM/mass_1.00e+01_ctau_1.24e-02_br_1.00e+00_seed_979224.csv\n",
      "Error message: No columns to parse from file\n"
     ]
    },
    {
     "name": "stderr",
     "output_type": "stream",
     "text": [
      " 51%|█████     | 1513/2961 [09:22<09:46,  2.47it/s]"
     ]
    },
    {
     "name": "stdout",
     "output_type": "stream",
     "text": [
      "Error with file: /media/ubuntu/6156e08b-fdb1-4cde-964e-431f74a6078e/Files/LLP_DATA/Original_DATA/2025-04-23-2HDM/LLP_data/B_2HDM/mass_1.00e+01_ctau_1.59e+01_br_1.00e+00_seed_979224.csv\n",
      "Error message: No columns to parse from file\n"
     ]
    },
    {
     "name": "stderr",
     "output_type": "stream",
     "text": [
      " 51%|█████     | 1515/2961 [09:23<07:28,  3.23it/s]"
     ]
    },
    {
     "name": "stdout",
     "output_type": "stream",
     "text": [
      "Error with file: /media/ubuntu/6156e08b-fdb1-4cde-964e-431f74a6078e/Files/LLP_DATA/Original_DATA/2025-04-23-2HDM/LLP_data/B_2HDM/mass_1.00e+01_ctau_7.97e-01_br_1.00e+00_seed_979224.csv\n",
      "Error message: No columns to parse from file\n"
     ]
    },
    {
     "name": "stderr",
     "output_type": "stream",
     "text": [
      " 52%|█████▏    | 1529/2961 [09:28<08:53,  2.68it/s]"
     ]
    },
    {
     "name": "stdout",
     "output_type": "stream",
     "text": [
      "Error with file: /media/ubuntu/6156e08b-fdb1-4cde-964e-431f74a6078e/Files/LLP_DATA/Original_DATA/2025-04-23-2HDM/LLP_data/B_2HDM/mass_5.01e+00_ctau_1.01e+10_br_1.00e+00_seed_979224.csv\n",
      "Error message: No columns to parse from file\n"
     ]
    },
    {
     "name": "stderr",
     "output_type": "stream",
     "text": [
      " 52%|█████▏    | 1536/2961 [09:30<08:58,  2.64it/s]"
     ]
    },
    {
     "name": "stdout",
     "output_type": "stream",
     "text": [
      "Error with file: /media/ubuntu/6156e08b-fdb1-4cde-964e-431f74a6078e/Files/LLP_DATA/Original_DATA/2025-04-23-2HDM/LLP_data/B_2HDM/mass_1.00e+01_ctau_3.17e+01_br_1.00e+00_seed_979224.csv\n",
      "Error message: No columns to parse from file\n"
     ]
    },
    {
     "name": "stderr",
     "output_type": "stream",
     "text": [
      " 52%|█████▏    | 1541/2961 [09:32<09:24,  2.52it/s]"
     ]
    },
    {
     "name": "stdout",
     "output_type": "stream",
     "text": [
      "Error with file: /media/ubuntu/6156e08b-fdb1-4cde-964e-431f74a6078e/Files/LLP_DATA/Original_DATA/2025-04-23-2HDM/LLP_data/B_2HDM/mass_1.00e+01_ctau_2.00e+06_br_1.00e+00_seed_979224.csv\n",
      "Error message: No columns to parse from file\n"
     ]
    },
    {
     "name": "stderr",
     "output_type": "stream",
     "text": [
      " 52%|█████▏    | 1544/2961 [09:33<07:37,  3.10it/s]"
     ]
    },
    {
     "name": "stdout",
     "output_type": "stream",
     "text": [
      "Error with file: /media/ubuntu/6156e08b-fdb1-4cde-964e-431f74a6078e/Files/LLP_DATA/Original_DATA/2025-04-23-2HDM/LLP_data/B_2HDM/mass_6.31e+00_ctau_1.00e+02_br_1.00e+00_seed_979224.csv\n",
      "Error message: No columns to parse from file\n",
      "Error with file: /media/ubuntu/6156e08b-fdb1-4cde-964e-431f74a6078e/Files/LLP_DATA/Original_DATA/2025-04-23-2HDM/LLP_data/B_2HDM/mass_7.94e+00_ctau_3.18e+01_br_1.00e+00_seed_979224.csv\n",
      "Error message: No columns to parse from file\n"
     ]
    },
    {
     "name": "stderr",
     "output_type": "stream",
     "text": [
      " 52%|█████▏    | 1553/2961 [09:37<13:01,  1.80it/s]"
     ]
    },
    {
     "name": "stdout",
     "output_type": "stream",
     "text": [
      "Error with file: /media/ubuntu/6156e08b-fdb1-4cde-964e-431f74a6078e/Files/LLP_DATA/Original_DATA/2025-04-23-2HDM/LLP_data/B_2HDM/mass_5.01e+00_ctau_1.01e+05_br_1.00e+00_seed_979224.csv\n",
      "Error message: No columns to parse from file\n"
     ]
    },
    {
     "name": "stderr",
     "output_type": "stream",
     "text": [
      " 53%|█████▎    | 1558/2961 [09:38<09:10,  2.55it/s]"
     ]
    },
    {
     "name": "stdout",
     "output_type": "stream",
     "text": [
      "Error with file: /media/ubuntu/6156e08b-fdb1-4cde-964e-431f74a6078e/Files/LLP_DATA/Original_DATA/2025-04-23-2HDM/LLP_data/B_2HDM/mass_6.31e+00_ctau_7.98e+01_br_1.00e+00_seed_979224.csv\n",
      "Error message: No columns to parse from file\n"
     ]
    },
    {
     "name": "stderr",
     "output_type": "stream",
     "text": [
      " 53%|█████▎    | 1576/2961 [09:45<08:46,  2.63it/s]"
     ]
    },
    {
     "name": "stdout",
     "output_type": "stream",
     "text": [
      "Error with file: /media/ubuntu/6156e08b-fdb1-4cde-964e-431f74a6078e/Files/LLP_DATA/Original_DATA/2025-04-23-2HDM/LLP_data/B_2HDM/mass_5.01e+00_ctau_5.04e+06_br_1.00e+00_seed_979224.csv\n",
      "Error message: No columns to parse from file\n",
      "Error with file: /media/ubuntu/6156e08b-fdb1-4cde-964e-431f74a6078e/Files/LLP_DATA/Original_DATA/2025-04-23-2HDM/LLP_data/B_2HDM/mass_7.94e+00_ctau_1.26e+06_br_1.00e+00_seed_979224.csv\n",
      "Error message: No columns to parse from file\n"
     ]
    },
    {
     "name": "stderr",
     "output_type": "stream",
     "text": [
      " 53%|█████▎    | 1580/2961 [09:46<06:21,  3.62it/s]"
     ]
    },
    {
     "name": "stdout",
     "output_type": "stream",
     "text": [
      "Error with file: /media/ubuntu/6156e08b-fdb1-4cde-964e-431f74a6078e/Files/LLP_DATA/Original_DATA/2025-04-23-2HDM/LLP_data/B_2HDM/mass_5.01e+00_ctau_2.16e-03_br_1.00e+00_seed_979224.csv\n",
      "Error message: No columns to parse from file\n",
      "Error with file: /media/ubuntu/6156e08b-fdb1-4cde-964e-431f74a6078e/Files/LLP_DATA/Original_DATA/2025-04-23-2HDM/LLP_data/B_2HDM/mass_6.31e+00_ctau_2.20e-02_br_1.00e+00_seed_979224.csv\n",
      "Error message: No columns to parse from file\n"
     ]
    },
    {
     "name": "stderr",
     "output_type": "stream",
     "text": [
      " 54%|█████▍    | 1592/2961 [09:51<10:54,  2.09it/s]"
     ]
    },
    {
     "name": "stdout",
     "output_type": "stream",
     "text": [
      "Error with file: /media/ubuntu/6156e08b-fdb1-4cde-964e-431f74a6078e/Files/LLP_DATA/Original_DATA/2025-04-23-2HDM/LLP_data/B_2HDM/mass_5.01e+00_ctau_9.71e-02_br_1.00e+00_seed_979224.csv\n",
      "Error message: No columns to parse from file\n"
     ]
    },
    {
     "name": "stderr",
     "output_type": "stream",
     "text": [
      " 54%|█████▍    | 1597/2961 [09:54<15:38,  1.45it/s]"
     ]
    },
    {
     "name": "stdout",
     "output_type": "stream",
     "text": [
      "Error with file: /media/ubuntu/6156e08b-fdb1-4cde-964e-431f74a6078e/Files/LLP_DATA/Original_DATA/2025-04-23-2HDM/LLP_data/B_2HDM/mass_6.31e+00_ctau_1.62e-02_br_1.00e+00_seed_979224.csv\n",
      "Error message: No columns to parse from file\n"
     ]
    },
    {
     "name": "stderr",
     "output_type": "stream",
     "text": [
      " 54%|█████▍    | 1602/2961 [09:56<10:51,  2.09it/s]"
     ]
    },
    {
     "name": "stdout",
     "output_type": "stream",
     "text": [
      "Error with file: /media/ubuntu/6156e08b-fdb1-4cde-964e-431f74a6078e/Files/LLP_DATA/Original_DATA/2025-04-23-2HDM/LLP_data/B_2HDM/mass_5.01e+00_ctau_4.06e-05_br_1.00e+00_seed_979224.csv\n",
      "Error message: No columns to parse from file\n",
      "Error with file: /media/ubuntu/6156e08b-fdb1-4cde-964e-431f74a6078e/Files/LLP_DATA/Original_DATA/2025-04-23-2HDM/LLP_data/B_2HDM/mass_1.00e+01_ctau_7.97e-02_br_1.00e+00_seed_979224.csv\n",
      "Error message: No columns to parse from file\n",
      "Error with file: /media/ubuntu/6156e08b-fdb1-4cde-964e-431f74a6078e/Files/LLP_DATA/Original_DATA/2025-04-23-2HDM/LLP_data/B_2HDM/mass_5.01e+00_ctau_6.34e+02_br_1.00e+00_seed_979224.csv\n",
      "Error message: No columns to parse from file\n",
      "Error with file: /media/ubuntu/6156e08b-fdb1-4cde-964e-431f74a6078e/Files/LLP_DATA/Original_DATA/2025-04-23-2HDM/LLP_data/B_2HDM/mass_6.31e+00_ctau_7.98e+08_br_1.00e+00_seed_979224.csv\n",
      "Error message: No columns to parse from file\n"
     ]
    },
    {
     "name": "stderr",
     "output_type": "stream",
     "text": [
      " 54%|█████▍    | 1613/2961 [09:59<07:54,  2.84it/s]"
     ]
    },
    {
     "name": "stdout",
     "output_type": "stream",
     "text": [
      "Error with file: /media/ubuntu/6156e08b-fdb1-4cde-964e-431f74a6078e/Files/LLP_DATA/Original_DATA/2025-04-23-2HDM/LLP_data/B_2HDM/mass_6.31e+00_ctau_1.26e+04_br_1.00e+00_seed_979224.csv\n",
      "Error message: No columns to parse from file\n"
     ]
    },
    {
     "name": "stderr",
     "output_type": "stream",
     "text": [
      " 55%|█████▍    | 1625/2961 [10:03<08:28,  2.63it/s]"
     ]
    },
    {
     "name": "stdout",
     "output_type": "stream",
     "text": [
      "Error with file: /media/ubuntu/6156e08b-fdb1-4cde-964e-431f74a6078e/Files/LLP_DATA/Original_DATA/2025-04-23-2HDM/LLP_data/B_2HDM/mass_6.31e+00_ctau_1.94e-05_br_1.00e+00_seed_979224.csv\n",
      "Error message: No columns to parse from file\n"
     ]
    },
    {
     "name": "stderr",
     "output_type": "stream",
     "text": [
      " 55%|█████▌    | 1629/2961 [10:04<08:29,  2.62it/s]"
     ]
    },
    {
     "name": "stdout",
     "output_type": "stream",
     "text": [
      "Error with file: /media/ubuntu/6156e08b-fdb1-4cde-964e-431f74a6078e/Files/LLP_DATA/Original_DATA/2025-04-23-2HDM/LLP_data/B_2HDM/mass_5.01e+00_ctau_3.17e-01_br_1.00e+00_seed_979224.csv\n",
      "Error message: No columns to parse from file\n"
     ]
    },
    {
     "name": "stderr",
     "output_type": "stream",
     "text": [
      " 55%|█████▌    | 1633/2961 [10:06<08:02,  2.75it/s]"
     ]
    },
    {
     "name": "stdout",
     "output_type": "stream",
     "text": [
      "Error with file: /media/ubuntu/6156e08b-fdb1-4cde-964e-431f74a6078e/Files/LLP_DATA/Original_DATA/2025-04-23-2HDM/LLP_data/B_2HDM/mass_7.94e+00_ctau_1.00e+01_br_1.00e+00_seed_979224.csv\n",
      "Error message: No columns to parse from file\n"
     ]
    },
    {
     "name": "stderr",
     "output_type": "stream",
     "text": [
      " 55%|█████▌    | 1635/2961 [10:06<06:36,  3.35it/s]"
     ]
    },
    {
     "name": "stdout",
     "output_type": "stream",
     "text": [
      "Error with file: /media/ubuntu/6156e08b-fdb1-4cde-964e-431f74a6078e/Files/LLP_DATA/Original_DATA/2025-04-23-2HDM/LLP_data/B_2HDM/mass_6.31e+00_ctau_3.18e+06_br_1.00e+00_seed_979224.csv\n",
      "Error message: No columns to parse from file\n"
     ]
    },
    {
     "name": "stderr",
     "output_type": "stream",
     "text": [
      " 56%|█████▌    | 1644/2961 [10:10<10:04,  2.18it/s]"
     ]
    },
    {
     "name": "stdout",
     "output_type": "stream",
     "text": [
      "Error with file: /media/ubuntu/6156e08b-fdb1-4cde-964e-431f74a6078e/Files/LLP_DATA/Original_DATA/2025-04-23-2HDM/LLP_data/B_2HDM/mass_7.94e+00_ctau_1.07e-03_br_1.00e+00_seed_979224.csv\n",
      "Error message: No columns to parse from file\n"
     ]
    },
    {
     "name": "stderr",
     "output_type": "stream",
     "text": [
      " 56%|█████▌    | 1649/2961 [10:12<11:19,  1.93it/s]"
     ]
    },
    {
     "name": "stdout",
     "output_type": "stream",
     "text": [
      "Error with file: /media/ubuntu/6156e08b-fdb1-4cde-964e-431f74a6078e/Files/LLP_DATA/Original_DATA/2025-04-23-2HDM/LLP_data/B_2HDM/mass_5.01e+00_ctau_7.98e+06_br_1.00e+00_seed_979224.csv\n",
      "Error message: No columns to parse from file\n"
     ]
    },
    {
     "name": "stderr",
     "output_type": "stream",
     "text": [
      " 56%|█████▌    | 1659/2961 [10:16<08:42,  2.49it/s]"
     ]
    },
    {
     "name": "stdout",
     "output_type": "stream",
     "text": [
      "Error with file: /media/ubuntu/6156e08b-fdb1-4cde-964e-431f74a6078e/Files/LLP_DATA/Original_DATA/2025-04-23-2HDM/LLP_data/B_2HDM/mass_5.01e+00_ctau_1.27e+00_br_1.00e+00_seed_979224.csv\n",
      "Error message: No columns to parse from file\n"
     ]
    },
    {
     "name": "stderr",
     "output_type": "stream",
     "text": [
      " 56%|█████▋    | 1667/2961 [10:19<07:48,  2.76it/s]"
     ]
    },
    {
     "name": "stdout",
     "output_type": "stream",
     "text": [
      "Error with file: /media/ubuntu/6156e08b-fdb1-4cde-964e-431f74a6078e/Files/LLP_DATA/Original_DATA/2025-04-23-2HDM/LLP_data/B_2HDM/mass_5.01e+00_ctau_1.01e+02_br_1.00e+00_seed_979224.csv\n",
      "Error message: No columns to parse from file\n"
     ]
    },
    {
     "name": "stderr",
     "output_type": "stream",
     "text": [
      " 56%|█████▋    | 1672/2961 [10:20<08:35,  2.50it/s]"
     ]
    },
    {
     "name": "stdout",
     "output_type": "stream",
     "text": [
      "Error with file: /media/ubuntu/6156e08b-fdb1-4cde-964e-431f74a6078e/Files/LLP_DATA/Original_DATA/2025-04-23-2HDM/LLP_data/B_2HDM/mass_6.31e+00_ctau_1.59e+04_br_1.00e+00_seed_979224.csv\n",
      "Error message: No columns to parse from file\n",
      "Error with file: /media/ubuntu/6156e08b-fdb1-4cde-964e-431f74a6078e/Files/LLP_DATA/Original_DATA/2025-04-23-2HDM/LLP_data/B_2HDM/mass_7.94e+00_ctau_1.59e+07_br_1.00e+00_seed_979224.csv\n",
      "Error message: No columns to parse from file\n"
     ]
    },
    {
     "name": "stderr",
     "output_type": "stream",
     "text": [
      " 57%|█████▋    | 1677/2961 [10:22<06:27,  3.31it/s]"
     ]
    },
    {
     "name": "stdout",
     "output_type": "stream",
     "text": [
      "Error with file: /media/ubuntu/6156e08b-fdb1-4cde-964e-431f74a6078e/Files/LLP_DATA/Original_DATA/2025-04-23-2HDM/LLP_data/B_2HDM/mass_1.00e+01_ctau_3.17e+02_br_1.00e+00_seed_979224.csv\n",
      "Error message: No columns to parse from file\n"
     ]
    },
    {
     "name": "stderr",
     "output_type": "stream",
     "text": [
      " 57%|█████▋    | 1688/2961 [10:28<10:20,  2.05it/s]"
     ]
    },
    {
     "name": "stdout",
     "output_type": "stream",
     "text": [
      "Error with file: /media/ubuntu/6156e08b-fdb1-4cde-964e-431f74a6078e/Files/LLP_DATA/Original_DATA/2025-04-23-2HDM/LLP_data/B_2HDM/mass_1.00e+01_ctau_4.00e+06_br_1.00e+00_seed_979224.csv\n",
      "Error message: No columns to parse from file\n"
     ]
    },
    {
     "name": "stderr",
     "output_type": "stream",
     "text": [
      " 57%|█████▋    | 1698/2961 [10:32<08:05,  2.60it/s]"
     ]
    },
    {
     "name": "stdout",
     "output_type": "stream",
     "text": [
      "Error with file: /media/ubuntu/6156e08b-fdb1-4cde-964e-431f74a6078e/Files/LLP_DATA/Original_DATA/2025-04-23-2HDM/LLP_data/B_2HDM/mass_1.00e+01_ctau_5.03e-01_br_1.00e+00_seed_979224.csv\n",
      "Error message: No columns to parse from file\n"
     ]
    },
    {
     "name": "stderr",
     "output_type": "stream",
     "text": [
      " 57%|█████▋    | 1702/2961 [10:33<07:09,  2.93it/s]"
     ]
    },
    {
     "name": "stdout",
     "output_type": "stream",
     "text": [
      "Error with file: /media/ubuntu/6156e08b-fdb1-4cde-964e-431f74a6078e/Files/LLP_DATA/Original_DATA/2025-04-23-2HDM/LLP_data/B_2HDM/mass_7.94e+00_ctau_2.83e-03_br_1.00e+00_seed_979224.csv\n",
      "Error message: No columns to parse from file\n"
     ]
    },
    {
     "name": "stderr",
     "output_type": "stream",
     "text": [
      " 58%|█████▊    | 1704/2961 [10:33<05:58,  3.50it/s]"
     ]
    },
    {
     "name": "stdout",
     "output_type": "stream",
     "text": [
      "Error with file: /media/ubuntu/6156e08b-fdb1-4cde-964e-431f74a6078e/Files/LLP_DATA/Original_DATA/2025-04-23-2HDM/LLP_data/B_2HDM/mass_5.01e+00_ctau_2.01e+01_br_1.00e+00_seed_979224.csv\n",
      "Error message: No columns to parse from file\n"
     ]
    },
    {
     "name": "stderr",
     "output_type": "stream",
     "text": [
      " 58%|█████▊    | 1707/2961 [10:34<05:55,  3.52it/s]"
     ]
    },
    {
     "name": "stdout",
     "output_type": "stream",
     "text": [
      "Error with file: /media/ubuntu/6156e08b-fdb1-4cde-964e-431f74a6078e/Files/LLP_DATA/Original_DATA/2025-04-23-2HDM/LLP_data/B_2HDM/mass_7.94e+00_ctau_4.00e+04_br_1.00e+00_seed_979224.csv\n",
      "Error message: No columns to parse from file\n"
     ]
    },
    {
     "name": "stderr",
     "output_type": "stream",
     "text": [
      " 58%|█████▊    | 1714/2961 [10:36<07:14,  2.87it/s]"
     ]
    },
    {
     "name": "stdout",
     "output_type": "stream",
     "text": [
      "Error with file: /media/ubuntu/6156e08b-fdb1-4cde-964e-431f74a6078e/Files/LLP_DATA/Original_DATA/2025-04-23-2HDM/LLP_data/B_2HDM/mass_6.31e+00_ctau_7.98e+09_br_1.00e+00_seed_979224.csv\n",
      "Error message: No columns to parse from file\n"
     ]
    },
    {
     "name": "stderr",
     "output_type": "stream",
     "text": [
      " 58%|█████▊    | 1721/2961 [10:39<08:11,  2.52it/s]"
     ]
    },
    {
     "name": "stdout",
     "output_type": "stream",
     "text": [
      "Error with file: /media/ubuntu/6156e08b-fdb1-4cde-964e-431f74a6078e/Files/LLP_DATA/Original_DATA/2025-04-23-2HDM/LLP_data/B_2HDM/mass_1.00e+01_ctau_1.59e+06_br_1.00e+00_seed_979224.csv\n",
      "Error message: No columns to parse from file\n"
     ]
    },
    {
     "name": "stderr",
     "output_type": "stream",
     "text": [
      " 58%|█████▊    | 1724/2961 [10:40<09:58,  2.07it/s]"
     ]
    },
    {
     "name": "stdout",
     "output_type": "stream",
     "text": [
      "Error with file: /media/ubuntu/6156e08b-fdb1-4cde-964e-431f74a6078e/Files/LLP_DATA/Original_DATA/2025-04-23-2HDM/LLP_data/B_2HDM/mass_5.01e+00_ctau_5.03e-01_br_1.00e+00_seed_979224.csv\n",
      "Error message: No columns to parse from file\n"
     ]
    },
    {
     "name": "stderr",
     "output_type": "stream",
     "text": [
      " 58%|█████▊    | 1730/2961 [10:43<11:48,  1.74it/s]"
     ]
    },
    {
     "name": "stdout",
     "output_type": "stream",
     "text": [
      "Error with file: /media/ubuntu/6156e08b-fdb1-4cde-964e-431f74a6078e/Files/LLP_DATA/Original_DATA/2025-04-23-2HDM/LLP_data/B_2HDM/mass_7.94e+00_ctau_3.18e+07_br_1.00e+00_seed_979224.csv\n",
      "Error message: No columns to parse from file\n",
      "Error with file: /media/ubuntu/6156e08b-fdb1-4cde-964e-431f74a6078e/Files/LLP_DATA/Original_DATA/2025-04-23-2HDM/LLP_data/B_2HDM/mass_6.31e+00_ctau_2.00e+05_br_1.00e+00_seed_979224.csv\n",
      "Error message: No columns to parse from file\n"
     ]
    },
    {
     "name": "stderr",
     "output_type": "stream",
     "text": [
      " 59%|█████▊    | 1738/2961 [10:46<08:40,  2.35it/s]"
     ]
    },
    {
     "name": "stdout",
     "output_type": "stream",
     "text": [
      "Error with file: /media/ubuntu/6156e08b-fdb1-4cde-964e-431f74a6078e/Files/LLP_DATA/Original_DATA/2025-04-23-2HDM/LLP_data/B_2HDM/mass_6.31e+00_ctau_1.05e-08_br_1.00e+00_seed_979224.csv\n",
      "Error message: No columns to parse from file\n",
      "Error with file: /media/ubuntu/6156e08b-fdb1-4cde-964e-431f74a6078e/Files/LLP_DATA/Original_DATA/2025-04-23-2HDM/LLP_data/B_2HDM/mass_1.00e+01_ctau_5.03e+02_br_1.00e+00_seed_979224.csv\n",
      "Error message: No columns to parse from file\n"
     ]
    },
    {
     "name": "stderr",
     "output_type": "stream",
     "text": [
      " 59%|█████▉    | 1749/2961 [10:50<07:46,  2.60it/s]"
     ]
    },
    {
     "name": "stdout",
     "output_type": "stream",
     "text": [
      "Error with file: /media/ubuntu/6156e08b-fdb1-4cde-964e-431f74a6078e/Files/LLP_DATA/Original_DATA/2025-04-23-2HDM/LLP_data/B_2HDM/mass_6.31e+00_ctau_1.59e+05_br_1.00e+00_seed_979224.csv\n",
      "Error message: No columns to parse from file\n"
     ]
    },
    {
     "name": "stderr",
     "output_type": "stream",
     "text": [
      " 59%|█████▉    | 1760/2961 [10:54<07:44,  2.59it/s]"
     ]
    },
    {
     "name": "stdout",
     "output_type": "stream",
     "text": [
      "Error with file: /media/ubuntu/6156e08b-fdb1-4cde-964e-431f74a6078e/Files/LLP_DATA/Original_DATA/2025-04-23-2HDM/LLP_data/B_2HDM/mass_1.00e+01_ctau_3.17e+08_br_1.00e+00_seed_979224.csv\n",
      "Error message: No columns to parse from file\n"
     ]
    },
    {
     "name": "stderr",
     "output_type": "stream",
     "text": [
      " 60%|█████▉    | 1765/2961 [10:58<16:44,  1.19it/s]"
     ]
    },
    {
     "name": "stdout",
     "output_type": "stream",
     "text": [
      "Error with file: /media/ubuntu/6156e08b-fdb1-4cde-964e-431f74a6078e/Files/LLP_DATA/Original_DATA/2025-04-23-2HDM/LLP_data/B_2HDM/mass_1.00e+01_ctau_1.00e+04_br_1.00e+00_seed_979224.csv\n",
      "Error message: No columns to parse from file\n"
     ]
    },
    {
     "name": "stderr",
     "output_type": "stream",
     "text": [
      " 60%|██████    | 1777/2961 [11:02<07:46,  2.54it/s]"
     ]
    },
    {
     "name": "stdout",
     "output_type": "stream",
     "text": [
      "Error with file: /media/ubuntu/6156e08b-fdb1-4cde-964e-431f74a6078e/Files/LLP_DATA/Original_DATA/2025-04-23-2HDM/LLP_data/B_2HDM/mass_7.94e+00_ctau_5.03e+00_br_1.00e+00_seed_979224.csv\n",
      "Error message: No columns to parse from file\n"
     ]
    },
    {
     "name": "stderr",
     "output_type": "stream",
     "text": [
      " 60%|██████    | 1779/2961 [11:03<06:01,  3.27it/s]"
     ]
    },
    {
     "name": "stdout",
     "output_type": "stream",
     "text": [
      "Error with file: /media/ubuntu/6156e08b-fdb1-4cde-964e-431f74a6078e/Files/LLP_DATA/Original_DATA/2025-04-23-2HDM/LLP_data/B_2HDM/mass_6.31e+00_ctau_1.00e+08_br_1.00e+00_seed_979224.csv\n",
      "Error message: No columns to parse from file\n"
     ]
    },
    {
     "name": "stderr",
     "output_type": "stream",
     "text": [
      " 60%|██████    | 1790/2961 [11:07<07:25,  2.63it/s]"
     ]
    },
    {
     "name": "stdout",
     "output_type": "stream",
     "text": [
      "Error with file: /media/ubuntu/6156e08b-fdb1-4cde-964e-431f74a6078e/Files/LLP_DATA/Original_DATA/2025-04-23-2HDM/LLP_data/B_2HDM/mass_6.31e+00_ctau_5.04e+07_br_1.00e+00_seed_979224.csv\n",
      "Error message: No columns to parse from file\n"
     ]
    },
    {
     "name": "stderr",
     "output_type": "stream",
     "text": [
      " 61%|██████    | 1793/2961 [11:07<06:08,  3.17it/s]"
     ]
    },
    {
     "name": "stdout",
     "output_type": "stream",
     "text": [
      "Error with file: /media/ubuntu/6156e08b-fdb1-4cde-964e-431f74a6078e/Files/LLP_DATA/Original_DATA/2025-04-23-2HDM/LLP_data/B_2HDM/mass_6.31e+00_ctau_6.20e-02_br_1.00e+00_seed_979224.csv\n",
      "Error message: No columns to parse from file\n",
      "Error with file: /media/ubuntu/6156e08b-fdb1-4cde-964e-431f74a6078e/Files/LLP_DATA/Original_DATA/2025-04-23-2HDM/LLP_data/B_2HDM/mass_6.31e+00_ctau_3.18e+01_br_1.00e+00_seed_979224.csv\n",
      "Error message: No columns to parse from file\n"
     ]
    },
    {
     "name": "stderr",
     "output_type": "stream",
     "text": [
      " 61%|██████    | 1798/2961 [11:09<05:30,  3.52it/s]"
     ]
    },
    {
     "name": "stdout",
     "output_type": "stream",
     "text": [
      "Error with file: /media/ubuntu/6156e08b-fdb1-4cde-964e-431f74a6078e/Files/LLP_DATA/Original_DATA/2025-04-23-2HDM/LLP_data/B_2HDM/mass_1.00e+01_ctau_2.00e+01_br_1.00e+00_seed_979224.csv\n",
      "Error message: No columns to parse from file\n"
     ]
    },
    {
     "name": "stderr",
     "output_type": "stream",
     "text": [
      " 61%|██████▏   | 1814/2961 [11:16<17:31,  1.09it/s]"
     ]
    },
    {
     "name": "stdout",
     "output_type": "stream",
     "text": [
      "Error with file: /media/ubuntu/6156e08b-fdb1-4cde-964e-431f74a6078e/Files/LLP_DATA/Original_DATA/2025-04-23-2HDM/LLP_data/B_2HDM/mass_6.31e+00_ctau_1.04e-03_br_1.00e+00_seed_979224.csv\n",
      "Error message: No columns to parse from file\n"
     ]
    },
    {
     "name": "stderr",
     "output_type": "stream",
     "text": [
      " 62%|██████▏   | 1824/2961 [11:21<10:01,  1.89it/s]"
     ]
    },
    {
     "name": "stdout",
     "output_type": "stream",
     "text": [
      "Error with file: /media/ubuntu/6156e08b-fdb1-4cde-964e-431f74a6078e/Files/LLP_DATA/Original_DATA/2025-04-23-2HDM/LLP_data/B_2HDM/mass_5.01e+00_ctau_6.34e+09_br_1.00e+00_seed_979224.csv\n",
      "Error message: No columns to parse from file\n"
     ]
    },
    {
     "name": "stderr",
     "output_type": "stream",
     "text": [
      " 62%|██████▏   | 1828/2961 [11:22<07:24,  2.55it/s]"
     ]
    },
    {
     "name": "stdout",
     "output_type": "stream",
     "text": [
      "Error with file: /media/ubuntu/6156e08b-fdb1-4cde-964e-431f74a6078e/Files/LLP_DATA/Original_DATA/2025-04-23-2HDM/LLP_data/B_2HDM/mass_7.94e+00_ctau_1.00e+03_br_1.00e+00_seed_979224.csv\n",
      "Error message: No columns to parse from file\n",
      "Error with file: /media/ubuntu/6156e08b-fdb1-4cde-964e-431f74a6078e/Files/LLP_DATA/Original_DATA/2025-04-23-2HDM/LLP_data/B_2HDM/mass_6.31e+00_ctau_6.34e+08_br_1.00e+00_seed_979224.csv\n",
      "Error message: No columns to parse from file\n"
     ]
    },
    {
     "name": "stderr",
     "output_type": "stream",
     "text": [
      " 62%|██████▏   | 1845/2961 [11:28<07:23,  2.52it/s]"
     ]
    },
    {
     "name": "stdout",
     "output_type": "stream",
     "text": [
      "Error with file: /media/ubuntu/6156e08b-fdb1-4cde-964e-431f74a6078e/Files/LLP_DATA/Original_DATA/2025-04-23-2HDM/LLP_data/B_2HDM/mass_5.01e+00_ctau_7.98e+09_br_1.00e+00_seed_979224.csv\n",
      "Error message: No columns to parse from file\n",
      "Error with file: /media/ubuntu/6156e08b-fdb1-4cde-964e-431f74a6078e/Files/LLP_DATA/Original_DATA/2025-04-23-2HDM/LLP_data/B_2HDM/mass_1.00e+01_ctau_4.00e+08_br_1.00e+00_seed_979224.csv\n",
      "Error message: No columns to parse from file\n"
     ]
    },
    {
     "name": "stderr",
     "output_type": "stream",
     "text": [
      " 62%|██████▏   | 1849/2961 [11:29<05:02,  3.68it/s]"
     ]
    },
    {
     "name": "stdout",
     "output_type": "stream",
     "text": [
      "Error with file: /media/ubuntu/6156e08b-fdb1-4cde-964e-431f74a6078e/Files/LLP_DATA/Original_DATA/2025-04-23-2HDM/LLP_data/B_2HDM/mass_5.01e+00_ctau_3.18e+04_br_1.00e+00_seed_979224.csv\n",
      "Error message: No columns to parse from file\n"
     ]
    },
    {
     "name": "stderr",
     "output_type": "stream",
     "text": [
      " 63%|██████▎   | 1854/2961 [11:31<06:32,  2.82it/s]"
     ]
    },
    {
     "name": "stdout",
     "output_type": "stream",
     "text": [
      "Error with file: /media/ubuntu/6156e08b-fdb1-4cde-964e-431f74a6078e/Files/LLP_DATA/Original_DATA/2025-04-23-2HDM/LLP_data/B_2HDM/mass_6.31e+00_ctau_1.00e+09_br_1.00e+00_seed_979224.csv\n",
      "Error message: No columns to parse from file\n"
     ]
    },
    {
     "name": "stderr",
     "output_type": "stream",
     "text": [
      " 63%|██████▎   | 1858/2961 [11:32<06:49,  2.69it/s]"
     ]
    },
    {
     "name": "stdout",
     "output_type": "stream",
     "text": [
      "Error with file: /media/ubuntu/6156e08b-fdb1-4cde-964e-431f74a6078e/Files/LLP_DATA/Original_DATA/2025-04-23-2HDM/LLP_data/B_2HDM/mass_7.94e+00_ctau_1.59e+09_br_1.00e+00_seed_979224.csv\n",
      "Error message: No columns to parse from file\n"
     ]
    },
    {
     "name": "stderr",
     "output_type": "stream",
     "text": [
      " 63%|██████▎   | 1861/2961 [11:33<05:44,  3.19it/s]"
     ]
    },
    {
     "name": "stdout",
     "output_type": "stream",
     "text": [
      "Error with file: /media/ubuntu/6156e08b-fdb1-4cde-964e-431f74a6078e/Files/LLP_DATA/Original_DATA/2025-04-23-2HDM/LLP_data/B_2HDM/mass_7.94e+00_ctau_2.00e+09_br_1.00e+00_seed_979224.csv\n",
      "Error message: No columns to parse from file\n",
      "Error with file: /media/ubuntu/6156e08b-fdb1-4cde-964e-431f74a6078e/Files/LLP_DATA/Original_DATA/2025-04-23-2HDM/LLP_data/B_2HDM/mass_7.94e+00_ctau_1.59e+02_br_1.00e+00_seed_979224.csv\n",
      "Error message: No columns to parse from file\n"
     ]
    },
    {
     "name": "stderr",
     "output_type": "stream",
     "text": [
      " 63%|██████▎   | 1864/2961 [11:34<06:11,  2.95it/s]"
     ]
    },
    {
     "name": "stdout",
     "output_type": "stream",
     "text": [
      "Error with file: /media/ubuntu/6156e08b-fdb1-4cde-964e-431f74a6078e/Files/LLP_DATA/Original_DATA/2025-04-23-2HDM/LLP_data/B_2HDM/mass_5.01e+00_ctau_3.18e+00_br_1.00e+00_seed_979224.csv\n",
      "Error message: No columns to parse from file\n"
     ]
    },
    {
     "name": "stderr",
     "output_type": "stream",
     "text": [
      " 63%|██████▎   | 1867/2961 [11:36<08:40,  2.10it/s]"
     ]
    },
    {
     "name": "stdout",
     "output_type": "stream",
     "text": [
      "Error with file: /media/ubuntu/6156e08b-fdb1-4cde-964e-431f74a6078e/Files/LLP_DATA/Original_DATA/2025-04-23-2HDM/LLP_data/B_2HDM/mass_5.01e+00_ctau_4.00e+05_br_1.00e+00_seed_979224.csv\n",
      "Error message: No columns to parse from file\n"
     ]
    },
    {
     "name": "stderr",
     "output_type": "stream",
     "text": [
      " 63%|██████▎   | 1870/2961 [11:37<06:57,  2.61it/s]"
     ]
    },
    {
     "name": "stdout",
     "output_type": "stream",
     "text": [
      "Error with file: /media/ubuntu/6156e08b-fdb1-4cde-964e-431f74a6078e/Files/LLP_DATA/Original_DATA/2025-04-23-2HDM/LLP_data/B_2HDM/mass_7.94e+00_ctau_1.59e+03_br_1.00e+00_seed_979224.csv\n",
      "Error message: No columns to parse from file\n"
     ]
    },
    {
     "name": "stderr",
     "output_type": "stream",
     "text": [
      " 63%|██████▎   | 1873/2961 [11:38<05:59,  3.02it/s]"
     ]
    },
    {
     "name": "stdout",
     "output_type": "stream",
     "text": [
      "Error with file: /media/ubuntu/6156e08b-fdb1-4cde-964e-431f74a6078e/Files/LLP_DATA/Original_DATA/2025-04-23-2HDM/LLP_data/B_2HDM/mass_5.01e+00_ctau_2.01e+09_br_1.00e+00_seed_979224.csv\n",
      "Error message: No columns to parse from file\n"
     ]
    },
    {
     "name": "stderr",
     "output_type": "stream",
     "text": [
      " 63%|██████▎   | 1877/2961 [11:39<05:55,  3.05it/s]"
     ]
    },
    {
     "name": "stdout",
     "output_type": "stream",
     "text": [
      "Error with file: /media/ubuntu/6156e08b-fdb1-4cde-964e-431f74a6078e/Files/LLP_DATA/Original_DATA/2025-04-23-2HDM/LLP_data/B_2HDM/mass_1.00e+01_ctau_7.97e+02_br_1.00e+00_seed_979224.csv\n",
      "Error message: No columns to parse from file\n"
     ]
    },
    {
     "name": "stderr",
     "output_type": "stream",
     "text": [
      " 63%|██████▎   | 1879/2961 [11:39<04:59,  3.62it/s]"
     ]
    },
    {
     "name": "stdout",
     "output_type": "stream",
     "text": [
      "Error with file: /media/ubuntu/6156e08b-fdb1-4cde-964e-431f74a6078e/Files/LLP_DATA/Original_DATA/2025-04-23-2HDM/LLP_data/B_2HDM/mass_1.00e+01_ctau_1.26e+09_br_1.00e+00_seed_979224.csv\n",
      "Error message: No columns to parse from file\n"
     ]
    },
    {
     "name": "stderr",
     "output_type": "stream",
     "text": [
      " 64%|██████▍   | 1888/2961 [11:42<06:20,  2.82it/s]"
     ]
    },
    {
     "name": "stdout",
     "output_type": "stream",
     "text": [
      "Error with file: /media/ubuntu/6156e08b-fdb1-4cde-964e-431f74a6078e/Files/LLP_DATA/Original_DATA/2025-04-23-2HDM/LLP_data/B_2HDM/mass_5.01e+00_ctau_2.52e+04_br_1.00e+00_seed_979224.csv\n",
      "Error message: No columns to parse from file\n",
      "Error with file: /media/ubuntu/6156e08b-fdb1-4cde-964e-431f74a6078e/Files/LLP_DATA/Original_DATA/2025-04-23-2HDM/LLP_data/B_2HDM/mass_5.01e+00_ctau_5.04e+09_br_1.00e+00_seed_979224.csv\n",
      "Error message: No columns to parse from file\n"
     ]
    },
    {
     "name": "stderr",
     "output_type": "stream",
     "text": [
      " 64%|██████▍   | 1891/2961 [11:43<04:17,  4.15it/s]"
     ]
    },
    {
     "name": "stdout",
     "output_type": "stream",
     "text": [
      "Error with file: /media/ubuntu/6156e08b-fdb1-4cde-964e-431f74a6078e/Files/LLP_DATA/Original_DATA/2025-04-23-2HDM/LLP_data/B_2HDM/mass_6.31e+00_ctau_9.62e-06_br_1.00e+00_seed_979224.csv\n",
      "Error message: No columns to parse from file\n"
     ]
    },
    {
     "name": "stderr",
     "output_type": "stream",
     "text": [
      " 64%|██████▍   | 1900/2961 [11:46<06:18,  2.80it/s]"
     ]
    },
    {
     "name": "stdout",
     "output_type": "stream",
     "text": [
      "Error with file: /media/ubuntu/6156e08b-fdb1-4cde-964e-431f74a6078e/Files/LLP_DATA/Original_DATA/2025-04-23-2HDM/LLP_data/B_2HDM/mass_7.94e+00_ctau_4.00e+07_br_1.00e+00_seed_979224.csv\n",
      "Error message: No columns to parse from file\n",
      "Error with file: /media/ubuntu/6156e08b-fdb1-4cde-964e-431f74a6078e/Files/LLP_DATA/Original_DATA/2025-04-23-2HDM/LLP_data/B_2HDM/mass_6.31e+00_ctau_2.52e+06_br_1.00e+00_seed_979224.csv\n",
      "Error message: No columns to parse from file\n"
     ]
    },
    {
     "name": "stderr",
     "output_type": "stream",
     "text": [
      " 65%|██████▍   | 1911/2961 [11:49<06:40,  2.62it/s]"
     ]
    },
    {
     "name": "stdout",
     "output_type": "stream",
     "text": [
      "Error with file: /media/ubuntu/6156e08b-fdb1-4cde-964e-431f74a6078e/Files/LLP_DATA/Original_DATA/2025-04-23-2HDM/LLP_data/B_2HDM/mass_1.00e+01_ctau_3.17e+05_br_1.00e+00_seed_979224.csv\n",
      "Error message: No columns to parse from file\n",
      "Error with file: /media/ubuntu/6156e08b-fdb1-4cde-964e-431f74a6078e/Files/LLP_DATA/Original_DATA/2025-04-23-2HDM/LLP_data/B_2HDM/mass_5.01e+00_ctau_6.34e+07_br_1.00e+00_seed_979224.csv\n",
      "Error message: No columns to parse from file\n",
      "Error with file: /media/ubuntu/6156e08b-fdb1-4cde-964e-431f74a6078e/Files/LLP_DATA/Original_DATA/2025-04-23-2HDM/LLP_data/B_2HDM/mass_6.31e+00_ctau_3.18e+02_br_1.00e+00_seed_979224.csv\n",
      "Error message: No columns to parse from file\n",
      "Error with file: /media/ubuntu/6156e08b-fdb1-4cde-964e-431f74a6078e/Files/LLP_DATA/Original_DATA/2025-04-23-2HDM/LLP_data/B_2HDM/mass_5.01e+00_ctau_1.27e+03_br_1.00e+00_seed_979224.csv\n",
      "Error message: No columns to parse from file\n"
     ]
    },
    {
     "name": "stderr",
     "output_type": "stream",
     "text": [
      " 65%|██████▍   | 1917/2961 [11:51<05:31,  3.15it/s]"
     ]
    },
    {
     "name": "stdout",
     "output_type": "stream",
     "text": [
      "Error with file: /media/ubuntu/6156e08b-fdb1-4cde-964e-431f74a6078e/Files/LLP_DATA/Original_DATA/2025-04-23-2HDM/LLP_data/B_2HDM/mass_1.00e+01_ctau_2.18e-07_br_1.00e+00_seed_979224.csv\n",
      "Error message: No columns to parse from file\n"
     ]
    },
    {
     "name": "stderr",
     "output_type": "stream",
     "text": [
      " 65%|██████▌   | 1928/2961 [11:56<07:06,  2.42it/s]"
     ]
    },
    {
     "name": "stdout",
     "output_type": "stream",
     "text": [
      "Error with file: /media/ubuntu/6156e08b-fdb1-4cde-964e-431f74a6078e/Files/LLP_DATA/Original_DATA/2025-04-23-2HDM/LLP_data/B_2HDM/mass_5.01e+00_ctau_1.27e+05_br_1.00e+00_seed_979224.csv\n",
      "Error message: No columns to parse from file\n"
     ]
    },
    {
     "name": "stderr",
     "output_type": "stream",
     "text": [
      " 65%|██████▌   | 1931/2961 [11:57<05:41,  3.02it/s]"
     ]
    },
    {
     "name": "stdout",
     "output_type": "stream",
     "text": [
      "Error with file: /media/ubuntu/6156e08b-fdb1-4cde-964e-431f74a6078e/Files/LLP_DATA/Original_DATA/2025-04-23-2HDM/LLP_data/B_2HDM/mass_1.00e+01_ctau_1.26e+00_br_1.00e+00_seed_979224.csv\n",
      "Error message: No columns to parse from file\n"
     ]
    },
    {
     "name": "stderr",
     "output_type": "stream",
     "text": [
      " 65%|██████▌   | 1933/2961 [11:57<04:48,  3.56it/s]"
     ]
    },
    {
     "name": "stdout",
     "output_type": "stream",
     "text": [
      "Error with file: /media/ubuntu/6156e08b-fdb1-4cde-964e-431f74a6078e/Files/LLP_DATA/Original_DATA/2025-04-23-2HDM/LLP_data/B_2HDM/mass_1.00e+01_ctau_2.52e+01_br_1.00e+00_seed_979224.csv\n",
      "Error message: No columns to parse from file\n"
     ]
    },
    {
     "name": "stderr",
     "output_type": "stream",
     "text": [
      " 66%|██████▌   | 1942/2961 [12:00<06:20,  2.68it/s]"
     ]
    },
    {
     "name": "stdout",
     "output_type": "stream",
     "text": [
      "Error with file: /media/ubuntu/6156e08b-fdb1-4cde-964e-431f74a6078e/Files/LLP_DATA/Original_DATA/2025-04-23-2HDM/LLP_data/B_2HDM/mass_5.01e+00_ctau_2.01e+06_br_1.00e+00_seed_979224.csv\n",
      "Error message: No columns to parse from file\n"
     ]
    },
    {
     "name": "stderr",
     "output_type": "stream",
     "text": [
      " 66%|██████▌   | 1947/2961 [12:02<05:46,  2.93it/s]"
     ]
    },
    {
     "name": "stdout",
     "output_type": "stream",
     "text": [
      "Error with file: /media/ubuntu/6156e08b-fdb1-4cde-964e-431f74a6078e/Files/LLP_DATA/Original_DATA/2025-04-23-2HDM/LLP_data/B_2HDM/mass_5.01e+00_ctau_3.18e+01_br_1.00e+00_seed_979224.csv\n",
      "Error message: No columns to parse from file\n"
     ]
    },
    {
     "name": "stderr",
     "output_type": "stream",
     "text": [
      " 66%|██████▌   | 1950/2961 [12:03<05:01,  3.36it/s]"
     ]
    },
    {
     "name": "stdout",
     "output_type": "stream",
     "text": [
      "Error with file: /media/ubuntu/6156e08b-fdb1-4cde-964e-431f74a6078e/Files/LLP_DATA/Original_DATA/2025-04-23-2HDM/LLP_data/B_2HDM/mass_7.94e+00_ctau_3.18e+05_br_1.00e+00_seed_979224.csv\n",
      "Error message: No columns to parse from file\n",
      "Error with file: /media/ubuntu/6156e08b-fdb1-4cde-964e-431f74a6078e/Files/LLP_DATA/Original_DATA/2025-04-23-2HDM/LLP_data/B_2HDM/mass_6.31e+00_ctau_4.72e-06_br_1.00e+00_seed_979224.csv\n",
      "Error message: No columns to parse from file\n"
     ]
    },
    {
     "name": "stderr",
     "output_type": "stream",
     "text": [
      " 66%|██████▌   | 1956/2961 [12:04<05:05,  3.29it/s]"
     ]
    },
    {
     "name": "stdout",
     "output_type": "stream",
     "text": [
      "Error with file: /media/ubuntu/6156e08b-fdb1-4cde-964e-431f74a6078e/Files/LLP_DATA/Original_DATA/2025-04-23-2HDM/LLP_data/B_2HDM/mass_6.31e+00_ctau_2.52e+08_br_1.00e+00_seed_979224.csv\n",
      "Error message: No columns to parse from file\n",
      "Error with file: /media/ubuntu/6156e08b-fdb1-4cde-964e-431f74a6078e/Files/LLP_DATA/Original_DATA/2025-04-23-2HDM/LLP_data/B_2HDM/mass_5.01e+00_ctau_2.31e-06_br_1.00e+00_seed_979224.csv\n",
      "Error message: No columns to parse from file\n"
     ]
    },
    {
     "name": "stderr",
     "output_type": "stream",
     "text": [
      " 66%|██████▋   | 1962/2961 [12:08<08:49,  1.89it/s]"
     ]
    },
    {
     "name": "stdout",
     "output_type": "stream",
     "text": [
      "Error with file: /media/ubuntu/6156e08b-fdb1-4cde-964e-431f74a6078e/Files/LLP_DATA/Original_DATA/2025-04-23-2HDM/LLP_data/B_2HDM/mass_5.01e+00_ctau_1.59e+09_br_1.00e+00_seed_979224.csv\n",
      "Error message: No columns to parse from file\n",
      "Error with file: /media/ubuntu/6156e08b-fdb1-4cde-964e-431f74a6078e/Files/LLP_DATA/Original_DATA/2025-04-23-2HDM/LLP_data/B_2HDM/mass_7.94e+00_ctau_1.19e-05_br_1.00e+00_seed_979224.csv\n",
      "Error message: No columns to parse from file\n"
     ]
    },
    {
     "name": "stderr",
     "output_type": "stream",
     "text": [
      " 66%|██████▋   | 1965/2961 [12:09<05:27,  3.04it/s]"
     ]
    },
    {
     "name": "stdout",
     "output_type": "stream",
     "text": [
      "Error with file: /media/ubuntu/6156e08b-fdb1-4cde-964e-431f74a6078e/Files/LLP_DATA/Original_DATA/2025-04-23-2HDM/LLP_data/B_2HDM/mass_5.01e+00_ctau_1.27e+07_br_1.00e+00_seed_979224.csv\n",
      "Error message: No columns to parse from file\n"
     ]
    },
    {
     "name": "stderr",
     "output_type": "stream",
     "text": [
      " 66%|██████▋   | 1967/2961 [12:09<04:44,  3.50it/s]"
     ]
    },
    {
     "name": "stdout",
     "output_type": "stream",
     "text": [
      "Error with file: /media/ubuntu/6156e08b-fdb1-4cde-964e-431f74a6078e/Files/LLP_DATA/Original_DATA/2025-04-23-2HDM/LLP_data/B_2HDM/mass_5.01e+00_ctau_3.18e+08_br_1.00e+00_seed_979224.csv\n",
      "Error message: No columns to parse from file\n"
     ]
    },
    {
     "name": "stderr",
     "output_type": "stream",
     "text": [
      " 66%|██████▋   | 1969/2961 [12:09<04:12,  3.92it/s]"
     ]
    },
    {
     "name": "stdout",
     "output_type": "stream",
     "text": [
      "Error with file: /media/ubuntu/6156e08b-fdb1-4cde-964e-431f74a6078e/Files/LLP_DATA/Original_DATA/2025-04-23-2HDM/LLP_data/B_2HDM/mass_7.94e+00_ctau_1.26e+01_br_1.00e+00_seed_979224.csv\n",
      "Error message: No columns to parse from file\n"
     ]
    },
    {
     "name": "stderr",
     "output_type": "stream",
     "text": [
      " 67%|██████▋   | 1971/2961 [12:10<03:54,  4.23it/s]"
     ]
    },
    {
     "name": "stdout",
     "output_type": "stream",
     "text": [
      "Error with file: /media/ubuntu/6156e08b-fdb1-4cde-964e-431f74a6078e/Files/LLP_DATA/Original_DATA/2025-04-23-2HDM/LLP_data/B_2HDM/mass_7.94e+00_ctau_4.00e+00_br_1.00e+00_seed_979224.csv\n",
      "Error message: No columns to parse from file\n"
     ]
    },
    {
     "name": "stderr",
     "output_type": "stream",
     "text": [
      " 67%|██████▋   | 1981/2961 [12:14<06:02,  2.70it/s]"
     ]
    },
    {
     "name": "stdout",
     "output_type": "stream",
     "text": [
      "Error with file: /media/ubuntu/6156e08b-fdb1-4cde-964e-431f74a6078e/Files/LLP_DATA/Original_DATA/2025-04-23-2HDM/LLP_data/B_2HDM/mass_7.94e+00_ctau_2.52e+03_br_1.00e+00_seed_979224.csv\n",
      "Error message: No columns to parse from file\n",
      "Error with file: /media/ubuntu/6156e08b-fdb1-4cde-964e-431f74a6078e/Files/LLP_DATA/Original_DATA/2025-04-23-2HDM/LLP_data/B_2HDM/mass_7.94e+00_ctau_7.98e+04_br_1.00e+00_seed_979224.csv\n",
      "Error message: No columns to parse from file\n",
      "Error with file: /media/ubuntu/6156e08b-fdb1-4cde-964e-431f74a6078e/Files/LLP_DATA/Original_DATA/2025-04-23-2HDM/LLP_data/B_2HDM/mass_5.01e+00_ctau_4.00e+08_br_1.00e+00_seed_979224.csv\n",
      "Error message: No columns to parse from file\n"
     ]
    },
    {
     "name": "stderr",
     "output_type": "stream",
     "text": [
      " 67%|██████▋   | 1988/2961 [12:15<04:39,  3.48it/s]"
     ]
    },
    {
     "name": "stdout",
     "output_type": "stream",
     "text": [
      "Error with file: /media/ubuntu/6156e08b-fdb1-4cde-964e-431f74a6078e/Files/LLP_DATA/Original_DATA/2025-04-23-2HDM/LLP_data/B_2HDM/mass_7.94e+00_ctau_6.11e-03_br_1.00e+00_seed_979224.csv\n",
      "Error message: No columns to parse from file\n",
      "Error with file: /media/ubuntu/6156e08b-fdb1-4cde-964e-431f74a6078e/Files/LLP_DATA/Original_DATA/2025-04-23-2HDM/LLP_data/B_2HDM/mass_6.31e+00_ctau_6.34e+04_br_1.00e+00_seed_979224.csv\n",
      "Error message: No columns to parse from file\n"
     ]
    },
    {
     "name": "stderr",
     "output_type": "stream",
     "text": [
      " 68%|██████▊   | 2004/2961 [12:21<07:01,  2.27it/s]"
     ]
    },
    {
     "name": "stdout",
     "output_type": "stream",
     "text": [
      "Error with file: /media/ubuntu/6156e08b-fdb1-4cde-964e-431f74a6078e/Files/LLP_DATA/Original_DATA/2025-04-23-2HDM/LLP_data/B_2HDM/mass_1.00e+01_ctau_5.03e+04_br_1.00e+00_seed_979224.csv\n",
      "Error message: No columns to parse from file\n"
     ]
    },
    {
     "name": "stderr",
     "output_type": "stream",
     "text": [
      " 68%|██████▊   | 2011/2961 [12:23<06:56,  2.28it/s]"
     ]
    },
    {
     "name": "stdout",
     "output_type": "stream",
     "text": [
      "Error with file: /media/ubuntu/6156e08b-fdb1-4cde-964e-431f74a6078e/Files/LLP_DATA/Original_DATA/2025-04-23-2HDM/LLP_data/B_2HDM/mass_1.00e+01_ctau_2.52e+07_br_1.00e+00_seed_979224.csv\n",
      "Error message: No columns to parse from file\n"
     ]
    },
    {
     "name": "stderr",
     "output_type": "stream",
     "text": [
      " 68%|██████▊   | 2014/2961 [12:24<05:25,  2.91it/s]"
     ]
    },
    {
     "name": "stdout",
     "output_type": "stream",
     "text": [
      "Error with file: /media/ubuntu/6156e08b-fdb1-4cde-964e-431f74a6078e/Files/LLP_DATA/Original_DATA/2025-04-23-2HDM/LLP_data/B_2HDM/mass_6.31e+00_ctau_1.26e+05_br_1.00e+00_seed_979224.csv\n",
      "Error message: No columns to parse from file\n"
     ]
    },
    {
     "name": "stderr",
     "output_type": "stream",
     "text": [
      " 68%|██████▊   | 2016/2961 [12:26<07:42,  2.04it/s]"
     ]
    },
    {
     "name": "stdout",
     "output_type": "stream",
     "text": [
      "Error with file: /media/ubuntu/6156e08b-fdb1-4cde-964e-431f74a6078e/Files/LLP_DATA/Original_DATA/2025-04-23-2HDM/LLP_data/B_2HDM/mass_7.94e+00_ctau_4.00e+01_br_1.00e+00_seed_979224.csv\n",
      "Error message: No columns to parse from file\n",
      "Error with file: /media/ubuntu/6156e08b-fdb1-4cde-964e-431f74a6078e/Files/LLP_DATA/Original_DATA/2025-04-23-2HDM/LLP_data/B_2HDM/mass_1.00e+01_ctau_1.60e-05_br_1.00e+00_seed_979224.csv\n",
      "Error message: No columns to parse from file\n",
      "Error with file: /media/ubuntu/6156e08b-fdb1-4cde-964e-431f74a6078e/Files/LLP_DATA/Original_DATA/2025-04-23-2HDM/LLP_data/B_2HDM/mass_6.31e+00_ctau_3.18e+08_br_1.00e+00_seed_979224.csv\n",
      "Error message: No columns to parse from file\n"
     ]
    },
    {
     "name": "stderr",
     "output_type": "stream",
     "text": [
      " 69%|██████▊   | 2029/2961 [12:30<05:54,  2.63it/s]"
     ]
    },
    {
     "name": "stdout",
     "output_type": "stream",
     "text": [
      "Error with file: /media/ubuntu/6156e08b-fdb1-4cde-964e-431f74a6078e/Files/LLP_DATA/Original_DATA/2025-04-23-2HDM/LLP_data/B_2HDM/mass_5.01e+00_ctau_3.84e-03_br_1.00e+00_seed_979224.csv\n",
      "Error message: No columns to parse from file\n"
     ]
    },
    {
     "name": "stderr",
     "output_type": "stream",
     "text": [
      " 69%|██████▊   | 2035/2961 [12:32<05:50,  2.64it/s]"
     ]
    },
    {
     "name": "stdout",
     "output_type": "stream",
     "text": [
      "Error with file: /media/ubuntu/6156e08b-fdb1-4cde-964e-431f74a6078e/Files/LLP_DATA/Original_DATA/2025-04-23-2HDM/LLP_data/B_2HDM/mass_7.94e+00_ctau_7.98e+00_br_1.00e+00_seed_979224.csv\n",
      "Error message: No columns to parse from file\n"
     ]
    },
    {
     "name": "stderr",
     "output_type": "stream",
     "text": [
      " 69%|██████▉   | 2038/2961 [12:33<05:07,  3.00it/s]"
     ]
    },
    {
     "name": "stdout",
     "output_type": "stream",
     "text": [
      "Error with file: /media/ubuntu/6156e08b-fdb1-4cde-964e-431f74a6078e/Files/LLP_DATA/Original_DATA/2025-04-23-2HDM/LLP_data/B_2HDM/mass_7.94e+00_ctau_4.72e-05_br_1.00e+00_seed_979224.csv\n",
      "Error message: No columns to parse from file\n"
     ]
    },
    {
     "name": "stderr",
     "output_type": "stream",
     "text": [
      " 69%|██████▉   | 2040/2961 [12:33<04:19,  3.54it/s]"
     ]
    },
    {
     "name": "stdout",
     "output_type": "stream",
     "text": [
      "Error with file: /media/ubuntu/6156e08b-fdb1-4cde-964e-431f74a6078e/Files/LLP_DATA/Original_DATA/2025-04-23-2HDM/LLP_data/B_2HDM/mass_7.94e+00_ctau_7.98e-01_br_1.00e+00_seed_979224.csv\n",
      "Error message: No columns to parse from file\n"
     ]
    },
    {
     "name": "stderr",
     "output_type": "stream",
     "text": [
      " 69%|██████▉   | 2043/2961 [12:34<04:12,  3.63it/s]"
     ]
    },
    {
     "name": "stdout",
     "output_type": "stream",
     "text": [
      "Error with file: /media/ubuntu/6156e08b-fdb1-4cde-964e-431f74a6078e/Files/LLP_DATA/Original_DATA/2025-04-23-2HDM/LLP_data/B_2HDM/mass_5.01e+00_ctau_2.26e-07_br_1.00e+00_seed_979224.csv\n",
      "Error message: No columns to parse from file\n"
     ]
    },
    {
     "name": "stderr",
     "output_type": "stream",
     "text": [
      " 69%|██████▉   | 2046/2961 [12:35<04:11,  3.64it/s]"
     ]
    },
    {
     "name": "stdout",
     "output_type": "stream",
     "text": [
      "Error with file: /media/ubuntu/6156e08b-fdb1-4cde-964e-431f74a6078e/Files/LLP_DATA/Original_DATA/2025-04-23-2HDM/LLP_data/B_2HDM/mass_7.94e+00_ctau_6.34e+06_br_1.00e+00_seed_979224.csv\n",
      "Error message: No columns to parse from file\n"
     ]
    },
    {
     "name": "stderr",
     "output_type": "stream",
     "text": [
      " 69%|██████▉   | 2050/2961 [12:36<04:38,  3.28it/s]"
     ]
    },
    {
     "name": "stdout",
     "output_type": "stream",
     "text": [
      "Error with file: /media/ubuntu/6156e08b-fdb1-4cde-964e-431f74a6078e/Files/LLP_DATA/Original_DATA/2025-04-23-2HDM/LLP_data/B_2HDM/mass_6.31e+00_ctau_3.78e-02_br_1.00e+00_seed_979224.csv\n",
      "Error message: No columns to parse from file\n",
      "Error with file: /media/ubuntu/6156e08b-fdb1-4cde-964e-431f74a6078e/Files/LLP_DATA/Original_DATA/2025-04-23-2HDM/LLP_data/B_2HDM/mass_7.94e+00_ctau_1.59e+08_br_1.00e+00_seed_979224.csv\n",
      "Error message: No columns to parse from file\n"
     ]
    },
    {
     "name": "stderr",
     "output_type": "stream",
     "text": [
      " 70%|██████▉   | 2069/2961 [12:45<07:07,  2.09it/s]"
     ]
    },
    {
     "name": "stdout",
     "output_type": "stream",
     "text": [
      "Error with file: /media/ubuntu/6156e08b-fdb1-4cde-964e-431f74a6078e/Files/LLP_DATA/Original_DATA/2025-04-23-2HDM/LLP_data/B_2HDM/mass_1.00e+01_ctau_2.52e-01_br_1.00e+00_seed_979224.csv\n",
      "Error message: No columns to parse from file\n"
     ]
    },
    {
     "name": "stderr",
     "output_type": "stream",
     "text": [
      " 70%|███████   | 2075/2961 [12:47<06:02,  2.44it/s]"
     ]
    },
    {
     "name": "stdout",
     "output_type": "stream",
     "text": [
      "Error with file: /media/ubuntu/6156e08b-fdb1-4cde-964e-431f74a6078e/Files/LLP_DATA/Original_DATA/2025-04-23-2HDM/LLP_data/B_2HDM/mass_6.31e+00_ctau_1.00e+05_br_1.00e+00_seed_979224.csv\n",
      "Error message: No columns to parse from file\n"
     ]
    },
    {
     "name": "stderr",
     "output_type": "stream",
     "text": [
      " 71%|███████   | 2097/2961 [12:56<08:26,  1.71it/s]"
     ]
    },
    {
     "name": "stdout",
     "output_type": "stream",
     "text": [
      "Error with file: /media/ubuntu/6156e08b-fdb1-4cde-964e-431f74a6078e/Files/LLP_DATA/Original_DATA/2025-04-23-2HDM/LLP_data/B_2HDM/mass_7.94e+00_ctau_6.64e-08_br_1.00e+00_seed_979224.csv\n",
      "Error message: No columns to parse from file\n"
     ]
    },
    {
     "name": "stderr",
     "output_type": "stream",
     "text": [
      " 71%|███████   | 2099/2961 [12:57<09:05,  1.58it/s]"
     ]
    },
    {
     "name": "stdout",
     "output_type": "stream",
     "text": [
      "Error with file: /media/ubuntu/6156e08b-fdb1-4cde-964e-431f74a6078e/Files/LLP_DATA/Original_DATA/2025-04-23-2HDM/LLP_data/B_2HDM/mass_5.01e+00_ctau_7.98e+05_br_1.00e+00_seed_979224.csv\n",
      "Error message: No columns to parse from file\n"
     ]
    },
    {
     "name": "stderr",
     "output_type": "stream",
     "text": [
      " 71%|███████   | 2103/2961 [12:59<06:11,  2.31it/s]"
     ]
    },
    {
     "name": "stdout",
     "output_type": "stream",
     "text": [
      "Error with file: /media/ubuntu/6156e08b-fdb1-4cde-964e-431f74a6078e/Files/LLP_DATA/Original_DATA/2025-04-23-2HDM/LLP_data/B_2HDM/mass_6.31e+00_ctau_2.30e-06_br_1.00e+00_seed_979224.csv\n",
      "Error message: No columns to parse from file\n"
     ]
    },
    {
     "name": "stderr",
     "output_type": "stream",
     "text": [
      " 71%|███████▏  | 2117/2961 [13:04<05:33,  2.53it/s]"
     ]
    },
    {
     "name": "stdout",
     "output_type": "stream",
     "text": [
      "Error with file: /media/ubuntu/6156e08b-fdb1-4cde-964e-431f74a6078e/Files/LLP_DATA/Original_DATA/2025-04-23-2HDM/LLP_data/B_2HDM/mass_1.00e+01_ctau_4.00e+04_br_1.00e+00_seed_979224.csv\n",
      "Error message: No columns to parse from file\n"
     ]
    },
    {
     "name": "stderr",
     "output_type": "stream",
     "text": [
      " 72%|███████▏  | 2136/2961 [13:12<06:56,  1.98it/s]"
     ]
    },
    {
     "name": "stdout",
     "output_type": "stream",
     "text": [
      "Error with file: /media/ubuntu/6156e08b-fdb1-4cde-964e-431f74a6078e/Files/LLP_DATA/Original_DATA/2025-04-23-2HDM/LLP_data/B_2HDM/mass_6.31e+00_ctau_5.04e+02_br_1.00e+00_seed_979224.csv\n",
      "Error message: No columns to parse from file\n"
     ]
    },
    {
     "name": "stderr",
     "output_type": "stream",
     "text": [
      " 72%|███████▏  | 2139/2961 [13:13<05:07,  2.67it/s]"
     ]
    },
    {
     "name": "stdout",
     "output_type": "stream",
     "text": [
      "Error with file: /media/ubuntu/6156e08b-fdb1-4cde-964e-431f74a6078e/Files/LLP_DATA/Original_DATA/2025-04-23-2HDM/LLP_data/B_2HDM/mass_5.01e+00_ctau_1.59e+10_br_1.00e+00_seed_979224.csv\n",
      "Error message: No columns to parse from file\n"
     ]
    },
    {
     "name": "stderr",
     "output_type": "stream",
     "text": [
      " 72%|███████▏  | 2141/2961 [13:13<04:02,  3.37it/s]"
     ]
    },
    {
     "name": "stdout",
     "output_type": "stream",
     "text": [
      "Error with file: /media/ubuntu/6156e08b-fdb1-4cde-964e-431f74a6078e/Files/LLP_DATA/Original_DATA/2025-04-23-2HDM/LLP_data/B_2HDM/mass_7.94e+00_ctau_5.03e+05_br_1.00e+00_seed_979224.csv\n",
      "Error message: No columns to parse from file\n"
     ]
    },
    {
     "name": "stderr",
     "output_type": "stream",
     "text": [
      " 72%|███████▏  | 2143/2961 [13:13<03:31,  3.87it/s]"
     ]
    },
    {
     "name": "stdout",
     "output_type": "stream",
     "text": [
      "Error with file: /media/ubuntu/6156e08b-fdb1-4cde-964e-431f74a6078e/Files/LLP_DATA/Original_DATA/2025-04-23-2HDM/LLP_data/B_2HDM/mass_6.31e+00_ctau_1.26e+02_br_1.00e+00_seed_979224.csv\n",
      "Error message: No columns to parse from file\n",
      "Error with file: /media/ubuntu/6156e08b-fdb1-4cde-964e-431f74a6078e/Files/LLP_DATA/Original_DATA/2025-04-23-2HDM/LLP_data/B_2HDM/mass_1.00e+01_ctau_5.03e+01_br_1.00e+00_seed_979224.csv\n",
      "Error message: No columns to parse from file\n",
      "Error with file: /media/ubuntu/6156e08b-fdb1-4cde-964e-431f74a6078e/Files/LLP_DATA/Original_DATA/2025-04-23-2HDM/LLP_data/B_2HDM/mass_5.01e+00_ctau_2.52e+08_br_1.00e+00_seed_979224.csv\n",
      "Error message: No columns to parse from file\n"
     ]
    },
    {
     "name": "stderr",
     "output_type": "stream",
     "text": [
      " 73%|███████▎  | 2151/2961 [13:18<07:41,  1.75it/s]"
     ]
    },
    {
     "name": "stdout",
     "output_type": "stream",
     "text": [
      "Error with file: /media/ubuntu/6156e08b-fdb1-4cde-964e-431f74a6078e/Files/LLP_DATA/Original_DATA/2025-04-23-2HDM/LLP_data/B_2HDM/mass_5.01e+00_ctau_4.00e+02_br_1.00e+00_seed_979224.csv\n",
      "Error message: No columns to parse from file\n"
     ]
    },
    {
     "name": "stderr",
     "output_type": "stream",
     "text": [
      " 73%|███████▎  | 2154/2961 [13:19<05:38,  2.39it/s]"
     ]
    },
    {
     "name": "stdout",
     "output_type": "stream",
     "text": [
      "Error with file: /media/ubuntu/6156e08b-fdb1-4cde-964e-431f74a6078e/Files/LLP_DATA/Original_DATA/2025-04-23-2HDM/LLP_data/B_2HDM/mass_5.01e+00_ctau_1.59e+01_br_1.00e+00_seed_979224.csv\n",
      "Error message: No columns to parse from file\n"
     ]
    },
    {
     "name": "stderr",
     "output_type": "stream",
     "text": [
      " 73%|███████▎  | 2156/2961 [13:19<04:26,  3.02it/s]"
     ]
    },
    {
     "name": "stdout",
     "output_type": "stream",
     "text": [
      "Error with file: /media/ubuntu/6156e08b-fdb1-4cde-964e-431f74a6078e/Files/LLP_DATA/Original_DATA/2025-04-23-2HDM/LLP_data/B_2HDM/mass_1.00e+01_ctau_4.00e+05_br_1.00e+00_seed_979224.csv\n",
      "Error message: No columns to parse from file\n"
     ]
    },
    {
     "name": "stderr",
     "output_type": "stream",
     "text": [
      " 73%|███████▎  | 2164/2961 [13:22<04:48,  2.76it/s]"
     ]
    },
    {
     "name": "stdout",
     "output_type": "stream",
     "text": [
      "Error with file: /media/ubuntu/6156e08b-fdb1-4cde-964e-431f74a6078e/Files/LLP_DATA/Original_DATA/2025-04-23-2HDM/LLP_data/B_2HDM/mass_7.94e+00_ctau_1.26e+09_br_1.00e+00_seed_979224.csv\n",
      "Error message: No columns to parse from file\n"
     ]
    },
    {
     "name": "stderr",
     "output_type": "stream",
     "text": [
      " 73%|███████▎  | 2166/2961 [13:22<03:50,  3.45it/s]"
     ]
    },
    {
     "name": "stdout",
     "output_type": "stream",
     "text": [
      "Error with file: /media/ubuntu/6156e08b-fdb1-4cde-964e-431f74a6078e/Files/LLP_DATA/Original_DATA/2025-04-23-2HDM/LLP_data/B_2HDM/mass_7.94e+00_ctau_7.98e+09_br_1.00e+00_seed_979224.csv\n",
      "Error message: No columns to parse from file\n"
     ]
    },
    {
     "name": "stderr",
     "output_type": "stream",
     "text": [
      " 74%|███████▎  | 2180/2961 [13:28<05:00,  2.60it/s]"
     ]
    },
    {
     "name": "stdout",
     "output_type": "stream",
     "text": [
      "Error with file: /media/ubuntu/6156e08b-fdb1-4cde-964e-431f74a6078e/Files/LLP_DATA/Original_DATA/2025-04-23-2HDM/LLP_data/B_2HDM/mass_1.00e+01_ctau_1.26e+04_br_1.00e+00_seed_979224.csv\n",
      "Error message: No columns to parse from file\n",
      "Error with file: /media/ubuntu/6156e08b-fdb1-4cde-964e-431f74a6078e/Files/LLP_DATA/Original_DATA/2025-04-23-2HDM/LLP_data/B_2HDM/mass_6.31e+00_ctau_6.34e+05_br_1.00e+00_seed_979224.csv\n",
      "Error message: No columns to parse from file\n"
     ]
    },
    {
     "name": "stderr",
     "output_type": "stream",
     "text": [
      " 74%|███████▎  | 2183/2961 [13:28<03:23,  3.82it/s]"
     ]
    },
    {
     "name": "stdout",
     "output_type": "stream",
     "text": [
      "Error with file: /media/ubuntu/6156e08b-fdb1-4cde-964e-431f74a6078e/Files/LLP_DATA/Original_DATA/2025-04-23-2HDM/LLP_data/B_2HDM/mass_6.31e+00_ctau_3.18e+04_br_1.00e+00_seed_979224.csv\n",
      "Error message: No columns to parse from file\n"
     ]
    },
    {
     "name": "stderr",
     "output_type": "stream",
     "text": [
      " 74%|███████▍  | 2187/2961 [13:29<03:54,  3.30it/s]"
     ]
    },
    {
     "name": "stdout",
     "output_type": "stream",
     "text": [
      "Error with file: /media/ubuntu/6156e08b-fdb1-4cde-964e-431f74a6078e/Files/LLP_DATA/Original_DATA/2025-04-23-2HDM/LLP_data/B_2HDM/mass_1.00e+01_ctau_1.59e+07_br_1.00e+00_seed_979224.csv\n",
      "Error message: No columns to parse from file\n"
     ]
    },
    {
     "name": "stderr",
     "output_type": "stream",
     "text": [
      " 74%|███████▍  | 2193/2961 [13:32<04:57,  2.58it/s]"
     ]
    },
    {
     "name": "stdout",
     "output_type": "stream",
     "text": [
      "Error with file: /media/ubuntu/6156e08b-fdb1-4cde-964e-431f74a6078e/Files/LLP_DATA/Original_DATA/2025-04-23-2HDM/LLP_data/B_2HDM/mass_1.00e+01_ctau_2.00e+08_br_1.00e+00_seed_979224.csv\n",
      "Error message: No columns to parse from file\n"
     ]
    },
    {
     "name": "stderr",
     "output_type": "stream",
     "text": [
      " 74%|███████▍  | 2198/2961 [13:35<08:19,  1.53it/s]"
     ]
    },
    {
     "name": "stdout",
     "output_type": "stream",
     "text": [
      "Error with file: /media/ubuntu/6156e08b-fdb1-4cde-964e-431f74a6078e/Files/LLP_DATA/Original_DATA/2025-04-23-2HDM/LLP_data/B_2HDM/mass_7.94e+00_ctau_4.00e+05_br_1.00e+00_seed_979224.csv\n",
      "Error message: No columns to parse from file\n"
     ]
    },
    {
     "name": "stderr",
     "output_type": "stream",
     "text": [
      " 74%|███████▍  | 2202/2961 [13:37<07:20,  1.72it/s]"
     ]
    },
    {
     "name": "stdout",
     "output_type": "stream",
     "text": [
      "Error with file: /media/ubuntu/6156e08b-fdb1-4cde-964e-431f74a6078e/Files/LLP_DATA/Original_DATA/2025-04-23-2HDM/LLP_data/B_2HDM/mass_1.00e+01_ctau_3.17e+06_br_1.00e+00_seed_979224.csv\n",
      "Error message: No columns to parse from file\n"
     ]
    },
    {
     "name": "stderr",
     "output_type": "stream",
     "text": [
      " 75%|███████▍  | 2206/2961 [13:38<05:06,  2.46it/s]"
     ]
    },
    {
     "name": "stdout",
     "output_type": "stream",
     "text": [
      "Error with file: /media/ubuntu/6156e08b-fdb1-4cde-964e-431f74a6078e/Files/LLP_DATA/Original_DATA/2025-04-23-2HDM/LLP_data/B_2HDM/mass_6.31e+00_ctau_3.18e+07_br_1.00e+00_seed_979224.csv\n",
      "Error message: No columns to parse from file\n"
     ]
    },
    {
     "name": "stderr",
     "output_type": "stream",
     "text": [
      " 75%|███████▌  | 2231/2961 [13:47<05:07,  2.37it/s]"
     ]
    },
    {
     "name": "stdout",
     "output_type": "stream",
     "text": [
      "Error with file: /media/ubuntu/6156e08b-fdb1-4cde-964e-431f74a6078e/Files/LLP_DATA/Original_DATA/2025-04-23-2HDM/LLP_data/B_2HDM/mass_6.31e+00_ctau_2.52e+03_br_1.00e+00_seed_979224.csv\n",
      "Error message: No columns to parse from file\n"
     ]
    },
    {
     "name": "stderr",
     "output_type": "stream",
     "text": [
      " 75%|███████▌  | 2234/2961 [13:48<04:18,  2.81it/s]"
     ]
    },
    {
     "name": "stdout",
     "output_type": "stream",
     "text": [
      "Error with file: /media/ubuntu/6156e08b-fdb1-4cde-964e-431f74a6078e/Files/LLP_DATA/Original_DATA/2025-04-23-2HDM/LLP_data/B_2HDM/mass_7.94e+00_ctau_4.26e-03_br_1.00e+00_seed_979224.csv\n",
      "Error message: No columns to parse from file\n"
     ]
    },
    {
     "name": "stderr",
     "output_type": "stream",
     "text": [
      " 76%|███████▌  | 2244/2961 [13:54<07:18,  1.63it/s]"
     ]
    },
    {
     "name": "stdout",
     "output_type": "stream",
     "text": [
      "Error with file: /media/ubuntu/6156e08b-fdb1-4cde-964e-431f74a6078e/Files/LLP_DATA/Original_DATA/2025-04-23-2HDM/LLP_data/B_2HDM/mass_7.94e+00_ctau_2.00e+01_br_1.00e+00_seed_979224.csv\n",
      "Error message: No columns to parse from file\n"
     ]
    },
    {
     "name": "stderr",
     "output_type": "stream",
     "text": [
      " 76%|███████▌  | 2253/2961 [13:57<04:40,  2.53it/s]"
     ]
    },
    {
     "name": "stdout",
     "output_type": "stream",
     "text": [
      "Error with file: /media/ubuntu/6156e08b-fdb1-4cde-964e-431f74a6078e/Files/LLP_DATA/Original_DATA/2025-04-23-2HDM/LLP_data/B_2HDM/mass_1.00e+01_ctau_2.34e-03_br_1.00e+00_seed_979224.csv\n",
      "Error message: No columns to parse from file\n"
     ]
    },
    {
     "name": "stderr",
     "output_type": "stream",
     "text": [
      " 76%|███████▌  | 2256/2961 [13:58<03:46,  3.12it/s]"
     ]
    },
    {
     "name": "stdout",
     "output_type": "stream",
     "text": [
      "Error with file: /media/ubuntu/6156e08b-fdb1-4cde-964e-431f74a6078e/Files/LLP_DATA/Original_DATA/2025-04-23-2HDM/LLP_data/B_2HDM/mass_6.31e+00_ctau_2.52e-01_br_1.00e+00_seed_979224.csv\n",
      "Error message: No columns to parse from file\n"
     ]
    },
    {
     "name": "stderr",
     "output_type": "stream",
     "text": [
      " 76%|███████▋  | 2258/2961 [13:58<03:05,  3.78it/s]"
     ]
    },
    {
     "name": "stdout",
     "output_type": "stream",
     "text": [
      "Error with file: /media/ubuntu/6156e08b-fdb1-4cde-964e-431f74a6078e/Files/LLP_DATA/Original_DATA/2025-04-23-2HDM/LLP_data/B_2HDM/mass_1.00e+01_ctau_1.00e+06_br_1.00e+00_seed_979224.csv\n",
      "Error message: No columns to parse from file\n"
     ]
    },
    {
     "name": "stderr",
     "output_type": "stream",
     "text": [
      " 77%|███████▋  | 2266/2961 [14:01<04:08,  2.80it/s]"
     ]
    },
    {
     "name": "stdout",
     "output_type": "stream",
     "text": [
      "Error with file: /media/ubuntu/6156e08b-fdb1-4cde-964e-431f74a6078e/Files/LLP_DATA/Original_DATA/2025-04-23-2HDM/LLP_data/B_2HDM/mass_1.00e+01_ctau_5.03e+00_br_1.00e+00_seed_979224.csv\n",
      "Error message: No columns to parse from file\n"
     ]
    },
    {
     "name": "stderr",
     "output_type": "stream",
     "text": [
      " 77%|███████▋  | 2272/2961 [14:03<04:10,  2.75it/s]"
     ]
    },
    {
     "name": "stdout",
     "output_type": "stream",
     "text": [
      "Error with file: /media/ubuntu/6156e08b-fdb1-4cde-964e-431f74a6078e/Files/LLP_DATA/Original_DATA/2025-04-23-2HDM/LLP_data/B_2HDM/mass_5.01e+00_ctau_5.04e+05_br_1.00e+00_seed_979224.csv\n",
      "Error message: No columns to parse from file\n"
     ]
    },
    {
     "name": "stderr",
     "output_type": "stream",
     "text": [
      " 77%|███████▋  | 2276/2961 [14:06<07:25,  1.54it/s]"
     ]
    },
    {
     "name": "stdout",
     "output_type": "stream",
     "text": [
      "Error with file: /media/ubuntu/6156e08b-fdb1-4cde-964e-431f74a6078e/Files/LLP_DATA/Original_DATA/2025-04-23-2HDM/LLP_data/B_2HDM/mass_5.01e+00_ctau_1.59e+03_br_1.00e+00_seed_979224.csv\n",
      "Error message: No columns to parse from file\n",
      "Error with file: /media/ubuntu/6156e08b-fdb1-4cde-964e-431f74a6078e/Files/LLP_DATA/Original_DATA/2025-04-23-2HDM/LLP_data/B_2HDM/mass_5.01e+00_ctau_7.98e+04_br_1.00e+00_seed_979224.csv\n",
      "Error message: No columns to parse from file\n",
      "Error with file: /media/ubuntu/6156e08b-fdb1-4cde-964e-431f74a6078e/Files/LLP_DATA/Original_DATA/2025-04-23-2HDM/LLP_data/B_2HDM/mass_5.01e+00_ctau_2.51e-01_br_1.00e+00_seed_979224.csv\n",
      "Error message: No columns to parse from file\n",
      "Error with file: /media/ubuntu/6156e08b-fdb1-4cde-964e-431f74a6078e/Files/LLP_DATA/Original_DATA/2025-04-23-2HDM/LLP_data/B_2HDM/mass_6.31e+00_ctau_1.26e+09_br_1.00e+00_seed_979224.csv\n",
      "Error message: No columns to parse from file\n"
     ]
    },
    {
     "name": "stderr",
     "output_type": "stream",
     "text": [
      " 77%|███████▋  | 2282/2961 [14:07<04:02,  2.80it/s]"
     ]
    },
    {
     "name": "stdout",
     "output_type": "stream",
     "text": [
      "Error with file: /media/ubuntu/6156e08b-fdb1-4cde-964e-431f74a6078e/Files/LLP_DATA/Original_DATA/2025-04-23-2HDM/LLP_data/B_2HDM/mass_5.01e+00_ctau_1.05e-02_br_1.00e+00_seed_979224.csv\n",
      "Error message: No columns to parse from file\n",
      "Error with file: /media/ubuntu/6156e08b-fdb1-4cde-964e-431f74a6078e/Files/LLP_DATA/Original_DATA/2025-04-23-2HDM/LLP_data/B_2HDM/mass_7.94e+00_ctau_2.00e+04_br_1.00e+00_seed_979224.csv\n",
      "Error message: No columns to parse from file\n"
     ]
    },
    {
     "name": "stderr",
     "output_type": "stream",
     "text": [
      " 77%|███████▋  | 2285/2961 [14:07<03:00,  3.75it/s]"
     ]
    },
    {
     "name": "stdout",
     "output_type": "stream",
     "text": [
      "Error with file: /media/ubuntu/6156e08b-fdb1-4cde-964e-431f74a6078e/Files/LLP_DATA/Original_DATA/2025-04-23-2HDM/LLP_data/B_2HDM/mass_6.31e+00_ctau_4.00e+09_br_1.00e+00_seed_979224.csv\n",
      "Error message: No columns to parse from file\n"
     ]
    },
    {
     "name": "stderr",
     "output_type": "stream",
     "text": [
      " 77%|███████▋  | 2292/2961 [14:10<03:45,  2.97it/s]"
     ]
    },
    {
     "name": "stdout",
     "output_type": "stream",
     "text": [
      "Error with file: /media/ubuntu/6156e08b-fdb1-4cde-964e-431f74a6078e/Files/LLP_DATA/Original_DATA/2025-04-23-2HDM/LLP_data/B_2HDM/mass_7.94e+00_ctau_1.78e-04_br_1.00e+00_seed_979224.csv\n",
      "Error message: No columns to parse from file\n"
     ]
    },
    {
     "name": "stderr",
     "output_type": "stream",
     "text": [
      " 77%|███████▋  | 2294/2961 [14:10<03:05,  3.59it/s]"
     ]
    },
    {
     "name": "stdout",
     "output_type": "stream",
     "text": [
      "Error with file: /media/ubuntu/6156e08b-fdb1-4cde-964e-431f74a6078e/Files/LLP_DATA/Original_DATA/2025-04-23-2HDM/LLP_data/B_2HDM/mass_5.01e+00_ctau_6.16e-04_br_1.00e+00_seed_979224.csv\n",
      "Error message: No columns to parse from file\n"
     ]
    },
    {
     "name": "stderr",
     "output_type": "stream",
     "text": [
      " 78%|███████▊  | 2300/2961 [14:12<03:46,  2.92it/s]"
     ]
    },
    {
     "name": "stdout",
     "output_type": "stream",
     "text": [
      "Error with file: /media/ubuntu/6156e08b-fdb1-4cde-964e-431f74a6078e/Files/LLP_DATA/Original_DATA/2025-04-23-2HDM/LLP_data/B_2HDM/mass_5.01e+00_ctau_2.52e+02_br_1.00e+00_seed_979224.csv\n",
      "Error message: No columns to parse from file\n",
      "Error with file: /media/ubuntu/6156e08b-fdb1-4cde-964e-431f74a6078e/Files/LLP_DATA/Original_DATA/2025-04-23-2HDM/LLP_data/B_2HDM/mass_6.31e+00_ctau_3.18e+05_br_1.00e+00_seed_979224.csv\n",
      "Error message: No columns to parse from file\n"
     ]
    },
    {
     "name": "stderr",
     "output_type": "stream",
     "text": [
      " 78%|███████▊  | 2305/2961 [14:13<03:11,  3.43it/s]"
     ]
    },
    {
     "name": "stdout",
     "output_type": "stream",
     "text": [
      "Error with file: /media/ubuntu/6156e08b-fdb1-4cde-964e-431f74a6078e/Files/LLP_DATA/Original_DATA/2025-04-23-2HDM/LLP_data/B_2HDM/mass_5.01e+00_ctau_4.00e+03_br_1.00e+00_seed_979224.csv\n",
      "Error message: No columns to parse from file\n",
      "Error with file: /media/ubuntu/6156e08b-fdb1-4cde-964e-431f74a6078e/Files/LLP_DATA/Original_DATA/2025-04-23-2HDM/LLP_data/B_2HDM/mass_5.01e+00_ctau_2.01e+08_br_1.00e+00_seed_979224.csv\n",
      "Error message: No columns to parse from file\n"
     ]
    },
    {
     "name": "stderr",
     "output_type": "stream",
     "text": [
      " 78%|███████▊  | 2308/2961 [14:14<02:17,  4.76it/s]"
     ]
    },
    {
     "name": "stdout",
     "output_type": "stream",
     "text": [
      "Error with file: /media/ubuntu/6156e08b-fdb1-4cde-964e-431f74a6078e/Files/LLP_DATA/Original_DATA/2025-04-23-2HDM/LLP_data/B_2HDM/mass_7.94e+00_ctau_6.31e-02_br_1.00e+00_seed_979224.csv\n",
      "Error message: No columns to parse from file\n"
     ]
    },
    {
     "name": "stderr",
     "output_type": "stream",
     "text": [
      " 78%|███████▊  | 2314/2961 [14:16<03:36,  2.99it/s]"
     ]
    },
    {
     "name": "stdout",
     "output_type": "stream",
     "text": [
      "Error with file: /media/ubuntu/6156e08b-fdb1-4cde-964e-431f74a6078e/Files/LLP_DATA/Original_DATA/2025-04-23-2HDM/LLP_data/B_2HDM/mass_6.31e+00_ctau_7.98e-01_br_1.00e+00_seed_979224.csv\n",
      "Error message: No columns to parse from file\n"
     ]
    },
    {
     "name": "stderr",
     "output_type": "stream",
     "text": [
      " 78%|███████▊  | 2321/2961 [14:18<03:51,  2.77it/s]"
     ]
    },
    {
     "name": "stdout",
     "output_type": "stream",
     "text": [
      "Error with file: /media/ubuntu/6156e08b-fdb1-4cde-964e-431f74a6078e/Files/LLP_DATA/Original_DATA/2025-04-23-2HDM/LLP_data/B_2HDM/mass_1.00e+01_ctau_7.97e+08_br_1.00e+00_seed_979224.csv\n",
      "Error message: No columns to parse from file\n"
     ]
    },
    {
     "name": "stderr",
     "output_type": "stream",
     "text": [
      " 79%|███████▊  | 2325/2961 [14:19<03:42,  2.85it/s]"
     ]
    },
    {
     "name": "stdout",
     "output_type": "stream",
     "text": [
      "Error with file: /media/ubuntu/6156e08b-fdb1-4cde-964e-431f74a6078e/Files/LLP_DATA/Original_DATA/2025-04-23-2HDM/LLP_data/B_2HDM/mass_6.31e+00_ctau_4.00e+05_br_1.00e+00_seed_979224.csv\n",
      "Error message: No columns to parse from file\n"
     ]
    },
    {
     "name": "stderr",
     "output_type": "stream",
     "text": [
      " 79%|███████▊  | 2331/2961 [14:24<08:31,  1.23it/s]"
     ]
    },
    {
     "name": "stdout",
     "output_type": "stream",
     "text": [
      "Error with file: /media/ubuntu/6156e08b-fdb1-4cde-964e-431f74a6078e/Files/LLP_DATA/Original_DATA/2025-04-23-2HDM/LLP_data/B_2HDM/mass_1.00e+01_ctau_2.00e-01_br_1.00e+00_seed_979224.csv\n",
      "Error message: No columns to parse from file\n"
     ]
    },
    {
     "name": "stderr",
     "output_type": "stream",
     "text": [
      " 79%|███████▉  | 2335/2961 [14:25<04:55,  2.12it/s]"
     ]
    },
    {
     "name": "stdout",
     "output_type": "stream",
     "text": [
      "Error with file: /media/ubuntu/6156e08b-fdb1-4cde-964e-431f74a6078e/Files/LLP_DATA/Original_DATA/2025-04-23-2HDM/LLP_data/B_2HDM/mass_5.01e+00_ctau_5.04e+04_br_1.00e+00_seed_979224.csv\n",
      "Error message: No columns to parse from file\n"
     ]
    },
    {
     "name": "stderr",
     "output_type": "stream",
     "text": [
      " 79%|███████▉  | 2341/2961 [14:27<04:04,  2.54it/s]"
     ]
    },
    {
     "name": "stdout",
     "output_type": "stream",
     "text": [
      "Error with file: /media/ubuntu/6156e08b-fdb1-4cde-964e-431f74a6078e/Files/LLP_DATA/Original_DATA/2025-04-23-2HDM/LLP_data/B_2HDM/mass_6.31e+00_ctau_1.26e+07_br_1.00e+00_seed_979224.csv\n",
      "Error message: No columns to parse from file\n"
     ]
    },
    {
     "name": "stderr",
     "output_type": "stream",
     "text": [
      " 79%|███████▉  | 2344/2961 [14:28<03:20,  3.08it/s]"
     ]
    },
    {
     "name": "stdout",
     "output_type": "stream",
     "text": [
      "Error with file: /media/ubuntu/6156e08b-fdb1-4cde-964e-431f74a6078e/Files/LLP_DATA/Original_DATA/2025-04-23-2HDM/LLP_data/B_2HDM/mass_6.31e+00_ctau_4.00e+00_br_1.00e+00_seed_979224.csv\n",
      "Error message: No columns to parse from file\n"
     ]
    },
    {
     "name": "stderr",
     "output_type": "stream",
     "text": [
      " 80%|███████▉  | 2354/2961 [14:31<03:53,  2.60it/s]"
     ]
    },
    {
     "name": "stdout",
     "output_type": "stream",
     "text": [
      "Error with file: /media/ubuntu/6156e08b-fdb1-4cde-964e-431f74a6078e/Files/LLP_DATA/Original_DATA/2025-04-23-2HDM/LLP_data/B_2HDM/mass_7.94e+00_ctau_2.52e+00_br_1.00e+00_seed_979224.csv\n",
      "Error message: No columns to parse from file\n"
     ]
    },
    {
     "name": "stderr",
     "output_type": "stream",
     "text": [
      " 80%|███████▉  | 2366/2961 [14:35<03:45,  2.64it/s]"
     ]
    },
    {
     "name": "stdout",
     "output_type": "stream",
     "text": [
      "Error with file: /media/ubuntu/6156e08b-fdb1-4cde-964e-431f74a6078e/Files/LLP_DATA/Original_DATA/2025-04-23-2HDM/LLP_data/B_2HDM/mass_7.94e+00_ctau_2.52e+07_br_1.00e+00_seed_979224.csv\n",
      "Error message: No columns to parse from file\n"
     ]
    },
    {
     "name": "stderr",
     "output_type": "stream",
     "text": [
      " 80%|████████  | 2369/2961 [14:36<03:12,  3.08it/s]"
     ]
    },
    {
     "name": "stdout",
     "output_type": "stream",
     "text": [
      "Error with file: /media/ubuntu/6156e08b-fdb1-4cde-964e-431f74a6078e/Files/LLP_DATA/Original_DATA/2025-04-23-2HDM/LLP_data/B_2HDM/mass_1.00e+01_ctau_5.02e-02_br_1.00e+00_seed_979224.csv\n",
      "Error message: No columns to parse from file\n"
     ]
    },
    {
     "name": "stderr",
     "output_type": "stream",
     "text": [
      " 80%|████████  | 2371/2961 [14:37<03:17,  2.99it/s]"
     ]
    },
    {
     "name": "stdout",
     "output_type": "stream",
     "text": [
      "Error with file: /media/ubuntu/6156e08b-fdb1-4cde-964e-431f74a6078e/Files/LLP_DATA/Original_DATA/2025-04-23-2HDM/LLP_data/B_2HDM/mass_1.00e+01_ctau_3.16e-02_br_1.00e+00_seed_979224.csv\n",
      "Error message: No columns to parse from file\n"
     ]
    },
    {
     "name": "stderr",
     "output_type": "stream",
     "text": [
      " 80%|████████  | 2375/2961 [14:38<03:09,  3.09it/s]"
     ]
    },
    {
     "name": "stdout",
     "output_type": "stream",
     "text": [
      "Error with file: /media/ubuntu/6156e08b-fdb1-4cde-964e-431f74a6078e/Files/LLP_DATA/Original_DATA/2025-04-23-2HDM/LLP_data/B_2HDM/mass_1.00e+01_ctau_2.52e+09_br_1.00e+00_seed_979224.csv\n",
      "Error message: No columns to parse from file\n"
     ]
    },
    {
     "name": "stderr",
     "output_type": "stream",
     "text": [
      " 80%|████████  | 2377/2961 [14:38<02:38,  3.68it/s]"
     ]
    },
    {
     "name": "stdout",
     "output_type": "stream",
     "text": [
      "Error with file: /media/ubuntu/6156e08b-fdb1-4cde-964e-431f74a6078e/Files/LLP_DATA/Original_DATA/2025-04-23-2HDM/LLP_data/B_2HDM/mass_6.31e+00_ctau_2.00e+02_br_1.00e+00_seed_979224.csv\n",
      "Error message: No columns to parse from file\n"
     ]
    },
    {
     "name": "stderr",
     "output_type": "stream",
     "text": [
      " 81%|████████  | 2385/2961 [14:43<05:10,  1.85it/s]"
     ]
    },
    {
     "name": "stdout",
     "output_type": "stream",
     "text": [
      "Error with file: /media/ubuntu/6156e08b-fdb1-4cde-964e-431f74a6078e/Files/LLP_DATA/Original_DATA/2025-04-23-2HDM/LLP_data/B_2HDM/mass_5.01e+00_ctau_3.18e+07_br_1.00e+00_seed_979224.csv\n",
      "Error message: No columns to parse from file\n",
      "Error with file: /media/ubuntu/6156e08b-fdb1-4cde-964e-431f74a6078e/Files/LLP_DATA/Original_DATA/2025-04-23-2HDM/LLP_data/B_2HDM/mass_6.31e+00_ctau_2.00e+00_br_1.00e+00_seed_979224.csv\n",
      "Error message: No columns to parse from file\n"
     ]
    },
    {
     "name": "stderr",
     "output_type": "stream",
     "text": [
      " 81%|████████  | 2390/2961 [14:44<03:16,  2.91it/s]"
     ]
    },
    {
     "name": "stdout",
     "output_type": "stream",
     "text": [
      "Error with file: /media/ubuntu/6156e08b-fdb1-4cde-964e-431f74a6078e/Files/LLP_DATA/Original_DATA/2025-04-23-2HDM/LLP_data/B_2HDM/mass_1.00e+01_ctau_4.00e+03_br_1.00e+00_seed_979224.csv\n",
      "Error message: No columns to parse from file\n"
     ]
    },
    {
     "name": "stderr",
     "output_type": "stream",
     "text": [
      " 81%|████████▏ | 2411/2961 [14:53<03:32,  2.59it/s]"
     ]
    },
    {
     "name": "stdout",
     "output_type": "stream",
     "text": [
      "Error with file: /media/ubuntu/6156e08b-fdb1-4cde-964e-431f74a6078e/Files/LLP_DATA/Original_DATA/2025-04-23-2HDM/LLP_data/B_2HDM/mass_5.01e+00_ctau_2.52e+05_br_1.00e+00_seed_979224.csv\n",
      "Error message: No columns to parse from file\n"
     ]
    },
    {
     "name": "stderr",
     "output_type": "stream",
     "text": [
      " 82%|████████▏ | 2416/2961 [14:54<03:08,  2.90it/s]"
     ]
    },
    {
     "name": "stdout",
     "output_type": "stream",
     "text": [
      "Error with file: /media/ubuntu/6156e08b-fdb1-4cde-964e-431f74a6078e/Files/LLP_DATA/Original_DATA/2025-04-23-2HDM/LLP_data/B_2HDM/mass_7.94e+00_ctau_1.00e-01_br_1.00e+00_seed_979224.csv\n",
      "Error message: No columns to parse from file\n"
     ]
    },
    {
     "name": "stderr",
     "output_type": "stream",
     "text": [
      " 82%|████████▏ | 2419/2961 [14:55<02:50,  3.19it/s]"
     ]
    },
    {
     "name": "stdout",
     "output_type": "stream",
     "text": [
      "Error with file: /media/ubuntu/6156e08b-fdb1-4cde-964e-431f74a6078e/Files/LLP_DATA/Original_DATA/2025-04-23-2HDM/LLP_data/B_2HDM/mass_7.94e+00_ctau_6.34e+00_br_1.00e+00_seed_979224.csv\n",
      "Error message: No columns to parse from file\n"
     ]
    },
    {
     "name": "stderr",
     "output_type": "stream",
     "text": [
      " 82%|████████▏ | 2425/2961 [14:57<04:00,  2.23it/s]"
     ]
    },
    {
     "name": "stdout",
     "output_type": "stream",
     "text": [
      "Error with file: /media/ubuntu/6156e08b-fdb1-4cde-964e-431f74a6078e/Files/LLP_DATA/Original_DATA/2025-04-23-2HDM/LLP_data/B_2HDM/mass_6.31e+00_ctau_4.00e+01_br_1.00e+00_seed_979224.csv\n",
      "Error message: No columns to parse from file\n"
     ]
    },
    {
     "name": "stderr",
     "output_type": "stream",
     "text": [
      " 82%|████████▏ | 2427/2961 [14:58<02:59,  2.97it/s]"
     ]
    },
    {
     "name": "stdout",
     "output_type": "stream",
     "text": [
      "Error with file: /media/ubuntu/6156e08b-fdb1-4cde-964e-431f74a6078e/Files/LLP_DATA/Original_DATA/2025-04-23-2HDM/LLP_data/B_2HDM/mass_7.94e+00_ctau_2.00e+02_br_1.00e+00_seed_979224.csv\n",
      "Error message: No columns to parse from file\n"
     ]
    },
    {
     "name": "stderr",
     "output_type": "stream",
     "text": [
      " 82%|████████▏ | 2429/2961 [14:59<03:56,  2.25it/s]"
     ]
    },
    {
     "name": "stdout",
     "output_type": "stream",
     "text": [
      "Error with file: /media/ubuntu/6156e08b-fdb1-4cde-964e-431f74a6078e/Files/LLP_DATA/Original_DATA/2025-04-23-2HDM/LLP_data/B_2HDM/mass_1.00e+01_ctau_7.97e+03_br_1.00e+00_seed_979224.csv\n",
      "Error message: No columns to parse from file\n"
     ]
    },
    {
     "name": "stderr",
     "output_type": "stream",
     "text": [
      " 82%|████████▏ | 2434/2961 [15:01<04:15,  2.06it/s]"
     ]
    },
    {
     "name": "stdout",
     "output_type": "stream",
     "text": [
      "Error with file: /media/ubuntu/6156e08b-fdb1-4cde-964e-431f74a6078e/Files/LLP_DATA/Original_DATA/2025-04-23-2HDM/LLP_data/B_2HDM/mass_6.31e+00_ctau_1.00e+00_br_1.00e+00_seed_979224.csv\n",
      "Error message: No columns to parse from file\n"
     ]
    },
    {
     "name": "stderr",
     "output_type": "stream",
     "text": [
      " 82%|████████▏ | 2441/2961 [15:04<03:17,  2.63it/s]"
     ]
    },
    {
     "name": "stdout",
     "output_type": "stream",
     "text": [
      "Error with file: /media/ubuntu/6156e08b-fdb1-4cde-964e-431f74a6078e/Files/LLP_DATA/Original_DATA/2025-04-23-2HDM/LLP_data/B_2HDM/mass_7.94e+00_ctau_6.34e-01_br_1.00e+00_seed_979224.csv\n",
      "Error message: No columns to parse from file\n"
     ]
    },
    {
     "name": "stderr",
     "output_type": "stream",
     "text": [
      " 83%|████████▎ | 2459/2961 [15:10<03:24,  2.45it/s]"
     ]
    },
    {
     "name": "stdout",
     "output_type": "stream",
     "text": [
      "Error with file: /media/ubuntu/6156e08b-fdb1-4cde-964e-431f74a6078e/Files/LLP_DATA/Original_DATA/2025-04-23-2HDM/LLP_data/B_2HDM/mass_7.94e+00_ctau_1.91e-02_br_1.00e+00_seed_979224.csv\n",
      "Error message: No columns to parse from file\n"
     ]
    },
    {
     "name": "stderr",
     "output_type": "stream",
     "text": [
      " 83%|████████▎ | 2463/2961 [15:14<06:29,  1.28it/s]"
     ]
    },
    {
     "name": "stdout",
     "output_type": "stream",
     "text": [
      "Error with file: /media/ubuntu/6156e08b-fdb1-4cde-964e-431f74a6078e/Files/LLP_DATA/Original_DATA/2025-04-23-2HDM/LLP_data/B_2HDM/mass_6.31e+00_ctau_5.04e+03_br_1.00e+00_seed_979224.csv\n",
      "Error message: No columns to parse from file\n"
     ]
    },
    {
     "name": "stderr",
     "output_type": "stream",
     "text": [
      " 83%|████████▎ | 2466/2961 [15:15<04:07,  2.00it/s]"
     ]
    },
    {
     "name": "stdout",
     "output_type": "stream",
     "text": [
      "Error with file: /media/ubuntu/6156e08b-fdb1-4cde-964e-431f74a6078e/Files/LLP_DATA/Original_DATA/2025-04-23-2HDM/LLP_data/B_2HDM/mass_5.01e+00_ctau_7.98e+03_br_1.00e+00_seed_979224.csv\n",
      "Error message: No columns to parse from file\n"
     ]
    },
    {
     "name": "stderr",
     "output_type": "stream",
     "text": [
      " 83%|████████▎ | 2469/2961 [15:16<03:06,  2.64it/s]"
     ]
    },
    {
     "name": "stdout",
     "output_type": "stream",
     "text": [
      "Error with file: /media/ubuntu/6156e08b-fdb1-4cde-964e-431f74a6078e/Files/LLP_DATA/Original_DATA/2025-04-23-2HDM/LLP_data/B_2HDM/mass_5.01e+00_ctau_7.98e+02_br_1.00e+00_seed_979224.csv\n",
      "Error message: No columns to parse from file\n"
     ]
    },
    {
     "name": "stderr",
     "output_type": "stream",
     "text": [
      " 84%|████████▍ | 2483/2961 [15:21<03:04,  2.58it/s]"
     ]
    },
    {
     "name": "stdout",
     "output_type": "stream",
     "text": [
      "Error with file: /media/ubuntu/6156e08b-fdb1-4cde-964e-431f74a6078e/Files/LLP_DATA/Original_DATA/2025-04-23-2HDM/LLP_data/B_2HDM/mass_5.01e+00_ctau_5.08e-07_br_1.00e+00_seed_979224.csv\n",
      "Error message: No columns to parse from file\n"
     ]
    },
    {
     "name": "stderr",
     "output_type": "stream",
     "text": [
      " 84%|████████▍ | 2496/2961 [15:26<02:57,  2.62it/s]"
     ]
    },
    {
     "name": "stdout",
     "output_type": "stream",
     "text": [
      "Error with file: /media/ubuntu/6156e08b-fdb1-4cde-964e-431f74a6078e/Files/LLP_DATA/Original_DATA/2025-04-23-2HDM/LLP_data/B_2HDM/mass_1.00e+01_ctau_6.33e+06_br_1.00e+00_seed_979224.csv\n",
      "Error message: No columns to parse from file\n"
     ]
    },
    {
     "name": "stderr",
     "output_type": "stream",
     "text": [
      " 84%|████████▍ | 2502/2961 [15:28<02:56,  2.60it/s]"
     ]
    },
    {
     "name": "stdout",
     "output_type": "stream",
     "text": [
      "Error with file: /media/ubuntu/6156e08b-fdb1-4cde-964e-431f74a6078e/Files/LLP_DATA/Original_DATA/2025-04-23-2HDM/LLP_data/B_2HDM/mass_1.00e+01_ctau_3.82e-04_br_1.00e+00_seed_979224.csv\n",
      "Error message: No columns to parse from file\n"
     ]
    },
    {
     "name": "stderr",
     "output_type": "stream",
     "text": [
      " 85%|████████▍ | 2504/2961 [15:28<02:18,  3.30it/s]"
     ]
    },
    {
     "name": "stdout",
     "output_type": "stream",
     "text": [
      "Error with file: /media/ubuntu/6156e08b-fdb1-4cde-964e-431f74a6078e/Files/LLP_DATA/Original_DATA/2025-04-23-2HDM/LLP_data/B_2HDM/mass_6.31e+00_ctau_3.17e-03_br_1.00e+00_seed_979224.csv\n",
      "Error message: No columns to parse from file\n",
      "Error with file: /media/ubuntu/6156e08b-fdb1-4cde-964e-431f74a6078e/Files/LLP_DATA/Original_DATA/2025-04-23-2HDM/LLP_data/B_2HDM/mass_6.31e+00_ctau_2.00e+03_br_1.00e+00_seed_979224.csv\n",
      "Error message: No columns to parse from file\n"
     ]
    },
    {
     "name": "stderr",
     "output_type": "stream",
     "text": [
      " 85%|████████▌ | 2530/2961 [15:40<02:52,  2.50it/s]"
     ]
    },
    {
     "name": "stdout",
     "output_type": "stream",
     "text": [
      "Error with file: /media/ubuntu/6156e08b-fdb1-4cde-964e-431f74a6078e/Files/LLP_DATA/Original_DATA/2025-04-23-2HDM/LLP_data/B_2HDM/mass_1.00e+01_ctau_5.82e-03_br_1.00e+00_seed_979224.csv\n",
      "Error message: No columns to parse from file\n"
     ]
    },
    {
     "name": "stderr",
     "output_type": "stream",
     "text": [
      " 86%|████████▌ | 2538/2961 [15:42<02:42,  2.60it/s]"
     ]
    },
    {
     "name": "stdout",
     "output_type": "stream",
     "text": [
      "Error with file: /media/ubuntu/6156e08b-fdb1-4cde-964e-431f74a6078e/Files/LLP_DATA/Original_DATA/2025-04-23-2HDM/LLP_data/B_2HDM/mass_6.31e+00_ctau_7.98e+04_br_1.00e+00_seed_979224.csv\n",
      "Error message: No columns to parse from file\n"
     ]
    },
    {
     "name": "stderr",
     "output_type": "stream",
     "text": [
      " 86%|████████▌ | 2543/2961 [15:44<02:58,  2.34it/s]"
     ]
    },
    {
     "name": "stdout",
     "output_type": "stream",
     "text": [
      "Error with file: /media/ubuntu/6156e08b-fdb1-4cde-964e-431f74a6078e/Files/LLP_DATA/Original_DATA/2025-04-23-2HDM/LLP_data/B_2HDM/mass_5.01e+00_ctau_1.59e+06_br_1.00e+00_seed_979224.csv\n",
      "Error message: No columns to parse from file\n"
     ]
    },
    {
     "name": "stderr",
     "output_type": "stream",
     "text": [
      " 86%|████████▌ | 2546/2961 [15:45<02:23,  2.88it/s]"
     ]
    },
    {
     "name": "stdout",
     "output_type": "stream",
     "text": [
      "Error with file: /media/ubuntu/6156e08b-fdb1-4cde-964e-431f74a6078e/Files/LLP_DATA/Original_DATA/2025-04-23-2HDM/LLP_data/B_2HDM/mass_7.94e+00_ctau_3.18e+02_br_1.00e+00_seed_979224.csv\n",
      "Error message: No columns to parse from file\n",
      "Error with file: /media/ubuntu/6156e08b-fdb1-4cde-964e-431f74a6078e/Files/LLP_DATA/Original_DATA/2025-04-23-2HDM/LLP_data/B_2HDM/mass_1.00e+01_ctau_7.97e+06_br_1.00e+00_seed_979224.csv\n",
      "Error message: No columns to parse from file\n"
     ]
    },
    {
     "name": "stderr",
     "output_type": "stream",
     "text": [
      " 86%|████████▌ | 2549/2961 [15:46<01:54,  3.61it/s]"
     ]
    },
    {
     "name": "stdout",
     "output_type": "stream",
     "text": [
      "Error with file: /media/ubuntu/6156e08b-fdb1-4cde-964e-431f74a6078e/Files/LLP_DATA/Original_DATA/2025-04-23-2HDM/LLP_data/B_2HDM/mass_6.31e+00_ctau_4.00e-01_br_1.00e+00_seed_979224.csv\n",
      "Error message: No columns to parse from file\n"
     ]
    },
    {
     "name": "stderr",
     "output_type": "stream",
     "text": [
      " 86%|████████▌ | 2551/2961 [15:46<01:43,  3.98it/s]"
     ]
    },
    {
     "name": "stdout",
     "output_type": "stream",
     "text": [
      "Error with file: /media/ubuntu/6156e08b-fdb1-4cde-964e-431f74a6078e/Files/LLP_DATA/Original_DATA/2025-04-23-2HDM/LLP_data/B_2HDM/mass_7.94e+00_ctau_7.98e+01_br_1.00e+00_seed_979224.csv\n",
      "Error message: No columns to parse from file\n"
     ]
    },
    {
     "name": "stderr",
     "output_type": "stream",
     "text": [
      " 86%|████████▋ | 2554/2961 [15:47<01:47,  3.79it/s]"
     ]
    },
    {
     "name": "stdout",
     "output_type": "stream",
     "text": [
      "Error with file: /media/ubuntu/6156e08b-fdb1-4cde-964e-431f74a6078e/Files/LLP_DATA/Original_DATA/2025-04-23-2HDM/LLP_data/B_2HDM/mass_1.00e+01_ctau_1.26e+02_br_1.00e+00_seed_979224.csv\n",
      "Error message: No columns to parse from file\n"
     ]
    },
    {
     "name": "stderr",
     "output_type": "stream",
     "text": [
      " 86%|████████▋ | 2558/2961 [15:49<02:27,  2.73it/s]"
     ]
    },
    {
     "name": "stdout",
     "output_type": "stream",
     "text": [
      "Error with file: /media/ubuntu/6156e08b-fdb1-4cde-964e-431f74a6078e/Files/LLP_DATA/Original_DATA/2025-04-23-2HDM/LLP_data/B_2HDM/mass_6.31e+00_ctau_2.52e+01_br_1.00e+00_seed_979224.csv\n",
      "Error message: No columns to parse from file\n"
     ]
    },
    {
     "name": "stderr",
     "output_type": "stream",
     "text": [
      " 87%|████████▋ | 2567/2961 [15:53<03:07,  2.10it/s]"
     ]
    },
    {
     "name": "stdout",
     "output_type": "stream",
     "text": [
      "Error with file: /media/ubuntu/6156e08b-fdb1-4cde-964e-431f74a6078e/Files/LLP_DATA/Original_DATA/2025-04-23-2HDM/LLP_data/B_2HDM/mass_6.31e+00_ctau_2.96e-04_br_1.00e+00_seed_979224.csv\n",
      "Error message: No columns to parse from file\n"
     ]
    },
    {
     "name": "stderr",
     "output_type": "stream",
     "text": [
      " 87%|████████▋ | 2569/2961 [15:53<02:15,  2.89it/s]"
     ]
    },
    {
     "name": "stdout",
     "output_type": "stream",
     "text": [
      "Error with file: /media/ubuntu/6156e08b-fdb1-4cde-964e-431f74a6078e/Files/LLP_DATA/Original_DATA/2025-04-23-2HDM/LLP_data/B_2HDM/mass_1.00e+01_ctau_3.98e-06_br_1.00e+00_seed_979224.csv\n",
      "Error message: No columns to parse from file\n"
     ]
    },
    {
     "name": "stderr",
     "output_type": "stream",
     "text": [
      " 87%|████████▋ | 2572/2961 [15:54<02:01,  3.19it/s]"
     ]
    },
    {
     "name": "stdout",
     "output_type": "stream",
     "text": [
      "Error with file: /media/ubuntu/6156e08b-fdb1-4cde-964e-431f74a6078e/Files/LLP_DATA/Original_DATA/2025-04-23-2HDM/LLP_data/B_2HDM/mass_6.31e+00_ctau_5.04e+06_br_1.00e+00_seed_979224.csv\n",
      "Error message: No columns to parse from file\n"
     ]
    },
    {
     "name": "stderr",
     "output_type": "stream",
     "text": [
      " 87%|████████▋ | 2576/2961 [15:55<02:00,  3.19it/s]"
     ]
    },
    {
     "name": "stdout",
     "output_type": "stream",
     "text": [
      "Error with file: /media/ubuntu/6156e08b-fdb1-4cde-964e-431f74a6078e/Files/LLP_DATA/Original_DATA/2025-04-23-2HDM/LLP_data/B_2HDM/mass_5.01e+00_ctau_2.52e+06_br_1.00e+00_seed_979224.csv\n",
      "Error message: No columns to parse from file\n",
      "Error with file: /media/ubuntu/6156e08b-fdb1-4cde-964e-431f74a6078e/Files/LLP_DATA/Original_DATA/2025-04-23-2HDM/LLP_data/B_2HDM/mass_1.00e+01_ctau_1.59e+03_br_1.00e+00_seed_979224.csv\n",
      "Error message: No columns to parse from file\n",
      "Error with file: /media/ubuntu/6156e08b-fdb1-4cde-964e-431f74a6078e/Files/LLP_DATA/Original_DATA/2025-04-23-2HDM/LLP_data/B_2HDM/mass_7.94e+00_ctau_5.03e+07_br_1.00e+00_seed_979224.csv\n",
      "Error message: No columns to parse from file\n"
     ]
    },
    {
     "name": "stderr",
     "output_type": "stream",
     "text": [
      " 87%|████████▋ | 2582/2961 [15:57<01:43,  3.65it/s]"
     ]
    },
    {
     "name": "stdout",
     "output_type": "stream",
     "text": [
      "Error with file: /media/ubuntu/6156e08b-fdb1-4cde-964e-431f74a6078e/Files/LLP_DATA/Original_DATA/2025-04-23-2HDM/LLP_data/B_2HDM/mass_5.01e+00_ctau_5.04e+03_br_1.00e+00_seed_979224.csv\n",
      "Error message: No columns to parse from file\n",
      "Error with file: /media/ubuntu/6156e08b-fdb1-4cde-964e-431f74a6078e/Files/LLP_DATA/Original_DATA/2025-04-23-2HDM/LLP_data/B_2HDM/mass_5.01e+00_ctau_1.57e-01_br_1.00e+00_seed_979224.csv\n",
      "Error message: No columns to parse from file\n"
     ]
    },
    {
     "name": "stderr",
     "output_type": "stream",
     "text": [
      " 87%|████████▋ | 2589/2961 [15:59<02:03,  3.01it/s]"
     ]
    },
    {
     "name": "stdout",
     "output_type": "stream",
     "text": [
      "Error with file: /media/ubuntu/6156e08b-fdb1-4cde-964e-431f74a6078e/Files/LLP_DATA/Original_DATA/2025-04-23-2HDM/LLP_data/B_2HDM/mass_7.94e+00_ctau_5.03e+02_br_1.00e+00_seed_979224.csv\n",
      "Error message: No columns to parse from file\n"
     ]
    },
    {
     "name": "stderr",
     "output_type": "stream",
     "text": [
      " 88%|████████▊ | 2594/2961 [16:00<02:05,  2.92it/s]"
     ]
    },
    {
     "name": "stdout",
     "output_type": "stream",
     "text": [
      "Error with file: /media/ubuntu/6156e08b-fdb1-4cde-964e-431f74a6078e/Files/LLP_DATA/Original_DATA/2025-04-23-2HDM/LLP_data/B_2HDM/mass_5.01e+00_ctau_1.59e+05_br_1.00e+00_seed_979224.csv\n",
      "Error message: No columns to parse from file\n"
     ]
    },
    {
     "name": "stderr",
     "output_type": "stream",
     "text": [
      " 88%|████████▊ | 2604/2961 [16:06<04:11,  1.42it/s]"
     ]
    },
    {
     "name": "stdout",
     "output_type": "stream",
     "text": [
      "Error with file: /media/ubuntu/6156e08b-fdb1-4cde-964e-431f74a6078e/Files/LLP_DATA/Original_DATA/2025-04-23-2HDM/LLP_data/B_2HDM/mass_6.31e+00_ctau_9.96e-02_br_1.00e+00_seed_979224.csv\n",
      "Error message: No columns to parse from file\n"
     ]
    },
    {
     "name": "stderr",
     "output_type": "stream",
     "text": [
      " 88%|████████▊ | 2608/2961 [16:07<03:00,  1.95it/s]"
     ]
    },
    {
     "name": "stdout",
     "output_type": "stream",
     "text": [
      "Error with file: /media/ubuntu/6156e08b-fdb1-4cde-964e-431f74a6078e/Files/LLP_DATA/Original_DATA/2025-04-23-2HDM/LLP_data/B_2HDM/mass_7.94e+00_ctau_5.03e+06_br_1.00e+00_seed_979224.csv\n",
      "Error message: No columns to parse from file\n"
     ]
    },
    {
     "name": "stderr",
     "output_type": "stream",
     "text": [
      " 88%|████████▊ | 2617/2961 [16:11<02:13,  2.57it/s]"
     ]
    },
    {
     "name": "stdout",
     "output_type": "stream",
     "text": [
      "Error with file: /media/ubuntu/6156e08b-fdb1-4cde-964e-431f74a6078e/Files/LLP_DATA/Original_DATA/2025-04-23-2HDM/LLP_data/B_2HDM/mass_1.00e+01_ctau_1.57e-02_br_1.00e+00_seed_979224.csv\n",
      "Error message: No columns to parse from file\n"
     ]
    },
    {
     "name": "stderr",
     "output_type": "stream",
     "text": [
      " 89%|████████▊ | 2626/2961 [16:14<02:06,  2.65it/s]"
     ]
    },
    {
     "name": "stdout",
     "output_type": "stream",
     "text": [
      "Error with file: /media/ubuntu/6156e08b-fdb1-4cde-964e-431f74a6078e/Files/LLP_DATA/Original_DATA/2025-04-23-2HDM/LLP_data/B_2HDM/mass_7.94e+00_ctau_1.41e-06_br_1.00e+00_seed_979224.csv\n",
      "Error message: No columns to parse from file\n",
      "Error with file: /media/ubuntu/6156e08b-fdb1-4cde-964e-431f74a6078e/Files/LLP_DATA/Original_DATA/2025-04-23-2HDM/LLP_data/B_2HDM/mass_7.94e+00_ctau_1.26e+08_br_1.00e+00_seed_979224.csv\n",
      "Error message: No columns to parse from file\n"
     ]
    },
    {
     "name": "stderr",
     "output_type": "stream",
     "text": [
      " 89%|████████▉ | 2629/2961 [16:14<01:19,  4.20it/s]"
     ]
    },
    {
     "name": "stdout",
     "output_type": "stream",
     "text": [
      "Error with file: /media/ubuntu/6156e08b-fdb1-4cde-964e-431f74a6078e/Files/LLP_DATA/Original_DATA/2025-04-23-2HDM/LLP_data/B_2HDM/mass_5.01e+00_ctau_7.98e+01_br_1.00e+00_seed_979224.csv\n",
      "Error message: No columns to parse from file\n"
     ]
    },
    {
     "name": "stderr",
     "output_type": "stream",
     "text": [
      " 89%|████████▉ | 2636/2961 [16:16<01:51,  2.91it/s]"
     ]
    },
    {
     "name": "stdout",
     "output_type": "stream",
     "text": [
      "Error with file: /media/ubuntu/6156e08b-fdb1-4cde-964e-431f74a6078e/Files/LLP_DATA/Original_DATA/2025-04-23-2HDM/LLP_data/B_2HDM/mass_6.31e+00_ctau_6.34e+06_br_1.00e+00_seed_979224.csv\n",
      "Error message: No columns to parse from file\n"
     ]
    },
    {
     "name": "stderr",
     "output_type": "stream",
     "text": [
      " 89%|████████▉ | 2650/2961 [16:23<03:39,  1.42it/s]"
     ]
    },
    {
     "name": "stdout",
     "output_type": "stream",
     "text": [
      "Error with file: /media/ubuntu/6156e08b-fdb1-4cde-964e-431f74a6078e/Files/LLP_DATA/Original_DATA/2025-04-23-2HDM/LLP_data/B_2HDM/mass_5.01e+00_ctau_5.04e+07_br_1.00e+00_seed_979224.csv\n",
      "Error message: No columns to parse from file\n"
     ]
    },
    {
     "name": "stderr",
     "output_type": "stream",
     "text": [
      " 90%|████████▉ | 2654/2961 [16:25<02:16,  2.25it/s]"
     ]
    },
    {
     "name": "stdout",
     "output_type": "stream",
     "text": [
      "Error with file: /media/ubuntu/6156e08b-fdb1-4cde-964e-431f74a6078e/Files/LLP_DATA/Original_DATA/2025-04-23-2HDM/LLP_data/B_2HDM/mass_6.31e+00_ctau_5.04e+08_br_1.00e+00_seed_979224.csv\n",
      "Error message: No columns to parse from file\n",
      "Error with file: /media/ubuntu/6156e08b-fdb1-4cde-964e-431f74a6078e/Files/LLP_DATA/Original_DATA/2025-04-23-2HDM/LLP_data/B_2HDM/mass_1.00e+01_ctau_1.59e+02_br_1.00e+00_seed_979224.csv\n",
      "Error message: No columns to parse from file\n"
     ]
    },
    {
     "name": "stderr",
     "output_type": "stream",
     "text": [
      " 90%|████████▉ | 2660/2961 [16:26<01:40,  3.00it/s]"
     ]
    },
    {
     "name": "stdout",
     "output_type": "stream",
     "text": [
      "Error with file: /media/ubuntu/6156e08b-fdb1-4cde-964e-431f74a6078e/Files/LLP_DATA/Original_DATA/2025-04-23-2HDM/LLP_data/B_2HDM/mass_7.94e+00_ctau_6.12e-04_br_1.00e+00_seed_979224.csv\n",
      "Error message: No columns to parse from file\n"
     ]
    },
    {
     "name": "stderr",
     "output_type": "stream",
     "text": [
      " 90%|████████▉ | 2662/2961 [16:28<02:23,  2.09it/s]"
     ]
    },
    {
     "name": "stdout",
     "output_type": "stream",
     "text": [
      "Error with file: /media/ubuntu/6156e08b-fdb1-4cde-964e-431f74a6078e/Files/LLP_DATA/Original_DATA/2025-04-23-2HDM/LLP_data/B_2HDM/mass_6.31e+00_ctau_2.00e+04_br_1.00e+00_seed_979224.csv\n",
      "Error message: No columns to parse from file\n"
     ]
    },
    {
     "name": "stderr",
     "output_type": "stream",
     "text": [
      " 90%|█████████ | 2675/2961 [16:32<01:48,  2.63it/s]"
     ]
    },
    {
     "name": "stdout",
     "output_type": "stream",
     "text": [
      "Error with file: /media/ubuntu/6156e08b-fdb1-4cde-964e-431f74a6078e/Files/LLP_DATA/Original_DATA/2025-04-23-2HDM/LLP_data/B_2HDM/mass_1.00e+01_ctau_3.17e+09_br_1.00e+00_seed_979224.csv\n",
      "Error message: No columns to parse from file\n"
     ]
    },
    {
     "name": "stderr",
     "output_type": "stream",
     "text": [
      " 91%|█████████ | 2681/2961 [16:34<01:39,  2.81it/s]"
     ]
    },
    {
     "name": "stdout",
     "output_type": "stream",
     "text": [
      "Error with file: /media/ubuntu/6156e08b-fdb1-4cde-964e-431f74a6078e/Files/LLP_DATA/Original_DATA/2025-04-23-2HDM/LLP_data/B_2HDM/mass_6.31e+00_ctau_2.52e+09_br_1.00e+00_seed_979224.csv\n",
      "Error message: No columns to parse from file\n",
      "Error with file: /media/ubuntu/6156e08b-fdb1-4cde-964e-431f74a6078e/Files/LLP_DATA/Original_DATA/2025-04-23-2HDM/LLP_data/B_2HDM/mass_7.94e+00_ctau_4.00e+03_br_1.00e+00_seed_979224.csv\n",
      "Error message: No columns to parse from file\n"
     ]
    },
    {
     "name": "stderr",
     "output_type": "stream",
     "text": [
      " 91%|█████████ | 2690/2961 [16:37<01:47,  2.53it/s]"
     ]
    },
    {
     "name": "stdout",
     "output_type": "stream",
     "text": [
      "Error with file: /media/ubuntu/6156e08b-fdb1-4cde-964e-431f74a6078e/Files/LLP_DATA/Original_DATA/2025-04-23-2HDM/LLP_data/B_2HDM/mass_6.31e+00_ctau_7.98e+07_br_1.00e+00_seed_979224.csv\n",
      "Error message: No columns to parse from file\n"
     ]
    },
    {
     "name": "stderr",
     "output_type": "stream",
     "text": [
      " 91%|█████████ | 2695/2961 [16:40<02:34,  1.72it/s]"
     ]
    },
    {
     "name": "stdout",
     "output_type": "stream",
     "text": [
      "Error with file: /media/ubuntu/6156e08b-fdb1-4cde-964e-431f74a6078e/Files/LLP_DATA/Original_DATA/2025-04-23-2HDM/LLP_data/B_2HDM/mass_5.01e+00_ctau_1.62e-04_br_1.00e+00_seed_979224.csv\n",
      "Error message: No columns to parse from file\n"
     ]
    },
    {
     "name": "stderr",
     "output_type": "stream",
     "text": [
      " 91%|█████████▏| 2706/2961 [16:45<01:45,  2.42it/s]"
     ]
    },
    {
     "name": "stdout",
     "output_type": "stream",
     "text": [
      "Error with file: /media/ubuntu/6156e08b-fdb1-4cde-964e-431f74a6078e/Files/LLP_DATA/Original_DATA/2025-04-23-2HDM/LLP_data/B_2HDM/mass_5.01e+00_ctau_4.00e+00_br_1.00e+00_seed_979224.csv\n",
      "Error message: No columns to parse from file\n"
     ]
    },
    {
     "name": "stderr",
     "output_type": "stream",
     "text": [
      " 92%|█████████▏| 2710/2961 [16:47<01:25,  2.94it/s]"
     ]
    },
    {
     "name": "stdout",
     "output_type": "stream",
     "text": [
      "Error with file: /media/ubuntu/6156e08b-fdb1-4cde-964e-431f74a6078e/Files/LLP_DATA/Original_DATA/2025-04-23-2HDM/LLP_data/B_2HDM/mass_5.01e+00_ctau_3.18e+06_br_1.00e+00_seed_979224.csv\n",
      "Error message: No columns to parse from file\n",
      "Error with file: /media/ubuntu/6156e08b-fdb1-4cde-964e-431f74a6078e/Files/LLP_DATA/Original_DATA/2025-04-23-2HDM/LLP_data/B_2HDM/mass_7.94e+00_ctau_6.34e+05_br_1.00e+00_seed_979224.csv\n",
      "Error message: No columns to parse from file\n"
     ]
    },
    {
     "name": "stderr",
     "output_type": "stream",
     "text": [
      " 92%|█████████▏| 2714/2961 [16:47<01:05,  3.75it/s]"
     ]
    },
    {
     "name": "stdout",
     "output_type": "stream",
     "text": [
      "Error with file: /media/ubuntu/6156e08b-fdb1-4cde-964e-431f74a6078e/Files/LLP_DATA/Original_DATA/2025-04-23-2HDM/LLP_data/B_2HDM/mass_6.31e+00_ctau_5.04e+00_br_1.00e+00_seed_979224.csv\n",
      "Error message: No columns to parse from file\n"
     ]
    },
    {
     "name": "stderr",
     "output_type": "stream",
     "text": [
      " 92%|█████████▏| 2725/2961 [16:51<01:30,  2.61it/s]"
     ]
    },
    {
     "name": "stdout",
     "output_type": "stream",
     "text": [
      "Error with file: /media/ubuntu/6156e08b-fdb1-4cde-964e-431f74a6078e/Files/LLP_DATA/Original_DATA/2025-04-23-2HDM/LLP_data/B_2HDM/mass_5.01e+00_ctau_5.04e+01_br_1.00e+00_seed_979224.csv\n",
      "Error message: No columns to parse from file\n"
     ]
    },
    {
     "name": "stderr",
     "output_type": "stream",
     "text": [
      " 92%|█████████▏| 2728/2961 [16:52<01:17,  2.99it/s]"
     ]
    },
    {
     "name": "stdout",
     "output_type": "stream",
     "text": [
      "Error with file: /media/ubuntu/6156e08b-fdb1-4cde-964e-431f74a6078e/Files/LLP_DATA/Original_DATA/2025-04-23-2HDM/LLP_data/B_2HDM/mass_6.31e+00_ctau_1.16e-02_br_1.00e+00_seed_979224.csv\n",
      "Error message: No columns to parse from file\n"
     ]
    },
    {
     "name": "stderr",
     "output_type": "stream",
     "text": [
      " 92%|█████████▏| 2731/2961 [16:53<01:09,  3.33it/s]"
     ]
    },
    {
     "name": "stdout",
     "output_type": "stream",
     "text": [
      "Error with file: /media/ubuntu/6156e08b-fdb1-4cde-964e-431f74a6078e/Files/LLP_DATA/Original_DATA/2025-04-23-2HDM/LLP_data/B_2HDM/mass_5.01e+00_ctau_2.52e+01_br_1.00e+00_seed_979224.csv\n",
      "Error message: No columns to parse from file\n"
     ]
    },
    {
     "name": "stderr",
     "output_type": "stream",
     "text": [
      " 92%|█████████▏| 2733/2961 [16:53<00:58,  3.92it/s]"
     ]
    },
    {
     "name": "stdout",
     "output_type": "stream",
     "text": [
      "Error with file: /media/ubuntu/6156e08b-fdb1-4cde-964e-431f74a6078e/Files/LLP_DATA/Original_DATA/2025-04-23-2HDM/LLP_data/B_2HDM/mass_6.31e+00_ctau_4.00e+02_br_1.00e+00_seed_979224.csv\n",
      "Error message: No columns to parse from file\n"
     ]
    },
    {
     "name": "stderr",
     "output_type": "stream",
     "text": [
      " 93%|█████████▎| 2751/2961 [17:02<01:47,  1.95it/s]"
     ]
    },
    {
     "name": "stdout",
     "output_type": "stream",
     "text": [
      "Error with file: /media/ubuntu/6156e08b-fdb1-4cde-964e-431f74a6078e/Files/LLP_DATA/Original_DATA/2025-04-23-2HDM/LLP_data/B_2HDM/mass_1.00e+01_ctau_6.33e+07_br_1.00e+00_seed_979224.csv\n",
      "Error message: No columns to parse from file\n"
     ]
    },
    {
     "name": "stderr",
     "output_type": "stream",
     "text": [
      " 93%|█████████▎| 2758/2961 [17:05<01:17,  2.61it/s]"
     ]
    },
    {
     "name": "stdout",
     "output_type": "stream",
     "text": [
      "Error with file: /media/ubuntu/6156e08b-fdb1-4cde-964e-431f74a6078e/Files/LLP_DATA/Original_DATA/2025-04-23-2HDM/LLP_data/B_2HDM/mass_7.94e+00_ctau_3.22e-07_br_1.00e+00_seed_979224.csv\n",
      "Error message: No columns to parse from file\n",
      "Error with file: /media/ubuntu/6156e08b-fdb1-4cde-964e-431f74a6078e/Files/LLP_DATA/Original_DATA/2025-04-23-2HDM/LLP_data/B_2HDM/mass_6.31e+00_ctau_1.59e+00_br_1.00e+00_seed_979224.csv\n",
      "Error message: No columns to parse from file\n"
     ]
    },
    {
     "name": "stderr",
     "output_type": "stream",
     "text": [
      " 93%|█████████▎| 2765/2961 [17:06<01:05,  3.00it/s]"
     ]
    },
    {
     "name": "stdout",
     "output_type": "stream",
     "text": [
      "Error with file: /media/ubuntu/6156e08b-fdb1-4cde-964e-431f74a6078e/Files/LLP_DATA/Original_DATA/2025-04-23-2HDM/LLP_data/B_2HDM/mass_1.00e+01_ctau_4.38e-09_br_1.00e+00_seed_979224.csv\n",
      "Error message: No columns to parse from file\n"
     ]
    },
    {
     "name": "stderr",
     "output_type": "stream",
     "text": [
      " 93%|█████████▎| 2768/2961 [17:07<00:58,  3.27it/s]"
     ]
    },
    {
     "name": "stdout",
     "output_type": "stream",
     "text": [
      "Error with file: /media/ubuntu/6156e08b-fdb1-4cde-964e-431f74a6078e/Files/LLP_DATA/Original_DATA/2025-04-23-2HDM/LLP_data/B_2HDM/mass_5.01e+00_ctau_1.27e+01_br_1.00e+00_seed_979224.csv\n",
      "Error message: No columns to parse from file\n"
     ]
    },
    {
     "name": "stderr",
     "output_type": "stream",
     "text": [
      " 94%|█████████▍| 2780/2961 [17:12<01:10,  2.58it/s]"
     ]
    },
    {
     "name": "stdout",
     "output_type": "stream",
     "text": [
      "Error with file: /media/ubuntu/6156e08b-fdb1-4cde-964e-431f74a6078e/Files/LLP_DATA/Original_DATA/2025-04-23-2HDM/LLP_data/B_2HDM/mass_7.94e+00_ctau_5.03e+01_br_1.00e+00_seed_979224.csv\n",
      "Error message: No columns to parse from file\n"
     ]
    },
    {
     "name": "stderr",
     "output_type": "stream",
     "text": [
      " 94%|█████████▍| 2782/2961 [17:13<01:37,  1.84it/s]"
     ]
    },
    {
     "name": "stdout",
     "output_type": "stream",
     "text": [
      "Error with file: /media/ubuntu/6156e08b-fdb1-4cde-964e-431f74a6078e/Files/LLP_DATA/Original_DATA/2025-04-23-2HDM/LLP_data/B_2HDM/mass_5.01e+00_ctau_4.00e+09_br_1.00e+00_seed_979224.csv\n",
      "Error message: No columns to parse from file\n"
     ]
    },
    {
     "name": "stderr",
     "output_type": "stream",
     "text": [
      " 94%|█████████▍| 2796/2961 [17:19<01:08,  2.42it/s]"
     ]
    },
    {
     "name": "stdout",
     "output_type": "stream",
     "text": [
      "Error with file: /media/ubuntu/6156e08b-fdb1-4cde-964e-431f74a6078e/Files/LLP_DATA/Original_DATA/2025-04-23-2HDM/LLP_data/B_2HDM/mass_5.01e+00_ctau_1.01e+09_br_1.00e+00_seed_979224.csv\n",
      "Error message: No columns to parse from file\n"
     ]
    },
    {
     "name": "stderr",
     "output_type": "stream",
     "text": [
      " 95%|█████████▍| 2802/2961 [17:21<00:59,  2.69it/s]"
     ]
    },
    {
     "name": "stdout",
     "output_type": "stream",
     "text": [
      "Error with file: /media/ubuntu/6156e08b-fdb1-4cde-964e-431f74a6078e/Files/LLP_DATA/Original_DATA/2025-04-23-2HDM/LLP_data/B_2HDM/mass_7.94e+00_ctau_5.90e-06_br_1.00e+00_seed_979224.csv\n",
      "Error message: No columns to parse from file\n"
     ]
    },
    {
     "name": "stderr",
     "output_type": "stream",
     "text": [
      " 95%|█████████▍| 2805/2961 [17:22<00:48,  3.22it/s]"
     ]
    },
    {
     "name": "stdout",
     "output_type": "stream",
     "text": [
      "Error with file: /media/ubuntu/6156e08b-fdb1-4cde-964e-431f74a6078e/Files/LLP_DATA/Original_DATA/2025-04-23-2HDM/LLP_data/B_2HDM/mass_1.00e+01_ctau_3.26e-03_br_1.00e+00_seed_979224.csv\n",
      "Error message: No columns to parse from file\n"
     ]
    },
    {
     "name": "stderr",
     "output_type": "stream",
     "text": [
      " 95%|█████████▍| 2810/2961 [17:23<00:50,  3.02it/s]"
     ]
    },
    {
     "name": "stdout",
     "output_type": "stream",
     "text": [
      "Error with file: /media/ubuntu/6156e08b-fdb1-4cde-964e-431f74a6078e/Files/LLP_DATA/Original_DATA/2025-04-23-2HDM/LLP_data/B_2HDM/mass_5.01e+00_ctau_2.52e+07_br_1.00e+00_seed_979224.csv\n",
      "Error message: No columns to parse from file\n",
      "Error with file: /media/ubuntu/6156e08b-fdb1-4cde-964e-431f74a6078e/Files/LLP_DATA/Original_DATA/2025-04-23-2HDM/LLP_data/B_2HDM/mass_5.01e+00_ctau_6.34e+05_br_1.00e+00_seed_979224.csv\n",
      "Error message: No columns to parse from file\n"
     ]
    },
    {
     "name": "stderr",
     "output_type": "stream",
     "text": [
      " 95%|█████████▌| 2815/2961 [17:25<00:42,  3.43it/s]"
     ]
    },
    {
     "name": "stdout",
     "output_type": "stream",
     "text": [
      "Error with file: /media/ubuntu/6156e08b-fdb1-4cde-964e-431f74a6078e/Files/LLP_DATA/Original_DATA/2025-04-23-2HDM/LLP_data/B_2HDM/mass_6.31e+00_ctau_4.00e+06_br_1.00e+00_seed_979224.csv\n",
      "Error message: No columns to parse from file\n"
     ]
    },
    {
     "name": "stderr",
     "output_type": "stream",
     "text": [
      " 95%|█████████▌| 2821/2961 [17:27<00:57,  2.44it/s]"
     ]
    },
    {
     "name": "stdout",
     "output_type": "stream",
     "text": [
      "Error with file: /media/ubuntu/6156e08b-fdb1-4cde-964e-431f74a6078e/Files/LLP_DATA/Original_DATA/2025-04-23-2HDM/LLP_data/B_2HDM/mass_6.31e+00_ctau_1.00e+10_br_1.00e+00_seed_979224.csv\n",
      "Error message: No columns to parse from file\n"
     ]
    },
    {
     "name": "stderr",
     "output_type": "stream",
     "text": [
      " 96%|█████████▌| 2830/2961 [17:32<01:28,  1.48it/s]"
     ]
    },
    {
     "name": "stdout",
     "output_type": "stream",
     "text": [
      "Error with file: /media/ubuntu/6156e08b-fdb1-4cde-964e-431f74a6078e/Files/LLP_DATA/Original_DATA/2025-04-23-2HDM/LLP_data/B_2HDM/mass_1.00e+01_ctau_1.00e-01_br_1.00e+00_seed_979224.csv\n",
      "Error message: No columns to parse from file\n",
      "Error with file: /media/ubuntu/6156e08b-fdb1-4cde-964e-431f74a6078e/Files/LLP_DATA/Original_DATA/2025-04-23-2HDM/LLP_data/B_2HDM/mass_6.31e+00_ctau_6.34e+03_br_1.00e+00_seed_979224.csv\n",
      "Error message: No columns to parse from file\n",
      "Error with file: /media/ubuntu/6156e08b-fdb1-4cde-964e-431f74a6078e/Files/LLP_DATA/Original_DATA/2025-04-23-2HDM/LLP_data/B_2HDM/mass_7.94e+00_ctau_1.00e+05_br_1.00e+00_seed_979224.csv\n",
      "Error message: No columns to parse from file\n"
     ]
    },
    {
     "name": "stderr",
     "output_type": "stream",
     "text": [
      " 96%|█████████▌| 2835/2961 [17:33<00:45,  2.75it/s]"
     ]
    },
    {
     "name": "stdout",
     "output_type": "stream",
     "text": [
      "Error with file: /media/ubuntu/6156e08b-fdb1-4cde-964e-431f74a6078e/Files/LLP_DATA/Original_DATA/2025-04-23-2HDM/LLP_data/B_2HDM/mass_1.00e+01_ctau_1.00e+01_br_1.00e+00_seed_979224.csv\n",
      "Error message: No columns to parse from file\n"
     ]
    },
    {
     "name": "stderr",
     "output_type": "stream",
     "text": [
      " 96%|█████████▌| 2839/2961 [17:34<00:40,  2.98it/s]"
     ]
    },
    {
     "name": "stdout",
     "output_type": "stream",
     "text": [
      "Error with file: /media/ubuntu/6156e08b-fdb1-4cde-964e-431f74a6078e/Files/LLP_DATA/Original_DATA/2025-04-23-2HDM/LLP_data/B_2HDM/mass_1.00e+01_ctau_3.17e+07_br_1.00e+00_seed_979224.csv\n",
      "Error message: No columns to parse from file\n"
     ]
    },
    {
     "name": "stderr",
     "output_type": "stream",
     "text": [
      " 96%|█████████▌| 2841/2961 [17:35<00:33,  3.63it/s]"
     ]
    },
    {
     "name": "stdout",
     "output_type": "stream",
     "text": [
      "Error with file: /media/ubuntu/6156e08b-fdb1-4cde-964e-431f74a6078e/Files/LLP_DATA/Original_DATA/2025-04-23-2HDM/LLP_data/B_2HDM/mass_5.01e+00_ctau_4.00e+07_br_1.00e+00_seed_979224.csv\n",
      "Error message: No columns to parse from file\n",
      "Error with file: /media/ubuntu/6156e08b-fdb1-4cde-964e-431f74a6078e/Files/LLP_DATA/Original_DATA/2025-04-23-2HDM/LLP_data/B_2HDM/mass_6.31e+00_ctau_7.98e+00_br_1.00e+00_seed_979224.csv\n",
      "Error message: No columns to parse from file\n"
     ]
    },
    {
     "name": "stderr",
     "output_type": "stream",
     "text": [
      " 96%|█████████▌| 2847/2961 [17:36<00:33,  3.43it/s]"
     ]
    },
    {
     "name": "stdout",
     "output_type": "stream",
     "text": [
      "Error with file: /media/ubuntu/6156e08b-fdb1-4cde-964e-431f74a6078e/Files/LLP_DATA/Original_DATA/2025-04-23-2HDM/LLP_data/B_2HDM/mass_6.31e+00_ctau_6.34e-01_br_1.00e+00_seed_979224.csv\n",
      "Error message: No columns to parse from file\n"
     ]
    },
    {
     "name": "stderr",
     "output_type": "stream",
     "text": [
      " 96%|█████████▌| 2849/2961 [17:37<00:28,  3.99it/s]"
     ]
    },
    {
     "name": "stdout",
     "output_type": "stream",
     "text": [
      "Error with file: /media/ubuntu/6156e08b-fdb1-4cde-964e-431f74a6078e/Files/LLP_DATA/Original_DATA/2025-04-23-2HDM/LLP_data/B_2HDM/mass_6.31e+00_ctau_1.26e+03_br_1.00e+00_seed_979224.csv\n",
      "Error message: No columns to parse from file\n"
     ]
    },
    {
     "name": "stderr",
     "output_type": "stream",
     "text": [
      " 96%|█████████▋| 2857/2961 [17:39<00:38,  2.71it/s]"
     ]
    },
    {
     "name": "stdout",
     "output_type": "stream",
     "text": [
      "Error with file: /media/ubuntu/6156e08b-fdb1-4cde-964e-431f74a6078e/Files/LLP_DATA/Original_DATA/2025-04-23-2HDM/LLP_data/B_2HDM/mass_5.01e+00_ctau_6.34e+00_br_1.00e+00_seed_979224.csv\n",
      "Error message: No columns to parse from file\n"
     ]
    },
    {
     "name": "stderr",
     "output_type": "stream",
     "text": [
      " 97%|█████████▋| 2862/2961 [17:41<00:34,  2.87it/s]"
     ]
    },
    {
     "name": "stdout",
     "output_type": "stream",
     "text": [
      "Error with file: /media/ubuntu/6156e08b-fdb1-4cde-964e-431f74a6078e/Files/LLP_DATA/Original_DATA/2025-04-23-2HDM/LLP_data/B_2HDM/mass_5.01e+00_ctau_3.27e-02_br_1.00e+00_seed_979224.csv\n",
      "Error message: No columns to parse from file\n"
     ]
    },
    {
     "name": "stderr",
     "output_type": "stream",
     "text": [
      " 97%|█████████▋| 2866/2961 [17:42<00:30,  3.11it/s]"
     ]
    },
    {
     "name": "stdout",
     "output_type": "stream",
     "text": [
      "Error with file: /media/ubuntu/6156e08b-fdb1-4cde-964e-431f74a6078e/Files/LLP_DATA/Original_DATA/2025-04-23-2HDM/LLP_data/B_2HDM/mass_5.01e+00_ctau_2.01e+00_br_1.00e+00_seed_979224.csv\n",
      "Error message: No columns to parse from file\n"
     ]
    },
    {
     "name": "stderr",
     "output_type": "stream",
     "text": [
      " 98%|█████████▊| 2895/2961 [17:56<00:28,  2.35it/s]"
     ]
    },
    {
     "name": "stdout",
     "output_type": "stream",
     "text": [
      "Error with file: /media/ubuntu/6156e08b-fdb1-4cde-964e-431f74a6078e/Files/LLP_DATA/Original_DATA/2025-04-23-2HDM/LLP_data/B_2HDM/mass_7.94e+00_ctau_7.98e+06_br_1.00e+00_seed_979224.csv\n",
      "Error message: No columns to parse from file\n",
      "Error with file: /media/ubuntu/6156e08b-fdb1-4cde-964e-431f74a6078e/Files/LLP_DATA/Original_DATA/2025-04-23-2HDM/LLP_data/B_2HDM/mass_7.94e+00_ctau_3.35e-04_br_1.00e+00_seed_979224.csv\n",
      "Error message: No columns to parse from file\n",
      "Error with file: /media/ubuntu/6156e08b-fdb1-4cde-964e-431f74a6078e/Files/LLP_DATA/Original_DATA/2025-04-23-2HDM/LLP_data/B_2HDM/mass_7.94e+00_ctau_7.98e+07_br_1.00e+00_seed_979224.csv\n",
      "Error message: No columns to parse from file\n"
     ]
    },
    {
     "name": "stderr",
     "output_type": "stream",
     "text": [
      " 98%|█████████▊| 2900/2961 [17:56<00:14,  4.10it/s]"
     ]
    },
    {
     "name": "stdout",
     "output_type": "stream",
     "text": [
      "Error with file: /media/ubuntu/6156e08b-fdb1-4cde-964e-431f74a6078e/Files/LLP_DATA/Original_DATA/2025-04-23-2HDM/LLP_data/B_2HDM/mass_5.01e+00_ctau_1.01e+06_br_1.00e+00_seed_979224.csv\n",
      "Error message: No columns to parse from file\n"
     ]
    },
    {
     "name": "stderr",
     "output_type": "stream",
     "text": [
      " 98%|█████████▊| 2908/2961 [17:59<00:19,  2.78it/s]"
     ]
    },
    {
     "name": "stdout",
     "output_type": "stream",
     "text": [
      "Error with file: /media/ubuntu/6156e08b-fdb1-4cde-964e-431f74a6078e/Files/LLP_DATA/Original_DATA/2025-04-23-2HDM/LLP_data/B_2HDM/mass_5.01e+00_ctau_1.01e+08_br_1.00e+00_seed_979224.csv\n",
      "Error message: No columns to parse from file\n"
     ]
    },
    {
     "name": "stderr",
     "output_type": "stream",
     "text": [
      " 98%|█████████▊| 2914/2961 [18:02<00:28,  1.65it/s]"
     ]
    },
    {
     "name": "stdout",
     "output_type": "stream",
     "text": [
      "Error with file: /media/ubuntu/6156e08b-fdb1-4cde-964e-431f74a6078e/Files/LLP_DATA/Original_DATA/2025-04-23-2HDM/LLP_data/B_2HDM/mass_1.00e+01_ctau_2.51e-02_br_1.00e+00_seed_979224.csv\n",
      "Error message: No columns to parse from file\n",
      "Error with file: /media/ubuntu/6156e08b-fdb1-4cde-964e-431f74a6078e/Files/LLP_DATA/Original_DATA/2025-04-23-2HDM/LLP_data/B_2HDM/mass_6.31e+00_ctau_4.86e-02_br_1.00e+00_seed_979224.csv\n",
      "Error message: No columns to parse from file\n"
     ]
    },
    {
     "name": "stderr",
     "output_type": "stream",
     "text": [
      " 99%|█████████▊| 2917/2961 [18:04<00:26,  1.65it/s]"
     ]
    },
    {
     "name": "stdout",
     "output_type": "stream",
     "text": [
      "Error with file: /media/ubuntu/6156e08b-fdb1-4cde-964e-431f74a6078e/Files/LLP_DATA/Original_DATA/2025-04-23-2HDM/LLP_data/B_2HDM/mass_7.94e+00_ctau_7.96e-02_br_1.00e+00_seed_979224.csv\n",
      "Error message: No columns to parse from file\n"
     ]
    },
    {
     "name": "stderr",
     "output_type": "stream",
     "text": [
      " 99%|█████████▉| 2924/2961 [18:07<00:15,  2.40it/s]"
     ]
    },
    {
     "name": "stdout",
     "output_type": "stream",
     "text": [
      "Error with file: /media/ubuntu/6156e08b-fdb1-4cde-964e-431f74a6078e/Files/LLP_DATA/Original_DATA/2025-04-23-2HDM/LLP_data/B_2HDM/mass_5.01e+00_ctau_5.04e+00_br_1.00e+00_seed_979224.csv\n",
      "Error message: No columns to parse from file\n"
     ]
    },
    {
     "name": "stderr",
     "output_type": "stream",
     "text": [
      " 99%|█████████▉| 2926/2961 [18:07<00:10,  3.20it/s]"
     ]
    },
    {
     "name": "stdout",
     "output_type": "stream",
     "text": [
      "Error with file: /media/ubuntu/6156e08b-fdb1-4cde-964e-431f74a6078e/Files/LLP_DATA/Original_DATA/2025-04-23-2HDM/LLP_data/B_2HDM/mass_5.01e+00_ctau_6.34e+01_br_1.00e+00_seed_979224.csv\n",
      "Error message: No columns to parse from file\n"
     ]
    },
    {
     "name": "stderr",
     "output_type": "stream",
     "text": [
      " 99%|█████████▉| 2929/2961 [18:08<00:09,  3.34it/s]"
     ]
    },
    {
     "name": "stdout",
     "output_type": "stream",
     "text": [
      "Error with file: /media/ubuntu/6156e08b-fdb1-4cde-964e-431f74a6078e/Files/LLP_DATA/Original_DATA/2025-04-23-2HDM/LLP_data/B_2HDM/mass_6.31e+00_ctau_2.00e+06_br_1.00e+00_seed_979224.csv\n",
      "Error message: No columns to parse from file\n"
     ]
    },
    {
     "name": "stderr",
     "output_type": "stream",
     "text": [
      " 99%|█████████▉| 2931/2961 [18:08<00:07,  3.86it/s]"
     ]
    },
    {
     "name": "stdout",
     "output_type": "stream",
     "text": [
      "Error with file: /media/ubuntu/6156e08b-fdb1-4cde-964e-431f74a6078e/Files/LLP_DATA/Original_DATA/2025-04-23-2HDM/LLP_data/B_2HDM/mass_7.94e+00_ctau_1.79e-03_br_1.00e+00_seed_979224.csv\n",
      "Error message: No columns to parse from file\n",
      "Error with file: /media/ubuntu/6156e08b-fdb1-4cde-964e-431f74a6078e/Files/LLP_DATA/Original_DATA/2025-04-23-2HDM/LLP_data/B_2HDM/mass_1.00e+01_ctau_2.00e+07_br_1.00e+00_seed_979224.csv\n",
      "Error message: No columns to parse from file\n",
      "Error with file: /media/ubuntu/6156e08b-fdb1-4cde-964e-431f74a6078e/Files/LLP_DATA/Original_DATA/2025-04-23-2HDM/LLP_data/B_2HDM/mass_5.01e+00_ctau_5.04e+02_br_1.00e+00_seed_979224.csv\n",
      "Error message: No columns to parse from file\n"
     ]
    },
    {
     "name": "stderr",
     "output_type": "stream",
     "text": [
      " 99%|█████████▉| 2935/2961 [18:09<00:05,  4.59it/s]"
     ]
    },
    {
     "name": "stdout",
     "output_type": "stream",
     "text": [
      "Error with file: /media/ubuntu/6156e08b-fdb1-4cde-964e-431f74a6078e/Files/LLP_DATA/Original_DATA/2025-04-23-2HDM/LLP_data/B_2HDM/mass_6.31e+00_ctau_7.98e+06_br_1.00e+00_seed_979224.csv\n",
      "Error message: No columns to parse from file\n"
     ]
    },
    {
     "name": "stderr",
     "output_type": "stream",
     "text": [
      "100%|█████████▉| 2948/2961 [18:13<00:05,  2.41it/s]"
     ]
    },
    {
     "name": "stdout",
     "output_type": "stream",
     "text": [
      "Error with file: /media/ubuntu/6156e08b-fdb1-4cde-964e-431f74a6078e/Files/LLP_DATA/Original_DATA/2025-04-23-2HDM/LLP_data/B_2HDM/mass_5.01e+00_ctau_3.18e+09_br_1.00e+00_seed_979224.csv\n",
      "Error message: No columns to parse from file\n"
     ]
    },
    {
     "name": "stderr",
     "output_type": "stream",
     "text": [
      "100%|█████████▉| 2959/2961 [18:17<00:00,  2.55it/s]"
     ]
    },
    {
     "name": "stdout",
     "output_type": "stream",
     "text": [
      "Error with file: /media/ubuntu/6156e08b-fdb1-4cde-964e-431f74a6078e/Files/LLP_DATA/Original_DATA/2025-04-23-2HDM/LLP_data/B_2HDM/mass_7.94e+00_ctau_6.46e-09_br_1.00e+00_seed_979224.csv\n",
      "Error message: No columns to parse from file\n"
     ]
    },
    {
     "name": "stderr",
     "output_type": "stream",
     "text": [
      "100%|██████████| 2961/2961 [18:18<00:00,  2.70it/s]\n"
     ]
    },
    {
     "name": "stdout",
     "output_type": "stream",
     "text": [
      "The LLPs are Judged whether they are Detected or not, and calculated the cross section\n"
     ]
    },
    {
     "name": "stderr",
     "output_type": "stream",
     "text": [
      "100%|██████████| 2398/2398 [06:01<00:00,  6.63it/s]"
     ]
    },
    {
     "name": "stdout",
     "output_type": "stream",
     "text": [
      "The Final Step is Over, See the .csv files for LLPs Completed Data\n"
     ]
    },
    {
     "name": "stderr",
     "output_type": "stream",
     "text": [
      "\n"
     ]
    },
    {
     "data": {
      "text/plain": [
       "('/media/ubuntu/6156e08b-fdb1-4cde-964e-431f74a6078e/Files/LLP_DATA/Original_DATA/2025-04-23-2HDM/LLP_data/Completed_llp_data_precise_cross_section',\n",
       " ('/media/ubuntu/6156e08b-fdb1-4cde-964e-431f74a6078e/Files/LLP_DATA/Original_DATA/2025-04-23-2HDM/LLP_data/2025-04-29_all_combined_precise_file.csv',\n",
       "  '/media/ubuntu/6156e08b-fdb1-4cde-964e-431f74a6078e/Files/LLP_DATA/Original_DATA/2025-04-23-2HDM/LLP_data/2025-04-29_detected_combined_precise_file.csv'))"
      ]
     },
     "execution_count": 10,
     "metadata": {},
     "output_type": "execute_result"
    }
   ],
   "source": [
    "LLP_date_path = '/media/ubuntu/6156e08b-fdb1-4cde-964e-431f74a6078e/Files/LLP_DATA/Original_DATA/2025-04-23-2HDM/LLP_data/B_2HDM/'\n",
    "# detected_r = '/Users/shiyuzhe/Documents/University/LLP/Second_Term/pythia8/BtoKa/Code/position_read_analyse_1.3/LLP_data_for_test/2024-11-18_19/'\n",
    "okr.calcu_cross_section_and_combine_files_CODEX_MATHUSLA(LLP_date_path)"
   ]
  },
  {
   "cell_type": "code",
   "execution_count": null,
   "metadata": {},
   "outputs": [
    {
     "name": "stdout",
     "output_type": "stream",
     "text": [
      "All CSV files have been merged into /media/ubuntu/6156e08b-fdb1-4cde-964e-431f74a6078e/Files/LLP_DATA/Original_DATA/ALL_GOOD_DATA_2/combined.csv\n"
     ]
    }
   ],
   "source": [
    "combinefile = '/media/ubuntu/6156e08b-fdb1-4cde-964e-431f74a6078e/Files/LLP_DATA/Original_DATA/'\n",
    "combine.merge_csv_files(combinefile, combinefile + '/combined.csv')"
   ]
  }
 ],
 "metadata": {
  "kernelspec": {
   "display_name": "Python 3",
   "language": "python",
   "name": "python3"
  },
  "language_info": {
   "codemirror_mode": {
    "name": "ipython",
    "version": 3
   },
   "file_extension": ".py",
   "mimetype": "text/x-python",
   "name": "python",
   "nbconvert_exporter": "python",
   "pygments_lexer": "ipython3",
   "version": "3.10.12"
  }
 },
 "nbformat": 4,
 "nbformat_minor": 2
}
