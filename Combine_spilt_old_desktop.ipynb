{
 "cells": [
  {
   "cell_type": "code",
   "execution_count": 2,
   "metadata": {},
   "outputs": [],
   "source": [
    "import sys\n",
    "sys.path.append(\"ALL_IN_ONE/Pythia8\")\n",
    "sys.path.append(\"ALL_IN_ONE/LSD\")\n",
    "sys.path.append(\"ALL_IN_ONE/FIT_FUNC\")"
   ]
  },
  {
   "cell_type": "code",
   "execution_count": 3,
   "metadata": {},
   "outputs": [],
   "source": [
    "import os\n",
    "import psutil\n",
    "import time\n",
    "from concurrent.futures import ProcessPoolExecutor\n",
    "from tqdm import tqdm\n",
    "import ALL_IN_ONE.Pythia8.loop as loop\n",
    "import ALL_IN_ONE.Pythia8.one_key_run as okr \n",
    "import ALL_IN_ONE.Pythia8.run_save as rs\n",
    "import ALL_IN_ONE.Pythia8.analyse_data as ad\n",
    "import ALL_IN_ONE.Pythia8.detection as detection\n",
    "import ALL_IN_ONE.Pythia8.Mulity_process as mp\n",
    "from datetime import datetime\n",
    "import ALL_IN_ONE.Pythia8.combine as combine\n",
    "import ALL_IN_ONE.Pythia8.SHiP as ship\n",
    "# from detection import detect_percise_and_combine, detect_r_and_combine\n",
    "# from analyse_data import see_ctau_2, print_max_min_log10_sin_theta_2"
   ]
  },
  {
   "cell_type": "code",
   "execution_count": 1,
   "metadata": {},
   "outputs": [],
   "source": [
    "folder = '/media/ubuntu/6156e08b-fdb1-4cde-964e-431f74a6078e/Files/LLP_DATA/Original_DATA/SHiP-A/2025-09-15_Scalar_SHiP/LLP_data'"
   ]
  },
  {
   "cell_type": "code",
   "execution_count": null,
   "metadata": {},
   "outputs": [
    {
     "name": "stderr",
     "output_type": "stream",
     "text": [
      "Processing files:   3%|▎         | 102/3128 [06:05<3:44:57,  4.46s/it]"
     ]
    }
   ],
   "source": [
    "ship.SHiP(folder)"
   ]
  },
  {
   "cell_type": "code",
   "execution_count": 7,
   "metadata": {},
   "outputs": [
    {
     "name": "stdout",
     "output_type": "stream",
     "text": [
      "Split 4674 files into 6 folders.\n"
     ]
    }
   ],
   "source": [
    "combine.split(folder, 800)"
   ]
  },
  {
   "cell_type": "markdown",
   "metadata": {},
   "source": []
  },
  {
   "cell_type": "code",
   "execution_count": 7,
   "metadata": {},
   "outputs": [
    {
     "name": "stdout",
     "output_type": "stream",
     "text": [
      "All CSV files moved back to /media/ubuntu/6156e08b-fdb1-4cde-964e-431f74a6078e/Files/LLP_DATA/Original_DATA/SHiP-A/2025-09-12_2HDM-A_SHiP/LLP_data and split folders removed.\n"
     ]
    }
   ],
   "source": [
    "combine.undo_split_csv_files(folder)"
   ]
  },
  {
   "cell_type": "code",
   "execution_count": 4,
   "metadata": {},
   "outputs": [
    {
     "name": "stdout",
     "output_type": "stream",
     "text": [
      "/media/srp/L/SHiP-A/2025-09-12_2HDM-A_SHiP/LLP_data/split_1\n",
      "/media/srp/L/SHiP-A/2025-09-12_2HDM-A_SHiP/LLP_data/split_2\n",
      "/media/srp/L/SHiP-A/2025-09-12_2HDM-A_SHiP/LLP_data/split_3\n",
      "/media/srp/L/SHiP-A/2025-09-12_2HDM-A_SHiP/LLP_data/split_4\n",
      "/media/srp/L/SHiP-A/2025-09-12_2HDM-A_SHiP/LLP_data/split_5\n",
      "/media/srp/L/SHiP-A/2025-09-12_2HDM-A_SHiP/LLP_data/split_6\n"
     ]
    },
    {
     "name": "stderr",
     "output_type": "stream",
     "text": [
      "Processing files:   9%|▉         | 73/800 [52:50<9:28:46, 46.94s/it] "
     ]
    },
    {
     "name": "stdout",
     "output_type": "stream",
     "text": [
      "Error with file: /media/srp/L/SHiP-A/2025-09-12_2HDM-A_SHiP/LLP_data/split_1/mass_1.00e-01_ctau_3.79e+08_br_1.00e+00_seed_199554.csv\n",
      "Error message: No columns to parse from file\n"
     ]
    },
    {
     "name": "stderr",
     "output_type": "stream",
     "text": [
      "Traceback (most recent call last):\n",
      "  File \"/home/srp/Documents/program/position_read_analyse_1.3/ALL_IN_ONE/Pythia8/SHiP.py\", line 140, in SHiP\n",
      "    completed_data_folder = add_whether_in_the_detector_without_Decay_calcu_add_cross_section_SHiP(\n",
      "  File \"/home/srp/Documents/program/position_read_analyse_1.3/ALL_IN_ONE/Pythia8/SHiP.py\", line 109, in add_whether_in_the_detector_without_Decay_calcu_add_cross_section_SHiP\n",
      "    llp_data = pd.read_csv(filename)\n",
      "  File \"/usr/local/lib/python3.10/dist-packages/pandas/io/parsers/readers.py\", line 1026, in read_csv\n",
      "    return _read(filepath_or_buffer, kwds)\n",
      "  File \"/usr/local/lib/python3.10/dist-packages/pandas/io/parsers/readers.py\", line 620, in _read\n",
      "    parser = TextFileReader(filepath_or_buffer, **kwds)\n",
      "  File \"/usr/local/lib/python3.10/dist-packages/pandas/io/parsers/readers.py\", line 1620, in __init__\n",
      "    self._engine = self._make_engine(f, self.engine)\n",
      "  File \"/usr/local/lib/python3.10/dist-packages/pandas/io/parsers/readers.py\", line 1898, in _make_engine\n",
      "    return mapping[engine](f, **self.options)\n",
      "  File \"/usr/local/lib/python3.10/dist-packages/pandas/io/parsers/c_parser_wrapper.py\", line 93, in __init__\n",
      "    self._reader = parsers.TextReader(src, **kwds)\n",
      "Processing files:   9%|▉         | 75/800 [52:50<9:11:05, 45.61s/it]  File \"pandas/_libs/parsers.pyx\", line 581, in pandas._libs.parsers.TextReader.__cinit__\n",
      "pandas.errors.EmptyDataError: No columns to parse from file\n",
      "Processing files:  10%|█         | 84/800 [1:00:39<9:03:43, 45.56s/it]"
     ]
    },
    {
     "name": "stdout",
     "output_type": "stream",
     "text": [
      "Error with file: /media/srp/L/SHiP-A/2025-09-12_2HDM-A_SHiP/LLP_data/split_2/mass_2.24e-01_ctau_1.45e+02_br_1.00e+00_seed_649017.csv\n",
      "Error message: No columns to parse from file\n"
     ]
    },
    {
     "name": "stderr",
     "output_type": "stream",
     "text": [
      "Traceback (most recent call last):\n",
      "  File \"/home/srp/Documents/program/position_read_analyse_1.3/ALL_IN_ONE/Pythia8/SHiP.py\", line 140, in SHiP\n",
      "    completed_data_folder = add_whether_in_the_detector_without_Decay_calcu_add_cross_section_SHiP(\n",
      "  File \"/home/srp/Documents/program/position_read_analyse_1.3/ALL_IN_ONE/Pythia8/SHiP.py\", line 109, in add_whether_in_the_detector_without_Decay_calcu_add_cross_section_SHiP\n",
      "    llp_data = pd.read_csv(filename)\n",
      "  File \"/usr/local/lib/python3.10/dist-packages/pandas/io/parsers/readers.py\", line 1026, in read_csv\n",
      "    return _read(filepath_or_buffer, kwds)\n",
      "  File \"/usr/local/lib/python3.10/dist-packages/pandas/io/parsers/readers.py\", line 620, in _read\n",
      "    parser = TextFileReader(filepath_or_buffer, **kwds)\n",
      "  File \"/usr/local/lib/python3.10/dist-packages/pandas/io/parsers/readers.py\", line 1620, in __init__\n",
      "    self._engine = self._make_engine(f, self.engine)\n",
      "  File \"/usr/local/lib/python3.10/dist-packages/pandas/io/parsers/readers.py\", line 1898, in _make_engine\n",
      "    return mapping[engine](f, **self.options)\n",
      "  File \"/usr/local/lib/python3.10/dist-packages/pandas/io/parsers/c_parser_wrapper.py\", line 93, in __init__\n",
      "    self._reader = parsers.TextReader(src, **kwds)\n",
      "  File \"pandas/_libs/parsers.pyx\", line 581, in pandas._libs.parsers.TextReader.__cinit__\n",
      "pandas.errors.EmptyDataError: No columns to parse from file\n",
      "Processing files:  31%|███       | 245/800 [2:37:04<5:47:06, 37.52s/it]"
     ]
    },
    {
     "name": "stdout",
     "output_type": "stream",
     "text": [
      "Error with file: /media/srp/L/SHiP-A/2025-09-12_2HDM-A_SHiP/LLP_data/split_2/mass_1.12e+00_ctau_9.67e-04_br_1.00e+00_seed_767404.csv\n",
      "Error message: No columns to parse from file\n"
     ]
    },
    {
     "name": "stderr",
     "output_type": "stream",
     "text": [
      "Traceback (most recent call last):\n",
      "  File \"/home/srp/Documents/program/position_read_analyse_1.3/ALL_IN_ONE/Pythia8/SHiP.py\", line 140, in SHiP\n",
      "    completed_data_folder = add_whether_in_the_detector_without_Decay_calcu_add_cross_section_SHiP(\n",
      "  File \"/home/srp/Documents/program/position_read_analyse_1.3/ALL_IN_ONE/Pythia8/SHiP.py\", line 109, in add_whether_in_the_detector_without_Decay_calcu_add_cross_section_SHiP\n",
      "    llp_data = pd.read_csv(filename)\n",
      "  File \"/usr/local/lib/python3.10/dist-packages/pandas/io/parsers/readers.py\", line 1026, in read_csv\n",
      "    return _read(filepath_or_buffer, kwds)\n",
      "  File \"/usr/local/lib/python3.10/dist-packages/pandas/io/parsers/readers.py\", line 620, in _read\n",
      "    parser = TextFileReader(filepath_or_buffer, **kwds)\n",
      "  File \"/usr/local/lib/python3.10/dist-packages/pandas/io/parsers/readers.py\", line 1620, in __init__\n",
      "    self._engine = self._make_engine(f, self.engine)\n",
      "  File \"/usr/local/lib/python3.10/dist-packages/pandas/io/parsers/readers.py\", line 1898, in _make_engine\n",
      "    return mapping[engine](f, **self.options)\n",
      "  File \"/usr/local/lib/python3.10/dist-packages/pandas/io/parsers/c_parser_wrapper.py\", line 93, in __init__\n",
      "    self._reader = parsers.TextReader(src, **kwds)\n",
      "  File \"pandas/_libs/parsers.pyx\", line 581, in pandas._libs.parsers.TextReader.__cinit__\n",
      "pandas.errors.EmptyDataError: No columns to parse from file\n",
      "Processing files:  46%|████▌     | 364/800 [3:50:23<4:13:01, 34.82s/it]"
     ]
    },
    {
     "name": "stdout",
     "output_type": "stream",
     "text": [
      "Error with file: /media/srp/L/SHiP-A/2025-09-12_2HDM-A_SHiP/LLP_data/split_3/mass_5.01e-01_ctau_2.35e-01_br_1.00e+00_seed_798213.csv\n",
      "Error message: No columns to parse from file\n"
     ]
    },
    {
     "name": "stderr",
     "output_type": "stream",
     "text": [
      "Traceback (most recent call last):\n",
      "  File \"/home/srp/Documents/program/position_read_analyse_1.3/ALL_IN_ONE/Pythia8/SHiP.py\", line 140, in SHiP\n",
      "    completed_data_folder = add_whether_in_the_detector_without_Decay_calcu_add_cross_section_SHiP(\n",
      "  File \"/home/srp/Documents/program/position_read_analyse_1.3/ALL_IN_ONE/Pythia8/SHiP.py\", line 109, in add_whether_in_the_detector_without_Decay_calcu_add_cross_section_SHiP\n",
      "    llp_data = pd.read_csv(filename)\n",
      "  File \"/usr/local/lib/python3.10/dist-packages/pandas/io/parsers/readers.py\", line 1026, in read_csv\n",
      "    return _read(filepath_or_buffer, kwds)\n",
      "  File \"/usr/local/lib/python3.10/dist-packages/pandas/io/parsers/readers.py\", line 620, in _read\n",
      "    parser = TextFileReader(filepath_or_buffer, **kwds)\n",
      "  File \"/usr/local/lib/python3.10/dist-packages/pandas/io/parsers/readers.py\", line 1620, in __init__\n",
      "    self._engine = self._make_engine(f, self.engine)\n",
      "  File \"/usr/local/lib/python3.10/dist-packages/pandas/io/parsers/readers.py\", line 1898, in _make_engine\n",
      "    return mapping[engine](f, **self.options)\n",
      "  File \"/usr/local/lib/python3.10/dist-packages/pandas/io/parsers/c_parser_wrapper.py\", line 93, in __init__\n",
      "    self._reader = parsers.TextReader(src, **kwds)\n",
      "  File \"pandas/_libs/parsers.pyx\", line 581, in pandas._libs.parsers.TextReader.__cinit__\n",
      "pandas.errors.EmptyDataError: No columns to parse from file\n",
      "Processing files:  57%|█████▊    | 460/800 [4:47:42<3:29:16, 36.93s/it]"
     ]
    },
    {
     "name": "stdout",
     "output_type": "stream",
     "text": [
      "Error with file: /media/srp/L/SHiP-A/2025-09-12_2HDM-A_SHiP/LLP_data/split_3/mass_2.24e+00_ctau_3.27e+02_br_1.00e+00_seed_946261.csv\n",
      "Error message: No columns to parse from file\n"
     ]
    },
    {
     "name": "stderr",
     "output_type": "stream",
     "text": [
      "Traceback (most recent call last):\n",
      "  File \"/home/srp/Documents/program/position_read_analyse_1.3/ALL_IN_ONE/Pythia8/SHiP.py\", line 140, in SHiP\n",
      "    completed_data_folder = add_whether_in_the_detector_without_Decay_calcu_add_cross_section_SHiP(\n",
      "  File \"/home/srp/Documents/program/position_read_analyse_1.3/ALL_IN_ONE/Pythia8/SHiP.py\", line 109, in add_whether_in_the_detector_without_Decay_calcu_add_cross_section_SHiP\n",
      "    llp_data = pd.read_csv(filename)\n",
      "  File \"/usr/local/lib/python3.10/dist-packages/pandas/io/parsers/readers.py\", line 1026, in read_csv\n",
      "    return _read(filepath_or_buffer, kwds)\n",
      "  File \"/usr/local/lib/python3.10/dist-packages/pandas/io/parsers/readers.py\", line 620, in _read\n",
      "    parser = TextFileReader(filepath_or_buffer, **kwds)\n",
      "  File \"/usr/local/lib/python3.10/dist-packages/pandas/io/parsers/readers.py\", line 1620, in __init__\n",
      "    self._engine = self._make_engine(f, self.engine)\n",
      "  File \"/usr/local/lib/python3.10/dist-packages/pandas/io/parsers/readers.py\", line 1898, in _make_engine\n",
      "    return mapping[engine](f, **self.options)\n",
      "  File \"/usr/local/lib/python3.10/dist-packages/pandas/io/parsers/c_parser_wrapper.py\", line 93, in __init__\n",
      "    self._reader = parsers.TextReader(src, **kwds)\n",
      "  File \"pandas/_libs/parsers.pyx\", line 581, in pandas._libs.parsers.TextReader.__cinit__\n",
      "pandas.errors.EmptyDataError: No columns to parse from file\n",
      "Processing files:  86%|████████▌ | 578/674 [6:00:09<1:02:25, 39.01s/it]"
     ]
    },
    {
     "name": "stdout",
     "output_type": "stream",
     "text": [
      "Error with file: /media/srp/L/SHiP-A/2025-09-12_2HDM-A_SHiP/LLP_data/split_6/mass_2.24e-02_ctau_2.04e+05_br_1.00e+00_seed_46662.csv\n",
      "Error message: No columns to parse from file\n"
     ]
    },
    {
     "name": "stderr",
     "output_type": "stream",
     "text": [
      "Traceback (most recent call last):\n",
      "  File \"/home/srp/Documents/program/position_read_analyse_1.3/ALL_IN_ONE/Pythia8/SHiP.py\", line 140, in SHiP\n",
      "    completed_data_folder = add_whether_in_the_detector_without_Decay_calcu_add_cross_section_SHiP(\n",
      "  File \"/home/srp/Documents/program/position_read_analyse_1.3/ALL_IN_ONE/Pythia8/SHiP.py\", line 109, in add_whether_in_the_detector_without_Decay_calcu_add_cross_section_SHiP\n",
      "    llp_data = pd.read_csv(filename)\n",
      "  File \"/usr/local/lib/python3.10/dist-packages/pandas/io/parsers/readers.py\", line 1026, in read_csv\n",
      "    return _read(filepath_or_buffer, kwds)\n",
      "  File \"/usr/local/lib/python3.10/dist-packages/pandas/io/parsers/readers.py\", line 620, in _read\n",
      "    parser = TextFileReader(filepath_or_buffer, **kwds)\n",
      "  File \"/usr/local/lib/python3.10/dist-packages/pandas/io/parsers/readers.py\", line 1620, in __init__\n",
      "    self._engine = self._make_engine(f, self.engine)\n",
      "  File \"/usr/local/lib/python3.10/dist-packages/pandas/io/parsers/readers.py\", line 1898, in _make_engine\n",
      "    return mapping[engine](f, **self.options)\n",
      "  File \"/usr/local/lib/python3.10/dist-packages/pandas/io/parsers/c_parser_wrapper.py\", line 93, in __init__\n",
      "    self._reader = parsers.TextReader(src, **kwds)\n",
      "  File \"pandas/_libs/parsers.pyx\", line 581, in pandas._libs.parsers.TextReader.__cinit__\n",
      "pandas.errors.EmptyDataError: No columns to parse from file\n",
      "Processing files: 100%|██████████| 674/674 [7:00:59<00:00, 37.48s/it]t]\n",
      "Processing files: 100%|██████████| 800/800 [7:55:38<00:00, 35.67s/it]  \n",
      "Processing files: 100%|█████████▉| 799/800 [7:56:25<00:10, 10.71s/it]"
     ]
    },
    {
     "name": "stdout",
     "output_type": "stream",
     "text": [
      "Error with file: /media/srp/L/SHiP-A/2025-09-12_2HDM-A_SHiP/LLP_data/split_4/mass_1.00e-02_ctau_4.59e+07_br_1.00e+00_seed_990903.csv\n",
      "Error message: No columns to parse from file\n"
     ]
    },
    {
     "name": "stderr",
     "output_type": "stream",
     "text": [
      "Traceback (most recent call last):\n",
      "  File \"/home/srp/Documents/program/position_read_analyse_1.3/ALL_IN_ONE/Pythia8/SHiP.py\", line 140, in SHiP\n",
      "    completed_data_folder = add_whether_in_the_detector_without_Decay_calcu_add_cross_section_SHiP(\n",
      "  File \"/home/srp/Documents/program/position_read_analyse_1.3/ALL_IN_ONE/Pythia8/SHiP.py\", line 109, in add_whether_in_the_detector_without_Decay_calcu_add_cross_section_SHiP\n",
      "    llp_data = pd.read_csv(filename)\n",
      "  File \"/usr/local/lib/python3.10/dist-packages/pandas/io/parsers/readers.py\", line 1026, in read_csv\n",
      "    return _read(filepath_or_buffer, kwds)\n",
      "  File \"/usr/local/lib/python3.10/dist-packages/pandas/io/parsers/readers.py\", line 620, in _read\n",
      "    parser = TextFileReader(filepath_or_buffer, **kwds)\n",
      "  File \"/usr/local/lib/python3.10/dist-packages/pandas/io/parsers/readers.py\", line 1620, in __init__\n",
      "    self._engine = self._make_engine(f, self.engine)\n",
      "  File \"/usr/local/lib/python3.10/dist-packages/pandas/io/parsers/readers.py\", line 1898, in _make_engine\n",
      "    return mapping[engine](f, **self.options)\n",
      "  File \"/usr/local/lib/python3.10/dist-packages/pandas/io/parsers/c_parser_wrapper.py\", line 93, in __init__\n",
      "    self._reader = parsers.TextReader(src, **kwds)\n",
      "  File \"pandas/_libs/parsers.pyx\", line 581, in pandas._libs.parsers.TextReader.__cinit__\n",
      "pandas.errors.EmptyDataError: No columns to parse from file\n",
      "Processing files: 100%|██████████| 800/800 [7:56:26<00:00, 35.73s/it]\n",
      "Processing files: 100%|██████████| 800/800 [7:57:18<00:00, 35.80s/it]\n",
      "Processing files: 100%|██████████| 800/800 [7:57:36<00:00, 35.82s/it]\n",
      "Processing files: 100%|██████████| 800/800 [7:57:43<00:00, 35.83s/it]\n"
     ]
    },
    {
     "name": "stdout",
     "output_type": "stream",
     "text": [
      "All tasks completed: [('Detection and Calcu Cross-Section Completed', '/media/srp/L/SHiP-A/2025-09-12_2HDM-A_SHiP/LLP_data/Completed_llp_data_precise_cross_section'), ('Detection and Calcu Cross-Section Completed', '/media/srp/L/SHiP-A/2025-09-12_2HDM-A_SHiP/LLP_data/Completed_llp_data_precise_cross_section'), ('Detection and Calcu Cross-Section Completed', '/media/srp/L/SHiP-A/2025-09-12_2HDM-A_SHiP/LLP_data/Completed_llp_data_precise_cross_section'), ('Detection and Calcu Cross-Section Completed', '/media/srp/L/SHiP-A/2025-09-12_2HDM-A_SHiP/LLP_data/Completed_llp_data_precise_cross_section'), ('Detection and Calcu Cross-Section Completed', '/media/srp/L/SHiP-A/2025-09-12_2HDM-A_SHiP/LLP_data/Completed_llp_data_precise_cross_section'), ('Detection and Calcu Cross-Section Completed', '/media/srp/L/SHiP-A/2025-09-12_2HDM-A_SHiP/LLP_data/Completed_llp_data_precise_cross_section')]\n"
     ]
    },
    {
     "ename": "TypeError",
     "evalue": "listdir: path should be string, bytes, os.PathLike, integer or None, not list",
     "output_type": "error",
     "traceback": [
      "\u001b[0;31m---------------------------------------------------------------------------\u001b[0m",
      "\u001b[0;31mTypeError\u001b[0m                                 Traceback (most recent call last)",
      "Cell \u001b[0;32mIn[4], line 41\u001b[0m\n\u001b[1;32m     37\u001b[0m     \u001b[38;5;66;03m# 打印结果\u001b[39;00m\n\u001b[1;32m     38\u001b[0m     \u001b[38;5;28mprint\u001b[39m(\u001b[38;5;124m\"\u001b[39m\u001b[38;5;124mAll tasks completed:\u001b[39m\u001b[38;5;124m\"\u001b[39m, results)\n\u001b[0;32m---> 41\u001b[0m \u001b[43mrun_task\u001b[49m\u001b[43m(\u001b[49m\u001b[43m(\u001b[49m\u001b[43mpaths\u001b[49m\u001b[43m)\u001b[49m\u001b[43m)\u001b[49m\n",
      "Cell \u001b[0;32mIn[4], line 15\u001b[0m, in \u001b[0;36mrun_task\u001b[0;34m(args)\u001b[0m\n\u001b[1;32m     13\u001b[0m \u001b[38;5;28;01mdef\u001b[39;00m\u001b[38;5;250m \u001b[39m\u001b[38;5;21mrun_task\u001b[39m(args):\n\u001b[1;32m     14\u001b[0m     LLP_path \u001b[38;5;241m=\u001b[39m args\n\u001b[0;32m---> 15\u001b[0m     \u001b[38;5;28;01mreturn\u001b[39;00m \u001b[43mship\u001b[49m\u001b[38;5;241;43m.\u001b[39;49m\u001b[43mSHiP\u001b[49m\u001b[43m(\u001b[49m\u001b[43mLLP_path\u001b[49m\u001b[43m)\u001b[49m\n",
      "File \u001b[0;32m~/Documents/program/position_read_analyse_1.3/ALL_IN_ONE/Pythia8/SHiP.py:135\u001b[0m, in \u001b[0;36mSHiP\u001b[0;34m(LLP_data_folder_dir)\u001b[0m\n\u001b[1;32m    133\u001b[0m \u001b[38;5;28;01mdef\u001b[39;00m\u001b[38;5;250m \u001b[39m\u001b[38;5;21mSHiP\u001b[39m(LLP_data_folder_dir):\n\u001b[1;32m    134\u001b[0m     completed_data_folder \u001b[38;5;241m=\u001b[39m \u001b[38;5;28;01mNone\u001b[39;00m\n\u001b[0;32m--> 135\u001b[0m     csv_files \u001b[38;5;241m=\u001b[39m [f \u001b[38;5;28;01mfor\u001b[39;00m f \u001b[38;5;129;01min\u001b[39;00m \u001b[43mos\u001b[49m\u001b[38;5;241;43m.\u001b[39;49m\u001b[43mlistdir\u001b[49m\u001b[43m(\u001b[49m\u001b[43mLLP_data_folder_dir\u001b[49m\u001b[43m)\u001b[49m \u001b[38;5;28;01mif\u001b[39;00m f\u001b[38;5;241m.\u001b[39mendswith(\u001b[38;5;124m'\u001b[39m\u001b[38;5;124m.csv\u001b[39m\u001b[38;5;124m'\u001b[39m)]\n\u001b[1;32m    137\u001b[0m     \u001b[38;5;28;01mfor\u001b[39;00m files \u001b[38;5;129;01min\u001b[39;00m tqdm(csv_files, desc\u001b[38;5;241m=\u001b[39m\u001b[38;5;124m\"\u001b[39m\u001b[38;5;124mProcessing files\u001b[39m\u001b[38;5;124m\"\u001b[39m):\n\u001b[1;32m    138\u001b[0m         file_path_all \u001b[38;5;241m=\u001b[39m os\u001b[38;5;241m.\u001b[39mpath\u001b[38;5;241m.\u001b[39mjoin(LLP_data_folder_dir, files)\n",
      "\u001b[0;31mTypeError\u001b[0m: listdir: path should be string, bytes, os.PathLike, integer or None, not list"
     ]
    }
   ],
   "source": [
    "\n",
    "import os\n",
    "folder = '/media/srp/L/SHiP-A/2025-09-12_2HDM-A_SHiP/LLP_data'\n",
    "# 假设 okr.one_key_run_by_csv_cross_section_main131 是你要并行运行的函数\n",
    "from concurrent.futures import ProcessPoolExecutor\n",
    "paths = [\n",
    "    folder + '/split_1',\n",
    "    folder + '/split_2',\n",
    "    folder + '/split_3',\n",
    "    folder + '/split_4',\n",
    "    folder + '/split_5', \n",
    "    folder + '/split_6'\n",
    "]\n",
    "def run_task(args):\n",
    "    LLP_path = args\n",
    "    return ship.SHiP(LLP_path)\n",
    "\n",
    "# detected_r = '/Users/shiyuzhe/Documents/University/LLP/Second_Term/pythia8/BtoKa/Code/position_read_analyse_1.3/LLP_data_for_test/2024-11-18_19/'\n",
    "\n",
    "if __name__ == \"__main__\":\n",
    "    # 自定义 CPU 核心数量\n",
    "    num_cores = 6  # 你可以将此值改为你想使用的核心数量\n",
    "\n",
    "    # 定义任务参数\n",
    "    tasks = [\n",
    "        (folder + f\"/split_{i+1}\")  # 生成任务参数\n",
    "        for i in range(num_cores)  # 根据自定义核心数生成任务\n",
    "    ]\n",
    "\n",
    "    # 打印生成的任务\n",
    "    for task in tasks:\n",
    "        print(task)\n",
    "\n",
    "    # 使用多核并行\n",
    "    with ProcessPoolExecutor(max_workers=num_cores) as executor:\n",
    "        results = list(executor.map(run_task, tasks))\n",
    "\n",
    "    # 打印结果\n",
    "    print(\"All tasks completed:\", results)\n",
    "\n",
    "\n",
    "run_task((paths))"
   ]
  },
  {
   "cell_type": "code",
   "execution_count": 5,
   "metadata": {},
   "outputs": [
    {
     "name": "stderr",
     "output_type": "stream",
     "text": [
      "100%|██████████| 4667/4667 [7:57:51<00:00,  6.14s/it]  \n"
     ]
    },
    {
     "data": {
      "text/plain": [
       "('/media/srp/L/SHiP-A/2025-09-12_2HDM-A_SHiP/LLP_data/Completed_llp_data_precise_cross_section/2025-09-18_all_combined_precise_file.csv',\n",
       " '/media/srp/L/SHiP-A/2025-09-12_2HDM-A_SHiP/LLP_data/Completed_llp_data_precise_cross_section/2025-09-18_detected_combined_precise_file.csv')"
      ]
     },
     "execution_count": 5,
     "metadata": {},
     "output_type": "execute_result"
    }
   ],
   "source": [
    "LLP_Complete_Folder = '/media/srp/L/SHiP-A/2025-09-12_2HDM-A_SHiP/LLP_data/Completed_llp_data_precise_cross_section/'\n",
    "combine.combine_files_precise_SHiP(LLP_Complete_Folder)"
   ]
  }
 ],
 "metadata": {
  "kernelspec": {
   "display_name": "Python 3",
   "language": "python",
   "name": "python3"
  },
  "language_info": {
   "codemirror_mode": {
    "name": "ipython",
    "version": 3
   },
   "file_extension": ".py",
   "mimetype": "text/x-python",
   "name": "python",
   "nbconvert_exporter": "python",
   "pygments_lexer": "ipython3",
   "version": "3.10.12"
  }
 },
 "nbformat": 4,
 "nbformat_minor": 2
}
