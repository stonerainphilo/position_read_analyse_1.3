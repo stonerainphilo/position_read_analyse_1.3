{
 "cells": [
  {
   "cell_type": "code",
   "execution_count": 1,
   "metadata": {},
   "outputs": [],
   "source": [
    "import sys\n",
    "sys.path.append(\"ALL_IN_ONE/Pythia8\")\n",
    "sys.path.append(\"ALL_IN_ONE/LSD\")\n",
    "sys.path.append(\"ALL_IN_ONE/FIT_FUNC\")\n",
    "import os\n",
    "from tqdm import tqdm\n",
    "import ALL_IN_ONE.Pythia8.loop as loop\n",
    "import ALL_IN_ONE.Pythia8.one_key_run as okr \n",
    "import ALL_IN_ONE.Pythia8.run_save as rs\n",
    "import ALL_IN_ONE.Pythia8.analyse_data as ad\n",
    "import ALL_IN_ONE.Pythia8.detection as detection\n",
    "import ALL_IN_ONE.Pythia8.functions_for_calculation as fcal\n",
    "import ALL_IN_ONE.Pythia8.plotting as fplot\n",
    "# from detection import detect_percise_and_combine, detect_r_and_combine\n",
    "# from analyse_data import see_ctau_2, print_max_min_log10_sin_theta_2\n",
    "import pandas as pd\n",
    "import matplotlib \n",
    "from matplotlib import pyplot as plt\n",
    "from tqdm import tqdm\n",
    "# import tkinter as tk\n",
    "# from tkinter import ttk\n",
    "from threading import Thread\n",
    "from tqdm import tqdm\n",
    "import numpy as np\n",
    "from PIL import Image\n",
    "# from run_save import run_save_main41_txt, runtxt_to_csv, add_typed_in_data, add_whether_in_the_detector, add_whether_in_the_detector_without_angle\n",
    "import os\n",
    "from ALL_IN_ONE.Pythia8.plotting import plot_llp_decay_in_the_detector\n",
    "import matplotlib\n",
    "import matplotlib.pyplot as plt\n",
    "import pandas as pd\n",
    "import subprocess\n",
    "from datetime import datetime\n",
    "import os\n",
    "import subprocess\n",
    "import os\n",
    "import csv\n",
    "import numpy as np\n",
    "import matplotlib.pyplot as plt\n",
    "import mplhep as hep\n",
    "import pandas as pd\n",
    "import random\n",
    "from scipy.interpolate import interp1d\n",
    "from tqdm import tqdm\n",
    "import glob\n",
    "from scipy.interpolate import PchipInterpolator\n",
    "import numpy as np\n",
    "from mpl_toolkits.mplot3d import Axes3D\n",
    "# from functions_for_run import mkdir_1\n",
    "import re\n",
    "# from functions_for_read import get_llp\n",
    "# from functions_for_calculation import calculate_decay_position, whether_in_the_detector_by_position, whether_in_the_detector_by_r\n"
   ]
  },
  {
   "cell_type": "code",
   "execution_count": 2,
   "metadata": {},
   "outputs": [],
   "source": [
    "hep.style.use(hep.style.ALICE)"
   ]
  },
  {
   "cell_type": "code",
   "execution_count": 18,
   "metadata": {},
   "outputs": [
    {
     "data": {
      "text/plain": [
       "np.float64(0.5060976140045761)"
      ]
     },
     "execution_count": 18,
     "metadata": {},
     "output_type": "execute_result"
    }
   ],
   "source": [
    "fcal.f(1.28**2/4.18**2)"
   ]
  },
  {
   "cell_type": "code",
   "execution_count": null,
   "metadata": {},
   "outputs": [
    {
     "name": "stderr",
     "output_type": "stream",
     "text": [
      "/tmp/ipykernel_49302/3100421047.py:16: UserWarning: FigureCanvasAgg is non-interactive, and thus cannot be shown\n",
      "  plt.show()\n"
     ]
    }
   ],
   "source": [
    "\n",
    "\n",
    "csv_file = '/media/srp/L/SHiP-A/2025-09-12_2HDM-A_SHiP/LLP_data/SHiP_2HDM_A_ALL.csv'\n",
    "df = pd.read_csv(csv_file)\n",
    "df['significance_lowest'] = df['detector_acceptance_SHiP'] * fcal.calcu_Br_B_H_2HDM_I_simple(df['m'], df['theta']) * df['Cross_section_fb'] * df['cross_section'] * 3e3 * 0.76\n",
    "# df = df[df['significance_lowest']>3]\n",
    "plt.figure(figsize=(15, 15))\n",
    "plt.scatter(df['m'], df['theta'], label='2HDM-A SHiP', color='green', s=20, alpha=0.3)\n",
    "plt.xlim(0.1, 5)\n",
    "plt.yscale('log')\n",
    "plt.xscale('log')\n",
    "plt.xlabel('mass / GeV', fontsize=15)\n",
    "plt.ylabel(r'tan$\\beta$', fontsize=15)\n",
    "plt.title(r'Higgs Scalar', fontsize=20)\n",
    "plt.legend()\n",
    "plt.tight_layout()\n",
    "plt.savefig('SHiP_2HDM-A_test_raw-11.png')\n",
    "plt.show()\n",
    "plt.close()"
   ]
  },
  {
   "cell_type": "code",
   "execution_count": 45,
   "metadata": {},
   "outputs": [
    {
     "name": "stderr",
     "output_type": "stream",
     "text": [
      "/tmp/ipykernel_38975/1953529267.py:22: UserWarning: FigureCanvasAgg is non-interactive, and thus cannot be shown\n",
      "  plt.show()\n"
     ]
    }
   ],
   "source": [
    "\n",
    "csv1 = '/home/srp/Documents/program/position_read_analyse_1.3/FINAL_DATA/csv/MATHUSLA_A.csv'\n",
    "csv2 = '/home/srp/Documents/program/position_read_analyse_1.3/FINAL_DATA/csv/CODEXb_A.csv'\n",
    "csv3 = '/home/srp/Documents/program/position_read_analyse_1.3/FINAL_DATA/csv/SHiP_A.csv'\n",
    "csv4 = '/home/srp/Documents/program/position_read_analyse_1.3/FINAL_DATA/csv/SHiP_A_upp.csv'\n",
    "df1 = pd.read_csv(csv1)\n",
    "df2 = pd.read_csv(csv2)\n",
    "df3 = pd.read_csv(csv3)\n",
    "df4 = pd.read_csv(csv4)\n",
    "# Create a figure and plot both datasets\n",
    "plt.figure(figsize=(20, 16))\n",
    "plt.plot(df1['m'], df1['tanb'], color='red', label='MATHUSLA', alpha=0.7, linestyle='-')\n",
    "plt.plot(df2['m'], df2['tanb'], color='blue', label='CODEXb', alpha=0.7, linestyle='-')\n",
    "plt.plot(df3['m'], df3['tanb'], color='green', label='SHiP', alpha=0.7, linestyle='-')\n",
    "plt.plot(df4['m'], df4['tanb'], color='green', label='SHiP Upper Bound(uncertain)', alpha=0.7, linestyle='--')\n",
    "plt.xlabel('mA(GEV)')\n",
    "plt.ylabel('tanb')\n",
    "plt.title(r'mH, mHC = 90GeV, cos($\\alpha$-$\\beta$) = 0', fontsize=16)\n",
    "plt.xscale('log')\n",
    "plt.yscale('log')\n",
    "plt.grid(True, which='both', linestyle='--', linewidth=0.5)\n",
    "plt.legend()\n",
    "plt.show()\n",
    "plt.savefig('FINAL_DATA/Figs/S_M_C_Comparison_A.png', dpi=300, bbox_inches='tight')\n",
    "plt.close()"
   ]
  },
  {
   "cell_type": "code",
   "execution_count": null,
   "metadata": {},
   "outputs": [
    {
     "name": "stderr",
     "output_type": "stream",
     "text": [
      "/tmp/ipykernel_38975/3983240972.py:20: UserWarning: FigureCanvasAgg is non-interactive, and thus cannot be shown\n",
      "  plt.show()\n"
     ]
    }
   ],
   "source": [
    "# csv1 = '/home/srp/Documents/program/position_read_analyse_1.3/FINAL_DATA/csv/MATHUSLA_A.csv'\n",
    "csv2 = '/home/srp/Documents/program/position_read_analyse_1.3/FINAL_DATA/csv/CODEXb_Higgs_Scalar.csv'\n",
    "csv3 = '/home/srp/Documents/program/position_read_analyse_1.3/FINAL_DATA/csv/SHiP_Higgs_Scalar.csv'\n",
    "# df1 = pd.read_csv(csv1)\n",
    "df2 = pd.read_csv(csv2)\n",
    "df3 = pd.read_csv(csv3)\n",
    "# Create a figure and plot both datasets\n",
    "plt.figure(figsize=(8, 6))\n",
    "# plt.plot(df1['m'], df1['tanb'], color='red', label='MATHUSLA', alpha=0.7)\n",
    "plt.plot(df2['m'], df2['sintheta2'], color='blue', label='CODEXb', alpha=0.7)\n",
    "plt.plot(df3['m'], df3['sintheta2'], color='green', label='SHiP', alpha=0.7)\n",
    "plt.xlabel('m(GEV)')\n",
    "plt.ylabel(r'sin$\\theta^2$')\n",
    "plt.title(r'Higgs Scalar', fontsize=16)\n",
    "plt.xlim(0.1, 5)\n",
    "plt.xscale('log')\n",
    "plt.yscale('log')\n",
    "plt.grid(True, which='both', linestyle='--', linewidth=0.5)\n",
    "plt.legend()\n",
    "plt.show()\n",
    "plt.savefig('FINAL_DATA/Figs/S_C_Comparison_Higgs_Scalar.png', dpi=300, bbox_inches='tight')\n",
    "plt.close()"
   ]
  },
  {
   "cell_type": "code",
   "execution_count": 5,
   "metadata": {},
   "outputs": [
    {
     "name": "stderr",
     "output_type": "stream",
     "text": [
      "/tmp/ipykernel_178692/428080734.py:21: UserWarning: FigureCanvasAgg is non-interactive, and thus cannot be shown\n",
      "  plt.show()\n"
     ]
    }
   ],
   "source": [
    "csv_file = '/media/ubuntu/6156e08b-fdb1-4cde-964e-431f74a6078e/Files/LLP_DATA/Original_DATA/SHiP-A/2025-09-15_Scalar_SHiP/2025-09-19_detected_combined_precise_file.csv'\n",
    "df = pd.read_csv(csv_file)\n",
    "df['significance_lowest'] = df['detector_acceptance_SHiP'] * fcal.calculate_Br(df['m'], df['theta'], 0.104) * df['Cross_section_fb'] * df['cross_section'] * 3e2 * 0.76\n",
    "\n",
    "# size_scatter = 30\n",
    "fig, axs = plt.subplots(1, 2, figsize=(20, 15))\n",
    "df_lowest = df[df['significance_lowest'] > 3]\n",
    "plt.figure(figsize=(15, 15))\n",
    "\n",
    "plt.scatter(df['m'], np.sin(df['theta'])**2, label='2HDM-S SHiP', color='red', s=20, alpha=0.3)\n",
    "plt.scatter(df_lowest['m'], np.sin(df_lowest['theta'])**2, label='2HDM-S SHiP 95%', color='green', s=20, alpha=0.3)\n",
    "plt.xlim(0.1, 5)\n",
    "plt.yscale('log')\n",
    "plt.xscale('log')\n",
    "plt.xlabel('mass / GeV', fontsize=15)\n",
    "plt.ylabel(r'sin\\theta ^2$', fontsize=15)\n",
    "plt.title(r'Higgs Scalar', fontsize=20)\n",
    "plt.legend()\n",
    "plt.tight_layout()\n",
    "plt.savefig('SHiP_2HDM-S_test_2.png')\n",
    "plt.show()\n",
    "plt.close()"
   ]
  },
  {
   "cell_type": "code",
   "execution_count": 20,
   "metadata": {},
   "outputs": [],
   "source": [
    "def merge_csv_files(directory, output_file):\n",
    "    # csv_files = [f for f in os.listdir(directory) if f.endswith('.csv')]\n",
    "    \n",
    "    data_frames = []\n",
    "    \n",
    "    for file in directory:\n",
    "        file_path = os.path.join(file)\n",
    "        df = pd.read_csv(file_path)\n",
    "        data_frames.append(df)\n",
    "    \n",
    "\n",
    "    merged_df = pd.concat(data_frames, ignore_index=True)\n",
    "    \n",
    "    merged_df.to_csv(output_file, index=False)\n",
    "\n",
    "\n"
   ]
  },
  {
   "cell_type": "code",
   "execution_count": null,
   "metadata": {},
   "outputs": [],
   "source": []
  }
 ],
 "metadata": {
  "kernelspec": {
   "display_name": "Python 3",
   "language": "python",
   "name": "python3"
  },
  "language_info": {
   "codemirror_mode": {
    "name": "ipython",
    "version": 3
   },
   "file_extension": ".py",
   "mimetype": "text/x-python",
   "name": "python",
   "nbconvert_exporter": "python",
   "pygments_lexer": "ipython3",
   "version": "3.10.12"
  }
 },
 "nbformat": 4,
 "nbformat_minor": 2
}
