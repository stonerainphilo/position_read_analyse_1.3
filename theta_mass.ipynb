{
 "cells": [
  {
   "cell_type": "code",
   "execution_count": 1,
   "metadata": {},
   "outputs": [],
   "source": [
    "import pandas as pd\n",
    "import os \n",
    "import numpy as np\n",
    "from matplotlib import pyplot as plt"
   ]
  },
  {
   "cell_type": "code",
   "execution_count": null,
   "metadata": {},
   "outputs": [],
   "source": [
    "def find_theta_for_LLP(LLP_file_dir, theta_file):\n",
    "    all_matched = []\n",
    "    os.chdir(LLP_file_dir)\n",
    "    for LLP_file in os.listdir(LLP_file_dir):\n",
    "        \n",
    "        df_LLP = pd.read_csv(LLP_file)\n",
    "        df_theta = pd.read_csv(theta_file)\n",
    "        macthed_rows = df_theta[df_theta['ltime'].isin(df_LLP['tau_input'])]\n",
    "        all_matched.append(macthed_rows)\n",
    "    \n",
    "    \n",
    "    all_matched_rows_df = pd.concat(all_matched)\n",
    "\n",
    "    # Write the final dataframe to a CSV file\n",
    "    all_matched_rows_df.to_csv('test_LLP_theta_mass.csv', index=False)\n",
    "    \n",
    "    return os.path.join(LLP_file_dir + '/test_LLP_theta_mass.csv')\n",
    "    \n",
    "    \n",
    "def plot_theta_mass(theta_mass_csv):\n",
    "    df = pd.read_csv(theta_mass_csv)\n",
    "    plt.scatter(df['mH'], df['theta']**2)\n",
    "    plt.xlabel('mass/GeV')\n",
    "    plt.ylabel('theta')\n",
    "    plt.yscale('log')\n",
    "    plt.savefig('test_mass_4.png')"
   ]
  },
  {
   "cell_type": "code",
   "execution_count": null,
   "metadata": {},
   "outputs": [],
   "source": []
  },
  {
   "cell_type": "code",
   "execution_count": 30,
   "metadata": {},
   "outputs": [
    {
     "data": {
      "image/png": "[encoded data removed]",
      "text/plain": [
       "<Figure size 640x480 with 1 Axes>"
      ]
     },
     "metadata": {},
     "output_type": "display_data"
    }
   ],
   "source": [
    "dir_name = '/Users/shiyuzhe/Documents/University/LLP/Second_Term/pythia8/BtoKa/Code/position_read_analyse_1.3/LLP_data_for_test/LLP_theta_mass_is_4'\n",
    "theta_file = '/Users/shiyuzhe/Documents/University/LLP/Second_Term/pythia8/BtoKa/Code/position_read_analyse_1.3/test_m=4.csv'\n",
    "mass_theta_file = find_theta_for_LLP(dir_name, theta_file)\n",
    "plot_theta_mass(mass_theta_file)"
   ]
  },
  {
   "cell_type": "code",
   "execution_count": 6,
   "metadata": {},
   "outputs": [
    {
     "name": "stdout",
     "output_type": "stream",
     "text": [
      "f is: 0.511365146826185\n"
     ]
    },
    {
     "data": {
      "text/plain": [
       "3.725422161461123e-07"
      ]
     },
     "execution_count": 6,
     "metadata": {},
     "output_type": "execute_result"
    }
   ],
   "source": [
    "def calculate_Br(mphi, sin_square_theta = 6*10**(-8), Br2 = 0.1, g = 0.65):\n",
    "    default_Br1 = 6*10**(-8)\n",
    "    default_Br2 = 0.9\n",
    "    default_g = 2\n",
    "    mt = 172.76 \n",
    "    mb = 4.18\n",
    "    mw = 80.379\n",
    "    mc = 1.27\n",
    "    Vts = -0.0405\n",
    "    Vtb = 0.9991\n",
    "    Vcb = 0.041\n",
    "    para1 = (27 * np.square(g))/(256 * np.square(np.pi))\n",
    "    para2 = (np.square(mt)*np.square(mt))/(np.square(mb)*np.square(mw))\n",
    "    para3 = np.square(1-np.square(mphi/mb))/0.51 # 0.51 is The phase space Factor. CITE: Limits on a light Higgs boson\n",
    "    #Or f(x) = (1-8x+x^2)(1- x^2) - 12x^2 lnx CITE: Light Scalar at FASER\n",
    "    x = np.square(mc/mb)\n",
    "    f = (1-8*x+x**2)*(1-x**2) - 12*x**2*np.log(x)\n",
    "    print('f is: ' + f'{f}')\n",
    "    # para4 = np.square(Vts*Vtb/Vcb)\n",
    "    para4 = 1\n",
    "    Br = (sin_square_theta*Br2) * para1 * (para2 * para3 * para4)\n",
    "    # print((Br2) * para1 * (para2 * para4))\n",
    "    return Br\n",
    "\n",
    "calculate_Br(1)"
   ]
  }
 ],
 "metadata": {
  "kernelspec": {
   "display_name": "Python 3",
   "language": "python",
   "name": "python3"
  },
  "language_info": {
   "codemirror_mode": {
    "name": "ipython",
    "version": 3
   },
   "file_extension": ".py",
   "mimetype": "text/x-python",
   "name": "python",
   "nbconvert_exporter": "python",
   "pygments_lexer": "ipython3",
   "version": "3.10.11"
  }
 },
 "nbformat": 4,
 "nbformat_minor": 2
}
