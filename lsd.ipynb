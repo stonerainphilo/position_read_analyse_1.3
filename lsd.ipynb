{
 "cells": [
  {
   "cell_type": "code",
   "execution_count": 1,
   "metadata": {},
   "outputs": [
    {
     "name": "stdout",
     "output_type": "stream",
     "text": [
      "              r             x             y            z\n",
      "0  36486.990206 -16916.680851 -31980.510638 -4730.042553\n"
     ]
    }
   ],
   "source": [
    "import lsd\n",
    "# import pythia\n",
    "import numpy as np\n",
    "from matplotlib import pyplot as plt\n",
    "from functions_for_calculation import calculate_decay_position\n",
    "import pandas as pd\n"
   ]
  },
  {
   "cell_type": "code",
   "execution_count": 2,
   "metadata": {},
   "outputs": [
    {
     "data": {
      "text/html": [
       "<div>\n",
       "<style scoped>\n",
       "    .dataframe tbody tr th:only-of-type {\n",
       "        vertical-align: middle;\n",
       "    }\n",
       "\n",
       "    .dataframe tbody tr th {\n",
       "        vertical-align: top;\n",
       "    }\n",
       "\n",
       "    .dataframe thead th {\n",
       "        text-align: right;\n",
       "    }\n",
       "</style>\n",
       "<table border=\"1\" class=\"dataframe\">\n",
       "  <thead>\n",
       "    <tr style=\"text-align: right;\">\n",
       "      <th></th>\n",
       "      <th>r</th>\n",
       "      <th>x</th>\n",
       "      <th>y</th>\n",
       "      <th>z</th>\n",
       "    </tr>\n",
       "  </thead>\n",
       "  <tbody>\n",
       "    <tr>\n",
       "      <th>0</th>\n",
       "      <td>0.071275</td>\n",
       "      <td>-0.006306</td>\n",
       "      <td>-0.023582</td>\n",
       "      <td>-0.066965</td>\n",
       "    </tr>\n",
       "  </tbody>\n",
       "</table>\n",
       "</div>"
      ],
      "text/plain": [
       "          r         x         y         z\n",
       "0  0.071275 -0.006306 -0.023582 -0.066965"
      ]
     },
     "execution_count": 2,
     "metadata": {},
     "output_type": "execute_result"
    }
   ],
   "source": [
    "calculate_decay_position(-0.65928, -2.46562, -7.00160, 5.27925, 5.04921e-02, 0, 0, 0)\n",
    "# print(B_Decay_pos)"
   ]
  },
  {
   "cell_type": "code",
   "execution_count": 10,
   "metadata": {},
   "outputs": [],
   "source": [
    "def f_E(Gamma, mass, E):\n",
    "    gamma = np.sqrt(mass**2 * (mass ** 2 * Gamma ** 2))\n",
    "    k = 2 * np.sqrt(2) * mass * Gamma * gamma / (np.pi * np.sqrt(mass **2 * gamma ** 2))\n",
    "    return k/((E**2 - mass ** 2)+ mass * Gamma**2)"
   ]
  },
  {
   "cell_type": "code",
   "execution_count": null,
   "metadata": {},
   "outputs": [],
   "source": [
    "Gamma_array = np.logspace(-20, 2, 100)\n",
    "distibution_array = f_E(Gamma_array, 1, 5)\n",
    "\n",
    "\n",
    "plt.plot(Gamma_array, distibution_array)\n",
    "plt.xscale('log')\n",
    "plt.show()"
   ]
  },
  {
   "cell_type": "code",
   "execution_count": null,
   "metadata": {},
   "outputs": [],
   "source": [
    "Gamma_LLP = 1e-20\n",
    "Gamma_normal = 1e-5\n",
    "Gamma_shortlived = 1e1\n",
    "\n",
    "mass_range = np.logspace(-10, 1, 100)\n",
    "\n",
    "f_E_LLP = f_E(Gamma_LLP, mass_range, 11)\n",
    "f_E_normal = f_E(Gamma_normal, mass_range, 11)\n",
    "f_E_shortlived = f_E(Gamma_shortlived, mass_range, 11)\n",
    "\n",
    "plt.figure(figsize=(20,8))\n",
    "\n",
    "plt.plot(mass_range, f_E_LLP, label = \"LLP\")\n",
    "plt.plot(mass_range, f_E_normal, label = \"normal\")\n",
    "plt.plot(mass_range, f_E_shortlived, label = \"shortted\")\n",
    "\n",
    "plt.legend()\n",
    "plt.yscale('log')\n",
    "plt.xscale('log')\n",
    "plt.show()"
   ]
  }
 ],
 "metadata": {
  "kernelspec": {
   "display_name": "Python 3",
   "language": "python",
   "name": "python3"
  },
  "language_info": {
   "codemirror_mode": {
    "name": "ipython",
    "version": 3
   },
   "file_extension": ".py",
   "mimetype": "text/x-python",
   "name": "python",
   "nbconvert_exporter": "python",
   "pygments_lexer": "ipython3",
   "version": "3.10.11"
  }
 },
 "nbformat": 4,
 "nbformat_minor": 2
}
