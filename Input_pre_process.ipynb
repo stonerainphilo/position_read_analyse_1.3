{
 "cells": [
  {
   "cell_type": "markdown",
   "id": "1f9b4763",
   "metadata": {},
   "source": [
    "# This pack is setted for pre-procession of input-data of pythia8 which is produced by Light-Scalar-Decay program. \n",
    "\n",
    "# The base-line is setted by identical data of certain detectors, and for different model, one should run the main program to set the baseline FIRST."
   ]
  },
  {
   "cell_type": "code",
   "execution_count": 1,
   "id": "24151228",
   "metadata": {},
   "outputs": [],
   "source": [
    "import pandas as pd\n",
    "import numpy as np"
   ]
  },
  {
   "cell_type": "markdown",
   "id": "5c90f62f",
   "metadata": {},
   "source": [
    "## For SHiP, the baseline of lifetime is setted by the following process."
   ]
  },
  {
   "cell_type": "code",
   "execution_count": 2,
   "id": "1bce86a1",
   "metadata": {},
   "outputs": [
    {
     "name": "stdout",
     "output_type": "stream",
     "text": [
      "67728200.0 366.618\n",
      "Upper Limit: 1000000000.0\n",
      "Lower Limit: 10.0\n",
      "upper_limit: 9.0 lower_limit: 1.0\n"
     ]
    }
   ],
   "source": [
    "csv_file = '/home/srp/Documents/LLP_DATA/2025-08-20_Higgs_Scalar/2025-08-20_detected_combined_precise_file.csv'\n",
    "df = pd.read_csv(csv_file)\n",
    "\n",
    "print(max(df['tau_input']), min(df['tau_input']))\n",
    "\n",
    "upper_limit = np.ceil(np.log10(max(df['tau_input'])))+1\n",
    "lower_limit = np.floor(np.log10(min(df['tau_input'])))-1\n",
    "print('Upper Limit:', np.pow(10, upper_limit))\n",
    "print('Lower Limit:', np.pow(10, lower_limit))\n",
    "print('upper_limit:', upper_limit, 'lower_limit:', lower_limit)\n"
   ]
  },
  {
   "cell_type": "code",
   "execution_count": 18,
   "id": "9bdb34f9",
   "metadata": {},
   "outputs": [],
   "source": [
    "input_csv_file = '/home/srp/Documents/program/stonerainphilo-Light_scalar_decay/Combined_Code/2HDM-I_A_21.csv'\n",
    "df = pd.read_csv(input_csv_file)\n",
    "filtered_df = df[(df['ltime'] >= lower_limit) & (df['ltime'] <= upper_limit)]\n",
    "filtered_df.to_csv('2HDM-I_A_21.csv_Sorted.csv', index=False)"
   ]
  }
 ],
 "metadata": {
  "kernelspec": {
   "display_name": "Python 3",
   "language": "python",
   "name": "python3"
  },
  "language_info": {
   "codemirror_mode": {
    "name": "ipython",
    "version": 3
   },
   "file_extension": ".py",
   "mimetype": "text/x-python",
   "name": "python",
   "nbconvert_exporter": "python",
   "pygments_lexer": "ipython3",
   "version": "3.10.12"
  }
 },
 "nbformat": 4,
 "nbformat_minor": 5
}
