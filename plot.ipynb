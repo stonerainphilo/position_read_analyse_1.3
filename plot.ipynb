{
 "cells": [
  {
   "cell_type": "code",
   "execution_count": 2,
   "metadata": {},
   "outputs": [],
   "source": [
    "import sys\n",
    "sys.path.append(\"ALL_IN_ONE/Pythia8\")\n",
    "sys.path.append(\"ALL_IN_ONE/LSD\")\n",
    "sys.path.append(\"ALL_IN_ONE/FIT_FUNC\")\n",
    "import os\n",
    "from tqdm import tqdm\n",
    "import ALL_IN_ONE.Pythia8.loop as loop\n",
    "import ALL_IN_ONE.Pythia8.one_key_run as okr \n",
    "import ALL_IN_ONE.Pythia8.run_save as rs\n",
    "import ALL_IN_ONE.Pythia8.analyse_data as ad\n",
    "import ALL_IN_ONE.Pythia8.detection as detection\n",
    "import ALL_IN_ONE.Pythia8.functions_for_calculation as fcal\n",
    "# from detection import detect_percise_and_combine, detect_r_and_combine\n",
    "# from analyse_data import see_ctau_2, print_max_min_log10_sin_theta_2"
   ]
  },
  {
   "cell_type": "code",
   "execution_count": 3,
   "metadata": {},
   "outputs": [],
   "source": [
    "import pandas as pd\n",
    "import matplotlib \n",
    "from matplotlib import pyplot as plt\n",
    "from tqdm import tqdm\n",
    "# import tkinter as tk\n",
    "# from tkinter import ttk\n",
    "from threading import Thread\n",
    "from tqdm import tqdm\n",
    "import numpy as np\n",
    "from PIL import Image\n",
    "# from run_save import run_save_main41_txt, runtxt_to_csv, add_typed_in_data, add_whether_in_the_detector, add_whether_in_the_detector_without_angle\n",
    "import os\n",
    "from ALL_IN_ONE.Pythia8.plotting import plot_llp_decay_in_the_detector\n",
    "import matplotlib\n",
    "import matplotlib.pyplot as plt\n",
    "import pandas as pd\n",
    "import subprocess\n",
    "from datetime import datetime\n",
    "import os\n",
    "import subprocess\n",
    "import os\n",
    "import csv\n",
    "import numpy as np\n",
    "import matplotlib.pyplot as plt\n",
    "import mplhep as hep\n",
    "import pandas as pd\n",
    "import random\n",
    "from tqdm import tqdm\n",
    "import glob\n",
    "from mpl_toolkits.mplot3d import Axes3D\n",
    "# from functions_for_run import mkdir_1\n",
    "import re\n",
    "# from functions_for_read import get_llp\n",
    "# from functions_for_calculation import calculate_decay_position, whether_in_the_detector_by_position, whether_in_the_detector_by_r\n"
   ]
  },
  {
   "cell_type": "code",
   "execution_count": 4,
   "metadata": {},
   "outputs": [],
   "source": [
    "hep.style.use(hep.style.ALICE)"
   ]
  },
  {
   "cell_type": "code",
   "execution_count": 5,
   "metadata": {},
   "outputs": [],
   "source": [
    "# /Users/shiyuzhe/Documents/University/LLP/Second_Term/pythia8/BtoKa/auto_data/Ctau_Br/2024-09-17-csv/original_data"
   ]
  },
  {
   "cell_type": "code",
   "execution_count": 25,
   "metadata": {},
   "outputs": [
    {
     "name": "stdout",
     "output_type": "stream",
     "text": [
      "1000     0.645186\n",
      "1001     0.645186\n",
      "1002    16.821413\n",
      "1003    16.821413\n",
      "1004     0.904259\n",
      "Name: significance, dtype: float64\n"
     ]
    },
    {
     "name": "stderr",
     "output_type": "stream",
     "text": [
      "/tmp/ipykernel_270248/3804910667.py:61: UserWarning: FigureCanvasAgg is non-interactive, and thus cannot be shown\n",
      "  plt.show()\n"
     ]
    }
   ],
   "source": [
    "\n",
    "# 读取数据\n",
    "filename = '/media/ubuntu/6156e08b-fdb1-4cde-964e-431f74a6078e/Files/LLP_DATA/Original_DATA/2025-04-03/2025-04-03_detected_combined_precise_file.csv'\n",
    "df = pd.read_csv(filename)\n",
    "\n",
    "# 计算 significance\n",
    "df['significance'] = df['detector_acceptance'] * fcal.calculate_Br(df['m'], np.sin(df['theta_input'])**2, 0.102, 0.653) * 300 * df['Cross_section_fb'] * 1e3\n",
    "# The 0.102 is the Br of B->X_c e v(See CODEX-b paper or Light Scalar at FASER for details)\n",
    "# The 0.653 is g, which is a constant decribing the coupling of weak interaction\n",
    "# The 1e3 is because I wrote pythia8 wrong, the \\sigma need to multiply 1e3\n",
    "# The 383271000.0 is a average cross section of B meson production in pp collision at 14TeV, Will be replaced by thr real cross section of each pariticle in the future\n",
    "print(df['significance'][1000:1005])\n",
    "# 创建子图\n",
    "fig, axs = plt.subplots(2, 2, figsize=(20, 15))\n",
    "\n",
    "# 子图 1：没有阈值的散点图\n",
    "axs[0, 0].scatter(df['m'], np.sin(df['theta_input'])**2, label='No Threshold', color='red', s=20, alpha=0.5)\n",
    "axs[0, 0].set_xlim(0, 5)\n",
    "axs[0, 0].set_ylim(1e-14, 1e-6)\n",
    "axs[0, 0].set_title('No Threshold', fontsize=20)\n",
    "axs[0, 0].set_xlabel('mass / GeV', fontsize=15)\n",
    "axs[0, 0].set_ylabel('theta^2', fontsize=15)\n",
    "axs[0, 0].set_yscale('log')\n",
    "axs[0, 0].legend()\n",
    "\n",
    "# 子图 2：有阈值的散点图\n",
    "df_threshold = df[df['significance'] > 3]\n",
    "axs[0, 1].scatter(df_threshold['m'], np.sin(df_threshold['theta_input'])**2, label=r'With Threshold ($3\\sigma$)', color='blue', s=20, alpha=0.5)\n",
    "axs[0, 1].set_xlim(0, 5)\n",
    "axs[0, 1].set_ylim(1e-14, 1e-6)\n",
    "axs[0, 1].set_title('With Threshold(test)', fontsize=20)\n",
    "axs[0, 1].set_xlabel('mass / GeV', fontsize=15)\n",
    "axs[0, 1].set_ylabel('theta^2', fontsize=15)\n",
    "axs[0, 1].set_yscale('log')\n",
    "axs[0, 1].legend()\n",
    "\n",
    "# 子图 3：两种数据叠加的散点图\n",
    "axs[1, 0].scatter(df['m'], np.sin(df['theta_input'])**2, label='No Threshold', color='red', s=20, alpha=0.5)\n",
    "axs[1, 0].scatter(df_threshold['m'], np.sin(df_threshold['theta_input'])**2, label=r'With Threshold ($3\\sigma$)', color='blue', s=20, alpha=0.5)\n",
    "axs[1, 0].set_xlim(0, 5)\n",
    "axs[1, 0].set_ylim(1e-14, 1e-6)\n",
    "axs[1, 0].set_title('Both Data (Overlaid) test', fontsize=20)\n",
    "axs[1, 0].set_xlabel('mass / GeV', fontsize=15)\n",
    "axs[1, 0].set_ylabel('theta^2', fontsize=15)\n",
    "axs[1, 0].set_yscale('log')\n",
    "axs[1, 0].legend()\n",
    "\n",
    "# 子图 4：两种数据叠加，有阈值的透明度较低\n",
    "axs[1, 1].scatter(df['m'], np.sin(df['theta_input'])**2, label='No Threshold', color='red', s=20, alpha=0.5)\n",
    "axs[1, 1].scatter(df_threshold['m'], np.sin(df_threshold['theta_input'])**2, label=r'With Threshold ($3\\sigma$)', color='blue', s=20, alpha=0.2)\n",
    "axs[1, 1].set_xlim(0, 5)\n",
    "axs[1, 1].set_ylim(1e-14, 1e-6)\n",
    "axs[1, 1].set_title('Both Data (Low Alpha for Threshold) test', fontsize=20)\n",
    "axs[1, 1].set_xlabel('mass / GeV', fontsize=15)\n",
    "axs[1, 1].set_ylabel('theta^2', fontsize=15)\n",
    "axs[1, 1].set_yscale('log')\n",
    "axs[1, 1].legend()\n",
    "\n",
    "# 调整布局并保存图像\n",
    "plt.tight_layout()\n",
    "plt.savefig('2025-04-3_precise_cs_mass_combined_plot.jpg')\n",
    "plt.show()"
   ]
  },
  {
   "cell_type": "code",
   "execution_count": 20,
   "metadata": {},
   "outputs": [],
   "source": [
    "def merge_csv_files(directory, output_file):\n",
    "    # csv_files = [f for f in os.listdir(directory) if f.endswith('.csv')]\n",
    "    \n",
    "    data_frames = []\n",
    "    \n",
    "    for file in directory:\n",
    "        file_path = os.path.join(file)\n",
    "        df = pd.read_csv(file_path)\n",
    "        data_frames.append(df)\n",
    "    \n",
    "\n",
    "    merged_df = pd.concat(data_frames, ignore_index=True)\n",
    "    \n",
    "    merged_df.to_csv(output_file, index=False)\n",
    "\n",
    "\n"
   ]
  }
 ],
 "metadata": {
  "kernelspec": {
   "display_name": "Python 3",
   "language": "python",
   "name": "python3"
  },
  "language_info": {
   "codemirror_mode": {
    "name": "ipython",
    "version": 3
   },
   "file_extension": ".py",
   "mimetype": "text/x-python",
   "name": "python",
   "nbconvert_exporter": "python",
   "pygments_lexer": "ipython3",
   "version": "3.10.12"
  }
 },
 "nbformat": 4,
 "nbformat_minor": 2
}
