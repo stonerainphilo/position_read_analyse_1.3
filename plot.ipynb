{
 "cells": [
  {
   "cell_type": "code",
   "execution_count": 2,
   "metadata": {},
   "outputs": [],
   "source": [
    "import sys\n",
    "sys.path.append(\"ALL_IN_ONE/Pythia8\")\n",
    "sys.path.append(\"ALL_IN_ONE/LSD\")\n",
    "sys.path.append(\"ALL_IN_ONE/FIT_FUNC\")\n",
    "import os\n",
    "from tqdm import tqdm\n",
    "import ALL_IN_ONE.Pythia8.loop as loop\n",
    "import ALL_IN_ONE.Pythia8.one_key_run as okr \n",
    "import ALL_IN_ONE.Pythia8.run_save as rs\n",
    "import ALL_IN_ONE.Pythia8.analyse_data as ad\n",
    "import ALL_IN_ONE.Pythia8.detection as detection\n",
    "import ALL_IN_ONE.Pythia8.functions_for_calculation as fcal\n",
    "import ALL_IN_ONE.Pythia8.plotting as fplot\n",
    "# from detection import detect_percise_and_combine, detect_r_and_combine\n",
    "# from analyse_data import see_ctau_2, print_max_min_log10_sin_theta_2\n",
    "import pandas as pd\n",
    "import matplotlib \n",
    "from matplotlib import pyplot as plt\n",
    "from tqdm import tqdm\n",
    "# import tkinter as tk\n",
    "# from tkinter import ttk\n",
    "from threading import Thread\n",
    "from tqdm import tqdm\n",
    "import numpy as np\n",
    "from PIL import Image\n",
    "# from run_save import run_save_main41_txt, runtxt_to_csv, add_typed_in_data, add_whether_in_the_detector, add_whether_in_the_detector_without_angle\n",
    "import os\n",
    "from ALL_IN_ONE.Pythia8.plotting import plot_llp_decay_in_the_detector\n",
    "import matplotlib\n",
    "import matplotlib.pyplot as plt\n",
    "import pandas as pd\n",
    "import subprocess\n",
    "from datetime import datetime\n",
    "import os\n",
    "import subprocess\n",
    "import os\n",
    "import csv\n",
    "import numpy as np\n",
    "import matplotlib.pyplot as plt\n",
    "import mplhep as hep\n",
    "import pandas as pd\n",
    "import random\n",
    "from scipy.interpolate import interp1d\n",
    "from tqdm import tqdm\n",
    "import glob\n",
    "from scipy.interpolate import PchipInterpolator\n",
    "import numpy as np\n",
    "from mpl_toolkits.mplot3d import Axes3D\n",
    "# from functions_for_run import mkdir_1\n",
    "import re\n",
    "# from functions_for_read import get_llp\n",
    "# from functions_for_calculation import calculate_decay_position, whether_in_the_detector_by_position, whether_in_the_detector_by_r\n"
   ]
  },
  {
   "cell_type": "code",
   "execution_count": 3,
   "metadata": {},
   "outputs": [],
   "source": [
    "hep.style.use(hep.style.ALICE)"
   ]
  },
  {
   "cell_type": "code",
   "execution_count": 3,
   "metadata": {},
   "outputs": [
    {
     "name": "stderr",
     "output_type": "stream",
     "text": [
      "/media/ubuntu/6156e08b-fdb1-4cde-964e-431f74a6078e/Program/PRA/Github/position_read_analyse_1.3/ALL_IN_ONE/Pythia8/plotting.py:499: UserWarning: FigureCanvasAgg is non-interactive, and thus cannot be shown\n",
      "  plt.show()\n"
     ]
    }
   ],
   "source": [
    "csv_file = '/media/ubuntu/6156e08b-fdb1-4cde-964e-431f74a6078e/Files/LLP_DATA/Original_DATA/2025-04-23-2HDM/LLP_data/2025-04-23_detected_combined_precise_file_B.csv'\n",
    "\n",
    "\n",
    "fplot.plot_with_envelope_tanb(csv_file, 'nearest-up', 'HDM1_Test.png')"
   ]
  },
  {
   "cell_type": "code",
   "execution_count": 5,
   "metadata": {},
   "outputs": [],
   "source": [
    "# /Users/shiyuzhe/Documents/University/LLP/Second_Term/pythia8/BtoKa/auto_data/Ctau_Br/2024-09-17-csv/original_data"
   ]
  },
  {
   "cell_type": "code",
   "execution_count": null,
   "metadata": {},
   "outputs": [],
   "source": [
    "filename = '/media/ubuntu/6156e08b-fdb1-4cde-964e-431f74a6078e/Files/LLP_DATA/Original_DATA/2025-4-10-4-14/combined.csv'\n",
    "df = pd.read_csv(filename)\n",
    "df['BR_CAL'] = fcal.calculate_Br(df['m'], np.sin(df['theta_input'])**2, 0.104, 0.653)\n",
    "df_m_eq_1 = df[df['m'] == 1]\n",
    "df_m_eq_2 = df[df['m'] == 2]\n",
    "plt.figure(figsize=(10, 6))\n",
    "plt.scatter(df_m_eq_1['tau_input']/(3e5), df_m_eq_1['BR_CAL'], color='red', alpha=0.7, label='BR_CAL for m=1')\n",
    "plt.scatter(df_m_eq_2['tau_input']/(3e5), df_m_eq_2['BR_CAL'], color='blue', alpha=0.7, label='BR_CAL for m=2')\n",
    "plt.xscale('log')\n",
    "plt.yscale('log')\n",
    "plt.xlabel('tau0/mm c-1', fontsize=14)\n",
    "plt.ylabel('BR_CAL', fontsize=14)\n",
    "plt.title('BR_CAL for m', fontsize=16)\n",
    "plt.legend()\n",
    "plt.grid(True, which=\"both\", linestyle='--', linewidth=0.5)\n",
    "plt.show()\n",
    "plt.savefig(\"BR_M.png\")\n",
    "plt.close()\n"
   ]
  },
  {
   "cell_type": "code",
   "execution_count": null,
   "metadata": {},
   "outputs": [
    {
     "name": "stderr",
     "output_type": "stream",
     "text": [
      "/var/folders/kt/7k22p1ns6l7ggtc7ck9nkqbw0000gn/T/ipykernel_7133/2489229549.py:43: UserWarning: FigureCanvasAgg is non-interactive, and thus cannot be shown\n",
      "  plt.show()\n",
      "/var/folders/kt/7k22p1ns6l7ggtc7ck9nkqbw0000gn/T/ipykernel_7133/2489229549.py:57: UserWarning: FigureCanvasAgg is non-interactive, and thus cannot be shown\n",
      "  plt.show()\n"
     ]
    }
   ],
   "source": [
    "\n",
    "# 读取数据\n",
    "filename = '/Users/shiyuzhe/Documents/University/LLP/Programs/Git_upload/LLP_DATA/2HDM1_B.csv'\n",
    "df = pd.read_csv(filename)\n",
    "\n",
    "# 计算 significance\n",
    "df['significance_with_4pi'] = df['detector_acceptance'] * fcal.calculate_Br(df['m'], np.sin(df['tanb'])**2, 0.104, 0.653) * 300 * df['Cross_section_fb'] * 1e3 * df['visible_br']\n",
    "df['significance_lowest'] = df['detector_acceptance'] * fcal.calculate_Br(df['m'], np.sin(df['tanb'])**2, 0.104, 0.653) * 300 * df['Cross_section_fb'] * 1e3 * 0.76\n",
    "df['significance_lowest_MATHUSLA'] = df['detector_acceptance_MATHUSLA'] * fcal.calculate_Br(df['m'], np.sin(df['tanb'])**2, 0.104, 0.653) * 300 * df['Cross_section_fb'] * 1e3 * 0.76\n",
    "\n",
    "# df['significance_without_4pi'] = df['detector_acceptance'] * fcal.calculate_Br(df['m'], np.sin(df['tanb'])**2, 0.104, 0.653) * 300 * df['Cross_section_fb'] * 1e3 * df['visible_br_without_4pi']\n",
    "# The 0.102 is the Br of B->X_c e v(See CODEX-b paper or Light Scalar at FASER for details)\n",
    "# The 0.653 is g, which is a constant decribing the coupling of weak interaction\n",
    "# The 1e3 is because I wrote pythia8 wrong, the \\sigma need to multiply 1e3\n",
    "# The 383271000.0 is a average cross section of B meson production in pp collision at 14TeV, Will be replaced by thr real cross section of each pariticle in the future\n",
    "# print(df['significance_with_4pi'][1000:1005])\n",
    "# 创建子图\n",
    "size_scatter = 30\n",
    "fig, axs = plt.subplots(1, 2, figsize=(20, 15))\n",
    "df_threshold = df[df['significance_with_4pi'] > 3]\n",
    "df_lowest = df[df['significance_lowest'] > 3]\n",
    "df_lowest_MATHUSLA = df[df['significance_lowest_MATHUSLA'] > 3]\n",
    "\n",
    "\n",
    "axs[0].scatter(df['m'], np.sin(df['tau_input'])*3e8, label='No 4Pi', color='green', s=size_scatter, alpha=0.5)\n",
    "axs[0].sca\n",
    "axs[0].set_xlim(0.1, 3.5)\n",
    "# axs[0].set_ylim(1e-14, 1e-6)\n",
    "axs[0].set_title(r'ALL DATA', fontsize=20)\n",
    "axs[0].set_xlabel('mass / GeV', fontsize=15)\n",
    "axs[0].set_ylabel('tau/c', fontsize=15)\n",
    "axs[0].set_yscale('log')\n",
    "axs[0].legend()\n",
    "\n",
    "# 子图 2：有阈值的散点图\n",
    "axs[1].scatter(df['m'], np.sin(df['tau_input'])*3e8, label='Without Threshold', color='green', s=size_scatter, alpha=0.05)\n",
    "axs[1].scatter(df_threshold['m'], np.sin(df_threshold['tau_input'])*3e8, label=r'With 4Pi ($3\\sigma$)', color='blue', s=size_scatter, alpha=0.5)\n",
    "axs[1].set_xlim(0, 3)\n",
    "# axs[1].set_ylim(1e-14, 1e-6)\n",
    "axs[1].set_title(r'Threshold $3\\sigma$', fontsize=20)\n",
    "axs[1].set_xlabel('mass / GeV', fontsize=15)\n",
    "axs[1].set_ylabel('tau/c', fontsize=15)\n",
    "axs[1].set_yscale('log')\n",
    "axs[1].legend()\n",
    "\n",
    "# 调整布局并显示图像\n",
    "plt.tight_layout()\n",
    "plt.show()\n",
    "\n",
    "# 子图 4：两种数据叠加，有阈值的透明度较低\n",
    "# axs[1, 1].scatter(df_lowest['m'], np.sin(df_lowest['tanb'])**2, label='With Threshold(lowest visible Br)', color='red', s=size_scatter, alpha=0.2)\n",
    "# axs[1, 1].scatter(df_threshold['m'], np.sin(df_threshold['tanb'])**2, label=r'With Threshold ($3\\sigma$)', color='blue', s=size_scatter, alpha=0.5)\n",
    "\n",
    "# axs[1, 1].set_xlim(0, 5)\n",
    "# axs[1, 1].set_ylim(1e-14, 1e-6)\n",
    "# axs[1, 1].set_title('Both Data (Low Alpha Lowest) test', fontsize=20)\n",
    "# axs[1, 1].set_xlabel('mass / GeV', fontsize=15)\n",
    "# axs[1, 1].set_ylabel('theta^2', fontsize=15)\n",
    "# axs[1, 1].set_yscale('log')\n",
    "# axs[1, 1].legend()\n",
    "plt.savefig('Tau_Test.jpg')\n",
    "plt.show()\n",
    "plt.close()"
   ]
  },
  {
   "cell_type": "code",
   "execution_count": null,
   "metadata": {},
   "outputs": [],
   "source": [
    "\n"
   ]
  },
  {
   "cell_type": "code",
   "execution_count": null,
   "metadata": {},
   "outputs": [
    {
     "ename": "AttributeError",
     "evalue": "module 'ALL_IN_ONE.Pythia8.plotting' has no attribute 'plot_with_envelope_log2_remove'",
     "output_type": "error",
     "traceback": [
      "\u001b[0;31m---------------------------------------------------------------------------\u001b[0m",
      "\u001b[0;31mAttributeError\u001b[0m                            Traceback (most recent call last)",
      "Cell \u001b[0;32mIn[4], line 4\u001b[0m\n\u001b[1;32m      1\u001b[0m csv_file \u001b[38;5;241m=\u001b[39m \u001b[38;5;124m'\u001b[39m\u001b[38;5;124m/media/ubuntu/6156e08b-fdb1-4cde-964e-431f74a6078e/Files/LLP_DATA/Original_DATA/2025-4-10-4-14/combined.csv\u001b[39m\u001b[38;5;124m'\u001b[39m\n\u001b[0;32m----> 4\u001b[0m \u001b[43mfplot\u001b[49m\u001b[38;5;241;43m.\u001b[39;49m\u001b[43mplot_with_envelope_log2_remove\u001b[49m(csv_file, \u001b[38;5;124m'\u001b[39m\u001b[38;5;124mcubic\u001b[39m\u001b[38;5;124m'\u001b[39m, \u001b[38;5;124m'\u001b[39m\u001b[38;5;124menvelope_plot_10_15_log5.png\u001b[39m\u001b[38;5;124m'\u001b[39m)\n",
      "\u001b[0;31mAttributeError\u001b[0m: module 'ALL_IN_ONE.Pythia8.plotting' has no attribute 'plot_with_envelope_log2_remove'"
     ]
    }
   ],
   "source": []
  },
  {
   "cell_type": "code",
   "execution_count": 20,
   "metadata": {},
   "outputs": [],
   "source": [
    "def merge_csv_files(directory, output_file):\n",
    "    # csv_files = [f for f in os.listdir(directory) if f.endswith('.csv')]\n",
    "    \n",
    "    data_frames = []\n",
    "    \n",
    "    for file in directory:\n",
    "        file_path = os.path.join(file)\n",
    "        df = pd.read_csv(file_path)\n",
    "        data_frames.append(df)\n",
    "    \n",
    "\n",
    "    merged_df = pd.concat(data_frames, ignore_index=True)\n",
    "    \n",
    "    merged_df.to_csv(output_file, index=False)\n",
    "\n",
    "\n"
   ]
  },
  {
   "cell_type": "code",
   "execution_count": null,
   "metadata": {},
   "outputs": [],
   "source": []
  }
 ],
 "metadata": {
  "kernelspec": {
   "display_name": "Python 3",
   "language": "python",
   "name": "python3"
  },
  "language_info": {
   "codemirror_mode": {
    "name": "ipython",
    "version": 3
   },
   "file_extension": ".py",
   "mimetype": "text/x-python",
   "name": "python",
   "nbconvert_exporter": "python",
   "pygments_lexer": "ipython3",
   "version": "3.10.11"
  }
 },
 "nbformat": 4,
 "nbformat_minor": 2
}
