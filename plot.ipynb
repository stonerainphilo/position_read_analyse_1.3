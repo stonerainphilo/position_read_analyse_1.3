{
 "cells": [
  {
   "cell_type": "code",
   "execution_count": 1,
   "metadata": {},
   "outputs": [],
   "source": [
    "import sys\n",
    "sys.path.append(\"ALL_IN_ONE/Pythia8\")\n",
    "sys.path.append(\"ALL_IN_ONE/LSD\")\n",
    "sys.path.append(\"ALL_IN_ONE/FIT_FUNC\")\n",
    "import os\n",
    "from tqdm import tqdm\n",
    "import ALL_IN_ONE.Pythia8.loop as loop\n",
    "import ALL_IN_ONE.Pythia8.one_key_run as okr \n",
    "import ALL_IN_ONE.Pythia8.run_save as rs\n",
    "import ALL_IN_ONE.Pythia8.analyse_data as ad\n",
    "import ALL_IN_ONE.Pythia8.detection as detection\n",
    "# from detection import detect_percise_and_combine, detect_r_and_combine\n",
    "# from analyse_data import see_ctau_2, print_max_min_log10_sin_theta_2"
   ]
  },
  {
   "cell_type": "code",
   "execution_count": 5,
   "metadata": {},
   "outputs": [],
   "source": [
    "import pandas as pd\n",
    "import matplotlib \n",
    "from matplotlib import pyplot as plt\n",
    "from tqdm import tqdm\n",
    "# import tkinter as tk\n",
    "# from tkinter import ttk\n",
    "from threading import Thread\n",
    "from tqdm import tqdm\n",
    "import numpy as np\n",
    "from PIL import Image\n",
    "# from run_save import run_save_main41_txt, runtxt_to_csv, add_typed_in_data, add_whether_in_the_detector, add_whether_in_the_detector_without_angle\n",
    "import os\n",
    "from ALL_IN_ONE.Pythia8.plotting import plot_llp_decay_in_the_detector\n",
    "import matplotlib\n",
    "import matplotlib.pyplot as plt\n",
    "import pandas as pd\n",
    "import subprocess\n",
    "from datetime import datetime\n",
    "import os\n",
    "import subprocess\n",
    "import os\n",
    "import csv\n",
    "import numpy as np\n",
    "import matplotlib.pyplot as plt\n",
    "import mplhep as hep\n",
    "import pandas as pd\n",
    "import random\n",
    "from tqdm import tqdm\n",
    "import glob\n",
    "from mpl_toolkits.mplot3d import Axes3D\n",
    "# from functions_for_run import mkdir_1\n",
    "import re\n",
    "# from functions_for_read import get_llp\n",
    "# from functions_for_calculation import calculate_decay_position, whether_in_the_detector_by_position, whether_in_the_detector_by_r\n"
   ]
  },
  {
   "cell_type": "code",
   "execution_count": 6,
   "metadata": {},
   "outputs": [],
   "source": [
    "hep.style.use(hep.style.ALICE)"
   ]
  },
  {
   "cell_type": "code",
   "execution_count": null,
   "metadata": {},
   "outputs": [],
   "source": [
    "# /Users/shiyuzhe/Documents/University/LLP/Second_Term/pythia8/BtoKa/auto_data/Ctau_Br/2024-09-17-csv/original_data"
   ]
  },
  {
   "cell_type": "code",
   "execution_count": 11,
   "metadata": {},
   "outputs": [
    {
     "name": "stderr",
     "output_type": "stream",
     "text": [
      "/tmp/ipykernel_162995/2414386962.py:12: UserWarning: No artists with labels found to put in legend.  Note that artists whose label start with an underscore are ignored when legend() is called with no argument.\n",
      "  plt.legend()\n",
      "/tmp/ipykernel_162995/2414386962.py:13: UserWarning: FigureCanvasAgg is non-interactive, and thus cannot be shown\n",
      "  plt.show()\n"
     ]
    }
   ],
   "source": [
    "filename = '/media/ubuntu/6156e08b-fdb1-4cde-964e-431f74a6078e/Files/LLP_DATA/Original_DATA/2025-03-23/2025-03-23_detected_combined_precise_file.csv'\n",
    "df = pd.read_csv(filename)\n",
    "plt.figure(figsize=(15,10))\n",
    "plt.scatter(df['m'],df['theta_input'] ** 2)\n",
    "plt.ylabel('theta^2', fontsize = 40)\n",
    "plt.xlabel('mass / GeV', fontsize = 40)\n",
    "# plt.xlim(1e8, 1e12)\n",
    "plt.xlim(0,5)\n",
    "plt.yscale('log')\n",
    "plt.tick_params(axis='both', which='major', labelsize=30)\n",
    "plt.title('CODEX-b Detecor Reach for Higgs Portal', size = 30)\n",
    "plt.legend()\n",
    "plt.show()\n",
    "plt.savefig('2025-03-123_precise_theta_mass.jpg')\n",
    "# plt.show()\n",
    "# plt.close()"
   ]
  },
  {
   "cell_type": "code",
   "execution_count": 17,
   "metadata": {},
   "outputs": [],
   "source": [
    "def single_ctau_br(mass_type_in, br_type_in, seed_type_in, ctau_type_in, out_put_path, main41_path = '/Users/shiyuzhe/Documents/University/LLP/Second_Term/pythia8/examples/'):\n",
    "    # ctau_lower_lim = float(self.ctau_lower_lim_entry.get())\n",
    "    # ctau_upper_lim = float(self.ctau_upper_lim_entry.get())\n",
    "    # ctau_array_length = int(self.ctau_array_length_entry.get())\n",
    "    # br_lower_lim = float(self.br_lower_lim_entry.get())\n",
    "    # br_upper_lim = float(self.br_upper_lim_entry.get())\n",
    "    # br_array_length = int(self.br_array_length_entry.get())\n",
    "    # seed_array_length = int(self.seed_array_length_entry.get())\n",
    "    # out_put_path = str(self.output_path.get())\n",
    "    # main41_path = str(self.pythia8_example_path.get())\n",
    "    # mass = str(self.mass_entry.get())\n",
    "    # total_iterations = seed_array_length * br_array_length * ctau_array_length\n",
    "    # self.progress[\"maximum\"] = total_iterations\n",
    "    \n",
    "    temp1 = run_save_main41_txt(mass_type_in, seed_type_in, br_type_in, ctau_type_in, out_put_path, main41_path)\n",
    "    date_csv_file_path = runtxt_to_csv(temp1[0])[0]\n",
    "            \n",
    "    date_csv = os.path.dirname(date_csv_file_path)\n",
    "    print(date_csv)\n",
    "    # print(self.date_csv)\n",
    "    # print('Task Completed')\n",
    "    # self.root.after(0, self.task_completed)\n",
    "    # self.root.after(0, self.print_dirctionay)   "
   ]
  },
  {
   "cell_type": "code",
   "execution_count": 3,
   "metadata": {},
   "outputs": [
    {
     "name": "stdout",
     "output_type": "stream",
     "text": [
      "/Users/shiyuzhe/Documents/University/LLP/Second_Term/pythia8/BtoKa/Code/position_read_analyse_1.0/2024-09-19-csv/original_data\n"
     ]
    }
   ],
   "source": [
    "single_ctau_br(1, 1e-6, 12345, 2.15, '/Users/shiyuzhe/Documents/University/LLP/Second_Term/pythia8/BtoKa/Code/position_read_analyse_1.0/')"
   ]
  },
  {
   "cell_type": "code",
   "execution_count": 18,
   "metadata": {},
   "outputs": [],
   "source": [
    "def combine_files_precise(complete_file_path):\n",
    "        merged_df = pd.DataFrame()\n",
    "        df_all = pd.DataFrame()\n",
    "        completed_file_path = str(complete_file_path)\n",
    "        out_file_path = os.path.dirname(completed_file_path)\n",
    "        # progress[\"maximum\"] = len(os.listdir(completed_file_path))\n",
    "        total_iterations = len(os.listdir(completed_file_path))\n",
    "        with tqdm(total = total_iterations) as pbar:\n",
    "            for file in os.listdir(completed_file_path):\n",
    "                if file.endswith('.csv'):\n",
    "                    file_path = os.path.join(completed_file_path, file)\n",
    "                    \n",
    "                    # with open(file_path, 'rb') as f:\n",
    "                    #     raw_data = f.read()\n",
    "                    #     result = chardet.detect(raw_data)\n",
    "                    #     encoding_code = result['encoding']\n",
    "                    \n",
    "                    df = pd.read_csv(file_path)\n",
    "                    \n",
    "                    detected_df = df[df['id'] == 999999]\n",
    "                    merged_df = pd.concat([merged_df, detected_df], ignore_index=True)\n",
    "                    df_all = pd.concat(([df_all, df]), ignore_index=True)\n",
    "                    \n",
    "                    # print(file + 'has been combined')\n",
    "                # progress[\"value\"] += 1\n",
    "                # root.update()\n",
    "            file_path_combined_detected = os.path.dirname(out_file_path) + '/999999_combined_precise_file.csv'\n",
    "            file_path_combined = os.path.dirname(out_file_path) + '/all_combined_precise_file.csv'\n",
    "            merged_df.to_csv(file_path_combined_detected)\n",
    "            df_all.to_csv(file_path_combined)\n",
    "        # plt.title('Scatter Plot of Detected Data')\n",
    "        # plt.xlabel('br[B->K LLP]')\n",
    "        # plt.ylabel('tau[cm]')\n",
    "        # plt.xscale('log')\n",
    "        # plt.yscale('log')\n",
    "        # plt.show()\n",
    "        # fig_path = os.path.join(completed_file_path, 'Br_ctau_fig.png')\n",
    "        # plt.savefig(fig_path)\n",
    "        # plt.close()\n",
    "        # fig_path_okk = fig_path\n",
    "        # self.fig_path.config(text = fig_path_okk)\n",
    "        return file_path_combined, file_path_combined_detected"
   ]
  },
  {
   "cell_type": "code",
   "execution_count": 12,
   "metadata": {},
   "outputs": [
    {
     "name": "stderr",
     "output_type": "stream",
     "text": [
      "  0%|          | 0/5000 [00:00<?, ?it/s]"
     ]
    },
    {
     "name": "stderr",
     "output_type": "stream",
     "text": [
      "  0%|          | 0/5000 [00:30<?, ?it/s]\n"
     ]
    },
    {
     "data": {
      "text/plain": [
       "('/Users/shiyuzhe/Documents/University/LLP/Second_Term/pythia8/BtoKa/Code/position_read_analyse_1.0/2024-09-19-csv/all_combined_precise_file.csv',\n",
       " '/Users/shiyuzhe/Documents/University/LLP/Second_Term/pythia8/BtoKa/Code/position_read_analyse_1.0/2024-09-19-csv/999999_combined_precise_file.csv')"
      ]
     },
     "execution_count": 12,
     "metadata": {},
     "output_type": "execute_result"
    }
   ],
   "source": [
    "combine_files_precise('/Users/shiyuzhe/Documents/University/LLP/Second_Term/pythia8/BtoKa/Code/position_read_analyse_1.0/2024-09-19-csv/original_data/')"
   ]
  },
  {
   "cell_type": "code",
   "execution_count": 23,
   "metadata": {},
   "outputs": [],
   "source": [
    "def merge_csv_files(directory, output_file):\n",
    "    # csv_files = [f for f in os.listdir(directory) if f.endswith('.csv')]\n",
    "    \n",
    "    data_frames = []\n",
    "    \n",
    "    for file in directory:\n",
    "        file_path = os.path.join(file)\n",
    "        df = pd.read_csv(file_path)\n",
    "        data_frames.append(df)\n",
    "    \n",
    "\n",
    "    merged_df = pd.concat(data_frames, ignore_index=True)\n",
    "    \n",
    "    merged_df.to_csv(output_file, index=False)\n",
    "\n",
    "\n"
   ]
  },
  {
   "cell_type": "code",
   "execution_count": 24,
   "metadata": {},
   "outputs": [],
   "source": [
    "directory = ['/Users/shiyuzhe/Documents/University/LLP/Second_Term/pythia8/BtoKa/Code/position_read_analyse_1.3/LLP_data_for_test/detected_combined_r_file_21.csv',\n",
    "             '/Users/shiyuzhe/Documents/University/LLP/Second_Term/pythia8/BtoKa/Code/position_read_analyse_1.3/LLP_data_for_test/detected_combined_r_file_22.csv',\n",
    "             '/Users/shiyuzhe/Documents/University/LLP/Second_Term/pythia8/BtoKa/Code/position_read_analyse_1.3/LLP_data_for_test/detected_combined_r_file_23.csv',\n",
    "             '/Users/shiyuzhe/Documents/University/LLP/Second_Term/pythia8/BtoKa/Code/position_read_analyse_1.3/LLP_data_for_test/detected_combined_r_file_24.csv']\n",
    "output_file = '/Users/shiyuzhe/Documents/University/LLP/Second_Term/pythia8/BtoKa/Code/position_read_analyse_1.3/LLP_data_for_test/detected_combined_r_file_21-24.csv'\n",
    "merge_csv_files(directory, output_file)"
   ]
  }
 ],
 "metadata": {
  "kernelspec": {
   "display_name": "Python 3",
   "language": "python",
   "name": "python3"
  },
  "language_info": {
   "codemirror_mode": {
    "name": "ipython",
    "version": 3
   },
   "file_extension": ".py",
   "mimetype": "text/x-python",
   "name": "python",
   "nbconvert_exporter": "python",
   "pygments_lexer": "ipython3",
   "version": "3.10.12"
  }
 },
 "nbformat": 4,
 "nbformat_minor": 2
}
