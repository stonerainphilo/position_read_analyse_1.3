{
 "cells": [
  {
   "cell_type": "code",
   "execution_count": 1,
   "metadata": {},
   "outputs": [],
   "source": [
    "import sys\n",
    "sys.path.append(\"ALL_IN_ONE/Pythia8\")\n",
    "sys.path.append(\"ALL_IN_ONE/LSD\")\n",
    "sys.path.append(\"ALL_IN_ONE/FIT_FUNC\")"
   ]
  },
  {
   "cell_type": "code",
   "execution_count": 2,
   "metadata": {},
   "outputs": [],
   "source": [
    "import os\n",
    "import psutil\n",
    "import time\n",
    "from concurrent.futures import ProcessPoolExecutor\n",
    "from tqdm import tqdm\n",
    "import ALL_IN_ONE.Pythia8.loop as loop\n",
    "import ALL_IN_ONE.Pythia8.one_key_run as okr \n",
    "import ALL_IN_ONE.Pythia8.run_save as rs\n",
    "import ALL_IN_ONE.Pythia8.analyse_data as ad\n",
    "import ALL_IN_ONE.Pythia8.detection as detection\n",
    "import ALL_IN_ONE.Pythia8.Mulity_process as mp\n",
    "from datetime import datetime\n",
    "import ALL_IN_ONE.Pythia8.combine as combine\n",
    "# from detection import detect_percise_and_combine, detect_r_and_combine\n",
    "# from analyse_data import see_ctau_2, print_max_min_log10_sin_theta_2"
   ]
  },
  {
   "cell_type": "code",
   "execution_count": 3,
   "metadata": {},
   "outputs": [],
   "source": [
    "folder = '/media/ubuntu/6156e08b-fdb1-4cde-964e-431f74a6078e/Files/LLP_DATA/Original_DATA/SHiP-A/2025-09-15_Scalar_SHiP/LLP_data'"
   ]
  },
  {
   "cell_type": "code",
   "execution_count": null,
   "metadata": {},
   "outputs": [
    {
     "name": "stdout",
     "output_type": "stream",
     "text": [
      "/media/ubuntu/6156e08b-fdb1-4cde-964e-431f74a6078e/Files/LLP_DATA/Original_DATA/SHiP-A/2025-09-15_Scalar_SHiP/LLP_data/log.txt\n"
     ]
    },
    {
     "name": "stderr",
     "output_type": "stream",
     "text": [
      "  4%|▍         | 122/3130 [5:09:00<128:06:20, 153.32s/it]"
     ]
    }
   ],
   "source": [
    "okr.SHiP_low_cpu(folder)"
   ]
  },
  {
   "cell_type": "code",
   "execution_count": 7,
   "metadata": {},
   "outputs": [
    {
     "name": "stdout",
     "output_type": "stream",
     "text": [
      "Split 4674 files into 6 folders.\n"
     ]
    }
   ],
   "source": [
    "combine.split(folder, 800)"
   ]
  },
  {
   "cell_type": "markdown",
   "metadata": {},
   "source": []
  },
  {
   "cell_type": "code",
   "execution_count": 7,
   "metadata": {},
   "outputs": [
    {
     "name": "stdout",
     "output_type": "stream",
     "text": [
      "All CSV files moved back to /media/ubuntu/6156e08b-fdb1-4cde-964e-431f74a6078e/Files/LLP_DATA/Original_DATA/SHiP-A/2025-09-12_2HDM-A_SHiP/LLP_data and split folders removed.\n"
     ]
    }
   ],
   "source": [
    "combine.undo_split_csv_files(folder)"
   ]
  },
  {
   "cell_type": "code",
   "execution_count": null,
   "metadata": {},
   "outputs": [
    {
     "name": "stdout",
     "output_type": "stream",
     "text": [
      "CPU usage is below 50%. Proceeding with tasks.\n",
      "/media/ubuntu/6156e08b-fdb1-4cde-964e-431f74a6078e/Files/LLP_DATA/Original_DATA/SHiP-A/2025-09-12_2HDM-A_SHiP/LLP_data/split_1\n",
      "/media/ubuntu/6156e08b-fdb1-4cde-964e-431f74a6078e/Files/LLP_DATA/Original_DATA/SHiP-A/2025-09-12_2HDM-A_SHiP/LLP_data/split_2\n",
      "/media/ubuntu/6156e08b-fdb1-4cde-964e-431f74a6078e/Files/LLP_DATA/Original_DATA/SHiP-A/2025-09-12_2HDM-A_SHiP/LLP_data/split_3\n",
      "/media/ubuntu/6156e08b-fdb1-4cde-964e-431f74a6078e/Files/LLP_DATA/Original_DATA/SHiP-A/2025-09-12_2HDM-A_SHiP/LLP_data/split_4\n",
      "/media/ubuntu/6156e08b-fdb1-4cde-964e-431f74a6078e/Files/LLP_DATA/Original_DATA/SHiP-A/2025-09-12_2HDM-A_SHiP/LLP_data/split_5\n",
      "/media/ubuntu/6156e08b-fdb1-4cde-964e-431f74a6078e/Files/LLP_DATA/Original_DATA/SHiP-A/2025-09-12_2HDM-A_SHiP/LLP_data/split_6\n"
     ]
    },
    {
     "name": "stderr",
     "output_type": "stream",
     "text": [
      "  0%|          | 1/800 [03:09<41:56:50, 189.00s/it]"
     ]
    }
   ],
   "source": [
    "def run_task(args):\n",
    "    LLP_path = args\n",
    "    return okr.calcu_cross_section_and_combine_files_CODEX_MATHUSLA_SHiP(LLP_path)\n",
    "\n",
    "# get present progress\n",
    "p = psutil.Process(os.getpid())\n",
    "\n",
    "# set upper limit of cpu usage, 50% for now\n",
    "CPU_LIMIT = 50\n",
    "\n",
    "# Supervise the usage of cpu\n",
    "while True:\n",
    "    # acquire present usage of cpu\n",
    "    cpu_usage = p.cpu_percent(interval=1)\n",
    "\n",
    "    if cpu_usage > CPU_LIMIT:\n",
    "        time.sleep(0.1)  # pause the progress for a while\n",
    "    else:\n",
    "        # print the task massage\n",
    "        print(f\"CPU usage is below {CPU_LIMIT}%. Proceeding with tasks.\")\n",
    "        pass\n",
    "        # Use multitask\n",
    "    if __name__ == \"__main__\":\n",
    "        # set cpu cores\n",
    "        num_cores = 6  \n",
    "\n",
    "        # define the paras\n",
    "        tasks = [\n",
    "            (folder + f\"/split_{i+1}\") \n",
    "            for i in range(num_cores)  \n",
    "        ]\n",
    "\n",
    "        # print tasks generated\n",
    "        for task in tasks:\n",
    "            print(task)\n",
    "\n",
    "        # use multitask\n",
    "        with ProcessPoolExecutor(max_workers=num_cores) as executor:\n",
    "            results = list(executor.map(run_task, tasks))\n",
    "\n",
    "        \n",
    "        break  # jump out of the loop to preceed\n",
    "\n",
    "\n",
    "# print result\n",
    "print(\"All tasks completed:\", results)\n"
   ]
  },
  {
   "cell_type": "code",
   "execution_count": null,
   "metadata": {},
   "outputs": [
    {
     "name": "stdout",
     "output_type": "stream",
     "text": [
      "/media/ubuntu/6156e08b-fdb1-4cde-964e-431f74a6078e/Files/LLP_DATA/Original_DATA/SHiP-A/2025-09-12_2HDM-A_SHiP/LLP_data/split_1\n",
      "/media/ubuntu/6156e08b-fdb1-4cde-964e-431f74a6078e/Files/LLP_DATA/Original_DATA/SHiP-A/2025-09-12_2HDM-A_SHiP/LLP_data/split_2\n",
      "/media/ubuntu/6156e08b-fdb1-4cde-964e-431f74a6078e/Files/LLP_DATA/Original_DATA/SHiP-A/2025-09-12_2HDM-A_SHiP/LLP_data/split_3\n",
      "/media/ubuntu/6156e08b-fdb1-4cde-964e-431f74a6078e/Files/LLP_DATA/Original_DATA/SHiP-A/2025-09-12_2HDM-A_SHiP/LLP_data/split_4\n",
      "/media/ubuntu/6156e08b-fdb1-4cde-964e-431f74a6078e/Files/LLP_DATA/Original_DATA/SHiP-A/2025-09-12_2HDM-A_SHiP/LLP_data/split_5\n",
      "/media/ubuntu/6156e08b-fdb1-4cde-964e-431f74a6078e/Files/LLP_DATA/Original_DATA/SHiP-A/2025-09-12_2HDM-A_SHiP/LLP_data/split_6\n"
     ]
    },
    {
     "name": "stderr",
     "output_type": "stream",
     "text": [
      "  0%|          | 0/675 [00:00<?, ?it/s]"
     ]
    }
   ],
   "source": [
    "\n",
    "import os\n",
    "\n",
    "# 假设 okr.one_key_run_by_csv_cross_section_main131 是你要并行运行的函数\n",
    "from concurrent.futures import ProcessPoolExecutor\n",
    "paths = [\n",
    "    folder + '/split_1',\n",
    "    folder + '/split_2',\n",
    "    folder + '/split_3',\n",
    "    folder + '/split_4',\n",
    "    folder + '/split_5', \n",
    "    folder + '/split_6'\n",
    "]\n",
    "def run_task(args):\n",
    "    LLP_path = args\n",
    "    return okr.calcu_cross_section_and_combine_files_SHiP_limit(LLP_path)\n",
    "\n",
    "# detected_r = '/Users/shiyuzhe/Documents/University/LLP/Second_Term/pythia8/BtoKa/Code/position_read_analyse_1.3/LLP_data_for_test/2024-11-18_19/'\n",
    "\n",
    "if __name__ == \"__main__\":\n",
    "    # 自定义 CPU 核心数量\n",
    "    num_cores = 6  # 你可以将此值改为你想使用的核心数量\n",
    "\n",
    "    # 定义任务参数\n",
    "    tasks = [\n",
    "        (folder + f\"/split_{i+1}\")  # 生成任务参数\n",
    "        for i in range(num_cores)  # 根据自定义核心数生成任务\n",
    "    ]\n",
    "\n",
    "    # 打印生成的任务\n",
    "    for task in tasks:\n",
    "        print(task)\n",
    "\n",
    "    # 使用多核并行\n",
    "    with ProcessPoolExecutor(max_workers=num_cores) as executor:\n",
    "        results = list(executor.map(run_task, tasks))\n",
    "\n",
    "    # 打印结果\n",
    "    print(\"All tasks completed:\", results)\n",
    "\n",
    "\n",
    "run_task((paths))"
   ]
  }
 ],
 "metadata": {
  "kernelspec": {
   "display_name": "Python 3",
   "language": "python",
   "name": "python3"
  },
  "language_info": {
   "codemirror_mode": {
    "name": "ipython",
    "version": 3
   },
   "file_extension": ".py",
   "mimetype": "text/x-python",
   "name": "python",
   "nbconvert_exporter": "python",
   "pygments_lexer": "ipython3",
   "version": "3.10.12"
  }
 },
 "nbformat": 4,
 "nbformat_minor": 2
}
