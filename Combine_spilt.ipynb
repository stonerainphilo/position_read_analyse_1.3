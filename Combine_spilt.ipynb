{
 "cells": [
  {
   "cell_type": "code",
   "execution_count": 1,
   "metadata": {},
   "outputs": [],
   "source": [
    "import sys\n",
    "sys.path.append(\"ALL_IN_ONE/Pythia8\")\n",
    "sys.path.append(\"ALL_IN_ONE/LSD\")\n",
    "sys.path.append(\"ALL_IN_ONE/FIT_FUNC\")"
   ]
  },
  {
   "cell_type": "code",
   "execution_count": 2,
   "metadata": {},
   "outputs": [],
   "source": [
    "import os\n",
    "from tqdm import tqdm\n",
    "import ALL_IN_ONE.Pythia8.loop as loop\n",
    "import ALL_IN_ONE.Pythia8.one_key_run as okr \n",
    "import ALL_IN_ONE.Pythia8.run_save as rs\n",
    "import ALL_IN_ONE.Pythia8.analyse_data as ad\n",
    "import ALL_IN_ONE.Pythia8.detection as detection\n",
    "import ALL_IN_ONE.Pythia8.Mulity_process as mp\n",
    "from datetime import datetime\n",
    "import ALL_IN_ONE.Pythia8.combine as combine\n",
    "# from detection import detect_percise_and_combine, detect_r_and_combine\n",
    "# from analyse_data import see_ctau_2, print_max_min_log10_sin_theta_2"
   ]
  },
  {
   "cell_type": "code",
   "execution_count": 4,
   "metadata": {},
   "outputs": [
    {
     "name": "stdout",
     "output_type": "stream",
     "text": [
      "Split 1674 files into 4 folders.\n"
     ]
    }
   ],
   "source": [
    "combine.split('/home/srp/Documents/LLP_DATA/2025-09-09_2HDM-S-2/LLP_data', 419)"
   ]
  },
  {
   "cell_type": "markdown",
   "metadata": {},
   "source": []
  },
  {
   "cell_type": "code",
   "execution_count": 3,
   "metadata": {},
   "outputs": [
    {
     "name": "stdout",
     "output_type": "stream",
     "text": [
      "All CSV files moved back to /home/srp/Documents/LLP_DATA/2025-09-09_2HDM-S-2/LLP_data and split folders removed.\n"
     ]
    }
   ],
   "source": [
    "combine.undo_split_csv_files('/home/srp/Documents/LLP_DATA/2025-09-09_2HDM-S-2/LLP_data')"
   ]
  },
  {
   "cell_type": "code",
   "execution_count": null,
   "metadata": {},
   "outputs": [
    {
     "name": "stdout",
     "output_type": "stream",
     "text": [
      "/home/srp/Documents/LLP_DATA/2025-09-09_2HDM-S-2/LLP_data/split_1\n",
      "/home/srp/Documents/LLP_DATA/2025-09-09_2HDM-S-2/LLP_data/split_2\n",
      "/home/srp/Documents/LLP_DATA/2025-09-09_2HDM-S-2/LLP_data/split_3\n",
      "/home/srp/Documents/LLP_DATA/2025-09-09_2HDM-S-2/LLP_data/split_4\n"
     ]
    },
    {
     "name": "stderr",
     "output_type": "stream",
     "text": [
      " 52%|█████▏    | 217/419 [23:17:17<21:34:23, 384.47s/it]"
     ]
    }
   ],
   "source": [
    "from concurrent.futures import ProcessPoolExecutor\n",
    "import os\n",
    "\n",
    "# 假设 okr.one_key_run_by_csv_cross_section_main131 是你要并行运行的函数\n",
    "from concurrent.futures import ProcessPoolExecutor\n",
    "paths = [\n",
    "    '/home/srp/Documents/LLP_DATA/2025-09-09_2HDM-S-2/LLP_data/split_1',\n",
    "    '/home/srp/Documents/LLP_DATA/2025-09-09_2HDM-S-2/LLP_data/split_2',\n",
    "    '/home/srp/Documents/LLP_DATA/2025-09-09_2HDM-S-2/LLP_data/split_3',\n",
    "    '/home/srp/Documents/LLP_DATA/2025-09-09_2HDM-S-2/LLP_data/split_4'\n",
    "]\n",
    "def run_task(args):\n",
    "    LLP_path = args\n",
    "    return okr.calcu_cross_section_and_combine_files_CODEX_MATHUSLA_SHiP(LLP_path)\n",
    "\n",
    "# detected_r = '/Users/shiyuzhe/Documents/University/LLP/Second_Term/pythia8/BtoKa/Code/position_read_analyse_1.3/LLP_data_for_test/2024-11-18_19/'\n",
    "\n",
    "if __name__ == \"__main__\":\n",
    "    # 自定义 CPU 核心数量\n",
    "    num_cores = 4  # 你可以将此值改为你想使用的核心数量\n",
    "\n",
    "    # 定义任务参数\n",
    "    tasks = [\n",
    "        (f\"/home/srp/Documents/LLP_DATA/2025-09-09_2HDM-S-2/LLP_data/split_{i+1}\")  # 生成任务参数\n",
    "        for i in range(num_cores)  # 根据自定义核心数生成任务\n",
    "    ]\n",
    "\n",
    "    # 打印生成的任务\n",
    "    for task in tasks:\n",
    "        print(task)\n",
    "\n",
    "    # 使用多核并行\n",
    "    with ProcessPoolExecutor(max_workers=num_cores) as executor:\n",
    "        results = list(executor.map(run_task, tasks))\n",
    "\n",
    "    # 打印结果\n",
    "    print(\"All tasks completed:\", results)\n",
    "\n",
    "\n",
    "run_task((paths))"
   ]
  }
 ],
 "metadata": {
  "kernelspec": {
   "display_name": "Python 3",
   "language": "python",
   "name": "python3"
  },
  "language_info": {
   "codemirror_mode": {
    "name": "ipython",
    "version": 3
   },
   "file_extension": ".py",
   "mimetype": "text/x-python",
   "name": "python",
   "nbconvert_exporter": "python",
   "pygments_lexer": "ipython3",
   "version": "3.10.12"
  }
 },
 "nbformat": 4,
 "nbformat_minor": 2
}
