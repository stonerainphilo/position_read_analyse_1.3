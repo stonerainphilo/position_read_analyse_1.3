{
 "cells": [
  {
   "cell_type": "code",
   "execution_count": null,
   "metadata": {},
   "outputs": [],
   "source": [
    "import pandas as pd\n",
    "import os\n",
    "import numpy as np\n"
   ]
  },
  {
   "cell_type": "code",
   "execution_count": null,
   "metadata": {},
   "outputs": [],
   "source": [
    "def calcu_weight(ctau, p_x, p_y, p_z):\n",
    "        detector_xmin=26000, detector_xmax=36000,\n",
    "        detector_ymin=-7000, detector_ymax=3000,\n",
    "        detector_zmin=5000, detector_zmax=15000:\n",
    "    r_min = np.sqrt(0 + np.square(detector_zmin) + np.square(detector_xmin))\n",
    "    r_max = np.sqrt(np.square(detector_ymin) + np.square(detector_xmax) + np.square(detector_zmax))"
   ]
  }
 ],
 "metadata": {
  "kernelspec": {
   "display_name": "Python 3",
   "language": "python",
   "name": "python3"
  },
  "language_info": {
   "name": "python",
   "version": "3.10.11"
  }
 },
 "nbformat": 4,
 "nbformat_minor": 2
}
