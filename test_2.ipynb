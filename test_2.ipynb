{
 "cells": [
  {
   "cell_type": "code",
   "execution_count": null,
   "metadata": {},
   "outputs": [],
   "source": [
    "import sys\n",
    "sys.path.append(\"ALL_IN_ONE/Pythia8\")\n",
    "sys.path.append(\"ALL_IN_ONE/LSD\")\n",
    "sys.path.append(\"ALL_IN_ONE/FIT_FUNC\")\n",
    "import os\n",
    "import ALL_IN_ONE.Pythia8.product_test as pt\n",
    "import ALL_IN_ONE.Pythia8.functions_for_run as fr\n",
    "from numba import jit\n",
    "import ALL_IN_ONE.Pythia8.cross_section as cs\n",
    "from tqdm import tqdm\n",
    "import pandas as pd\n",
    "import ALL_IN_ONE.Pythia8.run_save as rs\n",
    "import ALL_IN_ONE.Pythia8.one_key_run as okr\n",
    "import ALL_IN_ONE.Pythia8.combine as cb\n"
   ]
  },
  {
   "cell_type": "markdown",
   "metadata": {},
   "source": [
    "## TEST of SHiP-Detection func"
   ]
  },
  {
   "cell_type": "code",
   "execution_count": null,
   "metadata": {},
   "outputs": [],
   "source": [
    "\n",
    "@jit(nopython=True)\n",
    "\n",
    "def add_whether_in_the_detector_without_Decay_calcu_add_cross_section_SHiP(filename, out_folder_path):\n",
    "    rs.mkdir_1(out_folder_path)\n",
    "    file_path_only, file_name_only = os.path.split(filename)\n",
    "    file_parent_path_only = os.path.dirname(file_path_only)\n",
    "    llp_data = pd.read_csv(filename)\n",
    "    llp_whether_in_detector_SHiP = llp_data.apply(\n",
    "        lambda row: pt.is_point_inside_frustum_numba_array([row['decay_pos_x'], row['decay_pos_y'], row['decay_pos_z']]),\n",
    "        axis=1\n",
    "    )\n",
    "\n",
    "\n",
    "    cross_section = cs.calculate_cross_section(llp_data)\n",
    "\n",
    "    llp_data['detected_SHiP'] = llp_whether_in_detector_SHiP\n",
    "    llp_data['cross_section'] = cross_section\n",
    "    llp_data['detector_acceptance_SHiP'] = sum(llp_data['detected_SHiP']) / cs.counting_total_LLP(llp_data)\n",
    "    final_data_folder = file_parent_path_only + '/Completed_llp_data_precise_cross_section'\n",
    "    fr.mkdir_1(final_data_folder)\n",
    "    final_data_path = os.path.join(final_data_folder + f'/final_data_cross_section_{file_name_only}')\n",
    "    llp_data.to_csv(final_data_path, index = False)\n",
    "    return final_data_folder\n",
    "\n",
    "def SHiP(LLP_data_folder_dir):\n",
    "    for files in tqdm(os.listdir(LLP_data_folder_dir)):\n",
    "        file_path_all = os.path.join(LLP_data_folder_dir, files)\n",
    "        if os.path.isfile(file_path_all):\n",
    "            try:\n",
    "                completed_data_folder = add_whether_in_the_detector_without_Decay_calcu_add_cross_section_SHiP(file_path_all, LLP_data_folder_dir)\n",
    "            except Exception as e:\n",
    "                print(f\"Error with file: {file_path_all}\")\n",
    "                print(f\"Error message: {str(e)}\")\n",
    "                continue\n",
    "                file_path_all = ''\n",
    "\n",
    "    return 'Detection and Calcu Cross-Section Completed', completed_data_folder\n",
    "\n"
   ]
  },
  {
   "cell_type": "code",
   "execution_count": 4,
   "metadata": {},
   "outputs": [
    {
     "name": "stderr",
     "output_type": "stream",
     "text": [
      "100%|██████████| 1/1 [00:00<00:00, 77.87it/s]"
     ]
    },
    {
     "name": "stdout",
     "output_type": "stream",
     "text": [
      "Error with file: /media/ubuntu/6156e08b-fdb1-4cde-964e-431f74a6078e/Files/LLP_DATA/Original_DATA/test_data/SHiP/test.csv\n",
      "Error message: Failed in nopython mode pipeline (step: nopython frontend)\n",
      "\u001b[1m\u001b[1m\u001b[1mUnknown attribute 'mkdir_1' of type Module(<module 'ALL_IN_ONE.Pythia8.run_save' from '/media/ubuntu/6156e08b-fdb1-4cde-964e-431f74a6078e/Program/PRA/Github/position_read_analyse_1.3/ALL_IN_ONE/Pythia8/run_save.py'>)\n",
      "\u001b[1m\n",
      "File \"../../../../../../../tmp/ipykernel_83791/3487130479.py\", line 17:\u001b[0m\n",
      "\u001b[1m<source missing, REPL/exec in use?>\u001b[0m\n",
      "\u001b[0m\n",
      "\u001b[0m\u001b[1mDuring: typing of get attribute at /tmp/ipykernel_83791/3487130479.py (17)\u001b[0m\n",
      "\u001b[1m\n",
      "File \"../../../../../../../tmp/ipykernel_83791/3487130479.py\", line 17:\u001b[0m\n",
      "\u001b[1m<source missing, REPL/exec in use?>\u001b[0m\n",
      "\n",
      "\u001b[0m\u001b[1mDuring: Pass nopython_type_inference\u001b[0m\n"
     ]
    },
    {
     "name": "stderr",
     "output_type": "stream",
     "text": [
      "\n"
     ]
    },
    {
     "ename": "UnboundLocalError",
     "evalue": "local variable 'completed_data_folder' referenced before assignment",
     "output_type": "error",
     "traceback": [
      "\u001b[0;31m---------------------------------------------------------------------------\u001b[0m",
      "\u001b[0;31mUnboundLocalError\u001b[0m                         Traceback (most recent call last)",
      "Cell \u001b[0;32mIn[4], line 2\u001b[0m\n\u001b[1;32m      1\u001b[0m folder \u001b[38;5;241m=\u001b[39m \u001b[38;5;124m'\u001b[39m\u001b[38;5;124m/media/ubuntu/6156e08b-fdb1-4cde-964e-431f74a6078e/Files/LLP_DATA/Original_DATA/test_data/SHiP\u001b[39m\u001b[38;5;124m'\u001b[39m\n\u001b[0;32m----> 2\u001b[0m \u001b[43mSHiP\u001b[49m\u001b[43m(\u001b[49m\u001b[43mfolder\u001b[49m\u001b[43m)\u001b[49m\n",
      "Cell \u001b[0;32mIn[3], line 50\u001b[0m, in \u001b[0;36mSHiP\u001b[0;34m(LLP_data_folder_dir)\u001b[0m\n\u001b[1;32m     47\u001b[0m             \u001b[38;5;28;01mcontinue\u001b[39;00m\n\u001b[1;32m     48\u001b[0m             file_path_all \u001b[38;5;241m=\u001b[39m \u001b[38;5;124m'\u001b[39m\u001b[38;5;124m'\u001b[39m\n\u001b[0;32m---> 50\u001b[0m \u001b[38;5;28;01mreturn\u001b[39;00m \u001b[38;5;124m'\u001b[39m\u001b[38;5;124mDetection and Calcu Cross-Section Completed\u001b[39m\u001b[38;5;124m'\u001b[39m, \u001b[43mcompleted_data_folder\u001b[49m\n",
      "\u001b[0;31mUnboundLocalError\u001b[0m: local variable 'completed_data_folder' referenced before assignment"
     ]
    }
   ],
   "source": [
    "folder = '/media/ubuntu/6156e08b-fdb1-4cde-964e-431f74a6078e/Files/LLP_DATA/Original_DATA/test_data/SHiP'\n",
    "SHiP(folder)"
   ]
  },
  {
   "cell_type": "code",
   "execution_count": 2,
   "metadata": {},
   "outputs": [
    {
     "name": "stdout",
     "output_type": "stream",
     "text": [
      "Empty DataFrame\n",
      "Columns: [number_of_production, m, id, total_events, seed, decay_pos_x, LLP_number_per_ev, Cross_section_fb, decay_pos_y, decay_pos_t, mass_input, tau, theta, decay_pos_z, tau_input, detected_SHiP, cross_section, detector_acceptance_SHiP]\n",
      "Index: []\n"
     ]
    }
   ],
   "source": [
    "import pandas as pd\n",
    "csv = '/media/ubuntu/6156e08b-fdb1-4cde-964e-431f74a6078e/Files/LLP_DATA/Original_DATA/test_data/SHiP/test.csv'\n",
    "df = pd.read_csv(csv)\n",
    "df2 = df[df['detected_SHiP'] == 1]\n",
    "print(df2[:5])"
   ]
  },
  {
   "cell_type": "markdown",
   "metadata": {},
   "source": [
    "## Move CODEXb Around"
   ]
  },
  {
   "cell_type": "code",
   "execution_count": 4,
   "metadata": {},
   "outputs": [
    {
     "name": "stdout",
     "output_type": "stream",
     "text": [
      "[31000.0, -2000.0, 10000.0]\n",
      "5000.0 5000.0 5000.0\n",
      "36000.0 26000.0\n"
     ]
    }
   ],
   "source": [
    "detector_xmin=26000\n",
    "detector_xmax=36000\n",
    "detector_ymin=-7000\n",
    "detector_ymax=3000\n",
    "detector_zmin=5000\n",
    "detector_zmax=15000\n",
    "\n",
    "center = [(detector_xmin + detector_xmax) / 2\n",
    "                , (detector_ymin + detector_ymax) / 2\n",
    "                , (detector_zmin + detector_zmax) / 2]\n",
    "xplus = (detector_xmax - detector_xmin) / 2\n",
    "yplus = (detector_ymax - detector_ymin) / 2\n",
    "zplus = (detector_zmax - detector_zmin) / 2\n",
    "\n",
    "print(center)\n",
    "print(xplus, yplus, zplus)\n",
    "print(center[0]+xplus, center[0]-xplus)"
   ]
  },
  {
   "cell_type": "code",
   "execution_count": null,
   "metadata": {},
   "outputs": [],
   "source": [
    "folder = '/media/ubuntu/6156e08b-fdb1-4cde-964e-431f74a6078e/Files/LLP_DATA/Original_DATA/test_data/CODEX-b'\n",
    "out = '/media/ubuntu/6156e08b-fdb1-4cde-964e-431f74a6078e/Files/LLP_DATA/Original_DATA/test_data/CODEX-b/out'\n",
    "okr.CODEXb_bigger(folder, out)"
   ]
  }
 ],
 "metadata": {
  "kernelspec": {
   "display_name": "Python 3",
   "language": "python",
   "name": "python3"
  },
  "language_info": {
   "codemirror_mode": {
    "name": "ipython",
    "version": 3
   },
   "file_extension": ".py",
   "mimetype": "text/x-python",
   "name": "python",
   "nbconvert_exporter": "python",
   "pygments_lexer": "ipython3",
   "version": "3.10.12"
  }
 },
 "nbformat": 4,
 "nbformat_minor": 2
}
