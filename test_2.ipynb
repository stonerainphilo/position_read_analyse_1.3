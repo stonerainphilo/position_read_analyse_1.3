{
 "cells": [
  {
   "cell_type": "markdown",
   "metadata": {},
   "source": [
    "## TEST of SHiP-Detection func"
   ]
  },
  {
   "cell_type": "code",
   "execution_count": null,
   "metadata": {},
   "outputs": [
    {
     "name": "stdout",
     "output_type": "stream",
     "text": [
      "处理 320000 个点耗时: 0.5645 秒\n",
      "平均每个点耗时: 1.7640 微秒\n",
      "内部点的数量: 0\n"
     ]
    }
   ],
   "source": [
    "import sys\n",
    "sys.path.append(\"ALL_IN_ONE/Pythia8\")\n",
    "sys.path.append(\"ALL_IN_ONE/LSD\")\n",
    "sys.path.append(\"ALL_IN_ONE/FIT_FUNC\")\n",
    "import os\n",
    "import ALL_IN_ONE.Pythia8.product_test as pt\n",
    "import ALL_IN_ONE.Pythia8.functions_for_run as fr\n",
    "from numba import jit\n",
    "import ALL_IN_ONE.Pythia8.cross_section as cs\n",
    "from tqdm import tqdm\n",
    "import ALL_IN_ONE.Pythia8.run_save as rs\n",
    "\n",
    "@jit(nopython=True)\n",
    "\n",
    "def add_whether_in_the_detector_without_Decay_calcu_add_cross_section_SHiP(filename, out_folder_path):\n",
    "    rs.mkdir_1(out_folder_path)\n",
    "    file_path_only, file_name_only = os.path.split(filename)\n",
    "    file_parent_path_only = os.path.dirname(file_path_only)\n",
    "    llp_data = pd.read_csv(filename)\n",
    "    llp_whether_in_detector_SHiP = llp_data.apply(\n",
    "        lambda row: pt.is_point_inside_frustum_numba_array([row['decay_pos_x'], row['decay_pos_y'], row['decay_pos_z']]),\n",
    "        axis=1\n",
    "    )\n",
    "\n",
    "\n",
    "    cross_section = cs.calculate_cross_section(llp_data)\n",
    "\n",
    "    llp_data['detected_SHiP'] = llp_whether_in_detector_SHiP\n",
    "    llp_data['cross_section'] = cross_section\n",
    "    llp_data['detector_acceptance_SHiP'] = sum(llp_data['detected_SHiP']) / cs.counting_total_LLP(llp_data)\n",
    "    final_data_folder = file_parent_path_only + '/Completed_llp_data_precise_cross_section'\n",
    "    fr.mkdir_1(final_data_folder)\n",
    "    final_data_path = os.path.join(final_data_folder + f'/final_data_cross_section_{file_name_only}')\n",
    "    llp_data.to_csv(final_data_path, index = False)\n",
    "    return final_data_folder\n",
    "\n",
    "def SHiP(LLP_data_folder_dir):\n",
    "    for files in tqdm(os.listdir(LLP_data_folder_dir)):\n",
    "        file_path_all = os.path.join(LLP_data_folder_dir, files)\n",
    "        if os.path.isfile(file_path_all):\n",
    "            try:\n",
    "                completed_data_folder = add_whether_in_the_detector_without_Decay_calcu_add_cross_section_SHiP(file_path_all, LLP_data_folder_dir)\n",
    "            except Exception as e:\n",
    "                print(f\"Error with file: {file_path_all}\")\n",
    "                print(f\"Error message: {str(e)}\")\n",
    "                continue\n",
    "                file_path_all = ''\n",
    "\n",
    "    return 'Detection and Calcu Cross-Section Completed', completed_data_folder\n",
    "\n"
   ]
  },
  {
   "cell_type": "code",
   "execution_count": 2,
   "metadata": {},
   "outputs": [
    {
     "name": "stderr",
     "output_type": "stream",
     "text": [
      "100%|██████████| 1/1 [00:00<00:00, 125.43it/s]"
     ]
    },
    {
     "name": "stdout",
     "output_type": "stream",
     "text": [
      "Error with file: /media/ubuntu/6156e08b-fdb1-4cde-964e-431f74a6078e/Files/LLP_DATA/Original_DATA/test_data/SHiP/test.csv\n",
      "Error message: Failed in nopython mode pipeline (step: nopython frontend)\n",
      "\u001b[1m\u001b[1mNameError: name 'mkdir_1' is not defined\u001b[0m\n",
      "\u001b[0m\u001b[1mDuring: Pass nopython_type_inference\u001b[0m\n"
     ]
    },
    {
     "name": "stderr",
     "output_type": "stream",
     "text": [
      "\n"
     ]
    },
    {
     "ename": "UnboundLocalError",
     "evalue": "local variable 'completed_data_folder' referenced before assignment",
     "output_type": "error",
     "traceback": [
      "\u001b[0;31m---------------------------------------------------------------------------\u001b[0m",
      "\u001b[0;31mUnboundLocalError\u001b[0m                         Traceback (most recent call last)",
      "Cell \u001b[0;32mIn[2], line 2\u001b[0m\n\u001b[1;32m      1\u001b[0m folder \u001b[38;5;241m=\u001b[39m \u001b[38;5;124m'\u001b[39m\u001b[38;5;124m/media/ubuntu/6156e08b-fdb1-4cde-964e-431f74a6078e/Files/LLP_DATA/Original_DATA/test_data/SHiP\u001b[39m\u001b[38;5;124m'\u001b[39m\n\u001b[0;32m----> 2\u001b[0m \u001b[43mSHiP\u001b[49m\u001b[43m(\u001b[49m\u001b[43mfolder\u001b[49m\u001b[43m)\u001b[49m\n",
      "Cell \u001b[0;32mIn[1], line 49\u001b[0m, in \u001b[0;36mSHiP\u001b[0;34m(LLP_data_folder_dir)\u001b[0m\n\u001b[1;32m     46\u001b[0m             \u001b[38;5;28;01mcontinue\u001b[39;00m\n\u001b[1;32m     47\u001b[0m             file_path_all \u001b[38;5;241m=\u001b[39m \u001b[38;5;124m'\u001b[39m\u001b[38;5;124m'\u001b[39m\n\u001b[0;32m---> 49\u001b[0m \u001b[38;5;28;01mreturn\u001b[39;00m \u001b[38;5;124m'\u001b[39m\u001b[38;5;124mDetection and Calcu Cross-Section Completed\u001b[39m\u001b[38;5;124m'\u001b[39m, \u001b[43mcompleted_data_folder\u001b[49m\n",
      "\u001b[0;31mUnboundLocalError\u001b[0m: local variable 'completed_data_folder' referenced before assignment"
     ]
    }
   ],
   "source": [
    "folder = '/media/ubuntu/6156e08b-fdb1-4cde-964e-431f74a6078e/Files/LLP_DATA/Original_DATA/test_data/SHiP'\n",
    "SHiP(folder)"
   ]
  }
 ],
 "metadata": {
  "kernelspec": {
   "display_name": "Python 3",
   "language": "python",
   "name": "python3"
  },
  "language_info": {
   "codemirror_mode": {
    "name": "ipython",
    "version": 3
   },
   "file_extension": ".py",
   "mimetype": "text/x-python",
   "name": "python",
   "nbconvert_exporter": "python",
   "pygments_lexer": "ipython3",
   "version": "3.10.12"
  }
 },
 "nbformat": 4,
 "nbformat_minor": 2
}
