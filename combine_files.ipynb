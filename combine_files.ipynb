{
 "cells": [
  {
   "cell_type": "code",
   "execution_count": 7,
   "metadata": {},
   "outputs": [],
   "source": [
    "import pandas as pd\n",
    "from tqdm import tqdm\n",
    "import os\n",
    "from datetime import datetime"
   ]
  },
  {
   "cell_type": "code",
   "execution_count": 11,
   "metadata": {},
   "outputs": [
    {
     "name": "stderr",
     "output_type": "stream",
     "text": [
      "100%|██████████| 4/4 [00:00<00:00, 84.42it/s]\n"
     ]
    }
   ],
   "source": [
    "# 列出你的csv文件\n",
    "today = datetime.now().date()\n",
    "LLP_data_folder_dir = '/Users/shiyuzhe/Documents/University/LLP/Second_Term/pythia8/BtoKa/Code/position_read_analyse_1.3/LLP_detect_data'\n",
    "# 创建一个空的DataFrame来保存合并后的数据\n",
    "combined_csv = pd.DataFrame()\n",
    "for file in tqdm(os.listdir(LLP_data_folder_dir)):\n",
    "    file_path_all = os.path.join(LLP_data_folder_dir, file)\n",
    "    df = pd.read_csv(file_path_all)\n",
    "    # 将数据添加到combined_csv中\n",
    "    combined_csv = pd.concat([combined_csv, df])\n",
    "\n",
    "# 如果需要，你可以将合并后的数据保存为新的csv文件\n",
    "combined_csv.to_csv(f'{today}' + '_combined_3.csv', index=False)\n"
   ]
  }
 ],
 "metadata": {
  "kernelspec": {
   "display_name": "Python 3",
   "language": "python",
   "name": "python3"
  },
  "language_info": {
   "codemirror_mode": {
    "name": "ipython",
    "version": 3
   },
   "file_extension": ".py",
   "mimetype": "text/x-python",
   "name": "python",
   "nbconvert_exporter": "python",
   "pygments_lexer": "ipython3",
   "version": "3.10.11"
  }
 },
 "nbformat": 4,
 "nbformat_minor": 2
}
