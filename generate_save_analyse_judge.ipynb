{
 "cells": [
  {
   "cell_type": "code",
   "execution_count": 1,
   "metadata": {},
   "outputs": [],
   "source": [
    "import os\n",
    "from tqdm import tqdm\n",
    "\n",
    "from run_save import run_save_main41_csv, add_whether_in_the_detector, add_whether_in_the_detector_without_angle\n",
    "from combine import combine_files_precise, combine_files_precise_r\n",
    "from loop import loop_ctau_br, loop_ctau_br_certain_seed\n",
    "from functions_for_run import mkdir_1\n",
    "from one_key_run import one_key_run_mass_ctau, one_key_run_mass_ctau_certain_seed, one_key_run_mass_ctau_simple_ver\n",
    "from one_key_run import one_key_run_br_ctau, one_key_run_br_ctau_certain_seed, one_key_run_mass_ctau_given_by_csv\n",
    "from detection import detect_percise_and_combine, detect_r_and_combine\n",
    "from analyse_data import see_ctau_2"
   ]
  },
  {
   "cell_type": "markdown",
   "metadata": {},
   "source": [
    "### This Func is made for FUTURE USE aimmed to speed up our simulations(Whose speed is Not Satisfying a right now(2024.11.17)). \n",
    "\n",
    "### But it is not usable now"
   ]
  },
  {
   "cell_type": "code",
   "execution_count": null,
   "metadata": {},
   "outputs": [],
   "source": [
    "from joblib import Parallel, delayed\n",
    "\n",
    "def worker(seed):\n",
    "    LLP_data_path = loop_mass_ctau_given_by_csv_multi(csv_file, br, seed, out_put_path, main41_path)\n",
    "    print('The Generation of LLPs is Completed')\n",
    "    completed_data_dir = detect_folder_files_no_calcu(LLP_data_path)[1]\n",
    "    print('The LLPs are Judged whether they are Detected or not')\n",
    "    final_files = combine_files_precise(completed_data_dir)\n",
    "    print('The Final Step is Over, See the .csv files for LLPs Completed Data')\n",
    "    return LLP_data_path, completed_data_dir, final_files\n",
    "\n",
    "def one_key_run_mass_ctau_given_by_csv_multi(csv_file, br, seed_array, out_put_path, main41_path):\n",
    "    results = Parallel(n_jobs=5)(delayed(worker)(seed) for seed in seed_array)\n",
    "    return results\n"
   ]
  },
  {
   "cell_type": "markdown",
   "metadata": {},
   "source": [
    "## Attention:  \n",
    "\n",
    "## The Units are CM and GEV"
   ]
  },
  {
   "cell_type": "markdown",
   "metadata": {},
   "source": [
    "### The 'one_key_run_XXX' functions are all you need to use.\n",
    "\n"
   ]
  },
  {
   "cell_type": "markdown",
   "metadata": {},
   "source": [
    "### Setting Parameters"
   ]
  },
  {
   "cell_type": "code",
   "execution_count": 74,
   "metadata": {},
   "outputs": [],
   "source": [
    "c_mm = (3*10**5) # tau0's unit is mm/c, to convert the ultimate decay postion,\n",
    "                            # we need to do sth to the ctau_typed_in \n",
    "\n",
    "br_lowerlim = -20 #ctau and br are in logspace\n",
    "br_upperlim = -20\n",
    "br_amount = 1\n",
    "ctau_lowerlim = 1\n",
    "ctau_upperlim = 30\n",
    "ctau_amount = 50\n",
    "mass = 1\n",
    "seed_amount = 15\n",
    "seed_array = (357993, 1234) #Pythia8 simulation seed\n",
    "\n",
    "mass_lower_lim = 0.1 # Mass in in linspace\n",
    "mass_upper_lim = 4\n",
    "mass_amount = 20\n",
    "br = 1"
   ]
  },
  {
   "cell_type": "markdown",
   "metadata": {},
   "source": [
    "#### Same as before:  \n",
    "\n",
    "##### The function \n",
    "```python\n",
    "    one_key_run_mass_ctau_simple_ver() #Function to run an pythia8 program\n",
    "```\n",
    "\n",
    "takes \n",
    "\n",
    "```\n",
    "br's lower / upper lim (10^x), br's amount, \n",
    "\n",
    "ctau's lower / upper lim (10^x), ctau's amount, \n",
    "\n",
    "mass, \n",
    "\n",
    "seed's amount, \n",
    "\n",
    "the Output folder's path, \n",
    "\n",
    "main41.cc's dir path\n",
    "```\n",
    "as input.\n",
    "\n",
    "The Output is LOTS OF ```.csv``` Files with LLPs' Properties \n",
    "\n",
    "```\n",
    "    Momentum in GeV, \n",
    "    \n",
    "    lifetime(ctau or tau) in mm/C, \n",
    "\n",
    "    decay_postion in mm, mass in GeV \n",
    "\n",
    "    and so on\n",
    "```\n",
    "\n",
    "The path's format is listed below, you can change them directly to your real path to run the function"
   ]
  },
  {
   "cell_type": "code",
   "execution_count": 9,
   "metadata": {},
   "outputs": [],
   "source": [
    "main41_path = '/Users/shiyuzhe/Documents/University/LLP/Second_Term/pythia8/examples/'\n",
    "out_path = '/Users/shiyuzhe/Documents/University/LLP/Second_Term/pythia8/BtoKa/Code/position_read_analyse_1.3/LLP_data_for_test/'"
   ]
  },
  {
   "cell_type": "code",
   "execution_count": 62,
   "metadata": {},
   "outputs": [
    {
     "name": "stderr",
     "output_type": "stream",
     "text": [
      "  0%|          | 0/3000 [00:05<?, ?it/s]\n"
     ]
    },
    {
     "ename": "KeyboardInterrupt",
     "evalue": "",
     "output_type": "error",
     "traceback": [
      "\u001b[0;31m---------------------------------------------------------------------------\u001b[0m",
      "\u001b[0;31mKeyboardInterrupt\u001b[0m                         Traceback (most recent call last)",
      "Cell \u001b[0;32mIn[62], line 1\u001b[0m\n\u001b[0;32m----> 1\u001b[0m all_dirs_mass_ctau \u001b[38;5;241m=\u001b[39m \u001b[43mone_key_run_mass_ctau_simple_ver\u001b[49m\u001b[43m(\u001b[49m\u001b[43mmass_lower_lim\u001b[49m\u001b[43m,\u001b[49m\u001b[43m \u001b[49m\u001b[43mmass_upper_lim\u001b[49m\u001b[43m,\u001b[49m\u001b[43m \u001b[49m\u001b[43mmass_amount\u001b[49m\u001b[43m,\u001b[49m\n\u001b[1;32m      2\u001b[0m \u001b[43m                                           \u001b[49m\u001b[43mctau_lowerlim\u001b[49m\u001b[43m,\u001b[49m\u001b[43m \u001b[49m\u001b[43mctau_upperlim\u001b[49m\u001b[43m,\u001b[49m\u001b[43m \u001b[49m\u001b[43mctau_amount\u001b[49m\u001b[43m,\u001b[49m\u001b[43m \u001b[49m\n\u001b[1;32m      3\u001b[0m \u001b[43m                                            \u001b[49m\u001b[43mbr\u001b[49m\u001b[43m,\u001b[49m\u001b[43m \u001b[49m\u001b[43mseed_amount\u001b[49m\u001b[43m,\u001b[49m\u001b[43m \u001b[49m\u001b[43mout_path\u001b[49m\u001b[43m,\u001b[49m\u001b[43m \u001b[49m\u001b[43mmain41_path\u001b[49m\u001b[43m)\u001b[49m\n",
      "File \u001b[0;32m~/Documents/University/LLP/Second_Term/pythia8/BtoKa/Code/position_read_analyse_1.3/one_key_run.py:109\u001b[0m, in \u001b[0;36mone_key_run_mass_ctau_simple_ver\u001b[0;34m(mass_lower_lim, mass_upper_lim, mass_array_length, ctau_lower_lim, ctau_upper_lim, ctau_array_length, br, seed_array_length, out_put_path, main41_path)\u001b[0m\n\u001b[1;32m    104\u001b[0m     final_files \u001b[38;5;241m=\u001b[39m combine_files_precise(completed_data_dir)\n\u001b[1;32m    105\u001b[0m     \u001b[38;5;28;01mreturn\u001b[39;00m LLP_data_path, completed_data_dir, final_files\n\u001b[1;32m    107\u001b[0m \u001b[38;5;28;01mdef\u001b[39;00m \u001b[38;5;21mone_key_run_mass_ctau_simple_ver\u001b[39m(mass_lower_lim, mass_upper_lim, mass_array_length, \n\u001b[1;32m    108\u001b[0m                  ctau_lower_lim, ctau_upper_lim, ctau_array_length, \n\u001b[0;32m--> 109\u001b[0m                  br, seed_array_length, out_put_path, main41_path):\n\u001b[1;32m    110\u001b[0m     LLP_data_path \u001b[38;5;241m=\u001b[39m loop_mass_ctau(mass_lower_lim, mass_upper_lim, mass_array_length, \n\u001b[1;32m    111\u001b[0m                 ctau_lower_lim, ctau_upper_lim, ctau_array_length, \n\u001b[1;32m    112\u001b[0m                 br, seed_array_length, out_put_path, main41_path)\n\u001b[1;32m    113\u001b[0m     completed_data_dir \u001b[38;5;241m=\u001b[39m detect_folder_files_no_calcu(LLP_data_path)[\u001b[38;5;241m1\u001b[39m]\n",
      "File \u001b[0;32m~/Documents/University/LLP/Second_Term/pythia8/BtoKa/Code/position_read_analyse_1.3/loop.py:48\u001b[0m, in \u001b[0;36mloop_mass_ctau\u001b[0;34m(mass_lower_lim, mass_upper_lim, mass_array_length, ctau_lower_lim, ctau_upper_lim, ctau_array_length, br, seed_array_length, out_put_path, main41_path)\u001b[0m\n\u001b[1;32m     46\u001b[0m         \u001b[38;5;28;01mfor\u001b[39;00m taus \u001b[38;5;129;01min\u001b[39;00m np\u001b[38;5;241m.\u001b[39mlogspace(ctau_lower_lim, ctau_upper_lim, ctau_array_length):\n\u001b[1;32m     47\u001b[0m             \u001b[38;5;28;01mfor\u001b[39;00m mass \u001b[38;5;129;01min\u001b[39;00m np\u001b[38;5;241m.\u001b[39mlinspace(mass_lower_lim, mass_upper_lim, mass_array_length):\n\u001b[0;32m---> 48\u001b[0m                 out_path_name_LLP_data \u001b[38;5;241m=\u001b[39m \u001b[43mrun_save_main41_csv\u001b[49m\u001b[43m(\u001b[49m\u001b[43mmass\u001b[49m\u001b[43m,\u001b[49m\u001b[43m \u001b[49m\u001b[43mseed\u001b[49m\u001b[43m,\u001b[49m\u001b[43m \u001b[49m\u001b[43mbr\u001b[49m\u001b[43m,\u001b[49m\u001b[43m \u001b[49m\u001b[43mtaus\u001b[49m\u001b[43m,\u001b[49m\u001b[43m \u001b[49m\u001b[43mout_put_path\u001b[49m\u001b[43m,\u001b[49m\u001b[43m \u001b[49m\u001b[43mmain41_path\u001b[49m\u001b[43m)\u001b[49m[\u001b[38;5;241m0\u001b[39m]\n\u001b[1;32m     50\u001b[0m                 pbar\u001b[38;5;241m.\u001b[39mupdate(\u001b[38;5;241m1\u001b[39m)\n\u001b[1;32m     51\u001b[0m out_dir_name \u001b[38;5;241m=\u001b[39m os\u001b[38;5;241m.\u001b[39mpath\u001b[38;5;241m.\u001b[39mdirname(out_path_name_LLP_data)\n",
      "File \u001b[0;32m~/Documents/University/LLP/Second_Term/pythia8/BtoKa/Code/position_read_analyse_1.3/run_save.py:94\u001b[0m, in \u001b[0;36mrun_save_main41_csv\u001b[0;34m(m, seed, Br, tau, out_path, main_41_path)\u001b[0m\n\u001b[1;32m     92\u001b[0m filename \u001b[38;5;241m=\u001b[39m \u001b[38;5;124m\"\u001b[39m\u001b[38;5;124mfiltered_mass_\u001b[39m\u001b[38;5;124m\"\u001b[39m \u001b[38;5;241m+\u001b[39m mass \u001b[38;5;241m+\u001b[39m \u001b[38;5;124m\"\u001b[39m\u001b[38;5;124m_ctau_\u001b[39m\u001b[38;5;124m\"\u001b[39m \u001b[38;5;241m+\u001b[39m tau_str \u001b[38;5;241m+\u001b[39m \u001b[38;5;124m\"\u001b[39m\u001b[38;5;124m_br_\u001b[39m\u001b[38;5;124m\"\u001b[39m \u001b[38;5;241m+\u001b[39m Br_str \u001b[38;5;241m+\u001b[39m \u001b[38;5;124m\"\u001b[39m\u001b[38;5;124m_seed_\u001b[39m\u001b[38;5;124m\"\u001b[39m \u001b[38;5;241m+\u001b[39m random_seed \u001b[38;5;241m+\u001b[39m \u001b[38;5;124m\"\u001b[39m\u001b[38;5;124m.csv\u001b[39m\u001b[38;5;124m\"\u001b[39m\n\u001b[1;32m     93\u001b[0m \u001b[38;5;66;03m# get error if any\u001b[39;00m\n\u001b[0;32m---> 94\u001b[0m output, error \u001b[38;5;241m=\u001b[39m \u001b[43mprocess1\u001b[49m\u001b[38;5;241;43m.\u001b[39;49m\u001b[43mcommunicate\u001b[49m\u001b[43m(\u001b[49m\u001b[43m)\u001b[49m\n\u001b[1;32m     96\u001b[0m \u001b[38;5;66;03m# save to txt\u001b[39;00m\n\u001b[1;32m     97\u001b[0m out_path \u001b[38;5;241m=\u001b[39m out_dir\u001b[38;5;241m+\u001b[39mfilename\n",
      "File \u001b[0;32m/Library/Frameworks/Python.framework/Versions/3.10/lib/python3.10/subprocess.py:1141\u001b[0m, in \u001b[0;36mPopen.communicate\u001b[0;34m(self, input, timeout)\u001b[0m\n\u001b[1;32m   1139\u001b[0m     \u001b[38;5;28mself\u001b[39m\u001b[38;5;241m.\u001b[39m_stdin_write(\u001b[38;5;28minput\u001b[39m)\n\u001b[1;32m   1140\u001b[0m \u001b[38;5;28;01melif\u001b[39;00m \u001b[38;5;28mself\u001b[39m\u001b[38;5;241m.\u001b[39mstdout:\n\u001b[0;32m-> 1141\u001b[0m     stdout \u001b[38;5;241m=\u001b[39m \u001b[38;5;28;43mself\u001b[39;49m\u001b[38;5;241;43m.\u001b[39;49m\u001b[43mstdout\u001b[49m\u001b[38;5;241;43m.\u001b[39;49m\u001b[43mread\u001b[49m\u001b[43m(\u001b[49m\u001b[43m)\u001b[49m\n\u001b[1;32m   1142\u001b[0m     \u001b[38;5;28mself\u001b[39m\u001b[38;5;241m.\u001b[39mstdout\u001b[38;5;241m.\u001b[39mclose()\n\u001b[1;32m   1143\u001b[0m \u001b[38;5;28;01melif\u001b[39;00m \u001b[38;5;28mself\u001b[39m\u001b[38;5;241m.\u001b[39mstderr:\n",
      "\u001b[0;31mKeyboardInterrupt\u001b[0m: "
     ]
    }
   ],
   "source": [
    "all_dirs_mass_ctau = one_key_run_mass_ctau_simple_ver(mass_lower_lim, mass_upper_lim, mass_amount,\n",
    "                                           ctau_lowerlim, ctau_upperlim, ctau_amount, \n",
    "                                            br, seed_amount, out_path, main41_path)"
   ]
  },
  {
   "cell_type": "markdown",
   "metadata": {},
   "source": [
    "#### New Function info:\n",
    "\n",
    "The function\n",
    "```python\n",
    "    def one_key_run_mass_ctau_given_by_csv(csv_file, br, seed_amount, out_path, main41_path)\n",
    "```\n",
    "\n",
    "takes a ```.csv file``` as input instead of the range of ```mass``` and ```tau```.\n",
    "\n",
    "The function will read each line of ```.csv file``` to get ```mass``` and ```tau```, and put this set of data into pythia8. \n",
    "\n",
    "The rest is just the same."
   ]
  },
  {
   "cell_type": "code",
   "execution_count": 76,
   "metadata": {},
   "outputs": [
    {
     "name": "stderr",
     "output_type": "stream",
     "text": [
      "100%|██████████| 1515/1515 [5:37:39<00:00, 13.37s/it]  \n"
     ]
    },
    {
     "name": "stdout",
     "output_type": "stream",
     "text": [
      "The Generation of LLPs is Completed\n"
     ]
    },
    {
     "name": "stderr",
     "output_type": "stream",
     "text": [
      "100%|██████████| 3021/3021 [05:53<00:00,  8.55it/s]\n"
     ]
    },
    {
     "name": "stdout",
     "output_type": "stream",
     "text": [
      "The LLPs are Judged whether they are Detected or not\n"
     ]
    },
    {
     "name": "stderr",
     "output_type": "stream",
     "text": [
      "100%|██████████| 3021/3021 [00:56<00:00, 53.54it/s]"
     ]
    },
    {
     "name": "stdout",
     "output_type": "stream",
     "text": [
      "The Final Step is Over, See the .csv files for LLPs Completed Data\n"
     ]
    },
    {
     "name": "stderr",
     "output_type": "stream",
     "text": [
      "\n"
     ]
    }
   ],
   "source": [
    "csv_file = '/Users/shiyuzhe/Documents/University/LLP/Second_Term/pythia8/BtoKa/Code/position_read_analyse_1.3/test_m_0.5_theta.csv'\n",
    "test_for_mass_1 = one_key_run_mass_ctau_given_by_csv(csv_file, 1, seed_amount, out_path, main41_path)"
   ]
  },
  {
   "cell_type": "code",
   "execution_count": 29,
   "metadata": {},
   "outputs": [
    {
     "name": "stdout",
     "output_type": "stream",
     "text": [
      "('/Users/shiyuzhe/Documents/University/LLP/Second_Term/pythia8/BtoKa/Code/position_read_analyse_1.3/LLP_data_for_test/2024-10-15/LLP_data', '/Users/shiyuzhe/Documents/University/LLP/Second_Term/pythia8/BtoKa/Code/position_read_analyse_1.3/LLP_data_for_test/2024-10-15/Completed_llp_data_precise', ('/Users/shiyuzhe/Documents/University/LLP/Second_Term/pythia8/BtoKa/Code/position_read_analyse_1.3/LLP_data_for_test/all_combined_precise_file.csv', '/Users/shiyuzhe/Documents/University/LLP/Second_Term/pythia8/BtoKa/Code/position_read_analyse_1.3/LLP_data_for_test/detected_combined_precise_file.csv'))\n"
     ]
    }
   ],
   "source": [
    "print(all_dirs_mass_ctau)"
   ]
  },
  {
   "cell_type": "markdown",
   "metadata": {},
   "source": [
    "#### This function allows you to specify seed used in Pythia8 Simulation"
   ]
  },
  {
   "cell_type": "code",
   "execution_count": 25,
   "metadata": {},
   "outputs": [
    {
     "name": "stderr",
     "output_type": "stream",
     "text": [
      "100%|██████████| 4/4 [00:13<00:00,  3.26s/it]\n"
     ]
    },
    {
     "name": "stdout",
     "output_type": "stream",
     "text": [
      "The Generation of LLPs is Completed\n"
     ]
    },
    {
     "name": "stderr",
     "output_type": "stream",
     "text": [
      "100%|██████████| 2/2 [00:00<00:00,  7.48it/s]\n"
     ]
    },
    {
     "name": "stdout",
     "output_type": "stream",
     "text": [
      "The LLPs are Judged whether they are Detected or not\n"
     ]
    },
    {
     "name": "stderr",
     "output_type": "stream",
     "text": [
      "100%|██████████| 2/2 [00:00<00:00, 58.11it/s]"
     ]
    },
    {
     "name": "stdout",
     "output_type": "stream",
     "text": [
      "The Final Step is Over, See the .csv files for LLPs Completed Data\n"
     ]
    },
    {
     "name": "stderr",
     "output_type": "stream",
     "text": [
      "\n"
     ]
    }
   ],
   "source": [
    "all_dirs_certain_seed = one_key_run_br_ctau_certain_seed(br_lowerlim, br_upperlim, br_amount,\n",
    "                       ctau_lowerlim, ctau_upperlim, ctau_amount, \n",
    "                       mass, seed_array, out_path, main41_path)"
   ]
  },
  {
   "cell_type": "markdown",
   "metadata": {},
   "source": [
    "### The Detect Function\n",
    "\n",
    "Functions::::\n",
    "```python\n",
    "def detect_r_and_combine(LLP_data_path) \n",
    "\n",
    "def detect_precise_and_combine(LLP_data_path)\n",
    "```\n",
    "\n",
    "Are functions to combine '''.csv files''' and judge whether LLP can be detected by CODEX-b or not\n",
    "\n",
    "They will creat a ```.csv file``` at the dir of your LLP, which contains ALL DETECTED LLPS.\n",
    "\n",
    "The function::::\n",
    "```python \n",
    "def detect_r_and_combine(LLP_data_path)\n",
    "```\n",
    " is merely a test function. You can play with it to get more data, but DO NOT use it for real analyzation"
   ]
  },
  {
   "cell_type": "code",
   "execution_count": 72,
   "metadata": {},
   "outputs": [],
   "source": [
    "LLP_data_path = '/Users/shiyuzhe/Documents/University/LLP/Second_Term/pythia8/BtoKa/Code/position_read_analyse_1.3/LLP_data_for_test/2024-11-22/LLP_data/'\n",
    "detected_r = '/Users/shiyuzhe/Documents/University/LLP/Second_Term/pythia8/BtoKa/Code/position_read_analyse_1.3/LLP_data_for_test/2024-11-18_19/'"
   ]
  },
  {
   "cell_type": "code",
   "execution_count": 47,
   "metadata": {},
   "outputs": [
    {
     "name": "stderr",
     "output_type": "stream",
     "text": [
      "100%|██████████| 155/155 [00:19<00:00,  7.99it/s]\n"
     ]
    },
    {
     "name": "stdout",
     "output_type": "stream",
     "text": [
      "The LLPs are Judged whether they are Detected or not by r\n"
     ]
    },
    {
     "name": "stderr",
     "output_type": "stream",
     "text": [
      "100%|██████████| 155/155 [00:03<00:00, 48.83it/s]\n"
     ]
    },
    {
     "name": "stdout",
     "output_type": "stream",
     "text": [
      "The Final Step is Over, See the .csv files for LLPs Completed Data\n"
     ]
    },
    {
     "data": {
      "text/plain": [
       "('/Users/shiyuzhe/Documents/University/LLP/Second_Term/pythia8/BtoKa/Code/position_read_analyse_1.3/LLP_data_for_test/2024-11-19/Completed_llp_data',\n",
       " ('/Users/shiyuzhe/Documents/University/LLP/Second_Term/pythia8/BtoKa/Code/position_read_analyse_1.3/LLP_data_for_test/2024-11-19/2024-11-19_all_combined_r_file.csv',\n",
       "  '/Users/shiyuzhe/Documents/University/LLP/Second_Term/pythia8/BtoKa/Code/position_read_analyse_1.3/LLP_data_for_test/2024-11-19/2024-11-19_detected_combined_r_file.csv'))"
      ]
     },
     "execution_count": 47,
     "metadata": {},
     "output_type": "execute_result"
    }
   ],
   "source": [
    "detect_r_and_combine(LLP_data_path)"
   ]
  },
  {
   "cell_type": "code",
   "execution_count": 73,
   "metadata": {},
   "outputs": [
    {
     "name": "stderr",
     "output_type": "stream",
     "text": [
      "100%|██████████| 617/617 [01:12<00:00,  8.54it/s]\n"
     ]
    },
    {
     "name": "stdout",
     "output_type": "stream",
     "text": [
      "The LLPs are Judged whether they are Detected or not\n"
     ]
    },
    {
     "name": "stderr",
     "output_type": "stream",
     "text": [
      "100%|██████████| 617/617 [00:11<00:00, 54.53it/s]\n"
     ]
    },
    {
     "name": "stdout",
     "output_type": "stream",
     "text": [
      "The Final Step is Over, See the .csv files for LLPs Completed Data\n"
     ]
    },
    {
     "data": {
      "text/plain": [
       "('/Users/shiyuzhe/Documents/University/LLP/Second_Term/pythia8/BtoKa/Code/position_read_analyse_1.3/LLP_data_for_test/2024-11-22/Completed_llp_data_precise',\n",
       " ('/Users/shiyuzhe/Documents/University/LLP/Second_Term/pythia8/BtoKa/Code/position_read_analyse_1.3/LLP_data_for_test/2024-11-22/2024-11-23_all_combined_precise_file.csv',\n",
       "  '/Users/shiyuzhe/Documents/University/LLP/Second_Term/pythia8/BtoKa/Code/position_read_analyse_1.3/LLP_data_for_test/2024-11-22/2024-11-23_detected_combined_precise_file.csv'))"
      ]
     },
     "execution_count": 73,
     "metadata": {},
     "output_type": "execute_result"
    }
   ],
   "source": [
    "\n",
    "detect_percise_and_combine(LLP_data_path)\n"
   ]
  },
  {
   "cell_type": "markdown",
   "metadata": {},
   "source": [
    "### BELOW ARE TEST FUNCTIONS, THEY CAN FUNCTION, BUT WITH NO ACTUAL VALUE WHATSOEVER."
   ]
  },
  {
   "cell_type": "code",
   "execution_count": 7,
   "metadata": {},
   "outputs": [
    {
     "data": {
      "text/plain": [
       "(0, 0)"
      ]
     },
     "execution_count": 7,
     "metadata": {},
     "output_type": "execute_result"
    }
   ],
   "source": [
    "csv_file_name = '/Users/shiyuzhe/Documents/University/LLP/Second_Term/pythia8/BtoKa/Code/position_read_analyse_1.3/LLP_data_for_test/2024-11-14-1/2024-11-14_detected_combined_r_file.csv'\n",
    "\n",
    "see_ctau_2(csv_file_name)"
   ]
  },
  {
   "cell_type": "code",
   "execution_count": 7,
   "metadata": {},
   "outputs": [
    {
     "name": "stderr",
     "output_type": "stream",
     "text": [
      "100%|██████████| 48/48 [00:02<00:00, 23.03it/s]\n"
     ]
    },
    {
     "data": {
      "text/plain": [
       "('/Users/shiyuzhe/Documents/University/LLP/Second_Term/pythia8/BtoKa/Code/position_read_analyse_1.3/LLP_data_for_test/all_combined_precise_file.csv',\n",
       " '/Users/shiyuzhe/Documents/University/LLP/Second_Term/pythia8/BtoKa/Code/position_read_analyse_1.3/LLP_data_for_test/detected_combined_precise_file.csv')"
      ]
     },
     "execution_count": 7,
     "metadata": {},
     "output_type": "execute_result"
    }
   ],
   "source": [
    "# combine_files_precise(detected_r)"
   ]
  },
  {
   "cell_type": "code",
   "execution_count": 35,
   "metadata": {},
   "outputs": [
    {
     "name": "stderr",
     "output_type": "stream",
     "text": [
      "100%|██████████| 2/2 [00:00<00:00, 16.14it/s]\n"
     ]
    },
    {
     "data": {
      "text/plain": [
       "('/Users/shiyuzhe/Documents/University/LLP/Second_Term/pythia8/BtoKa/Code/position_read_analyse_1.3/LLP_data_for_test/2024-11-18_19/2024-11-19_all_combined_r_file.csv',\n",
       " '/Users/shiyuzhe/Documents/University/LLP/Second_Term/pythia8/BtoKa/Code/position_read_analyse_1.3/LLP_data_for_test/2024-11-18_19/2024-11-19_detected_combined_r_file.csv')"
      ]
     },
     "execution_count": 35,
     "metadata": {},
     "output_type": "execute_result"
    }
   ],
   "source": [
    "combine_files_precise_r(detected_r)"
   ]
  },
  {
   "cell_type": "code",
   "execution_count": 3,
   "metadata": {},
   "outputs": [],
   "source": [
    "# temp_1 = run_save_main41_csv(1 ,1234, 1e-9, 76, out_path, main41_path)\n",
    "# LLP_data_path = loop_ctau_br(-12, -8, 3, 1, 3, 3, 1, 1, out_path, main41_path)\n",
    "# print(LLP_data_path)\n",
    "# completed_data_dir = detect_folder_files(LLP_data_path)[1]\n",
    "# print(completed_data_dir)\n",
    "# final_files = combine_files_precise(completed_data_dir)"
   ]
  },
  {
   "cell_type": "code",
   "execution_count": 22,
   "metadata": {},
   "outputs": [
    {
     "name": "stderr",
     "output_type": "stream",
     "text": [
      "100%|██████████| 100/100 [10:51<00:00,  6.52s/it]\n"
     ]
    },
    {
     "name": "stdout",
     "output_type": "stream",
     "text": [
      "The Generation of LLPs is Completed\n"
     ]
    },
    {
     "name": "stderr",
     "output_type": "stream",
     "text": [
      "100%|██████████| 100/100 [00:03<00:00, 25.02it/s]\n"
     ]
    },
    {
     "name": "stdout",
     "output_type": "stream",
     "text": [
      "The LLPs are Judged whether they are Detected or not\n"
     ]
    },
    {
     "name": "stderr",
     "output_type": "stream",
     "text": [
      "100%|██████████| 100/100 [00:01<00:00, 50.51it/s]\n"
     ]
    },
    {
     "name": "stdout",
     "output_type": "stream",
     "text": [
      "The Final Step is Over, See the .csv files for LLPs Completed Data\n"
     ]
    }
   ],
   "source": [
    "all_dirs = one_key_run_br_ctau(br_lowerlim, br_upperlim, br_amount,\n",
    "                       ctau_lowerlim, ctau_upperlim, ctau_amount, \n",
    "                       mass, seed_amount, out_path, main41_path)"
   ]
  }
 ],
 "metadata": {
  "kernelspec": {
   "display_name": "Python 3",
   "language": "python",
   "name": "python3"
  },
  "language_info": {
   "codemirror_mode": {
    "name": "ipython",
    "version": 3
   },
   "file_extension": ".py",
   "mimetype": "text/x-python",
   "name": "python",
   "nbconvert_exporter": "python",
   "pygments_lexer": "ipython3",
   "version": "3.10.11"
  }
 },
 "nbformat": 4,
 "nbformat_minor": 2
}
